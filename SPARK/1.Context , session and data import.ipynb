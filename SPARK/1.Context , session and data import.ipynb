{
 "cells": [
  {
   "cell_type": "markdown",
   "metadata": {},
   "source": [
    "https://www.analyticsvidhya.com/blog/2016/10/spark-dataframe-and-operations/"
   ]
  },
  {
   "cell_type": "markdown",
   "metadata": {},
   "source": [
    "## Access to the shell"
   ]
  },
  {
   "cell_type": "code",
   "execution_count": 2,
   "metadata": {
    "scrolled": true
   },
   "outputs": [
    {
     "name": "stdout",
     "output_type": "stream",
     "text": [
      " Volume in drive C is Windows"
     ]
    },
    {
     "name": "stderr",
     "output_type": "stream",
     "text": [
      "File Not Found"
     ]
    },
    {
     "name": "stdout",
     "output_type": "stream",
     "text": [
      "\n",
      " Volume Serial Number is 4234-2518\n",
      "\n",
      " Directory of C:\\Users\\ANTHONY\\Desktop\\important ipynb codes\\SPARK\n",
      "\n",
      "\n",
      " Directory of C:\\Users\\ANTHONY\\Desktop\\important ipynb codes\\SPARK\n",
      "\n",
      "\n",
      " Directory of C:\\Users\\ANTHONY\\Desktop\\important ipynb codes\\SPARK\n",
      "\n",
      "\n",
      " Directory of C:\\Users\\ANTHONY\\Desktop\\important ipynb codes\\SPARK\n",
      "\n",
      "\n",
      " Directory of C:\\Users\\ANTHONY\\Desktop\\important ipynb codes\\SPARK\n",
      "\n",
      "\n",
      " Directory of C:\\Users\\ANTHONY\\Desktop\\important ipynb codes\\SPARK\n",
      "\n"
     ]
    },
    {
     "name": "stderr",
     "output_type": "stream",
     "text": [
      "\n"
     ]
    }
   ],
   "source": [
    "%ls       ######## listinf files in the directory"
   ]
  },
  {
   "cell_type": "code",
   "execution_count": 4,
   "metadata": {},
   "outputs": [
    {
     "data": {
      "text/plain": [
       "'C:\\\\Users\\\\ANTHONY\\\\Desktop\\\\important ipynb codes\\\\SPARK'"
      ]
     },
     "execution_count": 4,
     "metadata": {},
     "output_type": "execute_result"
    }
   ],
   "source": [
    "%pwd"
   ]
  },
  {
   "cell_type": "markdown",
   "metadata": {},
   "source": [
    "## INTSALLING SPARK"
   ]
  },
  {
   "cell_type": "code",
   "execution_count": null,
   "metadata": {},
   "outputs": [],
   "source": [
    "#################### to run it in colab. you need these codes #######################33\n",
    "!apt-get update\n",
    "!apt-get install openjdk-8-jdk-headless -qq > /dev/null\n",
    "!wget -q http://archive.apache.org/dist/spark/spark-2.3.1/spark-2.3.1-bin-hadoop2.7.tgz\n",
    "!tar xf spark-2.3.1-bin-hadoop2.7.tgz\n",
    "!pip install -q findspark"
   ]
  },
  {
   "cell_type": "code",
   "execution_count": null,
   "metadata": {},
   "outputs": [],
   "source": [
    "################33 this tooooo    ##################3\n",
    "import os\n",
    "os.environ[\"JAVA_HOME\"] = \"/usr/lib/jvm/java-8-openjdk-amd64\"\n",
    "os.environ[\"SPARK_HOME\"] = \"/content/spark-3.1.1-bin-hadoop2.7\""
   ]
  },
  {
   "cell_type": "markdown",
   "metadata": {},
   "source": [
    "To start working with Spark DataFrames, you first have to create a SparkSession object from your SparkContext. You can think of the SparkContext as your connection to the cluster and the SparkSession as your interface with that connection."
   ]
  },
  {
   "cell_type": "code",
   "execution_count": 7,
   "metadata": {},
   "outputs": [],
   "source": [
    "###############To start working with Spark DataFrames, you first have to create a SparkSession object from your SparkContext.\n",
    "#######You can think of the SparkContext as your connection to the cluster and the SparkSession as your interface with that connection.\n"
   ]
  },
  {
   "cell_type": "code",
   "execution_count": 5,
   "metadata": {},
   "outputs": [
    {
     "data": {
      "text/html": [
       "\n",
       "        <div>\n",
       "            <p><b>SparkContext</b></p>\n",
       "\n",
       "            <p><a href=\"http://LAPTOP-MI2531VA:4042\">Spark UI</a></p>\n",
       "\n",
       "            <dl>\n",
       "              <dt>Version</dt>\n",
       "                <dd><code>v3.1.1</code></dd>\n",
       "              <dt>Master</dt>\n",
       "                <dd><code>local[*]</code></dd>\n",
       "              <dt>AppName</dt>\n",
       "                <dd><code>pyspark-shell</code></dd>\n",
       "            </dl>\n",
       "        </div>\n",
       "        "
      ],
      "text/plain": [
       "<SparkContext master=local[*] appName=pyspark-shell>"
      ]
     },
     "execution_count": 5,
     "metadata": {},
     "output_type": "execute_result"
    }
   ],
   "source": [
    "\n",
    "\n",
    "import findspark\n",
    "findspark.init()\n",
    "from pyspark import SparkContext\n",
    "\n",
    "sc = SparkContext.getOrCreate()\n",
    "\n",
    "sc"
   ]
  },
  {
   "cell_type": "code",
   "execution_count": 6,
   "metadata": {},
   "outputs": [
    {
     "data": {
      "text/html": [
       "\n",
       "            <div>\n",
       "                <p><b>SparkSession - in-memory</b></p>\n",
       "                \n",
       "        <div>\n",
       "            <p><b>SparkContext</b></p>\n",
       "\n",
       "            <p><a href=\"http://LAPTOP-MI2531VA:4042\">Spark UI</a></p>\n",
       "\n",
       "            <dl>\n",
       "              <dt>Version</dt>\n",
       "                <dd><code>v3.1.1</code></dd>\n",
       "              <dt>Master</dt>\n",
       "                <dd><code>local[*]</code></dd>\n",
       "              <dt>AppName</dt>\n",
       "                <dd><code>pyspark-shell</code></dd>\n",
       "            </dl>\n",
       "        </div>\n",
       "        \n",
       "            </div>\n",
       "        "
      ],
      "text/plain": [
       "<pyspark.sql.session.SparkSession at 0x1f9287c5220>"
      ]
     },
     "execution_count": 6,
     "metadata": {},
     "output_type": "execute_result"
    }
   ],
   "source": [
    "import pyspark\n",
    "from pyspark.sql import SparkSession\n",
    "spark = SparkSession.builder.getOrCreate() \n",
    "spark"
   ]
  },
  {
   "cell_type": "markdown",
   "metadata": {},
   "source": [
    "## Downloading and preprocessing Chicago's Reported Crime Data\n"
   ]
  },
  {
   "cell_type": "code",
   "execution_count": null,
   "metadata": {},
   "outputs": [],
   "source": [
    "!wget https://data.cityofchicago.org/api/views/ijzp-q8t2/rows.csv?accessType=DOWNLOAD&bom=true&query=select+*    \n",
    "    \n",
    "    ########## to download data from web directly"
   ]
  },
  {
   "cell_type": "code",
   "execution_count": 8,
   "metadata": {
    "scrolled": true
   },
   "outputs": [
    {
     "name": "stdout",
     "output_type": "stream",
     "text": [
      " Volume in drive C is Windows\n",
      " Volume Serial Number is 4234-2518\n",
      "\n",
      " Directory of C:\\Users\\ANTHONY\\Desktop\\important ipynb codes\\SPARK\n",
      "\n",
      "11-05-2021  08:26 AM    <DIR>          .\n",
      "11-05-2021  08:26 AM    <DIR>          ..\n",
      "11-05-2021  08:24 AM    <DIR>          .ipynb_checkpoints\n",
      "11-05-2021  08:24 AM           298,886 1.Context , session and data import.ipynb\n",
      "11-05-2021  08:23 AM            99,151 2. Schemas_Columns_rows_groupby_sort_unique.ipynb\n",
      "03-04-2021  08:37 PM            23,185 3. Built_in_functions.ipynb\n",
      "05-04-2021  09:43 AM            84,261 3.Functions&date&joins.ipynb\n",
      "03-04-2021  09:23 AM             4,046 Download_data.ipynb\n",
      "03-04-2021  07:33 PM             2,294 FIRST_SAMPLE.ipynb\n",
      "05-05-2021  09:05 PM    <DIR>          New Folder\n",
      "19-08-2019  06:56 AM             5,699 police_station.csv\n",
      "05-04-2021  10:03 AM            22,987 RDD.ipynb\n",
      "02-04-2021  04:48 PM       171,057,223 reported-crimes.csv\n",
      "02-04-2021  04:48 PM       171,057,223 rows.csv@accessType=DOWNLOAD\n",
      "11-05-2021  08:23 AM             4,980 RUN THIS FIRST.ipynb\n",
      "02-06-2018  02:19 AM    <DIR>          spark-2.3.1-bin-hadoop2.7\n",
      "11-05-2021  08:24 AM        46,375,150 spark-2.3.1-bin-hadoop2.7.tgz\n",
      "11-05-2021  08:26 AM             5,170 Untitled.ipynb\n",
      "03-04-2021  12:53 PM             6,910 Working_with_columns.ipynb\n",
      "03-04-2021  09:00 PM             6,829 Working_with_dates.ipynb\n",
      "03-04-2021  01:31 PM             6,581 Working_with_rows.ipynb\n",
      "              16 File(s)    389,060,575 bytes\n",
      "               5 Dir(s)  171,365,552,128 bytes free\n"
     ]
    }
   ],
   "source": [
    "%ls"
   ]
  },
  {
   "cell_type": "code",
   "execution_count": 12,
   "metadata": {},
   "outputs": [
    {
     "name": "stderr",
     "output_type": "stream",
     "text": [
      "UsageError: Line magic function `%mv` not found.\n"
     ]
    }
   ],
   "source": [
    "############  rows.csv@accessType=DOWNLOAD  is the name of downloaded file... not easily accesible. So we rename it\n",
    "\n",
    "##############           mv is the shell command for renaming it   #############\n",
    "\n",
    "%mv rows.csv@accessType=DOWNLOAD reported-crimes.csv"
   ]
  },
  {
   "cell_type": "code",
   "execution_count": 10,
   "metadata": {},
   "outputs": [
    {
     "name": "stdout",
     "output_type": "stream",
     "text": [
      "+--------+-----------+-------------------+--------------------+----+------------+--------------------+--------------------+------+--------+----+--------+----+--------------+--------+------------+------------+----+--------------------+------------+-------------+--------------------+\n",
      "|      ID|Case Number|               Date|               Block|IUCR|Primary Type|         Description|Location Description|Arrest|Domestic|Beat|District|Ward|Community Area|FBI Code|X Coordinate|Y Coordinate|Year|          Updated On|    Latitude|    Longitude|            Location|\n",
      "+--------+-----------+-------------------+--------------------+----+------------+--------------------+--------------------+------+--------+----+--------+----+--------------+--------+------------+------------+----+--------------------+------------+-------------+--------------------+\n",
      "|10224738|   HY411648|2015-09-05 13:30:00|     043XX S WOOD ST|0486|     BATTERY|DOMESTIC BATTERY ...|           RESIDENCE| false|    true|0924|     009|  12|            61|     08B|     1165074|     1875917|2015|02/10/2018 03:50:...|41.815117282|-87.669999562|(41.815117282, -8...|\n",
      "|10224739|   HY411615|2015-09-04 11:30:00| 008XX N CENTRAL AVE|0870|       THEFT|      POCKET-PICKING|             CTA BUS| false|   false|1511|     015|  29|            25|      06|     1138875|     1904869|2015|02/10/2018 03:50:...|41.895080471|-87.765400451|(41.895080471, -8...|\n",
      "|11646166|   JC213529|2018-09-01 00:01:00|082XX S INGLESIDE...|0810|       THEFT|           OVER $500|           RESIDENCE| false|    true|0631|     006|   8|            44|      06|        null|        null|2018|04/06/2019 04:04:...|        null|         null|                null|\n",
      "|10224740|   HY411595|2015-09-05 12:45:00|   035XX W BARRY AVE|2023|   NARCOTICS|POSS: HEROIN(BRN/...|            SIDEWALK|  true|   false|1412|     014|  35|            21|      18|     1152037|     1920384|2015|02/10/2018 03:50:...|41.937405765|-87.716649687|(41.937405765, -8...|\n",
      "|10224741|   HY411610|2015-09-05 13:00:00| 0000X N LARAMIE AVE|0560|     ASSAULT|              SIMPLE|           APARTMENT| false|    true|1522|     015|  28|            25|     08A|     1141706|     1900086|2015|02/10/2018 03:50:...|41.881903443|-87.755121152|(41.881903443, -8...|\n",
      "+--------+-----------+-------------------+--------------------+----+------------+--------------------+--------------------+------+--------+----+--------+----+--------------+--------+------------+------------+----+--------------------+------------+-------------+--------------------+\n",
      "only showing top 5 rows\n",
      "\n",
      "None\n"
     ]
    }
   ],
   "source": [
    "from pyspark.sql.functions import to_timestamp,col,lit\n",
    "rc = spark.read.csv('rows.csv@accessType=DOWNLOAD',header=True).withColumn('Date',to_timestamp(col('Date'),'MM/dd/yyyy hh:mm:ss a')).filter(col('Date') <= lit('2018-11-11'))\n",
    "\n",
    "####################      only filtering till 2018       #######################\n",
    "\n",
    "print(rc.show(5))       #######3 to show in  a nice format we use show"
   ]
  },
  {
   "cell_type": "code",
   "execution_count": 13,
   "metadata": {},
   "outputs": [
    {
     "data": {
      "text/plain": [
       "DataFrame[ID: string, Case Number: string, Date: timestamp, Block: string, IUCR: string, Primary Type: string, Description: string, Location Description: string, Arrest: string, Domestic: string, Beat: string, District: string, Ward: string, Community Area: string, FBI Code: string, X Coordinate: string, Y Coordinate: string, Year: string, Updated On: string, Latitude: string, Longitude: string, Location: string]"
      ]
     },
     "execution_count": 13,
     "metadata": {},
     "output_type": "execute_result"
    }
   ],
   "source": [
    "rc.limit(5)          ######  show and limit are same"
   ]
  },
  {
   "cell_type": "code",
   "execution_count": 15,
   "metadata": {},
   "outputs": [
    {
     "name": "stdout",
     "output_type": "stream",
     "text": [
      "-RECORD 0------------------------------------\n",
      " ID                   | 10224738             \n",
      " Case Number          | HY411648             \n",
      " Date                 | 2015-09-05 13:30:00  \n",
      " Block                | 043XX S WOOD ST      \n",
      " IUCR                 | 0486                 \n",
      " Primary Type         | BATTERY              \n",
      " Description          | DOMESTIC BATTERY ... \n",
      " Location Description | RESIDENCE            \n",
      " Arrest               | false                \n",
      " Domestic             | true                 \n",
      " Beat                 | 0924                 \n",
      " District             | 009                  \n",
      " Ward                 | 12                   \n",
      " Community Area       | 61                   \n",
      " FBI Code             | 08B                  \n",
      " X Coordinate         | 1165074              \n",
      " Y Coordinate         | 1875917              \n",
      " Year                 | 2015                 \n",
      " Updated On           | 02/10/2018 03:50:... \n",
      " Latitude             | 41.815117282         \n",
      " Longitude            | -87.669999562        \n",
      " Location             | (41.815117282, -8... \n",
      "-RECORD 1------------------------------------\n",
      " ID                   | 10224739             \n",
      " Case Number          | HY411615             \n",
      " Date                 | 2015-09-04 11:30:00  \n",
      " Block                | 008XX N CENTRAL AVE  \n",
      " IUCR                 | 0870                 \n",
      " Primary Type         | THEFT                \n",
      " Description          | POCKET-PICKING       \n",
      " Location Description | CTA BUS              \n",
      " Arrest               | false                \n",
      " Domestic             | false                \n",
      " Beat                 | 1511                 \n",
      " District             | 015                  \n",
      " Ward                 | 29                   \n",
      " Community Area       | 25                   \n",
      " FBI Code             | 06                   \n",
      " X Coordinate         | 1138875              \n",
      " Y Coordinate         | 1904869              \n",
      " Year                 | 2015                 \n",
      " Updated On           | 02/10/2018 03:50:... \n",
      " Latitude             | 41.895080471         \n",
      " Longitude            | -87.765400451        \n",
      " Location             | (41.895080471, -8... \n",
      "-RECORD 2------------------------------------\n",
      " ID                   | 11646166             \n",
      " Case Number          | JC213529             \n",
      " Date                 | 2018-09-01 00:01:00  \n",
      " Block                | 082XX S INGLESIDE... \n",
      " IUCR                 | 0810                 \n",
      " Primary Type         | THEFT                \n",
      " Description          | OVER $500            \n",
      " Location Description | RESIDENCE            \n",
      " Arrest               | false                \n",
      " Domestic             | true                 \n",
      " Beat                 | 0631                 \n",
      " District             | 006                  \n",
      " Ward                 | 8                    \n",
      " Community Area       | 44                   \n",
      " FBI Code             | 06                   \n",
      " X Coordinate         | null                 \n",
      " Y Coordinate         | null                 \n",
      " Year                 | 2018                 \n",
      " Updated On           | 04/06/2019 04:04:... \n",
      " Latitude             | null                 \n",
      " Longitude            | null                 \n",
      " Location             | null                 \n",
      "-RECORD 3------------------------------------\n",
      " ID                   | 10224740             \n",
      " Case Number          | HY411595             \n",
      " Date                 | 2015-09-05 12:45:00  \n",
      " Block                | 035XX W BARRY AVE    \n",
      " IUCR                 | 2023                 \n",
      " Primary Type         | NARCOTICS            \n",
      " Description          | POSS: HEROIN(BRN/... \n",
      " Location Description | SIDEWALK             \n",
      " Arrest               | true                 \n",
      " Domestic             | false                \n",
      " Beat                 | 1412                 \n",
      " District             | 014                  \n",
      " Ward                 | 35                   \n",
      " Community Area       | 21                   \n",
      " FBI Code             | 18                   \n",
      " X Coordinate         | 1152037              \n",
      " Y Coordinate         | 1920384              \n",
      " Year                 | 2015                 \n",
      " Updated On           | 02/10/2018 03:50:... \n",
      " Latitude             | 41.937405765         \n",
      " Longitude            | -87.716649687        \n",
      " Location             | (41.937405765, -8... \n",
      "-RECORD 4------------------------------------\n",
      " ID                   | 10224741             \n",
      " Case Number          | HY411610             \n",
      " Date                 | 2015-09-05 13:00:00  \n",
      " Block                | 0000X N LARAMIE AVE  \n",
      " IUCR                 | 0560                 \n",
      " Primary Type         | ASSAULT              \n",
      " Description          | SIMPLE               \n",
      " Location Description | APARTMENT            \n",
      " Arrest               | false                \n",
      " Domestic             | true                 \n",
      " Beat                 | 1522                 \n",
      " District             | 015                  \n",
      " Ward                 | 28                   \n",
      " Community Area       | 25                   \n",
      " FBI Code             | 08A                  \n",
      " X Coordinate         | 1141706              \n",
      " Y Coordinate         | 1900086              \n",
      " Year                 | 2015                 \n",
      " Updated On           | 02/10/2018 03:50:... \n",
      " Latitude             | 41.881903443         \n",
      " Longitude            | -87.755121152        \n",
      " Location             | (41.881903443, -8... \n",
      "only showing top 5 rows\n",
      "\n"
     ]
    }
   ],
   "source": [
    "rc.show(n=5,truncate=True, vertical=True)         ###### we can use truncate to print like this"
   ]
  },
  {
   "cell_type": "code",
   "execution_count": 27,
   "metadata": {},
   "outputs": [
    {
     "data": {
      "text/html": [
       "<style>\n",
       "div.output_area pre {\n",
       "    white-space: pre;}\n",
       "</style>\n"
      ],
      "text/plain": [
       "<IPython.core.display.HTML object>"
      ]
     },
     "metadata": {},
     "output_type": "display_data"
    }
   ],
   "source": [
    "#############################################   use this code to get horizontal way   ####################################3\n",
    "\n",
    "%%html\n",
    "<style>\n",
    "div.output_area pre {\n",
    "    white-space: pre;}\n",
    "</style>"
   ]
  },
  {
   "cell_type": "code",
   "execution_count": 30,
   "metadata": {
    "scrolled": true
   },
   "outputs": [
    {
     "name": "stdout",
     "output_type": "stream",
     "text": [
      "+--------+-----------+-------------------+--------------------+----+------------------+--------------------+--------------------+------+--------+----+--------+----+--------------+--------+------------+------------+----+--------------------+------------+-------------+--------------------+\n",
      "|      ID|Case Number|               Date|               Block|IUCR|      Primary Type|         Description|Location Description|Arrest|Domestic|Beat|District|Ward|Community Area|FBI Code|X Coordinate|Y Coordinate|Year|          Updated On|    Latitude|    Longitude|            Location|\n",
      "+--------+-----------+-------------------+--------------------+----+------------------+--------------------+--------------------+------+--------+----+--------+----+--------------+--------+------------+------------+----+--------------------+------------+-------------+--------------------+\n",
      "|10224738|   HY411648|2015-09-05 13:30:00|     043XX S WOOD ST|0486|           BATTERY|DOMESTIC BATTERY ...|           RESIDENCE| false|    true|0924|     009|  12|            61|     08B|     1165074|     1875917|2015|02/10/2018 03:50:...|41.815117282|-87.669999562|(41.815117282, -8...|\n",
      "|10224739|   HY411615|2015-09-04 11:30:00| 008XX N CENTRAL AVE|0870|             THEFT|      POCKET-PICKING|             CTA BUS| false|   false|1511|     015|  29|            25|      06|     1138875|     1904869|2015|02/10/2018 03:50:...|41.895080471|-87.765400451|(41.895080471, -8...|\n",
      "|11646166|   JC213529|2018-09-01 00:01:00|082XX S INGLESIDE...|0810|             THEFT|           OVER $500|           RESIDENCE| false|    true|0631|     006|   8|            44|      06|        null|        null|2018|04/06/2019 04:04:...|        null|         null|                null|\n",
      "|10224740|   HY411595|2015-09-05 12:45:00|   035XX W BARRY AVE|2023|         NARCOTICS|POSS: HEROIN(BRN/...|            SIDEWALK|  true|   false|1412|     014|  35|            21|      18|     1152037|     1920384|2015|02/10/2018 03:50:...|41.937405765|-87.716649687|(41.937405765, -8...|\n",
      "|10224741|   HY411610|2015-09-05 13:00:00| 0000X N LARAMIE AVE|0560|           ASSAULT|              SIMPLE|           APARTMENT| false|    true|1522|     015|  28|            25|     08A|     1141706|     1900086|2015|02/10/2018 03:50:...|41.881903443|-87.755121152|(41.881903443, -8...|\n",
      "|10224742|   HY411435|2015-09-05 10:55:00| 082XX S LOOMIS BLVD|0610|          BURGLARY|      FORCIBLE ENTRY|           RESIDENCE| false|   false|0614|     006|  21|            71|      05|     1168430|     1850165|2015|02/10/2018 03:50:...|41.744378879|-87.658430635|(41.744378879, -8...|\n",
      "|10224743|   HY411629|2015-09-04 18:00:00|021XX W CHURCHILL ST|0620|          BURGLARY|      UNLAWFUL ENTRY|    RESIDENCE-GARAGE| false|   false|1434|     014|  32|            24|      05|     1161628|     1912157|2015|02/10/2018 03:50:...|41.914635603|-87.681630909|(41.914635603, -8...|\n",
      "|10224744|   HY411605|2015-09-05 13:00:00|   025XX W CERMAK RD|0860|             THEFT|        RETAIL THEFT|  GROCERY FOOD STORE|  true|   false|1034|     010|  25|            31|      06|     1159734|     1889313|2015|09/17/2015 11:37:...|41.851988885|-87.689219118|(41.851988885, -8...|\n",
      "|10224745|   HY411654|2015-09-05 11:30:00|031XX W WASHINGTO...|0320|           ROBBERY|STRONGARM - NO WE...|              STREET| false|    true|1222|     012|  27|            27|      03|     1155536|     1900515|2015|02/10/2018 03:50:...| 41.88281374|-87.704325717|(41.88281374, -87...|\n",
      "|11645836|   JC212333|2016-05-01 00:25:00| 055XX S ROCKWELL ST|1153|DECEPTIVE PRACTICE|FINANCIAL IDENTIT...|                null| false|   false|0824|     008|  15|            63|      11|        null|        null|2016|04/06/2019 04:04:...|        null|         null|                null|\n",
      "|10224746|   HY411662|2015-09-05 14:00:00|  071XX S PULASKI RD|0820|             THEFT|      $500 AND UNDER|PARKING LOT/GARAG...| false|   false|0833|     008|  13|            65|      06|     1150938|     1857056|2015|02/10/2018 03:50:...|41.763647552|-87.722344693|(41.763647552, -8...|\n",
      "|10224749|   HY411626|2015-09-05 11:00:00|052XX N MILWAUKEE...|0460|           BATTERY|              SIMPLE|  SMALL RETAIL STORE| false|   false|1623|     016|  45|            11|     08B|     1137969|     1934340|2015|02/10/2018 03:50:...|41.975968415|-87.768014257|(41.975968415, -8...|\n",
      "|10224750|   HY411632|2015-09-05 03:00:00|    0000X W 103RD ST|2820|     OTHER OFFENSE|    TELEPHONE THREAT|           APARTMENT| false|    true|0512|     005|  34|            49|      26|     1177871|     1836676|2015|02/10/2018 03:50:...|41.707154919|-87.624244993|(41.707154919, -8...|\n",
      "|10224751|   HY411566|2015-09-05 12:50:00|     013XX E 47TH ST|0486|           BATTERY|DOMESTIC BATTERY ...|              STREET| false|    true|0222|     002|   4|            39|     08B|     1185907|     1874105|2015|02/10/2018 03:50:...|41.809678314|-87.593638934|(41.809678314, -8...|\n",
      "|10224752|   HY411601|2015-09-03 13:00:00| 020XX W SCHILLER ST|0810|             THEFT|           OVER $500|              STREET| false|   false|1424|     014|   1|            24|      06|     1162574|     1909428|2015|02/10/2018 03:50:...|41.907127255|-87.678232016|(41.907127255, -8...|\n",
      "|10224753|   HY411489|2015-09-05 11:45:00|  080XX S JUSTINE ST|0497|           BATTERY|AGGRAVATED DOMEST...|           APARTMENT| false|   false|0612|     006|  21|            71|     04B|     1167400|     1851512|2015|02/10/2018 03:50:...|41.748097343|-87.662166183|(41.748097343, -8...|\n",
      "|10224754|   HY411656|2015-09-05 13:30:00|007XX N LEAMINGTO...|1320|   CRIMINAL DAMAGE|          TO VEHICLE|              STREET| false|   false|1531|     015|  28|            25|      14|     1141889|     1904448|2015|02/10/2018 03:50:...|41.893869916|-87.754341096|(41.893869916, -8...|\n",
      "|10224756|   HY410094|2015-07-08 00:00:00|103XX S TORRENCE AVE|0620|          BURGLARY|      UNLAWFUL ENTRY|               OTHER| false|   false|0434|     004|  10|            51|      05|     1195508|     1836950|2015|02/10/2018 03:50:...|41.707490122|-87.559650325|(41.707490122, -8...|\n",
      "|10224757|   HY411388|2015-09-05 09:55:00|  088XX S PAULINA ST|0610|          BURGLARY|      FORCIBLE ENTRY|           RESIDENCE|  true|   false|2221|     022|  21|            71|      05|     1166554|     1846067|2015|02/10/2018 03:50:...|41.733173536|-87.665421067|(41.733173536, -8...|\n",
      "|10224758|   HY411568|2015-09-05 12:35:00|    059XX W GRACE ST|0486|           BATTERY|DOMESTIC BATTERY ...|              STREET| false|    true|1633|     016|  38|            15|     08B|     1136014|     1924656|2015|02/10/2018 03:50:...|41.949429769|-87.775435529|(41.949429769, -8...|\n",
      "|10224759|   HY411581|2015-09-04 22:30:00|    100XX S AVENUE L|1320|   CRIMINAL DAMAGE|          TO VEHICLE|              STREET| false|   false|0432|     004|  10|            52|      14|     1201814|     1839027|2015|02/10/2018 03:50:...|41.713031786|-87.536487809|(41.713031786, -8...|\n",
      "|10224761|   HY411650|2015-09-02 00:01:00|049XX W WINNEMAC AVE|1310|   CRIMINAL DAMAGE|         TO PROPERTY|    RESIDENCE-GARAGE| false|   false|1623|     016|  45|            12|      14|     1142583|     1933126|2015|02/10/2018 03:50:...|41.972552295|-87.751076926|(41.972552295, -8...|\n",
      "|10224762|   HY411563|2015-09-04 15:00:00|    100XX S AVENUE L|1320|   CRIMINAL DAMAGE|          TO VEHICLE|              STREET| false|   false|0432|     004|  10|            52|      14|     1201814|     1839027|2015|02/10/2018 03:50:...|41.713031786|-87.536487809|(41.713031786, -8...|\n",
      "|10224763|   HY411606|2015-09-05 13:45:00|     020XX E 71ST ST|0320|           ROBBERY|STRONGARM - NO WE...|            SIDEWALK| false|   false|0331|     003|   5|            43|      03|     1190856|     1858321|2015|02/10/2018 03:50:...|41.766247597|-87.575997062|(41.766247597, -8...|\n",
      "|10224764|   HY411550|2015-09-03 21:00:00|    100XX S AVENUE L|1320|   CRIMINAL DAMAGE|          TO VEHICLE|              STREET| false|   false|0432|     004|  10|            52|      14|     1201814|     1839062|2015|02/10/2018 03:50:...|41.713127829|-87.536486623|(41.713127829, -8...|\n",
      "|10224765|   HY411328|2015-09-05 08:45:00|077XX S SOUTH SHO...|0560|           ASSAULT|              SIMPLE|           APARTMENT| false|    true|0421|     004|   7|            43|     08A|     1197240|     1854764|2015|02/10/2018 03:50:...|41.756330319|-87.552716204|(41.756330319, -8...|\n",
      "|10224766|   HY411198|2015-09-05 06:20:00|075XX S PHILLIPS AVE|0486|           BATTERY|DOMESTIC BATTERY ...|           APARTMENT| false|    true|0421|     004|   7|            43|     08B|     1193840|     1855495|2015|02/10/2018 03:50:...|41.758420222|-87.565152335|(41.758420222, -8...|\n",
      "|10224767|   HY410417|2015-09-04 16:15:00| 079XX S SAGINAW AVE|031A|           ROBBERY|      ARMED: HANDGUN|            SIDEWALK| false|   false|0422|     004|   7|            46|      03|     1195224|     1852934|2015|02/10/2018 03:50:...| 41.75135862|-87.560164545|(41.75135862, -87...|\n",
      "|10224768|   HY410651|2015-09-03 20:30:00|078XX S ESCANABA AVE|0810|             THEFT|           OVER $500|VEHICLE NON-COMME...| false|   false|0421|     004|   7|            43|      06|     1196887|     1853400|2015|02/10/2018 03:50:...|41.752596188|-87.554055126|(41.752596188, -8...|\n",
      "|10224769|   HY411672|2015-09-05 14:30:00|    005XX S STATE ST|0890|             THEFT|       FROM BUILDING|          RESTAURANT| false|   false|0123|     001|   2|            32|      06|     1176446|     1897964|2015|02/10/2018 03:50:...|41.875367424|-87.627620993|(41.875367424, -8...|\n",
      "|10224770|   HY411586|2015-09-05 12:40:00|     005XX W 61ST PL|0430|           BATTERY|AGGRAVATED: OTHER...|RESIDENCE PORCH/H...|  true|   false|0711|     007|  20|            68|     04B|     1173653|     1864134|2015|02/10/2018 03:50:...|41.782597483|-87.638879769|(41.782597483, -8...|\n",
      "|10224772|   HY411681|2015-09-04 23:00:00| 011XX N ASHLAND AVE|0810|             THEFT|           OVER $500|              STREET| false|   false|1213|     012|   1|            24|      06|     1165522|     1907528|2015|02/10/2018 03:50:...|41.901851233|-87.667456951|(41.901851233, -8...|\n",
      "|10224773|   HY411685|2015-09-05 07:00:00|   029XX W FIFTH AVE|0620|          BURGLARY|      UNLAWFUL ENTRY|           APARTMENT| false|   false|1124|     011|   2|            27|      05|     1156926|     1899592|2015|02/10/2018 03:50:...|41.880252868| -87.69924661|(41.880252868, -8...|\n",
      "|10224775|   HY411666|2015-09-05 09:00:00| 068XX S KEATING AVE|2825|     OTHER OFFENSE|HARASSMENT BY TEL...|           RESIDENCE| false|    true|0833|     008|  13|            65|      26|     1146015|     1859113|2015|09/17/2015 11:37:...|41.769386857|-87.740336842|(41.769386857, -8...|\n",
      "|10224776|   HY411687|2015-09-05 14:45:00|  071XX S PULASKI RD|0810|             THEFT|           OVER $500|PARKING LOT/GARAG...| false|   false|0833|     008|  13|            65|      06|     1150938|     1857056|2015|02/10/2018 03:50:...|41.763647552|-87.722344693|(41.763647552, -8...|\n",
      "|10224778|   HY411675|2015-09-05 14:44:00|  047XX N KEELER AVE|0560|           ASSAULT|              SIMPLE|            SIDEWALK|  true|   false|1722|     017|  39|            14|     08A|     1147525|     1931300|2015|02/10/2018 03:50:...|41.967448012|-87.732951137|(41.967448012, -8...|\n",
      "|10224779|   HY411651|2015-09-02 12:00:00|076XX S PHILLIPS AVE|5002|     OTHER OFFENSE|OTHER VEHICLE OFF...|VEHICLE NON-COMME...| false|    true|0421|     004|   7|            43|      26|     1193859|     1854719|2015|02/10/2018 03:50:...|41.756290353|-87.565108099|(41.756290353, -8...|\n",
      "|10224780|   HY411660|2015-09-05 14:30:00| 016XX S HARDING AVE|4625|     OTHER OFFENSE|    PAROLE VIOLATION|            SIDEWALK|  true|   false|1014|     010|  24|            29|      26|     1150326|     1891507|2015|02/10/2018 03:50:...|41.858197949|-87.723692079|(41.858197949, -8...|\n",
      "|10224781|   HY411499|2015-09-05 11:20:00|026XX W HOLLYWOOD...|0320|           ROBBERY|STRONGARM - NO WE...|              STREET| false|   false|2011|     020|  40|             2|      03|     1157555|     1937753|2015|02/10/2018 03:50:...|41.984956576| -87.69589518|(41.984956576, -8...|\n",
      "|10224782|   HY411661|2015-09-05 14:35:00|   068XX S PERRY AVE|1811|         NARCOTICS|POSS: CANNABIS 30...|               ALLEY|  true|   false|0722|     007|   6|            69|      18|     1176575|     1859730|2015|02/10/2018 03:50:...|41.770447177|-87.628299291|(41.770447177, -8...|\n",
      "|10224783|   HY411679|2015-09-05 14:40:00|  041XX W CRYSTAL ST|141C| WEAPONS VIOLATION|UNLAWFUL USE OTHE...|            SIDEWALK|  true|   false|2534|     025|  37|            23|      15|     1148654|     1908016|2015|02/10/2018 03:50:...|41.903532921|-87.729402988|(41.903532921, -8...|\n",
      "|10224784|   HY411422|2015-09-04 19:30:00|004XX W MARQUETTE RD|0810|             THEFT|           OVER $500|               OTHER| false|   false|0722|     007|   6|            68|      06|     1174441|     1860502|2015|02/10/2018 03:50:...|41.772613371|-87.636098706|(41.772613371, -8...|\n",
      "|10224786|   HY411514|2015-09-05 12:04:00|062XX S PRINCETON...|1310|   CRIMINAL DAMAGE|         TO PROPERTY|              STREET| false|   false|0711|     007|  20|            68|      14|     1175356|     1863632|2015|02/10/2018 03:50:...|41.781182029|-87.632651097|(41.781182029, -8...|\n",
      "|10224787|   HY410733|2015-09-04 20:20:00|060XX S CARPENTER ST|0486|           BATTERY|DOMESTIC BATTERY ...|RESIDENCE PORCH/H...| false|   false|0712|     007|  16|            68|     08B|     1170346|     1864847|2015|02/10/2018 03:50:...| 41.78462669|-87.650983434|(41.78462669, -87...|\n",
      "|10224788|   HY410899|2014-03-27 00:01:00|035XX S MICHIGAN AVE|5111|     OTHER OFFENSE|GUN OFFENDER: ANN...|POLICE FACILITY/V...|  true|   false|0213|     002|   3|            35|      26|     1177772|     1881665|2014|02/10/2018 03:50:...|41.830611847|-87.623247369|(41.830611847, -8...|\n",
      "|10224789|   HY411717|2015-09-05 15:12:00|   052XX W QUINCY ST|1460| WEAPONS VIOLATION|POSS FIREARM/AMMO...|              STREET|  true|   false|1522|     015|  29|            25|      15|     1141442|     1898499|2015|02/10/2018 03:50:...|41.877553391|-87.756129762|(41.877553391, -8...|\n",
      "|10224790|   HY411713|2015-09-01 09:00:00| 0000X W ILLINOIS ST|1122|DECEPTIVE PRACTICE|   COUNTERFEIT CHECK|          RESTAURANT| false|   false|1831|     018|  42|             8|      10|     1176121|     1903605|2015|02/10/2018 03:50:...|41.890853973|-87.628644182|(41.890853973, -8...|\n",
      "|10224791|   HY411719|2015-09-05 15:28:00|    064XX S GREEN ST|0486|           BATTERY|DOMESTIC BATTERY ...|           APARTMENT|  true|    true|0723|     007|  16|            68|     08B|     1171743|     1862151|2015|02/10/2018 03:50:...|41.777198018|-87.645940487|(41.777198018, -8...|\n",
      "|10224792|   HY411709|2015-09-05 15:20:00| 030XX W FLOURNOY ST|2014|         NARCOTICS|MANU/DELIVER: HER...|            SIDEWALK|  true|   false|1134|     011|  28|            27|      18|     1156237|     1896878|2015|02/10/2018 03:50:...| 41.87281932|-87.701849872|(41.87281932, -87...|\n",
      "|10224794|   HY411721|2015-09-05 15:44:00|  074XX S WABASH AVE|143B| WEAPONS VIOLATION|UNLAWFUL POSS OTH...|           RESIDENCE| false|   false|0323|     003|   6|            69|      15|     1178006|     1855786|2015|02/10/2018 03:50:...|41.759592098|-87.623173211|(41.759592098, -8...|\n",
      "+--------+-----------+-------------------+--------------------+----+------------------+--------------------+--------------------+------+--------+----+--------+----+--------------+--------+------------+------------+----+--------------------+------------+-------------+--------------------+\n",
      "only showing top 50 rows\n",
      "\n"
     ]
    }
   ],
   "source": [
    "rc.show(50)"
   ]
  },
  {
   "cell_type": "code",
   "execution_count": null,
   "metadata": {},
   "outputs": [],
   "source": []
  }
 ],
 "metadata": {
  "kernelspec": {
   "display_name": "Python 3",
   "language": "python",
   "name": "python3"
  },
  "language_info": {
   "codemirror_mode": {
    "name": "ipython",
    "version": 3
   },
   "file_extension": ".py",
   "mimetype": "text/x-python",
   "name": "python",
   "nbconvert_exporter": "python",
   "pygments_lexer": "ipython3",
   "version": "3.8.5"
  }
 },
 "nbformat": 4,
 "nbformat_minor": 4
}
