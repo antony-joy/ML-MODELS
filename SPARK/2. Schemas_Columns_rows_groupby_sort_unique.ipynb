{
 "cells": [
  {
   "cell_type": "code",
   "execution_count": 3,
   "metadata": {},
   "outputs": [
    {
     "data": {
      "text/html": [
       "\n",
       "        <div>\n",
       "            <p><b>SparkContext</b></p>\n",
       "\n",
       "            <p><a href=\"http://LAPTOP-MI2531VA:4041\">Spark UI</a></p>\n",
       "\n",
       "            <dl>\n",
       "              <dt>Version</dt>\n",
       "                <dd><code>v3.1.1</code></dd>\n",
       "              <dt>Master</dt>\n",
       "                <dd><code>local[*]</code></dd>\n",
       "              <dt>AppName</dt>\n",
       "                <dd><code>pyspark-shell</code></dd>\n",
       "            </dl>\n",
       "        </div>\n",
       "        "
      ],
      "text/plain": [
       "<SparkContext master=local[*] appName=pyspark-shell>"
      ]
     },
     "execution_count": 3,
     "metadata": {},
     "output_type": "execute_result"
    }
   ],
   "source": [
    "###############To start working with Spark DataFrames, you first have to create a SparkSession object from your SparkContext.\n",
    "\n",
    "\n",
    "#######You can think of the SparkContext as your connection to the cluster and the SparkSession as your interface with that connection.\n",
    "\n",
    "\n",
    "import findspark\n",
    "findspark.init()\n",
    "from pyspark import SparkContext\n",
    "\n",
    "sc = SparkContext.getOrCreate()\n",
    "sc\n"
   ]
  },
  {
   "cell_type": "code",
   "execution_count": 4,
   "metadata": {},
   "outputs": [
    {
     "data": {
      "text/html": [
       "\n",
       "            <div>\n",
       "                <p><b>SparkSession - in-memory</b></p>\n",
       "                \n",
       "        <div>\n",
       "            <p><b>SparkContext</b></p>\n",
       "\n",
       "            <p><a href=\"http://LAPTOP-MI2531VA:4041\">Spark UI</a></p>\n",
       "\n",
       "            <dl>\n",
       "              <dt>Version</dt>\n",
       "                <dd><code>v3.1.1</code></dd>\n",
       "              <dt>Master</dt>\n",
       "                <dd><code>local[*]</code></dd>\n",
       "              <dt>AppName</dt>\n",
       "                <dd><code>pyspark-shell</code></dd>\n",
       "            </dl>\n",
       "        </div>\n",
       "        \n",
       "            </div>\n",
       "        "
      ],
      "text/plain": [
       "<pyspark.sql.session.SparkSession at 0x1fde1305370>"
      ]
     },
     "execution_count": 4,
     "metadata": {},
     "output_type": "execute_result"
    }
   ],
   "source": [
    "import pyspark\n",
    "from pyspark.sql import SparkSession\n",
    "spark = SparkSession.builder.getOrCreate() \n",
    "spark"
   ]
  },
  {
   "cell_type": "markdown",
   "metadata": {},
   "source": [
    "### SCHEMAS"
   ]
  },
  {
   "cell_type": "code",
   "execution_count": 5,
   "metadata": {
    "scrolled": true
   },
   "outputs": [
    {
     "name": "stdout",
     "output_type": "stream",
     "text": [
      "+--------+-----------+-------------------+--------------------+----+------------+--------------------+--------------------+------+--------+----+--------+----+--------------+--------+------------+------------+----+--------------------+------------+-------------+--------------------+\n",
      "|      ID|Case Number|               Date|               Block|IUCR|Primary Type|         Description|Location Description|Arrest|Domestic|Beat|District|Ward|Community Area|FBI Code|X Coordinate|Y Coordinate|Year|          Updated On|    Latitude|    Longitude|            Location|\n",
      "+--------+-----------+-------------------+--------------------+----+------------+--------------------+--------------------+------+--------+----+--------+----+--------------+--------+------------+------------+----+--------------------+------------+-------------+--------------------+\n",
      "|10224738|   HY411648|2015-09-05 13:30:00|     043XX S WOOD ST|0486|     BATTERY|DOMESTIC BATTERY ...|           RESIDENCE| false|    true|0924|     009|  12|            61|     08B|     1165074|     1875917|2015|02/10/2018 03:50:...|41.815117282|-87.669999562|(41.815117282, -8...|\n",
      "|10224739|   HY411615|2015-09-04 11:30:00| 008XX N CENTRAL AVE|0870|       THEFT|      POCKET-PICKING|             CTA BUS| false|   false|1511|     015|  29|            25|      06|     1138875|     1904869|2015|02/10/2018 03:50:...|41.895080471|-87.765400451|(41.895080471, -8...|\n",
      "|11646166|   JC213529|2018-09-01 00:01:00|082XX S INGLESIDE...|0810|       THEFT|           OVER $500|           RESIDENCE| false|    true|0631|     006|   8|            44|      06|        null|        null|2018|04/06/2019 04:04:...|        null|         null|                null|\n",
      "|10224740|   HY411595|2015-09-05 12:45:00|   035XX W BARRY AVE|2023|   NARCOTICS|POSS: HEROIN(BRN/...|            SIDEWALK|  true|   false|1412|     014|  35|            21|      18|     1152037|     1920384|2015|02/10/2018 03:50:...|41.937405765|-87.716649687|(41.937405765, -8...|\n",
      "|10224741|   HY411610|2015-09-05 13:00:00| 0000X N LARAMIE AVE|0560|     ASSAULT|              SIMPLE|           APARTMENT| false|    true|1522|     015|  28|            25|     08A|     1141706|     1900086|2015|02/10/2018 03:50:...|41.881903443|-87.755121152|(41.881903443, -8...|\n",
      "+--------+-----------+-------------------+--------------------+----+------------+--------------------+--------------------+------+--------+----+--------+----+--------------+--------+------------+------------+----+--------------------+------------+-------------+--------------------+\n",
      "only showing top 5 rows\n",
      "\n",
      "None\n"
     ]
    }
   ],
   "source": [
    "from pyspark.sql.functions import to_timestamp,col,lit\n",
    "rc = spark.read.csv('rows.csv@accessType=DOWNLOAD',header=True).withColumn('Date',to_timestamp(col('Date'),'MM/dd/yyyy hh:mm:ss a')).filter(col('Date') <= lit('2018-11-11'))\n",
    "\n",
    "####################      only filtering till 2018       #######################\n",
    "\n",
    "print(rc.show(5))"
   ]
  },
  {
   "cell_type": "code",
   "execution_count": 5,
   "metadata": {},
   "outputs": [
    {
     "name": "stdout",
     "output_type": "stream",
     "text": [
      "+--------+-----------+-------------------+--------------------+----+------------+--------------------+--------------------+------+--------+----+--------+----+--------------+--------+------------+------------+----+--------------------+------------+-------------+--------------------+\n",
      "|      ID|Case Number|               Date|               Block|IUCR|Primary Type|         Description|Location Description|Arrest|Domestic|Beat|District|Ward|Community Area|FBI Code|X Coordinate|Y Coordinate|Year|          Updated On|    Latitude|    Longitude|            Location|\n",
      "+--------+-----------+-------------------+--------------------+----+------------+--------------------+--------------------+------+--------+----+--------+----+--------------+--------+------------+------------+----+--------------------+------------+-------------+--------------------+\n",
      "|10224738|   HY411648|2015-09-05 13:30:00|     043XX S WOOD ST|0486|     BATTERY|DOMESTIC BATTERY ...|           RESIDENCE| false|    true|0924|     009|  12|            61|     08B|     1165074|     1875917|2015|02/10/2018 03:50:...|41.815117282|-87.669999562|(41.815117282, -8...|\n",
      "|10224739|   HY411615|2015-09-04 11:30:00| 008XX N CENTRAL AVE|0870|       THEFT|      POCKET-PICKING|             CTA BUS| false|   false|1511|     015|  29|            25|      06|     1138875|     1904869|2015|02/10/2018 03:50:...|41.895080471|-87.765400451|(41.895080471, -8...|\n",
      "|11646166|   JC213529|2018-09-01 00:01:00|082XX S INGLESIDE...|0810|       THEFT|           OVER $500|           RESIDENCE| false|    true|0631|     006|   8|            44|      06|        null|        null|2018|04/06/2019 04:04:...|        null|         null|                null|\n",
      "|10224740|   HY411595|2015-09-05 12:45:00|   035XX W BARRY AVE|2023|   NARCOTICS|POSS: HEROIN(BRN/...|            SIDEWALK|  true|   false|1412|     014|  35|            21|      18|     1152037|     1920384|2015|02/10/2018 03:50:...|41.937405765|-87.716649687|(41.937405765, -8...|\n",
      "|10224741|   HY411610|2015-09-05 13:00:00| 0000X N LARAMIE AVE|0560|     ASSAULT|              SIMPLE|           APARTMENT| false|    true|1522|     015|  28|            25|     08A|     1141706|     1900086|2015|02/10/2018 03:50:...|41.881903443|-87.755121152|(41.881903443, -8...|\n",
      "+--------+-----------+-------------------+--------------------+----+------------+--------------------+--------------------+------+--------+----+--------+----+--------------+--------+------------+------------+----+--------------------+------------+-------------+--------------------+\n",
      "only showing top 5 rows\n",
      "\n"
     ]
    }
   ],
   "source": [
    "rc.show(5,truncate= True)"
   ]
  },
  {
   "cell_type": "markdown",
   "metadata": {},
   "source": [
    "### SCHEMAS"
   ]
  },
  {
   "cell_type": "markdown",
   "metadata": {},
   "source": [
    "Spark Schemas\n",
    "A primary function of data cleaning is to verify all data is in the expected format. Spark provides a built-in ability to validate datasets with schemas. You may have used schemas before with databases or XML; Spark is similar. A schema defines and validates the number and types of columns for a given DataFrame. A schema can contain many different types of fields - integers, floats, dates, strings, and even arrays or mapping structures. A defined schema allows Spark to filter out data that doesn't conform during read, ensuring expected correctness."
   ]
  },
  {
   "cell_type": "code",
   "execution_count": 6,
   "metadata": {
    "scrolled": true
   },
   "outputs": [
    {
     "name": "stdout",
     "output_type": "stream",
     "text": [
      "root\n",
      " |-- ID: string (nullable = true)\n",
      " |-- Case Number: string (nullable = true)\n",
      " |-- Date: timestamp (nullable = true)\n",
      " |-- Block: string (nullable = true)\n",
      " |-- IUCR: string (nullable = true)\n",
      " |-- Primary Type: string (nullable = true)\n",
      " |-- Description: string (nullable = true)\n",
      " |-- Location Description: string (nullable = true)\n",
      " |-- Arrest: string (nullable = true)\n",
      " |-- Domestic: string (nullable = true)\n",
      " |-- Beat: string (nullable = true)\n",
      " |-- District: string (nullable = true)\n",
      " |-- Ward: string (nullable = true)\n",
      " |-- Community Area: string (nullable = true)\n",
      " |-- FBI Code: string (nullable = true)\n",
      " |-- X Coordinate: string (nullable = true)\n",
      " |-- Y Coordinate: string (nullable = true)\n",
      " |-- Year: string (nullable = true)\n",
      " |-- Updated On: string (nullable = true)\n",
      " |-- Latitude: string (nullable = true)\n",
      " |-- Longitude: string (nullable = true)\n",
      " |-- Location: string (nullable = true)\n",
      "\n"
     ]
    }
   ],
   "source": [
    "rc.printSchema()    ##############3   shows the  coluymn and types ...ie current schema"
   ]
  },
  {
   "cell_type": "code",
   "execution_count": 7,
   "metadata": {
    "scrolled": true
   },
   "outputs": [
    {
     "data": {
      "text/plain": [
       "[('ID', 'string'),\n",
       " ('Case Number', 'string'),\n",
       " ('Date', 'timestamp'),\n",
       " ('Block', 'string'),\n",
       " ('IUCR', 'string'),\n",
       " ('Primary Type', 'string'),\n",
       " ('Description', 'string'),\n",
       " ('Location Description', 'string'),\n",
       " ('Arrest', 'string'),\n",
       " ('Domestic', 'string'),\n",
       " ('Beat', 'string'),\n",
       " ('District', 'string'),\n",
       " ('Ward', 'string'),\n",
       " ('Community Area', 'string'),\n",
       " ('FBI Code', 'string'),\n",
       " ('X Coordinate', 'string'),\n",
       " ('Y Coordinate', 'string'),\n",
       " ('Year', 'string'),\n",
       " ('Updated On', 'string'),\n",
       " ('Latitude', 'string'),\n",
       " ('Longitude', 'string'),\n",
       " ('Location', 'string')]"
      ]
     },
     "execution_count": 7,
     "metadata": {},
     "output_type": "execute_result"
    }
   ],
   "source": [
    "rc.dtypes   ##############3   shows the  coluymn and types"
   ]
  },
  {
   "cell_type": "code",
   "execution_count": null,
   "metadata": {},
   "outputs": [],
   "source": [
    "#################\n",
    "\n",
    "\n",
    "############# EXCIPLTY DEFINING SCHEMA IS RECOMMENDED\n",
    "\n",
    "#########  import different types from pyspark.sql.types\n",
    "\n",
    "##########   from pyspark.sql.types import *  is good "
   ]
  },
  {
   "cell_type": "code",
   "execution_count": 8,
   "metadata": {},
   "outputs": [],
   "source": [
    "from pyspark.sql.types import StructType,StructField,IntegerType,StringType,TimestampType,BooleanType,DoubleType"
   ]
  },
  {
   "cell_type": "code",
   "execution_count": 9,
   "metadata": {
    "scrolled": true
   },
   "outputs": [
    {
     "data": {
      "text/plain": [
       "['ID',\n",
       " 'Case Number',\n",
       " 'Date',\n",
       " 'Block',\n",
       " 'IUCR',\n",
       " 'Primary Type',\n",
       " 'Description',\n",
       " 'Location Description',\n",
       " 'Arrest',\n",
       " 'Domestic',\n",
       " 'Beat',\n",
       " 'District',\n",
       " 'Ward',\n",
       " 'Community Area',\n",
       " 'FBI Code',\n",
       " 'X Coordinate',\n",
       " 'Y Coordinate',\n",
       " 'Year',\n",
       " 'Updated On',\n",
       " 'Latitude',\n",
       " 'Longitude',\n",
       " 'Location']"
      ]
     },
     "execution_count": 9,
     "metadata": {},
     "output_type": "execute_result"
    }
   ],
   "source": [
    "rc.columns"
   ]
  },
  {
   "cell_type": "code",
   "execution_count": null,
   "metadata": {},
   "outputs": [],
   "source": [
    "# Define a new schema using the StructType method\n",
    "# Define a StructField for each field,, HERE FASLE MEANS CANT HAVE NULL VALUES\n",
    "people_schema = StructType([\n",
    "  \n",
    "  StructField('ID', StringType(), False),\n",
    "  StructField('Case Number', StringTypeType(), False),\n",
    "  StructField('Date', TimestampType(), False)\n",
    "  StructField( 'Block',\n",
    " 'IUCR',\n",
    " 'Primary Type',\n",
    " 'Description',\n",
    " 'Location Description',\n",
    " 'Arrest',\n",
    " 'Domestic',\n",
    " 'Beat',\n",
    " 'District',\n",
    " 'Ward',\n",
    " 'Community Area',\n",
    " 'FBI Code',\n",
    " 'X Coordinate',\n",
    " 'Y Coordinate',\n",
    " 'Year',\n",
    " 'Updated On',\n",
    " 'Latitude',\n",
    " 'Longitude',\n",
    " 'Location']\n",
    "              \n",
    "##########3 this is pretty tiring ... so we sue tuples"
   ]
  },
  {
   "cell_type": "code",
   "execution_count": 24,
   "metadata": {},
   "outputs": [],
   "source": [
    "###############################  THIS IS BETTER  #################################33333\n",
    "labels=[\n",
    " ('ID',StringType()),\n",
    " ('Case Number',StringType()),\n",
    " ('Date',StringType()),\n",
    " ('Block',StringType()),\n",
    " ('IUCR',StringType()),\n",
    " ('Primary Type',StringType()),\n",
    " ('Description',StringType()),\n",
    " ('Location Description',StringType()),\n",
    " ('Arrest',StringType()),\n",
    " ('Domestic',BooleanType()),\n",
    " ('Beat',StringType()),\n",
    " ('District',StringType()),\n",
    " ('Ward',StringType()),\n",
    " ('Community Area',StringType()),\n",
    " ('FBI Code',StringType()),\n",
    " ('X Coordinate',StringType()),\n",
    " ('Y Coordinate',StringType()),\n",
    " ('Year',IntegerType()),\n",
    " ('Updated On',StringType()),\n",
    " ('Latitude',DoubleType()),\n",
    " ('Longitude',DoubleType()),\n",
    " ('Location',StringType())]"
   ]
  },
  {
   "cell_type": "code",
   "execution_count": 25,
   "metadata": {},
   "outputs": [
    {
     "data": {
      "text/plain": [
       "StructType(List(StructField(ID,StringType,true),StructField(Case Number,StringType,true),StructField(Date,StringType,true),StructField(Block,StringType,true),StructField(IUCR,StringType,true),StructField(Primary Type,StringType,true),StructField(Description,StringType,true),StructField(Location Description,StringType,true),StructField(Arrest,StringType,true),StructField(Domestic,BooleanType,true),StructField(Beat,StringType,true),StructField(District,StringType,true),StructField(Ward,StringType,true),StructField(Community Area,StringType,true),StructField(FBI Code,StringType,true),StructField(X Coordinate,StringType,true),StructField(Y Coordinate,StringType,true),StructField(Year,IntegerType,true),StructField(Updated On,StringType,true),StructField(Latitude,DoubleType,true),StructField(Longitude,DoubleType,true),StructField(Location,StringType,true)))"
      ]
     },
     "execution_count": 25,
     "metadata": {},
     "output_type": "execute_result"
    }
   ],
   "source": [
    "myschema=StructType([StructField (x[0],x[1],True) for x in labels])\n",
    "myschema"
   ]
  },
  {
   "cell_type": "code",
   "execution_count": 23,
   "metadata": {},
   "outputs": [
    {
     "data": {
      "text/html": [
       "<style>\n",
       "div.output_area pre {\n",
       "    white-space: pre;\n",
       "}\n",
       "</style>\n",
       "\n"
      ],
      "text/plain": [
       "<IPython.core.display.HTML object>"
      ]
     },
     "metadata": {},
     "output_type": "display_data"
    }
   ],
   "source": [
    "%%html\n",
    "<style>\n",
    "div.output_area pre {\n",
    "    white-space: pre;\n",
    "}\n",
    "</style>\n",
    "\n"
   ]
  },
  {
   "cell_type": "code",
   "execution_count": 26,
   "metadata": {},
   "outputs": [
    {
     "name": "stdout",
     "output_type": "stream",
     "text": [
      "+--------+-----------+--------------------+--------------------+----+------------+--------------------+--------------------+------+--------+----+--------+----+--------------+--------+------------+------------+----+--------------------+------------+-------------+--------------------+\n",
      "|      ID|Case Number|                Date|               Block|IUCR|Primary Type|         Description|Location Description|Arrest|Domestic|Beat|District|Ward|Community Area|FBI Code|X Coordinate|Y Coordinate|Year|          Updated On|    Latitude|    Longitude|            Location|\n",
      "+--------+-----------+--------------------+--------------------+----+------------+--------------------+--------------------+------+--------+----+--------+----+--------------+--------+------------+------------+----+--------------------+------------+-------------+--------------------+\n",
      "|10224738|   HY411648|09/05/2015 01:30:...|     043XX S WOOD ST|0486|     BATTERY|DOMESTIC BATTERY ...|           RESIDENCE| false|    true|0924|     009|  12|            61|     08B|     1165074|     1875917|2015|02/10/2018 03:50:...|41.815117282|-87.669999562|(41.815117282, -8...|\n",
      "|10224739|   HY411615|09/04/2015 11:30:...| 008XX N CENTRAL AVE|0870|       THEFT|      POCKET-PICKING|             CTA BUS| false|   false|1511|     015|  29|            25|      06|     1138875|     1904869|2015|02/10/2018 03:50:...|41.895080471|-87.765400451|(41.895080471, -8...|\n",
      "|11646166|   JC213529|09/01/2018 12:01:...|082XX S INGLESIDE...|0810|       THEFT|           OVER $500|           RESIDENCE| false|    true|0631|     006|   8|            44|      06|        null|        null|2018|04/06/2019 04:04:...|        null|         null|                null|\n",
      "|10224740|   HY411595|09/05/2015 12:45:...|   035XX W BARRY AVE|2023|   NARCOTICS|POSS: HEROIN(BRN/...|            SIDEWALK|  true|   false|1412|     014|  35|            21|      18|     1152037|     1920384|2015|02/10/2018 03:50:...|41.937405765|-87.716649687|(41.937405765, -8...|\n",
      "|10224741|   HY411610|09/05/2015 01:00:...| 0000X N LARAMIE AVE|0560|     ASSAULT|              SIMPLE|           APARTMENT| false|    true|1522|     015|  28|            25|     08A|     1141706|     1900086|2015|02/10/2018 03:50:...|41.881903443|-87.755121152|(41.881903443, -8...|\n",
      "+--------+-----------+--------------------+--------------------+----+------------+--------------------+--------------------+------+--------+----+--------+----+--------------+--------+------------+------------+----+--------------------+------------+-------------+--------------------+\n",
      "only showing top 5 rows\n",
      "\n"
     ]
    }
   ],
   "source": [
    "from pyspark.sql.functions import to_timestamp,col,lit\n",
    "rc = spark.read.csv('rows.csv@accessType=DOWNLOAD',header=True,schema=myschema)\n",
    "####################     some values are null as they could not  be convereted into required form    #######################\n",
    "\n",
    "rc.show(n=5)"
   ]
  },
  {
   "cell_type": "code",
   "execution_count": 35,
   "metadata": {
    "scrolled": true
   },
   "outputs": [
    {
     "data": {
      "text/plain": [
       "[('ID', 'string'),\n",
       " ('Case Number', 'string'),\n",
       " ('Date', 'string'),\n",
       " ('Block', 'string'),\n",
       " ('IUCR', 'string'),\n",
       " ('Primary Type', 'string'),\n",
       " ('Description', 'string'),\n",
       " ('Location Description', 'string'),\n",
       " ('Arrest', 'string'),\n",
       " ('Domestic', 'boolean'),\n",
       " ('Beat', 'string'),\n",
       " ('District', 'string'),\n",
       " ('Ward', 'string'),\n",
       " ('Community Area', 'string'),\n",
       " ('FBI Code', 'string'),\n",
       " ('X Coordinate', 'string'),\n",
       " ('Y Coordinate', 'string'),\n",
       " ('Year', 'int'),\n",
       " ('Updated On', 'string'),\n",
       " ('Latitude', 'double'),\n",
       " ('Longitude', 'double'),\n",
       " ('Location', 'string')]"
      ]
     },
     "execution_count": 35,
     "metadata": {},
     "output_type": "execute_result"
    }
   ],
   "source": [
    "rc.dtypes   ##############3   shows the  coluymn and types"
   ]
  },
  {
   "cell_type": "code",
   "execution_count": null,
   "metadata": {},
   "outputs": [],
   "source": [
    "#### changing datatypes.............DATE HERE IS OF THE TYPE STRING"
   ]
  },
  {
   "cell_type": "code",
   "execution_count": 41,
   "metadata": {},
   "outputs": [],
   "source": [
    "rc=rc.withColumn('Date',to_timestamp(col('Date'),'MM/dd/yyyy hh:mm:ss a'))\n"
   ]
  },
  {
   "cell_type": "code",
   "execution_count": 99,
   "metadata": {},
   "outputs": [],
   "source": [
    "########  also with select\n",
    "\n",
    "rc=rc.select('Date',to_timestamp(col('Date'),'MM/dd/yyyy hh:mm:ss a'))\n"
   ]
  },
  {
   "cell_type": "code",
   "execution_count": 42,
   "metadata": {},
   "outputs": [],
   "source": [
    "rc=rc.withColumn(\"Ward\",col(\"Ward\").cast(\"int\"))"
   ]
  },
  {
   "cell_type": "code",
   "execution_count": 43,
   "metadata": {},
   "outputs": [
    {
     "name": "stdout",
     "output_type": "stream",
     "text": [
      "+--------+-----------+-------------------+--------------------+----+------------+--------------------+--------------------+------+--------+----+--------+----+--------------+--------+------------+------------+----+--------------------+------------+-------------+--------------------+\n",
      "|      ID|Case Number|               Date|               Block|IUCR|Primary Type|         Description|Location Description|Arrest|Domestic|Beat|District|Ward|Community Area|FBI Code|X Coordinate|Y Coordinate|Year|          Updated On|    Latitude|    Longitude|            Location|\n",
      "+--------+-----------+-------------------+--------------------+----+------------+--------------------+--------------------+------+--------+----+--------+----+--------------+--------+------------+------------+----+--------------------+------------+-------------+--------------------+\n",
      "|10224738|   HY411648|2015-09-05 13:30:00|     043XX S WOOD ST|0486|     BATTERY|DOMESTIC BATTERY ...|           RESIDENCE| false|    true|0924|     009|  12|            61|     08B|     1165074|     1875917|2015|02/10/2018 03:50:...|41.815117282|-87.669999562|(41.815117282, -8...|\n",
      "|10224739|   HY411615|2015-09-04 11:30:00| 008XX N CENTRAL AVE|0870|       THEFT|      POCKET-PICKING|             CTA BUS| false|   false|1511|     015|  29|            25|      06|     1138875|     1904869|2015|02/10/2018 03:50:...|41.895080471|-87.765400451|(41.895080471, -8...|\n",
      "|11646166|   JC213529|2018-09-01 00:01:00|082XX S INGLESIDE...|0810|       THEFT|           OVER $500|           RESIDENCE| false|    true|0631|     006|   8|            44|      06|        null|        null|2018|04/06/2019 04:04:...|        null|         null|                null|\n",
      "|10224740|   HY411595|2015-09-05 12:45:00|   035XX W BARRY AVE|2023|   NARCOTICS|POSS: HEROIN(BRN/...|            SIDEWALK|  true|   false|1412|     014|  35|            21|      18|     1152037|     1920384|2015|02/10/2018 03:50:...|41.937405765|-87.716649687|(41.937405765, -8...|\n",
      "|10224741|   HY411610|2015-09-05 13:00:00| 0000X N LARAMIE AVE|0560|     ASSAULT|              SIMPLE|           APARTMENT| false|    true|1522|     015|  28|            25|     08A|     1141706|     1900086|2015|02/10/2018 03:50:...|41.881903443|-87.755121152|(41.881903443, -8...|\n",
      "+--------+-----------+-------------------+--------------------+----+------------+--------------------+--------------------+------+--------+----+--------+----+--------------+--------+------------+------------+----+--------------------+------------+-------------+--------------------+\n",
      "only showing top 5 rows\n",
      "\n"
     ]
    }
   ],
   "source": [
    "rc.show(n=5)"
   ]
  },
  {
   "cell_type": "code",
   "execution_count": 44,
   "metadata": {
    "scrolled": true
   },
   "outputs": [
    {
     "data": {
      "text/plain": [
       "[('ID', 'string'),\n",
       " ('Case Number', 'string'),\n",
       " ('Date', 'timestamp'),\n",
       " ('Block', 'string'),\n",
       " ('IUCR', 'string'),\n",
       " ('Primary Type', 'string'),\n",
       " ('Description', 'string'),\n",
       " ('Location Description', 'string'),\n",
       " ('Arrest', 'string'),\n",
       " ('Domestic', 'boolean'),\n",
       " ('Beat', 'string'),\n",
       " ('District', 'string'),\n",
       " ('Ward', 'int'),\n",
       " ('Community Area', 'string'),\n",
       " ('FBI Code', 'string'),\n",
       " ('X Coordinate', 'string'),\n",
       " ('Y Coordinate', 'string'),\n",
       " ('Year', 'int'),\n",
       " ('Updated On', 'string'),\n",
       " ('Latitude', 'double'),\n",
       " ('Longitude', 'double'),\n",
       " ('Location', 'string')]"
      ]
     },
     "execution_count": 44,
     "metadata": {},
     "output_type": "execute_result"
    }
   ],
   "source": [
    "rc.dtypes"
   ]
  },
  {
   "cell_type": "markdown",
   "metadata": {},
   "source": [
    "## COLUMNS\n",
    "### selecting columns"
   ]
  },
  {
   "cell_type": "code",
   "execution_count": 45,
   "metadata": {
    "scrolled": true
   },
   "outputs": [
    {
     "name": "stdout",
     "output_type": "stream",
     "text": [
      "+--------+\n",
      "|      ID|\n",
      "+--------+\n",
      "|10224738|\n",
      "|10224739|\n",
      "|11646166|\n",
      "|10224740|\n",
      "|10224741|\n",
      "|10224742|\n",
      "|10224743|\n",
      "|10224744|\n",
      "|10224745|\n",
      "|11645836|\n",
      "|10224746|\n",
      "|10224749|\n",
      "|10224750|\n",
      "|10224751|\n",
      "|10224752|\n",
      "|10224753|\n",
      "|10224754|\n",
      "|10224756|\n",
      "|10224757|\n",
      "|10224758|\n",
      "+--------+\n",
      "only showing top 20 rows\n",
      "\n"
     ]
    }
   ],
   "source": [
    "rc.select(\"ID\").show()   ###### selecting single columns"
   ]
  },
  {
   "cell_type": "code",
   "execution_count": 46,
   "metadata": {
    "scrolled": true
   },
   "outputs": [
    {
     "name": "stdout",
     "output_type": "stream",
     "text": [
      "+----+\n",
      "|Ward|\n",
      "+----+\n",
      "|  12|\n",
      "|  29|\n",
      "|   8|\n",
      "|  35|\n",
      "|  28|\n",
      "|  21|\n",
      "|  32|\n",
      "|  25|\n",
      "|  27|\n",
      "|  15|\n",
      "|  13|\n",
      "|  45|\n",
      "|  34|\n",
      "|   4|\n",
      "|   1|\n",
      "|  21|\n",
      "|  28|\n",
      "|  10|\n",
      "|  21|\n",
      "|  38|\n",
      "+----+\n",
      "only showing top 20 rows\n",
      "\n"
     ]
    }
   ],
   "source": [
    "rc.select(col(\"Ward\")).show()   ###### selecting single columns"
   ]
  },
  {
   "cell_type": "code",
   "execution_count": 47,
   "metadata": {},
   "outputs": [
    {
     "name": "stdout",
     "output_type": "stream",
     "text": [
      "+--------+--------------------+--------------------+\n",
      "|      ID|               Block|         Description|\n",
      "+--------+--------------------+--------------------+\n",
      "|10224738|     043XX S WOOD ST|DOMESTIC BATTERY ...|\n",
      "|10224739| 008XX N CENTRAL AVE|      POCKET-PICKING|\n",
      "|11646166|082XX S INGLESIDE...|           OVER $500|\n",
      "|10224740|   035XX W BARRY AVE|POSS: HEROIN(BRN/...|\n",
      "|10224741| 0000X N LARAMIE AVE|              SIMPLE|\n",
      "|10224742| 082XX S LOOMIS BLVD|      FORCIBLE ENTRY|\n",
      "|10224743|021XX W CHURCHILL ST|      UNLAWFUL ENTRY|\n",
      "|10224744|   025XX W CERMAK RD|        RETAIL THEFT|\n",
      "|10224745|031XX W WASHINGTO...|STRONGARM - NO WE...|\n",
      "|11645836| 055XX S ROCKWELL ST|FINANCIAL IDENTIT...|\n",
      "|10224746|  071XX S PULASKI RD|      $500 AND UNDER|\n",
      "|10224749|052XX N MILWAUKEE...|              SIMPLE|\n",
      "|10224750|    0000X W 103RD ST|    TELEPHONE THREAT|\n",
      "|10224751|     013XX E 47TH ST|DOMESTIC BATTERY ...|\n",
      "|10224752| 020XX W SCHILLER ST|           OVER $500|\n",
      "|10224753|  080XX S JUSTINE ST|AGGRAVATED DOMEST...|\n",
      "|10224754|007XX N LEAMINGTO...|          TO VEHICLE|\n",
      "|10224756|103XX S TORRENCE AVE|      UNLAWFUL ENTRY|\n",
      "|10224757|  088XX S PAULINA ST|      FORCIBLE ENTRY|\n",
      "|10224758|    059XX W GRACE ST|DOMESTIC BATTERY ...|\n",
      "+--------+--------------------+--------------------+\n",
      "only showing top 20 rows\n",
      "\n"
     ]
    }
   ],
   "source": [
    "rc.select(\"ID\",\"Block\",\"Description\").show()  #####33 multiple coloumn"
   ]
  },
  {
   "cell_type": "markdown",
   "metadata": {},
   "source": [
    "#####  ADDING NEW COLUMN TO DATAFRAME or  modifyng it\n",
    "\n"
   ]
  },
  {
   "cell_type": "code",
   "execution_count": 48,
   "metadata": {},
   "outputs": [
    {
     "name": "stdout",
     "output_type": "stream",
     "text": [
      "+------+---+---------+\n",
      "|  name|age|  profile|\n",
      "+------+---+---------+\n",
      "|  amit| 30|Executive|\n",
      "| rohit| 45|   Senior|\n",
      "|sameer| 50|   Senior|\n",
      "+------+---+---------+\n",
      "\n"
     ]
    }
   ],
   "source": [
    "##############   create new create column ,changing datatype, creating categories AND FILTERING IT ---WITH WHEN...................\n",
    "\n",
    "from pyspark.sql.functions import when\n",
    "df = spark.createDataFrame([[\"amit\", 30], [\"rohit\", 45], [\"sameer\", 50]], [\"name\", \"age\"])\n",
    "df = df.withColumn(\"profile\", when(df.age >= 40, \"Senior\").otherwise(\"Executive\"))\n",
    "df.show()"
   ]
  },
  {
   "cell_type": "code",
   "execution_count": 76,
   "metadata": {},
   "outputs": [
    {
     "name": "stdout",
     "output_type": "stream",
     "text": [
      "+---------+---+\n",
      "|firstname|age|\n",
      "+---------+---+\n",
      "|    James| 34|\n",
      "|      Ann| 34|\n",
      "|  Michael| 33|\n",
      "|    Scott| 53|\n",
      "|   Robert| 37|\n",
      "|     Chad| 27|\n",
      "+---------+---+\n",
      "\n"
     ]
    }
   ],
   "source": [
    "\n",
    "\n",
    "spark = SparkSession.builder.appName('SparkByExamples.com').getOrCreate()\n",
    "simpleData = [(\"James\",34),(\"Ann\",34),\n",
    "    (\"Michael\",33),(\"Scott\",53),\n",
    "    (\"Robert\",37),(\"Chad\",27)\n",
    "  ]\n",
    "\n",
    "columns = [\"firstname\",\"age\",]       #############  can also give headers like this\n",
    "df = spark.createDataFrame(data = simpleData, schema = columns)\n",
    "df.show()\n"
   ]
  },
  {
   "cell_type": "code",
   "execution_count": null,
   "metadata": {},
   "outputs": [],
   "source": [
    "########  ADDING NEW COLUMN TO DATAFRAME"
   ]
  },
  {
   "cell_type": "code",
   "execution_count": 50,
   "metadata": {},
   "outputs": [],
   "source": [
    "chumma=rc.withColumn(\"double _year\", 2*rc[\"Year\"])"
   ]
  },
  {
   "cell_type": "code",
   "execution_count": 51,
   "metadata": {},
   "outputs": [
    {
     "name": "stdout",
     "output_type": "stream",
     "text": [
      "+--------+-----------+-------------------+--------------------+----+------------+--------------------+--------------------+------+--------+----+--------+----+--------------+--------+------------+------------+----+--------------------+------------+-------------+--------------------+------------+\n",
      "|      ID|Case Number|               Date|               Block|IUCR|Primary Type|         Description|Location Description|Arrest|Domestic|Beat|District|Ward|Community Area|FBI Code|X Coordinate|Y Coordinate|Year|          Updated On|    Latitude|    Longitude|            Location|double _year|\n",
      "+--------+-----------+-------------------+--------------------+----+------------+--------------------+--------------------+------+--------+----+--------+----+--------------+--------+------------+------------+----+--------------------+------------+-------------+--------------------+------------+\n",
      "|10224738|   HY411648|2015-09-05 13:30:00|     043XX S WOOD ST|0486|     BATTERY|DOMESTIC BATTERY ...|           RESIDENCE| false|    true|0924|     009|  12|            61|     08B|     1165074|     1875917|2015|02/10/2018 03:50:...|41.815117282|-87.669999562|(41.815117282, -8...|        4030|\n",
      "|10224739|   HY411615|2015-09-04 11:30:00| 008XX N CENTRAL AVE|0870|       THEFT|      POCKET-PICKING|             CTA BUS| false|   false|1511|     015|  29|            25|      06|     1138875|     1904869|2015|02/10/2018 03:50:...|41.895080471|-87.765400451|(41.895080471, -8...|        4030|\n",
      "|11646166|   JC213529|2018-09-01 00:01:00|082XX S INGLESIDE...|0810|       THEFT|           OVER $500|           RESIDENCE| false|    true|0631|     006|   8|            44|      06|        null|        null|2018|04/06/2019 04:04:...|        null|         null|                null|        4036|\n",
      "|10224740|   HY411595|2015-09-05 12:45:00|   035XX W BARRY AVE|2023|   NARCOTICS|POSS: HEROIN(BRN/...|            SIDEWALK|  true|   false|1412|     014|  35|            21|      18|     1152037|     1920384|2015|02/10/2018 03:50:...|41.937405765|-87.716649687|(41.937405765, -8...|        4030|\n",
      "|10224741|   HY411610|2015-09-05 13:00:00| 0000X N LARAMIE AVE|0560|     ASSAULT|              SIMPLE|           APARTMENT| false|    true|1522|     015|  28|            25|     08A|     1141706|     1900086|2015|02/10/2018 03:50:...|41.881903443|-87.755121152|(41.881903443, -8...|        4030|\n",
      "+--------+-----------+-------------------+--------------------+----+------------+--------------------+--------------------+------+--------+----+--------+----+--------------+--------+------------+------------+----+--------------------+------------+-------------+--------------------+------------+\n",
      "only showing top 5 rows\n",
      "\n"
     ]
    }
   ],
   "source": [
    "chumma.show(5)       ############ if we print rc, we wont see double_year, its temporary... but with this its nice"
   ]
  },
  {
   "cell_type": "code",
   "execution_count": 52,
   "metadata": {},
   "outputs": [
    {
     "name": "stdout",
     "output_type": "stream",
     "text": [
      "+--------+-----------+-------------------+--------------------+----+------------+--------------------+--------------------+------+--------+----+--------+----+--------------+--------+------------+------------+----+--------------------+------------+-------------+--------------------+---+\n",
      "|      ID|Case Number|               Date|               Block|IUCR|Primary Type|         Description|Location Description|Arrest|Domestic|Beat|District|Ward|Community Area|FBI Code|X Coordinate|Y Coordinate|Year|          Updated On|    Latitude|    Longitude|            Location|One|\n",
      "+--------+-----------+-------------------+--------------------+----+------------+--------------------+--------------------+------+--------+----+--------+----+--------------+--------+------------+------------+----+--------------------+------------+-------------+--------------------+---+\n",
      "|10224738|   HY411648|2015-09-05 13:30:00|     043XX S WOOD ST|0486|     BATTERY|DOMESTIC BATTERY ...|           RESIDENCE| false|    true|0924|     009|  12|            61|     08B|     1165074|     1875917|2015|02/10/2018 03:50:...|41.815117282|-87.669999562|(41.815117282, -8...|  1|\n",
      "|10224739|   HY411615|2015-09-04 11:30:00| 008XX N CENTRAL AVE|0870|       THEFT|      POCKET-PICKING|             CTA BUS| false|   false|1511|     015|  29|            25|      06|     1138875|     1904869|2015|02/10/2018 03:50:...|41.895080471|-87.765400451|(41.895080471, -8...|  1|\n",
      "|11646166|   JC213529|2018-09-01 00:01:00|082XX S INGLESIDE...|0810|       THEFT|           OVER $500|           RESIDENCE| false|    true|0631|     006|   8|            44|      06|        null|        null|2018|04/06/2019 04:04:...|        null|         null|                null|  1|\n",
      "|10224740|   HY411595|2015-09-05 12:45:00|   035XX W BARRY AVE|2023|   NARCOTICS|POSS: HEROIN(BRN/...|            SIDEWALK|  true|   false|1412|     014|  35|            21|      18|     1152037|     1920384|2015|02/10/2018 03:50:...|41.937405765|-87.716649687|(41.937405765, -8...|  1|\n",
      "|10224741|   HY411610|2015-09-05 13:00:00| 0000X N LARAMIE AVE|0560|     ASSAULT|              SIMPLE|           APARTMENT| false|    true|1522|     015|  28|            25|     08A|     1141706|     1900086|2015|02/10/2018 03:50:...|41.881903443|-87.755121152|(41.881903443, -8...|  1|\n",
      "+--------+-----------+-------------------+--------------------+----+------------+--------------------+--------------------+------+--------+----+--------+----+--------------+--------+------------+------------+----+--------------------+------------+-------------+--------------------+---+\n",
      "only showing top 5 rows\n",
      "\n"
     ]
    }
   ],
   "source": [
    "###** Add a column with name One, with entries all 1s **\n",
    "from pyspark.sql.functions import lit\n",
    "\n",
    "\n",
    "rc.withColumn(\"One\", lit(1)).show(5)"
   ]
  },
  {
   "cell_type": "code",
   "execution_count": 53,
   "metadata": {},
   "outputs": [
    {
     "name": "stdout",
     "output_type": "stream",
     "text": [
      "+--------+-----------+-------------------+--------------------+----+------------+--------------------+--------------------+------+--------+----+--------+----+--------------+--------+------------+------------+----+--------------------+------------+-------------+--------------------+-------------------+\n",
      "|      ID|Case Number|               Date|               Block|IUCR|Primary Type|         Description|Location Description|Arrest|Domestic|Beat|District|Ward|Community Area|FBI Code|X Coordinate|Y Coordinate|Year|          Updated On|    Latitude|    Longitude|            Location|             random|\n",
      "+--------+-----------+-------------------+--------------------+----+------------+--------------------+--------------------+------+--------+----+--------+----+--------------+--------+------------+------------+----+--------------------+------------+-------------+--------------------+-------------------+\n",
      "|10224738|   HY411648|2015-09-05 13:30:00|     043XX S WOOD ST|0486|     BATTERY|DOMESTIC BATTERY ...|           RESIDENCE| false|    true|0924|     009|  12|            61|     08B|     1165074|     1875917|2015|02/10/2018 03:50:...|41.815117282|-87.669999562|(41.815117282, -8...|  0.926900484870359|\n",
      "|10224739|   HY411615|2015-09-04 11:30:00| 008XX N CENTRAL AVE|0870|       THEFT|      POCKET-PICKING|             CTA BUS| false|   false|1511|     015|  29|            25|      06|     1138875|     1904869|2015|02/10/2018 03:50:...|41.895080471|-87.765400451|(41.895080471, -8...| 0.7004100894464264|\n",
      "|11646166|   JC213529|2018-09-01 00:01:00|082XX S INGLESIDE...|0810|       THEFT|           OVER $500|           RESIDENCE| false|    true|0631|     006|   8|            44|      06|        null|        null|2018|04/06/2019 04:04:...|        null|         null|                null|0.25637579549633727|\n",
      "|10224740|   HY411595|2015-09-05 12:45:00|   035XX W BARRY AVE|2023|   NARCOTICS|POSS: HEROIN(BRN/...|            SIDEWALK|  true|   false|1412|     014|  35|            21|      18|     1152037|     1920384|2015|02/10/2018 03:50:...|41.937405765|-87.716649687|(41.937405765, -8...|0.35010640813345595|\n",
      "|10224741|   HY411610|2015-09-05 13:00:00| 0000X N LARAMIE AVE|0560|     ASSAULT|              SIMPLE|           APARTMENT| false|    true|1522|     015|  28|            25|     08A|     1141706|     1900086|2015|02/10/2018 03:50:...|41.881903443|-87.755121152|(41.881903443, -8...| 0.8750440939671517|\n",
      "+--------+-----------+-------------------+--------------------+----+------------+--------------------+--------------------+------+--------+----+--------+----+--------------+--------+------------+------------+----+--------------------+------------+-------------+--------------------+-------------------+\n",
      "only showing top 5 rows\n",
      "\n"
     ]
    }
   ],
   "source": [
    "###** Add a column with name random, with entries all being random **\n",
    "\n",
    "from pyspark.sql.functions import rand\n",
    "\n",
    "rc.withColumn(\"random\", rand()).show(5)"
   ]
  },
  {
   "cell_type": "markdown",
   "metadata": {},
   "source": [
    "### Renaming column"
   ]
  },
  {
   "cell_type": "code",
   "execution_count": 54,
   "metadata": {},
   "outputs": [
    {
     "name": "stdout",
     "output_type": "stream",
     "text": [
      "+--------+-----------+-------------------+--------------------+----+------------+--------------------+--------------------+------+--------+----+--------+----+--------------+--------+------------+------------+----+--------------------+------------+-------------+--------------------+\n",
      "|      ID|Case Number|               Date|               Block|IUCR|Primary Type|         Description|Location Description|Arrest|Domestic|Beat|District|Ward|Community Area|FBI Code|X Coordinate|Y Coordinate|YEAR|          Updated On|    Latitude|    Longitude|            Location|\n",
      "+--------+-----------+-------------------+--------------------+----+------------+--------------------+--------------------+------+--------+----+--------+----+--------------+--------+------------+------------+----+--------------------+------------+-------------+--------------------+\n",
      "|10224738|   HY411648|2015-09-05 13:30:00|     043XX S WOOD ST|0486|     BATTERY|DOMESTIC BATTERY ...|           RESIDENCE| false|    true|0924|     009|  12|            61|     08B|     1165074|     1875917|2015|02/10/2018 03:50:...|41.815117282|-87.669999562|(41.815117282, -8...|\n",
      "|10224739|   HY411615|2015-09-04 11:30:00| 008XX N CENTRAL AVE|0870|       THEFT|      POCKET-PICKING|             CTA BUS| false|   false|1511|     015|  29|            25|      06|     1138875|     1904869|2015|02/10/2018 03:50:...|41.895080471|-87.765400451|(41.895080471, -8...|\n",
      "|11646166|   JC213529|2018-09-01 00:01:00|082XX S INGLESIDE...|0810|       THEFT|           OVER $500|           RESIDENCE| false|    true|0631|     006|   8|            44|      06|        null|        null|2018|04/06/2019 04:04:...|        null|         null|                null|\n",
      "|10224740|   HY411595|2015-09-05 12:45:00|   035XX W BARRY AVE|2023|   NARCOTICS|POSS: HEROIN(BRN/...|            SIDEWALK|  true|   false|1412|     014|  35|            21|      18|     1152037|     1920384|2015|02/10/2018 03:50:...|41.937405765|-87.716649687|(41.937405765, -8...|\n",
      "|10224741|   HY411610|2015-09-05 13:00:00| 0000X N LARAMIE AVE|0560|     ASSAULT|              SIMPLE|           APARTMENT| false|    true|1522|     015|  28|            25|     08A|     1141706|     1900086|2015|02/10/2018 03:50:...|41.881903443|-87.755121152|(41.881903443, -8...|\n",
      "+--------+-----------+-------------------+--------------------+----+------------+--------------------+--------------------+------+--------+----+--------+----+--------------+--------+------------+------------+----+--------------------+------------+-------------+--------------------+\n",
      "only showing top 5 rows\n",
      "\n"
     ]
    }
   ],
   "source": [
    "rc.withColumnRenamed(\"Year\",\"YEAR\").show(5)"
   ]
  },
  {
   "cell_type": "code",
   "execution_count": 55,
   "metadata": {},
   "outputs": [
    {
     "name": "stdout",
     "output_type": "stream",
     "text": [
      "+--------+-----------+-------------------+--------------------+----+------------+--------------------+--------------------+------+--------+----+--------+----+--------------+--------+------------+------------+----+--------------------+------------+-------------+--------------------+\n",
      "|      ID|Case Number|               Date|               Block|IUCR|Primary Type|         Description|Location Description|Arrest|Domestic|Beat|District|Ward|Community Area|FBI Code|X Coordinate|Y Coordinate|Year|          Updated On|    Latitude|    Longitude|            Location|\n",
      "+--------+-----------+-------------------+--------------------+----+------------+--------------------+--------------------+------+--------+----+--------+----+--------------+--------+------------+------------+----+--------------------+------------+-------------+--------------------+\n",
      "|10224738|   HY411648|2015-09-05 13:30:00|     043XX S WOOD ST|0486|     BATTERY|DOMESTIC BATTERY ...|           RESIDENCE| false|    true|0924|     009|  12|            61|     08B|     1165074|     1875917|2015|02/10/2018 03:50:...|41.815117282|-87.669999562|(41.815117282, -8...|\n",
      "|10224739|   HY411615|2015-09-04 11:30:00| 008XX N CENTRAL AVE|0870|       THEFT|      POCKET-PICKING|             CTA BUS| false|   false|1511|     015|  29|            25|      06|     1138875|     1904869|2015|02/10/2018 03:50:...|41.895080471|-87.765400451|(41.895080471, -8...|\n",
      "|11646166|   JC213529|2018-09-01 00:01:00|082XX S INGLESIDE...|0810|       THEFT|           OVER $500|           RESIDENCE| false|    true|0631|     006|   8|            44|      06|        null|        null|2018|04/06/2019 04:04:...|        null|         null|                null|\n",
      "|10224740|   HY411595|2015-09-05 12:45:00|   035XX W BARRY AVE|2023|   NARCOTICS|POSS: HEROIN(BRN/...|            SIDEWALK|  true|   false|1412|     014|  35|            21|      18|     1152037|     1920384|2015|02/10/2018 03:50:...|41.937405765|-87.716649687|(41.937405765, -8...|\n",
      "|10224741|   HY411610|2015-09-05 13:00:00| 0000X N LARAMIE AVE|0560|     ASSAULT|              SIMPLE|           APARTMENT| false|    true|1522|     015|  28|            25|     08A|     1141706|     1900086|2015|02/10/2018 03:50:...|41.881903443|-87.755121152|(41.881903443, -8...|\n",
      "+--------+-----------+-------------------+--------------------+----+------------+--------------------+--------------------+------+--------+----+--------+----+--------------+--------+------------+------------+----+--------------------+------------+-------------+--------------------+\n",
      "only showing top 5 rows\n",
      "\n"
     ]
    }
   ],
   "source": [
    "rc.show(5)"
   ]
  },
  {
   "cell_type": "markdown",
   "metadata": {},
   "source": [
    "###  Remove the column  "
   ]
  },
  {
   "cell_type": "code",
   "execution_count": 56,
   "metadata": {},
   "outputs": [
    {
     "name": "stdout",
     "output_type": "stream",
     "text": [
      "+--------+-----------+-------------------+--------------------+----+------------+--------------------+--------------------+------+--------+----+--------+----+--------------+--------+------------+------------+----+--------------------+------------+-------------+--------------------+------------+\n",
      "|      ID|Case Number|               Date|               Block|IUCR|Primary Type|         Description|Location Description|Arrest|Domestic|Beat|District|Ward|Community Area|FBI Code|X Coordinate|Y Coordinate|Year|          Updated On|    Latitude|    Longitude|            Location|double _year|\n",
      "+--------+-----------+-------------------+--------------------+----+------------+--------------------+--------------------+------+--------+----+--------+----+--------------+--------+------------+------------+----+--------------------+------------+-------------+--------------------+------------+\n",
      "|10224738|   HY411648|2015-09-05 13:30:00|     043XX S WOOD ST|0486|     BATTERY|DOMESTIC BATTERY ...|           RESIDENCE| false|    true|0924|     009|  12|            61|     08B|     1165074|     1875917|2015|02/10/2018 03:50:...|41.815117282|-87.669999562|(41.815117282, -8...|        4030|\n",
      "|10224739|   HY411615|2015-09-04 11:30:00| 008XX N CENTRAL AVE|0870|       THEFT|      POCKET-PICKING|             CTA BUS| false|   false|1511|     015|  29|            25|      06|     1138875|     1904869|2015|02/10/2018 03:50:...|41.895080471|-87.765400451|(41.895080471, -8...|        4030|\n",
      "|11646166|   JC213529|2018-09-01 00:01:00|082XX S INGLESIDE...|0810|       THEFT|           OVER $500|           RESIDENCE| false|    true|0631|     006|   8|            44|      06|        null|        null|2018|04/06/2019 04:04:...|        null|         null|                null|        4036|\n",
      "|10224740|   HY411595|2015-09-05 12:45:00|   035XX W BARRY AVE|2023|   NARCOTICS|POSS: HEROIN(BRN/...|            SIDEWALK|  true|   false|1412|     014|  35|            21|      18|     1152037|     1920384|2015|02/10/2018 03:50:...|41.937405765|-87.716649687|(41.937405765, -8...|        4030|\n",
      "|10224741|   HY411610|2015-09-05 13:00:00| 0000X N LARAMIE AVE|0560|     ASSAULT|              SIMPLE|           APARTMENT| false|    true|1522|     015|  28|            25|     08A|     1141706|     1900086|2015|02/10/2018 03:50:...|41.881903443|-87.755121152|(41.881903443, -8...|        4030|\n",
      "+--------+-----------+-------------------+--------------------+----+------------+--------------------+--------------------+------+--------+----+--------+----+--------------+--------+------------+------------+----+--------------------+------------+-------------+--------------------+------------+\n",
      "only showing top 5 rows\n",
      "\n"
     ]
    }
   ],
   "source": [
    "chumma.show(5)"
   ]
  },
  {
   "cell_type": "code",
   "execution_count": 57,
   "metadata": {},
   "outputs": [
    {
     "name": "stdout",
     "output_type": "stream",
     "text": [
      "+--------+-----------+-------------------+--------------------+----+------------+--------------------+--------------------+------+--------+----+--------+----+--------------+--------+------------+------------+----+--------------------+------------+--------------------+------------+\n",
      "|      ID|Case Number|               Date|               Block|IUCR|Primary Type|         Description|Location Description|Arrest|Domestic|Beat|District|Ward|Community Area|FBI Code|X Coordinate|Y Coordinate|Year|          Updated On|    Latitude|            Location|double _year|\n",
      "+--------+-----------+-------------------+--------------------+----+------------+--------------------+--------------------+------+--------+----+--------+----+--------------+--------+------------+------------+----+--------------------+------------+--------------------+------------+\n",
      "|10224738|   HY411648|2015-09-05 13:30:00|     043XX S WOOD ST|0486|     BATTERY|DOMESTIC BATTERY ...|           RESIDENCE| false|    true|0924|     009|  12|            61|     08B|     1165074|     1875917|2015|02/10/2018 03:50:...|41.815117282|(41.815117282, -8...|        4030|\n",
      "|10224739|   HY411615|2015-09-04 11:30:00| 008XX N CENTRAL AVE|0870|       THEFT|      POCKET-PICKING|             CTA BUS| false|   false|1511|     015|  29|            25|      06|     1138875|     1904869|2015|02/10/2018 03:50:...|41.895080471|(41.895080471, -8...|        4030|\n",
      "|11646166|   JC213529|2018-09-01 00:01:00|082XX S INGLESIDE...|0810|       THEFT|           OVER $500|           RESIDENCE| false|    true|0631|     006|   8|            44|      06|        null|        null|2018|04/06/2019 04:04:...|        null|                null|        4036|\n",
      "|10224740|   HY411595|2015-09-05 12:45:00|   035XX W BARRY AVE|2023|   NARCOTICS|POSS: HEROIN(BRN/...|            SIDEWALK|  true|   false|1412|     014|  35|            21|      18|     1152037|     1920384|2015|02/10/2018 03:50:...|41.937405765|(41.937405765, -8...|        4030|\n",
      "|10224741|   HY411610|2015-09-05 13:00:00| 0000X N LARAMIE AVE|0560|     ASSAULT|              SIMPLE|           APARTMENT| false|    true|1522|     015|  28|            25|     08A|     1141706|     1900086|2015|02/10/2018 03:50:...|41.881903443|(41.881903443, -8...|        4030|\n",
      "+--------+-----------+-------------------+--------------------+----+------------+--------------------+--------------------+------+--------+----+--------+----+--------------+--------+------------+------------+----+--------------------+------------+--------------------+------------+\n",
      "only showing top 5 rows\n",
      "\n"
     ]
    }
   ],
   "source": [
    "chumma.drop(\"Longitude\").show(5)"
   ]
  },
  {
   "cell_type": "code",
   "execution_count": 58,
   "metadata": {},
   "outputs": [],
   "source": [
    "########################################  TO PERMENANTLY REMOVE IT  ##############################\n",
    "\n",
    "chumma=chumma.drop(\"Latitude\",\"Description\")"
   ]
  },
  {
   "cell_type": "code",
   "execution_count": 59,
   "metadata": {},
   "outputs": [
    {
     "name": "stdout",
     "output_type": "stream",
     "text": [
      "+--------+-----------+-------------------+--------------------+----+------------+--------------------+------+--------+----+--------+----+--------------+--------+------------+------------+----+--------------------+-------------+--------------------+------------+\n",
      "|      ID|Case Number|               Date|               Block|IUCR|Primary Type|Location Description|Arrest|Domestic|Beat|District|Ward|Community Area|FBI Code|X Coordinate|Y Coordinate|Year|          Updated On|    Longitude|            Location|double _year|\n",
      "+--------+-----------+-------------------+--------------------+----+------------+--------------------+------+--------+----+--------+----+--------------+--------+------------+------------+----+--------------------+-------------+--------------------+------------+\n",
      "|10224738|   HY411648|2015-09-05 13:30:00|     043XX S WOOD ST|0486|     BATTERY|           RESIDENCE| false|    true|0924|     009|  12|            61|     08B|     1165074|     1875917|2015|02/10/2018 03:50:...|-87.669999562|(41.815117282, -8...|        4030|\n",
      "|10224739|   HY411615|2015-09-04 11:30:00| 008XX N CENTRAL AVE|0870|       THEFT|             CTA BUS| false|   false|1511|     015|  29|            25|      06|     1138875|     1904869|2015|02/10/2018 03:50:...|-87.765400451|(41.895080471, -8...|        4030|\n",
      "|11646166|   JC213529|2018-09-01 00:01:00|082XX S INGLESIDE...|0810|       THEFT|           RESIDENCE| false|    true|0631|     006|   8|            44|      06|        null|        null|2018|04/06/2019 04:04:...|         null|                null|        4036|\n",
      "|10224740|   HY411595|2015-09-05 12:45:00|   035XX W BARRY AVE|2023|   NARCOTICS|            SIDEWALK|  true|   false|1412|     014|  35|            21|      18|     1152037|     1920384|2015|02/10/2018 03:50:...|-87.716649687|(41.937405765, -8...|        4030|\n",
      "|10224741|   HY411610|2015-09-05 13:00:00| 0000X N LARAMIE AVE|0560|     ASSAULT|           APARTMENT| false|    true|1522|     015|  28|            25|     08A|     1141706|     1900086|2015|02/10/2018 03:50:...|-87.755121152|(41.881903443, -8...|        4030|\n",
      "+--------+-----------+-------------------+--------------------+----+------------+--------------------+------+--------+----+--------+----+--------------+--------+------------+------------+----+--------------------+-------------+--------------------+------------+\n",
      "only showing top 5 rows\n",
      "\n"
     ]
    }
   ],
   "source": [
    "chumma.show(5)"
   ]
  },
  {
   "cell_type": "markdown",
   "metadata": {},
   "source": [
    "### GROUPBY"
   ]
  },
  {
   "cell_type": "code",
   "execution_count": 60,
   "metadata": {},
   "outputs": [
    {
     "name": "stdout",
     "output_type": "stream",
     "text": [
      "+--------------------+-----+\n",
      "|        Primary Type|count|\n",
      "+--------------------+-----+\n",
      "|OFFENSE INVOLVING...| 6129|\n",
      "|CRIMINAL SEXUAL A...|   71|\n",
      "|            STALKING|  468|\n",
      "|PUBLIC PEACE VIOL...| 4559|\n",
      "|           OBSCENITY|  174|\n",
      "|NON-CRIMINAL (SUB...|    4|\n",
      "|                null|    5|\n",
      "|               ARSON| 1239|\n",
      "|            GAMBLING|  545|\n",
      "|   CRIMINAL TRESPASS|17937|\n",
      "+--------------------+-----+\n",
      "only showing top 10 rows\n",
      "\n"
     ]
    }
   ],
   "source": [
    "chumma.groupBy(\"Primary Type\").count().show(10)"
   ]
  },
  {
   "cell_type": "markdown",
   "metadata": {},
   "source": [
    "**What are the top 10 number of reported crimes by Primary type, in descending order of occurence?**"
   ]
  },
  {
   "cell_type": "code",
   "execution_count": 62,
   "metadata": {
    "scrolled": true
   },
   "outputs": [
    {
     "name": "stdout",
     "output_type": "stream",
     "text": [
      "+-------------------+------+\n",
      "|       Primary Type| count|\n",
      "+-------------------+------+\n",
      "|              THEFT|164981|\n",
      "|            BATTERY|133205|\n",
      "|    CRIMINAL DAMAGE| 81135|\n",
      "|            ASSAULT| 50024|\n",
      "| DECEPTIVE PRACTICE| 49635|\n",
      "|      OTHER OFFENSE| 47257|\n",
      "|          NARCOTICS| 38486|\n",
      "|           BURGLARY| 36826|\n",
      "|            ROBBERY| 30704|\n",
      "|MOTOR VEHICLE THEFT| 29772|\n",
      "+-------------------+------+\n",
      "only showing top 10 rows\n",
      "\n"
     ]
    }
   ],
   "source": [
    "chumma.groupBy(\"Primary Type\").count().orderBy(\"count\",ascending=False).show(10)"
   ]
  },
  {
   "cell_type": "code",
   "execution_count": null,
   "metadata": {},
   "outputs": [],
   "source": [
    "############################################################################################################################"
   ]
  },
  {
   "cell_type": "markdown",
   "metadata": {},
   "source": [
    "## ROWS"
   ]
  },
  {
   "cell_type": "markdown",
   "metadata": {},
   "source": [
    "### FILTERING ROWS"
   ]
  },
  {
   "cell_type": "code",
   "execution_count": 63,
   "metadata": {
    "scrolled": true
   },
   "outputs": [
    {
     "name": "stdout",
     "output_type": "stream",
     "text": [
      "+--------+-----------+-------------------+--------------------+----+------------------+--------------------+------+--------+----+--------+----+--------------+--------+------------+------------+----+--------------------+-------------+--------------------+------------+\n",
      "|      ID|Case Number|               Date|               Block|IUCR|      Primary Type|Location Description|Arrest|Domestic|Beat|District|Ward|Community Area|FBI Code|X Coordinate|Y Coordinate|Year|          Updated On|    Longitude|            Location|double _year|\n",
      "+--------+-----------+-------------------+--------------------+----+------------------+--------------------+------+--------+----+--------+----+--------------+--------+------------+------------+----+--------------------+-------------+--------------------+------------+\n",
      "|10224738|   HY411648|2015-09-05 13:30:00|     043XX S WOOD ST|0486|           BATTERY|           RESIDENCE| false|    true|0924|     009|  12|            61|     08B|     1165074|     1875917|2015|02/10/2018 03:50:...|-87.669999562|(41.815117282, -8...|        4030|\n",
      "|10224739|   HY411615|2015-09-04 11:30:00| 008XX N CENTRAL AVE|0870|             THEFT|             CTA BUS| false|   false|1511|     015|  29|            25|      06|     1138875|     1904869|2015|02/10/2018 03:50:...|-87.765400451|(41.895080471, -8...|        4030|\n",
      "|11646166|   JC213529|2018-09-01 00:01:00|082XX S INGLESIDE...|0810|             THEFT|           RESIDENCE| false|    true|0631|     006|   8|            44|      06|        null|        null|2018|04/06/2019 04:04:...|         null|                null|        4036|\n",
      "|10224740|   HY411595|2015-09-05 12:45:00|   035XX W BARRY AVE|2023|         NARCOTICS|            SIDEWALK|  true|   false|1412|     014|  35|            21|      18|     1152037|     1920384|2015|02/10/2018 03:50:...|-87.716649687|(41.937405765, -8...|        4030|\n",
      "|10224741|   HY411610|2015-09-05 13:00:00| 0000X N LARAMIE AVE|0560|           ASSAULT|           APARTMENT| false|    true|1522|     015|  28|            25|     08A|     1141706|     1900086|2015|02/10/2018 03:50:...|-87.755121152|(41.881903443, -8...|        4030|\n",
      "|10224742|   HY411435|2015-09-05 10:55:00| 082XX S LOOMIS BLVD|0610|          BURGLARY|           RESIDENCE| false|   false|0614|     006|  21|            71|      05|     1168430|     1850165|2015|02/10/2018 03:50:...|-87.658430635|(41.744378879, -8...|        4030|\n",
      "|10224743|   HY411629|2015-09-04 18:00:00|021XX W CHURCHILL ST|0620|          BURGLARY|    RESIDENCE-GARAGE| false|   false|1434|     014|  32|            24|      05|     1161628|     1912157|2015|02/10/2018 03:50:...|-87.681630909|(41.914635603, -8...|        4030|\n",
      "|10224744|   HY411605|2015-09-05 13:00:00|   025XX W CERMAK RD|0860|             THEFT|  GROCERY FOOD STORE|  true|   false|1034|     010|  25|            31|      06|     1159734|     1889313|2015|09/17/2015 11:37:...|-87.689219118|(41.851988885, -8...|        4030|\n",
      "|10224745|   HY411654|2015-09-05 11:30:00|031XX W WASHINGTO...|0320|           ROBBERY|              STREET| false|    true|1222|     012|  27|            27|      03|     1155536|     1900515|2015|02/10/2018 03:50:...|-87.704325717|(41.88281374, -87...|        4030|\n",
      "|11645836|   JC212333|2016-05-01 00:25:00| 055XX S ROCKWELL ST|1153|DECEPTIVE PRACTICE|                null| false|   false|0824|     008|  15|            63|      11|        null|        null|2016|04/06/2019 04:04:...|         null|                null|        4032|\n",
      "|10224746|   HY411662|2015-09-05 14:00:00|  071XX S PULASKI RD|0820|             THEFT|PARKING LOT/GARAG...| false|   false|0833|     008|  13|            65|      06|     1150938|     1857056|2015|02/10/2018 03:50:...|-87.722344693|(41.763647552, -8...|        4030|\n",
      "|10224749|   HY411626|2015-09-05 11:00:00|052XX N MILWAUKEE...|0460|           BATTERY|  SMALL RETAIL STORE| false|   false|1623|     016|  45|            11|     08B|     1137969|     1934340|2015|02/10/2018 03:50:...|-87.768014257|(41.975968415, -8...|        4030|\n",
      "|10224750|   HY411632|2015-09-05 03:00:00|    0000X W 103RD ST|2820|     OTHER OFFENSE|           APARTMENT| false|    true|0512|     005|  34|            49|      26|     1177871|     1836676|2015|02/10/2018 03:50:...|-87.624244993|(41.707154919, -8...|        4030|\n",
      "|10224751|   HY411566|2015-09-05 12:50:00|     013XX E 47TH ST|0486|           BATTERY|              STREET| false|    true|0222|     002|   4|            39|     08B|     1185907|     1874105|2015|02/10/2018 03:50:...|-87.593638934|(41.809678314, -8...|        4030|\n",
      "|10224752|   HY411601|2015-09-03 13:00:00| 020XX W SCHILLER ST|0810|             THEFT|              STREET| false|   false|1424|     014|   1|            24|      06|     1162574|     1909428|2015|02/10/2018 03:50:...|-87.678232016|(41.907127255, -8...|        4030|\n",
      "|10224753|   HY411489|2015-09-05 11:45:00|  080XX S JUSTINE ST|0497|           BATTERY|           APARTMENT| false|   false|0612|     006|  21|            71|     04B|     1167400|     1851512|2015|02/10/2018 03:50:...|-87.662166183|(41.748097343, -8...|        4030|\n",
      "|10224754|   HY411656|2015-09-05 13:30:00|007XX N LEAMINGTO...|1320|   CRIMINAL DAMAGE|              STREET| false|   false|1531|     015|  28|            25|      14|     1141889|     1904448|2015|02/10/2018 03:50:...|-87.754341096|(41.893869916, -8...|        4030|\n",
      "|10224756|   HY410094|2015-07-08 00:00:00|103XX S TORRENCE AVE|0620|          BURGLARY|               OTHER| false|   false|0434|     004|  10|            51|      05|     1195508|     1836950|2015|02/10/2018 03:50:...|-87.559650325|(41.707490122, -8...|        4030|\n",
      "|10224757|   HY411388|2015-09-05 09:55:00|  088XX S PAULINA ST|0610|          BURGLARY|           RESIDENCE|  true|   false|2221|     022|  21|            71|      05|     1166554|     1846067|2015|02/10/2018 03:50:...|-87.665421067|(41.733173536, -8...|        4030|\n",
      "|10224758|   HY411568|2015-09-05 12:35:00|    059XX W GRACE ST|0486|           BATTERY|              STREET| false|    true|1633|     016|  38|            15|     08B|     1136014|     1924656|2015|02/10/2018 03:50:...|-87.775435529|(41.949429769, -8...|        4030|\n",
      "+--------+-----------+-------------------+--------------------+----+------------------+--------------------+------+--------+----+--------+----+--------------+--------+------------+------------+----+--------------------+-------------+--------------------+------------+\n",
      "only showing top 20 rows\n",
      "\n"
     ]
    }
   ],
   "source": [
    "chumma.filter(col(\"Year\") > 2010).show()"
   ]
  },
  {
   "cell_type": "code",
   "execution_count": 96,
   "metadata": {},
   "outputs": [
    {
     "name": "stdout",
     "output_type": "stream",
     "text": [
      "+--------+-----------+-------------------+------------------+----+------------+--------------------+------+--------+----+--------+----+--------------+--------+------------+------------+----+--------------------+-------------+--------------------+------------+\n",
      "|      ID|Case Number|               Date|             Block|IUCR|Primary Type|Location Description|Arrest|Domestic|Beat|District|Ward|Community Area|FBI Code|X Coordinate|Y Coordinate|Year|          Updated On|    Longitude|            Location|double _year|\n",
      "+--------+-----------+-------------------+------------------+----+------------+--------------------+------+--------+----+--------+----+--------------+--------+------------+------------+----+--------------------+-------------+--------------------+------------+\n",
      "|10224740|   HY411595|2015-09-05 12:45:00| 035XX W BARRY AVE|2023|   NARCOTICS|            SIDEWALK|  true|   false|1412|     014|  35|            21|      18|     1152037|     1920384|2015|02/10/2018 03:50:...|-87.716649687|(41.937405765, -8...|        4030|\n",
      "|10224744|   HY411605|2015-09-05 13:00:00| 025XX W CERMAK RD|0860|       THEFT|  GROCERY FOOD STORE|  true|   false|1034|     010|  25|            31|      06|     1159734|     1889313|2015|09/17/2015 11:37:...|-87.689219118|(41.851988885, -8...|        4030|\n",
      "|10224757|   HY411388|2015-09-05 09:55:00|088XX S PAULINA ST|0610|    BURGLARY|           RESIDENCE|  true|   false|2221|     022|  21|            71|      05|     1166554|     1846067|2015|02/10/2018 03:50:...|-87.665421067|(41.733173536, -8...|        4030|\n",
      "|10224770|   HY411586|2015-09-05 12:40:00|   005XX W 61ST PL|0430|     BATTERY|RESIDENCE PORCH/H...|  true|   false|0711|     007|  20|            68|     04B|     1173653|     1864134|2015|02/10/2018 03:50:...|-87.638879769|(41.782597483, -8...|        4030|\n",
      "|10224778|   HY411675|2015-09-05 14:44:00|047XX N KEELER AVE|0560|     ASSAULT|            SIDEWALK|  true|   false|1722|     017|  39|            14|     08A|     1147525|     1931300|2015|02/10/2018 03:50:...|-87.732951137|(41.967448012, -8...|        4030|\n",
      "+--------+-----------+-------------------+------------------+----+------------+--------------------+------+--------+----+--------+----+--------------+--------+------------+------------+----+--------------------+-------------+--------------------+------------+\n",
      "only showing top 5 rows\n",
      "\n"
     ]
    }
   ],
   "source": [
    "chumma.filter((col(\"Arrest\") == \"true\") | (col(\"Arrest\") == \"True\")).show(5)   ####   | for OR and & for AND"
   ]
  },
  {
   "cell_type": "markdown",
   "metadata": {},
   "source": [
    "##### Add the reported crimes for an additional day, Dec-2018, to our dataset."
   ]
  },
  {
   "cell_type": "code",
   "execution_count": 126,
   "metadata": {},
   "outputs": [
    {
     "name": "stdout",
     "output_type": "stream",
     "text": [
      "+--------+-----------+-------------------+-------------------+----+-------------+----------------+--------------------+------+--------+----+--------+----+--------------+--------+------------+------------+----+--------------------+--------+---------+--------+\n",
      "|      ID|Case Number|               Date|              Block|IUCR| Primary Type|     Description|Location Description|Arrest|Domestic|Beat|District|Ward|Community Area|FBI Code|X Coordinate|Y Coordinate|Year|          Updated On|Latitude|Longitude|Location|\n",
      "+--------+-----------+-------------------+-------------------+----+-------------+----------------+--------------------+------+--------+----+--------+----+--------------+--------+------------+------------+----+--------------------+--------+---------+--------+\n",
      "|12017906|   JD195459|2018-12-01 00:00:00|040XX N MARMORA AVE|2820|OTHER OFFENSE|TELEPHONE THREAT|           APARTMENT| false|    true|1624|     016|  38|            15|     08A|        null|        null|2018|03/27/2020 03:48:...|    null|     null|    null|\n",
      "+--------+-----------+-------------------+-------------------+----+-------------+----------------+--------------------+------+--------+----+--------+----+--------------+--------+------------+------------+----+--------------------+--------+---------+--------+\n",
      "\n"
     ]
    }
   ],
   "source": [
    "from pyspark.sql.functions import to_timestamp,col,lit\n",
    "df = spark.read.csv('rows.csv@accessType=DOWNLOAD',header=True).withColumn('Date',to_timestamp(col('Date'),'MM/dd/yyyy hh:mm:ss a')).filter(col('Date') == lit('2018-12'))\n",
    "\n",
    "####################      only filtering till 2018       #######################\n",
    "\n",
    "df.show()\n",
    "\n",
    "## ADDING THIS TO PUR ORIGINAL DATAFRAME\n"
   ]
  },
  {
   "cell_type": "code",
   "execution_count": 98,
   "metadata": {},
   "outputs": [
    {
     "name": "stdout",
     "output_type": "stream",
     "text": [
      "+--------+-----------+--------------------+--------------------+----+-----------------+--------------------+--------------------+------+--------+----+--------+----+--------------+--------+------------+------------+----+--------------------+------------+-------------+--------------------+\n",
      "|      ID|Case Number|                Date|               Block|IUCR|     Primary Type|         Description|Location Description|Arrest|Domestic|Beat|District|Ward|Community Area|FBI Code|X Coordinate|Y Coordinate|Year|          Updated On|    Latitude|    Longitude|            Location|\n",
      "+--------+-----------+--------------------+--------------------+----+-----------------+--------------------+--------------------+------+--------+----+--------+----+--------------+--------+------------+------------+----+--------------------+------------+-------------+--------------------+\n",
      "|10224740|   HY411595|09/05/2015 12:45:...|   035XX W BARRY AVE|2023|        NARCOTICS|POSS: HEROIN(BRN/...|            SIDEWALK|  true|   false|1412|     014|  35|            21|      18|     1152037|     1920384|2015|02/10/2018 03:50:...|41.937405765|-87.716649687|(41.937405765, -8...|\n",
      "|10224744|   HY411605|09/05/2015 01:00:...|   025XX W CERMAK RD|0860|            THEFT|        RETAIL THEFT|  GROCERY FOOD STORE|  true|   false|1034|     010|  25|            31|      06|     1159734|     1889313|2015|09/17/2015 11:37:...|41.851988885|-87.689219118|(41.851988885, -8...|\n",
      "|10224757|   HY411388|09/05/2015 09:55:...|  088XX S PAULINA ST|0610|         BURGLARY|      FORCIBLE ENTRY|           RESIDENCE|  true|   false|2221|     022|  21|            71|      05|     1166554|     1846067|2015|02/10/2018 03:50:...|41.733173536|-87.665421067|(41.733173536, -8...|\n",
      "|10224770|   HY411586|09/05/2015 12:40:...|     005XX W 61ST PL|0430|          BATTERY|AGGRAVATED: OTHER...|RESIDENCE PORCH/H...|  true|   false|0711|     007|  20|            68|     04B|     1173653|     1864134|2015|02/10/2018 03:50:...|41.782597483|-87.638879769|(41.782597483, -8...|\n",
      "|10224778|   HY411675|09/05/2015 02:44:...|  047XX N KEELER AVE|0560|          ASSAULT|              SIMPLE|            SIDEWALK|  true|   false|1722|     017|  39|            14|     08A|     1147525|     1931300|2015|02/10/2018 03:50:...|41.967448012|-87.732951137|(41.967448012, -8...|\n",
      "|10224780|   HY411660|09/05/2015 02:30:...| 016XX S HARDING AVE|4625|    OTHER OFFENSE|    PAROLE VIOLATION|            SIDEWALK|  true|   false|1014|     010|  24|            29|      26|     1150326|     1891507|2015|02/10/2018 03:50:...|41.858197949|-87.723692079|(41.858197949, -8...|\n",
      "|10224782|   HY411661|09/05/2015 02:35:...|   068XX S PERRY AVE|1811|        NARCOTICS|POSS: CANNABIS 30...|               ALLEY|  true|   false|0722|     007|   6|            69|      18|     1176575|     1859730|2015|02/10/2018 03:50:...|41.770447177|-87.628299291|(41.770447177, -8...|\n",
      "|10224783|   HY411679|09/05/2015 02:40:...|  041XX W CRYSTAL ST|141C|WEAPONS VIOLATION|UNLAWFUL USE OTHE...|            SIDEWALK|  true|   false|2534|     025|  37|            23|      15|     1148654|     1908016|2015|02/10/2018 03:50:...|41.903532921|-87.729402988|(41.903532921, -8...|\n",
      "|10224788|   HY410899|03/27/2014 12:01:...|035XX S MICHIGAN AVE|5111|    OTHER OFFENSE|GUN OFFENDER: ANN...|POLICE FACILITY/V...|  true|   false|0213|     002|   3|            35|      26|     1177772|     1881665|2014|02/10/2018 03:50:...|41.830611847|-87.623247369|(41.830611847, -8...|\n",
      "|10224789|   HY411717|09/05/2015 03:12:...|   052XX W QUINCY ST|1460|WEAPONS VIOLATION|POSS FIREARM/AMMO...|              STREET|  true|   false|1522|     015|  29|            25|      15|     1141442|     1898499|2015|02/10/2018 03:50:...|41.877553391|-87.756129762|(41.877553391, -8...|\n",
      "|10224791|   HY411719|09/05/2015 03:28:...|    064XX S GREEN ST|0486|          BATTERY|DOMESTIC BATTERY ...|           APARTMENT|  true|    true|0723|     007|  16|            68|     08B|     1171743|     1862151|2015|02/10/2018 03:50:...|41.777198018|-87.645940487|(41.777198018, -8...|\n",
      "|10224792|   HY411709|09/05/2015 03:20:...| 030XX W FLOURNOY ST|2014|        NARCOTICS|MANU/DELIVER: HER...|            SIDEWALK|  true|   false|1134|     011|  28|            27|      18|     1156237|     1896878|2015|02/10/2018 03:50:...| 41.87281932|-87.701849872|(41.87281932, -87...|\n",
      "|10224809|   HY411732|09/05/2015 03:40:...|122XX S EGGLESTON...|2027|        NARCOTICS|         POSS: CRACK|              STREET|  true|   false|0523|     005|  34|            53|      18|     1175503|     1823842|2015|09/17/2015 11:37:...|41.671989656|-87.633298499|(41.671989656, -8...|\n",
      "|10224810|   HY411746|09/05/2015 03:15:...|114XX S ST LAWREN...|0486|          BATTERY|DOMESTIC BATTERY ...|           RESIDENCE|  true|    true|0531|     005|   9|            50|     08B|     1182290|     1829250|2015|02/10/2018 03:50:...|41.686675992|-87.608291666|(41.686675992, -8...|\n",
      "|10224822|   HY411777|09/05/2015 04:16:...| 057XX S SANGAMON ST|1811|        NARCOTICS|POSS: CANNABIS 30...|              STREET|  true|   false|0712|     007|  16|            68|      18|     1170953|     1866868|2015|02/10/2018 03:50:...|41.790159304|-87.648698923|(41.790159304, -8...|\n",
      "|10224823|   HY411707|09/05/2015 12:00:...|  014XX N HALSTED ST|0820|            THEFT|      $500 AND UNDER|              STREET|  true|   false|1822|     018|  27|             8|      06|     1170754|     1909471|2015|02/10/2018 03:50:...| 41.90706989|-87.648182264|(41.90706989, -87...|\n",
      "|10224835|   HY411770|09/05/2015 03:45:...|008XX S CALIFORNI...|2092|        NARCOTICS|SOLICIT NARCOTICS...|               ALLEY|  true|   false|1135|     011|  28|            27|      18|     1157831|     1896140|2015|02/10/2018 03:50:...|41.870761846|-87.696017659|(41.870761846, -8...|\n",
      "|10224840|   HY411786|09/05/2015 04:15:...| 023XX W WARREN BLVD|2024|        NARCOTICS| POSS: HEROIN(WHITE)|CHA PARKING LOT/G...|  true|   false|1223|     012|   2|            28|      18|     1160779|     1900294|2015|02/10/2018 03:50:...|41.882100231|-87.685079332|(41.882100231, -8...|\n",
      "|10224841|   HY411731|09/05/2015 03:30:...|   025XX W CERMAK RD|0860|            THEFT|        RETAIL THEFT|  GROCERY FOOD STORE|  true|   false|1034|     010|  25|            31|      06|     1159734|     1889313|2015|02/10/2018 03:50:...|41.851988885|-87.689219118|(41.851988885, -8...|\n",
      "|10224851|   HY411708|09/05/2015 02:55:...|    035XX N CLARK ST|0860|            THEFT|        RETAIL THEFT|  SMALL RETAIL STORE|  true|   false|1924|     019|  44|             6|      06|     1168463|     1923924|2015|02/10/2018 03:50:...|41.946779572| -87.65617875|(41.946779572, -8...|\n",
      "+--------+-----------+--------------------+--------------------+----+-----------------+--------------------+--------------------+------+--------+----+--------+----+--------------+--------+------------+------------+----+--------------------+------------+-------------+--------------------+\n",
      "only showing top 20 rows\n",
      "\n"
     ]
    }
   ],
   "source": [
    "df = spark.read.csv('rows.csv@accessType=DOWNLOAD',header=True).filter(col('Arrest') == 'true')\n",
    "\n",
    "####################      only filtering till 2018       #######################\n",
    "\n",
    "df.show()"
   ]
  },
  {
   "cell_type": "markdown",
   "metadata": {},
   "source": [
    "### UNIQUE ROWS"
   ]
  },
  {
   "cell_type": "code",
   "execution_count": 154,
   "metadata": {
    "scrolled": true
   },
   "outputs": [
    {
     "name": "stdout",
     "output_type": "stream",
     "text": [
      "+----+\n",
      "|Year|\n",
      "+----+\n",
      "|2003|\n",
      "|2007|\n",
      "|2018|\n",
      "|2015|\n",
      "|2006|\n",
      "|2013|\n",
      "|null|\n",
      "|2014|\n",
      "|2019|\n",
      "|2004|\n",
      "|2020|\n",
      "|2012|\n",
      "|2009|\n",
      "|2016|\n",
      "|2001|\n",
      "|2005|\n",
      "|2010|\n",
      "|2011|\n",
      "|2008|\n",
      "|2017|\n",
      "+----+\n",
      "only showing top 20 rows\n",
      "\n"
     ]
    }
   ],
   "source": [
    "rc.select(\"Year\").distinct().show()"
   ]
  },
  {
   "cell_type": "markdown",
   "metadata": {},
   "source": [
    "### SORTING ROWS"
   ]
  },
  {
   "cell_type": "code",
   "execution_count": 97,
   "metadata": {
    "scrolled": true
   },
   "outputs": [
    {
     "name": "stdout",
     "output_type": "stream",
     "text": [
      "+--------------------+-----------+----+--------------------+----+------------+-------------------+--------------------+------+--------+----+--------+----+--------------+--------+------------+------------+----+--------------------+------------+-------------+--------------------+\n",
      "|                  ID|Case Number|Date|               Block|IUCR|Primary Type|        Description|Location Description|Arrest|Domestic|Beat|District|Ward|Community Area|FBI Code|X Coordinate|Y Coordinate|Year|          Updated On|    Latitude|    Longitude|            Location|\n",
      "+--------------------+-----------+----+--------------------+----+------------+-------------------+--------------------+------+--------+----+--------+----+--------------+--------+------------+------------+----+--------------------+------------+-------------+--------------------+\n",
      "|  \"message\" : \"In...|       null|null|                null|null|        null|               null|                null|  null|    null|null|    null|null|          null|    null|        null|        null|null|                null|        null|         null|                null|\n",
      "|            11164000|   JA530807|null|           052XX W {|null|        null|               null|                null|  null|    null|null|    null|null|          null|    null|        null|        null|null|                null|        null|         null|                null|\n",
      "|      \"status\" : 500|       null|null|                null|null|        null|               null|                null|  null|    null|null|    null|null|          null|    null|        null|        null|null|                null|        null|         null|                null|\n",
      "|      \"error\" : true|       null|null|                null|null|        null|               null|                null|  null|    null|null|    null|null|          null|    null|        null|        null|null|                null|        null|         null|                null|\n",
      "|                   }|       null|null|                null|null|        null|               null|                null|  null|    null|null|    null|null|          null|    null|        null|        null|null|                null|        null|         null|                null|\n",
      "|                1053|    G528607|null|062XX S MAPLEWOOD...|0110|    HOMICIDE|FIRST DEGREE MURDER|             GANGWAY| false|   false|0825|     008|  15|            66|     01A|     1160443|     1863212|2001|03/19/2019 04:11:...|41.780349946| -87.68733707|(41.780349946, -8...|\n",
      "|                1055|    G533190|null|  081XX S DREXEL AVE|0110|    HOMICIDE|FIRST DEGREE MURDER|                AUTO| false|   false|0631|     006|   8|            44|     01A|     1183653|     1851119|2001|03/19/2019 04:11:...|41.746655581|-87.602622531|(41.746655581, -8...|\n",
      "|                1122|    G592219|null|      016XX W 44 ST.|0110|    HOMICIDE|FIRST DEGREE MURDER|           APARTMENT|  true|    true|0914|     009|null|          null|     01A|     1165945|     1875532|2001|03/19/2019 04:11:...|41.814042305|-87.666815552|(41.814042305, -8...|\n",
      "|               25382|   JD327802|null|  000XX E HUBBARD ST|0110|    HOMICIDE|FIRST DEGREE MURDER|              STREET|  true|   false|1834|     018|  42|             8|     01A|     1176388|     1903322|2020|08/17/2020 03:50:...|41.890071385|-87.627672183|(41.890071385, -8...|\n",
      "|                1124|    G592319|null|013XX N GREENVIEW...|0110|    HOMICIDE|FIRST DEGREE MURDER|              STREET| false|   false|1433|     014|   1|            24|     01A|     1166148|     1908960|2001|03/19/2019 04:11:...|41.905767381|-87.665116609|(41.905767381, -8...|\n",
      "|                1126|    G592294|null|       000XX E 99 PL|0110|    HOMICIDE|FIRST DEGREE MURDER|               ALLEY| false|   false|0511|     005|null|          null|     01A|     1178256|     1839010|2001|03/19/2019 04:11:...|41.713551024|  -87.6227646|(41.713551024, -8...|\n",
      "|                1128|    G596121|null|       020XX E 71 ST|0110|    HOMICIDE|FIRST DEGREE MURDER|          RESTAURANT| false|   false|0331|     003|null|          null|     01A|     1190984|     1858323|2001|03/19/2019 04:11:...|41.766249991|-87.575527839|(41.766249991, -8...|\n",
      "|                1130|    G594835|null|069XX S CARPENTER ST|0110|    HOMICIDE|FIRST DEGREE MURDER|            DUMPSTER| false|   false|0733|     007|  17|            68|     01A|     1170513|     1858748|2001|03/19/2019 04:11:...|41.767886662|-87.650548686|(41.767886662, -8...|\n",
      "|                1123|    G592219|null|      016XX W 44 ST.|0110|    HOMICIDE|FIRST DEGREE MURDER|           APARTMENT|  true|    true|0914|     009|null|          null|     01A|     1165945|     1875532|2001|03/19/2019 04:11:...|41.814042305|-87.666815552|(41.814042305, -8...|\n",
      "|                1121|    G592219|null|       016XX W 44 ST|0110|    HOMICIDE|FIRST DEGREE MURDER|           APARTMENT|  true|    true|0914|     009|null|          null|     01A|     1165945|     1875532|2001|03/19/2019 04:11:...|41.814042305|-87.666815552|(41.814042305, -8...|\n",
      "|                1125|    G592511|null|    070XX S GREEN ST|0110|    HOMICIDE|FIRST DEGREE MURDER|               PORCH| false|   false|0733|     007|   6|            68|     01A|     1171848|     1858243|2001|03/19/2019 04:11:...|41.766471695|-87.645670111|(41.766471695, -8...|\n",
      "|                1127|    G594535|null|  035XX N WILTON AVE|0110|    HOMICIDE|FIRST DEGREE MURDER|           APARTMENT|  true|   false|2331|     019|  44|             6|     01A|     1169310|     1923630|2001|03/19/2019 04:11:...| 41.94595442|-87.653074023|(41.94595442, -87...|\n",
      "|                1129|    G594535|null|  035XX N WILTON AVE|0110|    HOMICIDE|FIRST DEGREE MURDER|           APARTMENT|  true|   false|2331|     019|  44|             6|     01A|     1169310|     1923630|2001|03/19/2019 04:11:...| 41.94595442|-87.653074023|(41.94595442, -87...|\n",
      "|               20486|   HV005095|null| 025XX S KILDARE AVE|0110|    HOMICIDE|FIRST DEGREE MURDER|                AUTO|  true|   false|1013|     010|  22|            30|     01A|     1148346|     1886858|2012|06/20/2020 03:48:...| 41.84547885|-87.731079671|(41.84547885, -87...|\n",
      "|                1116|    G539833|null|   027XX S STATE ST.|0110|    HOMICIDE|FIRST DEGREE MURDER|              STREET| false|   false|2113|     001|null|          null|     01A|     1176731|     1886507|2001|03/19/2019 04:11:...|41.843922218|  -87.6269207|(41.843922218, -8...|\n",
      "+--------------------+-----------+----+--------------------+----+------------+-------------------+--------------------+------+--------+----+--------+----+--------------+--------+------------+------------+----+--------------------+------------+-------------+--------------------+\n",
      "only showing top 20 rows\n",
      "\n"
     ]
    }
   ],
   "source": [
    "rc.orderBy(\"IUCR\").show()           ###### in pandas we use sort fucntion"
   ]
  },
  {
   "cell_type": "markdown",
   "metadata": {},
   "source": [
    "### APPENDING/ union / CONCAT "
   ]
  },
  {
   "cell_type": "code",
   "execution_count": 100,
   "metadata": {
    "scrolled": true
   },
   "outputs": [
    {
     "name": "stdout",
     "output_type": "stream",
     "text": [
      "+--------+-----------+----+--------------------+----+------------+--------------------+------+--------+----+--------+----+--------------+--------+------------+------------+----+--------------------+-------------+--------------------+------------+\n",
      "|      ID|Case Number|Date|               Block|IUCR|Primary Type|Location Description|Arrest|Domestic|Beat|District|Ward|Community Area|FBI Code|X Coordinate|Y Coordinate|Year|          Updated On|    Longitude|            Location|double _year|\n",
      "+--------+-----------+----+--------------------+----+------------+--------------------+------+--------+----+--------+----+--------------+--------+------------+------------+----+--------------------+-------------+--------------------+------------+\n",
      "|10224738|   HY411648|null|     043XX S WOOD ST|0486|     BATTERY|           RESIDENCE| false|    true|0924|     009|  12|            61|     08B|     1165074|     1875917|2015|02/10/2018 03:50:...|-87.669999562|(41.815117282, -8...|        4030|\n",
      "|10224739|   HY411615|null| 008XX N CENTRAL AVE|0870|       THEFT|             CTA BUS| false|   false|1511|     015|  29|            25|      06|     1138875|     1904869|2015|02/10/2018 03:50:...|-87.765400451|(41.895080471, -8...|        4030|\n",
      "|11646166|   JC213529|null|082XX S INGLESIDE...|0810|       THEFT|           RESIDENCE| false|    true|0631|     006|   8|            44|      06|        null|        null|2018|04/06/2019 04:04:...|         null|                null|        4036|\n",
      "|10224740|   HY411595|null|   035XX W BARRY AVE|2023|   NARCOTICS|            SIDEWALK|  true|   false|1412|     014|  35|            21|      18|     1152037|     1920384|2015|02/10/2018 03:50:...|-87.716649687|(41.937405765, -8...|        4030|\n",
      "|10224741|   HY411610|null| 0000X N LARAMIE AVE|0560|     ASSAULT|           APARTMENT| false|    true|1522|     015|  28|            25|     08A|     1141706|     1900086|2015|02/10/2018 03:50:...|-87.755121152|(41.881903443, -8...|        4030|\n",
      "+--------+-----------+----+--------------------+----+------------+--------------------+------+--------+----+--------+----+--------------+--------+------------+------------+----+--------------------+-------------+--------------------+------------+\n",
      "only showing top 5 rows\n",
      "\n"
     ]
    }
   ],
   "source": [
    "chumma1=chumma\n",
    "chumma1.show(5)"
   ]
  },
  {
   "cell_type": "code",
   "execution_count": 103,
   "metadata": {
    "scrolled": true
   },
   "outputs": [
    {
     "name": "stdout",
     "output_type": "stream",
     "text": [
      "+--------+-----------+----+--------------------+----+------------------+--------------------+------+--------+----+--------+----+--------------+--------+------------+------------+----+--------------------+-------------+--------------------+------------+\n",
      "|      ID|Case Number|Date|               Block|IUCR|      Primary Type|Location Description|Arrest|Domestic|Beat|District|Ward|Community Area|FBI Code|X Coordinate|Y Coordinate|Year|          Updated On|    Longitude|            Location|double _year|\n",
      "+--------+-----------+----+--------------------+----+------------------+--------------------+------+--------+----+--------+----+--------------+--------+------------+------------+----+--------------------+-------------+--------------------+------------+\n",
      "|10224738|   HY411648|null|     043XX S WOOD ST|0486|           BATTERY|           RESIDENCE| false|    true|0924|     009|  12|            61|     08B|     1165074|     1875917|2015|02/10/2018 03:50:...|-87.669999562|(41.815117282, -8...|        4030|\n",
      "|10224739|   HY411615|null| 008XX N CENTRAL AVE|0870|             THEFT|             CTA BUS| false|   false|1511|     015|  29|            25|      06|     1138875|     1904869|2015|02/10/2018 03:50:...|-87.765400451|(41.895080471, -8...|        4030|\n",
      "|11646166|   JC213529|null|082XX S INGLESIDE...|0810|             THEFT|           RESIDENCE| false|    true|0631|     006|   8|            44|      06|        null|        null|2018|04/06/2019 04:04:...|         null|                null|        4036|\n",
      "|10224740|   HY411595|null|   035XX W BARRY AVE|2023|         NARCOTICS|            SIDEWALK|  true|   false|1412|     014|  35|            21|      18|     1152037|     1920384|2015|02/10/2018 03:50:...|-87.716649687|(41.937405765, -8...|        4030|\n",
      "|10224741|   HY411610|null| 0000X N LARAMIE AVE|0560|           ASSAULT|           APARTMENT| false|    true|1522|     015|  28|            25|     08A|     1141706|     1900086|2015|02/10/2018 03:50:...|-87.755121152|(41.881903443, -8...|        4030|\n",
      "|10224742|   HY411435|null| 082XX S LOOMIS BLVD|0610|          BURGLARY|           RESIDENCE| false|   false|0614|     006|  21|            71|      05|     1168430|     1850165|2015|02/10/2018 03:50:...|-87.658430635|(41.744378879, -8...|        4030|\n",
      "|10224743|   HY411629|null|021XX W CHURCHILL ST|0620|          BURGLARY|    RESIDENCE-GARAGE| false|   false|1434|     014|  32|            24|      05|     1161628|     1912157|2015|02/10/2018 03:50:...|-87.681630909|(41.914635603, -8...|        4030|\n",
      "|10224744|   HY411605|null|   025XX W CERMAK RD|0860|             THEFT|  GROCERY FOOD STORE|  true|   false|1034|     010|  25|            31|      06|     1159734|     1889313|2015|09/17/2015 11:37:...|-87.689219118|(41.851988885, -8...|        4030|\n",
      "|10224745|   HY411654|null|031XX W WASHINGTO...|0320|           ROBBERY|              STREET| false|    true|1222|     012|  27|            27|      03|     1155536|     1900515|2015|02/10/2018 03:50:...|-87.704325717|(41.88281374, -87...|        4030|\n",
      "|11645836|   JC212333|null| 055XX S ROCKWELL ST|1153|DECEPTIVE PRACTICE|                null| false|   false|0824|     008|  15|            63|      11|        null|        null|2016|04/06/2019 04:04:...|         null|                null|        4032|\n",
      "|10224746|   HY411662|null|  071XX S PULASKI RD|0820|             THEFT|PARKING LOT/GARAG...| false|   false|0833|     008|  13|            65|      06|     1150938|     1857056|2015|02/10/2018 03:50:...|-87.722344693|(41.763647552, -8...|        4030|\n",
      "|10224749|   HY411626|null|052XX N MILWAUKEE...|0460|           BATTERY|  SMALL RETAIL STORE| false|   false|1623|     016|  45|            11|     08B|     1137969|     1934340|2015|02/10/2018 03:50:...|-87.768014257|(41.975968415, -8...|        4030|\n",
      "|10224750|   HY411632|null|    0000X W 103RD ST|2820|     OTHER OFFENSE|           APARTMENT| false|    true|0512|     005|  34|            49|      26|     1177871|     1836676|2015|02/10/2018 03:50:...|-87.624244993|(41.707154919, -8...|        4030|\n",
      "|10224751|   HY411566|null|     013XX E 47TH ST|0486|           BATTERY|              STREET| false|    true|0222|     002|   4|            39|     08B|     1185907|     1874105|2015|02/10/2018 03:50:...|-87.593638934|(41.809678314, -8...|        4030|\n",
      "|10224752|   HY411601|null| 020XX W SCHILLER ST|0810|             THEFT|              STREET| false|   false|1424|     014|   1|            24|      06|     1162574|     1909428|2015|02/10/2018 03:50:...|-87.678232016|(41.907127255, -8...|        4030|\n",
      "|10224753|   HY411489|null|  080XX S JUSTINE ST|0497|           BATTERY|           APARTMENT| false|   false|0612|     006|  21|            71|     04B|     1167400|     1851512|2015|02/10/2018 03:50:...|-87.662166183|(41.748097343, -8...|        4030|\n",
      "|10224754|   HY411656|null|007XX N LEAMINGTO...|1320|   CRIMINAL DAMAGE|              STREET| false|   false|1531|     015|  28|            25|      14|     1141889|     1904448|2015|02/10/2018 03:50:...|-87.754341096|(41.893869916, -8...|        4030|\n",
      "|10224756|   HY410094|null|103XX S TORRENCE AVE|0620|          BURGLARY|               OTHER| false|   false|0434|     004|  10|            51|      05|     1195508|     1836950|2015|02/10/2018 03:50:...|-87.559650325|(41.707490122, -8...|        4030|\n",
      "|10224757|   HY411388|null|  088XX S PAULINA ST|0610|          BURGLARY|           RESIDENCE|  true|   false|2221|     022|  21|            71|      05|     1166554|     1846067|2015|02/10/2018 03:50:...|-87.665421067|(41.733173536, -8...|        4030|\n",
      "|10224758|   HY411568|null|    059XX W GRACE ST|0486|           BATTERY|              STREET| false|    true|1633|     016|  38|            15|     08B|     1136014|     1924656|2015|02/10/2018 03:50:...|-87.775435529|(41.949429769, -8...|        4030|\n",
      "+--------+-----------+----+--------------------+----+------------------+--------------------+------+--------+----+--------+----+--------------+--------+------------+------------+----+--------------------+-------------+--------------------+------------+\n",
      "only showing top 20 rows\n",
      "\n"
     ]
    }
   ],
   "source": [
    "chumma.union(chumma1)\n",
    "\n",
    "chumma.show()"
   ]
  },
  {
   "cell_type": "code",
   "execution_count": 84,
   "metadata": {},
   "outputs": [
    {
     "name": "stdout",
     "output_type": "stream",
     "text": [
      "+---------+---+\n",
      "|firstname|age|\n",
      "+---------+---+\n",
      "|    James| 34|\n",
      "|      Ann| 34|\n",
      "|  Michael| 33|\n",
      "|    Scott| 53|\n",
      "|   Robert| 37|\n",
      "|     Chad| 27|\n",
      "+---------+---+\n",
      "\n",
      "+---------+---+\n",
      "|firstname|age|\n",
      "+---------+---+\n",
      "|   antony| 27|\n",
      "+---------+---+\n",
      "\n",
      "+---------+---+\n",
      "|firstname|age|\n",
      "+---------+---+\n",
      "|    James| 34|\n",
      "|      Ann| 34|\n",
      "|  Michael| 33|\n",
      "|    Scott| 53|\n",
      "|   Robert| 37|\n",
      "|     Chad| 27|\n",
      "|   antony| 27|\n",
      "+---------+---+\n",
      "\n"
     ]
    }
   ],
   "source": [
    "spark = SparkSession.builder.appName('SparkByExamples.com').getOrCreate()\n",
    "simpleData = [(\"James\",34),(\"Ann\",34),\n",
    "    (\"Michael\",33),(\"Scott\",53),\n",
    "    (\"Robert\",37),(\"Chad\",27)\n",
    "  ]\n",
    "\n",
    "columns = [\"firstname\",\"age\",]\n",
    "df = spark.createDataFrame(data = simpleData, schema = columns)\n",
    "df.show()\n",
    "df1 = spark.createDataFrame(data = [(\"antony\",27)], schema = columns)\n",
    "df1.show()\n",
    "df=df.union(df1)\n",
    "df.show()"
   ]
  },
  {
   "cell_type": "markdown",
   "metadata": {},
   "source": [
    "#### Add the reported crimes for an additional day, Dec-2018, to our dataset.\n"
   ]
  },
  {
   "cell_type": "code",
   "execution_count": 85,
   "metadata": {},
   "outputs": [
    {
     "name": "stdout",
     "output_type": "stream",
     "text": [
      "+--------+-----------+-------------------+-------------------+----+-------------+----------------+--------------------+------+--------+----+--------+----+--------------+--------+------------+------------+----+--------------------+--------+---------+--------+\n",
      "|      ID|Case Number|               Date|              Block|IUCR| Primary Type|     Description|Location Description|Arrest|Domestic|Beat|District|Ward|Community Area|FBI Code|X Coordinate|Y Coordinate|Year|          Updated On|Latitude|Longitude|Location|\n",
      "+--------+-----------+-------------------+-------------------+----+-------------+----------------+--------------------+------+--------+----+--------+----+--------------+--------+------------+------------+----+--------------------+--------+---------+--------+\n",
      "|12017906|   JD195459|2018-12-01 00:00:00|040XX N MARMORA AVE|2820|OTHER OFFENSE|TELEPHONE THREAT|           APARTMENT| false|    true|1624|     016|  38|            15|     08A|        null|        null|2018|03/27/2020 03:48:...|    null|     null|    null|\n",
      "+--------+-----------+-------------------+-------------------+----+-------------+----------------+--------------------+------+--------+----+--------+----+--------------+--------+------------+------------+----+--------------------+--------+---------+--------+\n",
      "\n"
     ]
    }
   ],
   "source": [
    "from pyspark.sql.functions import to_timestamp,col,lit\n",
    "df1 = spark.read.csv('rows.csv@accessType=DOWNLOAD',header=True).withColumn('Date',to_timestamp(col('Date'),'MM/dd/yyyy hh:mm:ss a')).filter(col('Date') == lit('2018-12'))\n",
    "\n",
    "####################      only filtering till 2018       #######################\n",
    "\n",
    "df1.show()\n",
    "\n",
    "\n"
   ]
  },
  {
   "cell_type": "code",
   "execution_count": 86,
   "metadata": {},
   "outputs": [
    {
     "name": "stdout",
     "output_type": "stream",
     "text": [
      "+--------+-----------+--------------------+--------------------+----+------------------+--------------------+--------------------+------+--------+----+--------+----+--------------+--------+------------+------------+----+--------------------+------------+-------------+--------------------+\n",
      "|      ID|Case Number|                Date|               Block|IUCR|      Primary Type|         Description|Location Description|Arrest|Domestic|Beat|District|Ward|Community Area|FBI Code|X Coordinate|Y Coordinate|Year|          Updated On|    Latitude|    Longitude|            Location|\n",
      "+--------+-----------+--------------------+--------------------+----+------------------+--------------------+--------------------+------+--------+----+--------+----+--------------+--------+------------+------------+----+--------------------+------------+-------------+--------------------+\n",
      "|10224738|   HY411648|09/05/2015 01:30:...|     043XX S WOOD ST|0486|           BATTERY|DOMESTIC BATTERY ...|           RESIDENCE| false|    true|0924|     009|  12|            61|     08B|     1165074|     1875917|2015|02/10/2018 03:50:...|41.815117282|-87.669999562|(41.815117282, -8...|\n",
      "|10224739|   HY411615|09/04/2015 11:30:...| 008XX N CENTRAL AVE|0870|             THEFT|      POCKET-PICKING|             CTA BUS| false|   false|1511|     015|  29|            25|      06|     1138875|     1904869|2015|02/10/2018 03:50:...|41.895080471|-87.765400451|(41.895080471, -8...|\n",
      "|11646166|   JC213529|09/01/2018 12:01:...|082XX S INGLESIDE...|0810|             THEFT|           OVER $500|           RESIDENCE| false|    true|0631|     006|   8|            44|      06|        null|        null|2018|04/06/2019 04:04:...|        null|         null|                null|\n",
      "|10224740|   HY411595|09/05/2015 12:45:...|   035XX W BARRY AVE|2023|         NARCOTICS|POSS: HEROIN(BRN/...|            SIDEWALK|  true|   false|1412|     014|  35|            21|      18|     1152037|     1920384|2015|02/10/2018 03:50:...|41.937405765|-87.716649687|(41.937405765, -8...|\n",
      "|10224741|   HY411610|09/05/2015 01:00:...| 0000X N LARAMIE AVE|0560|           ASSAULT|              SIMPLE|           APARTMENT| false|    true|1522|     015|  28|            25|     08A|     1141706|     1900086|2015|02/10/2018 03:50:...|41.881903443|-87.755121152|(41.881903443, -8...|\n",
      "|10224742|   HY411435|09/05/2015 10:55:...| 082XX S LOOMIS BLVD|0610|          BURGLARY|      FORCIBLE ENTRY|           RESIDENCE| false|   false|0614|     006|  21|            71|      05|     1168430|     1850165|2015|02/10/2018 03:50:...|41.744378879|-87.658430635|(41.744378879, -8...|\n",
      "|10224743|   HY411629|09/04/2015 06:00:...|021XX W CHURCHILL ST|0620|          BURGLARY|      UNLAWFUL ENTRY|    RESIDENCE-GARAGE| false|   false|1434|     014|  32|            24|      05|     1161628|     1912157|2015|02/10/2018 03:50:...|41.914635603|-87.681630909|(41.914635603, -8...|\n",
      "|10224744|   HY411605|09/05/2015 01:00:...|   025XX W CERMAK RD|0860|             THEFT|        RETAIL THEFT|  GROCERY FOOD STORE|  true|   false|1034|     010|  25|            31|      06|     1159734|     1889313|2015|09/17/2015 11:37:...|41.851988885|-87.689219118|(41.851988885, -8...|\n",
      "|10224745|   HY411654|09/05/2015 11:30:...|031XX W WASHINGTO...|0320|           ROBBERY|STRONGARM - NO WE...|              STREET| false|    true|1222|     012|  27|            27|      03|     1155536|     1900515|2015|02/10/2018 03:50:...| 41.88281374|-87.704325717|(41.88281374, -87...|\n",
      "|11645836|   JC212333|05/01/2016 12:25:...| 055XX S ROCKWELL ST|1153|DECEPTIVE PRACTICE|FINANCIAL IDENTIT...|                null| false|   false|0824|     008|  15|            63|      11|        null|        null|2016|04/06/2019 04:04:...|        null|         null|                null|\n",
      "|10224746|   HY411662|09/05/2015 02:00:...|  071XX S PULASKI RD|0820|             THEFT|      $500 AND UNDER|PARKING LOT/GARAG...| false|   false|0833|     008|  13|            65|      06|     1150938|     1857056|2015|02/10/2018 03:50:...|41.763647552|-87.722344693|(41.763647552, -8...|\n",
      "|10224749|   HY411626|09/05/2015 11:00:...|052XX N MILWAUKEE...|0460|           BATTERY|              SIMPLE|  SMALL RETAIL STORE| false|   false|1623|     016|  45|            11|     08B|     1137969|     1934340|2015|02/10/2018 03:50:...|41.975968415|-87.768014257|(41.975968415, -8...|\n",
      "|10224750|   HY411632|09/05/2015 03:00:...|    0000X W 103RD ST|2820|     OTHER OFFENSE|    TELEPHONE THREAT|           APARTMENT| false|    true|0512|     005|  34|            49|      26|     1177871|     1836676|2015|02/10/2018 03:50:...|41.707154919|-87.624244993|(41.707154919, -8...|\n",
      "|10224751|   HY411566|09/05/2015 12:50:...|     013XX E 47TH ST|0486|           BATTERY|DOMESTIC BATTERY ...|              STREET| false|    true|0222|     002|   4|            39|     08B|     1185907|     1874105|2015|02/10/2018 03:50:...|41.809678314|-87.593638934|(41.809678314, -8...|\n",
      "|10224752|   HY411601|09/03/2015 01:00:...| 020XX W SCHILLER ST|0810|             THEFT|           OVER $500|              STREET| false|   false|1424|     014|   1|            24|      06|     1162574|     1909428|2015|02/10/2018 03:50:...|41.907127255|-87.678232016|(41.907127255, -8...|\n",
      "|10224753|   HY411489|09/05/2015 11:45:...|  080XX S JUSTINE ST|0497|           BATTERY|AGGRAVATED DOMEST...|           APARTMENT| false|   false|0612|     006|  21|            71|     04B|     1167400|     1851512|2015|02/10/2018 03:50:...|41.748097343|-87.662166183|(41.748097343, -8...|\n",
      "|10224754|   HY411656|09/05/2015 01:30:...|007XX N LEAMINGTO...|1320|   CRIMINAL DAMAGE|          TO VEHICLE|              STREET| false|   false|1531|     015|  28|            25|      14|     1141889|     1904448|2015|02/10/2018 03:50:...|41.893869916|-87.754341096|(41.893869916, -8...|\n",
      "|10224756|   HY410094|07/08/2015 12:00:...|103XX S TORRENCE AVE|0620|          BURGLARY|      UNLAWFUL ENTRY|               OTHER| false|   false|0434|     004|  10|            51|      05|     1195508|     1836950|2015|02/10/2018 03:50:...|41.707490122|-87.559650325|(41.707490122, -8...|\n",
      "|10224757|   HY411388|09/05/2015 09:55:...|  088XX S PAULINA ST|0610|          BURGLARY|      FORCIBLE ENTRY|           RESIDENCE|  true|   false|2221|     022|  21|            71|      05|     1166554|     1846067|2015|02/10/2018 03:50:...|41.733173536|-87.665421067|(41.733173536, -8...|\n",
      "|10224758|   HY411568|09/05/2015 12:35:...|    059XX W GRACE ST|0486|           BATTERY|DOMESTIC BATTERY ...|              STREET| false|    true|1633|     016|  38|            15|     08B|     1136014|     1924656|2015|02/10/2018 03:50:...|41.949429769|-87.775435529|(41.949429769, -8...|\n",
      "+--------+-----------+--------------------+--------------------+----+------------------+--------------------+--------------------+------+--------+----+--------+----+--------------+--------+------------+------------+----+--------------------+------------+-------------+--------------------+\n",
      "only showing top 20 rows\n",
      "\n"
     ]
    }
   ],
   "source": [
    "df = spark.read.csv('rows.csv@accessType=DOWNLOAD',header=True)\n",
    "df.show()"
   ]
  },
  {
   "cell_type": "code",
   "execution_count": 73,
   "metadata": {},
   "outputs": [],
   "source": [
    "## ADDING THIS TO PUR ORIGINAL DATAFRAME\n",
    "\n",
    "df=df.union(df1)\n"
   ]
  },
  {
   "cell_type": "code",
   "execution_count": 87,
   "metadata": {},
   "outputs": [
    {
     "data": {
      "text/plain": [
       "[Row(ID='  \"status\" : 500', Case Number=None, Date=None, Block=None, IUCR=None, Primary Type=None, Description=None, Location Description=None, Arrest=None, Domestic=None, Beat=None, District=None, Ward=None, Community Area=None, FBI Code=None, X Coordinate=None, Y Coordinate=None, Year=None, Updated On=None, Latitude=None, Longitude=None, Location=None),\n",
       " Row(ID='}', Case Number=None, Date=None, Block=None, IUCR=None, Primary Type=None, Description=None, Location Description=None, Arrest=None, Domestic=None, Beat=None, District=None, Ward=None, Community Area=None, FBI Code=None, X Coordinate=None, Y Coordinate=None, Year=None, Updated On=None, Latitude=None, Longitude=None, Location=None)]"
      ]
     },
     "execution_count": 87,
     "metadata": {},
     "output_type": "execute_result"
    }
   ],
   "source": [
    "df.tail(2)"
   ]
  },
  {
   "cell_type": "code",
   "execution_count": 88,
   "metadata": {},
   "outputs": [
    {
     "name": "stdout",
     "output_type": "stream",
     "text": [
      "+--------+-----------+--------------------+-------------------+----+-------------+----------------+--------------------+------+--------+----+--------+----+--------------+--------+------------+------------+----+--------------------+--------+---------+--------+\n",
      "|      ID|Case Number|                Date|              Block|IUCR| Primary Type|     Description|Location Description|Arrest|Domestic|Beat|District|Ward|Community Area|FBI Code|X Coordinate|Y Coordinate|Year|          Updated On|Latitude|Longitude|Location|\n",
      "+--------+-----------+--------------------+-------------------+----+-------------+----------------+--------------------+------+--------+----+--------+----+--------------+--------+------------+------------+----+--------------------+--------+---------+--------+\n",
      "|12017906|   JD195459|12/01/2018 12:00:...|040XX N MARMORA AVE|2820|OTHER OFFENSE|TELEPHONE THREAT|           APARTMENT| false|    true|1624|     016|  38|            15|     08A|        null|        null|2018|03/27/2020 03:48:...|    null|     null|    null|\n",
      "+--------+-----------+--------------------+-------------------+----+-------------+----------------+--------------------+------+--------+----+--------+----+--------------+--------+------------+------------+----+--------------------+--------+---------+--------+\n",
      "\n"
     ]
    }
   ],
   "source": [
    "df.filter(col('ID') == lit('12017906')).show()"
   ]
  },
  {
   "cell_type": "markdown",
   "metadata": {},
   "source": [
    "### CHALLENGE QNS"
   ]
  },
  {
   "cell_type": "code",
   "execution_count": 144,
   "metadata": {},
   "outputs": [],
   "source": [
    "### WHAT PERCENT OF REPORTED FUNCTIONS RESULTED IN AN ARREST\n",
    "\n",
    "TOTAL TRUE ARREST CASES / TOTAL NUMBER OF ROWS * 100"
   ]
  },
  {
   "cell_type": "code",
   "execution_count": 147,
   "metadata": {},
   "outputs": [
    {
     "data": {
      "text/plain": [
       "718078"
      ]
     },
     "execution_count": 147,
     "metadata": {},
     "output_type": "execute_result"
    }
   ],
   "source": [
    "rc.cache()\n",
    "rc.count()"
   ]
  },
  {
   "cell_type": "code",
   "execution_count": 158,
   "metadata": {},
   "outputs": [
    {
     "data": {
      "text/plain": [
       "149136"
      ]
     },
     "execution_count": 158,
     "metadata": {},
     "output_type": "execute_result"
    }
   ],
   "source": [
    "rc.filter(col(\"Arrest\") == \"true\").count()"
   ]
  },
  {
   "cell_type": "code",
   "execution_count": 159,
   "metadata": {},
   "outputs": [
    {
     "data": {
      "text/plain": [
       "718078"
      ]
     },
     "execution_count": 159,
     "metadata": {},
     "output_type": "execute_result"
    }
   ],
   "source": [
    "rc.select(\"Arrest\").count()"
   ]
  },
  {
   "cell_type": "code",
   "execution_count": 150,
   "metadata": {},
   "outputs": [
    {
     "data": {
      "text/plain": [
       "20.768774422834287"
      ]
     },
     "execution_count": 150,
     "metadata": {},
     "output_type": "execute_result"
    }
   ],
   "source": [
    "(149136/718078) * 100"
   ]
  },
  {
   "cell_type": "code",
   "execution_count": 145,
   "metadata": {},
   "outputs": [],
   "source": [
    "### TOP 3 LOCATIONS FOR REPORTED CRIMES"
   ]
  },
  {
   "cell_type": "code",
   "execution_count": 91,
   "metadata": {},
   "outputs": [
    {
     "name": "stdout",
     "output_type": "stream",
     "text": [
      "+--------+-----------+-------------------+--------------------+----+------------+--------------------+--------------------+------+--------+----+--------+----+--------------+--------+------------+------------+----+--------------------+------------+-------------+--------------------+\n",
      "|      ID|Case Number|               Date|               Block|IUCR|Primary Type|         Description|Location Description|Arrest|Domestic|Beat|District|Ward|Community Area|FBI Code|X Coordinate|Y Coordinate|Year|          Updated On|    Latitude|    Longitude|            Location|\n",
      "+--------+-----------+-------------------+--------------------+----+------------+--------------------+--------------------+------+--------+----+--------+----+--------------+--------+------------+------------+----+--------------------+------------+-------------+--------------------+\n",
      "|10224738|   HY411648|2015-09-05 13:30:00|     043XX S WOOD ST|0486|     BATTERY|DOMESTIC BATTERY ...|           RESIDENCE| false|    true|0924|     009|  12|            61|     08B|     1165074|     1875917|2015|02/10/2018 03:50:...|41.815117282|-87.669999562|(41.815117282, -8...|\n",
      "|10224739|   HY411615|2015-09-04 11:30:00| 008XX N CENTRAL AVE|0870|       THEFT|      POCKET-PICKING|             CTA BUS| false|   false|1511|     015|  29|            25|      06|     1138875|     1904869|2015|02/10/2018 03:50:...|41.895080471|-87.765400451|(41.895080471, -8...|\n",
      "|11646166|   JC213529|2018-09-01 00:01:00|082XX S INGLESIDE...|0810|       THEFT|           OVER $500|           RESIDENCE| false|    true|0631|     006|   8|            44|      06|        null|        null|2018|04/06/2019 04:04:...|        null|         null|                null|\n",
      "|10224740|   HY411595|2015-09-05 12:45:00|   035XX W BARRY AVE|2023|   NARCOTICS|POSS: HEROIN(BRN/...|            SIDEWALK|  true|   false|1412|     014|  35|            21|      18|     1152037|     1920384|2015|02/10/2018 03:50:...|41.937405765|-87.716649687|(41.937405765, -8...|\n",
      "|10224741|   HY411610|2015-09-05 13:00:00| 0000X N LARAMIE AVE|0560|     ASSAULT|              SIMPLE|           APARTMENT| false|    true|1522|     015|  28|            25|     08A|     1141706|     1900086|2015|02/10/2018 03:50:...|41.881903443|-87.755121152|(41.881903443, -8...|\n",
      "+--------+-----------+-------------------+--------------------+----+------------+--------------------+--------------------+------+--------+----+--------+----+--------------+--------+------------+------------+----+--------------------+------------+-------------+--------------------+\n",
      "only showing top 5 rows\n",
      "\n"
     ]
    }
   ],
   "source": [
    "rc.show(5)"
   ]
  },
  {
   "cell_type": "code",
   "execution_count": 92,
   "metadata": {
    "scrolled": true
   },
   "outputs": [
    {
     "name": "stdout",
     "output_type": "stream",
     "text": [
      "+--------------------+\n",
      "|Location Description|\n",
      "+--------------------+\n",
      "|SCHOOL - PRIVATE ...|\n",
      "|AIRPORT TERMINAL ...|\n",
      "|VEHICLE - COMMERCIAL|\n",
      "|POLICE FACILITY/V...|\n",
      "|RESIDENCE - YARD ...|\n",
      "|CHA PARKING LOT /...|\n",
      "|            SIDEWALK|\n",
      "|AIRPORT TERMINAL ...|\n",
      "|OTHER RAILROAD PR...|\n",
      "|CTA GARAGE / OTHE...|\n",
      "|            CAR WASH|\n",
      "|    AIRPORT/AIRCRAFT|\n",
      "|MEDICAL/DENTAL OF...|\n",
      "|    FEDERAL BUILDING|\n",
      "|         CTA STATION|\n",
      "|SCHOOL, PUBLIC, G...|\n",
      "|SPORTS ARENA/STADIUM|\n",
      "|                FARM|\n",
      "|VEHICLE - OTHER R...|\n",
      "|               HOUSE|\n",
      "+--------------------+\n",
      "only showing top 20 rows\n",
      "\n",
      "+--------------+\n",
      "|Community Area|\n",
      "+--------------+\n",
      "|            51|\n",
      "|             7|\n",
      "|            15|\n",
      "|            54|\n",
      "|            11|\n",
      "|            29|\n",
      "|            69|\n",
      "|            42|\n",
      "|            73|\n",
      "|            64|\n",
      "|             3|\n",
      "|            30|\n",
      "|            34|\n",
      "|            59|\n",
      "|             8|\n",
      "|            28|\n",
      "|            22|\n",
      "|            52|\n",
      "|            35|\n",
      "|            16|\n",
      "+--------------+\n",
      "only showing top 20 rows\n",
      "\n"
     ]
    }
   ],
   "source": [
    "rc.select(\"Location Description\").distinct().show()\n",
    "rc.select(\"Community Area\").distinct().show()"
   ]
  },
  {
   "cell_type": "code",
   "execution_count": 93,
   "metadata": {},
   "outputs": [
    {
     "name": "stdout",
     "output_type": "stream",
     "text": [
      "+--------------+-----+\n",
      "|Community Area|count|\n",
      "+--------------+-----+\n",
      "|            25|43315|\n",
      "|             8|29772|\n",
      "|            32|25882|\n",
      "+--------------+-----+\n",
      "only showing top 3 rows\n",
      "\n"
     ]
    }
   ],
   "source": [
    "rc.groupBy(\"Community Area\").count().orderBy(\"count\",ascending=False).show(3)"
   ]
  },
  {
   "cell_type": "code",
   "execution_count": 94,
   "metadata": {},
   "outputs": [
    {
     "name": "stdout",
     "output_type": "stream",
     "text": [
      "+--------------------+------+\n",
      "|Location Description| count|\n",
      "+--------------------+------+\n",
      "|              STREET|159735|\n",
      "|           RESIDENCE|121804|\n",
      "|           APARTMENT| 92478|\n",
      "+--------------------+------+\n",
      "only showing top 3 rows\n",
      "\n"
     ]
    }
   ],
   "source": [
    "rc.groupBy(\"Location Description\").count().orderBy(\"count\",ascending=False).show(3)"
   ]
  },
  {
   "cell_type": "code",
   "execution_count": null,
   "metadata": {},
   "outputs": [],
   "source": []
  }
 ],
 "metadata": {
  "kernelspec": {
   "display_name": "Python 3",
   "language": "python",
   "name": "python3"
  },
  "language_info": {
   "codemirror_mode": {
    "name": "ipython",
    "version": 3
   },
   "file_extension": ".py",
   "mimetype": "text/x-python",
   "name": "python",
   "nbconvert_exporter": "python",
   "pygments_lexer": "ipython3",
   "version": "3.8.5"
  }
 },
 "nbformat": 4,
 "nbformat_minor": 4
}
