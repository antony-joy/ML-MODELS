{
 "cells": [
  {
   "cell_type": "markdown",
   "metadata": {},
   "source": [
    "You can use RDDs when you want to perform low-level transformations and actions on your unstructured data. \n",
    "\n",
    "RDDs\n",
    "RDDs are the building blocks of Spark. It’s the original API that Spark exposed and pretty much all the higher level APIs decompose to RDDs. From a developer’s perspective, an RDD is simply a set of Java or Scala objects representing data.\n",
    "\n",
    "RDDs have three main characteristics: they are compile-time type safe (they have a type!), they are lazy and they are based on the Scala collections API.\n",
    "\n",
    "RDD is a distributed collection of data elements without any schema-- can have unstructured data tooo"
   ]
  },
  {
   "cell_type": "code",
   "execution_count": 10,
   "metadata": {},
   "outputs": [
    {
     "data": {
      "text/html": [
       "\n",
       "        <div>\n",
       "            <p><b>SparkContext</b></p>\n",
       "\n",
       "            <p><a href=\"http://LAPTOP-MI2531VA:4044\">Spark UI</a></p>\n",
       "\n",
       "            <dl>\n",
       "              <dt>Version</dt>\n",
       "                <dd><code>v3.1.1</code></dd>\n",
       "              <dt>Master</dt>\n",
       "                <dd><code>local[*]</code></dd>\n",
       "              <dt>AppName</dt>\n",
       "                <dd><code>pyspark-shell</code></dd>\n",
       "            </dl>\n",
       "        </div>\n",
       "        "
      ],
      "text/plain": [
       "<SparkContext master=local[*] appName=pyspark-shell>"
      ]
     },
     "execution_count": 10,
     "metadata": {},
     "output_type": "execute_result"
    }
   ],
   "source": [
    "\n",
    "\n",
    "import findspark\n",
    "findspark.init()\n",
    "from pyspark import SparkContext\n",
    "\n",
    "sc = SparkContext.getOrCreate()\n",
    "sc"
   ]
  },
  {
   "cell_type": "code",
   "execution_count": 4,
   "metadata": {},
   "outputs": [
    {
     "data": {
      "text/html": [
       "\n",
       "            <div>\n",
       "                <p><b>SparkSession - in-memory</b></p>\n",
       "                \n",
       "        <div>\n",
       "            <p><b>SparkContext</b></p>\n",
       "\n",
       "            <p><a href=\"http://LAPTOP-MI2531VA:4044\">Spark UI</a></p>\n",
       "\n",
       "            <dl>\n",
       "              <dt>Version</dt>\n",
       "                <dd><code>v3.1.1</code></dd>\n",
       "              <dt>Master</dt>\n",
       "                <dd><code>local[*]</code></dd>\n",
       "              <dt>AppName</dt>\n",
       "                <dd><code>pyspark-shell</code></dd>\n",
       "            </dl>\n",
       "        </div>\n",
       "        \n",
       "            </div>\n",
       "        "
      ],
      "text/plain": [
       "<pyspark.sql.session.SparkSession at 0x2875bb495b0>"
      ]
     },
     "execution_count": 4,
     "metadata": {},
     "output_type": "execute_result"
    }
   ],
   "source": [
    "import pyspark\n",
    "from pyspark.sql import SparkSession\n",
    "spark = SparkSession.builder.getOrCreate() \n",
    "spark"
   ]
  },
  {
   "cell_type": "code",
   "execution_count": 6,
   "metadata": {},
   "outputs": [
    {
     "name": "stdout",
     "output_type": "stream",
     "text": [
      " Volume in drive C is Windows\n",
      " Volume Serial Number is 4234-2518\n",
      "\n",
      " Directory of C:\\Users\\ANTHONY\\Desktop\\important ipynb codes\\SPARK\n",
      "\n",
      "05-04-2021  09:47 AM    <DIR>          .\n",
      "05-04-2021  09:47 AM    <DIR>          ..\n",
      "05-04-2021  09:45 AM    <DIR>          .ipynb_checkpoints\n",
      "03-04-2021  12:18 PM           292,486 1.Context , session and data import.ipynb\n",
      "03-04-2021  07:35 PM            99,155 2. Schemas_Columns_rows_groupby_sort_unique.ipynb\n",
      "03-04-2021  08:37 PM            23,185 3. Built_in_functions.ipynb\n",
      "05-04-2021  09:43 AM            84,261 3.Functions&date&joins.ipynb\n",
      "03-04-2021  09:23 AM             4,046 Download_data.ipynb\n",
      "03-04-2021  07:33 PM             2,294 FIRST_SAMPLE.ipynb\n",
      "19-08-2019  06:56 AM             5,699 police_station.csv\n",
      "05-04-2021  09:47 AM               555 RDD.ipynb\n",
      "02-04-2021  04:48 PM       171,057,223 reported-crimes.csv\n",
      "02-04-2021  04:48 PM       171,057,223 rows.csv@accessType=DOWNLOAD\n",
      "03-04-2021  07:42 PM             8,933 Untitled.ipynb\n",
      "03-04-2021  12:53 PM             6,910 Working_with_columns.ipynb\n",
      "03-04-2021  09:00 PM             6,829 Working_with_dates.ipynb\n",
      "03-04-2021  01:31 PM             6,581 Working_with_rows.ipynb\n",
      "              14 File(s)    342,655,380 bytes\n",
      "               3 Dir(s)  44,982,685,696 bytes free\n"
     ]
    }
   ],
   "source": [
    "%ls"
   ]
  },
  {
   "cell_type": "code",
   "execution_count": 7,
   "metadata": {},
   "outputs": [
    {
     "data": {
      "text/html": [
       "<style>\n",
       "div.output_area pre {\n",
       "    white-space: pre;\n",
       "}\n",
       "</style>\n"
      ],
      "text/plain": [
       "<IPython.core.display.HTML object>"
      ]
     },
     "metadata": {},
     "output_type": "display_data"
    }
   ],
   "source": [
    "%%html\n",
    "<style>\n",
    "div.output_area pre {\n",
    "    white-space: pre;\n",
    "}\n",
    "</style>"
   ]
  },
  {
   "cell_type": "code",
   "execution_count": 8,
   "metadata": {},
   "outputs": [
    {
     "name": "stdout",
     "output_type": "stream",
     "text": [
      "+------------+-------------+-------------------+-------+-----+-----+--------------------+------------+------------+------------+------------+------------+-----------+------------+--------------------+\n",
      "|    DISTRICT|DISTRICT NAME|            ADDRESS|   CITY|STATE|  ZIP|             WEBSITE|       PHONE|         FAX|         TTY|X COORDINATE|Y COORDINATE|   LATITUDE|   LONGITUDE|            LOCATION|\n",
      "+------------+-------------+-------------------+-------+-----+-----+--------------------+------------+------------+------------+------------+------------+-----------+------------+--------------------+\n",
      "|Headquarters| Headquarters|3510 S Michigan Ave|Chicago|   IL|60653|http://home.chica...|        null|        null|        null| 1177731.401| 1881697.404|41.83070169|-87.62339535|(41.8307016873, -...|\n",
      "|          18|   Near North| 1160 N Larrabee St|Chicago|   IL|60610|http://home.chica...|312-742-5870|312-742-5771|312-742-5773| 1172080.029| 1908086.527|41.90324165|-87.64335214|(41.9032416531, -...|\n",
      "|          19|    Town Hall|   850 W Addison St|Chicago|   IL|60613|http://home.chica...|312-744-8320|312-744-4481|312-744-8011| 1169730.744| 1924160.317|41.94740046|-87.65151202|(41.9474004564, -...|\n",
      "|          20|      Lincoln| 5400 N Lincoln Ave|Chicago|   IL|60625|http://home.chica...|312-742-8714|312-742-8803|312-742-8841| 1158399.146| 1935788.826|41.97954951|-87.69284451|(41.9795495131, -...|\n",
      "|          22|  Morgan Park|1900 W Monterey Ave|Chicago|   IL|60643|http://home.chica...|312-745-0710|312-745-0814|312-745-0569| 1165825.476| 1830851.333|41.69143478|-87.66852039|(41.6914347795, -...|\n",
      "+------------+-------------+-------------------+-------+-----+-----+--------------------+------------+------------+------------+------------+------------+-----------+------------+--------------------+\n",
      "only showing top 5 rows\n",
      "\n"
     ]
    }
   ],
   "source": [
    "from pyspark.sql.functions import to_timestamp,col,lit\n",
    "ps = spark.read.csv('police_station.csv',header=True)\n",
    "ps.show(5)"
   ]
  },
  {
   "cell_type": "markdown",
   "metadata": {},
   "source": [
    "### RDD SETUP"
   ]
  },
  {
   "cell_type": "code",
   "execution_count": 12,
   "metadata": {},
   "outputs": [
    {
     "data": {
      "text/plain": [
       "police_station.csv MapPartitionsRDD[14] at textFile at NativeMethodAccessorImpl.java:0"
      ]
     },
     "execution_count": 12,
     "metadata": {},
     "output_type": "execute_result"
    }
   ],
   "source": [
    "psrdd=sc.textFile(\"police_station.csv\")\n",
    "psrdd"
   ]
  },
  {
   "cell_type": "code",
   "execution_count": 13,
   "metadata": {},
   "outputs": [
    {
     "data": {
      "text/plain": [
       "'DISTRICT,DISTRICT NAME,ADDRESS,CITY,STATE,ZIP,WEBSITE,PHONE,FAX,TTY,X COORDINATE,Y COORDINATE,LATITUDE,LONGITUDE,LOCATION'"
      ]
     },
     "execution_count": 13,
     "metadata": {},
     "output_type": "execute_result"
    }
   ],
   "source": [
    "psrdd.first()"
   ]
  },
  {
   "cell_type": "code",
   "execution_count": 14,
   "metadata": {},
   "outputs": [],
   "source": [
    "ps_header=psrdd.first()"
   ]
  },
  {
   "cell_type": "code",
   "execution_count": 15,
   "metadata": {},
   "outputs": [
    {
     "data": {
      "text/plain": [
       "'Headquarters,Headquarters,3510 S Michigan Ave,Chicago,IL,60653,http://home.chicagopolice.org,,,,1177731.401,1881697.404,41.83070169,-87.62339535,\"(41.8307016873, -87.6233953459)\"'"
      ]
     },
     "execution_count": 15,
     "metadata": {},
     "output_type": "execute_result"
    }
   ],
   "source": [
    "ps_rest=psrdd.filter(lambda line:line!=ps_header)\n",
    "ps_rest.first()"
   ]
  },
  {
   "cell_type": "code",
   "execution_count": null,
   "metadata": {},
   "outputs": [],
   "source": []
  },
  {
   "cell_type": "code",
   "execution_count": null,
   "metadata": {},
   "outputs": [],
   "source": []
  },
  {
   "cell_type": "markdown",
   "metadata": {},
   "source": [
    "##### How many police stations are there?"
   ]
  },
  {
   "cell_type": "code",
   "execution_count": 16,
   "metadata": {},
   "outputs": [
    {
     "data": {
      "text/plain": [
       "[['Headquarters',\n",
       "  'Headquarters',\n",
       "  '3510 S Michigan Ave',\n",
       "  'Chicago',\n",
       "  'IL',\n",
       "  '60653',\n",
       "  'http://home.chicagopolice.org',\n",
       "  '',\n",
       "  '',\n",
       "  '',\n",
       "  '1177731.401',\n",
       "  '1881697.404',\n",
       "  '41.83070169',\n",
       "  '-87.62339535',\n",
       "  '\"(41.8307016873',\n",
       "  ' -87.6233953459)\"'],\n",
       " ['18',\n",
       "  'Near North',\n",
       "  '1160 N Larrabee St',\n",
       "  'Chicago',\n",
       "  'IL',\n",
       "  '60610',\n",
       "  'http://home.chicagopolice.org/community/districts/18th-district-near-north/',\n",
       "  '312-742-5870',\n",
       "  '312-742-5771',\n",
       "  '312-742-5773',\n",
       "  '1172080.029',\n",
       "  '1908086.527',\n",
       "  '41.90324165',\n",
       "  '-87.64335214',\n",
       "  '\"(41.9032416531',\n",
       "  ' -87.6433521393)\"'],\n",
       " ['19',\n",
       "  'Town Hall',\n",
       "  '850 W Addison St',\n",
       "  'Chicago',\n",
       "  'IL',\n",
       "  '60613',\n",
       "  'http://home.chicagopolice.org/community/districts/19th-district-town-hall/',\n",
       "  '312-744-8320',\n",
       "  '312-744-4481',\n",
       "  '312-744-8011',\n",
       "  '1169730.744',\n",
       "  '1924160.317',\n",
       "  '41.94740046',\n",
       "  '-87.65151202',\n",
       "  '\"(41.9474004564',\n",
       "  ' -87.651512018)\"'],\n",
       " ['20',\n",
       "  'Lincoln',\n",
       "  '5400 N Lincoln Ave',\n",
       "  'Chicago',\n",
       "  'IL',\n",
       "  '60625',\n",
       "  'http://home.chicagopolice.org/community/districts/20th-district-lincoln/',\n",
       "  '312-742-8714',\n",
       "  '312-742-8803',\n",
       "  '312-742-8841',\n",
       "  '1158399.146',\n",
       "  '1935788.826',\n",
       "  '41.97954951',\n",
       "  '-87.69284451',\n",
       "  '\"(41.9795495131',\n",
       "  ' -87.6928445094)\"'],\n",
       " ['22',\n",
       "  'Morgan Park',\n",
       "  '1900 W Monterey Ave',\n",
       "  'Chicago',\n",
       "  'IL',\n",
       "  '60643',\n",
       "  'http://home.chicagopolice.org/community/districts/22nd-district-morgan-park/',\n",
       "  '312-745-0710',\n",
       "  '312-745-0814',\n",
       "  '312-745-0569',\n",
       "  '1165825.476',\n",
       "  '1830851.333',\n",
       "  '41.69143478',\n",
       "  '-87.66852039',\n",
       "  '\"(41.6914347795',\n",
       "  ' -87.6685203937)\"'],\n",
       " ['24',\n",
       "  'Rogers Park',\n",
       "  '6464 N Clark St',\n",
       "  'Chicago',\n",
       "  'IL',\n",
       "  '60626',\n",
       "  'http://home.chicagopolice.org/community/districts/24th-district-rogers-park/',\n",
       "  '312-744-5907',\n",
       "  '312-744-6928',\n",
       "  '312-744-7603',\n",
       "  '1164193.588',\n",
       "  '1943199.401',\n",
       "  '41.99976348',\n",
       "  '-87.67132429',\n",
       "  '\"(41.9997634842',\n",
       "  ' -87.6713242922)\"'],\n",
       " ['25',\n",
       "  'Grand Central',\n",
       "  '5555 W Grand Ave',\n",
       "  'Chicago',\n",
       "  'IL',\n",
       "  '60639',\n",
       "  'http://home.chicagopolice.org/community/districts/25th-district-grand-central/',\n",
       "  '312-746-8605',\n",
       "  '312-746-4353',\n",
       "  '312-746-8383',\n",
       "  '1138770.871',\n",
       "  '1913442.439',\n",
       "  '41.91860889',\n",
       "  '-87.76557448',\n",
       "  '\"(41.9186088912',\n",
       "  ' -87.765574479)\"'],\n",
       " ['1',\n",
       "  'Central',\n",
       "  '1718 S State St',\n",
       "  'Chicago',\n",
       "  'IL',\n",
       "  '60616',\n",
       "  'http://home.chicagopolice.org/community/districts/1st-district-central/',\n",
       "  '312-745-4290',\n",
       "  '312-745-3694',\n",
       "  '312-745-3693',\n",
       "  '1176569.052',\n",
       "  '1891771.704',\n",
       "  '41.85837259',\n",
       "  '-87.62735617',\n",
       "  '\"(41.8583725929',\n",
       "  ' -87.627356171)\"'],\n",
       " ['2',\n",
       "  'Wentworth',\n",
       "  '5101 S Wentworth Ave',\n",
       "  'Chicago',\n",
       "  'IL',\n",
       "  '60609',\n",
       "  'http://home.chicagopolice.org/community/districts/2nd-district-wentworth/',\n",
       "  '312-747-8366',\n",
       "  '312-747-5396',\n",
       "  '312-747-6656',\n",
       "  '1175864.837',\n",
       "  '1871153.753',\n",
       "  '41.80181109',\n",
       "  '-87.63056018',\n",
       "  '\"(41.8018110912',\n",
       "  ' -87.6305601801)\"'],\n",
       " ['3',\n",
       "  'Grand Crossing',\n",
       "  '7040 S Cottage Grove Ave',\n",
       "  'Chicago',\n",
       "  'IL',\n",
       "  '60637',\n",
       "  'http://home.chicagopolice.org/community/districts/3rd-district-grand-crossing/',\n",
       "  '312-747-8201',\n",
       "  '312-747-5479',\n",
       "  '312-747-9168',\n",
       "  '1182739.183',\n",
       "  '1858317.732',\n",
       "  '41.76643089',\n",
       "  '-87.60574786',\n",
       "  '\"(41.7664308925',\n",
       "  ' -87.6057478606)\"'],\n",
       " ['4',\n",
       "  'South Chicago',\n",
       "  '2255 E 103rd St',\n",
       "  'Chicago',\n",
       "  'IL',\n",
       "  '60617',\n",
       "  'http://home.chicagopolice.org/community/districts/4th-district-south-chicago/',\n",
       "  '312-747-7581',\n",
       "  '312-747-5276',\n",
       "  '312-747-9169',\n",
       "  '1193131.299',\n",
       "  '1837090.265',\n",
       "  '41.70793329',\n",
       "  '-87.56834912',\n",
       "  '\"(41.7079332906',\n",
       "  ' -87.5683491228)\"'],\n",
       " ['5',\n",
       "  'Calumet',\n",
       "  '727 E 111th St',\n",
       "  'Chicago',\n",
       "  'IL',\n",
       "  '60628',\n",
       "  'http://home.chicagopolice.org/community/districts/5th-district-calumet/',\n",
       "  '312-747-8210',\n",
       "  '312-747-5935',\n",
       "  '312-747-9170',\n",
       "  '1183305.427',\n",
       "  '1831462.313',\n",
       "  '41.69272336',\n",
       "  '-87.60450587',\n",
       "  '\"(41.6927233639',\n",
       "  ' -87.6045058667)\"'],\n",
       " ['6',\n",
       "  'Gresham',\n",
       "  '7808 S Halsted St',\n",
       "  'Chicago',\n",
       "  'IL',\n",
       "  '60620',\n",
       "  'http://home.chicagopolice.org/community/districts/6th-district-gresham/',\n",
       "  '312-745-3617',\n",
       "  '312-745-3649',\n",
       "  '312-745-3639',\n",
       "  '1172283.013',\n",
       "  '1853022.646',\n",
       "  '41.75213684',\n",
       "  '-87.64422891',\n",
       "  '\"(41.7521368378',\n",
       "  ' -87.6442289066)\"'],\n",
       " ['7',\n",
       "  'Englewood',\n",
       "  '1438 W 63rd St',\n",
       "  'Chicago',\n",
       "  'IL',\n",
       "  '60636',\n",
       "  'http://home.chicagopolice.org/community/districts/7th-district-englewood/',\n",
       "  '312-747-8223',\n",
       "  '312-747-6558',\n",
       "  '312-747-6652',\n",
       "  '1167659.235',\n",
       "  '1863005.522',\n",
       "  '41.77963154',\n",
       "  '-87.66088702',\n",
       "  '\"(41.7796315359',\n",
       "  ' -87.6608870173)\"'],\n",
       " ['8',\n",
       "  'Chicago Lawn',\n",
       "  '3420 W 63rd St',\n",
       "  'Chicago',\n",
       "  'IL',\n",
       "  '60629',\n",
       "  'http://home.chicagopolice.org/community/districts/8th-district-chicago-lawn/',\n",
       "  '312-747-8730',\n",
       "  '312-747-8545',\n",
       "  '312-747-8116',\n",
       "  '1154575.242',\n",
       "  '1862672.049',\n",
       "  '41.77898719',\n",
       "  '-87.70886382',\n",
       "  '\"(41.778987189',\n",
       "  ' -87.7088638153)\"'],\n",
       " ['9',\n",
       "  'Deering',\n",
       "  '3120 S Halsted St',\n",
       "  'Chicago',\n",
       "  'IL',\n",
       "  '60608',\n",
       "  'http://home.chicagopolice.org/community/districts/9th-district-deering/',\n",
       "  '312-747-8227',\n",
       "  '312-747-5329',\n",
       "  '312-747-9172',\n",
       "  '1171440.24',\n",
       "  '1884085.224',\n",
       "  '41.83739443',\n",
       "  '-87.64640771',\n",
       "  '\"(41.8373944311',\n",
       "  ' -87.6464077068)\"'],\n",
       " ['10',\n",
       "  'Ogden',\n",
       "  '3315 W Ogden Ave',\n",
       "  'Chicago',\n",
       "  'IL',\n",
       "  '60623',\n",
       "  'http://home.chicagopolice.org/community/districts/10th-district-ogden/',\n",
       "  '312-747-7511',\n",
       "  '312-747-7429',\n",
       "  '312-747-7471',\n",
       "  '1154500.753',\n",
       "  '1890985.501',\n",
       "  '41.85668453',\n",
       "  '-87.70838196',\n",
       "  '\"(41.8566845327',\n",
       "  ' -87.708381958)\"'],\n",
       " ['11',\n",
       "  'Harrison',\n",
       "  '3151 W Harrison St',\n",
       "  'Chicago',\n",
       "  'IL',\n",
       "  '60612',\n",
       "  'http://home.chicagopolice.org/community/districts/11th-district-harrison/',\n",
       "  '312-746-8386',\n",
       "  '312-746-4281',\n",
       "  '312-746-5151',\n",
       "  '1155244.069',\n",
       "  '1897148.755',\n",
       "  '41.87358229',\n",
       "  '-87.70548813',\n",
       "  '\"(41.8735822883',\n",
       "  ' -87.705488126)\"'],\n",
       " ['12', 'Near West', '\"1412 S Blue Island Ave'],\n",
       " ['\"',\n",
       "  'Chicago',\n",
       "  'IL',\n",
       "  '60608',\n",
       "  'http://home.chicagopolice.org/community/districts/12th-district-near-west/',\n",
       "  '312-746-8396',\n",
       "  '312-746-4248',\n",
       "  '312-746-9868',\n",
       "  '1168487.845',\n",
       "  '1893384.455',\n",
       "  '41.86297662',\n",
       "  '-87.65697251',\n",
       "  '\"(41.8629766244',\n",
       "  ' -87.6569725149)\"'],\n",
       " ['14',\n",
       "  'Shakespeare',\n",
       "  '2150 N California Ave',\n",
       "  'Chicago',\n",
       "  'IL',\n",
       "  '60647',\n",
       "  'http://home.chicagopolice.org/community/districts/14th-district-shakespeare/',\n",
       "  '312-744-8250',\n",
       "  '312-744-2422',\n",
       "  '312-744-8260',\n",
       "  '1157304.426',\n",
       "  '1914481.521',\n",
       "  '41.92110332',\n",
       "  '-87.69745182',\n",
       "  '\"(41.9211033246',\n",
       "  ' -87.6974518223)\"'],\n",
       " ['15',\n",
       "  'Austin',\n",
       "  '5701 W Madison St',\n",
       "  'Chicago',\n",
       "  'IL',\n",
       "  '60644',\n",
       "  'http://home.chicagopolice.org/community/districts/15th-district-austin/',\n",
       "  '312-743-1440',\n",
       "  '312-743-1366',\n",
       "  '312-743-1485',\n",
       "  '1138148.815',\n",
       "  '1899399.078',\n",
       "  '41.88008346',\n",
       "  '-87.76819989',\n",
       "  '\"(41.8800834614',\n",
       "  ' -87.768199889)\"'],\n",
       " ['16',\n",
       "  'Jefferson Park',\n",
       "  '5151 N Milwaukee Ave',\n",
       "  'Chicago',\n",
       "  'IL',\n",
       "  '60630',\n",
       "  'http://home.chicagopolice.org/community/districts/16th-district-jefferson-park/',\n",
       "  '312-742-4480',\n",
       "  '312-742-4421',\n",
       "  '312-742-4423',\n",
       "  '1138480.758',\n",
       "  '1933660.473',\n",
       "  '41.97409445',\n",
       "  '-87.76614884',\n",
       "  '\"(41.9740944511',\n",
       "  ' -87.7661488432)\"'],\n",
       " ['17',\n",
       "  'Albany Park',\n",
       "  '4650 N Pulaski Rd',\n",
       "  'Chicago',\n",
       "  'IL',\n",
       "  '60630',\n",
       "  'http://home.chicagopolice.org/community/districts/17th-district-albany-park/',\n",
       "  '312-742-4410',\n",
       "  '312-742-5411',\n",
       "  '312-742-5451',\n",
       "  '1148843.91',\n",
       "  '1930801.058',\n",
       "  '41.96605342',\n",
       "  '-87.72811456',\n",
       "  '\"(41.9660534171',\n",
       "  ' -87.728114561)\"']]"
      ]
     },
     "execution_count": 16,
     "metadata": {},
     "output_type": "execute_result"
    }
   ],
   "source": [
    "ps_rest.map(lambda line:line.split(\",\")).collect()"
   ]
  },
  {
   "cell_type": "code",
   "execution_count": 17,
   "metadata": {},
   "outputs": [
    {
     "data": {
      "text/plain": [
       "24"
      ]
     },
     "execution_count": 17,
     "metadata": {},
     "output_type": "execute_result"
    }
   ],
   "source": [
    "ps_rest.map(lambda line:line.split(\",\")).count()"
   ]
  },
  {
   "cell_type": "markdown",
   "metadata": {},
   "source": [
    "### display district id,name,a ddres and zip for distric id 7"
   ]
  },
  {
   "cell_type": "code",
   "execution_count": 23,
   "metadata": {},
   "outputs": [
    {
     "data": {
      "text/plain": [
       "[('7', '7', 'Englewood', '60636')]"
      ]
     },
     "execution_count": 23,
     "metadata": {},
     "output_type": "execute_result"
    }
   ],
   "source": [
    "(ps_rest.filter(lambda line:line.split(\",\")[0]==\"7\").map(lambda line:(line.split(\",\")[0],\n",
    "                                                     line.split(\",\")[0],\n",
    "                                                     line.split(\",\")[1],\n",
    "                                                     line.split(\",\")[5])).collect())"
   ]
  },
  {
   "cell_type": "code",
   "execution_count": null,
   "metadata": {},
   "outputs": [],
   "source": []
  }
 ],
 "metadata": {
  "kernelspec": {
   "display_name": "Python 3",
   "language": "python",
   "name": "python3"
  },
  "language_info": {
   "codemirror_mode": {
    "name": "ipython",
    "version": 3
   },
   "file_extension": ".py",
   "mimetype": "text/x-python",
   "name": "python",
   "nbconvert_exporter": "python",
   "pygments_lexer": "ipython3",
   "version": "3.8.5"
  }
 },
 "nbformat": 4,
 "nbformat_minor": 4
}
