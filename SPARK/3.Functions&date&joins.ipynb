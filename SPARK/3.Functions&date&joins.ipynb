{
 "cells": [
  {
   "cell_type": "code",
   "execution_count": 1,
   "metadata": {},
   "outputs": [],
   "source": [
    "import findspark\n",
    "findspark.init()\n",
    "from pyspark import SparkContext\n",
    "\n",
    "sc = SparkContext.getOrCreate()"
   ]
  },
  {
   "cell_type": "code",
   "execution_count": 2,
   "metadata": {},
   "outputs": [
    {
     "data": {
      "text/html": [
       "\n",
       "            <div>\n",
       "                <p><b>SparkSession - in-memory</b></p>\n",
       "                \n",
       "        <div>\n",
       "            <p><b>SparkContext</b></p>\n",
       "\n",
       "            <p><a href=\"http://LAPTOP-MI2531VA:4043\">Spark UI</a></p>\n",
       "\n",
       "            <dl>\n",
       "              <dt>Version</dt>\n",
       "                <dd><code>v3.1.1</code></dd>\n",
       "              <dt>Master</dt>\n",
       "                <dd><code>local[*]</code></dd>\n",
       "              <dt>AppName</dt>\n",
       "                <dd><code>pyspark-shell</code></dd>\n",
       "            </dl>\n",
       "        </div>\n",
       "        \n",
       "            </div>\n",
       "        "
      ],
      "text/plain": [
       "<pyspark.sql.session.SparkSession at 0x19dba4cc0d0>"
      ]
     },
     "execution_count": 2,
     "metadata": {},
     "output_type": "execute_result"
    }
   ],
   "source": [
    "import pyspark\n",
    "from pyspark.sql import SparkSession\n",
    "spark = SparkSession.builder.getOrCreate() \n",
    "spark"
   ]
  },
  {
   "cell_type": "code",
   "execution_count": 3,
   "metadata": {},
   "outputs": [
    {
     "data": {
      "text/html": [
       "<style>\n",
       "div.output_area pre {\n",
       "    white-space: pre;\n",
       "}\n",
       "</style>\n"
      ],
      "text/plain": [
       "<IPython.core.display.HTML object>"
      ]
     },
     "metadata": {},
     "output_type": "display_data"
    }
   ],
   "source": [
    "%%html\n",
    "<style>\n",
    "div.output_area pre {\n",
    "    white-space: pre;\n",
    "}\n",
    "</style>"
   ]
  },
  {
   "cell_type": "code",
   "execution_count": 3,
   "metadata": {},
   "outputs": [
    {
     "name": "stdout",
     "output_type": "stream",
     "text": [
      "+--------+-----------+-------------------+--------------------+----+------------+--------------------+--------------------+------+--------+----+--------+----+--------------+--------+------------+------------+----+--------------------+------------+-------------+--------------------+\n",
      "|      ID|Case Number|               Date|               Block|IUCR|Primary Type|         Description|Location Description|Arrest|Domestic|Beat|District|Ward|Community Area|FBI Code|X Coordinate|Y Coordinate|Year|          Updated On|    Latitude|    Longitude|            Location|\n",
      "+--------+-----------+-------------------+--------------------+----+------------+--------------------+--------------------+------+--------+----+--------+----+--------------+--------+------------+------------+----+--------------------+------------+-------------+--------------------+\n",
      "|10224738|   HY411648|2015-09-05 13:30:00|     043XX S WOOD ST|0486|     BATTERY|DOMESTIC BATTERY ...|           RESIDENCE| false|    true|0924|     009|  12|            61|     08B|     1165074|     1875917|2015|02/10/2018 03:50:...|41.815117282|-87.669999562|(41.815117282, -8...|\n",
      "|10224739|   HY411615|2015-09-04 11:30:00| 008XX N CENTRAL AVE|0870|       THEFT|      POCKET-PICKING|             CTA BUS| false|   false|1511|     015|  29|            25|      06|     1138875|     1904869|2015|02/10/2018 03:50:...|41.895080471|-87.765400451|(41.895080471, -8...|\n",
      "|11646166|   JC213529|2018-09-01 00:01:00|082XX S INGLESIDE...|0810|       THEFT|           OVER $500|           RESIDENCE| false|    true|0631|     006|   8|            44|      06|        null|        null|2018|04/06/2019 04:04:...|        null|         null|                null|\n",
      "|10224740|   HY411595|2015-09-05 12:45:00|   035XX W BARRY AVE|2023|   NARCOTICS|POSS: HEROIN(BRN/...|            SIDEWALK|  true|   false|1412|     014|  35|            21|      18|     1152037|     1920384|2015|02/10/2018 03:50:...|41.937405765|-87.716649687|(41.937405765, -8...|\n",
      "|10224741|   HY411610|2015-09-05 13:00:00| 0000X N LARAMIE AVE|0560|     ASSAULT|              SIMPLE|           APARTMENT| false|    true|1522|     015|  28|            25|     08A|     1141706|     1900086|2015|02/10/2018 03:50:...|41.881903443|-87.755121152|(41.881903443, -8...|\n",
      "+--------+-----------+-------------------+--------------------+----+------------+--------------------+--------------------+------+--------+----+--------+----+--------------+--------+------------+------------+----+--------------------+------------+-------------+--------------------+\n",
      "only showing top 5 rows\n",
      "\n"
     ]
    }
   ],
   "source": [
    "from pyspark.sql.functions import to_timestamp,col,lit\n",
    "rc = spark.read.csv('reported-crimes.csv',header=True).withColumn('Date',to_timestamp(col('Date'),'MM/dd/yyyy hh:mm:ss a')).filter(col('Date') < lit('2018-11-12'))\n",
    "rc.show(5)"
   ]
  },
  {
   "cell_type": "markdown",
   "metadata": {},
   "source": [
    "### Built-in functions\n"
   ]
  },
  {
   "cell_type": "code",
   "execution_count": 4,
   "metadata": {},
   "outputs": [
    {
     "name": "stdout",
     "output_type": "stream",
     "text": [
      "['Column', 'DataFrame', 'DataType', 'PandasUDFType', 'PythonEvalType', 'SparkContext', 'StringType', 'UserDefinedFunction', '__builtins__', '__cached__', '__doc__', '__file__', '__loader__', '__name__', '__package__', '__spec__', '_create_column_from_literal', '_create_lambda', '_create_udf', '_get_get_jvm_function', '_get_lambda_parameters', '_invoke_binary_math_function', '_invoke_function', '_invoke_function_over_column', '_invoke_higher_order_function', '_options_to_str', '_test', '_to_java_column', '_to_seq', '_unresolved_named_lambda_variable', 'abs', 'acos', 'acosh', 'add_months', 'aggregate', 'approxCountDistinct', 'approx_count_distinct', 'array', 'array_contains', 'array_distinct', 'array_except', 'array_intersect', 'array_join', 'array_max', 'array_min', 'array_position', 'array_remove', 'array_repeat', 'array_sort', 'array_union', 'arrays_overlap', 'arrays_zip', 'asc', 'asc_nulls_first', 'asc_nulls_last', 'ascii', 'asin', 'asinh', 'assert_true', 'atan', 'atan2', 'atanh', 'avg', 'base64', 'bin', 'bitwiseNOT', 'broadcast', 'bround', 'bucket', 'cbrt', 'ceil', 'coalesce', 'col', 'collect_list', 'collect_set', 'column', 'concat', 'concat_ws', 'conv', 'corr', 'cos', 'cosh', 'count', 'countDistinct', 'covar_pop', 'covar_samp', 'crc32', 'create_map', 'cume_dist', 'current_date', 'current_timestamp', 'date_add', 'date_format', 'date_sub', 'date_trunc', 'datediff', 'dayofmonth', 'dayofweek', 'dayofyear', 'days', 'decode', 'degrees', 'dense_rank', 'desc', 'desc_nulls_first', 'desc_nulls_last', 'element_at', 'encode', 'exists', 'exp', 'explode', 'explode_outer', 'expm1', 'expr', 'factorial', 'filter', 'first', 'flatten', 'floor', 'forall', 'format_number', 'format_string', 'from_csv', 'from_json', 'from_unixtime', 'from_utc_timestamp', 'functools', 'get_json_object', 'greatest', 'grouping', 'grouping_id', 'hash', 'hex', 'hour', 'hours', 'hypot', 'initcap', 'input_file_name', 'instr', 'isnan', 'isnull', 'json_tuple', 'kurtosis', 'lag', 'last', 'last_day', 'lead', 'least', 'length', 'levenshtein', 'lit', 'locate', 'log', 'log10', 'log1p', 'log2', 'lower', 'lpad', 'ltrim', 'map_concat', 'map_entries', 'map_filter', 'map_from_arrays', 'map_from_entries', 'map_keys', 'map_values', 'map_zip_with', 'max', 'md5', 'mean', 'min', 'minute', 'monotonically_increasing_id', 'month', 'months', 'months_between', 'nanvl', 'next_day', 'nth_value', 'ntile', 'overlay', 'pandas_udf', 'percent_rank', 'percentile_approx', 'posexplode', 'posexplode_outer', 'pow', 'quarter', 'radians', 'raise_error', 'rand', 'randn', 'rank', 'regexp_extract', 'regexp_replace', 'repeat', 'reverse', 'rint', 'round', 'row_number', 'rpad', 'rtrim', 'schema_of_csv', 'schema_of_json', 'second', 'sequence', 'sha1', 'sha2', 'shiftLeft', 'shiftRight', 'shiftRightUnsigned', 'shuffle', 'signum', 'sin', 'since', 'sinh', 'size', 'skewness', 'slice', 'sort_array', 'soundex', 'spark_partition_id', 'split', 'sqrt', 'stddev', 'stddev_pop', 'stddev_samp', 'struct', 'substring', 'substring_index', 'sum', 'sumDistinct', 'sys', 'tan', 'tanh', 'timestamp_seconds', 'toDegrees', 'toRadians', 'to_csv', 'to_date', 'to_json', 'to_str', 'to_timestamp', 'to_utc_timestamp', 'transform', 'transform_keys', 'transform_values', 'translate', 'trim', 'trunc', 'udf', 'unbase64', 'unhex', 'unix_timestamp', 'upper', 'var_pop', 'var_samp', 'variance', 'warnings', 'weekofyear', 'when', 'window', 'xxhash64', 'year', 'years', 'zip_with']\n"
     ]
    }
   ],
   "source": [
    "from pyspark.sql import functions\n",
    "print(dir(functions))"
   ]
  },
  {
   "cell_type": "code",
   "execution_count": 5,
   "metadata": {},
   "outputs": [
    {
     "name": "stdout",
     "output_type": "stream",
     "text": [
      "Help on function substring in module pyspark.sql.functions:\n",
      "\n",
      "substring(str, pos, len)\n",
      "    Substring starts at `pos` and is of length `len` when str is String type or\n",
      "    returns the slice of byte array that starts at `pos` in byte and is of length `len`\n",
      "    when str is Binary type.\n",
      "    \n",
      "    .. versionadded:: 1.5.0\n",
      "    \n",
      "    Notes\n",
      "    -----\n",
      "    The position is not zero based, but 1 based index.\n",
      "    \n",
      "    Examples\n",
      "    --------\n",
      "    >>> df = spark.createDataFrame([('abcd',)], ['s',])\n",
      "    >>> df.select(substring(df.s, 1, 2).alias('s')).collect()\n",
      "    [Row(s='ab')]\n",
      "\n"
     ]
    }
   ],
   "source": [
    "from pyspark.sql.functions import *\n",
    "help(substring)"
   ]
  },
  {
   "cell_type": "code",
   "execution_count": 6,
   "metadata": {
    "scrolled": true
   },
   "outputs": [
    {
     "name": "stdout",
     "output_type": "stream",
     "text": [
      "+------------------+\n",
      "|lower(Case Number)|\n",
      "+------------------+\n",
      "|          hy411648|\n",
      "|          hy411615|\n",
      "|          jc213529|\n",
      "|          hy411595|\n",
      "|          hy411610|\n",
      "|          hy411435|\n",
      "|          hy411629|\n",
      "|          hy411605|\n",
      "|          hy411654|\n",
      "|          jc212333|\n",
      "|          hy411662|\n",
      "|          hy411626|\n",
      "|          hy411632|\n",
      "|          hy411566|\n",
      "|          hy411601|\n",
      "|          hy411489|\n",
      "|          hy411656|\n",
      "|          hy410094|\n",
      "|          hy411388|\n",
      "|          hy411568|\n",
      "+------------------+\n",
      "only showing top 20 rows\n",
      "\n"
     ]
    }
   ],
   "source": [
    "rc.select(lower(col(\"Case Number\"))).show()"
   ]
  },
  {
   "cell_type": "code",
   "execution_count": 7,
   "metadata": {
    "scrolled": true
   },
   "outputs": [
    {
     "name": "stdout",
     "output_type": "stream",
     "text": [
      "+------------------+------------------+----------------------------+\n",
      "|lower(Case Number)|upper(Case Number)|substring(Case Number, 1, 4)|\n",
      "+------------------+------------------+----------------------------+\n",
      "|          hy411648|          HY411648|                        HY41|\n",
      "|          hy411615|          HY411615|                        HY41|\n",
      "|          jc213529|          JC213529|                        JC21|\n",
      "|          hy411595|          HY411595|                        HY41|\n",
      "|          hy411610|          HY411610|                        HY41|\n",
      "+------------------+------------------+----------------------------+\n",
      "only showing top 5 rows\n",
      "\n"
     ]
    }
   ],
   "source": [
    "rc.select(lower(col(\"Case Number\")),upper(col(\"Case Number\")),substring(col(\"Case Number\"),1,4)).show(5)"
   ]
  },
  {
   "cell_type": "markdown",
   "metadata": {},
   "source": [
    "**Display the Primary Type column in lower and upper characters, and the first 4 characters of the column**"
   ]
  },
  {
   "cell_type": "code",
   "execution_count": 8,
   "metadata": {},
   "outputs": [
    {
     "name": "stdout",
     "output_type": "stream",
     "text": [
      "+-------------------+-------------------+-----------------------------+\n",
      "|lower(Primary Type)|upper(Primary Type)|substring(Primary Type, 1, 4)|\n",
      "+-------------------+-------------------+-----------------------------+\n",
      "|            battery|            BATTERY|                         BATT|\n",
      "|              theft|              THEFT|                         THEF|\n",
      "|              theft|              THEFT|                         THEF|\n",
      "|          narcotics|          NARCOTICS|                         NARC|\n",
      "|            assault|            ASSAULT|                         ASSA|\n",
      "+-------------------+-------------------+-----------------------------+\n",
      "only showing top 5 rows\n",
      "\n"
     ]
    }
   ],
   "source": [
    "rc.select(lower(col(\"Primary Type\")),upper(col(\"Primary Type\")),substring(col(\"Primary Type\"),1,4)).show(5)"
   ]
  },
  {
   "cell_type": "markdown",
   "metadata": {},
   "source": [
    "### Numeric functions\n",
    "##### Show the oldest date and the most recent date"
   ]
  },
  {
   "cell_type": "code",
   "execution_count": 16,
   "metadata": {},
   "outputs": [
    {
     "name": "stdout",
     "output_type": "stream",
     "text": [
      "+-------------------+-------------------+\n",
      "|          min(Date)|          max(Date)|\n",
      "+-------------------+-------------------+\n",
      "|2001-01-01 00:00:00|2018-11-11 14:00:00|\n",
      "+-------------------+-------------------+\n",
      "\n"
     ]
    }
   ],
   "source": [
    "rc.select(min(col(\"Date\")),max(col(\"Date\"))).show()"
   ]
  },
  {
   "cell_type": "markdown",
   "metadata": {},
   "source": [
    "### Date\n",
    "\n",
    "#####  What is 3 days earlier that the oldest date and 3 days later than the most recent date?**"
   ]
  },
  {
   "cell_type": "code",
   "execution_count": 17,
   "metadata": {},
   "outputs": [],
   "source": [
    "from pyspark.sql.functions import date_add,date_sub"
   ]
  },
  {
   "cell_type": "code",
   "execution_count": 18,
   "metadata": {
    "scrolled": true
   },
   "outputs": [
    {
     "name": "stdout",
     "output_type": "stream",
     "text": [
      "Help on function date_add in module pyspark.sql.functions:\n",
      "\n",
      "date_add(start, days)\n",
      "    Returns the date that is `days` days after `start`\n",
      "    \n",
      "    .. versionadded:: 1.5.0\n",
      "    \n",
      "    Examples\n",
      "    --------\n",
      "    >>> df = spark.createDataFrame([('2015-04-08',)], ['dt'])\n",
      "    >>> df.select(date_add(df.dt, 1).alias('next_date')).collect()\n",
      "    [Row(next_date=datetime.date(2015, 4, 9))]\n",
      "\n"
     ]
    }
   ],
   "source": [
    "help(date_add)"
   ]
  },
  {
   "cell_type": "code",
   "execution_count": 20,
   "metadata": {},
   "outputs": [
    {
     "name": "stdout",
     "output_type": "stream",
     "text": [
      "+----------------------+\n",
      "|date_add(max(Date), 3)|\n",
      "+----------------------+\n",
      "|            2018-11-14|\n",
      "+----------------------+\n",
      "\n"
     ]
    }
   ],
   "source": [
    "rc.select(date_add(max(col(\"Date\")),3)).show()"
   ]
  },
  {
   "cell_type": "code",
   "execution_count": 22,
   "metadata": {},
   "outputs": [
    {
     "name": "stdout",
     "output_type": "stream",
     "text": [
      "+----------------------+\n",
      "|date_sub(min(Date), 3)|\n",
      "+----------------------+\n",
      "|            2000-12-29|\n",
      "+----------------------+\n",
      "\n"
     ]
    }
   ],
   "source": [
    "rc.select(date_sub(min(col(\"Date\")),3)).show()"
   ]
  },
  {
   "cell_type": "markdown",
   "metadata": {},
   "source": [
    "##  NOT USING CRIME CSV FILE"
   ]
  },
  {
   "cell_type": "markdown",
   "metadata": {},
   "source": [
    "## Working with dates"
   ]
  },
  {
   "cell_type": "code",
   "execution_count": 23,
   "metadata": {},
   "outputs": [],
   "source": [
    "#####33  we use to_date and to_timesatmp"
   ]
  },
  {
   "cell_type": "code",
   "execution_count": 27,
   "metadata": {},
   "outputs": [
    {
     "name": "stdout",
     "output_type": "stream",
     "text": [
      "+-------------------+\n",
      "|to_date(2019-12-01)|\n",
      "+-------------------+\n",
      "|         2019-12-01|\n",
      "+-------------------+\n",
      "only showing top 1 row\n",
      "\n"
     ]
    }
   ],
   "source": [
    "rc.select(to_date(lit(\"2019-12-01\"))).show(1)"
   ]
  },
  {
   "cell_type": "code",
   "execution_count": 29,
   "metadata": {},
   "outputs": [
    {
     "name": "stdout",
     "output_type": "stream",
     "text": [
      "+----------+\n",
      "| Christmas|\n",
      "+----------+\n",
      "|2019-12-25|\n",
      "|2020-12-25|\n",
      "+----------+\n",
      "\n"
     ]
    }
   ],
   "source": [
    "##############   create DATAFRAME, create column , creating categories AND FILTERING IT   WITH WHEN...................\n",
    "\n",
    "from pyspark.sql.functions import when\n",
    "df = spark.createDataFrame([[\"2019-12-25\"],['2020-12-25']],[\"Christmas\"])\n",
    "df.show()"
   ]
  },
  {
   "cell_type": "code",
   "execution_count": 31,
   "metadata": {},
   "outputs": [
    {
     "data": {
      "text/plain": [
       "[('Christmas', 'string')]"
      ]
     },
     "execution_count": 31,
     "metadata": {},
     "output_type": "execute_result"
    }
   ],
   "source": [
    "df.dtypes"
   ]
  },
  {
   "cell_type": "code",
   "execution_count": 33,
   "metadata": {},
   "outputs": [
    {
     "name": "stdout",
     "output_type": "stream",
     "text": [
      "+------------------------------+\n",
      "|to_date(Christmas, yyyy-MM-dd)|\n",
      "+------------------------------+\n",
      "|                    2019-12-25|\n",
      "+------------------------------+\n",
      "only showing top 1 row\n",
      "\n"
     ]
    }
   ],
   "source": [
    "########################################################3               to_date\n",
    "\n",
    "df.select(to_date(col(\"Christmas\"),\"yyyy-MM-dd\")).show()"
   ]
  },
  {
   "cell_type": "code",
   "execution_count": 35,
   "metadata": {},
   "outputs": [
    {
     "name": "stdout",
     "output_type": "stream",
     "text": [
      "+-----------------------------------+\n",
      "|to_timestamp(Christmas, yyyy-MM-dd)|\n",
      "+-----------------------------------+\n",
      "|                2019-12-25 00:00:00|\n",
      "|                2020-12-25 00:00:00|\n",
      "+-----------------------------------+\n",
      "\n"
     ]
    }
   ],
   "source": [
    "########################################################3               to_timestamp\n",
    "\n",
    "\n",
    "df.select(to_timestamp(col(\"Christmas\"),\"yyyy-MM-dd\")).show()"
   ]
  },
  {
   "cell_type": "code",
   "execution_count": 41,
   "metadata": {},
   "outputs": [
    {
     "name": "stdout",
     "output_type": "stream",
     "text": [
      "+-------------------+\n",
      "|          Christmas|\n",
      "+-------------------+\n",
      "|2019-12-25 00:00:00|\n",
      "|2020-12-25 00:00:00|\n",
      "+-------------------+\n",
      "\n"
     ]
    },
    {
     "data": {
      "text/plain": [
       "[('Christmas', 'string')]"
      ]
     },
     "execution_count": 41,
     "metadata": {},
     "output_type": "execute_result"
    }
   ],
   "source": [
    "########################################################3               to_timestamp -------  another method\n",
    "\n",
    "\n",
    "df.withColumn('Christmas',to_timestamp(col('Christmas'),'yyyy-MM-dd')).show()\n",
    "df.dtypes"
   ]
  },
  {
   "cell_type": "code",
   "execution_count": 36,
   "metadata": {},
   "outputs": [
    {
     "name": "stdout",
     "output_type": "stream",
     "text": [
      "+-----------------------------------+\n",
      "|to_timestamp(Christmas, yyyy/MM/dd)|\n",
      "+-----------------------------------+\n",
      "|                               null|\n",
      "|                               null|\n",
      "+-----------------------------------+\n",
      "\n"
     ]
    }
   ],
   "source": [
    "############   another format\n",
    "\n",
    "df.select(to_timestamp(col(\"Christmas\"),\"yyyy/MM/dd\")).show()"
   ]
  },
  {
   "cell_type": "markdown",
   "metadata": {},
   "source": [
    "https://medium.com/expedia-group-tech/deep-dive-into-apache-spark-datetime-functions-b66de737950a\n",
    "\n",
    "parse dates \n",
    "\n",
    "https://sparkbyexamples.com/spark/spark-date-functions-format-dates/"
   ]
  },
  {
   "cell_type": "markdown",
   "metadata": {},
   "source": [
    "## joins"
   ]
  },
  {
   "cell_type": "code",
   "execution_count": 43,
   "metadata": {},
   "outputs": [],
   "source": [
    "########  we will download police station dataset"
   ]
  },
  {
   "cell_type": "code",
   "execution_count": 44,
   "metadata": {},
   "outputs": [
    {
     "name": "stderr",
     "output_type": "stream",
     "text": [
      "--2021-04-03 22:16:32--  https://data.cityofchicago.org/api/views/z8bn-74gv/rows.csv?accessType=DOWNLOAD\n",
      "Resolving data.cityofchicago.org (data.cityofchicago.org)... 52.206.68.26, 52.206.140.199, 52.206.140.205\n",
      "Connecting to data.cityofchicago.org (data.cityofchicago.org)|52.206.68.26|:443... connected.\n",
      "HTTP request sent, awaiting response... 200 OK\n",
      "Length: unspecified [text/csv]\n",
      "Saving to: 'police_station.csv'\n",
      "\n",
      "     0K .....                                                  3.89M=0.001s\n",
      "\n",
      "2021-04-03 22:16:33 (3.89 MB/s) - 'police_station.csv' saved [5699]\n",
      "\n"
     ]
    }
   ],
   "source": [
    "!wget -O police_station.csv  https://data.cityofchicago.org/api/views/z8bn-74gv/rows.csv?accessType=DOWNLOAD\n",
    "\n"
   ]
  },
  {
   "cell_type": "code",
   "execution_count": 13,
   "metadata": {},
   "outputs": [
    {
     "name": "stdout",
     "output_type": "stream",
     "text": [
      " Volume in drive C is Windows\n",
      " Volume Serial Number is 4234-2518\n",
      "\n",
      " Directory of C:\\Users\\ANTHONY\\Desktop\\important ipynb codes\\SPARK\n",
      "\n",
      "11-05-2021  12:17 PM    <DIR>          .\n",
      "11-05-2021  12:17 PM    <DIR>          ..\n",
      "11-05-2021  11:45 AM    <DIR>          .ipynb_checkpoints\n",
      "11-05-2021  08:23 AM             4,980 0.RUN THIS FIRST.ipynb\n",
      "11-05-2021  08:36 AM            37,871 1.Context , session and data import.ipynb\n",
      "11-05-2021  12:17 PM           120,050 2. Schemas_Columns_rows_groupby_sort_unique.ipynb\n",
      "11-05-2021  12:17 PM            84,258 3.Functions&date&joins.ipynb\n",
      "03-04-2021  09:23 AM             4,046 Download_data.ipynb\n",
      "03-04-2021  07:33 PM             2,294 FIRST_SAMPLE.ipynb\n",
      "05-05-2021  09:05 PM    <DIR>          New Folder\n",
      "19-08-2019  06:56 AM             5,699 police_station.csv\n",
      "05-04-2021  10:03 AM            22,987 RDD.ipynb\n",
      "02-04-2021  04:48 PM       171,057,223 reported-crimes.csv\n",
      "02-04-2021  04:48 PM       171,057,223 rows.csv@accessType=DOWNLOAD\n",
      "02-06-2018  02:19 AM    <DIR>          spark-2.3.1-bin-hadoop2.7\n",
      "02-06-2018  02:29 AM       225,883,783 spark-2.3.1-bin-hadoop2.7.tgz\n",
      "11-05-2021  11:45 AM               555 SQL in SPARK.ipynb\n",
      "11-05-2021  08:24 AM           298,886 ss.ipynb\n",
      "11-05-2021  11:45 AM               555 Visualization.ipynb\n",
      "              14 File(s)    568,580,410 bytes\n",
      "               5 Dir(s)  175,450,292,224 bytes free\n"
     ]
    }
   ],
   "source": [
    "%ls"
   ]
  },
  {
   "cell_type": "code",
   "execution_count": 15,
   "metadata": {},
   "outputs": [
    {
     "name": "stdout",
     "output_type": "stream",
     "text": [
      "+------------+-------------+-------------------+-------+-----+-----+--------------------+------------+------------+------------+------------+------------+-----------+------------+--------------------+\n",
      "|    DISTRICT|DISTRICT NAME|            ADDRESS|   CITY|STATE|  ZIP|             WEBSITE|       PHONE|         FAX|         TTY|X COORDINATE|Y COORDINATE|   LATITUDE|   LONGITUDE|            LOCATION|\n",
      "+------------+-------------+-------------------+-------+-----+-----+--------------------+------------+------------+------------+------------+------------+-----------+------------+--------------------+\n",
      "|Headquarters| Headquarters|3510 S Michigan Ave|Chicago|   IL|60653|http://home.chica...|        null|        null|        null| 1177731.401| 1881697.404|41.83070169|-87.62339535|(41.8307016873, -...|\n",
      "|          18|   Near North| 1160 N Larrabee St|Chicago|   IL|60610|http://home.chica...|312-742-5870|312-742-5771|312-742-5773| 1172080.029| 1908086.527|41.90324165|-87.64335214|(41.9032416531, -...|\n",
      "|          19|    Town Hall|   850 W Addison St|Chicago|   IL|60613|http://home.chica...|312-744-8320|312-744-4481|312-744-8011| 1169730.744| 1924160.317|41.94740046|-87.65151202|(41.9474004564, -...|\n",
      "|          20|      Lincoln| 5400 N Lincoln Ave|Chicago|   IL|60625|http://home.chica...|312-742-8714|312-742-8803|312-742-8841| 1158399.146| 1935788.826|41.97954951|-87.69284451|(41.9795495131, -...|\n",
      "|          22|  Morgan Park|1900 W Monterey Ave|Chicago|   IL|60643|http://home.chica...|312-745-0710|312-745-0814|312-745-0569| 1165825.476| 1830851.333|41.69143478|-87.66852039|(41.6914347795, -...|\n",
      "+------------+-------------+-------------------+-------+-----+-----+--------------------+------------+------------+------------+------------+------------+-----------+------------+--------------------+\n",
      "only showing top 5 rows\n",
      "\n"
     ]
    }
   ],
   "source": [
    "from pyspark.sql.functions import to_timestamp,col,lit\n",
    "ps = spark.read.csv('police_station.csv',header=True)\n",
    "ps.show(5)"
   ]
  },
  {
   "cell_type": "code",
   "execution_count": 16,
   "metadata": {},
   "outputs": [
    {
     "name": "stdout",
     "output_type": "stream",
     "text": [
      "+--------+-----------+-------------------+--------------------+----+------------+--------------------+--------------------+------+--------+----+--------+----+--------------+--------+------------+------------+----+--------------------+------------+-------------+--------------------+\n",
      "|      ID|Case Number|               Date|               Block|IUCR|Primary Type|         Description|Location Description|Arrest|Domestic|Beat|District|Ward|Community Area|FBI Code|X Coordinate|Y Coordinate|Year|          Updated On|    Latitude|    Longitude|            Location|\n",
      "+--------+-----------+-------------------+--------------------+----+------------+--------------------+--------------------+------+--------+----+--------+----+--------------+--------+------------+------------+----+--------------------+------------+-------------+--------------------+\n",
      "|10224738|   HY411648|2015-09-05 13:30:00|     043XX S WOOD ST|0486|     BATTERY|DOMESTIC BATTERY ...|           RESIDENCE| false|    true|0924|     009|  12|            61|     08B|     1165074|     1875917|2015|02/10/2018 03:50:...|41.815117282|-87.669999562|(41.815117282, -8...|\n",
      "|10224739|   HY411615|2015-09-04 11:30:00| 008XX N CENTRAL AVE|0870|       THEFT|      POCKET-PICKING|             CTA BUS| false|   false|1511|     015|  29|            25|      06|     1138875|     1904869|2015|02/10/2018 03:50:...|41.895080471|-87.765400451|(41.895080471, -8...|\n",
      "|11646166|   JC213529|2018-09-01 00:01:00|082XX S INGLESIDE...|0810|       THEFT|           OVER $500|           RESIDENCE| false|    true|0631|     006|   8|            44|      06|        null|        null|2018|04/06/2019 04:04:...|        null|         null|                null|\n",
      "|10224740|   HY411595|2015-09-05 12:45:00|   035XX W BARRY AVE|2023|   NARCOTICS|POSS: HEROIN(BRN/...|            SIDEWALK|  true|   false|1412|     014|  35|            21|      18|     1152037|     1920384|2015|02/10/2018 03:50:...|41.937405765|-87.716649687|(41.937405765, -8...|\n",
      "|10224741|   HY411610|2015-09-05 13:00:00| 0000X N LARAMIE AVE|0560|     ASSAULT|              SIMPLE|           APARTMENT| false|    true|1522|     015|  28|            25|     08A|     1141706|     1900086|2015|02/10/2018 03:50:...|41.881903443|-87.755121152|(41.881903443, -8...|\n",
      "+--------+-----------+-------------------+--------------------+----+------------+--------------------+--------------------+------+--------+----+--------+----+--------------+--------+------------+------------+----+--------------------+------------+-------------+--------------------+\n",
      "only showing top 5 rows\n",
      "\n"
     ]
    }
   ],
   "source": [
    "rc.show(5)"
   ]
  },
  {
   "cell_type": "code",
   "execution_count": 47,
   "metadata": {},
   "outputs": [],
   "source": [
    "###  the CRIME DATASET HAS ONLY DISTRICT NUMBER,, NEED TO FIND DISTRICT NAME FOR THOSE... CAN BE DONE BY JOIN  ######"
   ]
  },
  {
   "cell_type": "code",
   "execution_count": 17,
   "metadata": {
    "scrolled": true
   },
   "outputs": [
    {
     "name": "stdout",
     "output_type": "stream",
     "text": [
      "+--------+\n",
      "|District|\n",
      "+--------+\n",
      "|     009|\n",
      "|     012|\n",
      "|     024|\n",
      "|    null|\n",
      "|     031|\n",
      "|     015|\n",
      "|     006|\n",
      "|     019|\n",
      "|     020|\n",
      "|     011|\n",
      "|     025|\n",
      "|     005|\n",
      "|     003|\n",
      "|     016|\n",
      "|     018|\n",
      "|     008|\n",
      "|     022|\n",
      "|     001|\n",
      "|     014|\n",
      "|     010|\n",
      "+--------+\n",
      "only showing top 20 rows\n",
      "\n"
     ]
    }
   ],
   "source": [
    "rc.select(col(\"District\")).distinct().show()"
   ]
  },
  {
   "cell_type": "code",
   "execution_count": 18,
   "metadata": {
    "scrolled": true
   },
   "outputs": [
    {
     "name": "stdout",
     "output_type": "stream",
     "text": [
      "+------------+\n",
      "|    DISTRICT|\n",
      "+------------+\n",
      "|           7|\n",
      "|          15|\n",
      "|          11|\n",
      "|           3|\n",
      "|           8|\n",
      "|          22|\n",
      "|          16|\n",
      "|           5|\n",
      "|          18|\n",
      "|          17|\n",
      "|           6|\n",
      "|          19|\n",
      "|          25|\n",
      "|Headquarters|\n",
      "|          24|\n",
      "|           9|\n",
      "|           1|\n",
      "|          20|\n",
      "|          10|\n",
      "|           4|\n",
      "+------------+\n",
      "only showing top 20 rows\n",
      "\n"
     ]
    }
   ],
   "source": [
    "ps.select(col(\"DISTRICT\")).distinct().show()"
   ]
  },
  {
   "cell_type": "code",
   "execution_count": 19,
   "metadata": {},
   "outputs": [
    {
     "name": "stdout",
     "output_type": "stream",
     "text": [
      "Help on function lpad in module pyspark.sql.functions:\n",
      "\n",
      "lpad(col, len, pad)\n",
      "    Left-pad the string column to width `len` with `pad`.\n",
      "    \n",
      "    .. versionadded:: 1.5.0\n",
      "    \n",
      "    Examples\n",
      "    --------\n",
      "    >>> df = spark.createDataFrame([('abcd',)], ['s',])\n",
      "    >>> df.select(lpad(df.s, 6, '#').alias('s')).collect()\n",
      "    [Row(s='##abcd')]\n",
      "\n"
     ]
    }
   ],
   "source": [
    "#############   rc district code have leading zeros, but other donot...\n",
    "######   so we need to remove this\n",
    "\n",
    "help(lpad)"
   ]
  },
  {
   "cell_type": "code",
   "execution_count": 20,
   "metadata": {
    "scrolled": true
   },
   "outputs": [
    {
     "name": "stdout",
     "output_type": "stream",
     "text": [
      "+--------------------+\n",
      "|lpad(DISTRICT, 3, 0)|\n",
      "+--------------------+\n",
      "|                 Hea|\n",
      "|                 018|\n",
      "|                 019|\n",
      "|                 020|\n",
      "|                 022|\n",
      "|                 024|\n",
      "|                 025|\n",
      "|                 001|\n",
      "|                 002|\n",
      "|                 003|\n",
      "|                 004|\n",
      "|                 005|\n",
      "|                 006|\n",
      "|                 007|\n",
      "|                 008|\n",
      "|                 009|\n",
      "|                 010|\n",
      "|                 011|\n",
      "|                 012|\n",
      "|                 \",C|\n",
      "+--------------------+\n",
      "only showing top 20 rows\n",
      "\n"
     ]
    }
   ],
   "source": [
    "ps.select(lpad(ps.DISTRICT, 3, \"0\")).show()"
   ]
  },
  {
   "cell_type": "code",
   "execution_count": 21,
   "metadata": {},
   "outputs": [
    {
     "name": "stdout",
     "output_type": "stream",
     "text": [
      "+--------+-------------+-------------------+-------+-----+-----+--------------------+------------+------------+------------+------------+------------+-----------+------------+--------------------+\n",
      "|DISTRICT|DISTRICT NAME|            ADDRESS|   CITY|STATE|  ZIP|             WEBSITE|       PHONE|         FAX|         TTY|X COORDINATE|Y COORDINATE|   LATITUDE|   LONGITUDE|            LOCATION|\n",
      "+--------+-------------+-------------------+-------+-----+-----+--------------------+------------+------------+------------+------------+------------+-----------+------------+--------------------+\n",
      "|     Hea| Headquarters|3510 S Michigan Ave|Chicago|   IL|60653|http://home.chica...|        null|        null|        null| 1177731.401| 1881697.404|41.83070169|-87.62339535|(41.8307016873, -...|\n",
      "|     018|   Near North| 1160 N Larrabee St|Chicago|   IL|60610|http://home.chica...|312-742-5870|312-742-5771|312-742-5773| 1172080.029| 1908086.527|41.90324165|-87.64335214|(41.9032416531, -...|\n",
      "|     019|    Town Hall|   850 W Addison St|Chicago|   IL|60613|http://home.chica...|312-744-8320|312-744-4481|312-744-8011| 1169730.744| 1924160.317|41.94740046|-87.65151202|(41.9474004564, -...|\n",
      "|     020|      Lincoln| 5400 N Lincoln Ave|Chicago|   IL|60625|http://home.chica...|312-742-8714|312-742-8803|312-742-8841| 1158399.146| 1935788.826|41.97954951|-87.69284451|(41.9795495131, -...|\n",
      "|     022|  Morgan Park|1900 W Monterey Ave|Chicago|   IL|60643|http://home.chica...|312-745-0710|312-745-0814|312-745-0569| 1165825.476| 1830851.333|41.69143478|-87.66852039|(41.6914347795, -...|\n",
      "+--------+-------------+-------------------+-------+-----+-----+--------------------+------------+------------+------------+------------+------------+-----------+------------+--------------------+\n",
      "only showing top 5 rows\n",
      "\n"
     ]
    }
   ],
   "source": [
    "########  create a new column with above formatting\n",
    "\n",
    "ps=ps.withColumn(\"DISTRICT\",lpad(ps.DISTRICT, 3, \"0\"))\n",
    "\n",
    "ps.show(5)"
   ]
  },
  {
   "cell_type": "code",
   "execution_count": 66,
   "metadata": {},
   "outputs": [
    {
     "name": "stdout",
     "output_type": "stream",
     "text": [
      "+--------+-----------+-------------------+-----------------------+----+------------------+----------------------------------------------+------------------------------+------+--------+----+--------+----+--------------+--------+------------+------------+----+----------------------+------------+-------------+-----------------------------+--------+--------------+----------------------+-------+-----+-----+-------------------------------------------------------------------------------+------------+------------+------------+------------+------------+-----------+------------+-------------------------------+\n",
      "|ID      |Case Number|Date               |Block                  |IUCR|Primary Type      |Description                                   |Location Description          |Arrest|Domestic|Beat|District|Ward|Community Area|FBI Code|X Coordinate|Y Coordinate|Year|Updated On            |Latitude    |Longitude    |Location                     |DISTRICT|DISTRICT NAME |ADDRESS               |CITY   |STATE|ZIP  |WEBSITE                                                                        |PHONE       |FAX         |TTY         |X COORDINATE|Y COORDINATE|LATITUDE   |LONGITUDE   |LOCATION                       |\n",
      "+--------+-----------+-------------------+-----------------------+----+------------------+----------------------------------------------+------------------------------+------+--------+----+--------+----+--------------+--------+------------+------------+----+----------------------+------------+-------------+-----------------------------+--------+--------------+----------------------+-------+-----+-----+-------------------------------------------------------------------------------+------------+------------+------------+------------+------------+-----------+------------+-------------------------------+\n",
      "|10224738|HY411648   |2015-09-05 13:30:00|043XX S WOOD ST        |0486|BATTERY           |DOMESTIC BATTERY SIMPLE                       |RESIDENCE                     |false |true    |0924|009     |12  |61            |08B     |1165074     |1875917     |2015|02/10/2018 03:50:01 PM|41.815117282|-87.669999562|(41.815117282, -87.669999562)|009     |Deering       |3120 S Halsted St     |Chicago|IL   |60608|http://home.chicagopolice.org/community/districts/9th-district-deering/        |312-747-8227|312-747-5329|312-747-9172|1171440.24  |1884085.224 |41.83739443|-87.64640771|(41.8373944311, -87.6464077068)|\n",
      "|10224739|HY411615   |2015-09-04 11:30:00|008XX N CENTRAL AVE    |0870|THEFT             |POCKET-PICKING                                |CTA BUS                       |false |false   |1511|015     |29  |25            |06      |1138875     |1904869     |2015|02/10/2018 03:50:01 PM|41.895080471|-87.765400451|(41.895080471, -87.765400451)|015     |Austin        |5701 W Madison St     |Chicago|IL   |60644|http://home.chicagopolice.org/community/districts/15th-district-austin/        |312-743-1440|312-743-1366|312-743-1485|1138148.815 |1899399.078 |41.88008346|-87.76819989|(41.8800834614, -87.768199889) |\n",
      "|11646166|JC213529   |2018-09-01 00:01:00|082XX S INGLESIDE AVE  |0810|THEFT             |OVER $500                                     |RESIDENCE                     |false |true    |0631|006     |8   |44            |06      |null        |null        |2018|04/06/2019 04:04:43 PM|null        |null         |null                         |006     |Gresham       |7808 S Halsted St     |Chicago|IL   |60620|http://home.chicagopolice.org/community/districts/6th-district-gresham/        |312-745-3617|312-745-3649|312-745-3639|1172283.013 |1853022.646 |41.75213684|-87.64422891|(41.7521368378, -87.6442289066)|\n",
      "|10224740|HY411595   |2015-09-05 12:45:00|035XX W BARRY AVE      |2023|NARCOTICS         |POSS: HEROIN(BRN/TAN)                         |SIDEWALK                      |true  |false   |1412|014     |35  |21            |18      |1152037     |1920384     |2015|02/10/2018 03:50:01 PM|41.937405765|-87.716649687|(41.937405765, -87.716649687)|014     |Shakespeare   |2150 N California Ave |Chicago|IL   |60647|http://home.chicagopolice.org/community/districts/14th-district-shakespeare/   |312-744-8250|312-744-2422|312-744-8260|1157304.426 |1914481.521 |41.92110332|-87.69745182|(41.9211033246, -87.6974518223)|\n",
      "|10224741|HY411610   |2015-09-05 13:00:00|0000X N LARAMIE AVE    |0560|ASSAULT           |SIMPLE                                        |APARTMENT                     |false |true    |1522|015     |28  |25            |08A     |1141706     |1900086     |2015|02/10/2018 03:50:01 PM|41.881903443|-87.755121152|(41.881903443, -87.755121152)|015     |Austin        |5701 W Madison St     |Chicago|IL   |60644|http://home.chicagopolice.org/community/districts/15th-district-austin/        |312-743-1440|312-743-1366|312-743-1485|1138148.815 |1899399.078 |41.88008346|-87.76819989|(41.8800834614, -87.768199889) |\n",
      "|10224742|HY411435   |2015-09-05 10:55:00|082XX S LOOMIS BLVD    |0610|BURGLARY          |FORCIBLE ENTRY                                |RESIDENCE                     |false |false   |0614|006     |21  |71            |05      |1168430     |1850165     |2015|02/10/2018 03:50:01 PM|41.744378879|-87.658430635|(41.744378879, -87.658430635)|006     |Gresham       |7808 S Halsted St     |Chicago|IL   |60620|http://home.chicagopolice.org/community/districts/6th-district-gresham/        |312-745-3617|312-745-3649|312-745-3639|1172283.013 |1853022.646 |41.75213684|-87.64422891|(41.7521368378, -87.6442289066)|\n",
      "|10224743|HY411629   |2015-09-04 18:00:00|021XX W CHURCHILL ST   |0620|BURGLARY          |UNLAWFUL ENTRY                                |RESIDENCE-GARAGE              |false |false   |1434|014     |32  |24            |05      |1161628     |1912157     |2015|02/10/2018 03:50:01 PM|41.914635603|-87.681630909|(41.914635603, -87.681630909)|014     |Shakespeare   |2150 N California Ave |Chicago|IL   |60647|http://home.chicagopolice.org/community/districts/14th-district-shakespeare/   |312-744-8250|312-744-2422|312-744-8260|1157304.426 |1914481.521 |41.92110332|-87.69745182|(41.9211033246, -87.6974518223)|\n",
      "|10224744|HY411605   |2015-09-05 13:00:00|025XX W CERMAK RD      |0860|THEFT             |RETAIL THEFT                                  |GROCERY FOOD STORE            |true  |false   |1034|010     |25  |31            |06      |1159734     |1889313     |2015|09/17/2015 11:37:18 AM|41.851988885|-87.689219118|(41.851988885, -87.689219118)|010     |Ogden         |3315 W Ogden Ave      |Chicago|IL   |60623|http://home.chicagopolice.org/community/districts/10th-district-ogden/         |312-747-7511|312-747-7429|312-747-7471|1154500.753 |1890985.501 |41.85668453|-87.70838196|(41.8566845327, -87.708381958) |\n",
      "|10224745|HY411654   |2015-09-05 11:30:00|031XX W WASHINGTON BLVD|0320|ROBBERY           |STRONGARM - NO WEAPON                         |STREET                        |false |true    |1222|012     |27  |27            |03      |1155536     |1900515     |2015|02/10/2018 03:50:01 PM|41.88281374 |-87.704325717|(41.88281374, -87.704325717) |012     |Near West     |1412 S Blue Island Ave|null   |null |null |null                                                                           |null        |null        |null        |null        |null        |null       |null        |null                           |\n",
      "|11645836|JC212333   |2016-05-01 00:25:00|055XX S ROCKWELL ST    |1153|DECEPTIVE PRACTICE|FINANCIAL IDENTITY THEFT OVER $ 300           |null                          |false |false   |0824|008     |15  |63            |11      |null        |null        |2016|04/06/2019 04:04:43 PM|null        |null         |null                         |008     |Chicago Lawn  |3420 W 63rd St        |Chicago|IL   |60629|http://home.chicagopolice.org/community/districts/8th-district-chicago-lawn/   |312-747-8730|312-747-8545|312-747-8116|1154575.242 |1862672.049 |41.77898719|-87.70886382|(41.778987189, -87.7088638153) |\n",
      "|10224746|HY411662   |2015-09-05 14:00:00|071XX S PULASKI RD     |0820|THEFT             |$500 AND UNDER                                |PARKING LOT/GARAGE(NON.RESID.)|false |false   |0833|008     |13  |65            |06      |1150938     |1857056     |2015|02/10/2018 03:50:01 PM|41.763647552|-87.722344693|(41.763647552, -87.722344693)|008     |Chicago Lawn  |3420 W 63rd St        |Chicago|IL   |60629|http://home.chicagopolice.org/community/districts/8th-district-chicago-lawn/   |312-747-8730|312-747-8545|312-747-8116|1154575.242 |1862672.049 |41.77898719|-87.70886382|(41.778987189, -87.7088638153) |\n",
      "|10224749|HY411626   |2015-09-05 11:00:00|052XX N MILWAUKEE AVE  |0460|BATTERY           |SIMPLE                                        |SMALL RETAIL STORE            |false |false   |1623|016     |45  |11            |08B     |1137969     |1934340     |2015|02/10/2018 03:50:01 PM|41.975968415|-87.768014257|(41.975968415, -87.768014257)|016     |Jefferson Park|5151 N Milwaukee Ave  |Chicago|IL   |60630|http://home.chicagopolice.org/community/districts/16th-district-jefferson-park/|312-742-4480|312-742-4421|312-742-4423|1138480.758 |1933660.473 |41.97409445|-87.76614884|(41.9740944511, -87.7661488432)|\n",
      "|10224750|HY411632   |2015-09-05 03:00:00|0000X W 103RD ST       |2820|OTHER OFFENSE     |TELEPHONE THREAT                              |APARTMENT                     |false |true    |0512|005     |34  |49            |26      |1177871     |1836676     |2015|02/10/2018 03:50:01 PM|41.707154919|-87.624244993|(41.707154919, -87.624244993)|005     |Calumet       |727 E 111th St        |Chicago|IL   |60628|http://home.chicagopolice.org/community/districts/5th-district-calumet/        |312-747-8210|312-747-5935|312-747-9170|1183305.427 |1831462.313 |41.69272336|-87.60450587|(41.6927233639, -87.6045058667)|\n",
      "|10224751|HY411566   |2015-09-05 12:50:00|013XX E 47TH ST        |0486|BATTERY           |DOMESTIC BATTERY SIMPLE                       |STREET                        |false |true    |0222|002     |4   |39            |08B     |1185907     |1874105     |2015|02/10/2018 03:50:01 PM|41.809678314|-87.593638934|(41.809678314, -87.593638934)|002     |Wentworth     |5101 S Wentworth Ave  |Chicago|IL   |60609|http://home.chicagopolice.org/community/districts/2nd-district-wentworth/      |312-747-8366|312-747-5396|312-747-6656|1175864.837 |1871153.753 |41.80181109|-87.63056018|(41.8018110912, -87.6305601801)|\n",
      "|10224752|HY411601   |2015-09-03 13:00:00|020XX W SCHILLER ST    |0810|THEFT             |OVER $500                                     |STREET                        |false |false   |1424|014     |1   |24            |06      |1162574     |1909428     |2015|02/10/2018 03:50:01 PM|41.907127255|-87.678232016|(41.907127255, -87.678232016)|014     |Shakespeare   |2150 N California Ave |Chicago|IL   |60647|http://home.chicagopolice.org/community/districts/14th-district-shakespeare/   |312-744-8250|312-744-2422|312-744-8260|1157304.426 |1914481.521 |41.92110332|-87.69745182|(41.9211033246, -87.6974518223)|\n",
      "|10224753|HY411489   |2015-09-05 11:45:00|080XX S JUSTINE ST     |0497|BATTERY           |AGGRAVATED DOMESTIC BATTERY: OTHER DANG WEAPON|APARTMENT                     |false |false   |0612|006     |21  |71            |04B     |1167400     |1851512     |2015|02/10/2018 03:50:01 PM|41.748097343|-87.662166183|(41.748097343, -87.662166183)|006     |Gresham       |7808 S Halsted St     |Chicago|IL   |60620|http://home.chicagopolice.org/community/districts/6th-district-gresham/        |312-745-3617|312-745-3649|312-745-3639|1172283.013 |1853022.646 |41.75213684|-87.64422891|(41.7521368378, -87.6442289066)|\n",
      "|10224754|HY411656   |2015-09-05 13:30:00|007XX N LEAMINGTON AVE |1320|CRIMINAL DAMAGE   |TO VEHICLE                                    |STREET                        |false |false   |1531|015     |28  |25            |14      |1141889     |1904448     |2015|02/10/2018 03:50:01 PM|41.893869916|-87.754341096|(41.893869916, -87.754341096)|015     |Austin        |5701 W Madison St     |Chicago|IL   |60644|http://home.chicagopolice.org/community/districts/15th-district-austin/        |312-743-1440|312-743-1366|312-743-1485|1138148.815 |1899399.078 |41.88008346|-87.76819989|(41.8800834614, -87.768199889) |\n",
      "|10224756|HY410094   |2015-07-08 00:00:00|103XX S TORRENCE AVE   |0620|BURGLARY          |UNLAWFUL ENTRY                                |OTHER                         |false |false   |0434|004     |10  |51            |05      |1195508     |1836950     |2015|02/10/2018 03:50:01 PM|41.707490122|-87.559650325|(41.707490122, -87.559650325)|004     |South Chicago |2255 E 103rd St       |Chicago|IL   |60617|http://home.chicagopolice.org/community/districts/4th-district-south-chicago/  |312-747-7581|312-747-5276|312-747-9169|1193131.299 |1837090.265 |41.70793329|-87.56834912|(41.7079332906, -87.5683491228)|\n",
      "|10224757|HY411388   |2015-09-05 09:55:00|088XX S PAULINA ST     |0610|BURGLARY          |FORCIBLE ENTRY                                |RESIDENCE                     |true  |false   |2221|022     |21  |71            |05      |1166554     |1846067     |2015|02/10/2018 03:50:01 PM|41.733173536|-87.665421067|(41.733173536, -87.665421067)|022     |Morgan Park   |1900 W Monterey Ave   |Chicago|IL   |60643|http://home.chicagopolice.org/community/districts/22nd-district-morgan-park/   |312-745-0710|312-745-0814|312-745-0569|1165825.476 |1830851.333 |41.69143478|-87.66852039|(41.6914347795, -87.6685203937)|\n",
      "|10224758|HY411568   |2015-09-05 12:35:00|059XX W GRACE ST       |0486|BATTERY           |DOMESTIC BATTERY SIMPLE                       |STREET                        |false |true    |1633|016     |38  |15            |08B     |1136014     |1924656     |2015|02/10/2018 03:50:01 PM|41.949429769|-87.775435529|(41.949429769, -87.775435529)|016     |Jefferson Park|5151 N Milwaukee Ave  |Chicago|IL   |60630|http://home.chicagopolice.org/community/districts/16th-district-jefferson-park/|312-742-4480|312-742-4421|312-742-4423|1138480.758 |1933660.473 |41.97409445|-87.76614884|(41.9740944511, -87.7661488432)|\n",
      "+--------+-----------+-------------------+-----------------------+----+------------------+----------------------------------------------+------------------------------+------+--------+----+--------+----+--------------+--------+------------+------------+----+----------------------+------------+-------------+-----------------------------+--------+--------------+----------------------+-------+-----+-----+-------------------------------------------------------------------------------+------------+------------+------------+------------+------------+-----------+------------+-------------------------------+\n",
      "only showing top 20 rows\n",
      "\n"
     ]
    }
   ],
   "source": [
    "rc.join(ps,ps.DISTRICT ==  rc.District,\"left_outer\").show(truncate=False)"
   ]
  },
  {
   "cell_type": "code",
   "execution_count": 22,
   "metadata": {},
   "outputs": [
    {
     "name": "stdout",
     "output_type": "stream",
     "text": [
      "+--------+-----------+-------------------+-----------------------+----+------------------+----------------------------------------------+------------------------------+------+--------+----+--------+----+--------------+--------+----+----------------------+--------+--------------+\n",
      "|ID      |Case Number|Date               |Block                  |IUCR|Primary Type      |Description                                   |Location Description          |Arrest|Domestic|Beat|District|Ward|Community Area|FBI Code|Year|Updated On            |DISTRICT|DISTRICT NAME |\n",
      "+--------+-----------+-------------------+-----------------------+----+------------------+----------------------------------------------+------------------------------+------+--------+----+--------+----+--------------+--------+----+----------------------+--------+--------------+\n",
      "|10224738|HY411648   |2015-09-05 13:30:00|043XX S WOOD ST        |0486|BATTERY           |DOMESTIC BATTERY SIMPLE                       |RESIDENCE                     |false |true    |0924|009     |12  |61            |08B     |2015|02/10/2018 03:50:01 PM|009     |Deering       |\n",
      "|10224739|HY411615   |2015-09-04 11:30:00|008XX N CENTRAL AVE    |0870|THEFT             |POCKET-PICKING                                |CTA BUS                       |false |false   |1511|015     |29  |25            |06      |2015|02/10/2018 03:50:01 PM|015     |Austin        |\n",
      "|11646166|JC213529   |2018-09-01 00:01:00|082XX S INGLESIDE AVE  |0810|THEFT             |OVER $500                                     |RESIDENCE                     |false |true    |0631|006     |8   |44            |06      |2018|04/06/2019 04:04:43 PM|006     |Gresham       |\n",
      "|10224740|HY411595   |2015-09-05 12:45:00|035XX W BARRY AVE      |2023|NARCOTICS         |POSS: HEROIN(BRN/TAN)                         |SIDEWALK                      |true  |false   |1412|014     |35  |21            |18      |2015|02/10/2018 03:50:01 PM|014     |Shakespeare   |\n",
      "|10224741|HY411610   |2015-09-05 13:00:00|0000X N LARAMIE AVE    |0560|ASSAULT           |SIMPLE                                        |APARTMENT                     |false |true    |1522|015     |28  |25            |08A     |2015|02/10/2018 03:50:01 PM|015     |Austin        |\n",
      "|10224742|HY411435   |2015-09-05 10:55:00|082XX S LOOMIS BLVD    |0610|BURGLARY          |FORCIBLE ENTRY                                |RESIDENCE                     |false |false   |0614|006     |21  |71            |05      |2015|02/10/2018 03:50:01 PM|006     |Gresham       |\n",
      "|10224743|HY411629   |2015-09-04 18:00:00|021XX W CHURCHILL ST   |0620|BURGLARY          |UNLAWFUL ENTRY                                |RESIDENCE-GARAGE              |false |false   |1434|014     |32  |24            |05      |2015|02/10/2018 03:50:01 PM|014     |Shakespeare   |\n",
      "|10224744|HY411605   |2015-09-05 13:00:00|025XX W CERMAK RD      |0860|THEFT             |RETAIL THEFT                                  |GROCERY FOOD STORE            |true  |false   |1034|010     |25  |31            |06      |2015|09/17/2015 11:37:18 AM|010     |Ogden         |\n",
      "|10224745|HY411654   |2015-09-05 11:30:00|031XX W WASHINGTON BLVD|0320|ROBBERY           |STRONGARM - NO WEAPON                         |STREET                        |false |true    |1222|012     |27  |27            |03      |2015|02/10/2018 03:50:01 PM|012     |Near West     |\n",
      "|11645836|JC212333   |2016-05-01 00:25:00|055XX S ROCKWELL ST    |1153|DECEPTIVE PRACTICE|FINANCIAL IDENTITY THEFT OVER $ 300           |null                          |false |false   |0824|008     |15  |63            |11      |2016|04/06/2019 04:04:43 PM|008     |Chicago Lawn  |\n",
      "|10224746|HY411662   |2015-09-05 14:00:00|071XX S PULASKI RD     |0820|THEFT             |$500 AND UNDER                                |PARKING LOT/GARAGE(NON.RESID.)|false |false   |0833|008     |13  |65            |06      |2015|02/10/2018 03:50:01 PM|008     |Chicago Lawn  |\n",
      "|10224749|HY411626   |2015-09-05 11:00:00|052XX N MILWAUKEE AVE  |0460|BATTERY           |SIMPLE                                        |SMALL RETAIL STORE            |false |false   |1623|016     |45  |11            |08B     |2015|02/10/2018 03:50:01 PM|016     |Jefferson Park|\n",
      "|10224750|HY411632   |2015-09-05 03:00:00|0000X W 103RD ST       |2820|OTHER OFFENSE     |TELEPHONE THREAT                              |APARTMENT                     |false |true    |0512|005     |34  |49            |26      |2015|02/10/2018 03:50:01 PM|005     |Calumet       |\n",
      "|10224751|HY411566   |2015-09-05 12:50:00|013XX E 47TH ST        |0486|BATTERY           |DOMESTIC BATTERY SIMPLE                       |STREET                        |false |true    |0222|002     |4   |39            |08B     |2015|02/10/2018 03:50:01 PM|002     |Wentworth     |\n",
      "|10224752|HY411601   |2015-09-03 13:00:00|020XX W SCHILLER ST    |0810|THEFT             |OVER $500                                     |STREET                        |false |false   |1424|014     |1   |24            |06      |2015|02/10/2018 03:50:01 PM|014     |Shakespeare   |\n",
      "|10224753|HY411489   |2015-09-05 11:45:00|080XX S JUSTINE ST     |0497|BATTERY           |AGGRAVATED DOMESTIC BATTERY: OTHER DANG WEAPON|APARTMENT                     |false |false   |0612|006     |21  |71            |04B     |2015|02/10/2018 03:50:01 PM|006     |Gresham       |\n",
      "|10224754|HY411656   |2015-09-05 13:30:00|007XX N LEAMINGTON AVE |1320|CRIMINAL DAMAGE   |TO VEHICLE                                    |STREET                        |false |false   |1531|015     |28  |25            |14      |2015|02/10/2018 03:50:01 PM|015     |Austin        |\n",
      "|10224756|HY410094   |2015-07-08 00:00:00|103XX S TORRENCE AVE   |0620|BURGLARY          |UNLAWFUL ENTRY                                |OTHER                         |false |false   |0434|004     |10  |51            |05      |2015|02/10/2018 03:50:01 PM|004     |South Chicago |\n",
      "|10224757|HY411388   |2015-09-05 09:55:00|088XX S PAULINA ST     |0610|BURGLARY          |FORCIBLE ENTRY                                |RESIDENCE                     |true  |false   |2221|022     |21  |71            |05      |2015|02/10/2018 03:50:01 PM|022     |Morgan Park   |\n",
      "|10224758|HY411568   |2015-09-05 12:35:00|059XX W GRACE ST       |0486|BATTERY           |DOMESTIC BATTERY SIMPLE                       |STREET                        |false |true    |1633|016     |38  |15            |08B     |2015|02/10/2018 03:50:01 PM|016     |Jefferson Park|\n",
      "+--------+-----------+-------------------+-----------------------+----+------------------+----------------------------------------------+------------------------------+------+--------+----+--------+----+--------------+--------+----+----------------------+--------+--------------+\n",
      "only showing top 20 rows\n",
      "\n"
     ]
    }
   ],
   "source": [
    "######33  too many columns------------- messy\n",
    "\n",
    "rc.join(ps,ps.DISTRICT ==  rc.District,\"left_outer\").drop('ADDRESS',\n",
    " 'CITY',\n",
    " 'STATE',\n",
    " 'ZIP',\n",
    " 'WEBSITE',\n",
    " 'PHONE',\n",
    " 'FAX',\n",
    " 'TTY',\n",
    " 'X COORDINATE',\n",
    " 'Y COORDINATE',\n",
    " 'LATITUDE',\n",
    " 'LONGITUDE',\n",
    " 'LOCATION').show(truncate=False)"
   ]
  },
  {
   "cell_type": "code",
   "execution_count": 23,
   "metadata": {},
   "outputs": [
    {
     "data": {
      "text/plain": [
       "[('ID', 'string'),\n",
       " ('Case Number', 'string'),\n",
       " ('Date', 'timestamp'),\n",
       " ('Block', 'string'),\n",
       " ('IUCR', 'string'),\n",
       " ('Primary Type', 'string'),\n",
       " ('Description', 'string'),\n",
       " ('Location Description', 'string'),\n",
       " ('Arrest', 'string'),\n",
       " ('Domestic', 'string'),\n",
       " ('Beat', 'string'),\n",
       " ('District', 'string'),\n",
       " ('Ward', 'string'),\n",
       " ('Community Area', 'string'),\n",
       " ('FBI Code', 'string'),\n",
       " ('X Coordinate', 'string'),\n",
       " ('Y Coordinate', 'string'),\n",
       " ('Year', 'string'),\n",
       " ('Updated On', 'string'),\n",
       " ('Latitude', 'string'),\n",
       " ('Longitude', 'string'),\n",
       " ('Location', 'string')]"
      ]
     },
     "execution_count": 23,
     "metadata": {},
     "output_type": "execute_result"
    }
   ],
   "source": [
    "rc.dtypes"
   ]
  },
  {
   "cell_type": "code",
   "execution_count": 24,
   "metadata": {},
   "outputs": [
    {
     "data": {
      "text/plain": [
       "['DISTRICT',\n",
       " 'DISTRICT NAME',\n",
       " 'ADDRESS',\n",
       " 'CITY',\n",
       " 'STATE',\n",
       " 'ZIP',\n",
       " 'WEBSITE',\n",
       " 'PHONE',\n",
       " 'FAX',\n",
       " 'TTY',\n",
       " 'X COORDINATE',\n",
       " 'Y COORDINATE',\n",
       " 'LATITUDE',\n",
       " 'LONGITUDE',\n",
       " 'LOCATION']"
      ]
     },
     "execution_count": 24,
     "metadata": {},
     "output_type": "execute_result"
    }
   ],
   "source": [
    "ps.columns"
   ]
  },
  {
   "cell_type": "code",
   "execution_count": null,
   "metadata": {},
   "outputs": [],
   "source": [
    "#######################                                                                     ################################3333\n",
    "                            #  WHICH DAY HAS THE MOST NUMBER OF CRIMES  #######################\n",
    "########################                                                                     ################################"
   ]
  },
  {
   "cell_type": "code",
   "execution_count": 25,
   "metadata": {
    "scrolled": true
   },
   "outputs": [],
   "source": [
    "########  get day, week, month from spark dataframe\n",
    "\n",
    "\n",
    "x=rc.withColumn(\"Day\", date_format(col(\"Date\"), \"E\"))"
   ]
  },
  {
   "cell_type": "code",
   "execution_count": 26,
   "metadata": {},
   "outputs": [
    {
     "name": "stdout",
     "output_type": "stream",
     "text": [
      "+--------+-----------+-------------------+--------------------+----+------------------+--------------------+--------------------+------+--------+----+--------+----+--------------+--------+------------+------------+----+--------------------+------------+-------------+--------------------+---+\n",
      "|      ID|Case Number|               Date|               Block|IUCR|      Primary Type|         Description|Location Description|Arrest|Domestic|Beat|District|Ward|Community Area|FBI Code|X Coordinate|Y Coordinate|Year|          Updated On|    Latitude|    Longitude|            Location|Day|\n",
      "+--------+-----------+-------------------+--------------------+----+------------------+--------------------+--------------------+------+--------+----+--------+----+--------------+--------+------------+------------+----+--------------------+------------+-------------+--------------------+---+\n",
      "|10224738|   HY411648|2015-09-05 13:30:00|     043XX S WOOD ST|0486|           BATTERY|DOMESTIC BATTERY ...|           RESIDENCE| false|    true|0924|     009|  12|            61|     08B|     1165074|     1875917|2015|02/10/2018 03:50:...|41.815117282|-87.669999562|(41.815117282, -8...|Sat|\n",
      "|10224739|   HY411615|2015-09-04 11:30:00| 008XX N CENTRAL AVE|0870|             THEFT|      POCKET-PICKING|             CTA BUS| false|   false|1511|     015|  29|            25|      06|     1138875|     1904869|2015|02/10/2018 03:50:...|41.895080471|-87.765400451|(41.895080471, -8...|Fri|\n",
      "|11646166|   JC213529|2018-09-01 00:01:00|082XX S INGLESIDE...|0810|             THEFT|           OVER $500|           RESIDENCE| false|    true|0631|     006|   8|            44|      06|        null|        null|2018|04/06/2019 04:04:...|        null|         null|                null|Sat|\n",
      "|10224740|   HY411595|2015-09-05 12:45:00|   035XX W BARRY AVE|2023|         NARCOTICS|POSS: HEROIN(BRN/...|            SIDEWALK|  true|   false|1412|     014|  35|            21|      18|     1152037|     1920384|2015|02/10/2018 03:50:...|41.937405765|-87.716649687|(41.937405765, -8...|Sat|\n",
      "|10224741|   HY411610|2015-09-05 13:00:00| 0000X N LARAMIE AVE|0560|           ASSAULT|              SIMPLE|           APARTMENT| false|    true|1522|     015|  28|            25|     08A|     1141706|     1900086|2015|02/10/2018 03:50:...|41.881903443|-87.755121152|(41.881903443, -8...|Sat|\n",
      "|10224742|   HY411435|2015-09-05 10:55:00| 082XX S LOOMIS BLVD|0610|          BURGLARY|      FORCIBLE ENTRY|           RESIDENCE| false|   false|0614|     006|  21|            71|      05|     1168430|     1850165|2015|02/10/2018 03:50:...|41.744378879|-87.658430635|(41.744378879, -8...|Sat|\n",
      "|10224743|   HY411629|2015-09-04 18:00:00|021XX W CHURCHILL ST|0620|          BURGLARY|      UNLAWFUL ENTRY|    RESIDENCE-GARAGE| false|   false|1434|     014|  32|            24|      05|     1161628|     1912157|2015|02/10/2018 03:50:...|41.914635603|-87.681630909|(41.914635603, -8...|Fri|\n",
      "|10224744|   HY411605|2015-09-05 13:00:00|   025XX W CERMAK RD|0860|             THEFT|        RETAIL THEFT|  GROCERY FOOD STORE|  true|   false|1034|     010|  25|            31|      06|     1159734|     1889313|2015|09/17/2015 11:37:...|41.851988885|-87.689219118|(41.851988885, -8...|Sat|\n",
      "|10224745|   HY411654|2015-09-05 11:30:00|031XX W WASHINGTO...|0320|           ROBBERY|STRONGARM - NO WE...|              STREET| false|    true|1222|     012|  27|            27|      03|     1155536|     1900515|2015|02/10/2018 03:50:...| 41.88281374|-87.704325717|(41.88281374, -87...|Sat|\n",
      "|11645836|   JC212333|2016-05-01 00:25:00| 055XX S ROCKWELL ST|1153|DECEPTIVE PRACTICE|FINANCIAL IDENTIT...|                null| false|   false|0824|     008|  15|            63|      11|        null|        null|2016|04/06/2019 04:04:...|        null|         null|                null|Sun|\n",
      "|10224746|   HY411662|2015-09-05 14:00:00|  071XX S PULASKI RD|0820|             THEFT|      $500 AND UNDER|PARKING LOT/GARAG...| false|   false|0833|     008|  13|            65|      06|     1150938|     1857056|2015|02/10/2018 03:50:...|41.763647552|-87.722344693|(41.763647552, -8...|Sat|\n",
      "|10224749|   HY411626|2015-09-05 11:00:00|052XX N MILWAUKEE...|0460|           BATTERY|              SIMPLE|  SMALL RETAIL STORE| false|   false|1623|     016|  45|            11|     08B|     1137969|     1934340|2015|02/10/2018 03:50:...|41.975968415|-87.768014257|(41.975968415, -8...|Sat|\n",
      "|10224750|   HY411632|2015-09-05 03:00:00|    0000X W 103RD ST|2820|     OTHER OFFENSE|    TELEPHONE THREAT|           APARTMENT| false|    true|0512|     005|  34|            49|      26|     1177871|     1836676|2015|02/10/2018 03:50:...|41.707154919|-87.624244993|(41.707154919, -8...|Sat|\n",
      "|10224751|   HY411566|2015-09-05 12:50:00|     013XX E 47TH ST|0486|           BATTERY|DOMESTIC BATTERY ...|              STREET| false|    true|0222|     002|   4|            39|     08B|     1185907|     1874105|2015|02/10/2018 03:50:...|41.809678314|-87.593638934|(41.809678314, -8...|Sat|\n",
      "|10224752|   HY411601|2015-09-03 13:00:00| 020XX W SCHILLER ST|0810|             THEFT|           OVER $500|              STREET| false|   false|1424|     014|   1|            24|      06|     1162574|     1909428|2015|02/10/2018 03:50:...|41.907127255|-87.678232016|(41.907127255, -8...|Thu|\n",
      "|10224753|   HY411489|2015-09-05 11:45:00|  080XX S JUSTINE ST|0497|           BATTERY|AGGRAVATED DOMEST...|           APARTMENT| false|   false|0612|     006|  21|            71|     04B|     1167400|     1851512|2015|02/10/2018 03:50:...|41.748097343|-87.662166183|(41.748097343, -8...|Sat|\n",
      "|10224754|   HY411656|2015-09-05 13:30:00|007XX N LEAMINGTO...|1320|   CRIMINAL DAMAGE|          TO VEHICLE|              STREET| false|   false|1531|     015|  28|            25|      14|     1141889|     1904448|2015|02/10/2018 03:50:...|41.893869916|-87.754341096|(41.893869916, -8...|Sat|\n",
      "|10224756|   HY410094|2015-07-08 00:00:00|103XX S TORRENCE AVE|0620|          BURGLARY|      UNLAWFUL ENTRY|               OTHER| false|   false|0434|     004|  10|            51|      05|     1195508|     1836950|2015|02/10/2018 03:50:...|41.707490122|-87.559650325|(41.707490122, -8...|Wed|\n",
      "|10224757|   HY411388|2015-09-05 09:55:00|  088XX S PAULINA ST|0610|          BURGLARY|      FORCIBLE ENTRY|           RESIDENCE|  true|   false|2221|     022|  21|            71|      05|     1166554|     1846067|2015|02/10/2018 03:50:...|41.733173536|-87.665421067|(41.733173536, -8...|Sat|\n",
      "|10224758|   HY411568|2015-09-05 12:35:00|    059XX W GRACE ST|0486|           BATTERY|DOMESTIC BATTERY ...|              STREET| false|    true|1633|     016|  38|            15|     08B|     1136014|     1924656|2015|02/10/2018 03:50:...|41.949429769|-87.775435529|(41.949429769, -8...|Sat|\n",
      "+--------+-----------+-------------------+--------------------+----+------------------+--------------------+--------------------+------+--------+----+--------+----+--------------+--------+------------+------------+----+--------------------+------------+-------------+--------------------+---+\n",
      "only showing top 20 rows\n",
      "\n"
     ]
    }
   ],
   "source": [
    "x.show()"
   ]
  },
  {
   "cell_type": "code",
   "execution_count": 27,
   "metadata": {},
   "outputs": [
    {
     "name": "stdout",
     "output_type": "stream",
     "text": [
      "+---+------+\n",
      "|Day| count|\n",
      "+---+------+\n",
      "|Sun| 98284|\n",
      "|Wed| 99459|\n",
      "|Tue| 99958|\n",
      "|Thu|100770|\n",
      "|Mon|101311|\n",
      "|Sat|102306|\n",
      "|Fri|105872|\n",
      "+---+------+\n",
      "\n"
     ]
    }
   ],
   "source": [
    "x.groupBy(\"Day\").count().orderBy(\"count\").show(10)"
   ]
  },
  {
   "cell_type": "code",
   "execution_count": null,
   "metadata": {},
   "outputs": [],
   "source": [
    "############################################           OR             ################################################"
   ]
  },
  {
   "cell_type": "code",
   "execution_count": 117,
   "metadata": {},
   "outputs": [
    {
     "name": "stdout",
     "output_type": "stream",
     "text": [
      "Help on function dayofweek in module pyspark.sql.functions:\n",
      "\n",
      "dayofweek(col)\n",
      "    Extract the day of the week of a given date as integer.\n",
      "    \n",
      "    .. versionadded:: 2.3.0\n",
      "    \n",
      "    Examples\n",
      "    --------\n",
      "    >>> df = spark.createDataFrame([('2015-04-08',)], ['dt'])\n",
      "    >>> df.select(dayofweek('dt').alias('day')).collect()\n",
      "    [Row(day=4)]\n",
      "\n"
     ]
    }
   ],
   "source": [
    "help(dayofweek)"
   ]
  },
  {
   "cell_type": "code",
   "execution_count": 28,
   "metadata": {},
   "outputs": [
    {
     "name": "stdout",
     "output_type": "stream",
     "text": [
      "+-------------------+---------------+\n",
      "|               Date|dayofweek(Date)|\n",
      "+-------------------+---------------+\n",
      "|2015-09-05 13:30:00|              7|\n",
      "|2015-09-04 11:30:00|              6|\n",
      "|2018-09-01 00:01:00|              7|\n",
      "|2015-09-05 12:45:00|              7|\n",
      "|2015-09-05 13:00:00|              7|\n",
      "|2015-09-05 10:55:00|              7|\n",
      "|2015-09-04 18:00:00|              6|\n",
      "|2015-09-05 13:00:00|              7|\n",
      "|2015-09-05 11:30:00|              7|\n",
      "|2016-05-01 00:25:00|              1|\n",
      "|2015-09-05 14:00:00|              7|\n",
      "|2015-09-05 11:00:00|              7|\n",
      "|2015-09-05 03:00:00|              7|\n",
      "|2015-09-05 12:50:00|              7|\n",
      "|2015-09-03 13:00:00|              5|\n",
      "|2015-09-05 11:45:00|              7|\n",
      "|2015-09-05 13:30:00|              7|\n",
      "|2015-07-08 00:00:00|              4|\n",
      "|2015-09-05 09:55:00|              7|\n",
      "|2015-09-05 12:35:00|              7|\n",
      "+-------------------+---------------+\n",
      "only showing top 20 rows\n",
      "\n"
     ]
    }
   ],
   "source": [
    "\n",
    "rc.select(\"Date\", dayofweek(col(\"Date\"))).show()"
   ]
  },
  {
   "cell_type": "code",
   "execution_count": 30,
   "metadata": {},
   "outputs": [
    {
     "name": "stdout",
     "output_type": "stream",
     "text": [
      "+--------+-----------+-------------------+--------------------+----+------------------+--------------------+--------------------+------+--------+----+--------+----+--------------+--------+------------+------------+----+--------------------+------------+-------------+--------------------+---+\n",
      "|      ID|Case Number|               Date|               Block|IUCR|      Primary Type|         Description|Location Description|Arrest|Domestic|Beat|District|Ward|Community Area|FBI Code|X Coordinate|Y Coordinate|Year|          Updated On|    Latitude|    Longitude|            Location|Day|\n",
      "+--------+-----------+-------------------+--------------------+----+------------------+--------------------+--------------------+------+--------+----+--------+----+--------------+--------+------------+------------+----+--------------------+------------+-------------+--------------------+---+\n",
      "|10224738|   HY411648|2015-09-05 13:30:00|     043XX S WOOD ST|0486|           BATTERY|DOMESTIC BATTERY ...|           RESIDENCE| false|    true|0924|     009|  12|            61|     08B|     1165074|     1875917|2015|02/10/2018 03:50:...|41.815117282|-87.669999562|(41.815117282, -8...|Sat|\n",
      "|10224739|   HY411615|2015-09-04 11:30:00| 008XX N CENTRAL AVE|0870|             THEFT|      POCKET-PICKING|             CTA BUS| false|   false|1511|     015|  29|            25|      06|     1138875|     1904869|2015|02/10/2018 03:50:...|41.895080471|-87.765400451|(41.895080471, -8...|Fri|\n",
      "|11646166|   JC213529|2018-09-01 00:01:00|082XX S INGLESIDE...|0810|             THEFT|           OVER $500|           RESIDENCE| false|    true|0631|     006|   8|            44|      06|        null|        null|2018|04/06/2019 04:04:...|        null|         null|                null|Sat|\n",
      "|10224740|   HY411595|2015-09-05 12:45:00|   035XX W BARRY AVE|2023|         NARCOTICS|POSS: HEROIN(BRN/...|            SIDEWALK|  true|   false|1412|     014|  35|            21|      18|     1152037|     1920384|2015|02/10/2018 03:50:...|41.937405765|-87.716649687|(41.937405765, -8...|Sat|\n",
      "|10224741|   HY411610|2015-09-05 13:00:00| 0000X N LARAMIE AVE|0560|           ASSAULT|              SIMPLE|           APARTMENT| false|    true|1522|     015|  28|            25|     08A|     1141706|     1900086|2015|02/10/2018 03:50:...|41.881903443|-87.755121152|(41.881903443, -8...|Sat|\n",
      "|10224742|   HY411435|2015-09-05 10:55:00| 082XX S LOOMIS BLVD|0610|          BURGLARY|      FORCIBLE ENTRY|           RESIDENCE| false|   false|0614|     006|  21|            71|      05|     1168430|     1850165|2015|02/10/2018 03:50:...|41.744378879|-87.658430635|(41.744378879, -8...|Sat|\n",
      "|10224743|   HY411629|2015-09-04 18:00:00|021XX W CHURCHILL ST|0620|          BURGLARY|      UNLAWFUL ENTRY|    RESIDENCE-GARAGE| false|   false|1434|     014|  32|            24|      05|     1161628|     1912157|2015|02/10/2018 03:50:...|41.914635603|-87.681630909|(41.914635603, -8...|Fri|\n",
      "|10224744|   HY411605|2015-09-05 13:00:00|   025XX W CERMAK RD|0860|             THEFT|        RETAIL THEFT|  GROCERY FOOD STORE|  true|   false|1034|     010|  25|            31|      06|     1159734|     1889313|2015|09/17/2015 11:37:...|41.851988885|-87.689219118|(41.851988885, -8...|Sat|\n",
      "|10224745|   HY411654|2015-09-05 11:30:00|031XX W WASHINGTO...|0320|           ROBBERY|STRONGARM - NO WE...|              STREET| false|    true|1222|     012|  27|            27|      03|     1155536|     1900515|2015|02/10/2018 03:50:...| 41.88281374|-87.704325717|(41.88281374, -87...|Sat|\n",
      "|11645836|   JC212333|2016-05-01 00:25:00| 055XX S ROCKWELL ST|1153|DECEPTIVE PRACTICE|FINANCIAL IDENTIT...|                null| false|   false|0824|     008|  15|            63|      11|        null|        null|2016|04/06/2019 04:04:...|        null|         null|                null|Sun|\n",
      "|10224746|   HY411662|2015-09-05 14:00:00|  071XX S PULASKI RD|0820|             THEFT|      $500 AND UNDER|PARKING LOT/GARAG...| false|   false|0833|     008|  13|            65|      06|     1150938|     1857056|2015|02/10/2018 03:50:...|41.763647552|-87.722344693|(41.763647552, -8...|Sat|\n",
      "|10224749|   HY411626|2015-09-05 11:00:00|052XX N MILWAUKEE...|0460|           BATTERY|              SIMPLE|  SMALL RETAIL STORE| false|   false|1623|     016|  45|            11|     08B|     1137969|     1934340|2015|02/10/2018 03:50:...|41.975968415|-87.768014257|(41.975968415, -8...|Sat|\n",
      "|10224750|   HY411632|2015-09-05 03:00:00|    0000X W 103RD ST|2820|     OTHER OFFENSE|    TELEPHONE THREAT|           APARTMENT| false|    true|0512|     005|  34|            49|      26|     1177871|     1836676|2015|02/10/2018 03:50:...|41.707154919|-87.624244993|(41.707154919, -8...|Sat|\n",
      "|10224751|   HY411566|2015-09-05 12:50:00|     013XX E 47TH ST|0486|           BATTERY|DOMESTIC BATTERY ...|              STREET| false|    true|0222|     002|   4|            39|     08B|     1185907|     1874105|2015|02/10/2018 03:50:...|41.809678314|-87.593638934|(41.809678314, -8...|Sat|\n",
      "|10224752|   HY411601|2015-09-03 13:00:00| 020XX W SCHILLER ST|0810|             THEFT|           OVER $500|              STREET| false|   false|1424|     014|   1|            24|      06|     1162574|     1909428|2015|02/10/2018 03:50:...|41.907127255|-87.678232016|(41.907127255, -8...|Thu|\n",
      "|10224753|   HY411489|2015-09-05 11:45:00|  080XX S JUSTINE ST|0497|           BATTERY|AGGRAVATED DOMEST...|           APARTMENT| false|   false|0612|     006|  21|            71|     04B|     1167400|     1851512|2015|02/10/2018 03:50:...|41.748097343|-87.662166183|(41.748097343, -8...|Sat|\n",
      "|10224754|   HY411656|2015-09-05 13:30:00|007XX N LEAMINGTO...|1320|   CRIMINAL DAMAGE|          TO VEHICLE|              STREET| false|   false|1531|     015|  28|            25|      14|     1141889|     1904448|2015|02/10/2018 03:50:...|41.893869916|-87.754341096|(41.893869916, -8...|Sat|\n",
      "|10224756|   HY410094|2015-07-08 00:00:00|103XX S TORRENCE AVE|0620|          BURGLARY|      UNLAWFUL ENTRY|               OTHER| false|   false|0434|     004|  10|            51|      05|     1195508|     1836950|2015|02/10/2018 03:50:...|41.707490122|-87.559650325|(41.707490122, -8...|Wed|\n",
      "|10224757|   HY411388|2015-09-05 09:55:00|  088XX S PAULINA ST|0610|          BURGLARY|      FORCIBLE ENTRY|           RESIDENCE|  true|   false|2221|     022|  21|            71|      05|     1166554|     1846067|2015|02/10/2018 03:50:...|41.733173536|-87.665421067|(41.733173536, -8...|Sat|\n",
      "|10224758|   HY411568|2015-09-05 12:35:00|    059XX W GRACE ST|0486|           BATTERY|DOMESTIC BATTERY ...|              STREET| false|    true|1633|     016|  38|            15|     08B|     1136014|     1924656|2015|02/10/2018 03:50:...|41.949429769|-87.775435529|(41.949429769, -8...|Sat|\n",
      "+--------+-----------+-------------------+--------------------+----+------------------+--------------------+--------------------+------+--------+----+--------+----+--------------+--------+------------+------------+----+--------------------+------------+-------------+--------------------+---+\n",
      "only showing top 20 rows\n",
      "\n"
     ]
    }
   ],
   "source": [
    "rc.withColumn(\"Day\", date_format(col(\"Date\"), \"E\")).show()"
   ]
  },
  {
   "cell_type": "code",
   "execution_count": 93,
   "metadata": {},
   "outputs": [],
   "source": [
    "##################################  MOST FREQUENTLY reported NON-CRIMINAL ACTIVITY  ######################################\n",
    "\n",
    "#####################################                                                 ####################################"
   ]
  },
  {
   "cell_type": "code",
   "execution_count": 99,
   "metadata": {},
   "outputs": [
    {
     "data": {
      "text/plain": [
       "35"
      ]
     },
     "execution_count": 99,
     "metadata": {},
     "output_type": "execute_result"
    }
   ],
   "source": [
    "rc.select(\"Primary Type\").distinct().count()"
   ]
  },
  {
   "cell_type": "code",
   "execution_count": 106,
   "metadata": {},
   "outputs": [
    {
     "name": "stdout",
     "output_type": "stream",
     "text": [
      "+--------------------+------+\n",
      "|        Primary Type| count|\n",
      "+--------------------+------+\n",
      "|                null|     1|\n",
      "|               ARSON|  1221|\n",
      "|             ASSAULT| 49239|\n",
      "|             BATTERY|131247|\n",
      "|            BURGLARY| 36290|\n",
      "|CONCEALED CARRY L...|   143|\n",
      "| CRIM SEXUAL ASSAULT|  3953|\n",
      "|     CRIMINAL DAMAGE| 79989|\n",
      "|CRIMINAL SEXUAL A...|    42|\n",
      "|   CRIMINAL TRESPASS| 17723|\n",
      "|  DECEPTIVE PRACTICE| 48812|\n",
      "|            GAMBLING|   541|\n",
      "|            HOMICIDE|   126|\n",
      "|   HUMAN TRAFFICKING|    31|\n",
      "|INTERFERENCE WITH...|  2940|\n",
      "|        INTIMIDATION|   362|\n",
      "|          KIDNAPPING|   528|\n",
      "|LIQUOR LAW VIOLATION|   615|\n",
      "| MOTOR VEHICLE THEFT| 29397|\n",
      "|           NARCOTICS| 38057|\n",
      "|      NON - CRIMINAL|    13|\n",
      "|        NON-CRIMINAL|   104|\n",
      "|NON-CRIMINAL (SUB...|     4|\n",
      "|           OBSCENITY|   173|\n",
      "|OFFENSE INVOLVING...|  6037|\n",
      "|OTHER NARCOTIC VI...|    15|\n",
      "|       OTHER OFFENSE| 46626|\n",
      "|        PROSTITUTION|  2209|\n",
      "|    PUBLIC INDECENCY|    27|\n",
      "|PUBLIC PEACE VIOL...|  4503|\n",
      "|             ROBBERY| 30365|\n",
      "|         SEX OFFENSE|  2628|\n",
      "|            STALKING|   460|\n",
      "|               THEFT|162737|\n",
      "|   WEAPONS VIOLATION| 10802|\n",
      "+--------------------+------+\n",
      "\n"
     ]
    }
   ],
   "source": [
    "rc.groupBy(\"Primary Type\").count().orderBy(\"Primary Type\").show(35)"
   ]
  },
  {
   "cell_type": "code",
   "execution_count": null,
   "metadata": {},
   "outputs": [],
   "source": [
    "############  NON - CRIMINAL|    13|\n",
    "#        NON-CRIMINAL|   104|\n",
    "#           |NON-CRIMINAL (SUB..."
   ]
  },
  {
   "cell_type": "code",
   "execution_count": 31,
   "metadata": {},
   "outputs": [
    {
     "name": "stdout",
     "output_type": "stream",
     "text": [
      "+--------+-----------+-------------------+--------------------+----+--------------+--------------------+--------------------+------+--------+----+--------+----+--------------+--------+------------+------------+----+--------------------+------------+-------------+--------------------+\n",
      "|      ID|Case Number|               Date|               Block|IUCR|  Primary Type|         Description|Location Description|Arrest|Domestic|Beat|District|Ward|Community Area|FBI Code|X Coordinate|Y Coordinate|Year|          Updated On|    Latitude|    Longitude|            Location|\n",
      "+--------+-----------+-------------------+--------------------+----+--------------+--------------------+--------------------+------+--------+----+--------+----+--------------+--------+------------+------------+----+--------------------+------------+-------------+--------------------+\n",
      "|10233370|   HY421530|2015-09-13 10:45:00|  010XX S MENARD AVE|5114|NON - CRIMINAL|   FOID - REVOCATION|           RESIDENCE|  true|   false|1513|     015|  29|            25|      26|     1137869|     1895239|2015|02/10/2018 03:50:...|41.868672696|-87.769327726|(41.868672696, -8...|\n",
      "|10241515|   HY429346|2015-09-19 07:45:00|051XX N MILWAUKEE...|5114|NON - CRIMINAL|   FOID - REVOCATION|POLICE FACILITY/V...|  true|   false|1623|     016|  45|            11|      26|     1138424|     1933673|2015|02/10/2018 03:50:...|41.974129858|-87.766357256|(41.974129858, -8...|\n",
      "|10277370|   HY465290|2015-10-16 20:00:00|    100XX W OHARE ST|5093|  NON-CRIMINAL|       LOST PASSPORT|            AIRCRAFT| false|   false|1651|     016|  41|            76|      26|     1100658|     1934241|2015|02/10/2018 03:50:...|41.976290414|-87.905227221|(41.976290414, -8...|\n",
      "|10280097|   HY468448|2015-10-19 18:50:00|   033XX W OGDEN AVE|5114|NON - CRIMINAL|   FOID - REVOCATION|POLICE FACILITY/V...| false|   false|1024|     010|  24|            29|      26|     1154489|     1891024|2015|02/10/2018 03:50:...|41.856790413|-87.708424071|(41.856790413, -8...|\n",
      "|10290745|   HY478502|2015-10-26 16:00:00|004XX W DIVERSEY ...|5093|  NON-CRIMINAL|       LOST PASSPORT|            SIDEWALK| false|   false|1934|     019|  44|             6|      26|     1172533|     1918887|2015|02/10/2018 03:50:...|41.932868651|-87.641368196|(41.932868651, -8...|\n",
      "|10296800|   HY485235|2015-09-30 17:00:00|008XX N MAPLEWOOD...|5093|  NON-CRIMINAL|       LOST PASSPORT|            SIDEWALK| false|   false|1211|     012|   1|            24|      26|     1159246|     1905582|2015|02/10/2018 03:50:...|41.896642608|-87.690563055|(41.896642608, -8...|\n",
      "|10300617|   HY489191|2015-11-03 15:00:00|  031XX S HALSTED ST|5114|NON - CRIMINAL|   FOID - REVOCATION|           RESIDENCE| false|   false|0913|     009|  11|            60|      26|     1171479|     1884120|2015|02/10/2018 03:50:...|41.837489008|-87.646264459|(41.837489008, -8...|\n",
      "|10325994|   HY516457|2015-11-26 23:30:00|  001XX W HUBBARD ST|5093|  NON-CRIMINAL|       LOST PASSPORT|          RESTAURANT| false|   false|1831|     018|  42|             8|      26|     1175301|     1903292|2015|02/10/2018 03:50:...|41.890013524|-87.631664996|(41.890013524, -8...|\n",
      "|10157940|   HY347539|2015-07-08 10:30:00| 016XX W CHICAGO AVE|5093|  NON-CRIMINAL|       LOST PASSPORT|              STREET| false|   false|1215|     012|   1|            24|      26|     1165158|     1905410|2015|02/10/2018 03:50:...|41.896047034|-87.668854221|(41.896047034, -8...|\n",
      "|10181019|   HY369010|2015-08-01 10:15:00|  079XX S KEDZIE AVE|5114|NON - CRIMINAL|   FOID - REVOCATION|           RESIDENCE| false|   false|0835|     008|  18|            70|      26|     1156427|     1851731|2015|02/10/2018 03:50:...|41.748926157| -87.70236927|(41.748926157, -8...|\n",
      "|11249289|   JB176638|2016-12-23 12:00:00| 0000X N CENTRAL AVE|5093|  NON-CRIMINAL|       LOST PASSPORT|           RESIDENCE| false|   false|1513|     015|  29|            25|      26|        null|        null|2016|03/08/2018 03:55:...|        null|         null|                null|\n",
      "|10202049|   HY389275|2015-08-19 18:38:00|025XX W MARQUETTE RD|5114|NON - CRIMINAL|   FOID - REVOCATION|           APARTMENT| false|   false|0832|     008|  15|            66|      26|     1160388|     1860136|2015|02/10/2018 03:50:...|41.771910102|-87.687623385|(41.771910102, -8...|\n",
      "|10813751|   JA113073|2003-03-17 20:00:00| 029XX N MELVINA AVE|5093|  NON-CRIMINAL|       LOST PASSPORT|           RESIDENCE| false|   false|2511|     025|  29|            19|      26|        null|        null|2003|01/14/2017 03:49:...|        null|         null|                null|\n",
      "|10212100|   HY398571|2015-08-26 17:45:00|    017XX S STATE ST|0585|  NON-CRIMINAL|NOTIFICATION OF S...|POLICE FACILITY/V...|  true|   false|0131|     001|   3|            33|      26|     1176607|     1891853|2015|02/10/2018 03:50:...|41.858594819|-87.627214427|(41.858594819, -8...|\n",
      "|10213039|   HY398172|2015-08-26 11:45:00| 0000X W TERMINAL ST|5093|  NON-CRIMINAL|       LOST PASSPORT|AIRPORT TERMINAL ...| false|   false|1653|     016|  41|            76|      26|     1101811|     1934419|2015|02/10/2018 03:50:...|41.976762981|-87.900983721|(41.976762981, -8...|\n",
      "|10221247|   HY406742|2015-09-01 22:00:00| 031XX W HARRISON ST|5114|NON - CRIMINAL|   FOID - REVOCATION|POLICE FACILITY/V...| false|   false|1134|     011|  24|            27|      26|     1155457|     1897193|2015|02/10/2018 03:50:...|41.873699424|-87.704705156|(41.873699424, -8...|\n",
      "|10336794|   HY527983|2015-10-26 14:00:00|    006XX N STATE ST|5093|  NON-CRIMINAL|       LOST PASSPORT|               OTHER| false|   false|1832|     018|  42|             8|      26|     1176262|     1904268|2015|02/10/2018 03:50:...|  41.8926701|-87.628106353|(41.8926701, -87....|\n",
      "|10344075|   HY535016|2015-12-12 20:50:00|     025XX W 80TH PL|5114|NON - CRIMINAL|   FOID - REVOCATION|VEHICLE NON-COMME...| false|   false|0835|     008|  18|            70|      26|     1160683|     1851174|2015|02/10/2018 03:50:...|41.747310961| -87.68678891|(41.747310961, -8...|\n",
      "|10351482|   HY541941|2015-12-13 08:30:00|    100XX W OHARE ST|5093|  NON-CRIMINAL|       LOST PASSPORT|AIRPORT TERMINAL ...| false|   false|1651|     016|  41|            76|      26|     1100658|     1934241|2015|02/10/2018 03:50:...|41.976290414|-87.905227221|(41.976290414, -8...|\n",
      "|10396040|   HZ131825|2016-01-04 18:00:00|  008XX W ADDISON ST|5114|  NON-CRIMINAL|   FOID - REVOCATION|HOSPITAL BUILDING...| false|   false|1923|     019|  44|             6|      26|     1169826|     1924123|2016|02/10/2018 03:50:...|41.947295978|-87.651162974|(41.947295978, -8...|\n",
      "+--------+-----------+-------------------+--------------------+----+--------------+--------------------+--------------------+------+--------+----+--------+----+--------------+--------+------------+------------+----+--------------------+------------+-------------+--------------------+\n",
      "only showing top 20 rows\n",
      "\n"
     ]
    }
   ],
   "source": [
    "y=rc.filter((col(\"Primary Type\") == \"NON-CRIMINAL\")|(col(\"Primary Type\") == \"NON - CRIMINAL\")|(col(\"Primary Type\") == \"NON-CRIMINAL (SUB SPECIFIED)\"))\n",
    "y.show()"
   ]
  },
  {
   "cell_type": "code",
   "execution_count": 32,
   "metadata": {},
   "outputs": [
    {
     "name": "stdout",
     "output_type": "stream",
     "text": [
      "+--------------------+-----+\n",
      "|         Description|count|\n",
      "+--------------------+-----+\n",
      "|       LOST PASSPORT|   69|\n",
      "|   FOID - REVOCATION|   38|\n",
      "|CONCEALED CARRY L...|    4|\n",
      "|NOTIFICATION OF S...|    3|\n",
      "|      FOUND PASSPORT|    2|\n",
      "|GUN OFFENDER NOTI...|    1|\n",
      "+--------------------+-----+\n",
      "\n"
     ]
    }
   ],
   "source": [
    "y.groupBy(\"Description\").count().orderBy(\"count\",ascending=False).show(10)"
   ]
  },
  {
   "cell_type": "code",
   "execution_count": 33,
   "metadata": {},
   "outputs": [],
   "source": [
    "###LOST PASSPORT|   69  is the answer"
   ]
  },
  {
   "cell_type": "code",
   "execution_count": null,
   "metadata": {},
   "outputs": [],
   "source": []
  }
 ],
 "metadata": {
  "kernelspec": {
   "display_name": "Python 3",
   "language": "python",
   "name": "python3"
  },
  "language_info": {
   "codemirror_mode": {
    "name": "ipython",
    "version": 3
   },
   "file_extension": ".py",
   "mimetype": "text/x-python",
   "name": "python",
   "nbconvert_exporter": "python",
   "pygments_lexer": "ipython3",
   "version": "3.8.5"
  }
 },
 "nbformat": 4,
 "nbformat_minor": 4
}
