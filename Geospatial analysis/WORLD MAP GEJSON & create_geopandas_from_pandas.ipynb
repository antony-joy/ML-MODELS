{
 "cells": [
  {
   "cell_type": "code",
   "execution_count": null,
   "metadata": {},
   "outputs": [],
   "source": [
    "%matplotlib inline"
   ]
  },
  {
   "cell_type": "markdown",
   "metadata": {},
   "source": [
    "\n",
    "Creating a GeoDataFrame from a DataFrame with coordinates\n",
    "---------------------------------------------------------\n",
    "\n",
    "This example shows how to create a ``GeoDataFrame`` when starting from\n",
    "a *regular* ``DataFrame`` that has coordinates either WKT\n",
    "(`well-known text <https://en.wikipedia.org/wiki/Well-known_text>`_)\n",
    "format, or in\n",
    "two columns.\n"
   ]
  },
  {
   "cell_type": "code",
   "execution_count": 1,
   "metadata": {},
   "outputs": [],
   "source": [
    "import pandas as pd\n",
    "import geopandas\n",
    "import matplotlib.pyplot as plt"
   ]
  },
  {
   "cell_type": "markdown",
   "metadata": {},
   "source": [
    "From longitudes and latitudes\n",
    "=============================\n",
    "\n",
    "First, let's consider a ``DataFrame`` containing cities and their respective\n",
    "longitudes and latitudes.\n",
    "\n"
   ]
  },
  {
   "cell_type": "code",
   "execution_count": 2,
   "metadata": {},
   "outputs": [],
   "source": [
    "df = pd.DataFrame(\n",
    "    {'City': ['Buenos Aires', 'Brasilia', 'Santiago', 'Bogota', 'Caracas'],\n",
    "     'Country': ['Argentina', 'Brazil', 'Chile', 'Colombia', 'Venezuela'],\n",
    "     'Latitude': [-34.58, -15.78, -33.45, 4.60, 10.48],\n",
    "     'Longitude': [-58.66, -47.91, -70.66, -74.08, -66.86]})"
   ]
  },
  {
   "cell_type": "markdown",
   "metadata": {},
   "source": [
    "A ``GeoDataFrame`` needs a ``shapely`` object. We use geopandas\n",
    "``points_from_xy()`` to transform **Longitude** and **Latitude** into a list\n",
    "of ``shapely.Point`` objects and set it as a ``geometry`` while creating the\n",
    "``GeoDataFrame``. (note that ``points_from_xy()`` is an enhanced wrapper for\n",
    "``[Point(x, y) for x, y in zip(df.Longitude, df.Latitude)]``)\n",
    "\n"
   ]
  },
  {
   "cell_type": "code",
   "execution_count": 3,
   "metadata": {},
   "outputs": [],
   "source": [
    "gdf = geopandas.GeoDataFrame(\n",
    "    df, geometry=geopandas.points_from_xy(df.Longitude, df.Latitude))"
   ]
  },
  {
   "cell_type": "markdown",
   "metadata": {},
   "source": [
    "``gdf`` looks like this :\n",
    "\n"
   ]
  },
  {
   "cell_type": "code",
   "execution_count": 4,
   "metadata": {},
   "outputs": [
    {
     "data": {
      "text/html": [
       "<div>\n",
       "<style scoped>\n",
       "    .dataframe tbody tr th:only-of-type {\n",
       "        vertical-align: middle;\n",
       "    }\n",
       "\n",
       "    .dataframe tbody tr th {\n",
       "        vertical-align: top;\n",
       "    }\n",
       "\n",
       "    .dataframe thead th {\n",
       "        text-align: right;\n",
       "    }\n",
       "</style>\n",
       "<table border=\"1\" class=\"dataframe\">\n",
       "  <thead>\n",
       "    <tr style=\"text-align: right;\">\n",
       "      <th></th>\n",
       "      <th>City</th>\n",
       "      <th>Country</th>\n",
       "      <th>Latitude</th>\n",
       "      <th>Longitude</th>\n",
       "      <th>geometry</th>\n",
       "    </tr>\n",
       "  </thead>\n",
       "  <tbody>\n",
       "    <tr>\n",
       "      <th>0</th>\n",
       "      <td>Buenos Aires</td>\n",
       "      <td>Argentina</td>\n",
       "      <td>-34.58</td>\n",
       "      <td>-58.66</td>\n",
       "      <td>POINT (-58.66000 -34.58000)</td>\n",
       "    </tr>\n",
       "    <tr>\n",
       "      <th>1</th>\n",
       "      <td>Brasilia</td>\n",
       "      <td>Brazil</td>\n",
       "      <td>-15.78</td>\n",
       "      <td>-47.91</td>\n",
       "      <td>POINT (-47.91000 -15.78000)</td>\n",
       "    </tr>\n",
       "    <tr>\n",
       "      <th>2</th>\n",
       "      <td>Santiago</td>\n",
       "      <td>Chile</td>\n",
       "      <td>-33.45</td>\n",
       "      <td>-70.66</td>\n",
       "      <td>POINT (-70.66000 -33.45000)</td>\n",
       "    </tr>\n",
       "    <tr>\n",
       "      <th>3</th>\n",
       "      <td>Bogota</td>\n",
       "      <td>Colombia</td>\n",
       "      <td>4.60</td>\n",
       "      <td>-74.08</td>\n",
       "      <td>POINT (-74.08000 4.60000)</td>\n",
       "    </tr>\n",
       "    <tr>\n",
       "      <th>4</th>\n",
       "      <td>Caracas</td>\n",
       "      <td>Venezuela</td>\n",
       "      <td>10.48</td>\n",
       "      <td>-66.86</td>\n",
       "      <td>POINT (-66.86000 10.48000)</td>\n",
       "    </tr>\n",
       "  </tbody>\n",
       "</table>\n",
       "</div>"
      ],
      "text/plain": [
       "           City    Country  Latitude  Longitude                     geometry\n",
       "0  Buenos Aires  Argentina    -34.58     -58.66  POINT (-58.66000 -34.58000)\n",
       "1      Brasilia     Brazil    -15.78     -47.91  POINT (-47.91000 -15.78000)\n",
       "2      Santiago      Chile    -33.45     -70.66  POINT (-70.66000 -33.45000)\n",
       "3        Bogota   Colombia      4.60     -74.08    POINT (-74.08000 4.60000)\n",
       "4       Caracas  Venezuela     10.48     -66.86   POINT (-66.86000 10.48000)"
      ]
     },
     "execution_count": 4,
     "metadata": {},
     "output_type": "execute_result"
    }
   ],
   "source": [
    "gdf"
   ]
  },
  {
   "cell_type": "markdown",
   "metadata": {},
   "source": [
    "Finally, we plot the coordinates over a country-level map.\n",
    "\n"
   ]
  },
  {
   "cell_type": "code",
   "execution_count": 5,
   "metadata": {},
   "outputs": [
    {
     "data": {
      "image/png": "[encoded data removed]",
      "text/plain": [
       "<Figure size 432x288 with 1 Axes>"
      ]
     },
     "metadata": {
      "needs_background": "light"
     },
     "output_type": "display_data"
    }
   ],
   "source": [
    "world = geopandas.read_file(geopandas.datasets.get_path('naturalearth_lowres'))\n",
    "\n",
    "# We restrict to South America.\n",
    "ax = world[world.continent == 'South America'].plot(\n",
    "    color='white', edgecolor='black')\n",
    "\n",
    "# We can now plot our ``GeoDataFrame``.\n",
    "gdf.plot(ax=ax, color='red')                        # we can use simply gdf\n",
    "\n",
    "plt.show()"
   ]
  },
  {
   "cell_type": "code",
   "execution_count": 8,
   "metadata": {},
   "outputs": [
    {
     "data": {
      "image/png": "[encoded data removed]",
      "text/plain": [
       "<Figure size 432x288 with 1 Axes>"
      ]
     },
     "metadata": {
      "needs_background": "light"
     },
     "output_type": "display_data"
    }
   ],
   "source": [
    "# Add the chicken locations\n",
    "world = geopandas.read_file(geopandas.datasets.get_path('naturalearth_lowres'))\n",
    "\n",
    "# We restrict to South America.\n",
    "ax = world[world.continent == 'South America'].plot(\n",
    "    color='white', edgecolor='black')\n",
    "\n",
    "plt.scatter(x=gdf.Longitude, y=gdf.Latitude, c='blue', edgecolor = 'red')           #or we can use this\n",
    "\n",
    "\n",
    "plt.show()"
   ]
  },
  {
   "cell_type": "markdown",
   "metadata": {},
   "source": [
    "From WKT format\n",
    "===============\n",
    "Here, we consider a ``DataFrame`` having coordinates in WKT format.\n",
    "\n"
   ]
  },
  {
   "cell_type": "code",
   "execution_count": 8,
   "metadata": {},
   "outputs": [],
   "source": [
    "df = pd.DataFrame(\n",
    "    {'City': ['Buenos Aires', 'Brasilia', 'Santiago', 'Bogota', 'Caracas'],\n",
    "     'Country': ['Argentina', 'Brazil', 'Chile', 'Colombia', 'Venezuela'],\n",
    "     'Coordinates': ['POINT(-58.66 -34.58)', 'POINT(-47.91 -15.78)',\n",
    "                     'POINT(-70.66 -33.45)', 'POINT(-74.08 4.60)',\n",
    "                     'POINT(-66.86 10.48)']})"
   ]
  },
  {
   "cell_type": "markdown",
   "metadata": {},
   "source": [
    "We use ``shapely.wkt`` sub-module to parse wkt format:\n",
    "\n"
   ]
  },
  {
   "cell_type": "code",
   "execution_count": 9,
   "metadata": {},
   "outputs": [],
   "source": [
    "from shapely import wkt\n",
    "\n",
    "df['Coordinates'] = df['Coordinates'].apply(wkt.loads)"
   ]
  },
  {
   "cell_type": "markdown",
   "metadata": {},
   "source": [
    "The ``GeoDataFrame`` is constructed as follows :\n",
    "\n"
   ]
  },
  {
   "cell_type": "code",
   "execution_count": 10,
   "metadata": {},
   "outputs": [
    {
     "name": "stdout",
     "output_type": "stream",
     "text": [
      "           City    Country                  Coordinates\n",
      "0  Buenos Aires  Argentina  POINT (-58.66000 -34.58000)\n",
      "1      Brasilia     Brazil  POINT (-47.91000 -15.78000)\n",
      "2      Santiago      Chile  POINT (-70.66000 -33.45000)\n",
      "3        Bogota   Colombia    POINT (-74.08000 4.60000)\n",
      "4       Caracas  Venezuela   POINT (-66.86000 10.48000)\n"
     ]
    }
   ],
   "source": [
    "gdf = geopandas.GeoDataFrame(df, geometry='Coordinates')\n",
    "\n",
    "print(gdf.head())"
   ]
  },
  {
   "cell_type": "markdown",
   "metadata": {},
   "source": [
    "Again, we can plot our ``GeoDataFrame``.\n",
    "\n"
   ]
  },
  {
   "cell_type": "code",
   "execution_count": 11,
   "metadata": {},
   "outputs": [
    {
     "data": {
      "image/png": "[encoded data removed]",
      "text/plain": [
       "<Figure size 432x288 with 1 Axes>"
      ]
     },
     "metadata": {
      "needs_background": "light"
     },
     "output_type": "display_data"
    }
   ],
   "source": [
    "ax = world[world.continent == 'South America'].plot(\n",
    "    color='white', edgecolor='black')\n",
    "\n",
    "gdf.plot(ax=ax, color='red')\n",
    "\n",
    "plt.show()"
   ]
  },
  {
   "cell_type": "code",
   "execution_count": null,
   "metadata": {},
   "outputs": [],
   "source": []
  }
 ],
 "metadata": {
  "kernelspec": {
   "display_name": "Python 3",
   "language": "python",
   "name": "python3"
  },
  "language_info": {
   "codemirror_mode": {
    "name": "ipython",
    "version": 3
   },
   "file_extension": ".py",
   "mimetype": "text/x-python",
   "name": "python",
   "nbconvert_exporter": "python",
   "pygments_lexer": "ipython3",
   "version": "3.8.5"
  }
 },
 "nbformat": 4,
 "nbformat_minor": 1
}
