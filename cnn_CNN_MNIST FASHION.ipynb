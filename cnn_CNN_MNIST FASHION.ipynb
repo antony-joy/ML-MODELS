{
 "cells": [
  {
   "cell_type": "code",
   "execution_count": 14,
   "metadata": {},
   "outputs": [],
   "source": [
    "import tensorflow as tf\n",
    "import keras\n",
    "from keras.models import Sequential\n",
    "from keras.layers import Convolution2D\n",
    "from keras.layers import MaxPooling2D\n",
    "from keras.layers import GlobalAveragePooling2D\n",
    "from keras.layers import Flatten\n",
    "from keras.layers import Dense\n",
    "from keras.layers import Conv2D\n",
    "from keras.layers import Dropout\n",
    "import numpy as np\n",
    "import matplotlib.pyplot as plt"
   ]
  },
  {
   "cell_type": "code",
   "execution_count": 15,
   "metadata": {},
   "outputs": [
    {
     "data": {
      "text/plain": [
       "(TensorShape([60000, 28, 28, 1]),\n",
       " TensorShape([60000, 10]),\n",
       " TensorShape([10000, 28, 28, 1]),\n",
       " TensorShape([10000, 10]))"
      ]
     },
     "execution_count": 15,
     "metadata": {},
     "output_type": "execute_result"
    }
   ],
   "source": [
    "from tensorflow.keras.datasets import fashion_mnist   \n",
    "\n",
    "(x_train, y_train), (x_test, y_test) = fashion_mnist.load_data()\n",
    "\n",
    "x_train = tf.expand_dims(x_train, -1)     # from 28 x 28 to 28 x 28 x 1 \n",
    "x_train = tf.divide(x_train, 255)         # Normalize \n",
    "y_train = tf.one_hot(y_train , depth=10)  # Make target One-Hot\n",
    "\n",
    "x_test = tf.expand_dims(x_test, -1)       # from 28 x 28 to 28 x 28 x 1 \n",
    "x_test = tf.divide(x_test, 255)           # Normalize\n",
    "y_test = tf.one_hot(y_test , depth=10)    # Make target One-Hot\n",
    " \n",
    "x_train.shape, y_train.shape, x_test.shape, y_test.shape\n",
    "(tf.TensorShape([60000, 28, 28, 1]),\n",
    " tf.TensorShape([60000, 10]),\n",
    " tf.TensorShape([10000, 28, 28, 1]),\n",
    " tf.TensorShape([10000, 10]))"
   ]
  },
  {
   "cell_type": "code",
   "execution_count": 16,
   "metadata": {},
   "outputs": [
    {
     "data": {
      "image/png": "[encoded data removed]",
      "text/plain": [
       "<Figure size 432x288 with 1 Axes>"
      ]
     },
     "metadata": {
      "needs_background": "light"
     },
     "output_type": "display_data"
    }
   ],
   "source": [
    "plt.imshow(x_train[0][:,:,0], cmap=\"gray\")\n",
    "plt.show()"
   ]
  },
  {
   "cell_type": "code",
   "execution_count": 17,
   "metadata": {},
   "outputs": [
    {
     "name": "stdout",
     "output_type": "stream",
     "text": [
      "Model: \"sequential_2\"\n",
      "_________________________________________________________________\n",
      "Layer (type)                 Output Shape              Param #   \n",
      "=================================================================\n",
      "conv2d_8 (Conv2D)            (None, 26, 26, 16)        160       \n",
      "_________________________________________________________________\n",
      "conv2d_9 (Conv2D)            (None, 24, 24, 32)        4640      \n",
      "_________________________________________________________________\n",
      "conv2d_10 (Conv2D)           (None, 22, 22, 64)        18496     \n",
      "_________________________________________________________________\n",
      "conv2d_11 (Conv2D)           (None, 20, 20, 128)       73856     \n",
      "_________________________________________________________________\n",
      "global_average_pooling2d_1 ( (None, 128)               0         \n",
      "_________________________________________________________________\n",
      "dropout (Dropout)            (None, 128)               0         \n",
      "_________________________________________________________________\n",
      "dense (Dense)                (None, 10)                1290      \n",
      "=================================================================\n",
      "Total params: 98,442\n",
      "Trainable params: 98,442\n",
      "Non-trainable params: 0\n",
      "_________________________________________________________________\n",
      "Epoch 1/15\n",
      "235/235 [==============================] - 130s 550ms/step - loss: 1.6654 - accuracy: 0.3612 - val_loss: 0.8183 - val_accuracy: 0.7213\n",
      "Epoch 2/15\n",
      "235/235 [==============================] - 136s 579ms/step - loss: 0.8897 - accuracy: 0.6785 - val_loss: 0.7097 - val_accuracy: 0.7498\n",
      "Epoch 3/15\n",
      "235/235 [==============================] - 133s 567ms/step - loss: 0.7672 - accuracy: 0.7226 - val_loss: 0.6659 - val_accuracy: 0.7587\n",
      "Epoch 4/15\n",
      "235/235 [==============================] - 131s 557ms/step - loss: 0.7085 - accuracy: 0.7429 - val_loss: 0.6035 - val_accuracy: 0.7895\n",
      "Epoch 5/15\n",
      "235/235 [==============================] - 134s 572ms/step - loss: 0.6627 - accuracy: 0.7630 - val_loss: 0.5680 - val_accuracy: 0.7961\n",
      "Epoch 6/15\n",
      "235/235 [==============================] - 131s 556ms/step - loss: 0.6266 - accuracy: 0.7759 - val_loss: 0.5466 - val_accuracy: 0.8059\n",
      "Epoch 7/15\n",
      "235/235 [==============================] - 136s 579ms/step - loss: 0.6060 - accuracy: 0.7831 - val_loss: 0.5168 - val_accuracy: 0.8166\n",
      "Epoch 8/15\n",
      "235/235 [==============================] - 130s 555ms/step - loss: 0.5808 - accuracy: 0.7932 - val_loss: 0.5091 - val_accuracy: 0.8234\n",
      "Epoch 9/15\n",
      "235/235 [==============================] - 132s 560ms/step - loss: 0.5634 - accuracy: 0.8011 - val_loss: 0.4862 - val_accuracy: 0.8287\n",
      "Epoch 10/15\n",
      "235/235 [==============================] - 142s 606ms/step - loss: 0.5433 - accuracy: 0.8083 - val_loss: 0.4780 - val_accuracy: 0.8310\n",
      "Epoch 11/15\n",
      "235/235 [==============================] - 134s 571ms/step - loss: 0.5299 - accuracy: 0.8125 - val_loss: 0.4866 - val_accuracy: 0.8296\n",
      "Epoch 12/15\n",
      "235/235 [==============================] - 134s 572ms/step - loss: 0.5214 - accuracy: 0.8150 - val_loss: 0.4518 - val_accuracy: 0.8363\n",
      "Epoch 13/15\n",
      "235/235 [==============================] - 132s 561ms/step - loss: 0.4945 - accuracy: 0.8250 - val_loss: 0.4544 - val_accuracy: 0.8410\n",
      "Epoch 14/15\n",
      "235/235 [==============================] - 133s 566ms/step - loss: 0.4961 - accuracy: 0.8236 - val_loss: 0.4571 - val_accuracy: 0.8403\n",
      "Epoch 15/15\n",
      "235/235 [==============================] - 131s 557ms/step - loss: 0.4844 - accuracy: 0.8300 - val_loss: 0.4352 - val_accuracy: 0.8438\n"
     ]
    },
    {
     "data": {
      "text/plain": [
       "<tensorflow.python.keras.callbacks.History at 0x29a400740d0>"
      ]
     },
     "execution_count": 17,
     "metadata": {},
     "output_type": "execute_result"
    }
   ],
   "source": [
    "model = Sequential() \n",
    "model.add(Conv2D(16, kernel_size=(3,3), input_shape = (28,28,1)))  \n",
    "model.add(Conv2D(32, kernel_size=(3,3), activation=\"relu\"))  \n",
    "model.add(Conv2D(64, kernel_size=(3,3), activation=\"relu\"))  \n",
    "model.add(Conv2D(128, kernel_size=(3,3), activation=\"relu\"))  \n",
    "model.add(GlobalAveragePooling2D())     \n",
    "model.add(Dropout(0.5))         \n",
    "model.add(Dense(10, activation=tf.nn.softmax))       \n",
    "model.summary()\n",
    "\n",
    "# Unlike you I use categorical_crossentropy\n",
    "# as because I one_hot encoded my y_train and y_test\n",
    "model.compile(optimizer='adam', \n",
    "              loss='categorical_crossentropy', \n",
    "              metrics=['accuracy'])\n",
    "\n",
    "model.fit(x_train, y_train, batch_size=256, \n",
    "             epochs=15, validation_data=(x_test, y_test))"
   ]
  },
  {
   "cell_type": "code",
   "execution_count": 18,
   "metadata": {},
   "outputs": [],
   "source": [
    "# a preprocess function \n",
    "def infer_prec(img, img_size):\n",
    "    img = tf.expand_dims(img, -1)       # from 28 x 28 to 28 x 28 x 1 \n",
    "    img = tf.divide(img, 255)           # normalize \n",
    "    img = tf.image.resize(img,          # resize acc to the input\n",
    "             [img_size, img_size])\n",
    "    img = tf.reshape(img,               # reshape to add batch dimension \n",
    "            [1, img_size, img_size, 1])\n",
    "    return img "
   ]
  },
  {
   "cell_type": "code",
   "execution_count": 37,
   "metadata": {},
   "outputs": [
    {
     "name": "stdout",
     "output_type": "stream",
     "text": [
      "(225, 225)\n"
     ]
    },
    {
     "data": {
      "image/png": "[encoded data removed]",
      "text/plain": [
       "<Figure size 432x288 with 1 Axes>"
      ]
     },
     "metadata": {
      "needs_background": "light"
     },
     "output_type": "display_data"
    },
    {
     "name": "stdout",
     "output_type": "stream",
     "text": [
      "(1, 28, 28, 1)\n"
     ]
    }
   ],
   "source": [
    "import cv2\n",
    "import matplotlib.pyplot as plt\n",
    "\n",
    "img = cv2.imread('C:/Users/ANTHONY/Desktop/CSV&XLSX/shoe.jpg', 0)   # read image as gray scale    \n",
    "print(img.shape)   # (300, 231)\n",
    "\n",
    "plt.imshow(img, cmap=\"gray\")\n",
    "plt.show()\n",
    "\n",
    "img = infer_prec(img, 28)  # call preprocess function \n",
    "print(img.shape)   # (1, 28, 28, 1)"
   ]
  },
  {
   "cell_type": "code",
   "execution_count": 38,
   "metadata": {},
   "outputs": [
    {
     "data": {
      "text/plain": [
       "array([[9.9265508e-02, 8.2123259e-09, 2.7465767e-01, 8.1704078e-05,\n",
       "        8.9867541e-07, 1.6487756e-07, 1.6689105e-03, 1.0713762e-06,\n",
       "        6.2389642e-01, 4.2764339e-04]], dtype=float32)"
      ]
     },
     "execution_count": 38,
     "metadata": {},
     "output_type": "execute_result"
    }
   ],
   "source": [
    "y_pred = model.predict(img)\n",
    "y_pred "
   ]
  },
  {
   "cell_type": "code",
   "execution_count": 39,
   "metadata": {},
   "outputs": [
    {
     "data": {
      "text/plain": [
       "array([8], dtype=int64)"
      ]
     },
     "execution_count": 39,
     "metadata": {},
     "output_type": "execute_result"
    }
   ],
   "source": [
    "tf.argmax(y_pred, axis=-1).numpy() "
   ]
  },
  {
   "cell_type": "code",
   "execution_count": null,
   "metadata": {},
   "outputs": [],
   "source": []
  }
 ],
 "metadata": {
  "kernelspec": {
   "display_name": "Python 3",
   "language": "python",
   "name": "python3"
  },
  "language_info": {
   "codemirror_mode": {
    "name": "ipython",
    "version": 3
   },
   "file_extension": ".py",
   "mimetype": "text/x-python",
   "name": "python",
   "nbconvert_exporter": "python",
   "pygments_lexer": "ipython3",
   "version": "3.8.5"
  }
 },
 "nbformat": 4,
 "nbformat_minor": 4
}
