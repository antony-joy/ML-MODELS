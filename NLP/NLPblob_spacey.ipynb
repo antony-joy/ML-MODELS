{
 "cells": [
  {
   "cell_type": "code",
   "execution_count": null,
   "metadata": {
    "colab": {
     "base_uri": "https://localhost:8080/"
    },
    "executionInfo": {
     "elapsed": 2520,
     "status": "ok",
     "timestamp": 1612448853775,
     "user": {
      "displayName": "Antony Joy",
      "photoUrl": "https://lh3.googleusercontent.com/a-/AOh14Gh6uu5dndZWbA_Re_0jNJD5Spxj4z6Nd3gQ8ZkOBQ=s64",
      "userId": "04196436763642379067"
     },
     "user_tz": -330
    },
    "id": "j2PQJG0JZiPu",
    "outputId": "d07399a4-70aa-4881-ee61-eccce490117e"
   },
   "outputs": [],
   "source": [
    "import nltk\n",
    "nltk.download(\"all\")\n"
   ]
  },
  {
   "cell_type": "code",
   "execution_count": null,
   "metadata": {},
   "outputs": [],
   "source": [
    "from textblob import TextBlob\n"
   ]
  },
  {
   "cell_type": "code",
   "execution_count": null,
   "metadata": {
    "colab": {
     "base_uri": "https://localhost:8080/"
    },
    "executionInfo": {
     "elapsed": 946,
     "status": "ok",
     "timestamp": 1612448859584,
     "user": {
      "displayName": "Antony Joy",
      "photoUrl": "https://lh3.googleusercontent.com/a-/AOh14Gh6uu5dndZWbA_Re_0jNJD5Spxj4z6Nd3gQ8ZkOBQ=s64",
      "userId": "04196436763642379067"
     },
     "user_tz": -330
    },
    "id": "EsoBaER5Z8ni",
    "outputId": "be2cd567-3fca-4ced-997b-2e4f551cdc86"
   },
   "outputs": [],
   "source": [
    "b=TextBlob(\"simple better than complex\")\n",
    "b.sentiment"
   ]
  },
  {
   "cell_type": "code",
   "execution_count": null,
   "metadata": {
    "colab": {
     "base_uri": "https://localhost:8080/"
    },
    "executionInfo": {
     "elapsed": 1174,
     "status": "ok",
     "timestamp": 1612448862764,
     "user": {
      "displayName": "Antony Joy",
      "photoUrl": "https://lh3.googleusercontent.com/a-/AOh14Gh6uu5dndZWbA_Re_0jNJD5Spxj4z6Nd3gQ8ZkOBQ=s64",
      "userId": "04196436763642379067"
     },
     "user_tz": -330
    },
    "id": "lUG_deD1aJW2",
    "outputId": "f929534c-897a-4c36-9f15-3ad9f59231c1"
   },
   "outputs": [],
   "source": [
    "b.tags"
   ]
  },
  {
   "cell_type": "code",
   "execution_count": null,
   "metadata": {
    "colab": {
     "base_uri": "https://localhost:8080/"
    },
    "executionInfo": {
     "elapsed": 1181,
     "status": "ok",
     "timestamp": 1612449124693,
     "user": {
      "displayName": "Antony Joy",
      "photoUrl": "https://lh3.googleusercontent.com/a-/AOh14Gh6uu5dndZWbA_Re_0jNJD5Spxj4z6Nd3gQ8ZkOBQ=s64",
      "userId": "04196436763642379067"
     },
     "user_tz": -330
    },
    "id": "7B78WyPEaL_K",
    "outputId": "eb5c53cd-f078-40f1-f849-0994557ecbec"
   },
   "outputs": [],
   "source": [
    "b=TextBlob(\"I love you\")\n",
    "b.sentiment"
   ]
  },
  {
   "cell_type": "code",
   "execution_count": null,
   "metadata": {
    "colab": {
     "base_uri": "https://localhost:8080/"
    },
    "executionInfo": {
     "elapsed": 1280,
     "status": "ok",
     "timestamp": 1612449106520,
     "user": {
      "displayName": "Antony Joy",
      "photoUrl": "https://lh3.googleusercontent.com/a-/AOh14Gh6uu5dndZWbA_Re_0jNJD5Spxj4z6Nd3gQ8ZkOBQ=s64",
      "userId": "04196436763642379067"
     },
     "user_tz": -330
    },
    "id": "SQ7ujlcRbhrT",
    "outputId": "e338a65d-d34f-411e-a2b9-d17584dde1fb"
   },
   "outputs": [],
   "source": [
    "b=TextBlob(\"I hate you\")\n",
    "b.sentiment"
   ]
  },
  {
   "cell_type": "code",
   "execution_count": null,
   "metadata": {
    "colab": {
     "base_uri": "https://localhost:8080/"
    },
    "executionInfo": {
     "elapsed": 947,
     "status": "ok",
     "timestamp": 1612449064754,
     "user": {
      "displayName": "Antony Joy",
      "photoUrl": "https://lh3.googleusercontent.com/a-/AOh14Gh6uu5dndZWbA_Re_0jNJD5Spxj4z6Nd3gQ8ZkOBQ=s64",
      "userId": "04196436763642379067"
     },
     "user_tz": -330
    },
    "id": "rHRM6cIUZ9FM",
    "outputId": "4489c7f7-2ec6-4a58-d784-4e4306f8ed98"
   },
   "outputs": [],
   "source": [
    "b=TextBlob(\"apple is red and orange is orange\")\n",
    "b.sentiment"
   ]
  },
  {
   "cell_type": "code",
   "execution_count": null,
   "metadata": {
    "colab": {
     "base_uri": "https://localhost:8080/"
    },
    "executionInfo": {
     "elapsed": 1168,
     "status": "ok",
     "timestamp": 1612449022544,
     "user": {
      "displayName": "Antony Joy",
      "photoUrl": "https://lh3.googleusercontent.com/a-/AOh14Gh6uu5dndZWbA_Re_0jNJD5Spxj4z6Nd3gQ8ZkOBQ=s64",
      "userId": "04196436763642379067"
     },
     "user_tz": -330
    },
    "id": "r6Gh5KGTbBOd",
    "outputId": "12e9f886-0ce5-4bd7-90f5-07051bf71c1c"
   },
   "outputs": [],
   "source": [
    "b=TextBlob(\"fuck off bitch, i hate you and i want to kill you\")\n",
    "b.sentiment"
   ]
  },
  {
   "cell_type": "code",
   "execution_count": null,
   "metadata": {
    "colab": {
     "base_uri": "https://localhost:8080/"
    },
    "executionInfo": {
     "elapsed": 932,
     "status": "ok",
     "timestamp": 1612449146796,
     "user": {
      "displayName": "Antony Joy",
      "photoUrl": "https://lh3.googleusercontent.com/a-/AOh14Gh6uu5dndZWbA_Re_0jNJD5Spxj4z6Nd3gQ8ZkOBQ=s64",
      "userId": "04196436763642379067"
     },
     "user_tz": -330
    },
    "id": "YVSHqJmEc6-U",
    "outputId": "7f39e222-ce7d-4d0e-c958-ba89979696ac"
   },
   "outputs": [],
   "source": [
    "c=TextBlob(\" i am angry \")\n",
    "c.sentiment"
   ]
  },
  {
   "cell_type": "code",
   "execution_count": null,
   "metadata": {
    "colab": {
     "base_uri": "https://localhost:8080/"
    },
    "executionInfo": {
     "elapsed": 979,
     "status": "ok",
     "timestamp": 1612449194161,
     "user": {
      "displayName": "Antony Joy",
      "photoUrl": "https://lh3.googleusercontent.com/a-/AOh14Gh6uu5dndZWbA_Re_0jNJD5Spxj4z6Nd3gQ8ZkOBQ=s64",
      "userId": "04196436763642379067"
     },
     "user_tz": -330
    },
    "id": "ykSI5ZUkdaBs",
    "outputId": "832ff0c8-ddbc-4d39-97f0-32211cd78578"
   },
   "outputs": [],
   "source": [
    "c=TextBlob(\" hello guys, I hope it does not rain today \")\n",
    "c.sentiment"
   ]
  },
  {
   "cell_type": "code",
   "execution_count": null,
   "metadata": {
    "colab": {
     "base_uri": "https://localhost:8080/"
    },
    "executionInfo": {
     "elapsed": 1597,
     "status": "ok",
     "timestamp": 1612449457949,
     "user": {
      "displayName": "Antony Joy",
      "photoUrl": "https://lh3.googleusercontent.com/a-/AOh14Gh6uu5dndZWbA_Re_0jNJD5Spxj4z6Nd3gQ8ZkOBQ=s64",
      "userId": "04196436763642379067"
     },
     "user_tz": -330
    },
    "id": "Dhn_B8PRdmpm",
    "outputId": "88b8eb92-dc6d-41d3-fbf8-64c6afc348dc"
   },
   "outputs": [],
   "source": [
    "c=TextBlob(\"Ich hasse dich\")\n",
    "c.detect_language()\n",
    "c.translate(to='en')"
   ]
  },
  {
   "cell_type": "code",
   "execution_count": null,
   "metadata": {
    "colab": {
     "base_uri": "https://localhost:8080/"
    },
    "executionInfo": {
     "elapsed": 4728,
     "status": "ok",
     "timestamp": 1612451132497,
     "user": {
      "displayName": "Antony Joy",
      "photoUrl": "https://lh3.googleusercontent.com/a-/AOh14Gh6uu5dndZWbA_Re_0jNJD5Spxj4z6Nd3gQ8ZkOBQ=s64",
      "userId": "04196436763642379067"
     },
     "user_tz": -330
    },
    "id": "FNrG31B1etHL",
    "outputId": "3a9d32c4-41a5-4860-8caa-a4a8d7d92fde"
   },
   "outputs": [],
   "source": [
    "!python -m spacy download en_core_web_lg"
   ]
  },
  {
   "cell_type": "code",
   "execution_count": 1,
   "metadata": {
    "colab": {
     "base_uri": "https://localhost:8080/"
    },
    "executionInfo": {
     "elapsed": 12428,
     "status": "ok",
     "timestamp": 1612454075772,
     "user": {
      "displayName": "Antony Joy",
      "photoUrl": "https://lh3.googleusercontent.com/a-/AOh14Gh6uu5dndZWbA_Re_0jNJD5Spxj4z6Nd3gQ8ZkOBQ=s64",
      "userId": "04196436763642379067"
     },
     "user_tz": -330
    },
    "id": "ujeoiBHye818",
    "outputId": "afe44c6d-f540-486a-b6b0-6936dea05318"
   },
   "outputs": [
    {
     "data": {
      "text/plain": [
       "SVC(kernel='linear')"
      ]
     },
     "execution_count": 1,
     "metadata": {},
     "output_type": "execute_result"
    }
   ],
   "source": [
    "# When the en_core_web_lg library is downloaded then fo to Rintime --> Restart Runtime\n",
    "import spacy\n",
    "MyVectorizer = spacy.load('en_core_web_lg') #creates an object of spacey\n",
    "\n",
    "\n",
    "sentence1 = \"I love the book\"\n",
    "sentence2 = \"This is a great book ?\"\n",
    "sentence3 = \"The fit is great\"\n",
    "sentence4 = \"I love the shoes\"\n",
    "sentence5 = \"Do you hate driving\"\n",
    "sentence6 = \"I love boxing\"\n",
    "sentence7 = \"Beggars can't be chooser\"\n",
    "sentence8 = \"Early to bed and early to rise, makes a man healthy, wealthy and wise\"\n",
    "sentence9 = \"Playing sports makes you stronger\"\n",
    "sentence10 = \"Any competitive physical activity providing a sense of enjoyment is Sport\"\n",
    "sentence11 = \"play a major part in improving our physical and mental fitness\" \n",
    "sentence12 = \" It helps in developing Self Confidence, Team Spirit, and Mental & Physical toughness.There are two types of sports, Indoor and Outdoor\"\n",
    "s13=\"Collisions between trains and vehicles standing foul of the line .\"\n",
    "s14=\"People used it to go to one place to another.\"\n",
    "s15=\"Its is a means of transport.It is a four-wheeled vehicle.It has five comfortable seats.It also has windows and AC.Its used to carry things to drop from one place to another.\"\n",
    "s16=\"She should be looking for a replacement vehicle, but having another car in the garage would only be a reminder that there was no one left to drive it.\"\n",
    "\n",
    "train_x = [sentence1,sentence2,sentence3,sentence4,sentence5,sentence6,sentence7,sentence8,sentence9,sentence10,sentence11,sentence12,s13,s14,s15,s16]\n",
    "train_y = [\"books\", \"book\", \"clothes\", \"clothes\",\"vehicle\",\"games\",\"proverb\",\"proverb\",\"games\",\"games\",\"games\",\"games\",\"vehicle\",\"vehicle\",\"vehicle\",\"vehicle\"]\n",
    "\n",
    "\n",
    "# Hey Spacy please read and understand the training data for me! can you? SPACEY understands the sentences to be convereted into numeric format\n",
    "MyTextVectors = [MyVectorizer(text) for text in train_x]\n",
    "\n",
    "# Hey Spacy please converrt your knowledge into numerical values[only then it can predict] so that I can analyze them with mathematical methods I know already\n",
    "MyNumericalVectors = [x.vector for x in MyTextVectors]\n",
    "\n",
    "\n",
    "# SVM is a classifier that learns and later decides if a text is about the clothes or books  or anything else\n",
    "from sklearn import svm\n",
    "MySVM = svm.SVC(kernel = 'linear')\n",
    "MySVM.fit(MyNumericalVectors, train_y)  #we will fit traning set into the model\n",
    "\n"
   ]
  },
  {
   "cell_type": "code",
   "execution_count": 2,
   "metadata": {
    "colab": {
     "base_uri": "https://localhost:8080/"
    },
    "executionInfo": {
     "elapsed": 1267,
     "status": "ok",
     "timestamp": 1612453420390,
     "user": {
      "displayName": "Antony Joy",
      "photoUrl": "https://lh3.googleusercontent.com/a-/AOh14Gh6uu5dndZWbA_Re_0jNJD5Spxj4z6Nd3gQ8ZkOBQ=s64",
      "userId": "04196436763642379067"
     },
     "user_tz": -330
    },
    "id": "pzCDp2tFlxAp",
    "outputId": "640071c3-e686-4361-cc1b-5419eb37cdb0"
   },
   "outputs": [
    {
     "data": {
      "text/plain": [
       "array(['books'], dtype='<U7')"
      ]
     },
     "execution_count": 2,
     "metadata": {},
     "output_type": "execute_result"
    }
   ],
   "source": [
    "test_x = [\"I love the books and the stories\"]\n",
    "MyTextVectors = [MyVectorizer(text) for text in test_x]\n",
    "MyNumericalVectors = [x.vector for x in MyTextVectors]\n",
    "MySVM.predict(MyNumericalVectors)"
   ]
  },
  {
   "cell_type": "code",
   "execution_count": 3,
   "metadata": {
    "colab": {
     "base_uri": "https://localhost:8080/"
    },
    "executionInfo": {
     "elapsed": 1078,
     "status": "ok",
     "timestamp": 1612453416938,
     "user": {
      "displayName": "Antony Joy",
      "photoUrl": "https://lh3.googleusercontent.com/a-/AOh14Gh6uu5dndZWbA_Re_0jNJD5Spxj4z6Nd3gQ8ZkOBQ=s64",
      "userId": "04196436763642379067"
     },
     "user_tz": -330
    },
    "id": "r3aKuTYXl1aS",
    "outputId": "11f315f9-8eb7-4285-860c-7b9cf7af1d73"
   },
   "outputs": [
    {
     "data": {
      "text/plain": [
       "array(['vehicle'], dtype='<U7')"
      ]
     },
     "execution_count": 3,
     "metadata": {},
     "output_type": "execute_result"
    }
   ],
   "source": [
    "test_x = [\"Red coat is something that I put on rarely!\"]\n",
    "MyTextVectors = [MyVectorizer(text) for text in test_x]\n",
    "MyNumericalVectors = [x.vector for x in MyTextVectors]\n",
    "MySVM.predict(MyNumericalVectors)"
   ]
  },
  {
   "cell_type": "code",
   "execution_count": null,
   "metadata": {
    "colab": {
     "base_uri": "https://localhost:8080/"
    },
    "executionInfo": {
     "elapsed": 993,
     "status": "ok",
     "timestamp": 1612453413086,
     "user": {
      "displayName": "Antony Joy",
      "photoUrl": "https://lh3.googleusercontent.com/a-/AOh14Gh6uu5dndZWbA_Re_0jNJD5Spxj4z6Nd3gQ8ZkOBQ=s64",
      "userId": "04196436763642379067"
     },
     "user_tz": -330
    },
    "id": "EyOPUzSlo5P1",
    "outputId": "b7ace019-3511-456e-c0cb-003c3562321c"
   },
   "outputs": [],
   "source": [
    "test_x = [\"Better late than never\"]\n",
    "MyTextVectors = [MyVectorizer(text) for text in test_x]\n",
    "MyNumericalVectors = [x.vector for x in MyTextVectors]\n",
    "MySVM.predict(MyNumericalVectors)"
   ]
  },
  {
   "cell_type": "code",
   "execution_count": null,
   "metadata": {
    "colab": {
     "base_uri": "https://localhost:8080/"
    },
    "executionInfo": {
     "elapsed": 1886,
     "status": "ok",
     "timestamp": 1612453604864,
     "user": {
      "displayName": "Antony Joy",
      "photoUrl": "https://lh3.googleusercontent.com/a-/AOh14Gh6uu5dndZWbA_Re_0jNJD5Spxj4z6Nd3gQ8ZkOBQ=s64",
      "userId": "04196436763642379067"
     },
     "user_tz": -330
    },
    "id": "vXdJa1J4qcT6",
    "outputId": "71563ae1-ae03-40cd-a450-bc37f6e06232"
   },
   "outputs": [],
   "source": [
    "test_x = [\"I have a game to play tonight\"]\n",
    "MyTextVectors = [MyVectorizer(text) for text in test_x]\n",
    "MyNumericalVectors = [x.vector for x in MyTextVectors]\n",
    "MySVM.predict(MyNumericalVectors)"
   ]
  },
  {
   "cell_type": "code",
   "execution_count": null,
   "metadata": {
    "colab": {
     "base_uri": "https://localhost:8080/"
    },
    "executionInfo": {
     "elapsed": 1086,
     "status": "ok",
     "timestamp": 1612453647112,
     "user": {
      "displayName": "Antony Joy",
      "photoUrl": "https://lh3.googleusercontent.com/a-/AOh14Gh6uu5dndZWbA_Re_0jNJD5Spxj4z6Nd3gQ8ZkOBQ=s64",
      "userId": "04196436763642379067"
     },
     "user_tz": -330
    },
    "id": "VcrsHpqKt5-o",
    "outputId": "9b60549d-4351-45e8-f9b3-918fb4e767f3"
   },
   "outputs": [],
   "source": [
    "test_x = [\"is that a jeans??\"]\n",
    "MyTextVectors = [MyVectorizer(text) for text in test_x]\n",
    "MyNumericalVectors = [x.vector for x in MyTextVectors]\n",
    "MySVM.predict(MyNumericalVectors)"
   ]
  },
  {
   "cell_type": "code",
   "execution_count": null,
   "metadata": {
    "colab": {
     "base_uri": "https://localhost:8080/"
    },
    "executionInfo": {
     "elapsed": 976,
     "status": "ok",
     "timestamp": 1612453476563,
     "user": {
      "displayName": "Antony Joy",
      "photoUrl": "https://lh3.googleusercontent.com/a-/AOh14Gh6uu5dndZWbA_Re_0jNJD5Spxj4z6Nd3gQ8ZkOBQ=s64",
      "userId": "04196436763642379067"
     },
     "user_tz": -330
    },
    "id": "q1i3eTfEtxJo",
    "outputId": "9dadd999-0829-4026-a9c0-d869f13562e5"
   },
   "outputs": [],
   "source": [
    "test_x = [\"Doping to enhance performance is restricted in all kind of sports.\"]\n",
    "MyTextVectors = [MyVectorizer(text) for text in test_x]\n",
    "MyNumericalVectors = [x.vector for x in MyTextVectors]\n",
    "MySVM.predict(MyNumericalVectors)"
   ]
  },
  {
   "cell_type": "code",
   "execution_count": null,
   "metadata": {
    "colab": {
     "base_uri": "https://localhost:8080/"
    },
    "executionInfo": {
     "elapsed": 1410,
     "status": "ok",
     "timestamp": 1612454116869,
     "user": {
      "displayName": "Antony Joy",
      "photoUrl": "https://lh3.googleusercontent.com/a-/AOh14Gh6uu5dndZWbA_Re_0jNJD5Spxj4z6Nd3gQ8ZkOBQ=s64",
      "userId": "04196436763642379067"
     },
     "user_tz": -330
    },
    "id": "L99GIMa9ul1F",
    "outputId": "da8bc0cb-ad95-47c9-d593-355c1b7da1ee"
   },
   "outputs": [],
   "source": [
    "test_x = [\"I dont have fuel\"]\n",
    "MyTextVectors = [MyVectorizer(text) for text in test_x]\n",
    "MyNumericalVectors = [x.vector for x in MyTextVectors]\n",
    "MySVM.predict(MyNumericalVectors)"
   ]
  },
  {
   "cell_type": "markdown",
   "metadata": {},
   "source": []
  },
  {
   "cell_type": "code",
   "execution_count": null,
   "metadata": {},
   "outputs": [],
   "source": []
  }
 ],
 "metadata": {
  "colab": {
   "authorship_tag": "ABX9TyN48dhRehmT13eGgZ2TSHBH",
   "collapsed_sections": [],
   "name": "NLPblob_spacey.ipynb",
   "provenance": []
  },
  "kernelspec": {
   "display_name": "Python 3",
   "language": "python",
   "name": "python3"
  },
  "language_info": {
   "codemirror_mode": {
    "name": "ipython",
    "version": 3
   },
   "file_extension": ".py",
   "mimetype": "text/x-python",
   "name": "python",
   "nbconvert_exporter": "python",
   "pygments_lexer": "ipython3",
   "version": "3.8.5"
  }
 },
 "nbformat": 4,
 "nbformat_minor": 1
}
