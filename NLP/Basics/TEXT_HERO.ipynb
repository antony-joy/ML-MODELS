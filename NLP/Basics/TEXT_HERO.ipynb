{
 "cells": [
  {
   "cell_type": "markdown",
   "metadata": {},
   "source": [
    "TextHero\n",
    "Under the hoods, Texthero makes use of multiple NLP and machine learning toolkits such as Gensim, NLTK, SpaCy and scikit-learn. You don't need to install them all separately, pip will take care of that.\n",
    "\n",
    "Texthero include tools for:\n",
    "\n",
    "Preprocess text data: it offers both out-of-the-box solutions but it's also flexible for custom-solutions.\n",
    "Natural Language Processing: keyphrases and keywords extraction, and named entity recognition.\n",
    "Text representation: TF-IDF, term frequency, and custom word-embeddings (wip)\n",
    "Vector space analysis: clustering (K-means, Meanshift, DBSAN and Hierarchical), topic modelling (wip) and interpretation.\n",
    "Text visualization: vector space visualization, place localization on maps (wip).\n",
    "Supported representation algorithms:\n",
    "\n",
    "Term frequency (count)\n",
    "Term frequency-inverse document frequency (tfidf)\n"
   ]
  },
  {
   "cell_type": "code",
   "execution_count": 1,
   "metadata": {},
   "outputs": [
    {
     "name": "stdout",
     "output_type": "stream",
     "text": [
      "Help on package texthero:\n",
      "\n",
      "NAME\n",
      "    texthero - Texthero: python toolkit for text preprocessing, representation and visualization.\n",
      "\n",
      "PACKAGE CONTENTS\n",
      "    extend_pandas\n",
      "    nlp\n",
      "    preprocessing\n",
      "    representation\n",
      "    stop_words\n",
      "    stopwords\n",
      "    visualization\n",
      "\n",
      "DATA\n",
      "    Callable = typing.Callable\n",
      "    List = typing.List\n",
      "    Optional = typing.Optional\n",
      "    Set = typing.Set\n",
      "\n",
      "FILE\n",
      "    c:\\users\\anthony\\anaconda3\\lib\\site-packages\\texthero\\__init__.py\n",
      "\n",
      "\n"
     ]
    }
   ],
   "source": [
    "\n",
    "import texthero\n",
    "help(texthero)"
   ]
  },
  {
   "cell_type": "code",
   "execution_count": 4,
   "metadata": {},
   "outputs": [
    {
     "data": {
      "text/plain": [
       "0    It's a pleasant   day at Bangaloré; at / (10:3...\n",
       "dtype: object"
      ]
     },
     "execution_count": 4,
     "metadata": {},
     "output_type": "execute_result"
    }
   ],
   "source": [
    "##############################################Text Preprocessing\n",
    "import pandas as pd\n",
    "text=\"It's a pleasant   day at Bangaloré; at / (10:30) am\"\n",
    "series=pd.Series(text)  #############################  for text hero it needs to converted into a series\n",
    "series"
   ]
  },
  {
   "cell_type": "code",
   "execution_count": 6,
   "metadata": {},
   "outputs": [
    {
     "data": {
      "text/plain": [
       "0    It's a pleasant   day at Bangaloré; at / ( : ) am\n",
       "dtype: object"
      ]
     },
     "execution_count": 6,
     "metadata": {},
     "output_type": "execute_result"
    }
   ],
   "source": [
    " #####################################  REMOVE DIGITS\n",
    "import texthero as hero\n",
    "\n",
    "hero.remove_digits(series) ###### DONT NEED for loop"
   ]
  },
  {
   "cell_type": "code",
   "execution_count": 7,
   "metadata": {},
   "outputs": [
    {
     "name": "stderr",
     "output_type": "stream",
     "text": [
      "C:\\Users\\ANTHONY\\anaconda3\\lib\\site-packages\\texthero\\preprocessing.py:131: FutureWarning: The default value of regex will change from True to False in a future version.\n",
      "  return input.str.replace(rf\"([{string.punctuation}])+\", symbol)\n"
     ]
    },
    {
     "data": {
      "text/plain": [
       "0    It s a pleasant   day at Bangaloré  at    10 3...\n",
       "dtype: object"
      ]
     },
     "execution_count": 7,
     "metadata": {},
     "output_type": "execute_result"
    }
   ],
   "source": [
    "######################### Remove punctuations\n",
    "hero.remove_punctuation(series)"
   ]
  },
  {
   "cell_type": "code",
   "execution_count": 8,
   "metadata": {},
   "outputs": [
    {
     "name": "stderr",
     "output_type": "stream",
     "text": [
      "C:\\Users\\ANTHONY\\anaconda3\\lib\\site-packages\\texthero\\preprocessing.py:447: FutureWarning: The default value of regex will change from True to False in a future version.\n",
      "  return s.str.replace(r\"\\([^()]*\\)\", \"\")\n",
      "C:\\Users\\ANTHONY\\anaconda3\\lib\\site-packages\\texthero\\preprocessing.py:469: FutureWarning: The default value of regex will change from True to False in a future version.\n",
      "  return s.str.replace(r\"\\{[^{}]*\\}\", \"\")\n",
      "C:\\Users\\ANTHONY\\anaconda3\\lib\\site-packages\\texthero\\preprocessing.py:493: FutureWarning: The default value of regex will change from True to False in a future version.\n",
      "  return s.str.replace(r\"\\[[^\\[\\]]*\\]\", \"\")\n",
      "C:\\Users\\ANTHONY\\anaconda3\\lib\\site-packages\\texthero\\preprocessing.py:516: FutureWarning: The default value of regex will change from True to False in a future version.\n",
      "  return s.str.replace(r\"<[^<>]*>\", \"\")\n"
     ]
    },
    {
     "data": {
      "text/plain": [
       "0    It's a pleasant   day at Bangaloré; at /  am\n",
       "dtype: object"
      ]
     },
     "execution_count": 8,
     "metadata": {},
     "output_type": "execute_result"
    }
   ],
   "source": [
    "#### Remove Brackets\n",
    "hero.remove_brackets(series)"
   ]
  },
  {
   "cell_type": "code",
   "execution_count": 9,
   "metadata": {},
   "outputs": [
    {
     "data": {
      "text/plain": [
       "0    It's a pleasant   day at Bangalore; at / (10:3...\n",
       "dtype: object"
      ]
     },
     "execution_count": 9,
     "metadata": {},
     "output_type": "execute_result"
    }
   ],
   "source": [
    "hero.remove_diacritics(series)\n"
   ]
  },
  {
   "cell_type": "code",
   "execution_count": 10,
   "metadata": {},
   "outputs": [
    {
     "data": {
      "text/plain": [
       "0    It's a pleasant day at Bangaloré; at / (10:30) am\n",
       "dtype: object"
      ]
     },
     "execution_count": 10,
     "metadata": {},
     "output_type": "execute_result"
    }
   ],
   "source": [
    "hero.remove_whitespace(series)\n"
   ]
  },
  {
   "cell_type": "code",
   "execution_count": 11,
   "metadata": {},
   "outputs": [
    {
     "data": {
      "text/plain": [
       "0    It'  pleasant   day  Bangaloré;  / (10:30) \n",
       "dtype: object"
      ]
     },
     "execution_count": 11,
     "metadata": {},
     "output_type": "execute_result"
    }
   ],
   "source": [
    "\n",
    "################ Stopwords\n",
    "hero.remove_stopwords(series)"
   ]
  },
  {
   "cell_type": "code",
   "execution_count": 12,
   "metadata": {},
   "outputs": [
    {
     "data": {
      "text/plain": [
       "0    pleasant day bangalore\n",
       "dtype: object"
      ]
     },
     "execution_count": 12,
     "metadata": {},
     "output_type": "execute_result"
    }
   ],
   "source": [
    "hero.clean(series)"
   ]
  },
  {
   "cell_type": "code",
   "execution_count": 14,
   "metadata": {},
   "outputs": [],
   "source": [
    "################################################################################"
   ]
  },
  {
   "cell_type": "code",
   "execution_count": 15,
   "metadata": {},
   "outputs": [
    {
     "data": {
      "text/html": [
       "<div>\n",
       "<style scoped>\n",
       "    .dataframe tbody tr th:only-of-type {\n",
       "        vertical-align: middle;\n",
       "    }\n",
       "\n",
       "    .dataframe tbody tr th {\n",
       "        vertical-align: top;\n",
       "    }\n",
       "\n",
       "    .dataframe thead th {\n",
       "        text-align: right;\n",
       "    }\n",
       "</style>\n",
       "<table border=\"1\" class=\"dataframe\">\n",
       "  <thead>\n",
       "    <tr style=\"text-align: right;\">\n",
       "      <th></th>\n",
       "      <th>text</th>\n",
       "      <th>topic</th>\n",
       "    </tr>\n",
       "  </thead>\n",
       "  <tbody>\n",
       "    <tr>\n",
       "      <th>0</th>\n",
       "      <td>Claxton hunting first major medal\\n\\nBritish h...</td>\n",
       "      <td>athletics</td>\n",
       "    </tr>\n",
       "    <tr>\n",
       "      <th>1</th>\n",
       "      <td>O'Sullivan could run in Worlds\\n\\nSonia O'Sull...</td>\n",
       "      <td>athletics</td>\n",
       "    </tr>\n",
       "    <tr>\n",
       "      <th>2</th>\n",
       "      <td>Greene sets sights on world title\\n\\nMaurice G...</td>\n",
       "      <td>athletics</td>\n",
       "    </tr>\n",
       "    <tr>\n",
       "      <th>3</th>\n",
       "      <td>IAAF launches fight against drugs\\n\\nThe IAAF ...</td>\n",
       "      <td>athletics</td>\n",
       "    </tr>\n",
       "    <tr>\n",
       "      <th>4</th>\n",
       "      <td>Dibaba breaks 5,000m world record\\n\\nEthiopia'...</td>\n",
       "      <td>athletics</td>\n",
       "    </tr>\n",
       "    <tr>\n",
       "      <th>...</th>\n",
       "      <td>...</td>\n",
       "      <td>...</td>\n",
       "    </tr>\n",
       "    <tr>\n",
       "      <th>732</th>\n",
       "      <td>Agassi into second round in Dubai\\n\\nFourth se...</td>\n",
       "      <td>tennis</td>\n",
       "    </tr>\n",
       "    <tr>\n",
       "      <th>733</th>\n",
       "      <td>Mauresmo fights back to win title\\n\\nWorld num...</td>\n",
       "      <td>tennis</td>\n",
       "    </tr>\n",
       "    <tr>\n",
       "      <th>734</th>\n",
       "      <td>Federer wins title in Rotterdam\\n\\nWorld numbe...</td>\n",
       "      <td>tennis</td>\n",
       "    </tr>\n",
       "    <tr>\n",
       "      <th>735</th>\n",
       "      <td>GB players warned over security\\n\\nBritain's D...</td>\n",
       "      <td>tennis</td>\n",
       "    </tr>\n",
       "    <tr>\n",
       "      <th>736</th>\n",
       "      <td>Sharapova overcomes tough Molik\\n\\nWimbledon c...</td>\n",
       "      <td>tennis</td>\n",
       "    </tr>\n",
       "  </tbody>\n",
       "</table>\n",
       "<p>737 rows × 2 columns</p>\n",
       "</div>"
      ],
      "text/plain": [
       "                                                  text      topic\n",
       "0    Claxton hunting first major medal\\n\\nBritish h...  athletics\n",
       "1    O'Sullivan could run in Worlds\\n\\nSonia O'Sull...  athletics\n",
       "2    Greene sets sights on world title\\n\\nMaurice G...  athletics\n",
       "3    IAAF launches fight against drugs\\n\\nThe IAAF ...  athletics\n",
       "4    Dibaba breaks 5,000m world record\\n\\nEthiopia'...  athletics\n",
       "..                                                 ...        ...\n",
       "732  Agassi into second round in Dubai\\n\\nFourth se...     tennis\n",
       "733  Mauresmo fights back to win title\\n\\nWorld num...     tennis\n",
       "734  Federer wins title in Rotterdam\\n\\nWorld numbe...     tennis\n",
       "735  GB players warned over security\\n\\nBritain's D...     tennis\n",
       "736  Sharapova overcomes tough Molik\\n\\nWimbledon c...     tennis\n",
       "\n",
       "[737 rows x 2 columns]"
      ]
     },
     "execution_count": 15,
     "metadata": {},
     "output_type": "execute_result"
    }
   ],
   "source": [
    "df = pd.read_csv(\n",
    "   \"https://github.com/jbesomi/texthero/raw/master/dataset/bbcsport.csv\"\n",
    ")\n",
    "df"
   ]
  },
  {
   "cell_type": "code",
   "execution_count": 16,
   "metadata": {},
   "outputs": [
    {
     "name": "stderr",
     "output_type": "stream",
     "text": [
      "C:\\Users\\ANTHONY\\anaconda3\\lib\\site-packages\\texthero\\preprocessing.py:72: FutureWarning: The default value of regex will change from True to False in a future version.\n",
      "  return input.str.replace(pattern, symbols)\n",
      "C:\\Users\\ANTHONY\\anaconda3\\lib\\site-packages\\texthero\\preprocessing.py:131: FutureWarning: The default value of regex will change from True to False in a future version.\n",
      "  return input.str.replace(rf\"([{string.punctuation}])+\", symbol)\n"
     ]
    },
    {
     "data": {
      "text/html": [
       "<div>\n",
       "<style scoped>\n",
       "    .dataframe tbody tr th:only-of-type {\n",
       "        vertical-align: middle;\n",
       "    }\n",
       "\n",
       "    .dataframe tbody tr th {\n",
       "        vertical-align: top;\n",
       "    }\n",
       "\n",
       "    .dataframe thead th {\n",
       "        text-align: right;\n",
       "    }\n",
       "</style>\n",
       "<table border=\"1\" class=\"dataframe\">\n",
       "  <thead>\n",
       "    <tr style=\"text-align: right;\">\n",
       "      <th></th>\n",
       "      <th>text</th>\n",
       "      <th>topic</th>\n",
       "      <th>pca</th>\n",
       "    </tr>\n",
       "  </thead>\n",
       "  <tbody>\n",
       "    <tr>\n",
       "      <th>0</th>\n",
       "      <td>Claxton hunting first major medal\\n\\nBritish h...</td>\n",
       "      <td>athletics</td>\n",
       "      <td>[-0.09109313576988215, 0.10350460622626871]</td>\n",
       "    </tr>\n",
       "    <tr>\n",
       "      <th>1</th>\n",
       "      <td>O'Sullivan could run in Worlds\\n\\nSonia O'Sull...</td>\n",
       "      <td>athletics</td>\n",
       "      <td>[-0.0004664426674577041, 0.02447845340527214]</td>\n",
       "    </tr>\n",
       "    <tr>\n",
       "      <th>2</th>\n",
       "      <td>Greene sets sights on world title\\n\\nMaurice G...</td>\n",
       "      <td>athletics</td>\n",
       "      <td>[-0.11757673477071034, 0.1288178725343895]</td>\n",
       "    </tr>\n",
       "    <tr>\n",
       "      <th>3</th>\n",
       "      <td>IAAF launches fight against drugs\\n\\nThe IAAF ...</td>\n",
       "      <td>athletics</td>\n",
       "      <td>[-0.09132409008200751, 0.15407818626653733]</td>\n",
       "    </tr>\n",
       "    <tr>\n",
       "      <th>4</th>\n",
       "      <td>Dibaba breaks 5,000m world record\\n\\nEthiopia'...</td>\n",
       "      <td>athletics</td>\n",
       "      <td>[-0.09135575801550908, 0.13481238843875806]</td>\n",
       "    </tr>\n",
       "    <tr>\n",
       "      <th>...</th>\n",
       "      <td>...</td>\n",
       "      <td>...</td>\n",
       "      <td>...</td>\n",
       "    </tr>\n",
       "    <tr>\n",
       "      <th>732</th>\n",
       "      <td>Agassi into second round in Dubai\\n\\nFourth se...</td>\n",
       "      <td>tennis</td>\n",
       "      <td>[-0.06669925471183534, 0.108398647937887]</td>\n",
       "    </tr>\n",
       "    <tr>\n",
       "      <th>733</th>\n",
       "      <td>Mauresmo fights back to win title\\n\\nWorld num...</td>\n",
       "      <td>tennis</td>\n",
       "      <td>[-0.04808716360849868, 0.05304692662932896]</td>\n",
       "    </tr>\n",
       "    <tr>\n",
       "      <th>734</th>\n",
       "      <td>Federer wins title in Rotterdam\\n\\nWorld numbe...</td>\n",
       "      <td>tennis</td>\n",
       "      <td>[-0.0498199124351569, 0.05988865488378335]</td>\n",
       "    </tr>\n",
       "    <tr>\n",
       "      <th>735</th>\n",
       "      <td>GB players warned over security\\n\\nBritain's D...</td>\n",
       "      <td>tennis</td>\n",
       "      <td>[-0.0487123227572215, 0.01389141312639202]</td>\n",
       "    </tr>\n",
       "    <tr>\n",
       "      <th>736</th>\n",
       "      <td>Sharapova overcomes tough Molik\\n\\nWimbledon c...</td>\n",
       "      <td>tennis</td>\n",
       "      <td>[-0.02918045687307743, 0.07132851187643673]</td>\n",
       "    </tr>\n",
       "  </tbody>\n",
       "</table>\n",
       "<p>737 rows × 3 columns</p>\n",
       "</div>"
      ],
      "text/plain": [
       "                                                  text      topic  \\\n",
       "0    Claxton hunting first major medal\\n\\nBritish h...  athletics   \n",
       "1    O'Sullivan could run in Worlds\\n\\nSonia O'Sull...  athletics   \n",
       "2    Greene sets sights on world title\\n\\nMaurice G...  athletics   \n",
       "3    IAAF launches fight against drugs\\n\\nThe IAAF ...  athletics   \n",
       "4    Dibaba breaks 5,000m world record\\n\\nEthiopia'...  athletics   \n",
       "..                                                 ...        ...   \n",
       "732  Agassi into second round in Dubai\\n\\nFourth se...     tennis   \n",
       "733  Mauresmo fights back to win title\\n\\nWorld num...     tennis   \n",
       "734  Federer wins title in Rotterdam\\n\\nWorld numbe...     tennis   \n",
       "735  GB players warned over security\\n\\nBritain's D...     tennis   \n",
       "736  Sharapova overcomes tough Molik\\n\\nWimbledon c...     tennis   \n",
       "\n",
       "                                               pca  \n",
       "0      [-0.09109313576988215, 0.10350460622626871]  \n",
       "1    [-0.0004664426674577041, 0.02447845340527214]  \n",
       "2       [-0.11757673477071034, 0.1288178725343895]  \n",
       "3      [-0.09132409008200751, 0.15407818626653733]  \n",
       "4      [-0.09135575801550908, 0.13481238843875806]  \n",
       "..                                             ...  \n",
       "732      [-0.06669925471183534, 0.108398647937887]  \n",
       "733    [-0.04808716360849868, 0.05304692662932896]  \n",
       "734     [-0.0498199124351569, 0.05988865488378335]  \n",
       "735     [-0.0487123227572215, 0.01389141312639202]  \n",
       "736    [-0.02918045687307743, 0.07132851187643673]  \n",
       "\n",
       "[737 rows x 3 columns]"
      ]
     },
     "execution_count": 16,
     "metadata": {},
     "output_type": "execute_result"
    }
   ],
   "source": [
    "#######################           PCA\n",
    "import texthero as hero\n",
    "import pandas as pd\n",
    "\n",
    "df = pd.read_csv(\n",
    "   \"https://github.com/jbesomi/texthero/raw/master/dataset/bbcsport.csv\"\n",
    ")\n",
    "\n",
    "df['pca'] = (\n",
    "   df['text']\n",
    "   .pipe(hero.clean) ### cleaning\n",
    "   .pipe(hero.tfidf)           ###vectorizing\n",
    "   .pipe(hero.pca)                     ###########  pca\n",
    ")\n",
    "df"
   ]
  },
  {
   "cell_type": "code",
   "execution_count": 19,
   "metadata": {},
   "outputs": [
    {
     "data": {
      "application/vnd.plotly.v1+json": {
       "config": {
        "plotlyServerURL": "https://chart-studio.plotly.com/"
       },
       "data": [
        {
         "hovertemplate": "topic=athletics<br>x=%{x}<br>y=%{y}<extra></extra>",
         "legendgroup": "athletics",
         "marker": {
          "color": "#636efa",
          "symbol": "circle"
         },
         "mode": "markers",
         "name": "athletics",
         "orientation": "v",
         "showlegend": true,
         "type": "scatter",
         "x": [
          -0.09109313576988215,
          -0.0004664426674577041,
          -0.11757673477071034,
          -0.09132409008200751,
          -0.09135575801550908,
          -0.11032364575547199,
          -0.02913287740937254,
          -0.043012639753377005,
          -0.12895506066436993,
          -0.15744371118191586,
          -0.09581292525998962,
          -0.10794298143017383,
          -0.08971249915399444,
          -0.08061617760099622,
          -0.07797576715499188,
          -0.12048842891988404,
          -0.14085795409239998,
          -0.10534012806409787,
          -0.11138542991459269,
          -0.10794298143017383,
          -0.09696628844204914,
          -0.10705834999127754,
          -0.14565983740590988,
          -0.07472674162163322,
          -0.10888638534655219,
          -0.08578295589926553,
          -0.0992566922263135,
          -0.11468351766408783,
          -0.10912049281149681,
          -0.07444184883599973,
          -0.04977954696448211,
          -0.13234365970531337,
          -0.15104297730853528,
          -0.13159138351810323,
          -0.08919435896320423,
          -0.05456214968023415,
          -0.10212114552361334,
          -0.10199827817555636,
          -0.05776516314518648,
          -0.07939258219331682,
          -0.06947608692726509,
          -0.09028677689494083,
          -0.061664225987823375,
          -0.05634073273417298,
          -0.09408091792750621,
          -0.08166381472472747,
          -0.11258640435268807,
          -0.1270340492756798,
          -0.054528560077293405,
          -0.12118295824677061,
          -0.12810382772936296,
          -0.09381747101194772,
          -0.09627189329977132,
          -0.14344785615067918,
          -0.09682614340016275,
          -0.10463236963619962,
          -0.12813507000783753,
          -0.13852221354733402,
          -0.11370741974632251,
          -0.10025047900104467,
          -0.11226213919473603,
          -0.06190384478977551,
          -0.12154063389960035,
          -0.06489770709467964,
          -0.11015888709392546,
          -0.15995967703897515,
          -0.11213454795598668,
          -0.03013803618625011,
          -0.17675818504250465,
          -0.10721847515597112,
          -0.10584333950906856,
          -0.05919521738262004,
          -0.10777887516266658,
          -0.10513850637326341,
          -0.10482129630585983,
          -0.06420104507126527,
          -0.01504693306533278,
          -0.08103145657246165,
          -0.13527334841949964,
          -0.130430201909578,
          -0.1463937865294458,
          -0.12780782567942273,
          -0.06378914947519637,
          -0.09381747101194772,
          -0.07472219141592558,
          -0.08025781456964858,
          -0.0836959477530728,
          -0.054528560077293405,
          -0.13197153458279054,
          -0.0922424829397486,
          -0.06984864836371871,
          -0.07746804704981183,
          -0.022641677778921145,
          -0.08820772428036515,
          -0.1525946813034042,
          -0.11295545748600765,
          -0.044318921307394794,
          -0.10709918928036397,
          -0.13788002142506206,
          -0.062978238610997,
          -0.05846786915745958
         ],
         "xaxis": "x",
         "y": [
          0.10350460622626871,
          0.02447845340527214,
          0.1288178725343895,
          0.15407818626653733,
          0.13481238843875806,
          0.15770280371379244,
          0.070100556784449,
          0.03472402188662859,
          0.17068402468262475,
          0.24063574486527964,
          0.11490866428644829,
          0.10872489241401774,
          0.11662138356138477,
          0.04863325936181755,
          0.13008512125156038,
          0.33167047366242236,
          0.3342132392163919,
          0.17677920240275272,
          0.13455483236065552,
          0.10872489241401774,
          0.15707937137175143,
          0.1312206510126937,
          0.3348362683140898,
          0.11072282338399653,
          0.15259666074324002,
          0.1804026042377581,
          0.15874709439461587,
          0.13643743761760924,
          0.16132445318507446,
          0.1036551357054105,
          0.07705252311534452,
          0.20835572750419187,
          0.336981720039041,
          0.1587457340911419,
          0.16952132025619043,
          0.1297254010763153,
          0.13614103980152956,
          0.08909499387774428,
          0.12339913793516906,
          0.08343211985893657,
          0.09695253887889456,
          0.12507312953656893,
          0.12062863350460075,
          0.07965936031788333,
          0.1602696123334594,
          0.11330924092988073,
          0.2589775718611746,
          0.3036594699393232,
          0.13541277708900615,
          0.32265577680640495,
          0.3441833258285914,
          0.15353307391022442,
          0.11264159891438673,
          0.3148495762703611,
          0.13860113900667406,
          0.13360225663244008,
          0.1508791954123605,
          0.16390064004428254,
          0.0892200537992862,
          0.13684806909952438,
          0.14992721929913727,
          0.08579103804498334,
          0.1563127673064572,
          0.1013106148806976,
          0.13116645666515617,
          0.2950003033126857,
          0.15664533227690275,
          0.08173932708265023,
          0.24977196722198786,
          0.0838078647130906,
          0.11839278473637396,
          0.06543756568219374,
          0.08473389474038645,
          0.1282202735853717,
          0.18557511851313552,
          0.10139858155090774,
          0.04998031827901163,
          0.1114377774360339,
          0.3273972161227261,
          0.2781547971300595,
          0.34321422351455244,
          0.3383750363977836,
          0.10727164005196496,
          0.15353307391022442,
          0.10384944313887387,
          0.09752806987592094,
          0.11992478393848999,
          0.13541277708900615,
          0.3086001995757759,
          0.09788176375436344,
          0.13461900806775726,
          0.10364098576868652,
          0.013243603366717776,
          0.11336267053201071,
          0.22117411422934835,
          0.12440998276729975,
          0.05653961610771265,
          0.1524268751393683,
          0.17993659738784232,
          0.017692805583982882,
          0.11544600144512508
         ],
         "yaxis": "y"
        },
        {
         "hovertemplate": "topic=cricket<br>x=%{x}<br>y=%{y}<extra></extra>",
         "legendgroup": "cricket",
         "marker": {
          "color": "#EF553B",
          "symbol": "circle"
         },
         "mode": "markers",
         "name": "cricket",
         "orientation": "v",
         "showlegend": true,
         "type": "scatter",
         "x": [
          0.2535039501076244,
          0.2142252421368978,
          0.22595542025197105,
          0.2175268271348945,
          0.11988621377478562,
          0.13984855056204956,
          0.12122471989878106,
          0.10650187599727011,
          0.14941203533337608,
          0.10167894373722437,
          0.12009814910078304,
          0.05248917418103815,
          0.313413993292972,
          0.06319383864866752,
          0.20988606151515693,
          0.03212330202786098,
          0.06156381174504758,
          0.14881789912297894,
          0.22555434947868314,
          0.17598615355677746,
          0.06156381174504758,
          0.18919887915112954,
          0.13951299438055204,
          0.16207088217740648,
          0.07270444445501324,
          0.21489736374939206,
          0.23011079334529924,
          0.21146283193532694,
          0.13968853989982227,
          0.10519288577400861,
          0.2521515677209827,
          0.16207088217740648,
          0.07270444445501324,
          0.19227896717152101,
          0.09279162578369757,
          0.11183179449271301,
          0.08181386180144741,
          0.16469257697198894,
          0.11105855131247022,
          0.1826920779899978,
          0.12952100883216958,
          0.24589839190022372,
          0.25085334475209864,
          0.2144038564750559,
          0.2629183009329376,
          0.16644390258310876,
          0.061312964391962516,
          0.19764142374621954,
          0.1330459612172418,
          0.1882655339394308,
          0.031043403499421342,
          0.265670179257283,
          0.26618187058659337,
          0.23028416052261436,
          0.12785119707262108,
          0.2241212578344877,
          0.1194432849167156,
          0.05628640073988059,
          0.20620809685222405,
          0.16747216142514879,
          0.1673483980308747,
          0.22975113123517218,
          0.2979272901124724,
          0.20877680181052377,
          0.15749597851873146,
          0.12856069122462294,
          0.19267543115035898,
          0.3710909736163539,
          0.13073939568780785,
          0.25754341830904137,
          0.3418087913021223,
          0.15526925176868273,
          0.30503636905314113,
          0.24940019595037297,
          0.35142940106120946,
          0.19591803880774347,
          0.16889058854639485,
          0.06186291263203989,
          0.18969272766643436,
          0.2469558172162143,
          0.17398188896091035,
          0.2756296849187737,
          0.3268964984867749,
          0.32744999956457954,
          0.10461587250035753,
          0.2664755807804931,
          0.2798391862824744,
          0.2831288376496458,
          0.27707853174619285,
          0.13882237958903096,
          -0.02621758234022369,
          0.0898072186440649,
          0.20740126694536495,
          0.031041657666059607,
          0.1453173503370695,
          0.17694522394878517,
          0.11098934410833414,
          0.17792642998999664,
          0.10029290310654122,
          0.16848004758627178,
          0.08756510355689337,
          0.0173510175240221,
          0.08962368690177235,
          0.09363428654120486,
          0.06736123666426092,
          0.04708393101002366,
          0.20530813910014678,
          0.039024060534095434,
          0.2861208194120532,
          0.20408542967691912,
          0.11366490877408528,
          -0.033586565866070714,
          0.1661363371435337,
          0.1297006673914571,
          0.10112885709267738,
          0.028399874455908233,
          0.20857693001837324,
          0.11358417950452493,
          0.23113006522393945,
          0.10355053270060816,
          0.1347423207075739,
          0.08429723176144584,
          0.11006985287225925,
          0.11963276280364941
         ],
         "xaxis": "x",
         "y": [
          0.11909944840903221,
          0.05740826197303903,
          0.0968752929716728,
          0.17787185753650306,
          0.008988431552842442,
          0.028654871781468416,
          0.10699158539055707,
          0.07308268616474413,
          0.14640224557926756,
          0.05926483167704102,
          0.10369819393019648,
          -0.006295172547319988,
          0.07175323528651731,
          0.028179611341227147,
          0.07523691221191206,
          0.0017514097968658003,
          0.06350934453538307,
          0.04698059979380275,
          0.06432127527537242,
          0.03178257217027888,
          0.06350934453538307,
          0.1714611493556506,
          0.11010997815223438,
          0.14042145535147119,
          0.11220673003033824,
          0.17351807533819283,
          0.09100970713951774,
          0.13322252310603722,
          0.10983565541342803,
          0.031596441204203386,
          0.0744707112899317,
          0.14042145535147119,
          0.11220673003033824,
          0.1764165944749266,
          0.07611010728297829,
          0.04318364084959657,
          0.09410664893405517,
          0.09484600326926004,
          0.06090705250399656,
          0.041185846917526824,
          0.12258896718907582,
          0.03118384139982587,
          0.060203295117788595,
          0.16280697906717292,
          0.17597095995852288,
          0.09051272529887493,
          0.07739717312684974,
          0.03485219639698033,
          0.06940416445964562,
          0.05029197717512647,
          0.008253327427778404,
          0.11472472818105836,
          0.1158019266046177,
          0.15662016059419692,
          0.11041987197155893,
          0.1109155381851048,
          0.10199837245191617,
          0.08045350321255419,
          0.11256848566995777,
          0.1624674304720952,
          0.16196659780327544,
          0.16577853992990385,
          0.017449744579928955,
          0.054623612651570445,
          0.15525752148461505,
          0.07693044123688347,
          0.027025449690322393,
          0.06921073428496363,
          0.028257737943707527,
          0.2067096518327839,
          0.01664422483946117,
          0.09773348288821757,
          0.07133579262232553,
          0.20343207287935489,
          0.06718756890895017,
          -0.00048163316506591995,
          0.13913597372647432,
          0.059362745177486895,
          0.03903974414747623,
          0.060575703602294924,
          0.12921375977133795,
          0.17912509498584475,
          0.0634699057195445,
          0.06634925472178148,
          0.09589210866875267,
          0.21457335929010765,
          0.2047636605064624,
          0.20635477377694042,
          0.019053489303204347,
          0.11352084200303718,
          0.06428038957747703,
          0.050412994511374314,
          0.060318163918429,
          0.06978744586680409,
          0.015833911485922204,
          0.028564771190551497,
          -0.019613827560162212,
          0.1281723728762709,
          0.053755926421735885,
          0.13671725987323696,
          0.07617261568678602,
          0.06466015479198876,
          0.06584752854031539,
          0.12294278379734938,
          0.06439815900155232,
          0.056934817041007786,
          0.031294108986973344,
          0.011969786457619402,
          0.022169556212012907,
          0.12188474074877872,
          0.10741686990652256,
          0.0625564063086789,
          0.11665001689886972,
          0.12292950111821209,
          0.07412831802903347,
          -0.004422311334022947,
          0.02726614334082702,
          0.04927428921591489,
          0.021483152089827172,
          0.0740033807358792,
          0.10268825808258594,
          -0.00224472333011097,
          -0.04224317216631969,
          0.08201824969996367
         ],
         "yaxis": "y"
        },
        {
         "hovertemplate": "topic=football<br>x=%{x}<br>y=%{y}<extra></extra>",
         "legendgroup": "football",
         "marker": {
          "color": "#00cc96",
          "symbol": "circle"
         },
         "mode": "markers",
         "name": "football",
         "orientation": "v",
         "showlegend": true,
         "type": "scatter",
         "x": [
          -0.047053435198760124,
          -0.11366372026673462,
          -0.0835601515892143,
          -0.09692248716737838,
          0.07298401364603135,
          -0.03377229518808917,
          -0.0763813291036842,
          -0.19868864215636567,
          -0.1001831893801127,
          -0.12682716400328736,
          -0.0062061436455857055,
          -0.016530578277778662,
          -0.011418777471679556,
          -0.002078733699156301,
          -0.005182009065862553,
          -0.054935100739832814,
          -0.12316915042886689,
          -0.1712439110592358,
          -0.004683554001486262,
          -0.04146272765612893,
          -0.037870633436974985,
          -0.04719055521036234,
          -0.05180214882034701,
          -0.13827175637260367,
          -0.023903267050421083,
          -0.01120930576387748,
          -0.1713655082841169,
          -0.10738119858945494,
          0.004859952522615262,
          -0.06757802831513769,
          -0.1373266950750547,
          -0.0645370809632491,
          -0.01712808983409676,
          0.0165192807954642,
          0.00698670731136995,
          -0.059969118347470596,
          -0.043226606865106904,
          0.002972374894789508,
          0.01496803595141078,
          0.021627150601833914,
          -0.03141494664358787,
          -0.059993219651427,
          -0.07745132913086106,
          -0.06610554512907629,
          -0.06385140917478713,
          -0.10981079548613323,
          -0.14859620082352165,
          -0.04877160174623737,
          -0.05641236082561964,
          -0.08700406053518249,
          -0.024272347976003576,
          -0.027030537114062232,
          -0.04031215123814228,
          -0.05404164710216729,
          -0.04764182990995521,
          -0.04750082528069111,
          -0.055280576187829555,
          -0.10670653657431817,
          -0.06073165707622828,
          -0.12696933303705887,
          -0.08862952469760195,
          -0.07407678355721121,
          -0.1130581258085379,
          -0.09672889180684054,
          -0.1846982243729057,
          -0.05512090544409857,
          -0.0830469715574907,
          -0.05015263869892842,
          -0.07081197904123082,
          -0.059462519411464486,
          -0.08771637864669803,
          -0.06603287188890858,
          -0.10993533692707046,
          -0.1324104211483946,
          -0.20203715081314952,
          -0.08610242810778007,
          -0.033378297469338375,
          -0.07558494796651163,
          -0.008618684675821756,
          -0.1272726353230692,
          -0.07641182091245977,
          -0.07535292720957967,
          -0.18262347103047286,
          -0.08674712726918488,
          -0.05188375788886975,
          -0.07307536950505826,
          -0.13029047306498387,
          -0.13029047306498387,
          -0.14928725473838939,
          -0.11785136715678333,
          -0.03608156271307656,
          -0.0800198469340348,
          -0.07822094446313786,
          -0.10670080439147697,
          -0.07574689523637622,
          0.02199440772464417,
          -0.03849462828186593,
          -0.09012581420286725,
          -0.10614011839102021,
          -0.0502476531345204,
          -0.07611090491148459,
          -0.11799294532981545,
          -0.09966549060179153,
          -0.11963296752303768,
          -0.14068954469102465,
          -0.06869006969335287,
          -0.12764066230408994,
          -0.05122886519041806,
          -0.07086013647533984,
          -0.04930202252156672,
          -0.059623484338350845,
          -0.11690361477078522,
          -0.045442628087555774,
          -0.054534560652758426,
          -0.16281061120633505,
          -0.04035667423161524,
          -0.11226688237060004,
          -0.03186684524046538,
          -0.025544331274474377,
          -0.00012059544921812759,
          -0.014145792991558529,
          -0.032457414968106064,
          -0.021973473063995542,
          -0.1748392124406449,
          0.016948849722794417,
          -0.06175122904450079,
          -0.05156352539455421,
          -0.04637844742283532,
          -0.09492439573917441,
          -0.020983540859572325,
          0.005092919310129703,
          -0.03892630045404595,
          -0.11303874729399063,
          -0.11351526017368685,
          -0.06050702337582465,
          -0.05456564667985947,
          -0.13220439264698428,
          -0.03254711837926494,
          -0.05768474430309195,
          -0.06953252349639079,
          -0.13096911127877758,
          -0.10570273242954167,
          -0.11641500568233881,
          -0.09558943948356986,
          -0.1310085653288062,
          -0.01805701698608209,
          -0.06384422106377723,
          -0.1008226826371573,
          -0.19358026370024245,
          -0.06325726383651883,
          -0.052976446507725976,
          -0.11601647120961034,
          -0.05119036981927447,
          -0.0978089627240468,
          -0.07212131751465452,
          -0.05697879655433459,
          -0.07892956916240093,
          -0.14647142676171934,
          -0.044586835431062254,
          -0.1137488247822062,
          -0.14647142676171934,
          -0.06708545186310857,
          -0.06840598712696076,
          -0.06840598712696076,
          -0.0930092233098057,
          -0.06942542031756022,
          -0.060258768248025146,
          -0.05182080602477907,
          -0.036191461979428664,
          -0.060223080929437484,
          -0.08725905914363821,
          -0.13351981819626968,
          -0.07238090016320452,
          -0.04075160264134408,
          -0.040250059724014686,
          -0.06035228286228108,
          -0.0718414340530239,
          -0.15668076510110573,
          -0.07454994929769328,
          -0.16991466921072873,
          -0.09031708146407215,
          -0.05521585841144539,
          -0.04016275286632911,
          -0.06181109202642458,
          -0.08174553092820398,
          -0.12818776536234397,
          -0.0866841139433539,
          -0.09576988276505843,
          -0.07992263521172804,
          -0.16101654758712222,
          -0.15668636618040116,
          -0.11908101477537492,
          -0.07915961525686385,
          -0.0728291821422888,
          -0.0591699506491172,
          0.005066359664216324,
          -0.036937926368735774,
          -0.10078741613194273,
          -0.07658360585360738,
          -0.06769784706568714,
          -0.0536354468889181,
          -0.19563507488424053,
          -0.05511855126512298,
          -0.06534955622754134,
          -0.07698762379060285,
          -0.04283291634704971,
          -0.20006830035512374,
          -0.05206591118173869,
          -0.1444889533237254,
          -0.0835601515892143,
          -0.06642733776182826,
          -0.07769565424500995,
          -0.03537106169332017,
          -0.04750657331735567,
          -0.12155157151487543,
          -0.07003427749265066,
          -0.03022212862824127,
          -0.059898980043609315,
          -0.02296287178783651,
          0.0024445999722250812,
          -0.13368988872468507,
          -0.0058021298492695415,
          -0.10058563360991389,
          -0.03264903102789081,
          -0.04227311982809452,
          -0.09704024927748424,
          -0.03238216896458249,
          -0.08206522002043679,
          -0.18121639338941387,
          -0.12580206554275697,
          -0.060278503323273794,
          -0.08687386629017214,
          -0.09171759413407504,
          -0.06030273501946134,
          -0.048814750585556045,
          -0.024570826709988718,
          -0.08927108519455183,
          -0.06674476001556182,
          -0.18542135684636613,
          -0.11387824755403447,
          -0.12255215959246425,
          -0.06403355450390802,
          -0.17238849695178424,
          -0.08058119208580743,
          -0.13004157217173734,
          -0.0757838093571997,
          -0.025552396447843354,
          -0.045452330019782834,
          -0.058114044255269434,
          -0.14901768115052066,
          -0.07927840099680175,
          -0.12639592982497427,
          -0.079125005483976,
          -0.04089566815435772,
          -0.03999574330210849,
          -0.05492852992100892,
          -0.10146394754984368,
          -0.009505305448126082,
          -0.051746526404723145,
          -0.08301656325621606,
          -0.02180918435352983,
          -0.09845578217136591,
          -0.06487118923868437,
          -0.03561931158120787,
          -0.002978330402932542
         ],
         "xaxis": "x",
         "y": [
          -0.08585875597935046,
          -0.11596852052497347,
          -0.06948124470638611,
          -0.06803309652257844,
          -0.062006049782751455,
          -0.009105840321722918,
          -0.09524155481729447,
          -0.21800212381561357,
          -0.11988403378681156,
          -0.16670891693766277,
          -0.056395370554923746,
          -0.0461190717828089,
          -0.043166016303363995,
          -0.027306526484484377,
          -0.01823805843087359,
          -0.05826300534875911,
          -0.1992365829675448,
          -0.17058066190858992,
          -0.04539240715816995,
          -0.04326893251588065,
          -0.10354685162747539,
          -0.033545605960108714,
          -0.015640127078430516,
          -0.12711125045452717,
          -0.12836258072874412,
          -0.07977992985509104,
          -0.17030570255337543,
          -0.12195370983519317,
          -0.07094631344179328,
          -0.03296735868160757,
          -0.14179470334797667,
          -0.07834761328797488,
          -0.014415802108594847,
          -0.042533694973904544,
          -0.04872411702902887,
          -0.009048232971538336,
          0.01485363580696107,
          -0.02020655949442882,
          -0.11205793141064684,
          -0.009891793324848746,
          -0.020420159300819238,
          0.036742871055244423,
          -0.07441329870930084,
          -0.058025840827182554,
          -0.08295305840441405,
          -0.10101586395812451,
          -0.17334733349079445,
          -0.14280499140763003,
          -0.03385291877616269,
          -0.08126685486877351,
          -0.05145576874252043,
          -0.018869059477858836,
          -0.03161018994081438,
          -0.007511886891478703,
          0.006367972510584614,
          -0.08571630701867822,
          -0.11071839920406913,
          -0.1105085382805008,
          -0.013279776139140224,
          -0.08881546957652756,
          -0.1132898290080141,
          -0.0777292907426085,
          -0.11350637261574437,
          -0.06944689850187714,
          -0.24101233861657678,
          -0.11243492165221623,
          -0.057107123381753125,
          -0.058235027379995724,
          -0.07282718948304874,
          -0.02824958138118206,
          -0.07394103797095695,
          -0.034966271130639305,
          -0.09050536776781563,
          -0.0853164244388356,
          -0.18244370334683319,
          -0.005817342334761225,
          -0.005109726440727909,
          -0.06781887455573823,
          0.013605049528487956,
          -0.08153777775060801,
          -0.018918425562694977,
          -0.07475977406827847,
          -0.16538761677627556,
          -0.06475182605307181,
          -0.062475332288774874,
          -0.10421820294332176,
          -0.1412725720323269,
          -0.1412725720323269,
          -0.15570423076681542,
          -0.12290183678567951,
          -0.03899780190026691,
          -0.061281101822729715,
          -0.04753698325679327,
          -0.08012938455649943,
          -0.059801643339643475,
          0.03799167746014249,
          -0.006126731377443479,
          -0.09572223948898231,
          -0.05620730973251499,
          -0.013129597483338917,
          -0.06932955068518745,
          -0.10470930935021981,
          -0.06974660188373014,
          -0.09712127341670866,
          -0.0006584914332391659,
          -0.08900793773835851,
          -0.050324551857632155,
          -0.02084292107895543,
          -0.016717572693290075,
          0.004603884144230712,
          -0.06731567764136193,
          -0.0866525269096246,
          -0.025571208762349393,
          -0.07607048808617087,
          -0.17210796454254365,
          -0.005538636169248042,
          -0.06924186511555633,
          -0.04684996883155687,
          -0.007808241635664748,
          0.009994401171696848,
          0.0017533586844503896,
          -0.07655547919562299,
          -0.0813973438867674,
          -0.19971148673223552,
          -0.006624377280037436,
          -0.029957776275777833,
          -0.04168311618694451,
          -0.0672449300237884,
          -0.13567473054685214,
          0.010929766776504441,
          0.0003096557625167453,
          -0.05564098937778068,
          -0.12229132506339271,
          -0.14434439152803324,
          -0.0688789538671403,
          -0.02624057369732869,
          -0.1487114934778376,
          -0.05564468079678323,
          -0.033880814641319104,
          -0.004142251677445189,
          -0.14969182469558737,
          -0.15936948617927651,
          -0.09434685433655875,
          -0.11978858746983026,
          -0.1324691612089046,
          -0.0534985297622598,
          0.04307396537312812,
          -0.08883336791836705,
          -0.19769995671936577,
          -0.05050804086432366,
          -0.037470914607033425,
          -0.13660530690489944,
          -0.06711040544819447,
          -0.11081239396207822,
          -0.03533727021886221,
          -0.06461101767936586,
          -0.03972872682853905,
          -0.1670046095370845,
          0.0017003225236703232,
          -0.09193932761154945,
          -0.1670046095370845,
          -0.05484021796559062,
          -0.014214678575227613,
          -0.014214678575227613,
          -0.0971663622173546,
          -0.0649453013772213,
          -0.03242315161930398,
          -0.0012571000409207721,
          -0.05188884287802696,
          -0.033469726590063455,
          -0.0289891355635119,
          -0.10634909369282103,
          -0.09200301225259032,
          -0.08688931971976499,
          -0.06621288751125574,
          -0.0716815552408614,
          0.018117079938309688,
          -0.09456303125634086,
          -0.04747684176071597,
          -0.1975694001275398,
          -0.06705372091713384,
          -0.030713234806421214,
          -0.020377594971705208,
          -0.09019500058456546,
          -0.06363142131847745,
          -0.13671550779295433,
          -0.1291083922592902,
          -0.11123749363354801,
          -0.11884395710360886,
          -0.1315375882879285,
          -0.19355194197977157,
          -0.1685099155263535,
          -0.09052418496798335,
          -0.09281867221236477,
          -0.03398131325449599,
          -0.03774033234128843,
          0.005297091715125941,
          -0.1489588743218549,
          -0.17766906327382284,
          -0.15016882322632502,
          -0.062241215439781145,
          -0.24822352728728606,
          -0.07294707785203215,
          -0.06571428169351627,
          -0.11723079239553896,
          -0.02714431519442285,
          -0.21804547954382103,
          -0.04327210861457793,
          -0.17253009989378867,
          -0.06948124470638611,
          -0.1264431675175967,
          -0.1277932804425721,
          -0.02950183310361339,
          -0.055942225055896445,
          -0.1370399741876293,
          -0.09122716672891071,
          -0.010774617009920048,
          -0.06169870567623439,
          -0.010306374151777908,
          0.008907922184333698,
          -0.18615717987687466,
          -0.05315522256418556,
          -0.06314870056409584,
          -0.00046408413023637114,
          -0.008302050769869496,
          -0.1185704145092421,
          -0.012849436793187285,
          -0.058225094448783585,
          -0.18806857995851167,
          -0.10150376702648473,
          0.05185456108725419,
          -0.05738238304043032,
          -0.06478467240001573,
          -0.03864210724220025,
          -0.014980894733938299,
          -0.08416276648859243,
          -0.09250158525591116,
          -0.08451099538300152,
          -0.16860257539227316,
          -0.13171996045445375,
          -0.10794570970049067,
          -0.024267121294953845,
          -0.20321399607847662,
          -0.03526278124295321,
          -0.11497136585711648,
          -0.06447645785898459,
          -0.07046208922521341,
          0.02348639203485983,
          -0.09711545918605277,
          -0.1522135846267699,
          -0.09428282912863516,
          -0.1225422929642842,
          -0.09500421148361117,
          -0.05344274676644121,
          -0.010970997168234463,
          0.023114533775938747,
          -0.0067462494460478134,
          0.030868512725367385,
          -0.04367600592956215,
          -0.11109542765199425,
          -0.023218179261994827,
          -0.108781983212243,
          -0.028508618223315903,
          -0.02206798059374057,
          -0.0213808459869807
         ],
         "yaxis": "y"
        },
        {
         "hovertemplate": "topic=rugby<br>x=%{x}<br>y=%{y}<extra></extra>",
         "legendgroup": "rugby",
         "marker": {
          "color": "#ab63fa",
          "symbol": "circle"
         },
         "mode": "markers",
         "name": "rugby",
         "orientation": "v",
         "showlegend": true,
         "type": "scatter",
         "x": [
          0.1314773745409861,
          0.19111733650489504,
          0.1372520651262867,
          0.057298552903973496,
          0.06647470553428371,
          0.15132601542546434,
          0.13493138958010945,
          0.1290110541900529,
          0.10062255757642,
          0.03992618580394913,
          0.009624008208708167,
          0.0604981847970001,
          0.08271648516357458,
          0.03062081445776588,
          0.03825503934495623,
          0.1579031612275872,
          0.19659015928083826,
          0.08500361146521403,
          0.15877365345660527,
          0.1527149344417411,
          0.16263656388334205,
          0.09151505777737946,
          0.062451359762111844,
          0.09371361396604262,
          0.14892199027681238,
          0.027339991898974996,
          0.13585830331206697,
          0.18688159847550445,
          0.2233157614075874,
          0.10959150525563639,
          0.1559210825845656,
          0.21097787210463065,
          0.0622554474700362,
          -0.009020218927887834,
          0.04066461881106991,
          -0.007437483766480563,
          0.21224569186085887,
          0.03466397641069093,
          0.1827327275592916,
          0.2788251127140982,
          0.025304008176651946,
          0.03654021935217846,
          0.13902065969683852,
          0.044353121883695855,
          0.12254580467257666,
          0.12122617325780544,
          0.13719624503752795,
          0.23979207953513537,
          0.10422422181087505,
          0.1330538450971099,
          0.18303528748531883,
          0.09525704815562461,
          0.126500582484602,
          0.11146790639008103,
          0.13407153778474623,
          0.26898540947138644,
          0.12781842999256612,
          0.07028340862170848,
          0.20715370409735107,
          0.10933515960717528,
          0.10422422181087505,
          0.14093661661116055,
          0.06389100293731079,
          0.1008843748177771,
          0.10431600691574809,
          0.15165280985580543,
          0.04726429045144297,
          0.21183780234760055,
          0.10308629162124354,
          0.04514526833953903,
          0.0388030217504603,
          0.11981853450302343,
          0.1463605149451732,
          0.06733702605713494,
          0.08636287627100675,
          0.05903660193009972,
          0.0572600448580893,
          -0.0248802799590177,
          0.053448844895030864,
          0.004184913618411467,
          0.08999737251028238,
          -0.002006410897690481,
          0.024989765116172118,
          0.05755915581893517,
          0.17303197519210542,
          0.09523106551538917,
          0.1190186169449623,
          0.1719703674341405,
          -0.016561198570442897,
          0.20430582566617733,
          0.021105171915312575,
          0.11867663148618557,
          0.05116301212736212,
          0.17615616039260762,
          0.10926726999074698,
          0.05779076342495993,
          0.06576819349465585,
          0.09390302157770729,
          0.06366599483734739,
          0.16264351873967242,
          0.01507348251055111,
          0.13204858157604935,
          0.04451744524146836,
          0.13171665149556433,
          0.12968498724539665,
          0.11231932976757283,
          0.03547827939381006,
          0.045013339411656604,
          0.0819928399222223,
          0.022355105852078987,
          0.00205345589531958,
          -0.05514568001545177,
          -0.05396281803884536,
          0.028807499158217998,
          0.027060400581944057,
          -0.040814892277230334,
          0.1841275080676204,
          0.06368993755229076,
          0.05250695332282011,
          -0.0022424864877429855,
          0.13009083518260936,
          0.13886497590263802,
          0.09699058784863344,
          -0.031239430129160927,
          -0.02193734150094163,
          -0.04800187842832762,
          0.11022789640139173,
          0.11766818860696769,
          0.14371325629181686,
          0.1808493408272686,
          0.15108420854068816,
          0.2625125295556968,
          0.1513863969042819,
          0.15195016891707694,
          0.09525704815562461,
          0.11899687365828653,
          0.11921095205130469,
          0.0362632159317863,
          0.12728862490199036,
          0.07002867806447947,
          0.22529283297595612,
          0.14042409920599203,
          0.22400551561709456,
          0.12425054938948259,
          0.13709117741981527,
          0.08016936536265945,
          0.045979408834936196
         ],
         "xaxis": "x",
         "y": [
          -0.18083224171300769,
          -0.20564881905742616,
          -0.16542540287754226,
          -0.048655130318226686,
          -0.10364174042720198,
          -0.20191845868986974,
          -0.17741313573611753,
          -0.14443241006703442,
          -0.12848534718518478,
          -0.04274814258600554,
          -0.056187414295014934,
          -0.03409806185109737,
          -0.10238656175972406,
          -0.08522028358822632,
          -0.03974724499885329,
          -0.15981268135462753,
          -0.16181876146507132,
          -0.10718174273440495,
          -0.11358453627459837,
          -0.1570119180334903,
          -0.1456704032788273,
          -0.09918600468077393,
          -0.04790774949789509,
          -0.08009644294020384,
          -0.15811047259269131,
          -0.09801174862862,
          -0.0960012530922935,
          -0.1254198007589861,
          -0.11610840864868416,
          -0.14798536915734545,
          -0.11122931792159857,
          -0.16163763915981189,
          -0.12410414707064808,
          -0.012762193530119528,
          -0.06421669799439672,
          0.019249667445676813,
          -0.12249299574869608,
          -0.054560547629823916,
          -0.08175222539942052,
          -0.22015242297446486,
          0.006612365586576895,
          0.008073900410548274,
          -0.1784205965746882,
          -0.116343875057603,
          -0.07851054542057209,
          -0.07745183220923509,
          -0.14988227546250546,
          -0.13975002216754343,
          -0.08356627633000742,
          -0.08868627618975923,
          -0.15596046062068378,
          -0.08910250255295091,
          -0.15036674049580795,
          -0.09089704048885651,
          -0.1675412046025113,
          -0.09754668104608899,
          -0.1286751642741564,
          -0.06702658176141071,
          -0.18749298466111478,
          -0.1083694313656595,
          -0.08356627633000742,
          -0.11725314269837336,
          -0.10205024359858869,
          -0.1176036043359223,
          -0.12624279904061855,
          -0.15504734954497687,
          -0.024307055497970728,
          -0.16080687503750565,
          -0.11418695163567966,
          -0.018122952664075227,
          -0.08736227099226328,
          -0.09833019636988546,
          -0.1448035060164919,
          -0.11352816096836943,
          -0.14225552196460564,
          -0.09239564009634472,
          -0.1267751964971364,
          -0.02649376423750299,
          -0.04188952728633642,
          -0.025874094168511937,
          -0.10745202049294794,
          -0.05001270132892484,
          -0.02755156461426079,
          -0.057643599090667554,
          -0.09344292790646848,
          -0.01813125614557674,
          -0.08287660932662226,
          -0.06792173248052233,
          -0.025001154462198954,
          -0.16003600623546238,
          -0.00828500913519973,
          -0.07694605533451034,
          -0.09805943504579956,
          -0.09770653612702017,
          -0.0557188746240481,
          -0.02169639725146508,
          -0.06814482972370658,
          -0.03882540489865475,
          -0.019114553932947347,
          -0.1414930306260677,
          -0.01634351658566178,
          -0.09226299688106221,
          0.007946912122636783,
          -0.09190927766684182,
          -0.0809234645449549,
          -0.06371404458742769,
          -0.08691272698564038,
          -0.09466660555099485,
          -0.004749887826906652,
          -0.08125009122322505,
          -0.07255005296145181,
          -0.030531369920929318,
          -0.03156346108439404,
          -0.025875582998812114,
          -0.019924404890311075,
          -0.05798877264063889,
          -0.1885588481068005,
          -0.013660539652219033,
          -0.08310309497884065,
          -0.06529350985161989,
          -0.11706962571955165,
          -0.1207344522531051,
          -0.10830725512974641,
          -0.05498357983588814,
          -0.07860513279859771,
          -0.040591494891988426,
          -0.04820397988041341,
          -0.11093561266446966,
          0.00426086898938872,
          -0.15689140921088657,
          -0.1892016878871804,
          -0.21786849480307188,
          -0.20168127717067438,
          -0.0756673304307735,
          -0.08910250255295091,
          -0.14294857901097216,
          -0.04842435149666127,
          -0.06144526994894563,
          -0.132702928552741,
          -0.10538946141069111,
          -0.15949913632704543,
          -0.16230344471927538,
          -0.11601422744836544,
          -0.08320409477576876,
          -0.07425900396049116,
          -0.04404104929776647,
          -0.04349293325612902
         ],
         "yaxis": "y"
        },
        {
         "hovertemplate": "topic=tennis<br>x=%{x}<br>y=%{y}<extra></extra>",
         "legendgroup": "tennis",
         "marker": {
          "color": "#FFA15A",
          "symbol": "circle"
         },
         "mode": "markers",
         "name": "tennis",
         "orientation": "v",
         "showlegend": true,
         "type": "scatter",
         "x": [
          -0.042701729468011713,
          -0.05500363858565514,
          -0.055743663101116454,
          -0.06924710983958127,
          -0.038034267278925685,
          -0.05442873518143963,
          -0.059777395522936816,
          -0.04890706788722752,
          -0.05570986608159492,
          -0.05135449926128937,
          -0.02746486129072855,
          -0.07355247735448832,
          -0.03815092208845696,
          -0.04017391919031279,
          -0.046806900000027275,
          -0.05135449926128937,
          -0.06411056118589013,
          -0.07355247735448832,
          -0.04064965205743521,
          -0.04664037446481832,
          -0.06794075435435758,
          -0.06044205671187273,
          -0.05579493830789192,
          -0.07355117523995704,
          -0.0448138854520158,
          -0.04185510815241191,
          -0.022424268439013822,
          -0.06057553340846915,
          -0.057884169783019565,
          -0.06112937879987345,
          -0.04146819825671271,
          -0.05631672436696454,
          -0.06239417646799761,
          -0.04828455508742849,
          -0.03353468631006923,
          -0.02581581144925931,
          -0.06896983805762767,
          -0.07587888965386251,
          -0.05156279149462492,
          -0.05581151142525467,
          -0.05146397423813886,
          -0.0433052558737063,
          -0.06592950440078406,
          -0.06649960558373844,
          -0.04825936227759807,
          -0.07027216665977988,
          -0.05483055222117235,
          -0.05662585732818498,
          -0.07558031396644685,
          -0.07558031396644685,
          -0.05843729739396953,
          -0.05612465479863712,
          -0.04833086532988979,
          -0.031865711031494076,
          -0.049412820794672116,
          -0.08160588131826357,
          -0.06960627985971599,
          -0.04121721494059359,
          -0.04014626542982829,
          -0.06213805032187738,
          -0.06271090866712425,
          -0.03868823887079007,
          -0.046254681814227185,
          -0.10007269864341904,
          -0.0539601291891286,
          -0.06493672496770012,
          -0.05466017010324973,
          -0.025256923345729737,
          -0.08050314978394418,
          -0.08059076510106081,
          -0.05116034785618845,
          -0.07718846232174707,
          -0.05781254728883153,
          -0.04829184919066905,
          -0.10314736142096921,
          -0.03600796197245813,
          -0.029720496362115115,
          -0.047339877246810824,
          -0.07994097341245988,
          -0.07201096224624325,
          -0.0419387686552493,
          -0.07206357728708584,
          -0.06631792913075041,
          -0.0323699075838212,
          -0.051070182505732656,
          -0.027690496597164865,
          -0.060954854529491315,
          -0.020876844396971538,
          -0.06215300876204358,
          -0.037813122450938895,
          -0.07893182861432123,
          0.017106761444152806,
          -0.031781083302138746,
          -0.06335564207525217,
          -0.04160503021138325,
          -0.06669925471183534,
          -0.04808716360849868,
          -0.0498199124351569,
          -0.0487123227572215,
          -0.02918045687307743
         ],
         "xaxis": "x",
         "y": [
          0.07793924709956784,
          0.10514090982856797,
          0.04820838178578976,
          0.0692276250119553,
          0.08885786053512518,
          0.0859814037244983,
          0.07869047090010231,
          0.09551330761969856,
          0.07981756083630683,
          0.11628960461084455,
          0.0333685201903545,
          0.05502562016464105,
          0.08687872808771277,
          0.0958023802385783,
          0.08769407800826985,
          0.11628960461084455,
          0.05166126760751612,
          0.05502562016464105,
          0.08943538835888726,
          0.10600504071713279,
          0.14254565385417678,
          0.059865770333090235,
          0.06571301544062577,
          0.11707154529387416,
          0.03139124624993467,
          0.09663528864752001,
          0.07524060329999198,
          0.11596598770819959,
          0.039149277473455035,
          0.10739157513952675,
          0.05942491216029251,
          0.07126337332510334,
          0.09238322799932949,
          0.07218561731476682,
          0.03590259887174565,
          0.04222999792196627,
          0.13557706788181698,
          0.11911296425708198,
          0.10137047144325459,
          0.04873321037499342,
          0.06794488888840838,
          0.0669168691529218,
          0.09688749019944394,
          0.01167882971895792,
          0.10565487958580892,
          0.05938803525990769,
          0.13907989373443086,
          0.07889499818336103,
          0.022604039725865388,
          0.022604039725865388,
          0.14559933497761968,
          0.03365904251671179,
          0.05274732466214772,
          0.04307217635062891,
          0.07995701275272364,
          0.15128343496372712,
          0.11051928123879151,
          0.0758491192546368,
          0.07366027387370228,
          0.09678147968936122,
          0.0631425095352382,
          0.012700842281650186,
          0.09321082611262084,
          0.1492374829755519,
          0.1141440631306283,
          0.08100189663048363,
          0.07479692935205164,
          0.0368925148493341,
          0.04499841920656591,
          0.04518999118663612,
          0.054215878742340726,
          0.11020635500089272,
          0.02727107285046867,
          0.0825055729408544,
          0.1347735269209312,
          0.04504147888480375,
          0.03826600600217807,
          0.07798166235566092,
          0.03639180645753191,
          0.04758796789202843,
          0.06907137530100779,
          0.06421840488567243,
          0.045898305384009935,
          0.028527146035975618,
          0.06735548983566227,
          0.10587420627447394,
          0.07037991291066391,
          0.06825323401816329,
          0.077214306526175,
          0.07600532253572617,
          0.07576662149652001,
          0.04690379562858172,
          0.06741848242174689,
          0.0793807465760181,
          0.10477208076621891,
          0.108398647937887,
          0.05304692662932896,
          0.05988865488378335,
          0.01389141312639202,
          0.07132851187643673
         ],
         "yaxis": "y"
        }
       ],
       "layout": {
        "legend": {
         "title": {
          "text": "topic"
         },
         "tracegroupgap": 0
        },
        "template": {
         "data": {
          "bar": [
           {
            "error_x": {
             "color": "#2a3f5f"
            },
            "error_y": {
             "color": "#2a3f5f"
            },
            "marker": {
             "line": {
              "color": "#E5ECF6",
              "width": 0.5
             }
            },
            "type": "bar"
           }
          ],
          "barpolar": [
           {
            "marker": {
             "line": {
              "color": "#E5ECF6",
              "width": 0.5
             }
            },
            "type": "barpolar"
           }
          ],
          "carpet": [
           {
            "aaxis": {
             "endlinecolor": "#2a3f5f",
             "gridcolor": "white",
             "linecolor": "white",
             "minorgridcolor": "white",
             "startlinecolor": "#2a3f5f"
            },
            "baxis": {
             "endlinecolor": "#2a3f5f",
             "gridcolor": "white",
             "linecolor": "white",
             "minorgridcolor": "white",
             "startlinecolor": "#2a3f5f"
            },
            "type": "carpet"
           }
          ],
          "choropleth": [
           {
            "colorbar": {
             "outlinewidth": 0,
             "ticks": ""
            },
            "type": "choropleth"
           }
          ],
          "contour": [
           {
            "colorbar": {
             "outlinewidth": 0,
             "ticks": ""
            },
            "colorscale": [
             [
              0,
              "#0d0887"
             ],
             [
              0.1111111111111111,
              "#46039f"
             ],
             [
              0.2222222222222222,
              "#7201a8"
             ],
             [
              0.3333333333333333,
              "#9c179e"
             ],
             [
              0.4444444444444444,
              "#bd3786"
             ],
             [
              0.5555555555555556,
              "#d8576b"
             ],
             [
              0.6666666666666666,
              "#ed7953"
             ],
             [
              0.7777777777777778,
              "#fb9f3a"
             ],
             [
              0.8888888888888888,
              "#fdca26"
             ],
             [
              1,
              "#f0f921"
             ]
            ],
            "type": "contour"
           }
          ],
          "contourcarpet": [
           {
            "colorbar": {
             "outlinewidth": 0,
             "ticks": ""
            },
            "type": "contourcarpet"
           }
          ],
          "heatmap": [
           {
            "colorbar": {
             "outlinewidth": 0,
             "ticks": ""
            },
            "colorscale": [
             [
              0,
              "#0d0887"
             ],
             [
              0.1111111111111111,
              "#46039f"
             ],
             [
              0.2222222222222222,
              "#7201a8"
             ],
             [
              0.3333333333333333,
              "#9c179e"
             ],
             [
              0.4444444444444444,
              "#bd3786"
             ],
             [
              0.5555555555555556,
              "#d8576b"
             ],
             [
              0.6666666666666666,
              "#ed7953"
             ],
             [
              0.7777777777777778,
              "#fb9f3a"
             ],
             [
              0.8888888888888888,
              "#fdca26"
             ],
             [
              1,
              "#f0f921"
             ]
            ],
            "type": "heatmap"
           }
          ],
          "heatmapgl": [
           {
            "colorbar": {
             "outlinewidth": 0,
             "ticks": ""
            },
            "colorscale": [
             [
              0,
              "#0d0887"
             ],
             [
              0.1111111111111111,
              "#46039f"
             ],
             [
              0.2222222222222222,
              "#7201a8"
             ],
             [
              0.3333333333333333,
              "#9c179e"
             ],
             [
              0.4444444444444444,
              "#bd3786"
             ],
             [
              0.5555555555555556,
              "#d8576b"
             ],
             [
              0.6666666666666666,
              "#ed7953"
             ],
             [
              0.7777777777777778,
              "#fb9f3a"
             ],
             [
              0.8888888888888888,
              "#fdca26"
             ],
             [
              1,
              "#f0f921"
             ]
            ],
            "type": "heatmapgl"
           }
          ],
          "histogram": [
           {
            "marker": {
             "colorbar": {
              "outlinewidth": 0,
              "ticks": ""
             }
            },
            "type": "histogram"
           }
          ],
          "histogram2d": [
           {
            "colorbar": {
             "outlinewidth": 0,
             "ticks": ""
            },
            "colorscale": [
             [
              0,
              "#0d0887"
             ],
             [
              0.1111111111111111,
              "#46039f"
             ],
             [
              0.2222222222222222,
              "#7201a8"
             ],
             [
              0.3333333333333333,
              "#9c179e"
             ],
             [
              0.4444444444444444,
              "#bd3786"
             ],
             [
              0.5555555555555556,
              "#d8576b"
             ],
             [
              0.6666666666666666,
              "#ed7953"
             ],
             [
              0.7777777777777778,
              "#fb9f3a"
             ],
             [
              0.8888888888888888,
              "#fdca26"
             ],
             [
              1,
              "#f0f921"
             ]
            ],
            "type": "histogram2d"
           }
          ],
          "histogram2dcontour": [
           {
            "colorbar": {
             "outlinewidth": 0,
             "ticks": ""
            },
            "colorscale": [
             [
              0,
              "#0d0887"
             ],
             [
              0.1111111111111111,
              "#46039f"
             ],
             [
              0.2222222222222222,
              "#7201a8"
             ],
             [
              0.3333333333333333,
              "#9c179e"
             ],
             [
              0.4444444444444444,
              "#bd3786"
             ],
             [
              0.5555555555555556,
              "#d8576b"
             ],
             [
              0.6666666666666666,
              "#ed7953"
             ],
             [
              0.7777777777777778,
              "#fb9f3a"
             ],
             [
              0.8888888888888888,
              "#fdca26"
             ],
             [
              1,
              "#f0f921"
             ]
            ],
            "type": "histogram2dcontour"
           }
          ],
          "mesh3d": [
           {
            "colorbar": {
             "outlinewidth": 0,
             "ticks": ""
            },
            "type": "mesh3d"
           }
          ],
          "parcoords": [
           {
            "line": {
             "colorbar": {
              "outlinewidth": 0,
              "ticks": ""
             }
            },
            "type": "parcoords"
           }
          ],
          "pie": [
           {
            "automargin": true,
            "type": "pie"
           }
          ],
          "scatter": [
           {
            "marker": {
             "colorbar": {
              "outlinewidth": 0,
              "ticks": ""
             }
            },
            "type": "scatter"
           }
          ],
          "scatter3d": [
           {
            "line": {
             "colorbar": {
              "outlinewidth": 0,
              "ticks": ""
             }
            },
            "marker": {
             "colorbar": {
              "outlinewidth": 0,
              "ticks": ""
             }
            },
            "type": "scatter3d"
           }
          ],
          "scattercarpet": [
           {
            "marker": {
             "colorbar": {
              "outlinewidth": 0,
              "ticks": ""
             }
            },
            "type": "scattercarpet"
           }
          ],
          "scattergeo": [
           {
            "marker": {
             "colorbar": {
              "outlinewidth": 0,
              "ticks": ""
             }
            },
            "type": "scattergeo"
           }
          ],
          "scattergl": [
           {
            "marker": {
             "colorbar": {
              "outlinewidth": 0,
              "ticks": ""
             }
            },
            "type": "scattergl"
           }
          ],
          "scattermapbox": [
           {
            "marker": {
             "colorbar": {
              "outlinewidth": 0,
              "ticks": ""
             }
            },
            "type": "scattermapbox"
           }
          ],
          "scatterpolar": [
           {
            "marker": {
             "colorbar": {
              "outlinewidth": 0,
              "ticks": ""
             }
            },
            "type": "scatterpolar"
           }
          ],
          "scatterpolargl": [
           {
            "marker": {
             "colorbar": {
              "outlinewidth": 0,
              "ticks": ""
             }
            },
            "type": "scatterpolargl"
           }
          ],
          "scatterternary": [
           {
            "marker": {
             "colorbar": {
              "outlinewidth": 0,
              "ticks": ""
             }
            },
            "type": "scatterternary"
           }
          ],
          "surface": [
           {
            "colorbar": {
             "outlinewidth": 0,
             "ticks": ""
            },
            "colorscale": [
             [
              0,
              "#0d0887"
             ],
             [
              0.1111111111111111,
              "#46039f"
             ],
             [
              0.2222222222222222,
              "#7201a8"
             ],
             [
              0.3333333333333333,
              "#9c179e"
             ],
             [
              0.4444444444444444,
              "#bd3786"
             ],
             [
              0.5555555555555556,
              "#d8576b"
             ],
             [
              0.6666666666666666,
              "#ed7953"
             ],
             [
              0.7777777777777778,
              "#fb9f3a"
             ],
             [
              0.8888888888888888,
              "#fdca26"
             ],
             [
              1,
              "#f0f921"
             ]
            ],
            "type": "surface"
           }
          ],
          "table": [
           {
            "cells": {
             "fill": {
              "color": "#EBF0F8"
             },
             "line": {
              "color": "white"
             }
            },
            "header": {
             "fill": {
              "color": "#C8D4E3"
             },
             "line": {
              "color": "white"
             }
            },
            "type": "table"
           }
          ]
         },
         "layout": {
          "annotationdefaults": {
           "arrowcolor": "#2a3f5f",
           "arrowhead": 0,
           "arrowwidth": 1
          },
          "coloraxis": {
           "colorbar": {
            "outlinewidth": 0,
            "ticks": ""
           }
          },
          "colorscale": {
           "diverging": [
            [
             0,
             "#8e0152"
            ],
            [
             0.1,
             "#c51b7d"
            ],
            [
             0.2,
             "#de77ae"
            ],
            [
             0.3,
             "#f1b6da"
            ],
            [
             0.4,
             "#fde0ef"
            ],
            [
             0.5,
             "#f7f7f7"
            ],
            [
             0.6,
             "#e6f5d0"
            ],
            [
             0.7,
             "#b8e186"
            ],
            [
             0.8,
             "#7fbc41"
            ],
            [
             0.9,
             "#4d9221"
            ],
            [
             1,
             "#276419"
            ]
           ],
           "sequential": [
            [
             0,
             "#0d0887"
            ],
            [
             0.1111111111111111,
             "#46039f"
            ],
            [
             0.2222222222222222,
             "#7201a8"
            ],
            [
             0.3333333333333333,
             "#9c179e"
            ],
            [
             0.4444444444444444,
             "#bd3786"
            ],
            [
             0.5555555555555556,
             "#d8576b"
            ],
            [
             0.6666666666666666,
             "#ed7953"
            ],
            [
             0.7777777777777778,
             "#fb9f3a"
            ],
            [
             0.8888888888888888,
             "#fdca26"
            ],
            [
             1,
             "#f0f921"
            ]
           ],
           "sequentialminus": [
            [
             0,
             "#0d0887"
            ],
            [
             0.1111111111111111,
             "#46039f"
            ],
            [
             0.2222222222222222,
             "#7201a8"
            ],
            [
             0.3333333333333333,
             "#9c179e"
            ],
            [
             0.4444444444444444,
             "#bd3786"
            ],
            [
             0.5555555555555556,
             "#d8576b"
            ],
            [
             0.6666666666666666,
             "#ed7953"
            ],
            [
             0.7777777777777778,
             "#fb9f3a"
            ],
            [
             0.8888888888888888,
             "#fdca26"
            ],
            [
             1,
             "#f0f921"
            ]
           ]
          },
          "colorway": [
           "#636efa",
           "#EF553B",
           "#00cc96",
           "#ab63fa",
           "#FFA15A",
           "#19d3f3",
           "#FF6692",
           "#B6E880",
           "#FF97FF",
           "#FECB52"
          ],
          "font": {
           "color": "#2a3f5f"
          },
          "geo": {
           "bgcolor": "white",
           "lakecolor": "white",
           "landcolor": "#E5ECF6",
           "showlakes": true,
           "showland": true,
           "subunitcolor": "white"
          },
          "hoverlabel": {
           "align": "left"
          },
          "hovermode": "closest",
          "mapbox": {
           "style": "light"
          },
          "paper_bgcolor": "white",
          "plot_bgcolor": "#E5ECF6",
          "polar": {
           "angularaxis": {
            "gridcolor": "white",
            "linecolor": "white",
            "ticks": ""
           },
           "bgcolor": "#E5ECF6",
           "radialaxis": {
            "gridcolor": "white",
            "linecolor": "white",
            "ticks": ""
           }
          },
          "scene": {
           "xaxis": {
            "backgroundcolor": "#E5ECF6",
            "gridcolor": "white",
            "gridwidth": 2,
            "linecolor": "white",
            "showbackground": true,
            "ticks": "",
            "zerolinecolor": "white"
           },
           "yaxis": {
            "backgroundcolor": "#E5ECF6",
            "gridcolor": "white",
            "gridwidth": 2,
            "linecolor": "white",
            "showbackground": true,
            "ticks": "",
            "zerolinecolor": "white"
           },
           "zaxis": {
            "backgroundcolor": "#E5ECF6",
            "gridcolor": "white",
            "gridwidth": 2,
            "linecolor": "white",
            "showbackground": true,
            "ticks": "",
            "zerolinecolor": "white"
           }
          },
          "shapedefaults": {
           "line": {
            "color": "#2a3f5f"
           }
          },
          "ternary": {
           "aaxis": {
            "gridcolor": "white",
            "linecolor": "white",
            "ticks": ""
           },
           "baxis": {
            "gridcolor": "white",
            "linecolor": "white",
            "ticks": ""
           },
           "bgcolor": "#E5ECF6",
           "caxis": {
            "gridcolor": "white",
            "linecolor": "white",
            "ticks": ""
           }
          },
          "title": {
           "x": 0.05
          },
          "xaxis": {
           "automargin": true,
           "gridcolor": "white",
           "linecolor": "white",
           "ticks": "",
           "title": {
            "standoff": 15
           },
           "zerolinecolor": "white",
           "zerolinewidth": 2
          },
          "yaxis": {
           "automargin": true,
           "gridcolor": "white",
           "linecolor": "white",
           "ticks": "",
           "title": {
            "standoff": 15
           },
           "zerolinecolor": "white",
           "zerolinewidth": 2
          }
         }
        },
        "title": {
         "text": "PCA BBC Sport news"
        },
        "xaxis": {
         "anchor": "y",
         "domain": [
          0,
          1
         ],
         "title": {
          "text": "x"
         }
        },
        "yaxis": {
         "anchor": "x",
         "domain": [
          0,
          1
         ],
         "title": {
          "text": "y"
         }
        }
       }
      },
      "text/html": [
       "<div>                            <div id=\"1b9472a1-6935-45ba-8798-e873b7a0fe15\" class=\"plotly-graph-div\" style=\"height:525px; width:100%;\"></div>            <script type=\"text/javascript\">                require([\"plotly\"], function(Plotly) {                    window.PLOTLYENV=window.PLOTLYENV || {};                                    if (document.getElementById(\"1b9472a1-6935-45ba-8798-e873b7a0fe15\")) {                    Plotly.newPlot(                        \"1b9472a1-6935-45ba-8798-e873b7a0fe15\",                        [{\"hovertemplate\": \"topic=athletics<br>x=%{x}<br>y=%{y}<extra></extra>\", \"legendgroup\": \"athletics\", \"marker\": {\"color\": \"#636efa\", \"symbol\": \"circle\"}, \"mode\": \"markers\", \"name\": \"athletics\", \"orientation\": \"v\", \"showlegend\": true, \"type\": \"scatter\", \"x\": [-0.09109313576988215, -0.0004664426674577041, -0.11757673477071034, -0.09132409008200751, -0.09135575801550908, -0.11032364575547199, -0.02913287740937254, -0.043012639753377005, -0.12895506066436993, -0.15744371118191586, -0.09581292525998962, -0.10794298143017383, -0.08971249915399444, -0.08061617760099622, -0.07797576715499188, -0.12048842891988404, -0.14085795409239998, -0.10534012806409787, -0.11138542991459269, -0.10794298143017383, -0.09696628844204914, -0.10705834999127754, -0.14565983740590988, -0.07472674162163322, -0.10888638534655219, -0.08578295589926553, -0.0992566922263135, -0.11468351766408783, -0.10912049281149681, -0.07444184883599973, -0.04977954696448211, -0.13234365970531337, -0.15104297730853528, -0.13159138351810323, -0.08919435896320423, -0.05456214968023415, -0.10212114552361334, -0.10199827817555636, -0.05776516314518648, -0.07939258219331682, -0.06947608692726509, -0.09028677689494083, -0.061664225987823375, -0.05634073273417298, -0.09408091792750621, -0.08166381472472747, -0.11258640435268807, -0.1270340492756798, -0.054528560077293405, -0.12118295824677061, -0.12810382772936296, -0.09381747101194772, -0.09627189329977132, -0.14344785615067918, -0.09682614340016275, -0.10463236963619962, -0.12813507000783753, -0.13852221354733402, -0.11370741974632251, -0.10025047900104467, -0.11226213919473603, -0.06190384478977551, -0.12154063389960035, -0.06489770709467964, -0.11015888709392546, -0.15995967703897515, -0.11213454795598668, -0.03013803618625011, -0.17675818504250465, -0.10721847515597112, -0.10584333950906856, -0.05919521738262004, -0.10777887516266658, -0.10513850637326341, -0.10482129630585983, -0.06420104507126527, -0.01504693306533278, -0.08103145657246165, -0.13527334841949964, -0.130430201909578, -0.1463937865294458, -0.12780782567942273, -0.06378914947519637, -0.09381747101194772, -0.07472219141592558, -0.08025781456964858, -0.0836959477530728, -0.054528560077293405, -0.13197153458279054, -0.0922424829397486, -0.06984864836371871, -0.07746804704981183, -0.022641677778921145, -0.08820772428036515, -0.1525946813034042, -0.11295545748600765, -0.044318921307394794, -0.10709918928036397, -0.13788002142506206, -0.062978238610997, -0.05846786915745958], \"xaxis\": \"x\", \"y\": [0.10350460622626871, 0.02447845340527214, 0.1288178725343895, 0.15407818626653733, 0.13481238843875806, 0.15770280371379244, 0.070100556784449, 0.03472402188662859, 0.17068402468262475, 0.24063574486527964, 0.11490866428644829, 0.10872489241401774, 0.11662138356138477, 0.04863325936181755, 0.13008512125156038, 0.33167047366242236, 0.3342132392163919, 0.17677920240275272, 0.13455483236065552, 0.10872489241401774, 0.15707937137175143, 0.1312206510126937, 0.3348362683140898, 0.11072282338399653, 0.15259666074324002, 0.1804026042377581, 0.15874709439461587, 0.13643743761760924, 0.16132445318507446, 0.1036551357054105, 0.07705252311534452, 0.20835572750419187, 0.336981720039041, 0.1587457340911419, 0.16952132025619043, 0.1297254010763153, 0.13614103980152956, 0.08909499387774428, 0.12339913793516906, 0.08343211985893657, 0.09695253887889456, 0.12507312953656893, 0.12062863350460075, 0.07965936031788333, 0.1602696123334594, 0.11330924092988073, 0.2589775718611746, 0.3036594699393232, 0.13541277708900615, 0.32265577680640495, 0.3441833258285914, 0.15353307391022442, 0.11264159891438673, 0.3148495762703611, 0.13860113900667406, 0.13360225663244008, 0.1508791954123605, 0.16390064004428254, 0.0892200537992862, 0.13684806909952438, 0.14992721929913727, 0.08579103804498334, 0.1563127673064572, 0.1013106148806976, 0.13116645666515617, 0.2950003033126857, 0.15664533227690275, 0.08173932708265023, 0.24977196722198786, 0.0838078647130906, 0.11839278473637396, 0.06543756568219374, 0.08473389474038645, 0.1282202735853717, 0.18557511851313552, 0.10139858155090774, 0.04998031827901163, 0.1114377774360339, 0.3273972161227261, 0.2781547971300595, 0.34321422351455244, 0.3383750363977836, 0.10727164005196496, 0.15353307391022442, 0.10384944313887387, 0.09752806987592094, 0.11992478393848999, 0.13541277708900615, 0.3086001995757759, 0.09788176375436344, 0.13461900806775726, 0.10364098576868652, 0.013243603366717776, 0.11336267053201071, 0.22117411422934835, 0.12440998276729975, 0.05653961610771265, 0.1524268751393683, 0.17993659738784232, 0.017692805583982882, 0.11544600144512508], \"yaxis\": \"y\"}, {\"hovertemplate\": \"topic=cricket<br>x=%{x}<br>y=%{y}<extra></extra>\", \"legendgroup\": \"cricket\", \"marker\": {\"color\": \"#EF553B\", \"symbol\": \"circle\"}, \"mode\": \"markers\", \"name\": \"cricket\", \"orientation\": \"v\", \"showlegend\": true, \"type\": \"scatter\", \"x\": [0.2535039501076244, 0.2142252421368978, 0.22595542025197105, 0.2175268271348945, 0.11988621377478562, 0.13984855056204956, 0.12122471989878106, 0.10650187599727011, 0.14941203533337608, 0.10167894373722437, 0.12009814910078304, 0.05248917418103815, 0.313413993292972, 0.06319383864866752, 0.20988606151515693, 0.03212330202786098, 0.06156381174504758, 0.14881789912297894, 0.22555434947868314, 0.17598615355677746, 0.06156381174504758, 0.18919887915112954, 0.13951299438055204, 0.16207088217740648, 0.07270444445501324, 0.21489736374939206, 0.23011079334529924, 0.21146283193532694, 0.13968853989982227, 0.10519288577400861, 0.2521515677209827, 0.16207088217740648, 0.07270444445501324, 0.19227896717152101, 0.09279162578369757, 0.11183179449271301, 0.08181386180144741, 0.16469257697198894, 0.11105855131247022, 0.1826920779899978, 0.12952100883216958, 0.24589839190022372, 0.25085334475209864, 0.2144038564750559, 0.2629183009329376, 0.16644390258310876, 0.061312964391962516, 0.19764142374621954, 0.1330459612172418, 0.1882655339394308, 0.031043403499421342, 0.265670179257283, 0.26618187058659337, 0.23028416052261436, 0.12785119707262108, 0.2241212578344877, 0.1194432849167156, 0.05628640073988059, 0.20620809685222405, 0.16747216142514879, 0.1673483980308747, 0.22975113123517218, 0.2979272901124724, 0.20877680181052377, 0.15749597851873146, 0.12856069122462294, 0.19267543115035898, 0.3710909736163539, 0.13073939568780785, 0.25754341830904137, 0.3418087913021223, 0.15526925176868273, 0.30503636905314113, 0.24940019595037297, 0.35142940106120946, 0.19591803880774347, 0.16889058854639485, 0.06186291263203989, 0.18969272766643436, 0.2469558172162143, 0.17398188896091035, 0.2756296849187737, 0.3268964984867749, 0.32744999956457954, 0.10461587250035753, 0.2664755807804931, 0.2798391862824744, 0.2831288376496458, 0.27707853174619285, 0.13882237958903096, -0.02621758234022369, 0.0898072186440649, 0.20740126694536495, 0.031041657666059607, 0.1453173503370695, 0.17694522394878517, 0.11098934410833414, 0.17792642998999664, 0.10029290310654122, 0.16848004758627178, 0.08756510355689337, 0.0173510175240221, 0.08962368690177235, 0.09363428654120486, 0.06736123666426092, 0.04708393101002366, 0.20530813910014678, 0.039024060534095434, 0.2861208194120532, 0.20408542967691912, 0.11366490877408528, -0.033586565866070714, 0.1661363371435337, 0.1297006673914571, 0.10112885709267738, 0.028399874455908233, 0.20857693001837324, 0.11358417950452493, 0.23113006522393945, 0.10355053270060816, 0.1347423207075739, 0.08429723176144584, 0.11006985287225925, 0.11963276280364941], \"xaxis\": \"x\", \"y\": [0.11909944840903221, 0.05740826197303903, 0.0968752929716728, 0.17787185753650306, 0.008988431552842442, 0.028654871781468416, 0.10699158539055707, 0.07308268616474413, 0.14640224557926756, 0.05926483167704102, 0.10369819393019648, -0.006295172547319988, 0.07175323528651731, 0.028179611341227147, 0.07523691221191206, 0.0017514097968658003, 0.06350934453538307, 0.04698059979380275, 0.06432127527537242, 0.03178257217027888, 0.06350934453538307, 0.1714611493556506, 0.11010997815223438, 0.14042145535147119, 0.11220673003033824, 0.17351807533819283, 0.09100970713951774, 0.13322252310603722, 0.10983565541342803, 0.031596441204203386, 0.0744707112899317, 0.14042145535147119, 0.11220673003033824, 0.1764165944749266, 0.07611010728297829, 0.04318364084959657, 0.09410664893405517, 0.09484600326926004, 0.06090705250399656, 0.041185846917526824, 0.12258896718907582, 0.03118384139982587, 0.060203295117788595, 0.16280697906717292, 0.17597095995852288, 0.09051272529887493, 0.07739717312684974, 0.03485219639698033, 0.06940416445964562, 0.05029197717512647, 0.008253327427778404, 0.11472472818105836, 0.1158019266046177, 0.15662016059419692, 0.11041987197155893, 0.1109155381851048, 0.10199837245191617, 0.08045350321255419, 0.11256848566995777, 0.1624674304720952, 0.16196659780327544, 0.16577853992990385, 0.017449744579928955, 0.054623612651570445, 0.15525752148461505, 0.07693044123688347, 0.027025449690322393, 0.06921073428496363, 0.028257737943707527, 0.2067096518327839, 0.01664422483946117, 0.09773348288821757, 0.07133579262232553, 0.20343207287935489, 0.06718756890895017, -0.00048163316506591995, 0.13913597372647432, 0.059362745177486895, 0.03903974414747623, 0.060575703602294924, 0.12921375977133795, 0.17912509498584475, 0.0634699057195445, 0.06634925472178148, 0.09589210866875267, 0.21457335929010765, 0.2047636605064624, 0.20635477377694042, 0.019053489303204347, 0.11352084200303718, 0.06428038957747703, 0.050412994511374314, 0.060318163918429, 0.06978744586680409, 0.015833911485922204, 0.028564771190551497, -0.019613827560162212, 0.1281723728762709, 0.053755926421735885, 0.13671725987323696, 0.07617261568678602, 0.06466015479198876, 0.06584752854031539, 0.12294278379734938, 0.06439815900155232, 0.056934817041007786, 0.031294108986973344, 0.011969786457619402, 0.022169556212012907, 0.12188474074877872, 0.10741686990652256, 0.0625564063086789, 0.11665001689886972, 0.12292950111821209, 0.07412831802903347, -0.004422311334022947, 0.02726614334082702, 0.04927428921591489, 0.021483152089827172, 0.0740033807358792, 0.10268825808258594, -0.00224472333011097, -0.04224317216631969, 0.08201824969996367], \"yaxis\": \"y\"}, {\"hovertemplate\": \"topic=football<br>x=%{x}<br>y=%{y}<extra></extra>\", \"legendgroup\": \"football\", \"marker\": {\"color\": \"#00cc96\", \"symbol\": \"circle\"}, \"mode\": \"markers\", \"name\": \"football\", \"orientation\": \"v\", \"showlegend\": true, \"type\": \"scatter\", \"x\": [-0.047053435198760124, -0.11366372026673462, -0.0835601515892143, -0.09692248716737838, 0.07298401364603135, -0.03377229518808917, -0.0763813291036842, -0.19868864215636567, -0.1001831893801127, -0.12682716400328736, -0.0062061436455857055, -0.016530578277778662, -0.011418777471679556, -0.002078733699156301, -0.005182009065862553, -0.054935100739832814, -0.12316915042886689, -0.1712439110592358, -0.004683554001486262, -0.04146272765612893, -0.037870633436974985, -0.04719055521036234, -0.05180214882034701, -0.13827175637260367, -0.023903267050421083, -0.01120930576387748, -0.1713655082841169, -0.10738119858945494, 0.004859952522615262, -0.06757802831513769, -0.1373266950750547, -0.0645370809632491, -0.01712808983409676, 0.0165192807954642, 0.00698670731136995, -0.059969118347470596, -0.043226606865106904, 0.002972374894789508, 0.01496803595141078, 0.021627150601833914, -0.03141494664358787, -0.059993219651427, -0.07745132913086106, -0.06610554512907629, -0.06385140917478713, -0.10981079548613323, -0.14859620082352165, -0.04877160174623737, -0.05641236082561964, -0.08700406053518249, -0.024272347976003576, -0.027030537114062232, -0.04031215123814228, -0.05404164710216729, -0.04764182990995521, -0.04750082528069111, -0.055280576187829555, -0.10670653657431817, -0.06073165707622828, -0.12696933303705887, -0.08862952469760195, -0.07407678355721121, -0.1130581258085379, -0.09672889180684054, -0.1846982243729057, -0.05512090544409857, -0.0830469715574907, -0.05015263869892842, -0.07081197904123082, -0.059462519411464486, -0.08771637864669803, -0.06603287188890858, -0.10993533692707046, -0.1324104211483946, -0.20203715081314952, -0.08610242810778007, -0.033378297469338375, -0.07558494796651163, -0.008618684675821756, -0.1272726353230692, -0.07641182091245977, -0.07535292720957967, -0.18262347103047286, -0.08674712726918488, -0.05188375788886975, -0.07307536950505826, -0.13029047306498387, -0.13029047306498387, -0.14928725473838939, -0.11785136715678333, -0.03608156271307656, -0.0800198469340348, -0.07822094446313786, -0.10670080439147697, -0.07574689523637622, 0.02199440772464417, -0.03849462828186593, -0.09012581420286725, -0.10614011839102021, -0.0502476531345204, -0.07611090491148459, -0.11799294532981545, -0.09966549060179153, -0.11963296752303768, -0.14068954469102465, -0.06869006969335287, -0.12764066230408994, -0.05122886519041806, -0.07086013647533984, -0.04930202252156672, -0.059623484338350845, -0.11690361477078522, -0.045442628087555774, -0.054534560652758426, -0.16281061120633505, -0.04035667423161524, -0.11226688237060004, -0.03186684524046538, -0.025544331274474377, -0.00012059544921812759, -0.014145792991558529, -0.032457414968106064, -0.021973473063995542, -0.1748392124406449, 0.016948849722794417, -0.06175122904450079, -0.05156352539455421, -0.04637844742283532, -0.09492439573917441, -0.020983540859572325, 0.005092919310129703, -0.03892630045404595, -0.11303874729399063, -0.11351526017368685, -0.06050702337582465, -0.05456564667985947, -0.13220439264698428, -0.03254711837926494, -0.05768474430309195, -0.06953252349639079, -0.13096911127877758, -0.10570273242954167, -0.11641500568233881, -0.09558943948356986, -0.1310085653288062, -0.01805701698608209, -0.06384422106377723, -0.1008226826371573, -0.19358026370024245, -0.06325726383651883, -0.052976446507725976, -0.11601647120961034, -0.05119036981927447, -0.0978089627240468, -0.07212131751465452, -0.05697879655433459, -0.07892956916240093, -0.14647142676171934, -0.044586835431062254, -0.1137488247822062, -0.14647142676171934, -0.06708545186310857, -0.06840598712696076, -0.06840598712696076, -0.0930092233098057, -0.06942542031756022, -0.060258768248025146, -0.05182080602477907, -0.036191461979428664, -0.060223080929437484, -0.08725905914363821, -0.13351981819626968, -0.07238090016320452, -0.04075160264134408, -0.040250059724014686, -0.06035228286228108, -0.0718414340530239, -0.15668076510110573, -0.07454994929769328, -0.16991466921072873, -0.09031708146407215, -0.05521585841144539, -0.04016275286632911, -0.06181109202642458, -0.08174553092820398, -0.12818776536234397, -0.0866841139433539, -0.09576988276505843, -0.07992263521172804, -0.16101654758712222, -0.15668636618040116, -0.11908101477537492, -0.07915961525686385, -0.0728291821422888, -0.0591699506491172, 0.005066359664216324, -0.036937926368735774, -0.10078741613194273, -0.07658360585360738, -0.06769784706568714, -0.0536354468889181, -0.19563507488424053, -0.05511855126512298, -0.06534955622754134, -0.07698762379060285, -0.04283291634704971, -0.20006830035512374, -0.05206591118173869, -0.1444889533237254, -0.0835601515892143, -0.06642733776182826, -0.07769565424500995, -0.03537106169332017, -0.04750657331735567, -0.12155157151487543, -0.07003427749265066, -0.03022212862824127, -0.059898980043609315, -0.02296287178783651, 0.0024445999722250812, -0.13368988872468507, -0.0058021298492695415, -0.10058563360991389, -0.03264903102789081, -0.04227311982809452, -0.09704024927748424, -0.03238216896458249, -0.08206522002043679, -0.18121639338941387, -0.12580206554275697, -0.060278503323273794, -0.08687386629017214, -0.09171759413407504, -0.06030273501946134, -0.048814750585556045, -0.024570826709988718, -0.08927108519455183, -0.06674476001556182, -0.18542135684636613, -0.11387824755403447, -0.12255215959246425, -0.06403355450390802, -0.17238849695178424, -0.08058119208580743, -0.13004157217173734, -0.0757838093571997, -0.025552396447843354, -0.045452330019782834, -0.058114044255269434, -0.14901768115052066, -0.07927840099680175, -0.12639592982497427, -0.079125005483976, -0.04089566815435772, -0.03999574330210849, -0.05492852992100892, -0.10146394754984368, -0.009505305448126082, -0.051746526404723145, -0.08301656325621606, -0.02180918435352983, -0.09845578217136591, -0.06487118923868437, -0.03561931158120787, -0.002978330402932542], \"xaxis\": \"x\", \"y\": [-0.08585875597935046, -0.11596852052497347, -0.06948124470638611, -0.06803309652257844, -0.062006049782751455, -0.009105840321722918, -0.09524155481729447, -0.21800212381561357, -0.11988403378681156, -0.16670891693766277, -0.056395370554923746, -0.0461190717828089, -0.043166016303363995, -0.027306526484484377, -0.01823805843087359, -0.05826300534875911, -0.1992365829675448, -0.17058066190858992, -0.04539240715816995, -0.04326893251588065, -0.10354685162747539, -0.033545605960108714, -0.015640127078430516, -0.12711125045452717, -0.12836258072874412, -0.07977992985509104, -0.17030570255337543, -0.12195370983519317, -0.07094631344179328, -0.03296735868160757, -0.14179470334797667, -0.07834761328797488, -0.014415802108594847, -0.042533694973904544, -0.04872411702902887, -0.009048232971538336, 0.01485363580696107, -0.02020655949442882, -0.11205793141064684, -0.009891793324848746, -0.020420159300819238, 0.036742871055244423, -0.07441329870930084, -0.058025840827182554, -0.08295305840441405, -0.10101586395812451, -0.17334733349079445, -0.14280499140763003, -0.03385291877616269, -0.08126685486877351, -0.05145576874252043, -0.018869059477858836, -0.03161018994081438, -0.007511886891478703, 0.006367972510584614, -0.08571630701867822, -0.11071839920406913, -0.1105085382805008, -0.013279776139140224, -0.08881546957652756, -0.1132898290080141, -0.0777292907426085, -0.11350637261574437, -0.06944689850187714, -0.24101233861657678, -0.11243492165221623, -0.057107123381753125, -0.058235027379995724, -0.07282718948304874, -0.02824958138118206, -0.07394103797095695, -0.034966271130639305, -0.09050536776781563, -0.0853164244388356, -0.18244370334683319, -0.005817342334761225, -0.005109726440727909, -0.06781887455573823, 0.013605049528487956, -0.08153777775060801, -0.018918425562694977, -0.07475977406827847, -0.16538761677627556, -0.06475182605307181, -0.062475332288774874, -0.10421820294332176, -0.1412725720323269, -0.1412725720323269, -0.15570423076681542, -0.12290183678567951, -0.03899780190026691, -0.061281101822729715, -0.04753698325679327, -0.08012938455649943, -0.059801643339643475, 0.03799167746014249, -0.006126731377443479, -0.09572223948898231, -0.05620730973251499, -0.013129597483338917, -0.06932955068518745, -0.10470930935021981, -0.06974660188373014, -0.09712127341670866, -0.0006584914332391659, -0.08900793773835851, -0.050324551857632155, -0.02084292107895543, -0.016717572693290075, 0.004603884144230712, -0.06731567764136193, -0.0866525269096246, -0.025571208762349393, -0.07607048808617087, -0.17210796454254365, -0.005538636169248042, -0.06924186511555633, -0.04684996883155687, -0.007808241635664748, 0.009994401171696848, 0.0017533586844503896, -0.07655547919562299, -0.0813973438867674, -0.19971148673223552, -0.006624377280037436, -0.029957776275777833, -0.04168311618694451, -0.0672449300237884, -0.13567473054685214, 0.010929766776504441, 0.0003096557625167453, -0.05564098937778068, -0.12229132506339271, -0.14434439152803324, -0.0688789538671403, -0.02624057369732869, -0.1487114934778376, -0.05564468079678323, -0.033880814641319104, -0.004142251677445189, -0.14969182469558737, -0.15936948617927651, -0.09434685433655875, -0.11978858746983026, -0.1324691612089046, -0.0534985297622598, 0.04307396537312812, -0.08883336791836705, -0.19769995671936577, -0.05050804086432366, -0.037470914607033425, -0.13660530690489944, -0.06711040544819447, -0.11081239396207822, -0.03533727021886221, -0.06461101767936586, -0.03972872682853905, -0.1670046095370845, 0.0017003225236703232, -0.09193932761154945, -0.1670046095370845, -0.05484021796559062, -0.014214678575227613, -0.014214678575227613, -0.0971663622173546, -0.0649453013772213, -0.03242315161930398, -0.0012571000409207721, -0.05188884287802696, -0.033469726590063455, -0.0289891355635119, -0.10634909369282103, -0.09200301225259032, -0.08688931971976499, -0.06621288751125574, -0.0716815552408614, 0.018117079938309688, -0.09456303125634086, -0.04747684176071597, -0.1975694001275398, -0.06705372091713384, -0.030713234806421214, -0.020377594971705208, -0.09019500058456546, -0.06363142131847745, -0.13671550779295433, -0.1291083922592902, -0.11123749363354801, -0.11884395710360886, -0.1315375882879285, -0.19355194197977157, -0.1685099155263535, -0.09052418496798335, -0.09281867221236477, -0.03398131325449599, -0.03774033234128843, 0.005297091715125941, -0.1489588743218549, -0.17766906327382284, -0.15016882322632502, -0.062241215439781145, -0.24822352728728606, -0.07294707785203215, -0.06571428169351627, -0.11723079239553896, -0.02714431519442285, -0.21804547954382103, -0.04327210861457793, -0.17253009989378867, -0.06948124470638611, -0.1264431675175967, -0.1277932804425721, -0.02950183310361339, -0.055942225055896445, -0.1370399741876293, -0.09122716672891071, -0.010774617009920048, -0.06169870567623439, -0.010306374151777908, 0.008907922184333698, -0.18615717987687466, -0.05315522256418556, -0.06314870056409584, -0.00046408413023637114, -0.008302050769869496, -0.1185704145092421, -0.012849436793187285, -0.058225094448783585, -0.18806857995851167, -0.10150376702648473, 0.05185456108725419, -0.05738238304043032, -0.06478467240001573, -0.03864210724220025, -0.014980894733938299, -0.08416276648859243, -0.09250158525591116, -0.08451099538300152, -0.16860257539227316, -0.13171996045445375, -0.10794570970049067, -0.024267121294953845, -0.20321399607847662, -0.03526278124295321, -0.11497136585711648, -0.06447645785898459, -0.07046208922521341, 0.02348639203485983, -0.09711545918605277, -0.1522135846267699, -0.09428282912863516, -0.1225422929642842, -0.09500421148361117, -0.05344274676644121, -0.010970997168234463, 0.023114533775938747, -0.0067462494460478134, 0.030868512725367385, -0.04367600592956215, -0.11109542765199425, -0.023218179261994827, -0.108781983212243, -0.028508618223315903, -0.02206798059374057, -0.0213808459869807], \"yaxis\": \"y\"}, {\"hovertemplate\": \"topic=rugby<br>x=%{x}<br>y=%{y}<extra></extra>\", \"legendgroup\": \"rugby\", \"marker\": {\"color\": \"#ab63fa\", \"symbol\": \"circle\"}, \"mode\": \"markers\", \"name\": \"rugby\", \"orientation\": \"v\", \"showlegend\": true, \"type\": \"scatter\", \"x\": [0.1314773745409861, 0.19111733650489504, 0.1372520651262867, 0.057298552903973496, 0.06647470553428371, 0.15132601542546434, 0.13493138958010945, 0.1290110541900529, 0.10062255757642, 0.03992618580394913, 0.009624008208708167, 0.0604981847970001, 0.08271648516357458, 0.03062081445776588, 0.03825503934495623, 0.1579031612275872, 0.19659015928083826, 0.08500361146521403, 0.15877365345660527, 0.1527149344417411, 0.16263656388334205, 0.09151505777737946, 0.062451359762111844, 0.09371361396604262, 0.14892199027681238, 0.027339991898974996, 0.13585830331206697, 0.18688159847550445, 0.2233157614075874, 0.10959150525563639, 0.1559210825845656, 0.21097787210463065, 0.0622554474700362, -0.009020218927887834, 0.04066461881106991, -0.007437483766480563, 0.21224569186085887, 0.03466397641069093, 0.1827327275592916, 0.2788251127140982, 0.025304008176651946, 0.03654021935217846, 0.13902065969683852, 0.044353121883695855, 0.12254580467257666, 0.12122617325780544, 0.13719624503752795, 0.23979207953513537, 0.10422422181087505, 0.1330538450971099, 0.18303528748531883, 0.09525704815562461, 0.126500582484602, 0.11146790639008103, 0.13407153778474623, 0.26898540947138644, 0.12781842999256612, 0.07028340862170848, 0.20715370409735107, 0.10933515960717528, 0.10422422181087505, 0.14093661661116055, 0.06389100293731079, 0.1008843748177771, 0.10431600691574809, 0.15165280985580543, 0.04726429045144297, 0.21183780234760055, 0.10308629162124354, 0.04514526833953903, 0.0388030217504603, 0.11981853450302343, 0.1463605149451732, 0.06733702605713494, 0.08636287627100675, 0.05903660193009972, 0.0572600448580893, -0.0248802799590177, 0.053448844895030864, 0.004184913618411467, 0.08999737251028238, -0.002006410897690481, 0.024989765116172118, 0.05755915581893517, 0.17303197519210542, 0.09523106551538917, 0.1190186169449623, 0.1719703674341405, -0.016561198570442897, 0.20430582566617733, 0.021105171915312575, 0.11867663148618557, 0.05116301212736212, 0.17615616039260762, 0.10926726999074698, 0.05779076342495993, 0.06576819349465585, 0.09390302157770729, 0.06366599483734739, 0.16264351873967242, 0.01507348251055111, 0.13204858157604935, 0.04451744524146836, 0.13171665149556433, 0.12968498724539665, 0.11231932976757283, 0.03547827939381006, 0.045013339411656604, 0.0819928399222223, 0.022355105852078987, 0.00205345589531958, -0.05514568001545177, -0.05396281803884536, 0.028807499158217998, 0.027060400581944057, -0.040814892277230334, 0.1841275080676204, 0.06368993755229076, 0.05250695332282011, -0.0022424864877429855, 0.13009083518260936, 0.13886497590263802, 0.09699058784863344, -0.031239430129160927, -0.02193734150094163, -0.04800187842832762, 0.11022789640139173, 0.11766818860696769, 0.14371325629181686, 0.1808493408272686, 0.15108420854068816, 0.2625125295556968, 0.1513863969042819, 0.15195016891707694, 0.09525704815562461, 0.11899687365828653, 0.11921095205130469, 0.0362632159317863, 0.12728862490199036, 0.07002867806447947, 0.22529283297595612, 0.14042409920599203, 0.22400551561709456, 0.12425054938948259, 0.13709117741981527, 0.08016936536265945, 0.045979408834936196], \"xaxis\": \"x\", \"y\": [-0.18083224171300769, -0.20564881905742616, -0.16542540287754226, -0.048655130318226686, -0.10364174042720198, -0.20191845868986974, -0.17741313573611753, -0.14443241006703442, -0.12848534718518478, -0.04274814258600554, -0.056187414295014934, -0.03409806185109737, -0.10238656175972406, -0.08522028358822632, -0.03974724499885329, -0.15981268135462753, -0.16181876146507132, -0.10718174273440495, -0.11358453627459837, -0.1570119180334903, -0.1456704032788273, -0.09918600468077393, -0.04790774949789509, -0.08009644294020384, -0.15811047259269131, -0.09801174862862, -0.0960012530922935, -0.1254198007589861, -0.11610840864868416, -0.14798536915734545, -0.11122931792159857, -0.16163763915981189, -0.12410414707064808, -0.012762193530119528, -0.06421669799439672, 0.019249667445676813, -0.12249299574869608, -0.054560547629823916, -0.08175222539942052, -0.22015242297446486, 0.006612365586576895, 0.008073900410548274, -0.1784205965746882, -0.116343875057603, -0.07851054542057209, -0.07745183220923509, -0.14988227546250546, -0.13975002216754343, -0.08356627633000742, -0.08868627618975923, -0.15596046062068378, -0.08910250255295091, -0.15036674049580795, -0.09089704048885651, -0.1675412046025113, -0.09754668104608899, -0.1286751642741564, -0.06702658176141071, -0.18749298466111478, -0.1083694313656595, -0.08356627633000742, -0.11725314269837336, -0.10205024359858869, -0.1176036043359223, -0.12624279904061855, -0.15504734954497687, -0.024307055497970728, -0.16080687503750565, -0.11418695163567966, -0.018122952664075227, -0.08736227099226328, -0.09833019636988546, -0.1448035060164919, -0.11352816096836943, -0.14225552196460564, -0.09239564009634472, -0.1267751964971364, -0.02649376423750299, -0.04188952728633642, -0.025874094168511937, -0.10745202049294794, -0.05001270132892484, -0.02755156461426079, -0.057643599090667554, -0.09344292790646848, -0.01813125614557674, -0.08287660932662226, -0.06792173248052233, -0.025001154462198954, -0.16003600623546238, -0.00828500913519973, -0.07694605533451034, -0.09805943504579956, -0.09770653612702017, -0.0557188746240481, -0.02169639725146508, -0.06814482972370658, -0.03882540489865475, -0.019114553932947347, -0.1414930306260677, -0.01634351658566178, -0.09226299688106221, 0.007946912122636783, -0.09190927766684182, -0.0809234645449549, -0.06371404458742769, -0.08691272698564038, -0.09466660555099485, -0.004749887826906652, -0.08125009122322505, -0.07255005296145181, -0.030531369920929318, -0.03156346108439404, -0.025875582998812114, -0.019924404890311075, -0.05798877264063889, -0.1885588481068005, -0.013660539652219033, -0.08310309497884065, -0.06529350985161989, -0.11706962571955165, -0.1207344522531051, -0.10830725512974641, -0.05498357983588814, -0.07860513279859771, -0.040591494891988426, -0.04820397988041341, -0.11093561266446966, 0.00426086898938872, -0.15689140921088657, -0.1892016878871804, -0.21786849480307188, -0.20168127717067438, -0.0756673304307735, -0.08910250255295091, -0.14294857901097216, -0.04842435149666127, -0.06144526994894563, -0.132702928552741, -0.10538946141069111, -0.15949913632704543, -0.16230344471927538, -0.11601422744836544, -0.08320409477576876, -0.07425900396049116, -0.04404104929776647, -0.04349293325612902], \"yaxis\": \"y\"}, {\"hovertemplate\": \"topic=tennis<br>x=%{x}<br>y=%{y}<extra></extra>\", \"legendgroup\": \"tennis\", \"marker\": {\"color\": \"#FFA15A\", \"symbol\": \"circle\"}, \"mode\": \"markers\", \"name\": \"tennis\", \"orientation\": \"v\", \"showlegend\": true, \"type\": \"scatter\", \"x\": [-0.042701729468011713, -0.05500363858565514, -0.055743663101116454, -0.06924710983958127, -0.038034267278925685, -0.05442873518143963, -0.059777395522936816, -0.04890706788722752, -0.05570986608159492, -0.05135449926128937, -0.02746486129072855, -0.07355247735448832, -0.03815092208845696, -0.04017391919031279, -0.046806900000027275, -0.05135449926128937, -0.06411056118589013, -0.07355247735448832, -0.04064965205743521, -0.04664037446481832, -0.06794075435435758, -0.06044205671187273, -0.05579493830789192, -0.07355117523995704, -0.0448138854520158, -0.04185510815241191, -0.022424268439013822, -0.06057553340846915, -0.057884169783019565, -0.06112937879987345, -0.04146819825671271, -0.05631672436696454, -0.06239417646799761, -0.04828455508742849, -0.03353468631006923, -0.02581581144925931, -0.06896983805762767, -0.07587888965386251, -0.05156279149462492, -0.05581151142525467, -0.05146397423813886, -0.0433052558737063, -0.06592950440078406, -0.06649960558373844, -0.04825936227759807, -0.07027216665977988, -0.05483055222117235, -0.05662585732818498, -0.07558031396644685, -0.07558031396644685, -0.05843729739396953, -0.05612465479863712, -0.04833086532988979, -0.031865711031494076, -0.049412820794672116, -0.08160588131826357, -0.06960627985971599, -0.04121721494059359, -0.04014626542982829, -0.06213805032187738, -0.06271090866712425, -0.03868823887079007, -0.046254681814227185, -0.10007269864341904, -0.0539601291891286, -0.06493672496770012, -0.05466017010324973, -0.025256923345729737, -0.08050314978394418, -0.08059076510106081, -0.05116034785618845, -0.07718846232174707, -0.05781254728883153, -0.04829184919066905, -0.10314736142096921, -0.03600796197245813, -0.029720496362115115, -0.047339877246810824, -0.07994097341245988, -0.07201096224624325, -0.0419387686552493, -0.07206357728708584, -0.06631792913075041, -0.0323699075838212, -0.051070182505732656, -0.027690496597164865, -0.060954854529491315, -0.020876844396971538, -0.06215300876204358, -0.037813122450938895, -0.07893182861432123, 0.017106761444152806, -0.031781083302138746, -0.06335564207525217, -0.04160503021138325, -0.06669925471183534, -0.04808716360849868, -0.0498199124351569, -0.0487123227572215, -0.02918045687307743], \"xaxis\": \"x\", \"y\": [0.07793924709956784, 0.10514090982856797, 0.04820838178578976, 0.0692276250119553, 0.08885786053512518, 0.0859814037244983, 0.07869047090010231, 0.09551330761969856, 0.07981756083630683, 0.11628960461084455, 0.0333685201903545, 0.05502562016464105, 0.08687872808771277, 0.0958023802385783, 0.08769407800826985, 0.11628960461084455, 0.05166126760751612, 0.05502562016464105, 0.08943538835888726, 0.10600504071713279, 0.14254565385417678, 0.059865770333090235, 0.06571301544062577, 0.11707154529387416, 0.03139124624993467, 0.09663528864752001, 0.07524060329999198, 0.11596598770819959, 0.039149277473455035, 0.10739157513952675, 0.05942491216029251, 0.07126337332510334, 0.09238322799932949, 0.07218561731476682, 0.03590259887174565, 0.04222999792196627, 0.13557706788181698, 0.11911296425708198, 0.10137047144325459, 0.04873321037499342, 0.06794488888840838, 0.0669168691529218, 0.09688749019944394, 0.01167882971895792, 0.10565487958580892, 0.05938803525990769, 0.13907989373443086, 0.07889499818336103, 0.022604039725865388, 0.022604039725865388, 0.14559933497761968, 0.03365904251671179, 0.05274732466214772, 0.04307217635062891, 0.07995701275272364, 0.15128343496372712, 0.11051928123879151, 0.0758491192546368, 0.07366027387370228, 0.09678147968936122, 0.0631425095352382, 0.012700842281650186, 0.09321082611262084, 0.1492374829755519, 0.1141440631306283, 0.08100189663048363, 0.07479692935205164, 0.0368925148493341, 0.04499841920656591, 0.04518999118663612, 0.054215878742340726, 0.11020635500089272, 0.02727107285046867, 0.0825055729408544, 0.1347735269209312, 0.04504147888480375, 0.03826600600217807, 0.07798166235566092, 0.03639180645753191, 0.04758796789202843, 0.06907137530100779, 0.06421840488567243, 0.045898305384009935, 0.028527146035975618, 0.06735548983566227, 0.10587420627447394, 0.07037991291066391, 0.06825323401816329, 0.077214306526175, 0.07600532253572617, 0.07576662149652001, 0.04690379562858172, 0.06741848242174689, 0.0793807465760181, 0.10477208076621891, 0.108398647937887, 0.05304692662932896, 0.05988865488378335, 0.01389141312639202, 0.07132851187643673], \"yaxis\": \"y\"}],                        {\"legend\": {\"title\": {\"text\": \"topic\"}, \"tracegroupgap\": 0}, \"template\": {\"data\": {\"bar\": [{\"error_x\": {\"color\": \"#2a3f5f\"}, \"error_y\": {\"color\": \"#2a3f5f\"}, \"marker\": {\"line\": {\"color\": \"#E5ECF6\", \"width\": 0.5}}, \"type\": \"bar\"}], \"barpolar\": [{\"marker\": {\"line\": {\"color\": \"#E5ECF6\", \"width\": 0.5}}, \"type\": \"barpolar\"}], \"carpet\": [{\"aaxis\": {\"endlinecolor\": \"#2a3f5f\", \"gridcolor\": \"white\", \"linecolor\": \"white\", \"minorgridcolor\": \"white\", \"startlinecolor\": \"#2a3f5f\"}, \"baxis\": {\"endlinecolor\": \"#2a3f5f\", \"gridcolor\": \"white\", \"linecolor\": \"white\", \"minorgridcolor\": \"white\", \"startlinecolor\": \"#2a3f5f\"}, \"type\": \"carpet\"}], \"choropleth\": [{\"colorbar\": {\"outlinewidth\": 0, \"ticks\": \"\"}, \"type\": \"choropleth\"}], \"contour\": [{\"colorbar\": {\"outlinewidth\": 0, \"ticks\": \"\"}, \"colorscale\": [[0.0, \"#0d0887\"], [0.1111111111111111, \"#46039f\"], [0.2222222222222222, \"#7201a8\"], [0.3333333333333333, \"#9c179e\"], [0.4444444444444444, \"#bd3786\"], [0.5555555555555556, \"#d8576b\"], [0.6666666666666666, \"#ed7953\"], [0.7777777777777778, \"#fb9f3a\"], [0.8888888888888888, \"#fdca26\"], [1.0, \"#f0f921\"]], \"type\": \"contour\"}], \"contourcarpet\": [{\"colorbar\": {\"outlinewidth\": 0, \"ticks\": \"\"}, \"type\": \"contourcarpet\"}], \"heatmap\": [{\"colorbar\": {\"outlinewidth\": 0, \"ticks\": \"\"}, \"colorscale\": [[0.0, \"#0d0887\"], [0.1111111111111111, \"#46039f\"], [0.2222222222222222, \"#7201a8\"], [0.3333333333333333, \"#9c179e\"], [0.4444444444444444, \"#bd3786\"], [0.5555555555555556, \"#d8576b\"], [0.6666666666666666, \"#ed7953\"], [0.7777777777777778, \"#fb9f3a\"], [0.8888888888888888, \"#fdca26\"], [1.0, \"#f0f921\"]], \"type\": \"heatmap\"}], \"heatmapgl\": [{\"colorbar\": {\"outlinewidth\": 0, \"ticks\": \"\"}, \"colorscale\": [[0.0, \"#0d0887\"], [0.1111111111111111, \"#46039f\"], [0.2222222222222222, \"#7201a8\"], [0.3333333333333333, \"#9c179e\"], [0.4444444444444444, \"#bd3786\"], [0.5555555555555556, \"#d8576b\"], [0.6666666666666666, \"#ed7953\"], [0.7777777777777778, \"#fb9f3a\"], [0.8888888888888888, \"#fdca26\"], [1.0, \"#f0f921\"]], \"type\": \"heatmapgl\"}], \"histogram\": [{\"marker\": {\"colorbar\": {\"outlinewidth\": 0, \"ticks\": \"\"}}, \"type\": \"histogram\"}], \"histogram2d\": [{\"colorbar\": {\"outlinewidth\": 0, \"ticks\": \"\"}, \"colorscale\": [[0.0, \"#0d0887\"], [0.1111111111111111, \"#46039f\"], [0.2222222222222222, \"#7201a8\"], [0.3333333333333333, \"#9c179e\"], [0.4444444444444444, \"#bd3786\"], [0.5555555555555556, \"#d8576b\"], [0.6666666666666666, \"#ed7953\"], [0.7777777777777778, \"#fb9f3a\"], [0.8888888888888888, \"#fdca26\"], [1.0, \"#f0f921\"]], \"type\": \"histogram2d\"}], \"histogram2dcontour\": [{\"colorbar\": {\"outlinewidth\": 0, \"ticks\": \"\"}, \"colorscale\": [[0.0, \"#0d0887\"], [0.1111111111111111, \"#46039f\"], [0.2222222222222222, \"#7201a8\"], [0.3333333333333333, \"#9c179e\"], [0.4444444444444444, \"#bd3786\"], [0.5555555555555556, \"#d8576b\"], [0.6666666666666666, \"#ed7953\"], [0.7777777777777778, \"#fb9f3a\"], [0.8888888888888888, \"#fdca26\"], [1.0, \"#f0f921\"]], \"type\": \"histogram2dcontour\"}], \"mesh3d\": [{\"colorbar\": {\"outlinewidth\": 0, \"ticks\": \"\"}, \"type\": \"mesh3d\"}], \"parcoords\": [{\"line\": {\"colorbar\": {\"outlinewidth\": 0, \"ticks\": \"\"}}, \"type\": \"parcoords\"}], \"pie\": [{\"automargin\": true, \"type\": \"pie\"}], \"scatter\": [{\"marker\": {\"colorbar\": {\"outlinewidth\": 0, \"ticks\": \"\"}}, \"type\": \"scatter\"}], \"scatter3d\": [{\"line\": {\"colorbar\": {\"outlinewidth\": 0, \"ticks\": \"\"}}, \"marker\": {\"colorbar\": {\"outlinewidth\": 0, \"ticks\": \"\"}}, \"type\": \"scatter3d\"}], \"scattercarpet\": [{\"marker\": {\"colorbar\": {\"outlinewidth\": 0, \"ticks\": \"\"}}, \"type\": \"scattercarpet\"}], \"scattergeo\": [{\"marker\": {\"colorbar\": {\"outlinewidth\": 0, \"ticks\": \"\"}}, \"type\": \"scattergeo\"}], \"scattergl\": [{\"marker\": {\"colorbar\": {\"outlinewidth\": 0, \"ticks\": \"\"}}, \"type\": \"scattergl\"}], \"scattermapbox\": [{\"marker\": {\"colorbar\": {\"outlinewidth\": 0, \"ticks\": \"\"}}, \"type\": \"scattermapbox\"}], \"scatterpolar\": [{\"marker\": {\"colorbar\": {\"outlinewidth\": 0, \"ticks\": \"\"}}, \"type\": \"scatterpolar\"}], \"scatterpolargl\": [{\"marker\": {\"colorbar\": {\"outlinewidth\": 0, \"ticks\": \"\"}}, \"type\": \"scatterpolargl\"}], \"scatterternary\": [{\"marker\": {\"colorbar\": {\"outlinewidth\": 0, \"ticks\": \"\"}}, \"type\": \"scatterternary\"}], \"surface\": [{\"colorbar\": {\"outlinewidth\": 0, \"ticks\": \"\"}, \"colorscale\": [[0.0, \"#0d0887\"], [0.1111111111111111, \"#46039f\"], [0.2222222222222222, \"#7201a8\"], [0.3333333333333333, \"#9c179e\"], [0.4444444444444444, \"#bd3786\"], [0.5555555555555556, \"#d8576b\"], [0.6666666666666666, \"#ed7953\"], [0.7777777777777778, \"#fb9f3a\"], [0.8888888888888888, \"#fdca26\"], [1.0, \"#f0f921\"]], \"type\": \"surface\"}], \"table\": [{\"cells\": {\"fill\": {\"color\": \"#EBF0F8\"}, \"line\": {\"color\": \"white\"}}, \"header\": {\"fill\": {\"color\": \"#C8D4E3\"}, \"line\": {\"color\": \"white\"}}, \"type\": \"table\"}]}, \"layout\": {\"annotationdefaults\": {\"arrowcolor\": \"#2a3f5f\", \"arrowhead\": 0, \"arrowwidth\": 1}, \"coloraxis\": {\"colorbar\": {\"outlinewidth\": 0, \"ticks\": \"\"}}, \"colorscale\": {\"diverging\": [[0, \"#8e0152\"], [0.1, \"#c51b7d\"], [0.2, \"#de77ae\"], [0.3, \"#f1b6da\"], [0.4, \"#fde0ef\"], [0.5, \"#f7f7f7\"], [0.6, \"#e6f5d0\"], [0.7, \"#b8e186\"], [0.8, \"#7fbc41\"], [0.9, \"#4d9221\"], [1, \"#276419\"]], \"sequential\": [[0.0, \"#0d0887\"], [0.1111111111111111, \"#46039f\"], [0.2222222222222222, \"#7201a8\"], [0.3333333333333333, \"#9c179e\"], [0.4444444444444444, \"#bd3786\"], [0.5555555555555556, \"#d8576b\"], [0.6666666666666666, \"#ed7953\"], [0.7777777777777778, \"#fb9f3a\"], [0.8888888888888888, \"#fdca26\"], [1.0, \"#f0f921\"]], \"sequentialminus\": [[0.0, \"#0d0887\"], [0.1111111111111111, \"#46039f\"], [0.2222222222222222, \"#7201a8\"], [0.3333333333333333, \"#9c179e\"], [0.4444444444444444, \"#bd3786\"], [0.5555555555555556, \"#d8576b\"], [0.6666666666666666, \"#ed7953\"], [0.7777777777777778, \"#fb9f3a\"], [0.8888888888888888, \"#fdca26\"], [1.0, \"#f0f921\"]]}, \"colorway\": [\"#636efa\", \"#EF553B\", \"#00cc96\", \"#ab63fa\", \"#FFA15A\", \"#19d3f3\", \"#FF6692\", \"#B6E880\", \"#FF97FF\", \"#FECB52\"], \"font\": {\"color\": \"#2a3f5f\"}, \"geo\": {\"bgcolor\": \"white\", \"lakecolor\": \"white\", \"landcolor\": \"#E5ECF6\", \"showlakes\": true, \"showland\": true, \"subunitcolor\": \"white\"}, \"hoverlabel\": {\"align\": \"left\"}, \"hovermode\": \"closest\", \"mapbox\": {\"style\": \"light\"}, \"paper_bgcolor\": \"white\", \"plot_bgcolor\": \"#E5ECF6\", \"polar\": {\"angularaxis\": {\"gridcolor\": \"white\", \"linecolor\": \"white\", \"ticks\": \"\"}, \"bgcolor\": \"#E5ECF6\", \"radialaxis\": {\"gridcolor\": \"white\", \"linecolor\": \"white\", \"ticks\": \"\"}}, \"scene\": {\"xaxis\": {\"backgroundcolor\": \"#E5ECF6\", \"gridcolor\": \"white\", \"gridwidth\": 2, \"linecolor\": \"white\", \"showbackground\": true, \"ticks\": \"\", \"zerolinecolor\": \"white\"}, \"yaxis\": {\"backgroundcolor\": \"#E5ECF6\", \"gridcolor\": \"white\", \"gridwidth\": 2, \"linecolor\": \"white\", \"showbackground\": true, \"ticks\": \"\", \"zerolinecolor\": \"white\"}, \"zaxis\": {\"backgroundcolor\": \"#E5ECF6\", \"gridcolor\": \"white\", \"gridwidth\": 2, \"linecolor\": \"white\", \"showbackground\": true, \"ticks\": \"\", \"zerolinecolor\": \"white\"}}, \"shapedefaults\": {\"line\": {\"color\": \"#2a3f5f\"}}, \"ternary\": {\"aaxis\": {\"gridcolor\": \"white\", \"linecolor\": \"white\", \"ticks\": \"\"}, \"baxis\": {\"gridcolor\": \"white\", \"linecolor\": \"white\", \"ticks\": \"\"}, \"bgcolor\": \"#E5ECF6\", \"caxis\": {\"gridcolor\": \"white\", \"linecolor\": \"white\", \"ticks\": \"\"}}, \"title\": {\"x\": 0.05}, \"xaxis\": {\"automargin\": true, \"gridcolor\": \"white\", \"linecolor\": \"white\", \"ticks\": \"\", \"title\": {\"standoff\": 15}, \"zerolinecolor\": \"white\", \"zerolinewidth\": 2}, \"yaxis\": {\"automargin\": true, \"gridcolor\": \"white\", \"linecolor\": \"white\", \"ticks\": \"\", \"title\": {\"standoff\": 15}, \"zerolinecolor\": \"white\", \"zerolinewidth\": 2}}}, \"title\": {\"text\": \"PCA BBC Sport news\"}, \"xaxis\": {\"anchor\": \"y\", \"domain\": [0.0, 1.0], \"title\": {\"text\": \"x\"}}, \"yaxis\": {\"anchor\": \"x\", \"domain\": [0.0, 1.0], \"title\": {\"text\": \"y\"}}},                        {\"responsive\": true}                    ).then(function(){\n",
       "                            \n",
       "var gd = document.getElementById('1b9472a1-6935-45ba-8798-e873b7a0fe15');\n",
       "var x = new MutationObserver(function (mutations, observer) {{\n",
       "        var display = window.getComputedStyle(gd).display;\n",
       "        if (!display || display === 'none') {{\n",
       "            console.log([gd, 'removed!']);\n",
       "            Plotly.purge(gd);\n",
       "            observer.disconnect();\n",
       "        }}\n",
       "}});\n",
       "\n",
       "// Listen for the removal of the full notebook cells\n",
       "var notebookContainer = gd.closest('#notebook-container');\n",
       "if (notebookContainer) {{\n",
       "    x.observe(notebookContainer, {childList: true});\n",
       "}}\n",
       "\n",
       "// Listen for the clearing of the current output cell\n",
       "var outputEl = gd.closest('.output');\n",
       "if (outputEl) {{\n",
       "    x.observe(outputEl, {childList: true});\n",
       "}}\n",
       "\n",
       "                        })                };                });            </script>        </div>"
      ]
     },
     "metadata": {},
     "output_type": "display_data"
    }
   ],
   "source": [
    "hero.scatterplot(df, 'pca', color='topic', title=\"PCA BBC Sport news\")"
   ]
  },
  {
   "cell_type": "code",
   "execution_count": 21,
   "metadata": {},
   "outputs": [
    {
     "data": {
      "text/html": [
       "<div>\n",
       "<style scoped>\n",
       "    .dataframe tbody tr th:only-of-type {\n",
       "        vertical-align: middle;\n",
       "    }\n",
       "\n",
       "    .dataframe tbody tr th {\n",
       "        vertical-align: top;\n",
       "    }\n",
       "\n",
       "    .dataframe thead th {\n",
       "        text-align: right;\n",
       "    }\n",
       "</style>\n",
       "<table border=\"1\" class=\"dataframe\">\n",
       "  <thead>\n",
       "    <tr style=\"text-align: right;\">\n",
       "      <th></th>\n",
       "      <th>text</th>\n",
       "      <th>topic</th>\n",
       "      <th>tfidf</th>\n",
       "    </tr>\n",
       "  </thead>\n",
       "  <tbody>\n",
       "    <tr>\n",
       "      <th>0</th>\n",
       "      <td>Claxton hunting first major medal\\n\\nBritish h...</td>\n",
       "      <td>athletics</td>\n",
       "      <td>[0.0, 0.0, 0.0, 0.0, 0.0, 0.0, 0.0, 0.0, 0.0, ...</td>\n",
       "    </tr>\n",
       "    <tr>\n",
       "      <th>1</th>\n",
       "      <td>O'Sullivan could run in Worlds\\n\\nSonia O'Sull...</td>\n",
       "      <td>athletics</td>\n",
       "      <td>[0.0, 0.0, 0.0, 0.0, 0.0, 0.0, 0.0, 0.0, 0.0, ...</td>\n",
       "    </tr>\n",
       "    <tr>\n",
       "      <th>2</th>\n",
       "      <td>Greene sets sights on world title\\n\\nMaurice G...</td>\n",
       "      <td>athletics</td>\n",
       "      <td>[0.0, 0.0, 0.0, 0.0, 0.0, 0.0, 0.0533678197008...</td>\n",
       "    </tr>\n",
       "    <tr>\n",
       "      <th>3</th>\n",
       "      <td>IAAF launches fight against drugs\\n\\nThe IAAF ...</td>\n",
       "      <td>athletics</td>\n",
       "      <td>[0.0, 0.0, 0.0, 0.0, 0.0, 0.0, 0.0, 0.0, 0.0, ...</td>\n",
       "    </tr>\n",
       "    <tr>\n",
       "      <th>4</th>\n",
       "      <td>Dibaba breaks 5,000m world record\\n\\nEthiopia'...</td>\n",
       "      <td>athletics</td>\n",
       "      <td>[0.24734311047947527, 0.0, 0.0, 0.0, 0.0, 0.0,...</td>\n",
       "    </tr>\n",
       "    <tr>\n",
       "      <th>...</th>\n",
       "      <td>...</td>\n",
       "      <td>...</td>\n",
       "      <td>...</td>\n",
       "    </tr>\n",
       "    <tr>\n",
       "      <th>732</th>\n",
       "      <td>Agassi into second round in Dubai\\n\\nFourth se...</td>\n",
       "      <td>tennis</td>\n",
       "      <td>[0.0, 0.0, 0.0, 0.0, 0.0, 0.0, 0.0, 0.0, 0.0, ...</td>\n",
       "    </tr>\n",
       "    <tr>\n",
       "      <th>733</th>\n",
       "      <td>Mauresmo fights back to win title\\n\\nWorld num...</td>\n",
       "      <td>tennis</td>\n",
       "      <td>[0.0, 0.0, 0.0, 0.0, 0.0, 0.0, 0.0, 0.0, 0.0, ...</td>\n",
       "    </tr>\n",
       "    <tr>\n",
       "      <th>734</th>\n",
       "      <td>Federer wins title in Rotterdam\\n\\nWorld numbe...</td>\n",
       "      <td>tennis</td>\n",
       "      <td>[0.0, 0.0, 0.0, 0.0, 0.0, 0.0, 0.0, 0.0, 0.0, ...</td>\n",
       "    </tr>\n",
       "    <tr>\n",
       "      <th>735</th>\n",
       "      <td>GB players warned over security\\n\\nBritain's D...</td>\n",
       "      <td>tennis</td>\n",
       "      <td>[0.0, 0.0, 0.0, 0.0, 0.0, 0.0, 0.0, 0.0, 0.0, ...</td>\n",
       "    </tr>\n",
       "    <tr>\n",
       "      <th>736</th>\n",
       "      <td>Sharapova overcomes tough Molik\\n\\nWimbledon c...</td>\n",
       "      <td>tennis</td>\n",
       "      <td>[0.0, 0.0, 0.0, 0.0, 0.0, 0.0, 0.0, 0.0, 0.0, ...</td>\n",
       "    </tr>\n",
       "  </tbody>\n",
       "</table>\n",
       "<p>737 rows × 3 columns</p>\n",
       "</div>"
      ],
      "text/plain": [
       "                                                  text      topic  \\\n",
       "0    Claxton hunting first major medal\\n\\nBritish h...  athletics   \n",
       "1    O'Sullivan could run in Worlds\\n\\nSonia O'Sull...  athletics   \n",
       "2    Greene sets sights on world title\\n\\nMaurice G...  athletics   \n",
       "3    IAAF launches fight against drugs\\n\\nThe IAAF ...  athletics   \n",
       "4    Dibaba breaks 5,000m world record\\n\\nEthiopia'...  athletics   \n",
       "..                                                 ...        ...   \n",
       "732  Agassi into second round in Dubai\\n\\nFourth se...     tennis   \n",
       "733  Mauresmo fights back to win title\\n\\nWorld num...     tennis   \n",
       "734  Federer wins title in Rotterdam\\n\\nWorld numbe...     tennis   \n",
       "735  GB players warned over security\\n\\nBritain's D...     tennis   \n",
       "736  Sharapova overcomes tough Molik\\n\\nWimbledon c...     tennis   \n",
       "\n",
       "                                                 tfidf  \n",
       "0    [0.0, 0.0, 0.0, 0.0, 0.0, 0.0, 0.0, 0.0, 0.0, ...  \n",
       "1    [0.0, 0.0, 0.0, 0.0, 0.0, 0.0, 0.0, 0.0, 0.0, ...  \n",
       "2    [0.0, 0.0, 0.0, 0.0, 0.0, 0.0, 0.0533678197008...  \n",
       "3    [0.0, 0.0, 0.0, 0.0, 0.0, 0.0, 0.0, 0.0, 0.0, ...  \n",
       "4    [0.24734311047947527, 0.0, 0.0, 0.0, 0.0, 0.0,...  \n",
       "..                                                 ...  \n",
       "732  [0.0, 0.0, 0.0, 0.0, 0.0, 0.0, 0.0, 0.0, 0.0, ...  \n",
       "733  [0.0, 0.0, 0.0, 0.0, 0.0, 0.0, 0.0, 0.0, 0.0, ...  \n",
       "734  [0.0, 0.0, 0.0, 0.0, 0.0, 0.0, 0.0, 0.0, 0.0, ...  \n",
       "735  [0.0, 0.0, 0.0, 0.0, 0.0, 0.0, 0.0, 0.0, 0.0, ...  \n",
       "736  [0.0, 0.0, 0.0, 0.0, 0.0, 0.0, 0.0, 0.0, 0.0, ...  \n",
       "\n",
       "[737 rows x 3 columns]"
      ]
     },
     "execution_count": 21,
     "metadata": {},
     "output_type": "execute_result"
    }
   ],
   "source": [
    "############################################## kmeans\n",
    "\n",
    "\n",
    "import texthero as hero\n",
    "import pandas as pd\n",
    "\n",
    "df = pd.read_csv(\n",
    "    \"https://github.com/jbesomi/texthero/raw/master/dataset/bbcsport.csv\"\n",
    ")\n",
    "\n",
    "df['tfidf'] = (\n",
    "    df['text']\n",
    "    .pipe(hero.clean)\n",
    "    .pipe(hero.tfidf)\n",
    ")\n",
    "df"
   ]
  },
  {
   "cell_type": "code",
   "execution_count": 22,
   "metadata": {},
   "outputs": [
    {
     "name": "stderr",
     "output_type": "stream",
     "text": [
      "C:\\Users\\ANTHONY\\anaconda3\\lib\\site-packages\\sklearn\\cluster\\_kmeans.py:786: FutureWarning:\n",
      "\n",
      "'precompute_distances' was deprecated in version 0.23 and will be removed in 1.0 (renaming of 0.25). It has no effect\n",
      "\n",
      "C:\\Users\\ANTHONY\\anaconda3\\lib\\site-packages\\sklearn\\cluster\\_kmeans.py:792: FutureWarning:\n",
      "\n",
      "'n_jobs' was deprecated in version 0.23 and will be removed in 1.0 (renaming of 0.25).\n",
      "\n"
     ]
    },
    {
     "data": {
      "text/html": [
       "<div>\n",
       "<style scoped>\n",
       "    .dataframe tbody tr th:only-of-type {\n",
       "        vertical-align: middle;\n",
       "    }\n",
       "\n",
       "    .dataframe tbody tr th {\n",
       "        vertical-align: top;\n",
       "    }\n",
       "\n",
       "    .dataframe thead th {\n",
       "        text-align: right;\n",
       "    }\n",
       "</style>\n",
       "<table border=\"1\" class=\"dataframe\">\n",
       "  <thead>\n",
       "    <tr style=\"text-align: right;\">\n",
       "      <th></th>\n",
       "      <th>text</th>\n",
       "      <th>topic</th>\n",
       "      <th>tfidf</th>\n",
       "      <th>kmeans_labels</th>\n",
       "    </tr>\n",
       "  </thead>\n",
       "  <tbody>\n",
       "    <tr>\n",
       "      <th>0</th>\n",
       "      <td>Claxton hunting first major medal\\n\\nBritish h...</td>\n",
       "      <td>athletics</td>\n",
       "      <td>[0.0, 0.0, 0.0, 0.0, 0.0, 0.0, 0.0, 0.0, 0.0, ...</td>\n",
       "      <td>0</td>\n",
       "    </tr>\n",
       "    <tr>\n",
       "      <th>1</th>\n",
       "      <td>O'Sullivan could run in Worlds\\n\\nSonia O'Sull...</td>\n",
       "      <td>athletics</td>\n",
       "      <td>[0.0, 0.0, 0.0, 0.0, 0.0, 0.0, 0.0, 0.0, 0.0, ...</td>\n",
       "      <td>0</td>\n",
       "    </tr>\n",
       "    <tr>\n",
       "      <th>2</th>\n",
       "      <td>Greene sets sights on world title\\n\\nMaurice G...</td>\n",
       "      <td>athletics</td>\n",
       "      <td>[0.0, 0.0, 0.0, 0.0, 0.0, 0.0, 0.0533678197008...</td>\n",
       "      <td>0</td>\n",
       "    </tr>\n",
       "    <tr>\n",
       "      <th>3</th>\n",
       "      <td>IAAF launches fight against drugs\\n\\nThe IAAF ...</td>\n",
       "      <td>athletics</td>\n",
       "      <td>[0.0, 0.0, 0.0, 0.0, 0.0, 0.0, 0.0, 0.0, 0.0, ...</td>\n",
       "      <td>1</td>\n",
       "    </tr>\n",
       "    <tr>\n",
       "      <th>4</th>\n",
       "      <td>Dibaba breaks 5,000m world record\\n\\nEthiopia'...</td>\n",
       "      <td>athletics</td>\n",
       "      <td>[0.24734311047947527, 0.0, 0.0, 0.0, 0.0, 0.0,...</td>\n",
       "      <td>0</td>\n",
       "    </tr>\n",
       "    <tr>\n",
       "      <th>...</th>\n",
       "      <td>...</td>\n",
       "      <td>...</td>\n",
       "      <td>...</td>\n",
       "      <td>...</td>\n",
       "    </tr>\n",
       "    <tr>\n",
       "      <th>732</th>\n",
       "      <td>Agassi into second round in Dubai\\n\\nFourth se...</td>\n",
       "      <td>tennis</td>\n",
       "      <td>[0.0, 0.0, 0.0, 0.0, 0.0, 0.0, 0.0, 0.0, 0.0, ...</td>\n",
       "      <td>3</td>\n",
       "    </tr>\n",
       "    <tr>\n",
       "      <th>733</th>\n",
       "      <td>Mauresmo fights back to win title\\n\\nWorld num...</td>\n",
       "      <td>tennis</td>\n",
       "      <td>[0.0, 0.0, 0.0, 0.0, 0.0, 0.0, 0.0, 0.0, 0.0, ...</td>\n",
       "      <td>3</td>\n",
       "    </tr>\n",
       "    <tr>\n",
       "      <th>734</th>\n",
       "      <td>Federer wins title in Rotterdam\\n\\nWorld numbe...</td>\n",
       "      <td>tennis</td>\n",
       "      <td>[0.0, 0.0, 0.0, 0.0, 0.0, 0.0, 0.0, 0.0, 0.0, ...</td>\n",
       "      <td>3</td>\n",
       "    </tr>\n",
       "    <tr>\n",
       "      <th>735</th>\n",
       "      <td>GB players warned over security\\n\\nBritain's D...</td>\n",
       "      <td>tennis</td>\n",
       "      <td>[0.0, 0.0, 0.0, 0.0, 0.0, 0.0, 0.0, 0.0, 0.0, ...</td>\n",
       "      <td>1</td>\n",
       "    </tr>\n",
       "    <tr>\n",
       "      <th>736</th>\n",
       "      <td>Sharapova overcomes tough Molik\\n\\nWimbledon c...</td>\n",
       "      <td>tennis</td>\n",
       "      <td>[0.0, 0.0, 0.0, 0.0, 0.0, 0.0, 0.0, 0.0, 0.0, ...</td>\n",
       "      <td>3</td>\n",
       "    </tr>\n",
       "  </tbody>\n",
       "</table>\n",
       "<p>737 rows × 4 columns</p>\n",
       "</div>"
      ],
      "text/plain": [
       "                                                  text      topic  \\\n",
       "0    Claxton hunting first major medal\\n\\nBritish h...  athletics   \n",
       "1    O'Sullivan could run in Worlds\\n\\nSonia O'Sull...  athletics   \n",
       "2    Greene sets sights on world title\\n\\nMaurice G...  athletics   \n",
       "3    IAAF launches fight against drugs\\n\\nThe IAAF ...  athletics   \n",
       "4    Dibaba breaks 5,000m world record\\n\\nEthiopia'...  athletics   \n",
       "..                                                 ...        ...   \n",
       "732  Agassi into second round in Dubai\\n\\nFourth se...     tennis   \n",
       "733  Mauresmo fights back to win title\\n\\nWorld num...     tennis   \n",
       "734  Federer wins title in Rotterdam\\n\\nWorld numbe...     tennis   \n",
       "735  GB players warned over security\\n\\nBritain's D...     tennis   \n",
       "736  Sharapova overcomes tough Molik\\n\\nWimbledon c...     tennis   \n",
       "\n",
       "                                                 tfidf kmeans_labels  \n",
       "0    [0.0, 0.0, 0.0, 0.0, 0.0, 0.0, 0.0, 0.0, 0.0, ...             0  \n",
       "1    [0.0, 0.0, 0.0, 0.0, 0.0, 0.0, 0.0, 0.0, 0.0, ...             0  \n",
       "2    [0.0, 0.0, 0.0, 0.0, 0.0, 0.0, 0.0533678197008...             0  \n",
       "3    [0.0, 0.0, 0.0, 0.0, 0.0, 0.0, 0.0, 0.0, 0.0, ...             1  \n",
       "4    [0.24734311047947527, 0.0, 0.0, 0.0, 0.0, 0.0,...             0  \n",
       "..                                                 ...           ...  \n",
       "732  [0.0, 0.0, 0.0, 0.0, 0.0, 0.0, 0.0, 0.0, 0.0, ...             3  \n",
       "733  [0.0, 0.0, 0.0, 0.0, 0.0, 0.0, 0.0, 0.0, 0.0, ...             3  \n",
       "734  [0.0, 0.0, 0.0, 0.0, 0.0, 0.0, 0.0, 0.0, 0.0, ...             3  \n",
       "735  [0.0, 0.0, 0.0, 0.0, 0.0, 0.0, 0.0, 0.0, 0.0, ...             1  \n",
       "736  [0.0, 0.0, 0.0, 0.0, 0.0, 0.0, 0.0, 0.0, 0.0, ...             3  \n",
       "\n",
       "[737 rows x 4 columns]"
      ]
     },
     "execution_count": 22,
     "metadata": {},
     "output_type": "execute_result"
    }
   ],
   "source": [
    "### Kmeans\n",
    "\n",
    "df['kmeans_labels'] = (\n",
    "    df['tfidf']\n",
    "    .pipe(hero.kmeans, n_clusters=5)\n",
    "    .astype(str)\n",
    ")\n",
    "df"
   ]
  },
  {
   "cell_type": "code",
   "execution_count": 23,
   "metadata": {},
   "outputs": [
    {
     "data": {
      "text/html": [
       "<div>\n",
       "<style scoped>\n",
       "    .dataframe tbody tr th:only-of-type {\n",
       "        vertical-align: middle;\n",
       "    }\n",
       "\n",
       "    .dataframe tbody tr th {\n",
       "        vertical-align: top;\n",
       "    }\n",
       "\n",
       "    .dataframe thead th {\n",
       "        text-align: right;\n",
       "    }\n",
       "</style>\n",
       "<table border=\"1\" class=\"dataframe\">\n",
       "  <thead>\n",
       "    <tr style=\"text-align: right;\">\n",
       "      <th></th>\n",
       "      <th>text</th>\n",
       "      <th>topic</th>\n",
       "      <th>tfidf</th>\n",
       "      <th>kmeans_labels</th>\n",
       "      <th>pca</th>\n",
       "    </tr>\n",
       "  </thead>\n",
       "  <tbody>\n",
       "    <tr>\n",
       "      <th>0</th>\n",
       "      <td>Claxton hunting first major medal\\n\\nBritish h...</td>\n",
       "      <td>athletics</td>\n",
       "      <td>[0.0, 0.0, 0.0, 0.0, 0.0, 0.0, 0.0, 0.0, 0.0, ...</td>\n",
       "      <td>0</td>\n",
       "      <td>[-0.09103910550761089, 0.10356684917131087]</td>\n",
       "    </tr>\n",
       "    <tr>\n",
       "      <th>1</th>\n",
       "      <td>O'Sullivan could run in Worlds\\n\\nSonia O'Sull...</td>\n",
       "      <td>athletics</td>\n",
       "      <td>[0.0, 0.0, 0.0, 0.0, 0.0, 0.0, 0.0, 0.0, 0.0, ...</td>\n",
       "      <td>0</td>\n",
       "      <td>[-0.0003795819192241622, 0.02483718362868011]</td>\n",
       "    </tr>\n",
       "    <tr>\n",
       "      <th>2</th>\n",
       "      <td>Greene sets sights on world title\\n\\nMaurice G...</td>\n",
       "      <td>athletics</td>\n",
       "      <td>[0.0, 0.0, 0.0, 0.0, 0.0, 0.0, 0.0533678197008...</td>\n",
       "      <td>0</td>\n",
       "      <td>[-0.11763838135020763, 0.1286120989093525]</td>\n",
       "    </tr>\n",
       "    <tr>\n",
       "      <th>3</th>\n",
       "      <td>IAAF launches fight against drugs\\n\\nThe IAAF ...</td>\n",
       "      <td>athletics</td>\n",
       "      <td>[0.0, 0.0, 0.0, 0.0, 0.0, 0.0, 0.0, 0.0, 0.0, ...</td>\n",
       "      <td>1</td>\n",
       "      <td>[-0.09135644484656776, 0.15403021471233372]</td>\n",
       "    </tr>\n",
       "    <tr>\n",
       "      <th>4</th>\n",
       "      <td>Dibaba breaks 5,000m world record\\n\\nEthiopia'...</td>\n",
       "      <td>athletics</td>\n",
       "      <td>[0.24734311047947527, 0.0, 0.0, 0.0, 0.0, 0.0,...</td>\n",
       "      <td>0</td>\n",
       "      <td>[-0.0912738234836291, 0.13506116540756935]</td>\n",
       "    </tr>\n",
       "    <tr>\n",
       "      <th>...</th>\n",
       "      <td>...</td>\n",
       "      <td>...</td>\n",
       "      <td>...</td>\n",
       "      <td>...</td>\n",
       "      <td>...</td>\n",
       "    </tr>\n",
       "    <tr>\n",
       "      <th>732</th>\n",
       "      <td>Agassi into second round in Dubai\\n\\nFourth se...</td>\n",
       "      <td>tennis</td>\n",
       "      <td>[0.0, 0.0, 0.0, 0.0, 0.0, 0.0, 0.0, 0.0, 0.0, ...</td>\n",
       "      <td>3</td>\n",
       "      <td>[-0.06661255336697333, 0.10873872177933325]</td>\n",
       "    </tr>\n",
       "    <tr>\n",
       "      <th>733</th>\n",
       "      <td>Mauresmo fights back to win title\\n\\nWorld num...</td>\n",
       "      <td>tennis</td>\n",
       "      <td>[0.0, 0.0, 0.0, 0.0, 0.0, 0.0, 0.0, 0.0, 0.0, ...</td>\n",
       "      <td>3</td>\n",
       "      <td>[-0.04813327587986567, 0.05295308391699283]</td>\n",
       "    </tr>\n",
       "    <tr>\n",
       "      <th>734</th>\n",
       "      <td>Federer wins title in Rotterdam\\n\\nWorld numbe...</td>\n",
       "      <td>tennis</td>\n",
       "      <td>[0.0, 0.0, 0.0, 0.0, 0.0, 0.0, 0.0, 0.0, 0.0, ...</td>\n",
       "      <td>3</td>\n",
       "      <td>[-0.04971802329346726, 0.06026441076510926]</td>\n",
       "    </tr>\n",
       "    <tr>\n",
       "      <th>735</th>\n",
       "      <td>GB players warned over security\\n\\nBritain's D...</td>\n",
       "      <td>tennis</td>\n",
       "      <td>[0.0, 0.0, 0.0, 0.0, 0.0, 0.0, 0.0, 0.0, 0.0, ...</td>\n",
       "      <td>1</td>\n",
       "      <td>[-0.04875946458117527, 0.013815181948552118]</td>\n",
       "    </tr>\n",
       "    <tr>\n",
       "      <th>736</th>\n",
       "      <td>Sharapova overcomes tough Molik\\n\\nWimbledon c...</td>\n",
       "      <td>tennis</td>\n",
       "      <td>[0.0, 0.0, 0.0, 0.0, 0.0, 0.0, 0.0, 0.0, 0.0, ...</td>\n",
       "      <td>3</td>\n",
       "      <td>[-0.029112885201531356, 0.07151178175261609]</td>\n",
       "    </tr>\n",
       "  </tbody>\n",
       "</table>\n",
       "<p>737 rows × 5 columns</p>\n",
       "</div>"
      ],
      "text/plain": [
       "                                                  text      topic  \\\n",
       "0    Claxton hunting first major medal\\n\\nBritish h...  athletics   \n",
       "1    O'Sullivan could run in Worlds\\n\\nSonia O'Sull...  athletics   \n",
       "2    Greene sets sights on world title\\n\\nMaurice G...  athletics   \n",
       "3    IAAF launches fight against drugs\\n\\nThe IAAF ...  athletics   \n",
       "4    Dibaba breaks 5,000m world record\\n\\nEthiopia'...  athletics   \n",
       "..                                                 ...        ...   \n",
       "732  Agassi into second round in Dubai\\n\\nFourth se...     tennis   \n",
       "733  Mauresmo fights back to win title\\n\\nWorld num...     tennis   \n",
       "734  Federer wins title in Rotterdam\\n\\nWorld numbe...     tennis   \n",
       "735  GB players warned over security\\n\\nBritain's D...     tennis   \n",
       "736  Sharapova overcomes tough Molik\\n\\nWimbledon c...     tennis   \n",
       "\n",
       "                                                 tfidf kmeans_labels  \\\n",
       "0    [0.0, 0.0, 0.0, 0.0, 0.0, 0.0, 0.0, 0.0, 0.0, ...             0   \n",
       "1    [0.0, 0.0, 0.0, 0.0, 0.0, 0.0, 0.0, 0.0, 0.0, ...             0   \n",
       "2    [0.0, 0.0, 0.0, 0.0, 0.0, 0.0, 0.0533678197008...             0   \n",
       "3    [0.0, 0.0, 0.0, 0.0, 0.0, 0.0, 0.0, 0.0, 0.0, ...             1   \n",
       "4    [0.24734311047947527, 0.0, 0.0, 0.0, 0.0, 0.0,...             0   \n",
       "..                                                 ...           ...   \n",
       "732  [0.0, 0.0, 0.0, 0.0, 0.0, 0.0, 0.0, 0.0, 0.0, ...             3   \n",
       "733  [0.0, 0.0, 0.0, 0.0, 0.0, 0.0, 0.0, 0.0, 0.0, ...             3   \n",
       "734  [0.0, 0.0, 0.0, 0.0, 0.0, 0.0, 0.0, 0.0, 0.0, ...             3   \n",
       "735  [0.0, 0.0, 0.0, 0.0, 0.0, 0.0, 0.0, 0.0, 0.0, ...             1   \n",
       "736  [0.0, 0.0, 0.0, 0.0, 0.0, 0.0, 0.0, 0.0, 0.0, ...             3   \n",
       "\n",
       "                                               pca  \n",
       "0      [-0.09103910550761089, 0.10356684917131087]  \n",
       "1    [-0.0003795819192241622, 0.02483718362868011]  \n",
       "2       [-0.11763838135020763, 0.1286120989093525]  \n",
       "3      [-0.09135644484656776, 0.15403021471233372]  \n",
       "4       [-0.0912738234836291, 0.13506116540756935]  \n",
       "..                                             ...  \n",
       "732    [-0.06661255336697333, 0.10873872177933325]  \n",
       "733    [-0.04813327587986567, 0.05295308391699283]  \n",
       "734    [-0.04971802329346726, 0.06026441076510926]  \n",
       "735   [-0.04875946458117527, 0.013815181948552118]  \n",
       "736   [-0.029112885201531356, 0.07151178175261609]  \n",
       "\n",
       "[737 rows x 5 columns]"
      ]
     },
     "execution_count": 23,
     "metadata": {},
     "output_type": "execute_result"
    }
   ],
   "source": [
    "\n",
    "df['pca'] = df['tfidf'].pipe(hero.pca)\n",
    "\n",
    "df"
   ]
  },
  {
   "cell_type": "code",
   "execution_count": 24,
   "metadata": {},
   "outputs": [
    {
     "data": {
      "application/vnd.plotly.v1+json": {
       "config": {
        "plotlyServerURL": "https://chart-studio.plotly.com/"
       },
       "data": [
        {
         "hovertemplate": "kmeans_labels=0<br>x=%{x}<br>y=%{y}<extra></extra>",
         "legendgroup": "0",
         "marker": {
          "color": "#636efa",
          "symbol": "circle"
         },
         "mode": "markers",
         "name": "0",
         "orientation": "v",
         "showlegend": true,
         "type": "scatter",
         "x": [
          -0.09103910550761089,
          -0.0003795819192241622,
          -0.11763838135020763,
          -0.0912738234836291,
          -0.11036623652382337,
          -0.029012344783564802,
          -0.1289295095528826,
          -0.15758219508101728,
          -0.09577700192937717,
          -0.10788871764952765,
          -0.08960843807270434,
          -0.08053743830324764,
          -0.07797795910003968,
          -0.1052536791147573,
          -0.11127329019306542,
          -0.10788871764952765,
          -0.09688802808330078,
          -0.10719252149056105,
          -0.07460800430630339,
          -0.10882626475746894,
          -0.09929343621894822,
          -0.11473513498711775,
          -0.10918486656000924,
          -0.074363186749315,
          -0.04973406669176841,
          -0.13238001191251048,
          -0.13162807235254492,
          -0.10210331343122712,
          -0.10195522595743554,
          -0.07935471434374747,
          -0.06950638784291063,
          -0.09021396086279544,
          -0.0617677122357298,
          -0.0940707395121159,
          -0.09623749519024856,
          -0.09690710187042516,
          -0.10455570357176193,
          -0.1282675622266204,
          -0.13841744362558212,
          -0.1136965935927333,
          -0.10014098502133346,
          -0.11210805359257912,
          -0.06180650370966735,
          -0.12164416548491318,
          -0.06479860626885,
          -0.11008774712506088,
          -0.16009464983434857,
          -0.11229197477661457,
          -0.030275684427021846,
          -0.17671554550720506,
          -0.1072129886067983,
          -0.10585784679183556,
          -0.05920358995370069,
          -0.10766377394018672,
          -0.10505795384410489,
          -0.10488279845347,
          -0.06410073396487441,
          -0.014921625648422681,
          -0.0809602528533317,
          -0.06361227283427878,
          -0.0940707395121159,
          -0.0746958825709525,
          -0.08021120765649375,
          -0.08362124731571552,
          -0.09231821193563867,
          -0.08831865719426894,
          -0.1527278663301424,
          -0.1129399700035228,
          -0.10721809573909932,
          -0.13799847966585382
         ],
         "xaxis": "x",
         "y": [
          0.10356684917131087,
          0.02483718362868011,
          0.1286120989093525,
          0.13506116540756935,
          0.15748975620845448,
          0.07049284616071169,
          0.1707223705010578,
          0.24018111350372345,
          0.11525585637610304,
          0.10877484076330864,
          0.11718869709084219,
          0.04882268797209448,
          0.13012265132718276,
          0.177006867873133,
          0.13514813864248798,
          0.10877484076330864,
          0.1575846534980404,
          0.13092648752925945,
          0.11129525996744664,
          0.15288210034140445,
          0.15871777342315627,
          0.13613007819456988,
          0.1611199065476952,
          0.10386979819093262,
          0.07712750907983174,
          0.2082228577874158,
          0.15879931948397574,
          0.13614347119977369,
          0.08938272578210327,
          0.08373064391600135,
          0.09685246981300089,
          0.12550182466799828,
          0.12043353337360027,
          0.15294507165869056,
          0.11287072999936808,
          0.13832059589276788,
          0.1336916792308029,
          0.15054241003837315,
          0.16413748992272756,
          0.08922605099110564,
          0.13710435121660666,
          0.15026833051799382,
          0.08603076087489721,
          0.15606868966424103,
          0.10153792261624359,
          0.1316172515400725,
          0.29472090494815756,
          0.15613356348006288,
          0.0813966082088993,
          0.24982596973291454,
          0.08379353259722366,
          0.11817543292741318,
          0.06551631018480716,
          0.08485690516259445,
          0.12848394259645257,
          0.18547326700046382,
          0.10179803478582225,
          0.05041272051526748,
          0.11177320821061439,
          0.10781193341276377,
          0.15294507165869056,
          0.10397715710234486,
          0.09757119835112668,
          0.12022561157804247,
          0.09763602408904379,
          0.11291301708887003,
          0.22073994017922588,
          0.12441240506592761,
          0.15188948261551982,
          0.17962866334314595
         ],
         "yaxis": "y"
        },
        {
         "hovertemplate": "kmeans_labels=1<br>x=%{x}<br>y=%{y}<extra></extra>",
         "legendgroup": "1",
         "marker": {
          "color": "#EF553B",
          "symbol": "circle"
         },
         "mode": "markers",
         "name": "1",
         "orientation": "v",
         "showlegend": true,
         "type": "scatter",
         "x": [
          -0.09135644484656776,
          -0.042971309267160106,
          -0.0859103245642844,
          -0.0893099355983769,
          -0.05478141742014741,
          -0.05794548416815784,
          -0.056417175349887175,
          -0.0942172066826906,
          -0.08167956091619255,
          -0.054810713501518,
          -0.054810713501518,
          -0.06999316983484456,
          -0.07756507700300899,
          -0.02261797584642835,
          -0.04431635648789244,
          -0.06300357502020154,
          -0.05847381895990417,
          -0.026179578606853573,
          -0.033522280146898904,
          0.028392042992699852,
          -0.04700845903583358,
          -0.11374500065705205,
          -0.08355306561209835,
          -0.09691584489776929,
          0.07291107707238323,
          -0.033743936354866694,
          -0.07628286375408488,
          -0.19875390488729527,
          -0.10016185636599449,
          -0.12667902935179795,
          -0.006061878936740368,
          -0.016382243191611516,
          -0.011327936340747937,
          -0.0019262361091359741,
          -0.005054285676592508,
          -0.0549296782605087,
          -0.1231846114087734,
          -0.17124712265438108,
          -0.004573546892576803,
          -0.04139965778802683,
          -0.038051037646816846,
          -0.04711733716560323,
          -0.05174227894186956,
          -0.1382780439826782,
          -0.023966048766680986,
          -0.01105793759889288,
          -0.17136934667858808,
          -0.10756359606721287,
          0.0049203710191792075,
          -0.0675746077733759,
          -0.13747775473061447,
          -0.06459649047149392,
          -0.01713202399165899,
          0.01641047797068804,
          0.006778301270436877,
          -0.05994949710675419,
          -0.043195126374872765,
          0.0029291040198000462,
          0.014947046866453475,
          0.021589150886534694,
          -0.031365379808917175,
          -0.059981906494457185,
          -0.07748016305106918,
          -0.06596234950734538,
          -0.06367416970556257,
          -0.10987326315856055,
          -0.14864447693622262,
          -0.048702779531631005,
          -0.056417670580841406,
          -0.0869232496914891,
          -0.024245455457710993,
          -0.026933309107190124,
          -0.04027502540603358,
          -0.0540356441343905,
          -0.047635611301805374,
          -0.04751506660441395,
          -0.055184824764821075,
          -0.10680101817701182,
          -0.06073118688052486,
          -0.12693999670393577,
          -0.08858762356927075,
          -0.07395528347866243,
          -0.11307161795790552,
          -0.09678184828802966,
          -0.184919042820049,
          -0.05510978086614786,
          -0.08304723562685601,
          -0.05011170754742632,
          -0.07072249364624908,
          -0.05944789345299658,
          -0.08765760060120005,
          -0.066051871666326,
          -0.10992149112185783,
          -0.1324394879457739,
          -0.20221281365129695,
          -0.08615309684867199,
          -0.03332330231946237,
          -0.07563564924702629,
          -0.008576493921185683,
          -0.12724174812144667,
          -0.0764141868854849,
          -0.0753058125746263,
          -0.1826519864014293,
          -0.08676394985077449,
          -0.05196292037588253,
          -0.07315684903983352,
          -0.1304053707897574,
          -0.1304053707897574,
          -0.14939855520809545,
          -0.11801730403213156,
          -0.03606384901938638,
          -0.08002171572537543,
          -0.07812034073469992,
          -0.10677209590380389,
          -0.07585909384479271,
          0.02201685793060152,
          -0.038441668779784284,
          -0.09029614403123902,
          -0.10606738226655424,
          -0.05024052928604532,
          -0.07607441072631434,
          -0.11803288853856284,
          -0.09972783863981502,
          -0.11971521419788046,
          -0.14079848651740534,
          -0.0687401959372957,
          -0.12771720952609,
          -0.05121903488083846,
          -0.07088609935001547,
          -0.049283074904325666,
          -0.05979268930623599,
          -0.1168880497192021,
          -0.04541018775232334,
          -0.054599620319945336,
          -0.16293668376956805,
          -0.04031434983466317,
          -0.11224966811111574,
          -0.03193353534381118,
          -0.025508992382134853,
          -3.3996213752584674e-05,
          -0.014134049866713879,
          -0.032439355548028924,
          -0.021899413973419664,
          -0.17497101155663386,
          0.01704869789018945,
          -0.0617160963810657,
          -0.051554631171997906,
          -0.046352577098238,
          -0.0948937125767786,
          -0.020859944456167078,
          0.005108950155309136,
          -0.03896906151452797,
          -0.11310268401903814,
          -0.11355595599576092,
          -0.06050239776667653,
          -0.0545559848155992,
          -0.13237265144879742,
          -0.03259417961728339,
          -0.057683475240889674,
          -0.06951884941374789,
          -0.13111028462597565,
          -0.10569328065503832,
          -0.1164094067067771,
          -0.0956441775113834,
          -0.1309971936014173,
          -0.01803793552282126,
          -0.06382736787406958,
          -0.1008440779315314,
          -0.1936042005410829,
          -0.06322818130066835,
          -0.05285926782948509,
          -0.11589945365132594,
          -0.05110910367635864,
          -0.09777651297797663,
          -0.07213310348372001,
          -0.0569170719898128,
          -0.07895023446029854,
          -0.14661996511302575,
          -0.04457670567156597,
          -0.1137131754629507,
          -0.14661996511302575,
          -0.06709578191332158,
          -0.06844677455131598,
          -0.06844677455131598,
          -0.09292729044832404,
          -0.06935012625308341,
          -0.060287172349491054,
          -0.05178119825735523,
          -0.03615688983376606,
          -0.060191559753590834,
          -0.08723003612204128,
          -0.13341985388727148,
          -0.0724240728731424,
          -0.04058218364540622,
          -0.04006056239041597,
          -0.060355827526619776,
          -0.07180131389125913,
          -0.1565770829137513,
          -0.07460793074698722,
          -0.16990564656542212,
          -0.09025546108287534,
          -0.05517379808265603,
          -0.04014003098150518,
          -0.061634574479873444,
          -0.08167165721991572,
          -0.1283186838759778,
          -0.08669414126280907,
          -0.09586298719435805,
          -0.07984495318175602,
          -0.1611707690549966,
          -0.15686961977854774,
          -0.11919679930138764,
          -0.07907652855703838,
          -0.07284445623311793,
          -0.059065767435847606,
          0.005121084180372354,
          -0.03689641541152672,
          -0.1008689609616222,
          -0.0765987498377967,
          -0.06769317639939475,
          -0.05359655391066749,
          -0.19572254684945448,
          -0.055185726825772066,
          -0.06538812486426922,
          -0.07690700712684598,
          -0.042750095459093314,
          -0.20020059540904458,
          -0.05199794363479387,
          -0.144573475460606,
          -0.08355306561209835,
          -0.06635624552824317,
          -0.0777574387245596,
          -0.035380765059830746,
          -0.047443761180086294,
          -0.12162908024837356,
          -0.07008575379373823,
          -0.03021029742245173,
          -0.05992894054302153,
          -0.022892060434382272,
          0.002503907839246997,
          -0.13383908472978703,
          -0.005717344074768248,
          -0.10058740960114099,
          -0.03259124297189411,
          -0.04229352123495623,
          -0.09709584061481097,
          -0.032331923028184606,
          -0.08204876814901774,
          -0.18135304782290695,
          -0.12585020538321667,
          -0.06024996645991075,
          -0.08690519192784453,
          -0.0917618506683324,
          -0.06033219028993186,
          -0.04885644794218011,
          -0.02454244806043769,
          -0.08930856166577118,
          -0.06681127347959519,
          -0.18559749084659838,
          -0.11393717021930122,
          -0.12258277540938559,
          -0.0640365389643458,
          -0.172565411662886,
          -0.08053440817454306,
          -0.13001361406238318,
          -0.07565235910723495,
          -0.02533894535338435,
          -0.04544100582710045,
          -0.057958098058194796,
          -0.1491868669651435,
          -0.07928877412567513,
          -0.12638471707972557,
          -0.07896334787565258,
          -0.04087343478232893,
          -0.03992200190152043,
          -0.05492983385913665,
          -0.10152009017801573,
          -0.009485066399428336,
          -0.05166574429096684,
          -0.08297344992791979,
          -0.021673202674167048,
          -0.09852297960085014,
          -0.06487347693316378,
          -0.03568194725621862,
          -0.0028080028950055068,
          0.040038068954742004,
          0.009770366289482331,
          0.03812968341618787,
          0.02736753701581169,
          -0.00892864503190104,
          -0.007435453303538759,
          0.034856276490822936,
          0.025300467253010033,
          0.03650304931303421,
          0.04710037621144046,
          -0.024862561142369757,
          0.004163836892795462,
          -0.0020699943560128034,
          0.025097892248605834,
          -0.016525445197359167,
          0.02116536983738577,
          0.05783970753249063,
          0.06380294595473064,
          0.01516493467675812,
          0.04473646898095843,
          0.022411585714974033,
          0.002115527573142,
          -0.05515092634136119,
          -0.05396889881916171,
          0.028878129275721018,
          0.027168348147127413,
          -0.040726250696090434,
          0.0639027106449677,
          -0.0021845127088552588,
          -0.031207733006334688,
          -0.021905025247178113,
          -0.04799964604558507,
          0.04605576739603859,
          -0.06650453022705471,
          -0.05785200307317188,
          -0.04875946458117527
         ],
         "xaxis": "x",
         "y": [
          0.15403021471233372,
          0.03469248202992353,
          0.18006394701756542,
          0.1692178109215139,
          0.12911849068615391,
          0.12289839418721726,
          0.07945426396013598,
          0.1599325977643231,
          0.1133654272096371,
          0.1346191474958011,
          0.1346191474958011,
          0.13423626840149674,
          0.10336573733350776,
          0.013240481589695815,
          0.05653147581076235,
          0.017585925588007444,
          0.11547043058137248,
          0.06442125279723011,
          0.0628340348752938,
          -0.004305205813111828,
          -0.08565821347415419,
          -0.11606398040514242,
          -0.06960712706409333,
          -0.06801167819115525,
          -0.061951199911479654,
          -0.009022673699010244,
          -0.09498778403377268,
          -0.21805804280881266,
          -0.12008898587814416,
          -0.1664810429569868,
          -0.056141517784149754,
          -0.04581904069922581,
          -0.04287814286565932,
          -0.02706423962182255,
          -0.017946990254996614,
          -0.0584157103689756,
          -0.19949669666933328,
          -0.17047295006639293,
          -0.04526936527070415,
          -0.043382974719428,
          -0.10408038050585436,
          -0.033532594577625516,
          -0.015590338347735738,
          -0.12696031287339568,
          -0.12849529701259207,
          -0.07953110025254154,
          -0.17019861872250927,
          -0.12203925566453393,
          -0.0709252175890515,
          -0.03291310319901599,
          -0.14226495053888713,
          -0.0784140032053948,
          -0.014450964346957496,
          -0.04266041776182259,
          -0.049396794925254874,
          -0.008995305774749697,
          0.014930559813603255,
          -0.020018274900351456,
          -0.11201979886834107,
          -0.009750126630507184,
          -0.020268909301629105,
          0.036763248994224576,
          -0.0743564586191367,
          -0.05798399271349656,
          -0.08280253103274049,
          -0.10117147772489568,
          -0.1732723450467767,
          -0.14270768279977794,
          -0.033947476108475726,
          -0.08121157688056267,
          -0.051409589786290566,
          -0.018766774384766795,
          -0.03148238187243017,
          -0.007446755817409897,
          0.006445988105791825,
          -0.08565566081459403,
          -0.11056478013716595,
          -0.11064101647563891,
          -0.013242985271378573,
          -0.08889996936938009,
          -0.11302916327204526,
          -0.07771288896024715,
          -0.11363807361111508,
          -0.06947865165045869,
          -0.2414294270209802,
          -0.11230283403464257,
          -0.057124225848313115,
          -0.058406853051655015,
          -0.07274073274229563,
          -0.028217133278647992,
          -0.0737948474068737,
          -0.03493173018364231,
          -0.09073935817603045,
          -0.08551329761411794,
          -0.18274194378664563,
          -0.0058809879016321264,
          -0.005040527200616728,
          -0.06800562853824378,
          0.013593599591022569,
          -0.0815663313016779,
          -0.01904268659778534,
          -0.07480665917385891,
          -0.1653113465156603,
          -0.06494648119961267,
          -0.06250823010366484,
          -0.10419075178312895,
          -0.14156092903010842,
          -0.14156092903010842,
          -0.15598356856453335,
          -0.12298717934972182,
          -0.03899259562804462,
          -0.061320080716451036,
          -0.047579961304324264,
          -0.08022543017486018,
          -0.06009267468497505,
          0.03817662352460501,
          -0.005933923854377353,
          -0.09586341298269696,
          -0.05618122098277594,
          -0.013171449781870707,
          -0.06938180518457163,
          -0.10495929516297958,
          -0.06981707693571634,
          -0.09721051258331352,
          -0.0009632914713924168,
          -0.08907161797843174,
          -0.05059259719534238,
          -0.020860788297433354,
          -0.01680247112962651,
          0.004652511111616973,
          -0.06741211943998825,
          -0.08671968891382441,
          -0.025476033538231104,
          -0.07612950294929487,
          -0.17248601909000624,
          -0.005469093649389511,
          -0.06933143869555208,
          -0.04685139770106738,
          -0.007838228739290312,
          0.010169487569299529,
          0.0018518818849893603,
          -0.07640408808220758,
          -0.08117596884798671,
          -0.2000978657610439,
          -0.006347543545087473,
          -0.029938822106710648,
          -0.04172323160831379,
          -0.06716303689876287,
          -0.13548236885969475,
          0.011175214141721896,
          0.0003107550863944594,
          -0.055754750415323254,
          -0.12259005484524409,
          -0.1444393645056032,
          -0.0688784993862421,
          -0.026427280721323086,
          -0.14889761970744747,
          -0.05581555527118725,
          -0.03384518676299669,
          -0.003993771732994283,
          -0.1499686144757936,
          -0.1591742647540087,
          -0.0943076278155324,
          -0.1197818033981105,
          -0.13246906165450273,
          -0.05341673565567355,
          0.043191718163389944,
          -0.08905730749567685,
          -0.19759982156061,
          -0.050551876306607055,
          -0.037236913578197896,
          -0.13665099793985122,
          -0.06686829551948963,
          -0.11074611237791536,
          -0.035369963582409486,
          -0.06462207270551866,
          -0.03979610250500531,
          -0.1671823564685688,
          0.0017295473668186884,
          -0.09191590079644227,
          -0.1671823564685688,
          -0.054890214386565245,
          -0.014214429600496192,
          -0.014214429600496192,
          -0.09686233484119994,
          -0.06504709406407999,
          -0.03243844734925203,
          -0.001158386660355345,
          -0.05180701156798823,
          -0.03353937920966956,
          -0.029033770192563882,
          -0.10617219474668839,
          -0.09210083752213884,
          -0.08668445972076512,
          -0.06583162193388738,
          -0.07169292997457846,
          0.018289560439825662,
          -0.09429866520436067,
          -0.04773912053374361,
          -0.19754215466049052,
          -0.066926652878544,
          -0.03072541702929377,
          -0.020362570925910643,
          -0.0900627175938319,
          -0.06365337113693345,
          -0.1370649067467327,
          -0.12925225454688255,
          -0.111445843767684,
          -0.11838852053135303,
          -0.13177867243178554,
          -0.19396578253522512,
          -0.16891482022175955,
          -0.09039463386916341,
          -0.09276551166637131,
          -0.033955647077663166,
          -0.03752172290910352,
          0.005472070069019667,
          -0.14904774205808685,
          -0.17769266358684538,
          -0.15003147929313798,
          -0.06214405240495064,
          -0.2482827420799049,
          -0.07292431535577484,
          -0.06567722182445428,
          -0.11679153957682636,
          -0.02682970735865473,
          -0.21828656640154914,
          -0.04286132402574207,
          -0.17275514123209643,
          -0.06960712706409333,
          -0.12638940728100176,
          -0.12788034572739965,
          -0.029500022305964945,
          -0.05553591978446912,
          -0.13729004995173702,
          -0.09129192562908572,
          -0.010796443951708312,
          -0.061741816806230566,
          -0.01008579870032611,
          0.009119996885005635,
          -0.1863074993771686,
          -0.05290727678671018,
          -0.0631504170721694,
          -0.00024074589920665027,
          -0.008279287874789747,
          -0.11868768703122538,
          -0.012607791549788321,
          -0.05830712777254144,
          -0.18851633338517332,
          -0.10166609447522598,
          0.05198293560084877,
          -0.05741409980057432,
          -0.06489959976991173,
          -0.03866571432556311,
          -0.014900845057695448,
          -0.08406440847880922,
          -0.0927274095836161,
          -0.0846013158743776,
          -0.16907239874087646,
          -0.13189972938406128,
          -0.10814754218586663,
          -0.0243200051093139,
          -0.20357799942745566,
          -0.03523270594889952,
          -0.11500372705822438,
          -0.06440245799662209,
          -0.07013429267800896,
          0.02361584772819958,
          -0.09670037372845895,
          -0.1525331423353144,
          -0.09428515463846958,
          -0.12246980620101158,
          -0.09488570361799593,
          -0.05342915365869435,
          -0.010823890859204068,
          0.023222037068926202,
          -0.006704098771160117,
          0.031082265749108155,
          -0.043594341044585566,
          -0.11107211146445205,
          -0.02288401514944525,
          -0.10887151304227471,
          -0.028461353925366598,
          -0.022228171743351077,
          -0.020943128596673043,
          -0.04251518650996677,
          -0.05573382204416671,
          -0.03987885248732893,
          -0.09786460260362315,
          -0.01250982766840926,
          0.019361790301014373,
          -0.05413427112641913,
          0.0065953563533536885,
          0.00793301980139841,
          -0.024669687550145723,
          -0.026581971247495593,
          -0.02586449470060712,
          -0.05010787901806099,
          -0.027341681928070835,
          -0.02494687483298944,
          -0.007960548141691323,
          -0.021508207229428474,
          -0.018727566685241812,
          -0.016126046674231058,
          0.008402695002346776,
          -0.0811168658675514,
          -0.07232423760079894,
          -0.030528511239146888,
          -0.03156256639594858,
          -0.02569276562682402,
          -0.01960240322228708,
          -0.05769408917357364,
          -0.013210956565099912,
          -0.06533649988046768,
          -0.054932154312795925,
          -0.07854556337659266,
          -0.04055699876321038,
          -0.04322594491244453,
          0.011685889836300312,
          0.027221616180617962,
          0.013815181948552118
         ],
         "yaxis": "y"
        },
        {
         "hovertemplate": "kmeans_labels=4<br>x=%{x}<br>y=%{y}<extra></extra>",
         "legendgroup": "4",
         "marker": {
          "color": "#00cc96",
          "symbol": "circle"
         },
         "mode": "markers",
         "name": "4",
         "orientation": "v",
         "showlegend": true,
         "type": "scatter",
         "x": [
          -0.1204911470949914,
          -0.14088064756184665,
          -0.14570135811327964,
          -0.15105343330129617,
          -0.11259024646722038,
          -0.12703770805598846,
          -0.12119341280329,
          -0.1280927211737085,
          -0.14345863597709735,
          -0.13532684957495666,
          -0.1304196694402481,
          -0.14640932972222048,
          -0.1278428237390985,
          -0.13198579570313795,
          0.2533924189028863,
          0.21415030751242392,
          0.22602051724323766,
          0.21745034750715458,
          0.11987349390709595,
          0.13977497698522412,
          0.12125450999124807,
          0.10649303149522497,
          0.14946162638002236,
          0.10169850855709345,
          0.12015167868447804,
          0.05253328588720641,
          0.3133223422059826,
          0.06331970904797997,
          0.20981286977912592,
          0.0321764260724734,
          0.06161083054476734,
          0.14889233766778517,
          0.22551357136557107,
          0.175980018552046,
          0.06161083054476734,
          0.18915153650216174,
          0.13949118464438176,
          0.1620851395464489,
          0.07280165816487101,
          0.21486285325149831,
          0.23012011789848547,
          0.21144530438124784,
          0.13966540781958245,
          0.10524304028239291,
          0.2521128510325121,
          0.1620851395464489,
          0.07280165816487101,
          0.1922068315316258,
          0.09281049664612774,
          0.11193791308046414,
          0.081843444908479,
          0.1645096684044667,
          0.11113835901426118,
          0.18272202602471993,
          0.1295218394084132,
          0.24580224862672723,
          0.2507616934423082,
          0.214384499394349,
          0.26283362535367527,
          0.16642012018093452,
          0.06135338898964832,
          0.19770016091408685,
          0.13310071720217556,
          0.18830689246701934,
          0.031017462227162496,
          0.2656786912098645,
          0.26619070471076584,
          0.23016185592357122,
          0.12793299400644184,
          0.22402753815970164,
          0.11953390796271048,
          0.05635626744738601,
          0.20609552373831566,
          0.16760030222008732,
          0.1674758056884956,
          0.2296797227879048,
          0.2978796264644154,
          0.2087836237439241,
          0.15760317850043418,
          0.12862203701854347,
          0.1926754703464316,
          0.3710636874840431,
          0.13073619123512434,
          0.2574028155065093,
          0.34170921765438944,
          0.1553035999934518,
          0.30496485466650775,
          0.24925652467693815,
          0.351336831955621,
          0.1959743628648489,
          0.16899051136460205,
          0.061882450579806174,
          0.18962847316949866,
          0.24688340147531476,
          0.17389473413275255,
          0.2754447074390739,
          0.32691744222893754,
          0.32739235881028833,
          0.1047289357895285,
          0.2663760752426416,
          0.27971509038959863,
          0.28300500125961464,
          0.27693926357802073,
          0.13894325858096965,
          0.08982764431683604,
          0.2074076741639682,
          0.031067239220155276,
          0.1452881038122895,
          0.17699261907060856,
          0.11102575277251062,
          0.17788631386166734,
          0.1003120444205015,
          0.1684763721710378,
          0.08760851316842902,
          0.017372094140908744,
          0.08966398133908927,
          0.09364716128438422,
          0.06732019358308768,
          0.047099151462844206,
          0.20536689934474547,
          0.038976395304805206,
          0.2861123381495744,
          0.20409609581867647,
          0.11375295787054397,
          0.16621210365200118,
          0.1296997108464845,
          0.10120339961223411,
          0.20865495655789246,
          0.11364899240710272,
          0.2311595859194354,
          0.10363077652121101,
          0.13481179524313106,
          0.08425444755177364,
          0.11014095792196281,
          0.11959404956361433
         ],
         "xaxis": "x",
         "y": [
          0.3315990799761282,
          0.33402970382159825,
          0.3346298565514344,
          0.3368643215116667,
          0.2588499036357181,
          0.3035704744306504,
          0.3225468275737997,
          0.3440726974744462,
          0.3147339753510246,
          0.32717202788308225,
          0.27811294605819914,
          0.3430864442123762,
          0.3381712863491219,
          0.3084577461625115,
          0.11890567491554312,
          0.05717442295283905,
          0.0969407182968127,
          0.17765703188320925,
          0.008950218886109626,
          0.028531803670906793,
          0.10690101554663912,
          0.07313244725798425,
          0.1465286142527684,
          0.05933191944451019,
          0.10363874105273438,
          -0.006224101818105906,
          0.07153989037038253,
          0.028392959608578034,
          0.07520428425584225,
          0.0018910365326312453,
          0.06376889192425128,
          0.04711160647711501,
          0.06441039093227258,
          0.03176783736392018,
          0.06376889192425128,
          0.1712947866840235,
          0.11013009779867158,
          0.1401438704266935,
          0.11241751804593579,
          0.17332214344856134,
          0.0909391102193252,
          0.13314337438884416,
          0.10985294646584849,
          0.03176346193712109,
          0.07437986998179794,
          0.1401438704266935,
          0.11241751804593579,
          0.17626309595299755,
          0.07625740928056497,
          0.04338018501074776,
          0.09419699027241508,
          0.09448423781020641,
          0.06096929384993635,
          0.04121658307851832,
          0.12262212972174386,
          0.030915355400870065,
          0.059939771671755966,
          0.16259716755565512,
          0.17558109847300518,
          0.09041343121663163,
          0.07763442818104242,
          0.03502434622234026,
          0.06966783262047228,
          0.05028728709896542,
          0.008398109153306145,
          0.11461855928098601,
          0.1156957442252078,
          0.156390300650767,
          0.11067553943299278,
          0.11069008551111043,
          0.1019460782420308,
          0.08050840166961039,
          0.11237591635497075,
          0.16217757941973873,
          0.16167435049862391,
          0.16564949293944078,
          0.017425355152582204,
          0.05457601288958884,
          0.15500674151304175,
          0.07707516408424336,
          0.027011284441062527,
          0.06915153107511894,
          0.028441688230245656,
          0.2063351834703032,
          0.016510890802110312,
          0.0978712864487532,
          0.07115859784594906,
          0.20305177058019913,
          0.06692239437735296,
          -0.0002699834660605897,
          0.13890923155243937,
          0.05948565446202056,
          0.038760412258328276,
          0.06031265381431698,
          0.12898101478148144,
          0.17867199430002445,
          0.06350688527769151,
          0.06615867631423279,
          0.09641406656146063,
          0.21430418545975483,
          0.20446523404292122,
          0.20605940112409574,
          0.018836229974077634,
          0.11347254143061739,
          0.05057352380330354,
          0.0603120088320356,
          0.07000295238851882,
          0.015817232755805957,
          0.028824350889189134,
          -0.019373590200976374,
          0.1280854272443871,
          0.053887343420270004,
          0.13660900623655756,
          0.07628728155883237,
          0.06483473311697568,
          0.06613977091247554,
          0.12308831784273953,
          0.06446316843611147,
          0.057167809400364325,
          0.03142900455872662,
          0.01197308940626972,
          0.022270186792669757,
          0.12200937444598021,
          0.10744451132520776,
          0.11707504889825197,
          0.12295652271878822,
          0.07422029059426029,
          0.027550674556048815,
          0.0494491811593446,
          0.021536070438989915,
          0.07442778177120886,
          0.10311817066687878,
          -0.0021611744064849617,
          -0.041777487805944875,
          0.08198831930736498
         ],
         "yaxis": "y"
        },
        {
         "hovertemplate": "kmeans_labels=2<br>x=%{x}<br>y=%{y}<extra></extra>",
         "legendgroup": "2",
         "marker": {
          "color": "#ab63fa",
          "symbol": "circle"
         },
         "mode": "markers",
         "name": "2",
         "orientation": "v",
         "showlegend": true,
         "type": "scatter",
         "x": [
          0.13160834641204971,
          0.19126503196897549,
          0.13727831717032626,
          0.05717043905532985,
          0.06665051322259942,
          0.15154535074962527,
          0.13508399290105683,
          0.1286927031134605,
          0.10035445088968081,
          0.060524664955092566,
          0.08265100322453353,
          0.03045774397160352,
          0.15788277248230626,
          0.1967067628124397,
          0.08507449303396845,
          0.15889850884751028,
          0.1524171212167213,
          0.16233052440142007,
          0.09140926779566703,
          0.06235964722131084,
          0.0935821499141307,
          0.14891561682953403,
          0.13536915493214602,
          0.18687817414511745,
          0.22281606270829543,
          0.10960731371346322,
          0.15605380419037118,
          0.21107885269973342,
          0.061977894722795704,
          0.040476102064458466,
          0.2116461260396561,
          0.18236134729602788,
          0.2788224477552344,
          0.13894651856580453,
          0.04425867238538044,
          0.12288460814559009,
          0.12156367771249037,
          0.13726976157320936,
          0.2396953521450807,
          0.10407599630426792,
          0.1326427108153201,
          0.18313515821385426,
          0.09506676721012058,
          0.12655846322930636,
          0.11125135874573464,
          0.13415334912987048,
          0.2688248421190564,
          0.12773585766447365,
          0.07005003775939407,
          0.20728571818641742,
          0.10940547750819726,
          0.10407599630426792,
          0.14111401459072162,
          0.0640283427586216,
          0.10094464488504042,
          0.10407902838333061,
          0.15168731659086573,
          0.211880797550577,
          0.10302894726913903,
          0.04504546348232535,
          0.03883395445251101,
          0.11937607707761386,
          0.14630894486504456,
          0.0672016670957286,
          0.08643557337341863,
          0.05883771143757553,
          0.057346174999499386,
          0.053340942907274716,
          0.09020983272051201,
          0.05779303651986944,
          0.1729986729930184,
          0.09532266380570187,
          0.1190683931053062,
          0.17193857351503333,
          0.20455484753504038,
          0.1188814682164801,
          0.05128929037135215,
          0.1763181355147526,
          0.1092566285020632,
          0.06599003432458331,
          0.09400715586570092,
          0.1627358356062372,
          0.13235517795993612,
          0.13202346977666252,
          0.12983637649600838,
          0.1126316934935196,
          0.03562236719046354,
          0.04510896089855047,
          0.08235924375475254,
          0.18431210326390365,
          0.052340136100338386,
          0.1302301674488303,
          0.13861216472128157,
          0.09662337530944906,
          0.11032262031056381,
          0.11751702610277803,
          0.143885699286542,
          0.1806300388931683,
          0.15127495694517126,
          0.262700273401434,
          0.15160544629559336,
          0.15176397316331128,
          0.09506676721012058,
          0.11918886187795928,
          0.11905727659435604,
          0.03634446000446192,
          0.12711250779802205,
          0.06981728230752846,
          0.22530016621564614,
          0.14060222025399916,
          0.22350559957127367,
          0.1243198225824949,
          0.13714488547164314,
          0.08034610343880032
         ],
         "xaxis": "x",
         "y": [
          -0.1803951794743686,
          -0.20531439038222193,
          -0.16537286383269148,
          -0.049331626867793126,
          -0.10294870491081051,
          -0.20097763119998457,
          -0.17680671635402676,
          -0.1455256911809179,
          -0.12936681565760372,
          -0.03388056799101109,
          -0.1026587961564336,
          -0.08601259582068213,
          -0.1599223340979161,
          -0.16161813650155768,
          -0.10687138008952274,
          -0.11294818213549211,
          -0.15798500352591674,
          -0.14680875626166043,
          -0.09939461434835749,
          -0.04841733066487697,
          -0.0806058662758263,
          -0.1582225986532136,
          -0.09753743726284977,
          -0.1251275829792016,
          -0.1175458287300884,
          -0.14800222830681892,
          -0.11057768702183175,
          -0.16150125995249032,
          -0.1251012139904054,
          -0.06460196424032007,
          -0.12432777110855796,
          -0.08251451383666615,
          -0.2198691992728807,
          -0.178621453044795,
          -0.11665130387815403,
          -0.07773580198093569,
          -0.07668065774187192,
          -0.14955195500911653,
          -0.13990556398453063,
          -0.08429568764761249,
          -0.09005256906121623,
          -0.15558620986712404,
          -0.08939837890576996,
          -0.15016874685126855,
          -0.0916717809534375,
          -0.16726495771663552,
          -0.0978141561418598,
          -0.12893797005565172,
          -0.06800257397184693,
          -0.18712366123760485,
          -0.10795368527642546,
          -0.08429568764761249,
          -0.11691149889426157,
          -0.10148999868911925,
          -0.11745496498253363,
          -0.12708446466432718,
          -0.15473002281977621,
          -0.16066383740950763,
          -0.11437932793285688,
          -0.018433960232380357,
          -0.08732298935767678,
          -0.09991764383621651,
          -0.14515778285684683,
          -0.11408998624391876,
          -0.14199932260654688,
          -0.0931788004339957,
          -0.12650604041763772,
          -0.04223489744779877,
          -0.10678985598729497,
          -0.05710300477805521,
          -0.09349730503456688,
          -0.01775340644969023,
          -0.08254247878793337,
          -0.06803811083928683,
          -0.1593080459415728,
          -0.07641602510252167,
          -0.0976239705208229,
          -0.09698334811412927,
          -0.055619106556342834,
          -0.06740529607500102,
          -0.0384333435767981,
          -0.1412165780233477,
          -0.09154625661851794,
          -0.09118897096419058,
          -0.08053360156089778,
          -0.0630096340072051,
          -0.08652618092743476,
          -0.0944028172202336,
          -0.003959557037575403,
          -0.18821719042631938,
          -0.08374427977450215,
          -0.11691270164067925,
          -0.12157835005812818,
          -0.10949780660881675,
          -0.04769545795342631,
          -0.11148185655306085,
          0.0048100178523233774,
          -0.15753841900288643,
          -0.18838368447360926,
          -0.2170363040148824,
          -0.20073961242898983,
          -0.07592417225972299,
          -0.08939837890576996,
          -0.14245282231683876,
          -0.04856584639414731,
          -0.06140936677084973,
          -0.13344318729069,
          -0.1062377766504709,
          -0.15942198347650052,
          -0.16180578484953473,
          -0.1174491415815715,
          -0.08289137666513537,
          -0.07398146512972478,
          -0.04378270307049249
         ],
         "yaxis": "y"
        },
        {
         "hovertemplate": "kmeans_labels=3<br>x=%{x}<br>y=%{y}<extra></extra>",
         "legendgroup": "3",
         "marker": {
          "color": "#FFA15A",
          "symbol": "circle"
         },
         "mode": "markers",
         "name": "3",
         "orientation": "v",
         "showlegend": true,
         "type": "scatter",
         "x": [
          -0.04265183354574951,
          -0.05494046087470168,
          -0.05571202851729756,
          -0.0690997445069763,
          -0.03793972509835904,
          -0.054370053353857424,
          -0.05966182892562233,
          -0.048795640914471916,
          -0.05565901845584137,
          -0.05154082670724295,
          -0.027500754538543275,
          -0.07361105037255243,
          -0.03805855449634066,
          -0.04006452948829451,
          -0.04680652642788127,
          -0.05154082670724295,
          -0.06415687260581811,
          -0.07361105037255243,
          -0.040707419836502404,
          -0.04663195192273879,
          -0.06800023415155486,
          -0.060453262964166345,
          -0.055803728413941836,
          -0.07339344961865198,
          -0.04490008762672882,
          -0.04190690126025966,
          -0.022536103444112585,
          -0.06062464646778007,
          -0.057950433384995705,
          -0.0610679790250999,
          -0.041432707134659304,
          -0.05622721828517397,
          -0.062292354272898934,
          -0.04825859395176733,
          -0.03352297532902067,
          -0.02594234615007988,
          -0.06898250172231862,
          -0.07575763302417053,
          -0.051443423696499915,
          -0.05585583426436675,
          -0.051431794372131405,
          -0.04334180566073942,
          -0.0659246162938099,
          -0.04825721749886016,
          -0.0703182928166643,
          -0.05481472340846139,
          -0.056581831653265025,
          -0.07564817086989173,
          -0.07564817086989173,
          -0.05842244694429503,
          -0.056131154636341794,
          -0.04832436080409132,
          -0.03195984108042941,
          -0.04935220356950219,
          -0.08167819224916932,
          -0.06957120181993681,
          -0.04119319274074064,
          -0.0401209398997043,
          -0.062039195580016075,
          -0.06267846530747614,
          -0.038648189323990216,
          -0.04615580844116184,
          -0.10012559418908276,
          -0.053986219960540725,
          -0.06483772349793801,
          -0.05465131308908575,
          -0.025411959250610513,
          -0.08056933364403088,
          -0.08065728687978715,
          -0.051074510715761114,
          -0.07720458009027631,
          -0.048249706509181214,
          -0.10321549852621201,
          -0.035985408213290715,
          -0.02972064386670096,
          -0.047208661665062435,
          -0.08000213970566238,
          -0.0720877762026452,
          -0.041890434055233204,
          -0.07214380009145441,
          -0.066322261604177,
          -0.03234083746569456,
          -0.05098131970157107,
          -0.027616383291161267,
          -0.060842572336843134,
          -0.020794820718348844,
          -0.062039811711156266,
          -0.03783255502834398,
          -0.07878223122425505,
          0.017120049404177645,
          -0.031829803011666206,
          -0.06326022174741024,
          -0.04148160582555073,
          -0.06661255336697333,
          -0.04813327587986567,
          -0.04971802329346726,
          -0.029112885201531356
         ],
         "xaxis": "x",
         "y": [
          0.0781699357413632,
          0.10538808754597274,
          0.048284376052074064,
          0.06944983372414394,
          0.08925717703207067,
          0.08606421499319616,
          0.07894617307691605,
          0.09598714153215986,
          0.07993542698755714,
          0.11602739190638012,
          0.03326371678080114,
          0.05507471846385808,
          0.08726969223011273,
          0.09619638719483167,
          0.08783191798320568,
          0.11602739190638012,
          0.051608334743117185,
          0.05507471846385808,
          0.08936931521997418,
          0.10612806992034023,
          0.1425538348696401,
          0.05986845518812468,
          0.06550723607559945,
          0.11746133158747446,
          0.031183954473398785,
          0.09662504660361322,
          0.07499703171685394,
          0.11586677666533518,
          0.03906198137209379,
          0.10760577887590997,
          0.05951360999613448,
          0.07149930669224698,
          0.09263651650259255,
          0.0722965878338605,
          0.036052491706046914,
          0.041986006354526255,
          0.13563735192234222,
          0.11941274199696517,
          0.10179012528222792,
          0.048631457107571004,
          0.06801520055229694,
          0.06686144076484542,
          0.0969097538438457,
          0.10568311990660158,
          0.059159115398318744,
          0.13907066330010162,
          0.07906833654151306,
          0.02231719785572871,
          0.02231719785572871,
          0.14559117911701422,
          0.033636479214392355,
          0.052803298046431885,
          0.04287596676893037,
          0.07999546478447651,
          0.1512927218958474,
          0.11054838846266915,
          0.0756787717484563,
          0.07349528141168017,
          0.09707227626047428,
          0.06313345413098806,
          0.012638370925314342,
          0.09351648599547153,
          0.1491691779977138,
          0.11402326598404242,
          0.08120966004057906,
          0.07486024955046229,
          0.036523282037881896,
          0.044785803837921134,
          0.04497458334800924,
          0.05429505981975497,
          0.11028009787768046,
          0.08266423163967494,
          0.1346448956041033,
          0.045007420630242906,
          0.03837041017502767,
          0.07833769055635396,
          0.036174514734362874,
          0.04746581709952456,
          0.06921806693976562,
          0.06405755547648176,
          0.04592617907826059,
          0.028616667446251194,
          0.06759077244215535,
          0.10611587722149766,
          0.0705769126487351,
          0.06842902283618317,
          0.077460851938267,
          0.07597420112623027,
          0.07600462517358057,
          0.04695351379710442,
          0.0672424543584996,
          0.07947318660647242,
          0.10523052905442434,
          0.10873872177933325,
          0.05295308391699283,
          0.06026441076510926,
          0.07151178175261609
         ],
         "yaxis": "y"
        }
       ],
       "layout": {
        "legend": {
         "title": {
          "text": "kmeans_labels"
         },
         "tracegroupgap": 0
        },
        "template": {
         "data": {
          "bar": [
           {
            "error_x": {
             "color": "#2a3f5f"
            },
            "error_y": {
             "color": "#2a3f5f"
            },
            "marker": {
             "line": {
              "color": "#E5ECF6",
              "width": 0.5
             }
            },
            "type": "bar"
           }
          ],
          "barpolar": [
           {
            "marker": {
             "line": {
              "color": "#E5ECF6",
              "width": 0.5
             }
            },
            "type": "barpolar"
           }
          ],
          "carpet": [
           {
            "aaxis": {
             "endlinecolor": "#2a3f5f",
             "gridcolor": "white",
             "linecolor": "white",
             "minorgridcolor": "white",
             "startlinecolor": "#2a3f5f"
            },
            "baxis": {
             "endlinecolor": "#2a3f5f",
             "gridcolor": "white",
             "linecolor": "white",
             "minorgridcolor": "white",
             "startlinecolor": "#2a3f5f"
            },
            "type": "carpet"
           }
          ],
          "choropleth": [
           {
            "colorbar": {
             "outlinewidth": 0,
             "ticks": ""
            },
            "type": "choropleth"
           }
          ],
          "contour": [
           {
            "colorbar": {
             "outlinewidth": 0,
             "ticks": ""
            },
            "colorscale": [
             [
              0,
              "#0d0887"
             ],
             [
              0.1111111111111111,
              "#46039f"
             ],
             [
              0.2222222222222222,
              "#7201a8"
             ],
             [
              0.3333333333333333,
              "#9c179e"
             ],
             [
              0.4444444444444444,
              "#bd3786"
             ],
             [
              0.5555555555555556,
              "#d8576b"
             ],
             [
              0.6666666666666666,
              "#ed7953"
             ],
             [
              0.7777777777777778,
              "#fb9f3a"
             ],
             [
              0.8888888888888888,
              "#fdca26"
             ],
             [
              1,
              "#f0f921"
             ]
            ],
            "type": "contour"
           }
          ],
          "contourcarpet": [
           {
            "colorbar": {
             "outlinewidth": 0,
             "ticks": ""
            },
            "type": "contourcarpet"
           }
          ],
          "heatmap": [
           {
            "colorbar": {
             "outlinewidth": 0,
             "ticks": ""
            },
            "colorscale": [
             [
              0,
              "#0d0887"
             ],
             [
              0.1111111111111111,
              "#46039f"
             ],
             [
              0.2222222222222222,
              "#7201a8"
             ],
             [
              0.3333333333333333,
              "#9c179e"
             ],
             [
              0.4444444444444444,
              "#bd3786"
             ],
             [
              0.5555555555555556,
              "#d8576b"
             ],
             [
              0.6666666666666666,
              "#ed7953"
             ],
             [
              0.7777777777777778,
              "#fb9f3a"
             ],
             [
              0.8888888888888888,
              "#fdca26"
             ],
             [
              1,
              "#f0f921"
             ]
            ],
            "type": "heatmap"
           }
          ],
          "heatmapgl": [
           {
            "colorbar": {
             "outlinewidth": 0,
             "ticks": ""
            },
            "colorscale": [
             [
              0,
              "#0d0887"
             ],
             [
              0.1111111111111111,
              "#46039f"
             ],
             [
              0.2222222222222222,
              "#7201a8"
             ],
             [
              0.3333333333333333,
              "#9c179e"
             ],
             [
              0.4444444444444444,
              "#bd3786"
             ],
             [
              0.5555555555555556,
              "#d8576b"
             ],
             [
              0.6666666666666666,
              "#ed7953"
             ],
             [
              0.7777777777777778,
              "#fb9f3a"
             ],
             [
              0.8888888888888888,
              "#fdca26"
             ],
             [
              1,
              "#f0f921"
             ]
            ],
            "type": "heatmapgl"
           }
          ],
          "histogram": [
           {
            "marker": {
             "colorbar": {
              "outlinewidth": 0,
              "ticks": ""
             }
            },
            "type": "histogram"
           }
          ],
          "histogram2d": [
           {
            "colorbar": {
             "outlinewidth": 0,
             "ticks": ""
            },
            "colorscale": [
             [
              0,
              "#0d0887"
             ],
             [
              0.1111111111111111,
              "#46039f"
             ],
             [
              0.2222222222222222,
              "#7201a8"
             ],
             [
              0.3333333333333333,
              "#9c179e"
             ],
             [
              0.4444444444444444,
              "#bd3786"
             ],
             [
              0.5555555555555556,
              "#d8576b"
             ],
             [
              0.6666666666666666,
              "#ed7953"
             ],
             [
              0.7777777777777778,
              "#fb9f3a"
             ],
             [
              0.8888888888888888,
              "#fdca26"
             ],
             [
              1,
              "#f0f921"
             ]
            ],
            "type": "histogram2d"
           }
          ],
          "histogram2dcontour": [
           {
            "colorbar": {
             "outlinewidth": 0,
             "ticks": ""
            },
            "colorscale": [
             [
              0,
              "#0d0887"
             ],
             [
              0.1111111111111111,
              "#46039f"
             ],
             [
              0.2222222222222222,
              "#7201a8"
             ],
             [
              0.3333333333333333,
              "#9c179e"
             ],
             [
              0.4444444444444444,
              "#bd3786"
             ],
             [
              0.5555555555555556,
              "#d8576b"
             ],
             [
              0.6666666666666666,
              "#ed7953"
             ],
             [
              0.7777777777777778,
              "#fb9f3a"
             ],
             [
              0.8888888888888888,
              "#fdca26"
             ],
             [
              1,
              "#f0f921"
             ]
            ],
            "type": "histogram2dcontour"
           }
          ],
          "mesh3d": [
           {
            "colorbar": {
             "outlinewidth": 0,
             "ticks": ""
            },
            "type": "mesh3d"
           }
          ],
          "parcoords": [
           {
            "line": {
             "colorbar": {
              "outlinewidth": 0,
              "ticks": ""
             }
            },
            "type": "parcoords"
           }
          ],
          "pie": [
           {
            "automargin": true,
            "type": "pie"
           }
          ],
          "scatter": [
           {
            "marker": {
             "colorbar": {
              "outlinewidth": 0,
              "ticks": ""
             }
            },
            "type": "scatter"
           }
          ],
          "scatter3d": [
           {
            "line": {
             "colorbar": {
              "outlinewidth": 0,
              "ticks": ""
             }
            },
            "marker": {
             "colorbar": {
              "outlinewidth": 0,
              "ticks": ""
             }
            },
            "type": "scatter3d"
           }
          ],
          "scattercarpet": [
           {
            "marker": {
             "colorbar": {
              "outlinewidth": 0,
              "ticks": ""
             }
            },
            "type": "scattercarpet"
           }
          ],
          "scattergeo": [
           {
            "marker": {
             "colorbar": {
              "outlinewidth": 0,
              "ticks": ""
             }
            },
            "type": "scattergeo"
           }
          ],
          "scattergl": [
           {
            "marker": {
             "colorbar": {
              "outlinewidth": 0,
              "ticks": ""
             }
            },
            "type": "scattergl"
           }
          ],
          "scattermapbox": [
           {
            "marker": {
             "colorbar": {
              "outlinewidth": 0,
              "ticks": ""
             }
            },
            "type": "scattermapbox"
           }
          ],
          "scatterpolar": [
           {
            "marker": {
             "colorbar": {
              "outlinewidth": 0,
              "ticks": ""
             }
            },
            "type": "scatterpolar"
           }
          ],
          "scatterpolargl": [
           {
            "marker": {
             "colorbar": {
              "outlinewidth": 0,
              "ticks": ""
             }
            },
            "type": "scatterpolargl"
           }
          ],
          "scatterternary": [
           {
            "marker": {
             "colorbar": {
              "outlinewidth": 0,
              "ticks": ""
             }
            },
            "type": "scatterternary"
           }
          ],
          "surface": [
           {
            "colorbar": {
             "outlinewidth": 0,
             "ticks": ""
            },
            "colorscale": [
             [
              0,
              "#0d0887"
             ],
             [
              0.1111111111111111,
              "#46039f"
             ],
             [
              0.2222222222222222,
              "#7201a8"
             ],
             [
              0.3333333333333333,
              "#9c179e"
             ],
             [
              0.4444444444444444,
              "#bd3786"
             ],
             [
              0.5555555555555556,
              "#d8576b"
             ],
             [
              0.6666666666666666,
              "#ed7953"
             ],
             [
              0.7777777777777778,
              "#fb9f3a"
             ],
             [
              0.8888888888888888,
              "#fdca26"
             ],
             [
              1,
              "#f0f921"
             ]
            ],
            "type": "surface"
           }
          ],
          "table": [
           {
            "cells": {
             "fill": {
              "color": "#EBF0F8"
             },
             "line": {
              "color": "white"
             }
            },
            "header": {
             "fill": {
              "color": "#C8D4E3"
             },
             "line": {
              "color": "white"
             }
            },
            "type": "table"
           }
          ]
         },
         "layout": {
          "annotationdefaults": {
           "arrowcolor": "#2a3f5f",
           "arrowhead": 0,
           "arrowwidth": 1
          },
          "coloraxis": {
           "colorbar": {
            "outlinewidth": 0,
            "ticks": ""
           }
          },
          "colorscale": {
           "diverging": [
            [
             0,
             "#8e0152"
            ],
            [
             0.1,
             "#c51b7d"
            ],
            [
             0.2,
             "#de77ae"
            ],
            [
             0.3,
             "#f1b6da"
            ],
            [
             0.4,
             "#fde0ef"
            ],
            [
             0.5,
             "#f7f7f7"
            ],
            [
             0.6,
             "#e6f5d0"
            ],
            [
             0.7,
             "#b8e186"
            ],
            [
             0.8,
             "#7fbc41"
            ],
            [
             0.9,
             "#4d9221"
            ],
            [
             1,
             "#276419"
            ]
           ],
           "sequential": [
            [
             0,
             "#0d0887"
            ],
            [
             0.1111111111111111,
             "#46039f"
            ],
            [
             0.2222222222222222,
             "#7201a8"
            ],
            [
             0.3333333333333333,
             "#9c179e"
            ],
            [
             0.4444444444444444,
             "#bd3786"
            ],
            [
             0.5555555555555556,
             "#d8576b"
            ],
            [
             0.6666666666666666,
             "#ed7953"
            ],
            [
             0.7777777777777778,
             "#fb9f3a"
            ],
            [
             0.8888888888888888,
             "#fdca26"
            ],
            [
             1,
             "#f0f921"
            ]
           ],
           "sequentialminus": [
            [
             0,
             "#0d0887"
            ],
            [
             0.1111111111111111,
             "#46039f"
            ],
            [
             0.2222222222222222,
             "#7201a8"
            ],
            [
             0.3333333333333333,
             "#9c179e"
            ],
            [
             0.4444444444444444,
             "#bd3786"
            ],
            [
             0.5555555555555556,
             "#d8576b"
            ],
            [
             0.6666666666666666,
             "#ed7953"
            ],
            [
             0.7777777777777778,
             "#fb9f3a"
            ],
            [
             0.8888888888888888,
             "#fdca26"
            ],
            [
             1,
             "#f0f921"
            ]
           ]
          },
          "colorway": [
           "#636efa",
           "#EF553B",
           "#00cc96",
           "#ab63fa",
           "#FFA15A",
           "#19d3f3",
           "#FF6692",
           "#B6E880",
           "#FF97FF",
           "#FECB52"
          ],
          "font": {
           "color": "#2a3f5f"
          },
          "geo": {
           "bgcolor": "white",
           "lakecolor": "white",
           "landcolor": "#E5ECF6",
           "showlakes": true,
           "showland": true,
           "subunitcolor": "white"
          },
          "hoverlabel": {
           "align": "left"
          },
          "hovermode": "closest",
          "mapbox": {
           "style": "light"
          },
          "paper_bgcolor": "white",
          "plot_bgcolor": "#E5ECF6",
          "polar": {
           "angularaxis": {
            "gridcolor": "white",
            "linecolor": "white",
            "ticks": ""
           },
           "bgcolor": "#E5ECF6",
           "radialaxis": {
            "gridcolor": "white",
            "linecolor": "white",
            "ticks": ""
           }
          },
          "scene": {
           "xaxis": {
            "backgroundcolor": "#E5ECF6",
            "gridcolor": "white",
            "gridwidth": 2,
            "linecolor": "white",
            "showbackground": true,
            "ticks": "",
            "zerolinecolor": "white"
           },
           "yaxis": {
            "backgroundcolor": "#E5ECF6",
            "gridcolor": "white",
            "gridwidth": 2,
            "linecolor": "white",
            "showbackground": true,
            "ticks": "",
            "zerolinecolor": "white"
           },
           "zaxis": {
            "backgroundcolor": "#E5ECF6",
            "gridcolor": "white",
            "gridwidth": 2,
            "linecolor": "white",
            "showbackground": true,
            "ticks": "",
            "zerolinecolor": "white"
           }
          },
          "shapedefaults": {
           "line": {
            "color": "#2a3f5f"
           }
          },
          "ternary": {
           "aaxis": {
            "gridcolor": "white",
            "linecolor": "white",
            "ticks": ""
           },
           "baxis": {
            "gridcolor": "white",
            "linecolor": "white",
            "ticks": ""
           },
           "bgcolor": "#E5ECF6",
           "caxis": {
            "gridcolor": "white",
            "linecolor": "white",
            "ticks": ""
           }
          },
          "title": {
           "x": 0.05
          },
          "xaxis": {
           "automargin": true,
           "gridcolor": "white",
           "linecolor": "white",
           "ticks": "",
           "title": {
            "standoff": 15
           },
           "zerolinecolor": "white",
           "zerolinewidth": 2
          },
          "yaxis": {
           "automargin": true,
           "gridcolor": "white",
           "linecolor": "white",
           "ticks": "",
           "title": {
            "standoff": 15
           },
           "zerolinecolor": "white",
           "zerolinewidth": 2
          }
         }
        },
        "title": {
         "text": "K-means BBC Sport news"
        },
        "xaxis": {
         "anchor": "y",
         "domain": [
          0,
          1
         ],
         "title": {
          "text": "x"
         }
        },
        "yaxis": {
         "anchor": "x",
         "domain": [
          0,
          1
         ],
         "title": {
          "text": "y"
         }
        }
       }
      },
      "text/html": [
       "<div>                            <div id=\"f37a893c-5d26-49db-bbb8-03b8be8231fa\" class=\"plotly-graph-div\" style=\"height:525px; width:100%;\"></div>            <script type=\"text/javascript\">                require([\"plotly\"], function(Plotly) {                    window.PLOTLYENV=window.PLOTLYENV || {};                                    if (document.getElementById(\"f37a893c-5d26-49db-bbb8-03b8be8231fa\")) {                    Plotly.newPlot(                        \"f37a893c-5d26-49db-bbb8-03b8be8231fa\",                        [{\"hovertemplate\": \"kmeans_labels=0<br>x=%{x}<br>y=%{y}<extra></extra>\", \"legendgroup\": \"0\", \"marker\": {\"color\": \"#636efa\", \"symbol\": \"circle\"}, \"mode\": \"markers\", \"name\": \"0\", \"orientation\": \"v\", \"showlegend\": true, \"type\": \"scatter\", \"x\": [-0.09103910550761089, -0.0003795819192241622, -0.11763838135020763, -0.0912738234836291, -0.11036623652382337, -0.029012344783564802, -0.1289295095528826, -0.15758219508101728, -0.09577700192937717, -0.10788871764952765, -0.08960843807270434, -0.08053743830324764, -0.07797795910003968, -0.1052536791147573, -0.11127329019306542, -0.10788871764952765, -0.09688802808330078, -0.10719252149056105, -0.07460800430630339, -0.10882626475746894, -0.09929343621894822, -0.11473513498711775, -0.10918486656000924, -0.074363186749315, -0.04973406669176841, -0.13238001191251048, -0.13162807235254492, -0.10210331343122712, -0.10195522595743554, -0.07935471434374747, -0.06950638784291063, -0.09021396086279544, -0.0617677122357298, -0.0940707395121159, -0.09623749519024856, -0.09690710187042516, -0.10455570357176193, -0.1282675622266204, -0.13841744362558212, -0.1136965935927333, -0.10014098502133346, -0.11210805359257912, -0.06180650370966735, -0.12164416548491318, -0.06479860626885, -0.11008774712506088, -0.16009464983434857, -0.11229197477661457, -0.030275684427021846, -0.17671554550720506, -0.1072129886067983, -0.10585784679183556, -0.05920358995370069, -0.10766377394018672, -0.10505795384410489, -0.10488279845347, -0.06410073396487441, -0.014921625648422681, -0.0809602528533317, -0.06361227283427878, -0.0940707395121159, -0.0746958825709525, -0.08021120765649375, -0.08362124731571552, -0.09231821193563867, -0.08831865719426894, -0.1527278663301424, -0.1129399700035228, -0.10721809573909932, -0.13799847966585382], \"xaxis\": \"x\", \"y\": [0.10356684917131087, 0.02483718362868011, 0.1286120989093525, 0.13506116540756935, 0.15748975620845448, 0.07049284616071169, 0.1707223705010578, 0.24018111350372345, 0.11525585637610304, 0.10877484076330864, 0.11718869709084219, 0.04882268797209448, 0.13012265132718276, 0.177006867873133, 0.13514813864248798, 0.10877484076330864, 0.1575846534980404, 0.13092648752925945, 0.11129525996744664, 0.15288210034140445, 0.15871777342315627, 0.13613007819456988, 0.1611199065476952, 0.10386979819093262, 0.07712750907983174, 0.2082228577874158, 0.15879931948397574, 0.13614347119977369, 0.08938272578210327, 0.08373064391600135, 0.09685246981300089, 0.12550182466799828, 0.12043353337360027, 0.15294507165869056, 0.11287072999936808, 0.13832059589276788, 0.1336916792308029, 0.15054241003837315, 0.16413748992272756, 0.08922605099110564, 0.13710435121660666, 0.15026833051799382, 0.08603076087489721, 0.15606868966424103, 0.10153792261624359, 0.1316172515400725, 0.29472090494815756, 0.15613356348006288, 0.0813966082088993, 0.24982596973291454, 0.08379353259722366, 0.11817543292741318, 0.06551631018480716, 0.08485690516259445, 0.12848394259645257, 0.18547326700046382, 0.10179803478582225, 0.05041272051526748, 0.11177320821061439, 0.10781193341276377, 0.15294507165869056, 0.10397715710234486, 0.09757119835112668, 0.12022561157804247, 0.09763602408904379, 0.11291301708887003, 0.22073994017922588, 0.12441240506592761, 0.15188948261551982, 0.17962866334314595], \"yaxis\": \"y\"}, {\"hovertemplate\": \"kmeans_labels=1<br>x=%{x}<br>y=%{y}<extra></extra>\", \"legendgroup\": \"1\", \"marker\": {\"color\": \"#EF553B\", \"symbol\": \"circle\"}, \"mode\": \"markers\", \"name\": \"1\", \"orientation\": \"v\", \"showlegend\": true, \"type\": \"scatter\", \"x\": [-0.09135644484656776, -0.042971309267160106, -0.0859103245642844, -0.0893099355983769, -0.05478141742014741, -0.05794548416815784, -0.056417175349887175, -0.0942172066826906, -0.08167956091619255, -0.054810713501518, -0.054810713501518, -0.06999316983484456, -0.07756507700300899, -0.02261797584642835, -0.04431635648789244, -0.06300357502020154, -0.05847381895990417, -0.026179578606853573, -0.033522280146898904, 0.028392042992699852, -0.04700845903583358, -0.11374500065705205, -0.08355306561209835, -0.09691584489776929, 0.07291107707238323, -0.033743936354866694, -0.07628286375408488, -0.19875390488729527, -0.10016185636599449, -0.12667902935179795, -0.006061878936740368, -0.016382243191611516, -0.011327936340747937, -0.0019262361091359741, -0.005054285676592508, -0.0549296782605087, -0.1231846114087734, -0.17124712265438108, -0.004573546892576803, -0.04139965778802683, -0.038051037646816846, -0.04711733716560323, -0.05174227894186956, -0.1382780439826782, -0.023966048766680986, -0.01105793759889288, -0.17136934667858808, -0.10756359606721287, 0.0049203710191792075, -0.0675746077733759, -0.13747775473061447, -0.06459649047149392, -0.01713202399165899, 0.01641047797068804, 0.006778301270436877, -0.05994949710675419, -0.043195126374872765, 0.0029291040198000462, 0.014947046866453475, 0.021589150886534694, -0.031365379808917175, -0.059981906494457185, -0.07748016305106918, -0.06596234950734538, -0.06367416970556257, -0.10987326315856055, -0.14864447693622262, -0.048702779531631005, -0.056417670580841406, -0.0869232496914891, -0.024245455457710993, -0.026933309107190124, -0.04027502540603358, -0.0540356441343905, -0.047635611301805374, -0.04751506660441395, -0.055184824764821075, -0.10680101817701182, -0.06073118688052486, -0.12693999670393577, -0.08858762356927075, -0.07395528347866243, -0.11307161795790552, -0.09678184828802966, -0.184919042820049, -0.05510978086614786, -0.08304723562685601, -0.05011170754742632, -0.07072249364624908, -0.05944789345299658, -0.08765760060120005, -0.066051871666326, -0.10992149112185783, -0.1324394879457739, -0.20221281365129695, -0.08615309684867199, -0.03332330231946237, -0.07563564924702629, -0.008576493921185683, -0.12724174812144667, -0.0764141868854849, -0.0753058125746263, -0.1826519864014293, -0.08676394985077449, -0.05196292037588253, -0.07315684903983352, -0.1304053707897574, -0.1304053707897574, -0.14939855520809545, -0.11801730403213156, -0.03606384901938638, -0.08002171572537543, -0.07812034073469992, -0.10677209590380389, -0.07585909384479271, 0.02201685793060152, -0.038441668779784284, -0.09029614403123902, -0.10606738226655424, -0.05024052928604532, -0.07607441072631434, -0.11803288853856284, -0.09972783863981502, -0.11971521419788046, -0.14079848651740534, -0.0687401959372957, -0.12771720952609, -0.05121903488083846, -0.07088609935001547, -0.049283074904325666, -0.05979268930623599, -0.1168880497192021, -0.04541018775232334, -0.054599620319945336, -0.16293668376956805, -0.04031434983466317, -0.11224966811111574, -0.03193353534381118, -0.025508992382134853, -3.3996213752584674e-05, -0.014134049866713879, -0.032439355548028924, -0.021899413973419664, -0.17497101155663386, 0.01704869789018945, -0.0617160963810657, -0.051554631171997906, -0.046352577098238, -0.0948937125767786, -0.020859944456167078, 0.005108950155309136, -0.03896906151452797, -0.11310268401903814, -0.11355595599576092, -0.06050239776667653, -0.0545559848155992, -0.13237265144879742, -0.03259417961728339, -0.057683475240889674, -0.06951884941374789, -0.13111028462597565, -0.10569328065503832, -0.1164094067067771, -0.0956441775113834, -0.1309971936014173, -0.01803793552282126, -0.06382736787406958, -0.1008440779315314, -0.1936042005410829, -0.06322818130066835, -0.05285926782948509, -0.11589945365132594, -0.05110910367635864, -0.09777651297797663, -0.07213310348372001, -0.0569170719898128, -0.07895023446029854, -0.14661996511302575, -0.04457670567156597, -0.1137131754629507, -0.14661996511302575, -0.06709578191332158, -0.06844677455131598, -0.06844677455131598, -0.09292729044832404, -0.06935012625308341, -0.060287172349491054, -0.05178119825735523, -0.03615688983376606, -0.060191559753590834, -0.08723003612204128, -0.13341985388727148, -0.0724240728731424, -0.04058218364540622, -0.04006056239041597, -0.060355827526619776, -0.07180131389125913, -0.1565770829137513, -0.07460793074698722, -0.16990564656542212, -0.09025546108287534, -0.05517379808265603, -0.04014003098150518, -0.061634574479873444, -0.08167165721991572, -0.1283186838759778, -0.08669414126280907, -0.09586298719435805, -0.07984495318175602, -0.1611707690549966, -0.15686961977854774, -0.11919679930138764, -0.07907652855703838, -0.07284445623311793, -0.059065767435847606, 0.005121084180372354, -0.03689641541152672, -0.1008689609616222, -0.0765987498377967, -0.06769317639939475, -0.05359655391066749, -0.19572254684945448, -0.055185726825772066, -0.06538812486426922, -0.07690700712684598, -0.042750095459093314, -0.20020059540904458, -0.05199794363479387, -0.144573475460606, -0.08355306561209835, -0.06635624552824317, -0.0777574387245596, -0.035380765059830746, -0.047443761180086294, -0.12162908024837356, -0.07008575379373823, -0.03021029742245173, -0.05992894054302153, -0.022892060434382272, 0.002503907839246997, -0.13383908472978703, -0.005717344074768248, -0.10058740960114099, -0.03259124297189411, -0.04229352123495623, -0.09709584061481097, -0.032331923028184606, -0.08204876814901774, -0.18135304782290695, -0.12585020538321667, -0.06024996645991075, -0.08690519192784453, -0.0917618506683324, -0.06033219028993186, -0.04885644794218011, -0.02454244806043769, -0.08930856166577118, -0.06681127347959519, -0.18559749084659838, -0.11393717021930122, -0.12258277540938559, -0.0640365389643458, -0.172565411662886, -0.08053440817454306, -0.13001361406238318, -0.07565235910723495, -0.02533894535338435, -0.04544100582710045, -0.057958098058194796, -0.1491868669651435, -0.07928877412567513, -0.12638471707972557, -0.07896334787565258, -0.04087343478232893, -0.03992200190152043, -0.05492983385913665, -0.10152009017801573, -0.009485066399428336, -0.05166574429096684, -0.08297344992791979, -0.021673202674167048, -0.09852297960085014, -0.06487347693316378, -0.03568194725621862, -0.0028080028950055068, 0.040038068954742004, 0.009770366289482331, 0.03812968341618787, 0.02736753701581169, -0.00892864503190104, -0.007435453303538759, 0.034856276490822936, 0.025300467253010033, 0.03650304931303421, 0.04710037621144046, -0.024862561142369757, 0.004163836892795462, -0.0020699943560128034, 0.025097892248605834, -0.016525445197359167, 0.02116536983738577, 0.05783970753249063, 0.06380294595473064, 0.01516493467675812, 0.04473646898095843, 0.022411585714974033, 0.002115527573142, -0.05515092634136119, -0.05396889881916171, 0.028878129275721018, 0.027168348147127413, -0.040726250696090434, 0.0639027106449677, -0.0021845127088552588, -0.031207733006334688, -0.021905025247178113, -0.04799964604558507, 0.04605576739603859, -0.06650453022705471, -0.05785200307317188, -0.04875946458117527], \"xaxis\": \"x\", \"y\": [0.15403021471233372, 0.03469248202992353, 0.18006394701756542, 0.1692178109215139, 0.12911849068615391, 0.12289839418721726, 0.07945426396013598, 0.1599325977643231, 0.1133654272096371, 0.1346191474958011, 0.1346191474958011, 0.13423626840149674, 0.10336573733350776, 0.013240481589695815, 0.05653147581076235, 0.017585925588007444, 0.11547043058137248, 0.06442125279723011, 0.0628340348752938, -0.004305205813111828, -0.08565821347415419, -0.11606398040514242, -0.06960712706409333, -0.06801167819115525, -0.061951199911479654, -0.009022673699010244, -0.09498778403377268, -0.21805804280881266, -0.12008898587814416, -0.1664810429569868, -0.056141517784149754, -0.04581904069922581, -0.04287814286565932, -0.02706423962182255, -0.017946990254996614, -0.0584157103689756, -0.19949669666933328, -0.17047295006639293, -0.04526936527070415, -0.043382974719428, -0.10408038050585436, -0.033532594577625516, -0.015590338347735738, -0.12696031287339568, -0.12849529701259207, -0.07953110025254154, -0.17019861872250927, -0.12203925566453393, -0.0709252175890515, -0.03291310319901599, -0.14226495053888713, -0.0784140032053948, -0.014450964346957496, -0.04266041776182259, -0.049396794925254874, -0.008995305774749697, 0.014930559813603255, -0.020018274900351456, -0.11201979886834107, -0.009750126630507184, -0.020268909301629105, 0.036763248994224576, -0.0743564586191367, -0.05798399271349656, -0.08280253103274049, -0.10117147772489568, -0.1732723450467767, -0.14270768279977794, -0.033947476108475726, -0.08121157688056267, -0.051409589786290566, -0.018766774384766795, -0.03148238187243017, -0.007446755817409897, 0.006445988105791825, -0.08565566081459403, -0.11056478013716595, -0.11064101647563891, -0.013242985271378573, -0.08889996936938009, -0.11302916327204526, -0.07771288896024715, -0.11363807361111508, -0.06947865165045869, -0.2414294270209802, -0.11230283403464257, -0.057124225848313115, -0.058406853051655015, -0.07274073274229563, -0.028217133278647992, -0.0737948474068737, -0.03493173018364231, -0.09073935817603045, -0.08551329761411794, -0.18274194378664563, -0.0058809879016321264, -0.005040527200616728, -0.06800562853824378, 0.013593599591022569, -0.0815663313016779, -0.01904268659778534, -0.07480665917385891, -0.1653113465156603, -0.06494648119961267, -0.06250823010366484, -0.10419075178312895, -0.14156092903010842, -0.14156092903010842, -0.15598356856453335, -0.12298717934972182, -0.03899259562804462, -0.061320080716451036, -0.047579961304324264, -0.08022543017486018, -0.06009267468497505, 0.03817662352460501, -0.005933923854377353, -0.09586341298269696, -0.05618122098277594, -0.013171449781870707, -0.06938180518457163, -0.10495929516297958, -0.06981707693571634, -0.09721051258331352, -0.0009632914713924168, -0.08907161797843174, -0.05059259719534238, -0.020860788297433354, -0.01680247112962651, 0.004652511111616973, -0.06741211943998825, -0.08671968891382441, -0.025476033538231104, -0.07612950294929487, -0.17248601909000624, -0.005469093649389511, -0.06933143869555208, -0.04685139770106738, -0.007838228739290312, 0.010169487569299529, 0.0018518818849893603, -0.07640408808220758, -0.08117596884798671, -0.2000978657610439, -0.006347543545087473, -0.029938822106710648, -0.04172323160831379, -0.06716303689876287, -0.13548236885969475, 0.011175214141721896, 0.0003107550863944594, -0.055754750415323254, -0.12259005484524409, -0.1444393645056032, -0.0688784993862421, -0.026427280721323086, -0.14889761970744747, -0.05581555527118725, -0.03384518676299669, -0.003993771732994283, -0.1499686144757936, -0.1591742647540087, -0.0943076278155324, -0.1197818033981105, -0.13246906165450273, -0.05341673565567355, 0.043191718163389944, -0.08905730749567685, -0.19759982156061, -0.050551876306607055, -0.037236913578197896, -0.13665099793985122, -0.06686829551948963, -0.11074611237791536, -0.035369963582409486, -0.06462207270551866, -0.03979610250500531, -0.1671823564685688, 0.0017295473668186884, -0.09191590079644227, -0.1671823564685688, -0.054890214386565245, -0.014214429600496192, -0.014214429600496192, -0.09686233484119994, -0.06504709406407999, -0.03243844734925203, -0.001158386660355345, -0.05180701156798823, -0.03353937920966956, -0.029033770192563882, -0.10617219474668839, -0.09210083752213884, -0.08668445972076512, -0.06583162193388738, -0.07169292997457846, 0.018289560439825662, -0.09429866520436067, -0.04773912053374361, -0.19754215466049052, -0.066926652878544, -0.03072541702929377, -0.020362570925910643, -0.0900627175938319, -0.06365337113693345, -0.1370649067467327, -0.12925225454688255, -0.111445843767684, -0.11838852053135303, -0.13177867243178554, -0.19396578253522512, -0.16891482022175955, -0.09039463386916341, -0.09276551166637131, -0.033955647077663166, -0.03752172290910352, 0.005472070069019667, -0.14904774205808685, -0.17769266358684538, -0.15003147929313798, -0.06214405240495064, -0.2482827420799049, -0.07292431535577484, -0.06567722182445428, -0.11679153957682636, -0.02682970735865473, -0.21828656640154914, -0.04286132402574207, -0.17275514123209643, -0.06960712706409333, -0.12638940728100176, -0.12788034572739965, -0.029500022305964945, -0.05553591978446912, -0.13729004995173702, -0.09129192562908572, -0.010796443951708312, -0.061741816806230566, -0.01008579870032611, 0.009119996885005635, -0.1863074993771686, -0.05290727678671018, -0.0631504170721694, -0.00024074589920665027, -0.008279287874789747, -0.11868768703122538, -0.012607791549788321, -0.05830712777254144, -0.18851633338517332, -0.10166609447522598, 0.05198293560084877, -0.05741409980057432, -0.06489959976991173, -0.03866571432556311, -0.014900845057695448, -0.08406440847880922, -0.0927274095836161, -0.0846013158743776, -0.16907239874087646, -0.13189972938406128, -0.10814754218586663, -0.0243200051093139, -0.20357799942745566, -0.03523270594889952, -0.11500372705822438, -0.06440245799662209, -0.07013429267800896, 0.02361584772819958, -0.09670037372845895, -0.1525331423353144, -0.09428515463846958, -0.12246980620101158, -0.09488570361799593, -0.05342915365869435, -0.010823890859204068, 0.023222037068926202, -0.006704098771160117, 0.031082265749108155, -0.043594341044585566, -0.11107211146445205, -0.02288401514944525, -0.10887151304227471, -0.028461353925366598, -0.022228171743351077, -0.020943128596673043, -0.04251518650996677, -0.05573382204416671, -0.03987885248732893, -0.09786460260362315, -0.01250982766840926, 0.019361790301014373, -0.05413427112641913, 0.0065953563533536885, 0.00793301980139841, -0.024669687550145723, -0.026581971247495593, -0.02586449470060712, -0.05010787901806099, -0.027341681928070835, -0.02494687483298944, -0.007960548141691323, -0.021508207229428474, -0.018727566685241812, -0.016126046674231058, 0.008402695002346776, -0.0811168658675514, -0.07232423760079894, -0.030528511239146888, -0.03156256639594858, -0.02569276562682402, -0.01960240322228708, -0.05769408917357364, -0.013210956565099912, -0.06533649988046768, -0.054932154312795925, -0.07854556337659266, -0.04055699876321038, -0.04322594491244453, 0.011685889836300312, 0.027221616180617962, 0.013815181948552118], \"yaxis\": \"y\"}, {\"hovertemplate\": \"kmeans_labels=4<br>x=%{x}<br>y=%{y}<extra></extra>\", \"legendgroup\": \"4\", \"marker\": {\"color\": \"#00cc96\", \"symbol\": \"circle\"}, \"mode\": \"markers\", \"name\": \"4\", \"orientation\": \"v\", \"showlegend\": true, \"type\": \"scatter\", \"x\": [-0.1204911470949914, -0.14088064756184665, -0.14570135811327964, -0.15105343330129617, -0.11259024646722038, -0.12703770805598846, -0.12119341280329, -0.1280927211737085, -0.14345863597709735, -0.13532684957495666, -0.1304196694402481, -0.14640932972222048, -0.1278428237390985, -0.13198579570313795, 0.2533924189028863, 0.21415030751242392, 0.22602051724323766, 0.21745034750715458, 0.11987349390709595, 0.13977497698522412, 0.12125450999124807, 0.10649303149522497, 0.14946162638002236, 0.10169850855709345, 0.12015167868447804, 0.05253328588720641, 0.3133223422059826, 0.06331970904797997, 0.20981286977912592, 0.0321764260724734, 0.06161083054476734, 0.14889233766778517, 0.22551357136557107, 0.175980018552046, 0.06161083054476734, 0.18915153650216174, 0.13949118464438176, 0.1620851395464489, 0.07280165816487101, 0.21486285325149831, 0.23012011789848547, 0.21144530438124784, 0.13966540781958245, 0.10524304028239291, 0.2521128510325121, 0.1620851395464489, 0.07280165816487101, 0.1922068315316258, 0.09281049664612774, 0.11193791308046414, 0.081843444908479, 0.1645096684044667, 0.11113835901426118, 0.18272202602471993, 0.1295218394084132, 0.24580224862672723, 0.2507616934423082, 0.214384499394349, 0.26283362535367527, 0.16642012018093452, 0.06135338898964832, 0.19770016091408685, 0.13310071720217556, 0.18830689246701934, 0.031017462227162496, 0.2656786912098645, 0.26619070471076584, 0.23016185592357122, 0.12793299400644184, 0.22402753815970164, 0.11953390796271048, 0.05635626744738601, 0.20609552373831566, 0.16760030222008732, 0.1674758056884956, 0.2296797227879048, 0.2978796264644154, 0.2087836237439241, 0.15760317850043418, 0.12862203701854347, 0.1926754703464316, 0.3710636874840431, 0.13073619123512434, 0.2574028155065093, 0.34170921765438944, 0.1553035999934518, 0.30496485466650775, 0.24925652467693815, 0.351336831955621, 0.1959743628648489, 0.16899051136460205, 0.061882450579806174, 0.18962847316949866, 0.24688340147531476, 0.17389473413275255, 0.2754447074390739, 0.32691744222893754, 0.32739235881028833, 0.1047289357895285, 0.2663760752426416, 0.27971509038959863, 0.28300500125961464, 0.27693926357802073, 0.13894325858096965, 0.08982764431683604, 0.2074076741639682, 0.031067239220155276, 0.1452881038122895, 0.17699261907060856, 0.11102575277251062, 0.17788631386166734, 0.1003120444205015, 0.1684763721710378, 0.08760851316842902, 0.017372094140908744, 0.08966398133908927, 0.09364716128438422, 0.06732019358308768, 0.047099151462844206, 0.20536689934474547, 0.038976395304805206, 0.2861123381495744, 0.20409609581867647, 0.11375295787054397, 0.16621210365200118, 0.1296997108464845, 0.10120339961223411, 0.20865495655789246, 0.11364899240710272, 0.2311595859194354, 0.10363077652121101, 0.13481179524313106, 0.08425444755177364, 0.11014095792196281, 0.11959404956361433], \"xaxis\": \"x\", \"y\": [0.3315990799761282, 0.33402970382159825, 0.3346298565514344, 0.3368643215116667, 0.2588499036357181, 0.3035704744306504, 0.3225468275737997, 0.3440726974744462, 0.3147339753510246, 0.32717202788308225, 0.27811294605819914, 0.3430864442123762, 0.3381712863491219, 0.3084577461625115, 0.11890567491554312, 0.05717442295283905, 0.0969407182968127, 0.17765703188320925, 0.008950218886109626, 0.028531803670906793, 0.10690101554663912, 0.07313244725798425, 0.1465286142527684, 0.05933191944451019, 0.10363874105273438, -0.006224101818105906, 0.07153989037038253, 0.028392959608578034, 0.07520428425584225, 0.0018910365326312453, 0.06376889192425128, 0.04711160647711501, 0.06441039093227258, 0.03176783736392018, 0.06376889192425128, 0.1712947866840235, 0.11013009779867158, 0.1401438704266935, 0.11241751804593579, 0.17332214344856134, 0.0909391102193252, 0.13314337438884416, 0.10985294646584849, 0.03176346193712109, 0.07437986998179794, 0.1401438704266935, 0.11241751804593579, 0.17626309595299755, 0.07625740928056497, 0.04338018501074776, 0.09419699027241508, 0.09448423781020641, 0.06096929384993635, 0.04121658307851832, 0.12262212972174386, 0.030915355400870065, 0.059939771671755966, 0.16259716755565512, 0.17558109847300518, 0.09041343121663163, 0.07763442818104242, 0.03502434622234026, 0.06966783262047228, 0.05028728709896542, 0.008398109153306145, 0.11461855928098601, 0.1156957442252078, 0.156390300650767, 0.11067553943299278, 0.11069008551111043, 0.1019460782420308, 0.08050840166961039, 0.11237591635497075, 0.16217757941973873, 0.16167435049862391, 0.16564949293944078, 0.017425355152582204, 0.05457601288958884, 0.15500674151304175, 0.07707516408424336, 0.027011284441062527, 0.06915153107511894, 0.028441688230245656, 0.2063351834703032, 0.016510890802110312, 0.0978712864487532, 0.07115859784594906, 0.20305177058019913, 0.06692239437735296, -0.0002699834660605897, 0.13890923155243937, 0.05948565446202056, 0.038760412258328276, 0.06031265381431698, 0.12898101478148144, 0.17867199430002445, 0.06350688527769151, 0.06615867631423279, 0.09641406656146063, 0.21430418545975483, 0.20446523404292122, 0.20605940112409574, 0.018836229974077634, 0.11347254143061739, 0.05057352380330354, 0.0603120088320356, 0.07000295238851882, 0.015817232755805957, 0.028824350889189134, -0.019373590200976374, 0.1280854272443871, 0.053887343420270004, 0.13660900623655756, 0.07628728155883237, 0.06483473311697568, 0.06613977091247554, 0.12308831784273953, 0.06446316843611147, 0.057167809400364325, 0.03142900455872662, 0.01197308940626972, 0.022270186792669757, 0.12200937444598021, 0.10744451132520776, 0.11707504889825197, 0.12295652271878822, 0.07422029059426029, 0.027550674556048815, 0.0494491811593446, 0.021536070438989915, 0.07442778177120886, 0.10311817066687878, -0.0021611744064849617, -0.041777487805944875, 0.08198831930736498], \"yaxis\": \"y\"}, {\"hovertemplate\": \"kmeans_labels=2<br>x=%{x}<br>y=%{y}<extra></extra>\", \"legendgroup\": \"2\", \"marker\": {\"color\": \"#ab63fa\", \"symbol\": \"circle\"}, \"mode\": \"markers\", \"name\": \"2\", \"orientation\": \"v\", \"showlegend\": true, \"type\": \"scatter\", \"x\": [0.13160834641204971, 0.19126503196897549, 0.13727831717032626, 0.05717043905532985, 0.06665051322259942, 0.15154535074962527, 0.13508399290105683, 0.1286927031134605, 0.10035445088968081, 0.060524664955092566, 0.08265100322453353, 0.03045774397160352, 0.15788277248230626, 0.1967067628124397, 0.08507449303396845, 0.15889850884751028, 0.1524171212167213, 0.16233052440142007, 0.09140926779566703, 0.06235964722131084, 0.0935821499141307, 0.14891561682953403, 0.13536915493214602, 0.18687817414511745, 0.22281606270829543, 0.10960731371346322, 0.15605380419037118, 0.21107885269973342, 0.061977894722795704, 0.040476102064458466, 0.2116461260396561, 0.18236134729602788, 0.2788224477552344, 0.13894651856580453, 0.04425867238538044, 0.12288460814559009, 0.12156367771249037, 0.13726976157320936, 0.2396953521450807, 0.10407599630426792, 0.1326427108153201, 0.18313515821385426, 0.09506676721012058, 0.12655846322930636, 0.11125135874573464, 0.13415334912987048, 0.2688248421190564, 0.12773585766447365, 0.07005003775939407, 0.20728571818641742, 0.10940547750819726, 0.10407599630426792, 0.14111401459072162, 0.0640283427586216, 0.10094464488504042, 0.10407902838333061, 0.15168731659086573, 0.211880797550577, 0.10302894726913903, 0.04504546348232535, 0.03883395445251101, 0.11937607707761386, 0.14630894486504456, 0.0672016670957286, 0.08643557337341863, 0.05883771143757553, 0.057346174999499386, 0.053340942907274716, 0.09020983272051201, 0.05779303651986944, 0.1729986729930184, 0.09532266380570187, 0.1190683931053062, 0.17193857351503333, 0.20455484753504038, 0.1188814682164801, 0.05128929037135215, 0.1763181355147526, 0.1092566285020632, 0.06599003432458331, 0.09400715586570092, 0.1627358356062372, 0.13235517795993612, 0.13202346977666252, 0.12983637649600838, 0.1126316934935196, 0.03562236719046354, 0.04510896089855047, 0.08235924375475254, 0.18431210326390365, 0.052340136100338386, 0.1302301674488303, 0.13861216472128157, 0.09662337530944906, 0.11032262031056381, 0.11751702610277803, 0.143885699286542, 0.1806300388931683, 0.15127495694517126, 0.262700273401434, 0.15160544629559336, 0.15176397316331128, 0.09506676721012058, 0.11918886187795928, 0.11905727659435604, 0.03634446000446192, 0.12711250779802205, 0.06981728230752846, 0.22530016621564614, 0.14060222025399916, 0.22350559957127367, 0.1243198225824949, 0.13714488547164314, 0.08034610343880032], \"xaxis\": \"x\", \"y\": [-0.1803951794743686, -0.20531439038222193, -0.16537286383269148, -0.049331626867793126, -0.10294870491081051, -0.20097763119998457, -0.17680671635402676, -0.1455256911809179, -0.12936681565760372, -0.03388056799101109, -0.1026587961564336, -0.08601259582068213, -0.1599223340979161, -0.16161813650155768, -0.10687138008952274, -0.11294818213549211, -0.15798500352591674, -0.14680875626166043, -0.09939461434835749, -0.04841733066487697, -0.0806058662758263, -0.1582225986532136, -0.09753743726284977, -0.1251275829792016, -0.1175458287300884, -0.14800222830681892, -0.11057768702183175, -0.16150125995249032, -0.1251012139904054, -0.06460196424032007, -0.12432777110855796, -0.08251451383666615, -0.2198691992728807, -0.178621453044795, -0.11665130387815403, -0.07773580198093569, -0.07668065774187192, -0.14955195500911653, -0.13990556398453063, -0.08429568764761249, -0.09005256906121623, -0.15558620986712404, -0.08939837890576996, -0.15016874685126855, -0.0916717809534375, -0.16726495771663552, -0.0978141561418598, -0.12893797005565172, -0.06800257397184693, -0.18712366123760485, -0.10795368527642546, -0.08429568764761249, -0.11691149889426157, -0.10148999868911925, -0.11745496498253363, -0.12708446466432718, -0.15473002281977621, -0.16066383740950763, -0.11437932793285688, -0.018433960232380357, -0.08732298935767678, -0.09991764383621651, -0.14515778285684683, -0.11408998624391876, -0.14199932260654688, -0.0931788004339957, -0.12650604041763772, -0.04223489744779877, -0.10678985598729497, -0.05710300477805521, -0.09349730503456688, -0.01775340644969023, -0.08254247878793337, -0.06803811083928683, -0.1593080459415728, -0.07641602510252167, -0.0976239705208229, -0.09698334811412927, -0.055619106556342834, -0.06740529607500102, -0.0384333435767981, -0.1412165780233477, -0.09154625661851794, -0.09118897096419058, -0.08053360156089778, -0.0630096340072051, -0.08652618092743476, -0.0944028172202336, -0.003959557037575403, -0.18821719042631938, -0.08374427977450215, -0.11691270164067925, -0.12157835005812818, -0.10949780660881675, -0.04769545795342631, -0.11148185655306085, 0.0048100178523233774, -0.15753841900288643, -0.18838368447360926, -0.2170363040148824, -0.20073961242898983, -0.07592417225972299, -0.08939837890576996, -0.14245282231683876, -0.04856584639414731, -0.06140936677084973, -0.13344318729069, -0.1062377766504709, -0.15942198347650052, -0.16180578484953473, -0.1174491415815715, -0.08289137666513537, -0.07398146512972478, -0.04378270307049249], \"yaxis\": \"y\"}, {\"hovertemplate\": \"kmeans_labels=3<br>x=%{x}<br>y=%{y}<extra></extra>\", \"legendgroup\": \"3\", \"marker\": {\"color\": \"#FFA15A\", \"symbol\": \"circle\"}, \"mode\": \"markers\", \"name\": \"3\", \"orientation\": \"v\", \"showlegend\": true, \"type\": \"scatter\", \"x\": [-0.04265183354574951, -0.05494046087470168, -0.05571202851729756, -0.0690997445069763, -0.03793972509835904, -0.054370053353857424, -0.05966182892562233, -0.048795640914471916, -0.05565901845584137, -0.05154082670724295, -0.027500754538543275, -0.07361105037255243, -0.03805855449634066, -0.04006452948829451, -0.04680652642788127, -0.05154082670724295, -0.06415687260581811, -0.07361105037255243, -0.040707419836502404, -0.04663195192273879, -0.06800023415155486, -0.060453262964166345, -0.055803728413941836, -0.07339344961865198, -0.04490008762672882, -0.04190690126025966, -0.022536103444112585, -0.06062464646778007, -0.057950433384995705, -0.0610679790250999, -0.041432707134659304, -0.05622721828517397, -0.062292354272898934, -0.04825859395176733, -0.03352297532902067, -0.02594234615007988, -0.06898250172231862, -0.07575763302417053, -0.051443423696499915, -0.05585583426436675, -0.051431794372131405, -0.04334180566073942, -0.0659246162938099, -0.04825721749886016, -0.0703182928166643, -0.05481472340846139, -0.056581831653265025, -0.07564817086989173, -0.07564817086989173, -0.05842244694429503, -0.056131154636341794, -0.04832436080409132, -0.03195984108042941, -0.04935220356950219, -0.08167819224916932, -0.06957120181993681, -0.04119319274074064, -0.0401209398997043, -0.062039195580016075, -0.06267846530747614, -0.038648189323990216, -0.04615580844116184, -0.10012559418908276, -0.053986219960540725, -0.06483772349793801, -0.05465131308908575, -0.025411959250610513, -0.08056933364403088, -0.08065728687978715, -0.051074510715761114, -0.07720458009027631, -0.048249706509181214, -0.10321549852621201, -0.035985408213290715, -0.02972064386670096, -0.047208661665062435, -0.08000213970566238, -0.0720877762026452, -0.041890434055233204, -0.07214380009145441, -0.066322261604177, -0.03234083746569456, -0.05098131970157107, -0.027616383291161267, -0.060842572336843134, -0.020794820718348844, -0.062039811711156266, -0.03783255502834398, -0.07878223122425505, 0.017120049404177645, -0.031829803011666206, -0.06326022174741024, -0.04148160582555073, -0.06661255336697333, -0.04813327587986567, -0.04971802329346726, -0.029112885201531356], \"xaxis\": \"x\", \"y\": [0.0781699357413632, 0.10538808754597274, 0.048284376052074064, 0.06944983372414394, 0.08925717703207067, 0.08606421499319616, 0.07894617307691605, 0.09598714153215986, 0.07993542698755714, 0.11602739190638012, 0.03326371678080114, 0.05507471846385808, 0.08726969223011273, 0.09619638719483167, 0.08783191798320568, 0.11602739190638012, 0.051608334743117185, 0.05507471846385808, 0.08936931521997418, 0.10612806992034023, 0.1425538348696401, 0.05986845518812468, 0.06550723607559945, 0.11746133158747446, 0.031183954473398785, 0.09662504660361322, 0.07499703171685394, 0.11586677666533518, 0.03906198137209379, 0.10760577887590997, 0.05951360999613448, 0.07149930669224698, 0.09263651650259255, 0.0722965878338605, 0.036052491706046914, 0.041986006354526255, 0.13563735192234222, 0.11941274199696517, 0.10179012528222792, 0.048631457107571004, 0.06801520055229694, 0.06686144076484542, 0.0969097538438457, 0.10568311990660158, 0.059159115398318744, 0.13907066330010162, 0.07906833654151306, 0.02231719785572871, 0.02231719785572871, 0.14559117911701422, 0.033636479214392355, 0.052803298046431885, 0.04287596676893037, 0.07999546478447651, 0.1512927218958474, 0.11054838846266915, 0.0756787717484563, 0.07349528141168017, 0.09707227626047428, 0.06313345413098806, 0.012638370925314342, 0.09351648599547153, 0.1491691779977138, 0.11402326598404242, 0.08120966004057906, 0.07486024955046229, 0.036523282037881896, 0.044785803837921134, 0.04497458334800924, 0.05429505981975497, 0.11028009787768046, 0.08266423163967494, 0.1346448956041033, 0.045007420630242906, 0.03837041017502767, 0.07833769055635396, 0.036174514734362874, 0.04746581709952456, 0.06921806693976562, 0.06405755547648176, 0.04592617907826059, 0.028616667446251194, 0.06759077244215535, 0.10611587722149766, 0.0705769126487351, 0.06842902283618317, 0.077460851938267, 0.07597420112623027, 0.07600462517358057, 0.04695351379710442, 0.0672424543584996, 0.07947318660647242, 0.10523052905442434, 0.10873872177933325, 0.05295308391699283, 0.06026441076510926, 0.07151178175261609], \"yaxis\": \"y\"}],                        {\"legend\": {\"title\": {\"text\": \"kmeans_labels\"}, \"tracegroupgap\": 0}, \"template\": {\"data\": {\"bar\": [{\"error_x\": {\"color\": \"#2a3f5f\"}, \"error_y\": {\"color\": \"#2a3f5f\"}, \"marker\": {\"line\": {\"color\": \"#E5ECF6\", \"width\": 0.5}}, \"type\": \"bar\"}], \"barpolar\": [{\"marker\": {\"line\": {\"color\": \"#E5ECF6\", \"width\": 0.5}}, \"type\": \"barpolar\"}], \"carpet\": [{\"aaxis\": {\"endlinecolor\": \"#2a3f5f\", \"gridcolor\": \"white\", \"linecolor\": \"white\", \"minorgridcolor\": \"white\", \"startlinecolor\": \"#2a3f5f\"}, \"baxis\": {\"endlinecolor\": \"#2a3f5f\", \"gridcolor\": \"white\", \"linecolor\": \"white\", \"minorgridcolor\": \"white\", \"startlinecolor\": \"#2a3f5f\"}, \"type\": \"carpet\"}], \"choropleth\": [{\"colorbar\": {\"outlinewidth\": 0, \"ticks\": \"\"}, \"type\": \"choropleth\"}], \"contour\": [{\"colorbar\": {\"outlinewidth\": 0, \"ticks\": \"\"}, \"colorscale\": [[0.0, \"#0d0887\"], [0.1111111111111111, \"#46039f\"], [0.2222222222222222, \"#7201a8\"], [0.3333333333333333, \"#9c179e\"], [0.4444444444444444, \"#bd3786\"], [0.5555555555555556, \"#d8576b\"], [0.6666666666666666, \"#ed7953\"], [0.7777777777777778, \"#fb9f3a\"], [0.8888888888888888, \"#fdca26\"], [1.0, \"#f0f921\"]], \"type\": \"contour\"}], \"contourcarpet\": [{\"colorbar\": {\"outlinewidth\": 0, \"ticks\": \"\"}, \"type\": \"contourcarpet\"}], \"heatmap\": [{\"colorbar\": {\"outlinewidth\": 0, \"ticks\": \"\"}, \"colorscale\": [[0.0, \"#0d0887\"], [0.1111111111111111, \"#46039f\"], [0.2222222222222222, \"#7201a8\"], [0.3333333333333333, \"#9c179e\"], [0.4444444444444444, \"#bd3786\"], [0.5555555555555556, \"#d8576b\"], [0.6666666666666666, \"#ed7953\"], [0.7777777777777778, \"#fb9f3a\"], [0.8888888888888888, \"#fdca26\"], [1.0, \"#f0f921\"]], \"type\": \"heatmap\"}], \"heatmapgl\": [{\"colorbar\": {\"outlinewidth\": 0, \"ticks\": \"\"}, \"colorscale\": [[0.0, \"#0d0887\"], [0.1111111111111111, \"#46039f\"], [0.2222222222222222, \"#7201a8\"], [0.3333333333333333, \"#9c179e\"], [0.4444444444444444, \"#bd3786\"], [0.5555555555555556, \"#d8576b\"], [0.6666666666666666, \"#ed7953\"], [0.7777777777777778, \"#fb9f3a\"], [0.8888888888888888, \"#fdca26\"], [1.0, \"#f0f921\"]], \"type\": \"heatmapgl\"}], \"histogram\": [{\"marker\": {\"colorbar\": {\"outlinewidth\": 0, \"ticks\": \"\"}}, \"type\": \"histogram\"}], \"histogram2d\": [{\"colorbar\": {\"outlinewidth\": 0, \"ticks\": \"\"}, \"colorscale\": [[0.0, \"#0d0887\"], [0.1111111111111111, \"#46039f\"], [0.2222222222222222, \"#7201a8\"], [0.3333333333333333, \"#9c179e\"], [0.4444444444444444, \"#bd3786\"], [0.5555555555555556, \"#d8576b\"], [0.6666666666666666, \"#ed7953\"], [0.7777777777777778, \"#fb9f3a\"], [0.8888888888888888, \"#fdca26\"], [1.0, \"#f0f921\"]], \"type\": \"histogram2d\"}], \"histogram2dcontour\": [{\"colorbar\": {\"outlinewidth\": 0, \"ticks\": \"\"}, \"colorscale\": [[0.0, \"#0d0887\"], [0.1111111111111111, \"#46039f\"], [0.2222222222222222, \"#7201a8\"], [0.3333333333333333, \"#9c179e\"], [0.4444444444444444, \"#bd3786\"], [0.5555555555555556, \"#d8576b\"], [0.6666666666666666, \"#ed7953\"], [0.7777777777777778, \"#fb9f3a\"], [0.8888888888888888, \"#fdca26\"], [1.0, \"#f0f921\"]], \"type\": \"histogram2dcontour\"}], \"mesh3d\": [{\"colorbar\": {\"outlinewidth\": 0, \"ticks\": \"\"}, \"type\": \"mesh3d\"}], \"parcoords\": [{\"line\": {\"colorbar\": {\"outlinewidth\": 0, \"ticks\": \"\"}}, \"type\": \"parcoords\"}], \"pie\": [{\"automargin\": true, \"type\": \"pie\"}], \"scatter\": [{\"marker\": {\"colorbar\": {\"outlinewidth\": 0, \"ticks\": \"\"}}, \"type\": \"scatter\"}], \"scatter3d\": [{\"line\": {\"colorbar\": {\"outlinewidth\": 0, \"ticks\": \"\"}}, \"marker\": {\"colorbar\": {\"outlinewidth\": 0, \"ticks\": \"\"}}, \"type\": \"scatter3d\"}], \"scattercarpet\": [{\"marker\": {\"colorbar\": {\"outlinewidth\": 0, \"ticks\": \"\"}}, \"type\": \"scattercarpet\"}], \"scattergeo\": [{\"marker\": {\"colorbar\": {\"outlinewidth\": 0, \"ticks\": \"\"}}, \"type\": \"scattergeo\"}], \"scattergl\": [{\"marker\": {\"colorbar\": {\"outlinewidth\": 0, \"ticks\": \"\"}}, \"type\": \"scattergl\"}], \"scattermapbox\": [{\"marker\": {\"colorbar\": {\"outlinewidth\": 0, \"ticks\": \"\"}}, \"type\": \"scattermapbox\"}], \"scatterpolar\": [{\"marker\": {\"colorbar\": {\"outlinewidth\": 0, \"ticks\": \"\"}}, \"type\": \"scatterpolar\"}], \"scatterpolargl\": [{\"marker\": {\"colorbar\": {\"outlinewidth\": 0, \"ticks\": \"\"}}, \"type\": \"scatterpolargl\"}], \"scatterternary\": [{\"marker\": {\"colorbar\": {\"outlinewidth\": 0, \"ticks\": \"\"}}, \"type\": \"scatterternary\"}], \"surface\": [{\"colorbar\": {\"outlinewidth\": 0, \"ticks\": \"\"}, \"colorscale\": [[0.0, \"#0d0887\"], [0.1111111111111111, \"#46039f\"], [0.2222222222222222, \"#7201a8\"], [0.3333333333333333, \"#9c179e\"], [0.4444444444444444, \"#bd3786\"], [0.5555555555555556, \"#d8576b\"], [0.6666666666666666, \"#ed7953\"], [0.7777777777777778, \"#fb9f3a\"], [0.8888888888888888, \"#fdca26\"], [1.0, \"#f0f921\"]], \"type\": \"surface\"}], \"table\": [{\"cells\": {\"fill\": {\"color\": \"#EBF0F8\"}, \"line\": {\"color\": \"white\"}}, \"header\": {\"fill\": {\"color\": \"#C8D4E3\"}, \"line\": {\"color\": \"white\"}}, \"type\": \"table\"}]}, \"layout\": {\"annotationdefaults\": {\"arrowcolor\": \"#2a3f5f\", \"arrowhead\": 0, \"arrowwidth\": 1}, \"coloraxis\": {\"colorbar\": {\"outlinewidth\": 0, \"ticks\": \"\"}}, \"colorscale\": {\"diverging\": [[0, \"#8e0152\"], [0.1, \"#c51b7d\"], [0.2, \"#de77ae\"], [0.3, \"#f1b6da\"], [0.4, \"#fde0ef\"], [0.5, \"#f7f7f7\"], [0.6, \"#e6f5d0\"], [0.7, \"#b8e186\"], [0.8, \"#7fbc41\"], [0.9, \"#4d9221\"], [1, \"#276419\"]], \"sequential\": [[0.0, \"#0d0887\"], [0.1111111111111111, \"#46039f\"], [0.2222222222222222, \"#7201a8\"], [0.3333333333333333, \"#9c179e\"], [0.4444444444444444, \"#bd3786\"], [0.5555555555555556, \"#d8576b\"], [0.6666666666666666, \"#ed7953\"], [0.7777777777777778, \"#fb9f3a\"], [0.8888888888888888, \"#fdca26\"], [1.0, \"#f0f921\"]], \"sequentialminus\": [[0.0, \"#0d0887\"], [0.1111111111111111, \"#46039f\"], [0.2222222222222222, \"#7201a8\"], [0.3333333333333333, \"#9c179e\"], [0.4444444444444444, \"#bd3786\"], [0.5555555555555556, \"#d8576b\"], [0.6666666666666666, \"#ed7953\"], [0.7777777777777778, \"#fb9f3a\"], [0.8888888888888888, \"#fdca26\"], [1.0, \"#f0f921\"]]}, \"colorway\": [\"#636efa\", \"#EF553B\", \"#00cc96\", \"#ab63fa\", \"#FFA15A\", \"#19d3f3\", \"#FF6692\", \"#B6E880\", \"#FF97FF\", \"#FECB52\"], \"font\": {\"color\": \"#2a3f5f\"}, \"geo\": {\"bgcolor\": \"white\", \"lakecolor\": \"white\", \"landcolor\": \"#E5ECF6\", \"showlakes\": true, \"showland\": true, \"subunitcolor\": \"white\"}, \"hoverlabel\": {\"align\": \"left\"}, \"hovermode\": \"closest\", \"mapbox\": {\"style\": \"light\"}, \"paper_bgcolor\": \"white\", \"plot_bgcolor\": \"#E5ECF6\", \"polar\": {\"angularaxis\": {\"gridcolor\": \"white\", \"linecolor\": \"white\", \"ticks\": \"\"}, \"bgcolor\": \"#E5ECF6\", \"radialaxis\": {\"gridcolor\": \"white\", \"linecolor\": \"white\", \"ticks\": \"\"}}, \"scene\": {\"xaxis\": {\"backgroundcolor\": \"#E5ECF6\", \"gridcolor\": \"white\", \"gridwidth\": 2, \"linecolor\": \"white\", \"showbackground\": true, \"ticks\": \"\", \"zerolinecolor\": \"white\"}, \"yaxis\": {\"backgroundcolor\": \"#E5ECF6\", \"gridcolor\": \"white\", \"gridwidth\": 2, \"linecolor\": \"white\", \"showbackground\": true, \"ticks\": \"\", \"zerolinecolor\": \"white\"}, \"zaxis\": {\"backgroundcolor\": \"#E5ECF6\", \"gridcolor\": \"white\", \"gridwidth\": 2, \"linecolor\": \"white\", \"showbackground\": true, \"ticks\": \"\", \"zerolinecolor\": \"white\"}}, \"shapedefaults\": {\"line\": {\"color\": \"#2a3f5f\"}}, \"ternary\": {\"aaxis\": {\"gridcolor\": \"white\", \"linecolor\": \"white\", \"ticks\": \"\"}, \"baxis\": {\"gridcolor\": \"white\", \"linecolor\": \"white\", \"ticks\": \"\"}, \"bgcolor\": \"#E5ECF6\", \"caxis\": {\"gridcolor\": \"white\", \"linecolor\": \"white\", \"ticks\": \"\"}}, \"title\": {\"x\": 0.05}, \"xaxis\": {\"automargin\": true, \"gridcolor\": \"white\", \"linecolor\": \"white\", \"ticks\": \"\", \"title\": {\"standoff\": 15}, \"zerolinecolor\": \"white\", \"zerolinewidth\": 2}, \"yaxis\": {\"automargin\": true, \"gridcolor\": \"white\", \"linecolor\": \"white\", \"ticks\": \"\", \"title\": {\"standoff\": 15}, \"zerolinecolor\": \"white\", \"zerolinewidth\": 2}}}, \"title\": {\"text\": \"K-means BBC Sport news\"}, \"xaxis\": {\"anchor\": \"y\", \"domain\": [0.0, 1.0], \"title\": {\"text\": \"x\"}}, \"yaxis\": {\"anchor\": \"x\", \"domain\": [0.0, 1.0], \"title\": {\"text\": \"y\"}}},                        {\"responsive\": true}                    ).then(function(){\n",
       "                            \n",
       "var gd = document.getElementById('f37a893c-5d26-49db-bbb8-03b8be8231fa');\n",
       "var x = new MutationObserver(function (mutations, observer) {{\n",
       "        var display = window.getComputedStyle(gd).display;\n",
       "        if (!display || display === 'none') {{\n",
       "            console.log([gd, 'removed!']);\n",
       "            Plotly.purge(gd);\n",
       "            observer.disconnect();\n",
       "        }}\n",
       "}});\n",
       "\n",
       "// Listen for the removal of the full notebook cells\n",
       "var notebookContainer = gd.closest('#notebook-container');\n",
       "if (notebookContainer) {{\n",
       "    x.observe(notebookContainer, {childList: true});\n",
       "}}\n",
       "\n",
       "// Listen for the clearing of the current output cell\n",
       "var outputEl = gd.closest('.output');\n",
       "if (outputEl) {{\n",
       "    x.observe(outputEl, {childList: true});\n",
       "}}\n",
       "\n",
       "                        })                };                });            </script>        </div>"
      ]
     },
     "metadata": {},
     "output_type": "display_data"
    }
   ],
   "source": [
    "hero.scatterplot(df, 'pca', color='kmeans_labels', title=\"K-means BBC Sport news\")"
   ]
  },
  {
   "cell_type": "code",
   "execution_count": null,
   "metadata": {},
   "outputs": [],
   "source": []
  }
 ],
 "metadata": {
  "kernelspec": {
   "display_name": "Python 3",
   "language": "python",
   "name": "python3"
  },
  "language_info": {
   "codemirror_mode": {
    "name": "ipython",
    "version": 3
   },
   "file_extension": ".py",
   "mimetype": "text/x-python",
   "name": "python",
   "nbconvert_exporter": "python",
   "pygments_lexer": "ipython3",
   "version": "3.8.5"
  }
 },
 "nbformat": 4,
 "nbformat_minor": 4
}
