{
 "cells": [
  {
   "cell_type": "markdown",
   "metadata": {},
   "source": [
    "## Segment 5 - Introduction to NLP"
   ]
  },
  {
   "cell_type": "code",
   "execution_count": null,
   "metadata": {},
   "outputs": [],
   "source": []
  },
  {
   "cell_type": "code",
   "execution_count": null,
   "metadata": {},
   "outputs": [],
   "source": []
  },
  {
   "cell_type": "code",
   "execution_count": 1,
   "metadata": {},
   "outputs": [],
   "source": [
    "import nltk"
   ]
  },
  {
   "cell_type": "code",
   "execution_count": 2,
   "metadata": {},
   "outputs": [],
   "source": [
    "text = \"On Wednesday, the Association for Computing Machinery, the world’s largest society of computing professionals, announced that Hinton, LeCun and Bengio had won this year’s Turing Award for their work on neural networks. The Turing Award, which was introduced in 1966, is often called the Nobel Prize of computing, and it includes a $1 million prize, which the three scientists will share.\""
   ]
  },
  {
   "cell_type": "code",
   "execution_count": 3,
   "metadata": {},
   "outputs": [
    {
     "name": "stderr",
     "output_type": "stream",
     "text": [
      "[nltk_data] Downloading package punkt to\n",
      "[nltk_data]     C:\\Users\\ANTHONY\\AppData\\Roaming\\nltk_data...\n",
      "[nltk_data]   Package punkt is already up-to-date!\n"
     ]
    },
    {
     "data": {
      "text/plain": [
       "True"
      ]
     },
     "execution_count": 3,
     "metadata": {},
     "output_type": "execute_result"
    }
   ],
   "source": [
    "nltk.download('punkt')"
   ]
  },
  {
   "cell_type": "markdown",
   "metadata": {},
   "source": [
    "<h3>Sentence Tokenizer</h3>"
   ]
  },
  {
   "cell_type": "code",
   "execution_count": 3,
   "metadata": {
    "scrolled": true
   },
   "outputs": [
    {
     "name": "stdout",
     "output_type": "stream",
     "text": [
      "Sentence tokenizing the text: \n",
      "\n",
      "['On Wednesday, the Association for Computing Machinery, the world’s largest society of computing professionals, announced that Hinton, LeCun and Bengio had won this year’s Turing Award for their work on neural networks.', 'The Turing Award, which was introduced in 1966, is often called the Nobel Prize of computing, and it includes a $1 million prize, which the three scientists will share.']\n"
     ]
    }
   ],
   "source": [
    "from nltk.tokenize import sent_tokenize\n",
    "sent_tk = sent_tokenize(text)\n",
    "print(\"Sentence tokenizing the text: \\n\")\n",
    "print(sent_tk)"
   ]
  },
  {
   "cell_type": "markdown",
   "metadata": {},
   "source": [
    "### Word Tokenizer"
   ]
  },
  {
   "cell_type": "code",
   "execution_count": 4,
   "metadata": {
    "scrolled": false
   },
   "outputs": [
    {
     "name": "stdout",
     "output_type": "stream",
     "text": [
      "Word tokenizing the text: \n",
      "\n",
      "['On', 'Wednesday', ',', 'the', 'Association', 'for', 'Computing', 'Machinery', ',', 'the', 'world', '’', 's', 'largest', 'society', 'of', 'computing', 'professionals', ',', 'announced', 'that', 'Hinton', ',', 'LeCun', 'and', 'Bengio', 'had', 'won', 'this', 'year', '’', 's', 'Turing', 'Award', 'for', 'their', 'work', 'on', 'neural', 'networks', '.', 'The', 'Turing', 'Award', ',', 'which', 'was', 'introduced', 'in', '1966', ',', 'is', 'often', 'called', 'the', 'Nobel', 'Prize', 'of', 'computing', ',', 'and', 'it', 'includes', 'a', '$', '1', 'million', 'prize', ',', 'which', 'the', 'three', 'scientists', 'will', 'share', '.']\n"
     ]
    }
   ],
   "source": [
    "from nltk.tokenize import word_tokenize\n",
    "word_tk = word_tokenize(text)      # OR word_tokenize(\" hii  there or text\")\n",
    "print(\"Word tokenizing the text: \\n\")\n",
    "print(word_tk)"
   ]
  },
  {
   "cell_type": "markdown",
   "metadata": {},
   "source": [
    "### REGEX TOKENIZER\n",
    "The regexp_tokenize uses regular expressions to tokenize the string, giving you more granular control over the process. "
   ]
  },
  {
   "cell_type": "code",
   "execution_count": 5,
   "metadata": {},
   "outputs": [
    {
     "data": {
      "text/plain": [
       "['#nlp', '#python', '#NLP', '#learning', '@datacamp', '#nlp', '#python']"
      ]
     },
     "execution_count": 5,
     "metadata": {},
     "output_type": "execute_result"
    }
   ],
   "source": [
    "from nltk.tokenize import regexp_tokenize\n",
    "tweets=\"'This is the best #nlp exercise ive found online! #python','#NLP is super fun! <3 #learning','Thanks @datacamp :) #nlp #python'\"\n",
    "# Define a regex pattern to find hashtags: pattern1\n",
    "pattern1 = r\"([@#]\\w+)\"\n",
    "# Use the pattern on the first tweet in the tweets list\n",
    "hashtags = regexp_tokenize(tweets, pattern1)\n",
    "hashtags"
   ]
  },
  {
   "cell_type": "markdown",
   "metadata": {},
   "source": [
    "EMOJI TOKENIZING"
   ]
  },
  {
   "cell_type": "code",
   "execution_count": 6,
   "metadata": {},
   "outputs": [
    {
     "name": "stdout",
     "output_type": "stream",
     "text": [
      "['Wann', 'gehen', 'wir', 'Pizza', 'essen', '?', '🍕', 'Und', 'fährst', 'du', 'mit', 'Über', '?', '🚕']\n",
      "['Wann', 'Pizza', 'Und', 'Über']\n",
      "['🍕', '🚕']\n"
     ]
    }
   ],
   "source": [
    "from nltk.tokenize import word_tokenize\n",
    "from nltk.tokenize import regexp_tokenize\n",
    "\n",
    "german_text=\"Wann gehen wir Pizza essen? 🍕 Und fährst du mit Über? 🚕\"\n",
    "# Tokenize and print all words in german_text\n",
    "all_words = word_tokenize(german_text)\n",
    "print(all_words)\n",
    "\n",
    "# Tokenize and print only capital words\n",
    "capital_words = r\"[A-ZÜ]\\w+\"\n",
    "print(regexp_tokenize(german_text, capital_words))\n",
    "\n",
    "# Tokenize and print only emoji\n",
    "emoji = \"['\\U0001F300-\\U0001F5FF'|'\\U0001F600-\\U0001F64F'|'\\U0001F680-\\U0001F6FF'|'\\u2600-\\u26FF\\u2700-\\u27BF']\"\n",
    "print(regexp_tokenize(german_text, emoji))"
   ]
  },
  {
   "cell_type": "markdown",
   "metadata": {},
   "source": [
    "### TWEEET TOKENIZER\n",
    "And the tweettokenizer does neat things like recognize hashtags, mentions and when you have too many punctuation symbols following a sentence."
   ]
  },
  {
   "cell_type": "code",
   "execution_count": 10,
   "metadata": {},
   "outputs": [
    {
     "name": "stdout",
     "output_type": "stream",
     "text": [
      "['This', 'is', 'the', 'best', '#', 'nlp', 'exercise', 'ive', 'found', 'online', '!', '#', 'python', \"'\", ',', \"'\", '#', 'NLP', 'is', 'super', 'fun', '!', '<', '3', '#', 'learning', \"'\", ',', \"'Thanks\", '@', 'datacamp', ':', ')', '#', 'nlp', '#', 'python']\n",
      "[['This'], ['is'], ['the'], ['best'], ['#'], ['nlp'], ['exercise'], ['ive'], ['found'], ['online'], ['!'], ['#'], ['python'], [\"'\"], [','], [\"'\"], ['#'], ['NLP'], ['is'], ['super'], ['fun'], ['!'], ['<'], ['3'], ['#'], ['learning'], [\"'\"], [','], [\"'\", 'Thanks'], ['@'], ['datacamp'], [':'], [')'], ['#'], ['nlp'], ['#'], ['python']]\n"
     ]
    }
   ],
   "source": [
    "from nltk.tokenize import TweetTokenizer\n",
    "tweets=\"This is the best #nlp exercise ive found online! #python','#NLP is super fun! <3 #learning','Thanks @datacamp :) #nlp #python\"\n",
    "word_tokenized = word_tokenize(tweets)  \n",
    "print(word_tokenized)\n",
    "tknzr = TweetTokenizer()\n",
    "\n",
    "# Use the TweetTokenizer to tokenize all tweets into one list\n",
    "all_tokens = [tknzr.tokenize(t) for t in word_tokenized]\n",
    "print(all_tokens)\n",
    "    \n"
   ]
  },
  {
   "cell_type": "code",
   "execution_count": 12,
   "metadata": {
    "scrolled": true
   },
   "outputs": [
    {
     "data": {
      "text/plain": [
       "['This',\n",
       " 'is',\n",
       " 'the',\n",
       " 'best',\n",
       " '#nlp',\n",
       " 'exercise',\n",
       " 'ive',\n",
       " 'found',\n",
       " 'online',\n",
       " '!',\n",
       " '#python',\n",
       " \"'\",\n",
       " ',',\n",
       " \"'\",\n",
       " '#NLP',\n",
       " 'is',\n",
       " 'super',\n",
       " 'fun',\n",
       " '!',\n",
       " '<3',\n",
       " '#learning',\n",
       " \"'\",\n",
       " ',',\n",
       " \"'\",\n",
       " 'Thanks',\n",
       " '@datacamp',\n",
       " ':)',\n",
       " '#nlp',\n",
       " '#python']"
      ]
     },
     "execution_count": 12,
     "metadata": {},
     "output_type": "execute_result"
    }
   ],
   "source": [
    "######################################  OR #####################\n",
    "\n",
    "twee = tknzr.tokenize(tweets)\n",
    "twee"
   ]
  },
  {
   "cell_type": "code",
   "execution_count": 13,
   "metadata": {
    "scrolled": true
   },
   "outputs": [
    {
     "name": "stdout",
     "output_type": "stream",
     "text": [
      "#nlp\n",
      "#python\n",
      "#NLP\n",
      "#learning\n",
      "#nlp\n",
      "#python\n"
     ]
    }
   ],
   "source": [
    "for i in twee:\n",
    "    if i[0]=='#':\n",
    "        print(i)"
   ]
  },
  {
   "cell_type": "markdown",
   "metadata": {},
   "source": [
    "### FILTERING THE TOKENS"
   ]
  },
  {
   "cell_type": "code",
   "execution_count": 17,
   "metadata": {
    "scrolled": true
   },
   "outputs": [
    {
     "name": "stdout",
     "output_type": "stream",
     "text": [
      "[['@', 'VirginAmerica', 'it', \"'s\", 'really', 'aggressive', 'to', 'blast', 'obnoxious', \"'entertainment\", \"'\", 'in', 'your', 'guests', \"'\", 'faces', '&', 'amp', ';', 'they', 'have', 'little', 'recourse'], ['@', 'VirginAmerica', 'Hey', ',', 'first', 'time', 'flyer', 'next', 'week', '-', 'excited', '!', 'But', 'I', \"'m\", 'having', 'a', 'hard', 'time', 'getting', 'my', 'flights', 'added', 'to', 'my', 'Elevate', 'account', '.', 'Help', '?'], ['@', 'united', 'Change', 'made', 'in', 'just', 'over', '3', 'hours', '.', 'For', 'something', 'that', 'should', 'have', 'taken', 'seconds', 'online', ',', 'I', 'am', 'not', 'thrilled', '.', 'Loved', 'the', 'agent', ',', 'though', '.']]\n",
      "\n",
      "item in alphabetic list: \t [['VirginAmerica', 'it', 'really', 'aggressive', 'to', 'blast', 'obnoxious', 'in', 'your', 'guests', 'faces', 'amp', 'they', 'have', 'little', 'recourse'], ['VirginAmerica', 'Hey', 'first', 'time', 'flyer', 'next', 'week', 'excited', 'But', 'I', 'having', 'a', 'hard', 'time', 'getting', 'my', 'flights', 'added', 'to', 'my', 'Elevate', 'account', 'Help'], ['united', 'Change', 'made', 'in', 'just', 'over', 'hours', 'For', 'something', 'that', 'should', 'have', 'taken', 'seconds', 'online', 'I', 'am', 'not', 'thrilled', 'Loved', 'the', 'agent', 'though']]\n",
      "\n",
      " item in list of alphanumerics:\t  [['VirginAmerica', 'it', 'really', 'aggressive', 'to', 'blast', 'obnoxious', 'in', 'your', 'guests', 'faces', 'amp', 'they', 'have', 'little', 'recourse'], ['VirginAmerica', 'Hey', 'first', 'time', 'flyer', 'next', 'week', 'excited', 'But', 'I', 'having', 'a', 'hard', 'time', 'getting', 'my', 'flights', 'added', 'to', 'my', 'Elevate', 'account', 'Help'], ['united', 'Change', 'made', 'in', 'just', 'over', '3', 'hours', 'For', 'something', 'that', 'should', 'have', 'taken', 'seconds', 'online', 'I', 'am', 'not', 'thrilled', 'Loved', 'the', 'agent', 'though']]\n",
      "\n",
      "item in the list of digits:  [[], [], ['3']]\n"
     ]
    }
   ],
   "source": [
    "## tweets_list contain 3 string in a list\n",
    "tweets_list=[\"@VirginAmerica it's really aggressive to blast obnoxious 'entertainment' in your guests' faces &amp; they have little recourse\",\n",
    " \"@VirginAmerica Hey, first time flyer next week - excited! But I'm having a hard time getting my flights added to my Elevate account. Help?\",\n",
    " '@united Change made in just over 3 hours. For something that should have taken seconds online, I am not thrilled. Loved the agent, though.']\n",
    "\n",
    "# Create a list of lists, containing the tokens from list_tweets\n",
    "tokens = [word_tokenize(item) for item in tweets_list]\n",
    "\n",
    "print(tokens)\n",
    "\n",
    "# Remove characters and digits , i.e. retain only letters\n",
    "letters = [[word for word in item if word.isalpha()] for item in tokens]\n",
    "# Remove characters, i.e. retain only letters and digits\n",
    "let_digits = [[word for word in item if word.isalnum()] for item in tokens]\n",
    "# Remove letters and characters, retain only digits\n",
    "digits = [[word for word in item if word.isdigit()] for item in tokens]\n",
    "\n",
    "# Print the last item in each list\n",
    "print('\\nitem in alphabetic list: \\t', letters)\n",
    "print('\\n item in list of alphanumerics:\\t ', let_digits)\n",
    "print('\\nitem in the list of digits: ', digits)\n",
    "\n",
    "\n"
   ]
  },
  {
   "cell_type": "code",
   "execution_count": 32,
   "metadata": {},
   "outputs": [
    {
     "ename": "AttributeError",
     "evalue": "'list' object has no attribute 'isalpha'",
     "output_type": "error",
     "traceback": [
      "\u001b[1;31m---------------------------------------------------------------------------\u001b[0m",
      "\u001b[1;31mAttributeError\u001b[0m                            Traceback (most recent call last)",
      "\u001b[1;32m<ipython-input-32-43ed85d13125>\u001b[0m in \u001b[0;36m<module>\u001b[1;34m\u001b[0m\n\u001b[1;32m----> 1\u001b[1;33m \u001b[0malpha_only\u001b[0m \u001b[1;33m=\u001b[0m \u001b[1;33m[\u001b[0m\u001b[0mt\u001b[0m \u001b[1;32mfor\u001b[0m \u001b[0mt\u001b[0m \u001b[1;32min\u001b[0m \u001b[0mtokens\u001b[0m \u001b[1;32mif\u001b[0m \u001b[0mt\u001b[0m\u001b[1;33m.\u001b[0m\u001b[0misalpha\u001b[0m\u001b[1;33m(\u001b[0m\u001b[1;33m)\u001b[0m\u001b[1;33m]\u001b[0m\u001b[1;33m\u001b[0m\u001b[1;33m\u001b[0m\u001b[0m\n\u001b[0m\u001b[0;32m      2\u001b[0m \u001b[0malpha_only\u001b[0m\u001b[1;33m\u001b[0m\u001b[1;33m\u001b[0m\u001b[0m\n\u001b[0;32m      3\u001b[0m \u001b[1;31m# this will only work when word_tk is a list....ie word_tk is tokenized from a single string...\u001b[0m\u001b[1;33m\u001b[0m\u001b[1;33m\u001b[0m\u001b[1;33m\u001b[0m\u001b[0m\n\u001b[0;32m      4\u001b[0m \u001b[1;31m#  if more than that have to follow the above example....\u001b[0m\u001b[1;33m\u001b[0m\u001b[1;33m\u001b[0m\u001b[1;33m\u001b[0m\u001b[0m\n",
      "\u001b[1;32m<ipython-input-32-43ed85d13125>\u001b[0m in \u001b[0;36m<listcomp>\u001b[1;34m(.0)\u001b[0m\n\u001b[1;32m----> 1\u001b[1;33m \u001b[0malpha_only\u001b[0m \u001b[1;33m=\u001b[0m \u001b[1;33m[\u001b[0m\u001b[0mt\u001b[0m \u001b[1;32mfor\u001b[0m \u001b[0mt\u001b[0m \u001b[1;32min\u001b[0m \u001b[0mtokens\u001b[0m \u001b[1;32mif\u001b[0m \u001b[0mt\u001b[0m\u001b[1;33m.\u001b[0m\u001b[0misalpha\u001b[0m\u001b[1;33m(\u001b[0m\u001b[1;33m)\u001b[0m\u001b[1;33m]\u001b[0m\u001b[1;33m\u001b[0m\u001b[1;33m\u001b[0m\u001b[0m\n\u001b[0m\u001b[0;32m      2\u001b[0m \u001b[0malpha_only\u001b[0m\u001b[1;33m\u001b[0m\u001b[1;33m\u001b[0m\u001b[0m\n\u001b[0;32m      3\u001b[0m \u001b[1;31m# this will only work when word_tk is a list....ie word_tk is tokenized from a single string...\u001b[0m\u001b[1;33m\u001b[0m\u001b[1;33m\u001b[0m\u001b[1;33m\u001b[0m\u001b[0m\n\u001b[0;32m      4\u001b[0m \u001b[1;31m#  if more than that have to follow the above example....\u001b[0m\u001b[1;33m\u001b[0m\u001b[1;33m\u001b[0m\u001b[1;33m\u001b[0m\u001b[0m\n",
      "\u001b[1;31mAttributeError\u001b[0m: 'list' object has no attribute 'isalpha'"
     ]
    }
   ],
   "source": [
    "alpha_only = [t for t in tokens if t.isalpha()]\n",
    "alpha_only\n",
    "# this will only work when word_tk is a list....ie word_tk is tokenized from a single string...\n",
    "#  if more than that have to follow the above example...."
   ]
  },
  {
   "cell_type": "markdown",
   "metadata": {},
   "source": [
    "### Tokenizing a panda df...."
   ]
  },
  {
   "cell_type": "code",
   "execution_count": null,
   "metadata": {},
   "outputs": [],
   "source": []
  },
  {
   "cell_type": "markdown",
   "metadata": {},
   "source": [
    "### Removing stop words"
   ]
  },
  {
   "cell_type": "code",
   "execution_count": 10,
   "metadata": {
    "scrolled": true
   },
   "outputs": [
    {
     "name": "stderr",
     "output_type": "stream",
     "text": [
      "[nltk_data] Downloading package stopwords to\n",
      "[nltk_data]     C:\\Users\\ANTHONY\\AppData\\Roaming\\nltk_data...\n",
      "[nltk_data]   Package stopwords is already up-to-date!\n"
     ]
    },
    {
     "data": {
      "text/plain": [
       "True"
      ]
     },
     "execution_count": 10,
     "metadata": {},
     "output_type": "execute_result"
    }
   ],
   "source": [
    "nltk.download('stopwords')"
   ]
  },
  {
   "cell_type": "code",
   "execution_count": 33,
   "metadata": {},
   "outputs": [
    {
     "name": "stdout",
     "output_type": "stream",
     "text": [
      "Stop words in English language are: \n",
      "\n",
      "{'just', 'about', \"she's\", 'over', 'their', 'his', 'or', \"couldn't\", 'some', 'we', 'again', 'has', 'its', 'only', 'own', \"aren't\", 'mightn', 'where', 'how', 'when', 'here', 'out', 'more', 'shouldn', 'from', 'to', 'she', \"needn't\", 'been', \"don't\", 'hadn', \"mustn't\", 'did', 'with', 'through', \"you're\", \"you've\", 'those', 'him', \"wouldn't\", 'no', 'won', 'the', 'all', 'few', 'such', 'same', 'there', 'too', 'it', 'does', 'ourselves', 'that', 'them', \"shan't\", 'why', 'our', 'do', \"didn't\", 'than', 'they', 'after', 'ours', 'ain', \"you'd\", 'further', 'needn', 'of', 'which', 'hasn', 'as', 'up', 'is', 'down', 'isn', 's', 'himself', 'on', 'nor', 'be', 'can', 'while', 'couldn', 'so', 'then', 'was', 'you', 'are', 'below', \"weren't\", 'having', 'by', \"haven't\", 'themselves', 'd', \"shouldn't\", 'a', 'yourself', \"should've\", 'under', 'shan', 'have', 'he', 'once', 'weren', 'these', 'what', 'aren', 'at', 'each', 'any', 'mustn', 'her', \"hadn't\", 'itself', 'into', 'wasn', 'this', 'had', 'both', 'now', 't', 'didn', 'herself', 'but', 'll', 'between', 'y', 'during', \"won't\", 'don', 'before', \"mightn't\", 've', \"doesn't\", 'other', 'who', 'myself', 'i', \"wasn't\", 'and', \"that'll\", 'theirs', 'until', 'will', 'o', 'above', 'very', \"isn't\", 'doesn', 'for', 'because', 'off', 'an', 'yours', \"hasn't\", 'should', 'against', 'in', 'yourselves', 'most', 'my', 'am', 'haven', \"you'll\", 'hers', 'not', 'being', 'wouldn', 'whom', 'were', 're', \"it's\", 'm', 'ma', 'me', 'your', 'doing', 'if'}\n"
     ]
    }
   ],
   "source": [
    "from nltk.corpus import stopwords\n",
    "\n",
    "sw = set(stopwords.words(\"english\"))\n",
    "print(\"Stop words in English language are: \\n\")\n",
    "print(sw)"
   ]
  },
  {
   "cell_type": "code",
   "execution_count": 34,
   "metadata": {
    "scrolled": true
   },
   "outputs": [
    {
     "data": {
      "text/plain": [
       "['On',\n",
       " 'Wednesday',\n",
       " ',',\n",
       " 'the',\n",
       " 'Association',\n",
       " 'for',\n",
       " 'Computing',\n",
       " 'Machinery',\n",
       " ',',\n",
       " 'the',\n",
       " 'world',\n",
       " '’',\n",
       " 's',\n",
       " 'largest',\n",
       " 'society',\n",
       " 'of',\n",
       " 'computing',\n",
       " 'professionals',\n",
       " ',',\n",
       " 'announced',\n",
       " 'that',\n",
       " 'Hinton',\n",
       " ',',\n",
       " 'LeCun',\n",
       " 'and',\n",
       " 'Bengio',\n",
       " 'had',\n",
       " 'won',\n",
       " 'this',\n",
       " 'year',\n",
       " '’',\n",
       " 's',\n",
       " 'Turing',\n",
       " 'Award',\n",
       " 'for',\n",
       " 'their',\n",
       " 'work',\n",
       " 'on',\n",
       " 'neural',\n",
       " 'networks',\n",
       " '.',\n",
       " 'The',\n",
       " 'Turing',\n",
       " 'Award',\n",
       " ',',\n",
       " 'which',\n",
       " 'was',\n",
       " 'introduced',\n",
       " 'in',\n",
       " '1966',\n",
       " ',',\n",
       " 'is',\n",
       " 'often',\n",
       " 'called',\n",
       " 'the',\n",
       " 'Nobel',\n",
       " 'Prize',\n",
       " 'of',\n",
       " 'computing',\n",
       " ',',\n",
       " 'and',\n",
       " 'it',\n",
       " 'includes',\n",
       " 'a',\n",
       " '$',\n",
       " '1',\n",
       " 'million',\n",
       " 'prize',\n",
       " ',',\n",
       " 'which',\n",
       " 'the',\n",
       " 'three',\n",
       " 'scientists',\n",
       " 'will',\n",
       " 'share',\n",
       " '.']"
      ]
     },
     "execution_count": 34,
     "metadata": {},
     "output_type": "execute_result"
    }
   ],
   "source": [
    "word_tk"
   ]
  },
  {
   "cell_type": "code",
   "execution_count": 35,
   "metadata": {
    "scrolled": true
   },
   "outputs": [
    {
     "name": "stdout",
     "output_type": "stream",
     "text": [
      "The text after removing stop words \n",
      "\n",
      "['On', 'Wednesday', ',', 'Association', 'Computing', 'Machinery', ',', 'world', '’', 'largest', 'society', 'computing', 'professionals', ',', 'announced', 'Hinton', ',', 'LeCun', 'Bengio', 'year', '’', 'Turing', 'Award', 'work', 'neural', 'networks', '.', 'The', 'Turing', 'Award', ',', 'introduced', '1966', ',', 'often', 'called', 'Nobel', 'Prize', 'computing', ',', 'includes', '$', '1', 'million', 'prize', ',', 'three', 'scientists', 'share', '.']\n"
     ]
    },
    {
     "data": {
      "text/plain": [
       "['On',\n",
       " 'Wednesday',\n",
       " ',',\n",
       " 'the',\n",
       " 'Association',\n",
       " 'for',\n",
       " 'Computing',\n",
       " 'Machinery',\n",
       " ',',\n",
       " 'the',\n",
       " 'world',\n",
       " '’',\n",
       " 's',\n",
       " 'largest',\n",
       " 'society',\n",
       " 'of',\n",
       " 'computing',\n",
       " 'professionals',\n",
       " ',',\n",
       " 'announced',\n",
       " 'that',\n",
       " 'Hinton',\n",
       " ',',\n",
       " 'LeCun',\n",
       " 'and',\n",
       " 'Bengio',\n",
       " 'had',\n",
       " 'won',\n",
       " 'this',\n",
       " 'year',\n",
       " '’',\n",
       " 's',\n",
       " 'Turing',\n",
       " 'Award',\n",
       " 'for',\n",
       " 'their',\n",
       " 'work',\n",
       " 'on',\n",
       " 'neural',\n",
       " 'networks',\n",
       " '.',\n",
       " 'The',\n",
       " 'Turing',\n",
       " 'Award',\n",
       " ',',\n",
       " 'which',\n",
       " 'was',\n",
       " 'introduced',\n",
       " 'in',\n",
       " '1966',\n",
       " ',',\n",
       " 'is',\n",
       " 'often',\n",
       " 'called',\n",
       " 'the',\n",
       " 'Nobel',\n",
       " 'Prize',\n",
       " 'of',\n",
       " 'computing',\n",
       " ',',\n",
       " 'and',\n",
       " 'it',\n",
       " 'includes',\n",
       " 'a',\n",
       " '$',\n",
       " '1',\n",
       " 'million',\n",
       " 'prize',\n",
       " ',',\n",
       " 'which',\n",
       " 'the',\n",
       " 'three',\n",
       " 'scientists',\n",
       " 'will',\n",
       " 'share',\n",
       " '.']"
      ]
     },
     "execution_count": 35,
     "metadata": {},
     "output_type": "execute_result"
    }
   ],
   "source": [
    "filtered_words = [w for w in word_tk if not w in sw]\n",
    "\n",
    "print(\"The text after removing stop words \\n\")\n",
    "print(filtered_words)\n",
    "\n",
    "### but if we see here we are also having , . '  etc in the filtered text... so we will remove that too\n",
    "word_tk"
   ]
  },
  {
   "cell_type": "code",
   "execution_count": 37,
   "metadata": {},
   "outputs": [
    {
     "name": "stdout",
     "output_type": "stream",
     "text": [
      "['On', 'Wednesday', 'the', 'Association', 'for', 'Computing', 'Machinery', 'the', 'world', 's', 'largest', 'society', 'of', 'computing', 'professionals', 'announced', 'that', 'Hinton', 'LeCun', 'and', 'Bengio', 'had', 'won', 'this', 'year', 's', 'Turing', 'Award', 'for', 'their', 'work', 'on', 'neural', 'networks', 'The', 'Turing', 'Award', 'which', 'was', 'introduced', 'in', 'is', 'often', 'called', 'the', 'Nobel', 'Prize', 'of', 'computing', 'and', 'it', 'includes', 'a', 'million', 'prize', 'which', 'the', 'three', 'scientists', 'will', 'share']\n",
      "\n",
      "The text after removing stop words and unwanted punctuations\n",
      "\n",
      "['On', 'Wednesday', 'Association', 'Computing', 'Machinery', 'world', 'largest', 'society', 'computing', 'professionals', 'announced', 'Hinton', 'LeCun', 'Bengio', 'year', 'Turing', 'Award', 'work', 'neural', 'networks', 'The', 'Turing', 'Award', 'introduced', 'often', 'called', 'Nobel', 'Prize', 'computing', 'includes', 'million', 'prize', 'three', 'scientists', 'share']\n"
     ]
    }
   ],
   "source": [
    "# Retain alphabetic words: alpha_only\n",
    "alpha_only = [t for t in word_tk if t.isalpha()]\n",
    "\n",
    "print(alpha_only)\n",
    "\n",
    "again_filtered_words = [w for w in alpha_only if not w in sw]\n",
    "\n",
    "print(\"\\nThe text after removing stop words and unwanted punctuations\\n\")\n",
    "print(again_filtered_words)"
   ]
  },
  {
   "cell_type": "code",
   "execution_count": 31,
   "metadata": {},
   "outputs": [
    {
     "ename": "SyntaxError",
     "evalue": "EOL while scanning string literal (<ipython-input-31-d15e4ea134cb>, line 6)",
     "output_type": "error",
     "traceback": [
      "\u001b[1;36m  File \u001b[1;32m\"<ipython-input-31-d15e4ea134cb>\"\u001b[1;36m, line \u001b[1;32m6\u001b[0m\n\u001b[1;33m    alp.append(t)''''\u001b[0m\n\u001b[1;37m                     \n^\u001b[0m\n\u001b[1;31mSyntaxError\u001b[0m\u001b[1;31m:\u001b[0m EOL while scanning string literal\n"
     ]
    }
   ],
   "source": [
    "#or below can also be used\n",
    "''''\n",
    "alp=[]\n",
    "for t in word_tk:\n",
    "        if t.isalpha():\n",
    "              alp.append(t)''''"
   ]
  },
  {
   "cell_type": "code",
   "execution_count": 25,
   "metadata": {
    "scrolled": true
   },
   "outputs": [
    {
     "name": "stdout",
     "output_type": "stream",
     "text": [
      "[['@', 'VirginAmerica', 'it', \"'s\", 'really', 'aggressive', 'to', 'blast', 'obnoxious', \"'entertainment\", \"'\", 'in', 'your', 'guests', \"'\", 'faces', '&', 'amp', ';', 'they', 'have', 'little', 'recourse'], ['@', 'VirginAmerica', 'Hey', ',', 'first', 'time', 'flyer', 'next', 'week', '-', 'excited', '!', 'But', 'I', \"'m\", 'having', 'a', 'hard', 'time', 'getting', 'my', 'flights', 'added', 'to', 'my', 'Elevate', 'account', '.', 'Help', '?'], ['@', 'united', 'Change', 'made', 'in', 'just', 'over', '3', 'hours', '.', 'For', 'something', 'that', 'should', 'have', 'taken', 'seconds', 'online', ',', 'I', 'am', 'not', 'thrilled', '.', 'Loved', 'the', 'agent', ',', 'though', '.']]\n"
     ]
    },
    {
     "data": {
      "text/plain": [
       "[['VirginAmerica',\n",
       "  'really',\n",
       "  'aggressive',\n",
       "  'blast',\n",
       "  'obnoxious',\n",
       "  'guests',\n",
       "  'faces',\n",
       "  'amp',\n",
       "  'little',\n",
       "  'recourse'],\n",
       " ['VirginAmerica',\n",
       "  'Hey',\n",
       "  'first',\n",
       "  'time',\n",
       "  'flyer',\n",
       "  'next',\n",
       "  'week',\n",
       "  'excited',\n",
       "  'But',\n",
       "  'I',\n",
       "  'hard',\n",
       "  'time',\n",
       "  'getting',\n",
       "  'flights',\n",
       "  'added',\n",
       "  'Elevate',\n",
       "  'account',\n",
       "  'Help'],\n",
       " ['united',\n",
       "  'Change',\n",
       "  'made',\n",
       "  'hours',\n",
       "  'For',\n",
       "  'something',\n",
       "  'taken',\n",
       "  'seconds',\n",
       "  'online',\n",
       "  'I',\n",
       "  'thrilled',\n",
       "  'Loved',\n",
       "  'agent',\n",
       "  'though']]"
      ]
     },
     "execution_count": 25,
     "metadata": {},
     "output_type": "execute_result"
    }
   ],
   "source": [
    "\n",
    "###############  REMOVING STOP WORDS FROM THIS LIST  ###########################\n",
    "\n",
    "tweets_list=[\"@VirginAmerica it's really aggressive to blast obnoxious 'entertainment' in your guests' faces &amp; they have little recourse\",\n",
    " \"@VirginAmerica Hey, first time flyer next week - excited! But I'm having a hard time getting my flights added to my Elevate account. Help?\",\n",
    " '@united Change made in just over 3 hours. For something that should have taken seconds online, I am not thrilled. Loved the agent, though.']\n",
    "\n",
    "# Create a list of lists, containing the tokens from list_tweets\n",
    "tokens = [word_tokenize(item) for item in tweets_list]\n",
    "\n",
    "print(tokens)\n",
    "\n",
    "# Remove characters and digits , i.e. retain only letters\n",
    "letters = [[word for word in item if word.isalpha()] for item in tokens]\n",
    "\n",
    "again_filtered_ = [[w for w in alpha_w if not w in sw] for alpha_w in letters]   ###########\n",
    "\n",
    "\n",
    "\n",
    "again_filtered_\n"
   ]
  },
  {
   "cell_type": "markdown",
   "metadata": {},
   "source": [
    "<h3>Stemming</h3>"
   ]
  },
  {
   "cell_type": "code",
   "execution_count": 22,
   "metadata": {
    "scrolled": true
   },
   "outputs": [],
   "source": [
    "from nltk.stem import PorterStemmer\n",
    "from nltk.tokenize import sent_tokenize, word_tokenize\n",
    "\n",
    "port_stem = PorterStemmer()"
   ]
  },
  {
   "cell_type": "code",
   "execution_count": 38,
   "metadata": {},
   "outputs": [
    {
     "name": "stdout",
     "output_type": "stream",
     "text": [
      "Filtered Sentence(only aphanumeric): \n",
      " ['On', 'Wednesday', 'Association', 'Computing', 'Machinery', 'world', 'largest', 'society', 'computing', 'professionals', 'announced', 'Hinton', 'LeCun', 'Bengio', 'year', 'Turing', 'Award', 'work', 'neural', 'networks', 'The', 'Turing', 'Award', 'introduced', 'often', 'called', 'Nobel', 'Prize', 'computing', 'includes', 'million', 'prize', 'three', 'scientists', 'share'] \n",
      "\n",
      "Stemmed Sentence: \n",
      " ['On', 'wednesday', 'associ', 'comput', 'machineri', 'world', 'largest', 'societi', 'comput', 'profession', 'announc', 'hinton', 'lecun', 'bengio', 'year', 'ture', 'award', 'work', 'neural', 'network', 'the', 'ture', 'award', 'introduc', 'often', 'call', 'nobel', 'prize', 'comput', 'includ', 'million', 'prize', 'three', 'scientist', 'share']\n"
     ]
    }
   ],
   "source": [
    "stemmed_words = []\n",
    "\n",
    "for w in again_filtered_words:\n",
    "    stemmed_words.append(port_stem.stem(w))\n",
    "    \n",
    "print(\"Filtered Sentence(only aphanumeric): \\n\", again_filtered_words, \"\\n\")\n",
    "print(\"Stemmed Sentence: \\n\", stemmed_words)"
   ]
  },
  {
   "cell_type": "markdown",
   "metadata": {},
   "source": [
    "#### Non English Stemming\n",
    "Stemming is possible using other languages as well, such as Danish, Dutch, French, Spanish, German, etc. To use foreign language stemmers we need to use the SnowballStemmer package. We can specify in the stemmer the foreign language we want to use. Then we apply the stem function on our string."
   ]
  },
  {
   "cell_type": "code",
   "execution_count": 38,
   "metadata": {},
   "outputs": [
    {
     "name": "stdout",
     "output_type": "stream",
     "text": [
      "stemmed spanish word is: com\n",
      "['on', 'wednesday', 'association', 'computing', 'machinery', 'world', 'largest', 'society', 'computing', 'professionals', 'announc', 'hinton', 'lecun', 'bengi', 'year', 'turing', 'award', 'work', 'neural', 'networks', 'the', 'turing', 'award', 'introduc', 'often', 'call', 'nobel', 'priz', 'computing', 'includ', 'million', 'priz', 'thre', 'scientists', 'shar']\n"
     ]
    }
   ],
   "source": [
    "# Import the required packages\n",
    "from nltk.stem.snowball import SnowballStemmer\n",
    "from nltk import word_tokenize\n",
    "\n",
    "# Import the Spanish SnowballStemmer\n",
    "SpanishStemmer = SnowballStemmer(\"spanish\")\n",
    "\n",
    "spanish_stemmed_words = []\n",
    "\n",
    "print(\"stemmed spanish word is:\",SpanishStemmer.stem(\"comiendo\"))\n",
    "\n",
    "for w in again_filtered_words:\n",
    "    spanish_stemmed_words.append(SpanishStemmer.stem(w))\n",
    "\n",
    "# Print the first item of the stemmed tokenss\n",
    "print(spanish_stemmed_words)"
   ]
  },
  {
   "cell_type": "markdown",
   "metadata": {},
   "source": [
    "# Lemmatizing"
   ]
  },
  {
   "cell_type": "code",
   "execution_count": 15,
   "metadata": {},
   "outputs": [
    {
     "name": "stderr",
     "output_type": "stream",
     "text": [
      "[nltk_data] Downloading package wordnet to\n",
      "[nltk_data]     C:\\Users\\ANTHONY\\AppData\\Roaming\\nltk_data...\n",
      "[nltk_data]   Package wordnet is already up-to-date!\n"
     ]
    },
    {
     "data": {
      "text/plain": [
       "True"
      ]
     },
     "execution_count": 15,
     "metadata": {},
     "output_type": "execute_result"
    }
   ],
   "source": [
    "nltk.download('wordnet')"
   ]
  },
  {
   "cell_type": "code",
   "execution_count": 39,
   "metadata": {},
   "outputs": [
    {
     "name": "stdout",
     "output_type": "stream",
     "text": [
      "Stemmed Sentence: \n",
      " ['On', 'wednesday', 'associ', 'comput', 'machineri', 'world', 'largest', 'societi', 'comput', 'profession', 'announc', 'hinton', 'lecun', 'bengio', 'year', 'ture', 'award', 'work', 'neural', 'network', 'the', 'ture', 'award', 'introduc', 'often', 'call', 'nobel', 'prize', 'comput', 'includ', 'million', 'prize', 'three', 'scientist', 'share']\n",
      "Lemmatized sentence:\n",
      " ['On', 'Wednesday', 'Association', 'Computing', 'Machinery', 'world', 'largest', 'society', 'computing', 'professional', 'announced', 'Hinton', 'LeCun', 'Bengio', 'year', 'Turing', 'Award', 'work', 'neural', 'network', 'The', 'Turing', 'Award', 'introduced', 'often', 'called', 'Nobel', 'Prize', 'computing', 'includes', 'million', 'prize', 'three', 'scientist', 'share']\n"
     ]
    }
   ],
   "source": [
    "from nltk.stem.wordnet import WordNetLemmatizer\n",
    "\n",
    "lem = WordNetLemmatizer()\n",
    "\n",
    "from nltk.stem.porter import PorterStemmer\n",
    "stem = PorterStemmer()\n",
    "\n",
    "lemm_words = []\n",
    "\n",
    "for i in range(len(again_filtered_words)):\n",
    "    lemm_words.append(lem.lemmatize(again_filtered_words[i]))\n",
    "print(\"Stemmed Sentence: \\n\", stemmed_words)    \n",
    "print(\"Lemmatized sentence:\\n\",lemm_words)"
   ]
  },
  {
   "cell_type": "code",
   "execution_count": 40,
   "metadata": {
    "scrolled": true
   },
   "outputs": [
    {
     "data": {
      "text/plain": [
       "['On',\n",
       " 'wednesday',\n",
       " 'associ',\n",
       " 'comput',\n",
       " 'machineri',\n",
       " 'world',\n",
       " 'largest',\n",
       " 'societi',\n",
       " 'comput',\n",
       " 'profession',\n",
       " 'announc',\n",
       " 'hinton',\n",
       " 'lecun',\n",
       " 'bengio',\n",
       " 'year',\n",
       " 'ture',\n",
       " 'award',\n",
       " 'work',\n",
       " 'neural',\n",
       " 'network',\n",
       " 'the',\n",
       " 'ture',\n",
       " 'award',\n",
       " 'introduc',\n",
       " 'often',\n",
       " 'call',\n",
       " 'nobel',\n",
       " 'prize',\n",
       " 'comput',\n",
       " 'includ',\n",
       " 'million',\n",
       " 'prize',\n",
       " 'three',\n",
       " 'scientist',\n",
       " 'share']"
      ]
     },
     "execution_count": 40,
     "metadata": {},
     "output_type": "execute_result"
    }
   ],
   "source": [
    "stemmm=[port_stem.stem(i) for i in again_filtered_words]\n",
    "stemmm"
   ]
  },
  {
   "cell_type": "markdown",
   "metadata": {},
   "source": [
    "Your task is to clean this text into a more machine friendly format. This will involve converting to lowercase, lemmatization and removing stopwords, punctuations and non-alphabetic characters."
   ]
  },
  {
   "cell_type": "code",
   "execution_count": 42,
   "metadata": {},
   "outputs": [],
   "source": [
    "import spacy\n",
    "\n",
    "nlp = spacy.load('en_core_web_sm')"
   ]
  },
  {
   "cell_type": "code",
   "execution_count": 45,
   "metadata": {},
   "outputs": [
    {
     "name": "stdout",
     "output_type": "stream",
     "text": [
      "twenty first century politic have witness an alarm rise of populism in the and Europe the first warning sign come with the UK Brexit Referendum vote in swinge in the way of Leave this be follow by a stupendous victory by billionaire Donald Trump to become the President of the United States in November since then Europe have see a steady rise in populist and far right party that have capitalize on Europe Immigration Crisis to raise nationalist and anti europe sentiment some instance include Alternative for Germany AfD win of all seat and enter the Bundestag thus upset Germany political order for the first time since the Second World War the success of the five Star Movement in Italy and the surge in popularity of neo nazism and neo fascism in country such as Hungary Czech Republic Poland and Austria\n"
     ]
    }
   ],
   "source": [
    "blog=\"'\\nTwenty-first-century politics has witnessed an alarming rise of populism in the U.S. and Europe. The first warning signs came with the UK Brexit Referendum vote in 2016 swinging in the way of Leave. This was followed by a stupendous victory by billionaire Donald Trump to become the 45th President of the United States in November 2016. Since then, Europe has seen a steady rise in populist and far-right parties that have capitalized on Europe’s Immigration Crisis to raise nationalist and anti-Europe sentiments. Some instances include Alternative for Germany (AfD) winning 12.6% of all seats and entering the Bundestag, thus upsetting Germany’s political order for the first time since the Second World War, the success of the Five Star Movement in Italy and the surge in popularity of neo-nazism and neo-fascism in countries such as Hungary, Czech Republic, Poland and Austria.\\n'\"\n",
    "# Load model and create Doc object\n",
    "nlp = spacy.load('en_core_web_sm')\n",
    "from nltk.corpus import stopwords\n",
    "\n",
    "doc = nlp(blog)\n",
    "\n",
    "# Generate lemmatized tokens\n",
    "lemmas = [token.lemma_ for token in doc]\n",
    "\n",
    "# Remove stopwords and non-alphabetic tokens\n",
    "a_lemmas = [lemma for lemma in lemmas if lemma.isalpha()]\n",
    "\n",
    "# Print string after text cleaning\n",
    "print(' '.join(a_lemmas))"
   ]
  },
  {
   "cell_type": "markdown",
   "metadata": {},
   "source": [
    "<h3>Parts of Speech Tagging</h3>\n"
   ]
  },
  {
   "cell_type": "code",
   "execution_count": 25,
   "metadata": {},
   "outputs": [
    {
     "name": "stderr",
     "output_type": "stream",
     "text": [
      "[nltk_data] Downloading package averaged_perceptron_tagger to\n",
      "[nltk_data]     C:\\Users\\ANTHONY\\AppData\\Roaming\\nltk_data...\n",
      "[nltk_data]   Package averaged_perceptron_tagger is already up-to-\n",
      "[nltk_data]       date!\n"
     ]
    },
    {
     "data": {
      "text/plain": [
       "True"
      ]
     },
     "execution_count": 25,
     "metadata": {},
     "output_type": "execute_result"
    }
   ],
   "source": [
    "nltk.download('averaged_perceptron_tagger')"
   ]
  },
  {
   "cell_type": "code",
   "execution_count": 26,
   "metadata": {},
   "outputs": [
    {
     "name": "stdout",
     "output_type": "stream",
     "text": [
      "[('On', 'IN'), ('Wednesday', 'NNP'), (',', ','), ('the', 'DT'), ('Association', 'NNP'), ('for', 'IN'), ('Computing', 'VBG'), ('Machinery', 'NNP'), (',', ','), ('the', 'DT'), ('world', 'NN'), ('’', 'NNP'), ('s', 'RB'), ('largest', 'JJS'), ('society', 'NN'), ('of', 'IN'), ('computing', 'VBG'), ('professionals', 'NNS'), (',', ','), ('announced', 'VBD'), ('that', 'IN'), ('Hinton', 'NNP'), (',', ','), ('LeCun', 'NNP'), ('and', 'CC'), ('Bengio', 'NNP'), ('had', 'VBD'), ('won', 'VBN'), ('this', 'DT'), ('year', 'NN'), ('’', 'VBZ'), ('s', 'JJ'), ('Turing', 'NNP'), ('Award', 'NNP'), ('for', 'IN'), ('their', 'PRP$'), ('work', 'NN'), ('on', 'IN'), ('neural', 'JJ'), ('networks', 'NNS'), ('.', '.'), ('The', 'DT'), ('Turing', 'NNP'), ('Award', 'NNP'), (',', ','), ('which', 'WDT'), ('was', 'VBD'), ('introduced', 'VBN'), ('in', 'IN'), ('1966', 'CD'), (',', ','), ('is', 'VBZ'), ('often', 'RB'), ('called', 'VBN'), ('the', 'DT'), ('Nobel', 'NNP'), ('Prize', 'NNP'), ('of', 'IN'), ('computing', 'NN'), (',', ','), ('and', 'CC'), ('it', 'PRP'), ('includes', 'VBZ'), ('a', 'DT'), ('$', '$'), ('1', 'CD'), ('million', 'CD'), ('prize', 'NN'), (',', ','), ('which', 'WDT'), ('the', 'DT'), ('three', 'CD'), ('scientists', 'NNS'), ('will', 'MD'), ('share', 'NN'), ('.', '.')]\n"
     ]
    }
   ],
   "source": [
    "from nltk import pos_tag\n",
    "pos_tagged_words = pos_tag(word_tk)\n",
    "\n",
    "print(pos_tagged_words)"
   ]
  },
  {
   "cell_type": "markdown",
   "metadata": {},
   "source": [
    "<h3>Frequency Distribution Plots</h3>\n"
   ]
  },
  {
   "cell_type": "code",
   "execution_count": 27,
   "metadata": {},
   "outputs": [
    {
     "name": "stdout",
     "output_type": "stream",
     "text": [
      "<FreqDist with 56 samples and 76 outcomes>\n"
     ]
    }
   ],
   "source": [
    "from nltk.probability import FreqDist\n",
    "fd = FreqDist(word_tk)\n",
    "print(fd)"
   ]
  },
  {
   "cell_type": "code",
   "execution_count": 173,
   "metadata": {},
   "outputs": [
    {
     "data": {
      "image/png": "[encoded data removed]",
      "text/plain": [
       "<Figure size 432x288 with 1 Axes>"
      ]
     },
     "metadata": {
      "needs_background": "light"
     },
     "output_type": "display_data"
    }
   ],
   "source": [
    "import matplotlib.pyplot as plt\n",
    "fd.plot(30, cumulative=False)\n",
    "plt.show()"
   ]
  },
  {
   "cell_type": "markdown",
   "metadata": {},
   "source": [
    "for getting distribution of alphabets..............."
   ]
  },
  {
   "cell_type": "code",
   "execution_count": 49,
   "metadata": {},
   "outputs": [
    {
     "data": {
      "text/plain": [
       "'On Wednesday, the Association for Computing Machinery, the world’s largest society of computing professionals, announced that Hinton, LeCun and Bengio had won this year’s Turing Award for their work on neural networks. The Turing Award, which was introduced in 1966, is often called the Nobel Prize of computing, and it includes a $1 million prize, which the three scientists will share.'"
      ]
     },
     "execution_count": 49,
     "metadata": {},
     "output_type": "execute_result"
    }
   ],
   "source": [
    "text"
   ]
  },
  {
   "cell_type": "code",
   "execution_count": 174,
   "metadata": {},
   "outputs": [
    {
     "name": "stdout",
     "output_type": "stream",
     "text": [
      "<FreqDist with 41 samples and 387 outcomes>\n"
     ]
    }
   ],
   "source": [
    "fd_alpha = FreqDist(text)    ######## we will just use the sentence\n",
    "print(fd_alpha)\n"
   ]
  },
  {
   "cell_type": "code",
   "execution_count": 175,
   "metadata": {},
   "outputs": [
    {
     "data": {
      "image/png": "[encoded data removed]",
      "text/plain": [
       "<Figure size 432x288 with 1 Axes>"
      ]
     },
     "metadata": {
      "needs_background": "light"
     },
     "output_type": "display_data"
    },
    {
     "data": {
      "text/plain": [
       "<AxesSubplot:xlabel='Samples', ylabel='Counts'>"
      ]
     },
     "execution_count": 175,
     "metadata": {},
     "output_type": "execute_result"
    }
   ],
   "source": [
    "fd_alpha.plot(30, cumulative=False)"
   ]
  },
  {
   "cell_type": "markdown",
   "metadata": {},
   "source": [
    "###INSTRUCTIONS\n",
    "\n",
    "Split the script holy_grail into lines using the newline ('\\n') character.\n",
    "Use re.sub() inside a list comprehension to replace the prompts such as ARTHUR: and SOLDIER #1. The pattern has been written for you.\n",
    "Use a list comprehension to tokenize lines with regexp_tokenize(), keeping only words. Recall that the pattern for words is \"\\w+\".\n",
    "Use a list comprehension to create a list of line lengths called line_num_words.\n",
    "Use t_line as your iterator variable to iterate over tokenized_lines, and then len() function to compute line lengths.\n",
    "Plot a histogram of line_num_words using plt.hist(). Don't forgot to use plt.show() as well to display the plot.\n"
   ]
  },
  {
   "cell_type": "code",
   "execution_count": 52,
   "metadata": {},
   "outputs": [
    {
     "name": "stdout",
     "output_type": "stream",
     "text": [
      "['ZOOT: Oh, you must see the doctors immediately!  No, no, please!  Lie down. [clap clap] ', 'PIGLET: Well, what seems to be the trouble?', \"GALAHAD: They're doctors?!\", 'ZOOT: Uh, they have a basic medical training, yes.', 'GALAHAD: B-- but--', 'ZOOT: Oh, come, come.  You must try to rest.  Doctor Piglet!  Doctor Winston!  Practice your art.', 'WINSTON: Try to relax.', \"GALAHAD: Are you sure that's absolutely necessary?\", 'PIGLET: We must examine you.', \"GALAHAD: There's nothing wrong with that!\", 'PIGLET: Please.  We are doctors.', 'GALAHAD: Look!  This cannot be.  I am sworn to chastity.', 'PIGLET: Back to your bed!  At once!', 'GALAHAD: Torment me no longer.  I have seen the Grail!', \"PIGLET: There's no grail here.\", 'GALAHAD: I have seen it!  I have seen it! [clank] I have seen--', 'GIRLS: Hello.', 'GALAHAD: Oh.', 'GIRLS: Hello.  Hello.  Hello.  Hello.  Hello.  Hello.  Hello.  Hello.  Hello.  Hello.  Hello.  Hello.  Hello.  Hello.  Hello.  Hello.  Hello.  Hello.  Hello.  Hello.  Hello.  Hello.  Hello.', 'GALAHAD: Zoot!', \"DINGO: No, I am Zoot's identical twin sister, Dingo.\", 'GALAHAD: Oh, well, excuse me, I--', 'DINGO: Where are you going?', 'GALAHAD: I seek the Grail!  I have seen it, here in this castle!', 'DINGO: Oh no.  Oh, no!  Bad, bad Zoot!', 'GALAHAD: Well, what is it?', \"DINGO: Oh, wicked, bad, naughty Zoot!  She has been setting alight to our beacon, which, I have just remembered, is grail-shaped.  It's not the first time we've had this problem.\", \"GALAHAD: It's not the real Grail?\", \"DINGO: Oh, wicked, bad, naughty, evil Zoot!  She is a bad person and must pay the penalty.  Do you think this scene should have been cut?  We were so worried when the boys were writing it, but now, we're glad.  It's better than some of the previous scenes, I think.\", 'LEFT HEAD: At least ours was better visually.', \"DENNIS: Well, at least ours was committed.  It wasn't just a string of pussy jokes.\", 'OLD MAN: Get on with it.', 'TIM THE ENCHANTER: Yes, get on with it!', 'ARMY OF KNIGHTS: Yes, get on with it!', 'DINGO: Oh, I am enjoying this scene.', 'GOD: Get on with it!', 'DINGO: [sigh] Oh, wicked, wicked Zoot.  Oh, she is a naughty person, and she must pay the penalty.  And here in Castle Anthrax, we have but one punishment for setting alight the grail-shaped beacon.  You must tie her down on a bed and spank her.', 'GIRLS: A spanking!  A spanking!', 'DINGO: You must spank her well.  And after you have spanked her, you may deal with her as you like.  And then, spank me.', 'AMAZING: And spank me.', 'STUNNER: And me.', 'LOVELY: And me.', 'DINGO: Yes, yes, you must give us all a good spanking!', 'GIRLS: A spanking!  A spanking!  There is going to be a spanking tonight!', 'DINGO: And after the spanking, the oral sex.', 'GIRLS: The oral sex!  The oral sex!', 'GALAHAD: Well, I could stay a bit longer.', 'LAUNCELOT: Sir Galahad!', 'GALAHAD: Oh, hello.', 'LAUNCELOT: Quick!', 'GALAHAD: What?', 'LAUNCELOT: Quick!', 'GALAHAD: Why?', 'LAUNCELOT: You are in great peril!', \"DINGO: No he isn't.\", 'LAUNCELOT: Silence, foul temptress!', \"GALAHAD: You know, she's got a point.\", 'LAUNCELOT: Come on!  We will cover your escape!', \"GALAHAD: Look, I'm fine!\", 'LAUNCELOT: Come on!', 'GIRLS: Sir Galahad!', 'GALAHAD: No.  Look, I can tackle this lot single-handed!', 'DINGO: Yes!  Let him tackle us single-handed!', 'GIRLS: Yes!  Let him tackle us single-handed!', 'LAUNCELOT: No, Sir Galahad.  Come on!', 'GALAHAD: No!  Really!  Honestly, I can cope.  I can handle this lot easily.', 'DINGO: Oh, yes.  Let him handle us easily.', 'GIRLS: Yes.  Let him handle us easily.', 'LAUNCELOT: No.  Quick!  Quick!', \"GALAHAD: Please!  I can defeat them!  There's only a hundred-and-fifty of them!\", \"DINGO: Yes, yes!  He will beat us easily!  We haven't a chance.\", \"GIRLS: We haven't a chance.  He will beat us easily... [boom] \", 'DINGO: Oh, shit.', 'LAUNCELOT: We were in the nick of time.  You were in great peril.', \"GALAHAD: I don't think I was.\", 'LAUNCELOT: Yes you were.  You were in terrible peril.', 'GALAHAD: Look, let me go back in there and face the peril.', \"LAUNCELOT: No, it's too perilous.\", \"GALAHAD: Look, it's my duty as a knight to sample as much peril as I can.\", \"LAUNCELOT: No, we've got to find the Holy Grail.  Come on!\", 'GALAHAD: Oh, let me have just a little bit of peril?', \"LAUNCELOT: No.  It's unhealthy.\", \"GALAHAD: I bet you're gay.\", \"LAUNCELOT: No I'm not\", \"NARRATOR: Sir Launcelot had saved Sir Galahad from almost certain temptation, but they were still no nearer the Grail.  Meanwhile, King Arthur and Sir Bedevere, not more than a swallow's flight away, had discovered something.  Oh, that's an unladen swallow's flight, obviously.  I mean, they were more than two laden swallows' flights away-- four, really, if they had a coconut on a line between them.  I mean, if the birds were walking and dragging--\", 'CROWD: Get on with it!', \"NARRATOR: Oh, anyway.  On to scene twenty-four, which is a smashing scene with some lovely acting, in which Arthur discovers a vital clue, and in which there aren't any swallows, although I think you can hear a starling-- oooh\", 'SCENE 12:', 'OLD MAN: Heh, hee ha ha hee hee!  Hee hee hee ha ha ha...', 'ARTHUR: And this enchanter of whom you speak, he has seen the Grail?', 'OLD MAN: ... Ha ha ha ha!  Heh, hee ha ha hee!  Ha hee ha!  Ha ha ha ha...', 'ARTHUR: Where does he live?', 'OLD MAN: ... Heh heh heh heh...', 'ARTHUR: Old man, where does he live?', 'OLD MAN: ... Hee ha ha ha.  He knows of a cave, a cave which no man has entered.', 'ARTHUR: And the Grail.  The Grail is there?', 'OLD MAN: There is much danger, for beyond the cave lies the Gorge of Eternal Peril, which no man has ever crossed.', 'ARTHUR: But the Grail!  Where is the Grail?!', 'OLD MAN: Seek you the Bridge of Death.', 'ARTHUR: The Bridge of Death, which leads to the Grail?', 'OLD MAN: Heh, hee hee hee hee!  Ha ha ha ha ha!  Hee ha ha..', 'SCENE 13: [spooky music] [music stops] ', 'HEAD KNIGHT OF NI: Ni!', 'KNIGHTS OF NI: Ni!  Ni!  Ni!  Ni!  Ni!', 'ARTHUR: Who are you?', \"HEAD KNIGHT: We are the Knights Who Say...  'Ni'!\", 'RANDOM: Ni!', \"ARTHUR: No!  Not the Knights Who Say 'Ni'!\", 'HEAD KNIGHT: The same!', 'BEDEVERE: Who are they?', 'HEAD KNIGHT: We are the keepers of the sacred words: Ni, Peng, and Neee-wom!', 'RANDOM: Neee-wom!', 'ARTHUR: Those who hear them seldom live to tell the tale!', \"HEAD KNIGHT: The Knights Who Say 'Ni' demand a sacrifice!\", 'ARTHUR: Knights of Ni, we are but simple travellers who seek the enchanter who lives beyond these woods.', 'HEAD KNIGHT: Ni!', 'KNIGHTS OF NI: Ni!  Ni!  Ni!  Ni!  Ni! ...', 'ARTHUR: Ow!  Ow!  Ow!  Agh!', \"HEAD KNIGHT: We shall say 'ni' again to you if you do not appease us.\", 'ARTHUR: Well, what is it you want?', 'HEAD KNIGHT: We want...  a shrubbery! [dramatic chord] ', 'ARTHUR: A what?', 'KNIGHTS OF NI: Ni!  Ni!  Ni!  Ni!', 'ARTHUR and PARTY: Ow!  Oh!', 'ARTHUR: Please, please!  No more!  We will find you a shrubbery.', 'HEAD KNIGHT: You must return here with a shrubbery or else you will never pass through this wood alive!', 'ARTHUR: O Knights of Ni, you are just and fair, and we will return with a shrubbery.', 'HEAD KNIGHT: One that looks nice.', 'ARTHUR: Of course.', 'HEAD KNIGHT: And not too expensive.', 'ARTHUR: Yes.', 'HEAD KNIGHT: Now...  go [trumpets] ']\n",
      "\n",
      "\n",
      "lines:\n",
      " [' Oh, you must see the doctors immediately!  No, no, please!  Lie down. [clap clap] ', ' Well, what seems to be the trouble?', \" They're doctors?!\", ' Uh, they have a basic medical training, yes.', ' B-- but--', ' Oh, come, come.  You must try to rest.  Doctor Piglet!  Doctor Winston!  Practice your art.', ' Try to relax.', \" Are you sure that's absolutely necessary?\", ' We must examine you.', \" There's nothing wrong with that!\", ' Please.  We are doctors.', ' Look!  This cannot be.  I am sworn to chastity.', ' Back to your bed!  At once!', ' Torment me no longer.  I have seen the Grail!', \" There's no grail here.\", ' I have seen it!  I have seen it! [clank] I have seen--', ' Hello.', ' Oh.', ' Hello.  Hello.  Hello.  Hello.  Hello.  Hello.  Hello.  Hello.  Hello.  Hello.  Hello.  Hello.  Hello.  Hello.  Hello.  Hello.  Hello.  Hello.  Hello.  Hello.  Hello.  Hello.  Hello.', ' Zoot!', \" No, I am Zoot's identical twin sister, Dingo.\", ' Oh, well, excuse me, I--', ' Where are you going?', ' I seek the Grail!  I have seen it, here in this castle!', ' Oh no.  Oh, no!  Bad, bad Zoot!', ' Well, what is it?', \" Oh, wicked, bad, naughty Zoot!  She has been setting alight to our beacon, which, I have just remembered, is grail-shaped.  It's not the first time we've had this problem.\", \" It's not the real Grail?\", \" Oh, wicked, bad, naughty, evil Zoot!  She is a bad person and must pay the penalty.  Do you think this scene should have been cut?  We were so worried when the boys were writing it, but now, we're glad.  It's better than some of the previous scenes, I think.\", ' At least ours was better visually.', \" Well, at least ours was committed.  It wasn't just a string of pussy jokes.\", ' Get on with it.', 'TIM  Yes, get on with it!', 'ARMY  Yes, get on with it!', ' Oh, I am enjoying this scene.', ' Get on with it!', ' [sigh] Oh, wicked, wicked Zoot.  Oh, she is a naughty person, and she must pay the penalty.  And here in Castle Anthrax, we have but one punishment for setting alight the grail-shaped beacon.  You must tie her down on a bed and spank her.', ' A spanking!  A spanking!', ' You must spank her well.  And after you have spanked her, you may deal with her as you like.  And then, spank me.', ' And spank me.', ' And me.', ' And me.', ' Yes, yes, you must give us all a good spanking!', ' A spanking!  A spanking!  There is going to be a spanking tonight!', ' And after the spanking, the oral sex.', ' The oral sex!  The oral sex!', ' Well, I could stay a bit longer.', ' Sir Galahad!', ' Oh, hello.', ' Quick!', ' What?', ' Quick!', ' Why?', ' You are in great peril!', \" No he isn't.\", ' Silence, foul temptress!', \" You know, she's got a point.\", ' Come on!  We will cover your escape!', \" Look, I'm fine!\", ' Come on!', ' Sir Galahad!', ' No.  Look, I can tackle this lot single-handed!', ' Yes!  Let him tackle us single-handed!', ' Yes!  Let him tackle us single-handed!', ' No, Sir Galahad.  Come on!', ' No!  Really!  Honestly, I can cope.  I can handle this lot easily.', ' Oh, yes.  Let him handle us easily.', ' Yes.  Let him handle us easily.', ' No.  Quick!  Quick!', \" Please!  I can defeat them!  There's only a hundred-and-fifty of them!\", \" Yes, yes!  He will beat us easily!  We haven't a chance.\", \" We haven't a chance.  He will beat us easily... [boom] \", ' Oh, shit.', ' We were in the nick of time.  You were in great peril.', \" I don't think I was.\", ' Yes you were.  You were in terrible peril.', ' Look, let me go back in there and face the peril.', \" No, it's too perilous.\", \" Look, it's my duty as a knight to sample as much peril as I can.\", \" No, we've got to find the Holy Grail.  Come on!\", ' Oh, let me have just a little bit of peril?', \" No.  It's unhealthy.\", \" I bet you're gay.\", \" No I'm not\", \" Sir Launcelot had saved Sir Galahad from almost certain temptation, but they were still no nearer the Grail.  Meanwhile, King Arthur and Sir Bedevere, not more than a swallow's flight away, had discovered something.  Oh, that's an unladen swallow's flight, obviously.  I mean, they were more than two laden swallows' flights away-- four, really, if they had a coconut on a line between them.  I mean, if the birds were walking and dragging--\", ' Get on with it!', \" Oh, anyway.  On to scene twenty-four, which is a smashing scene with some lovely acting, in which Arthur discovers a vital clue, and in which there aren't any swallows, although I think you can hear a starling-- oooh\", 'SCENE 12:', ' Heh, hee ha ha hee hee!  Hee hee hee ha ha ha...', ' And this enchanter of whom you speak, he has seen the Grail?', ' ... Ha ha ha ha!  Heh, hee ha ha hee!  Ha hee ha!  Ha ha ha ha...', ' Where does he live?', ' ... Heh heh heh heh...', ' Old man, where does he live?', ' ... Hee ha ha ha.  He knows of a cave, a cave which no man has entered.', ' And the Grail.  The Grail is there?', ' There is much danger, for beyond the cave lies the Gorge of Eternal Peril, which no man has ever crossed.', ' But the Grail!  Where is the Grail?!', ' Seek you the Bridge of Death.', ' The Bridge of Death, which leads to the Grail?', ' Heh, hee hee hee hee!  Ha ha ha ha ha!  Hee ha ha..', 'SCENE 13: [spooky music] [music stops] ', 'HEAD KNIGHT  Ni!', 'KNIGHTS  Ni!  Ni!  Ni!  Ni!  Ni!', ' Who are you?', \" We are the Knights Who Say...  'Ni'!\", ' Ni!', \" No!  Not the Knights Who Say 'Ni'!\", ' The same!', ' Who are they?', ' We are the keepers of the sacred words: Ni, Peng, and Neee-wom!', ' Neee-wom!', ' Those who hear them seldom live to tell the tale!', \" The Knights Who Say 'Ni' demand a sacrifice!\", ' Knights of Ni, we are but simple travellers who seek the enchanter who lives beyond these woods.', ' Ni!', 'KNIGHTS  Ni!  Ni!  Ni!  Ni!  Ni! ...', ' Ow!  Ow!  Ow!  Agh!', \" We shall say 'ni' again to you if you do not appease us.\", ' Well, what is it you want?', ' We want...  a shrubbery! [dramatic chord] ', ' A what?', 'KNIGHTS  Ni!  Ni!  Ni!  Ni!', 'ARTHUR and  Ow!  Oh!', ' Please, please!  No more!  We will find you a shrubbery.', ' You must return here with a shrubbery or else you will never pass through this wood alive!', ' O Knights of Ni, you are just and fair, and we will return with a shrubbery.', ' One that looks nice.', ' Of course.', ' And not too expensive.', ' Yes.', ' Now...  go [trumpets] ']\n",
      "\n",
      "\n",
      "tokenized lines:\n",
      " [['Oh', 'you', 'must', 'see', 'the', 'doctors', 'immediately', 'No', 'no', 'please', 'Lie', 'down', 'clap', 'clap'], ['Well', 'what', 'seems', 'to', 'be', 'the', 'trouble'], ['They', 're', 'doctors'], ['Uh', 'they', 'have', 'a', 'basic', 'medical', 'training', 'yes'], ['B', 'but'], ['Oh', 'come', 'come', 'You', 'must', 'try', 'to', 'rest', 'Doctor', 'Piglet', 'Doctor', 'Winston', 'Practice', 'your', 'art'], ['Try', 'to', 'relax'], ['Are', 'you', 'sure', 'that', 's', 'absolutely', 'necessary'], ['We', 'must', 'examine', 'you'], ['There', 's', 'nothing', 'wrong', 'with', 'that'], ['Please', 'We', 'are', 'doctors'], ['Look', 'This', 'cannot', 'be', 'I', 'am', 'sworn', 'to', 'chastity'], ['Back', 'to', 'your', 'bed', 'At', 'once'], ['Torment', 'me', 'no', 'longer', 'I', 'have', 'seen', 'the', 'Grail'], ['There', 's', 'no', 'grail', 'here'], ['I', 'have', 'seen', 'it', 'I', 'have', 'seen', 'it', 'clank', 'I', 'have', 'seen'], ['Hello'], ['Oh'], ['Hello', 'Hello', 'Hello', 'Hello', 'Hello', 'Hello', 'Hello', 'Hello', 'Hello', 'Hello', 'Hello', 'Hello', 'Hello', 'Hello', 'Hello', 'Hello', 'Hello', 'Hello', 'Hello', 'Hello', 'Hello', 'Hello', 'Hello'], ['Zoot'], ['No', 'I', 'am', 'Zoot', 's', 'identical', 'twin', 'sister', 'Dingo'], ['Oh', 'well', 'excuse', 'me', 'I'], ['Where', 'are', 'you', 'going'], ['I', 'seek', 'the', 'Grail', 'I', 'have', 'seen', 'it', 'here', 'in', 'this', 'castle'], ['Oh', 'no', 'Oh', 'no', 'Bad', 'bad', 'Zoot'], ['Well', 'what', 'is', 'it'], ['Oh', 'wicked', 'bad', 'naughty', 'Zoot', 'She', 'has', 'been', 'setting', 'alight', 'to', 'our', 'beacon', 'which', 'I', 'have', 'just', 'remembered', 'is', 'grail', 'shaped', 'It', 's', 'not', 'the', 'first', 'time', 'we', 've', 'had', 'this', 'problem'], ['It', 's', 'not', 'the', 'real', 'Grail'], ['Oh', 'wicked', 'bad', 'naughty', 'evil', 'Zoot', 'She', 'is', 'a', 'bad', 'person', 'and', 'must', 'pay', 'the', 'penalty', 'Do', 'you', 'think', 'this', 'scene', 'should', 'have', 'been', 'cut', 'We', 'were', 'so', 'worried', 'when', 'the', 'boys', 'were', 'writing', 'it', 'but', 'now', 'we', 're', 'glad', 'It', 's', 'better', 'than', 'some', 'of', 'the', 'previous', 'scenes', 'I', 'think'], ['At', 'least', 'ours', 'was', 'better', 'visually'], ['Well', 'at', 'least', 'ours', 'was', 'committed', 'It', 'wasn', 't', 'just', 'a', 'string', 'of', 'pussy', 'jokes'], ['Get', 'on', 'with', 'it'], ['TIM', 'Yes', 'get', 'on', 'with', 'it'], ['ARMY', 'Yes', 'get', 'on', 'with', 'it'], ['Oh', 'I', 'am', 'enjoying', 'this', 'scene'], ['Get', 'on', 'with', 'it'], ['sigh', 'Oh', 'wicked', 'wicked', 'Zoot', 'Oh', 'she', 'is', 'a', 'naughty', 'person', 'and', 'she', 'must', 'pay', 'the', 'penalty', 'And', 'here', 'in', 'Castle', 'Anthrax', 'we', 'have', 'but', 'one', 'punishment', 'for', 'setting', 'alight', 'the', 'grail', 'shaped', 'beacon', 'You', 'must', 'tie', 'her', 'down', 'on', 'a', 'bed', 'and', 'spank', 'her'], ['A', 'spanking', 'A', 'spanking'], ['You', 'must', 'spank', 'her', 'well', 'And', 'after', 'you', 'have', 'spanked', 'her', 'you', 'may', 'deal', 'with', 'her', 'as', 'you', 'like', 'And', 'then', 'spank', 'me'], ['And', 'spank', 'me'], ['And', 'me'], ['And', 'me'], ['Yes', 'yes', 'you', 'must', 'give', 'us', 'all', 'a', 'good', 'spanking'], ['A', 'spanking', 'A', 'spanking', 'There', 'is', 'going', 'to', 'be', 'a', 'spanking', 'tonight'], ['And', 'after', 'the', 'spanking', 'the', 'oral', 'sex'], ['The', 'oral', 'sex', 'The', 'oral', 'sex'], ['Well', 'I', 'could', 'stay', 'a', 'bit', 'longer'], ['Sir', 'Galahad'], ['Oh', 'hello'], ['Quick'], ['What'], ['Quick'], ['Why'], ['You', 'are', 'in', 'great', 'peril'], ['No', 'he', 'isn', 't'], ['Silence', 'foul', 'temptress'], ['You', 'know', 'she', 's', 'got', 'a', 'point'], ['Come', 'on', 'We', 'will', 'cover', 'your', 'escape'], ['Look', 'I', 'm', 'fine'], ['Come', 'on'], ['Sir', 'Galahad'], ['No', 'Look', 'I', 'can', 'tackle', 'this', 'lot', 'single', 'handed'], ['Yes', 'Let', 'him', 'tackle', 'us', 'single', 'handed'], ['Yes', 'Let', 'him', 'tackle', 'us', 'single', 'handed'], ['No', 'Sir', 'Galahad', 'Come', 'on'], ['No', 'Really', 'Honestly', 'I', 'can', 'cope', 'I', 'can', 'handle', 'this', 'lot', 'easily'], ['Oh', 'yes', 'Let', 'him', 'handle', 'us', 'easily'], ['Yes', 'Let', 'him', 'handle', 'us', 'easily'], ['No', 'Quick', 'Quick'], ['Please', 'I', 'can', 'defeat', 'them', 'There', 's', 'only', 'a', 'hundred', 'and', 'fifty', 'of', 'them'], ['Yes', 'yes', 'He', 'will', 'beat', 'us', 'easily', 'We', 'haven', 't', 'a', 'chance'], ['We', 'haven', 't', 'a', 'chance', 'He', 'will', 'beat', 'us', 'easily', 'boom'], ['Oh', 'shit'], ['We', 'were', 'in', 'the', 'nick', 'of', 'time', 'You', 'were', 'in', 'great', 'peril'], ['I', 'don', 't', 'think', 'I', 'was'], ['Yes', 'you', 'were', 'You', 'were', 'in', 'terrible', 'peril'], ['Look', 'let', 'me', 'go', 'back', 'in', 'there', 'and', 'face', 'the', 'peril'], ['No', 'it', 's', 'too', 'perilous'], ['Look', 'it', 's', 'my', 'duty', 'as', 'a', 'knight', 'to', 'sample', 'as', 'much', 'peril', 'as', 'I', 'can'], ['No', 'we', 've', 'got', 'to', 'find', 'the', 'Holy', 'Grail', 'Come', 'on'], ['Oh', 'let', 'me', 'have', 'just', 'a', 'little', 'bit', 'of', 'peril'], ['No', 'It', 's', 'unhealthy'], ['I', 'bet', 'you', 're', 'gay'], ['No', 'I', 'm', 'not'], ['Sir', 'Launcelot', 'had', 'saved', 'Sir', 'Galahad', 'from', 'almost', 'certain', 'temptation', 'but', 'they', 'were', 'still', 'no', 'nearer', 'the', 'Grail', 'Meanwhile', 'King', 'Arthur', 'and', 'Sir', 'Bedevere', 'not', 'more', 'than', 'a', 'swallow', 's', 'flight', 'away', 'had', 'discovered', 'something', 'Oh', 'that', 's', 'an', 'unladen', 'swallow', 's', 'flight', 'obviously', 'I', 'mean', 'they', 'were', 'more', 'than', 'two', 'laden', 'swallows', 'flights', 'away', 'four', 'really', 'if', 'they', 'had', 'a', 'coconut', 'on', 'a', 'line', 'between', 'them', 'I', 'mean', 'if', 'the', 'birds', 'were', 'walking', 'and', 'dragging'], ['Get', 'on', 'with', 'it'], ['Oh', 'anyway', 'On', 'to', 'scene', 'twenty', 'four', 'which', 'is', 'a', 'smashing', 'scene', 'with', 'some', 'lovely', 'acting', 'in', 'which', 'Arthur', 'discovers', 'a', 'vital', 'clue', 'and', 'in', 'which', 'there', 'aren', 't', 'any', 'swallows', 'although', 'I', 'think', 'you', 'can', 'hear', 'a', 'starling', 'oooh'], ['SCENE', '12'], ['Heh', 'hee', 'ha', 'ha', 'hee', 'hee', 'Hee', 'hee', 'hee', 'ha', 'ha', 'ha'], ['And', 'this', 'enchanter', 'of', 'whom', 'you', 'speak', 'he', 'has', 'seen', 'the', 'Grail'], ['Ha', 'ha', 'ha', 'ha', 'Heh', 'hee', 'ha', 'ha', 'hee', 'Ha', 'hee', 'ha', 'Ha', 'ha', 'ha', 'ha'], ['Where', 'does', 'he', 'live'], ['Heh', 'heh', 'heh', 'heh'], ['Old', 'man', 'where', 'does', 'he', 'live'], ['Hee', 'ha', 'ha', 'ha', 'He', 'knows', 'of', 'a', 'cave', 'a', 'cave', 'which', 'no', 'man', 'has', 'entered'], ['And', 'the', 'Grail', 'The', 'Grail', 'is', 'there'], ['There', 'is', 'much', 'danger', 'for', 'beyond', 'the', 'cave', 'lies', 'the', 'Gorge', 'of', 'Eternal', 'Peril', 'which', 'no', 'man', 'has', 'ever', 'crossed'], ['But', 'the', 'Grail', 'Where', 'is', 'the', 'Grail'], ['Seek', 'you', 'the', 'Bridge', 'of', 'Death'], ['The', 'Bridge', 'of', 'Death', 'which', 'leads', 'to', 'the', 'Grail'], ['Heh', 'hee', 'hee', 'hee', 'hee', 'Ha', 'ha', 'ha', 'ha', 'ha', 'Hee', 'ha', 'ha'], ['SCENE', '13', 'spooky', 'music', 'music', 'stops'], ['HEAD', 'KNIGHT', 'Ni'], ['KNIGHTS', 'Ni', 'Ni', 'Ni', 'Ni', 'Ni'], ['Who', 'are', 'you'], ['We', 'are', 'the', 'Knights', 'Who', 'Say', 'Ni'], ['Ni'], ['No', 'Not', 'the', 'Knights', 'Who', 'Say', 'Ni'], ['The', 'same'], ['Who', 'are', 'they'], ['We', 'are', 'the', 'keepers', 'of', 'the', 'sacred', 'words', 'Ni', 'Peng', 'and', 'Neee', 'wom'], ['Neee', 'wom'], ['Those', 'who', 'hear', 'them', 'seldom', 'live', 'to', 'tell', 'the', 'tale'], ['The', 'Knights', 'Who', 'Say', 'Ni', 'demand', 'a', 'sacrifice'], ['Knights', 'of', 'Ni', 'we', 'are', 'but', 'simple', 'travellers', 'who', 'seek', 'the', 'enchanter', 'who', 'lives', 'beyond', 'these', 'woods'], ['Ni'], ['KNIGHTS', 'Ni', 'Ni', 'Ni', 'Ni', 'Ni'], ['Ow', 'Ow', 'Ow', 'Agh'], ['We', 'shall', 'say', 'ni', 'again', 'to', 'you', 'if', 'you', 'do', 'not', 'appease', 'us'], ['Well', 'what', 'is', 'it', 'you', 'want'], ['We', 'want', 'a', 'shrubbery', 'dramatic', 'chord'], ['A', 'what'], ['KNIGHTS', 'Ni', 'Ni', 'Ni', 'Ni'], ['ARTHUR', 'and', 'Ow', 'Oh'], ['Please', 'please', 'No', 'more', 'We', 'will', 'find', 'you', 'a', 'shrubbery'], ['You', 'must', 'return', 'here', 'with', 'a', 'shrubbery', 'or', 'else', 'you', 'will', 'never', 'pass', 'through', 'this', 'wood', 'alive'], ['O', 'Knights', 'of', 'Ni', 'you', 'are', 'just', 'and', 'fair', 'and', 'we', 'will', 'return', 'with', 'a', 'shrubbery'], ['One', 'that', 'looks', 'nice'], ['Of', 'course'], ['And', 'not', 'too', 'expensive'], ['Yes'], ['Now', 'go', 'trumpets']]\n",
      "\n",
      "\\ line_num_words:\n",
      " [14, 7, 3, 8, 2, 15, 3, 7, 4, 6, 4, 9, 6, 9, 5, 12, 1, 1, 23, 1, 9, 5, 4, 12, 7, 4, 32, 6, 51, 6, 15, 4, 6, 6, 6, 4, 45, 4, 23, 3, 2, 2, 10, 12, 7, 6, 7, 2, 2, 1, 1, 1, 1, 5, 4, 3, 7, 7, 4, 2, 2, 9, 7, 7, 5, 12, 7, 6, 3, 14, 12, 11, 2, 12, 6, 8, 11, 5, 16, 11, 10, 4, 5, 4, 76, 4, 40, 2, 12, 12, 16, 4, 4, 6, 16, 7, 20, 7, 6, 9, 13, 6, 3, 6, 3, 7, 1, 7, 2, 3, 13, 2, 10, 8, 17, 1, 6, 4, 13, 6, 6, 2, 5, 4, 10, 17, 16, 4, 2, 4, 1, 3]\n"
     ]
    },
    {
     "data": {
      "image/png": "[encoded data removed]",
      "text/plain": [
       "<Figure size 432x288 with 1 Axes>"
      ]
     },
     "metadata": {
      "needs_background": "light"
     },
     "output_type": "display_data"
    }
   ],
   "source": [
    "import regex as re\n",
    "import matplotlib.pyplot as plt\n",
    "\n",
    "holy_grail = \"\"\"ZOOT: Oh, you must see the doctors immediately!  No, no, please!  Lie down. [clap clap] \n",
    "PIGLET: Well, what seems to be the trouble?\n",
    "GALAHAD: They're doctors?!\n",
    "ZOOT: Uh, they have a basic medical training, yes.\n",
    "GALAHAD: B-- but--\n",
    "ZOOT: Oh, come, come.  You must try to rest.  Doctor Piglet!  Doctor Winston!  Practice your art.\n",
    "WINSTON: Try to relax.\n",
    "GALAHAD: Are you sure that's absolutely necessary?\n",
    "PIGLET: We must examine you.\n",
    "GALAHAD: There's nothing wrong with that!\n",
    "PIGLET: Please.  We are doctors.\n",
    "GALAHAD: Look!  This cannot be.  I am sworn to chastity.\n",
    "PIGLET: Back to your bed!  At once!\n",
    "GALAHAD: Torment me no longer.  I have seen the Grail!\n",
    "PIGLET: There's no grail here.\n",
    "GALAHAD: I have seen it!  I have seen it! [clank] I have seen--\n",
    "GIRLS: Hello.\n",
    "GALAHAD: Oh.\n",
    "GIRLS: Hello.  Hello.  Hello.  Hello.  Hello.  Hello.  Hello.  Hello.  Hello.  Hello.  Hello.  Hello.  Hello.  Hello.  Hello.  Hello.  Hello.  Hello.  Hello.  Hello.  Hello.  Hello.  Hello.\n",
    "GALAHAD: Zoot!\n",
    "DINGO: No, I am Zoot's identical twin sister, Dingo.\n",
    "GALAHAD: Oh, well, excuse me, I--\n",
    "DINGO: Where are you going?\n",
    "GALAHAD: I seek the Grail!  I have seen it, here in this castle!\n",
    "DINGO: Oh no.  Oh, no!  Bad, bad Zoot!\n",
    "GALAHAD: Well, what is it?\n",
    "DINGO: Oh, wicked, bad, naughty Zoot!  She has been setting alight to our beacon, which, I have just remembered, is grail-shaped.  It's not the first time we've had this problem.\n",
    "GALAHAD: It's not the real Grail?\n",
    "DINGO: Oh, wicked, bad, naughty, evil Zoot!  She is a bad person and must pay the penalty.  Do you think this scene should have been cut?  We were so worried when the boys were writing it, but now, we're glad.  It's better than some of the previous scenes, I think.\n",
    "LEFT HEAD: At least ours was better visually.\n",
    "DENNIS: Well, at least ours was committed.  It wasn't just a string of pussy jokes.\n",
    "OLD MAN: Get on with it.\n",
    "TIM THE ENCHANTER: Yes, get on with it!\n",
    "ARMY OF KNIGHTS: Yes, get on with it!\n",
    "DINGO: Oh, I am enjoying this scene.\n",
    "GOD: Get on with it!\n",
    "DINGO: [sigh] Oh, wicked, wicked Zoot.  Oh, she is a naughty person, and she must pay the penalty.  And here in Castle Anthrax, we have but one punishment for setting alight the grail-shaped beacon.  You must tie her down on a bed and spank her.\n",
    "GIRLS: A spanking!  A spanking!\n",
    "DINGO: You must spank her well.  And after you have spanked her, you may deal with her as you like.  And then, spank me.\n",
    "AMAZING: And spank me.\n",
    "STUNNER: And me.\n",
    "LOVELY: And me.\n",
    "DINGO: Yes, yes, you must give us all a good spanking!\n",
    "GIRLS: A spanking!  A spanking!  There is going to be a spanking tonight!\n",
    "DINGO: And after the spanking, the oral sex.\n",
    "GIRLS: The oral sex!  The oral sex!\n",
    "GALAHAD: Well, I could stay a bit longer.\n",
    "LAUNCELOT: Sir Galahad!\n",
    "GALAHAD: Oh, hello.\n",
    "LAUNCELOT: Quick!\n",
    "GALAHAD: What?\n",
    "LAUNCELOT: Quick!\n",
    "GALAHAD: Why?\n",
    "LAUNCELOT: You are in great peril!\n",
    "DINGO: No he isn't.\n",
    "LAUNCELOT: Silence, foul temptress!\n",
    "GALAHAD: You know, she's got a point.\n",
    "LAUNCELOT: Come on!  We will cover your escape!\n",
    "GALAHAD: Look, I'm fine!\n",
    "LAUNCELOT: Come on!\n",
    "GIRLS: Sir Galahad!\n",
    "GALAHAD: No.  Look, I can tackle this lot single-handed!\n",
    "DINGO: Yes!  Let him tackle us single-handed!\n",
    "GIRLS: Yes!  Let him tackle us single-handed!\n",
    "LAUNCELOT: No, Sir Galahad.  Come on!\n",
    "GALAHAD: No!  Really!  Honestly, I can cope.  I can handle this lot easily.\n",
    "DINGO: Oh, yes.  Let him handle us easily.\n",
    "GIRLS: Yes.  Let him handle us easily.\n",
    "LAUNCELOT: No.  Quick!  Quick!\n",
    "GALAHAD: Please!  I can defeat them!  There's only a hundred-and-fifty of them!\n",
    "DINGO: Yes, yes!  He will beat us easily!  We haven't a chance.\n",
    "GIRLS: We haven't a chance.  He will beat us easily... [boom] \n",
    "DINGO: Oh, shit.\n",
    "LAUNCELOT: We were in the nick of time.  You were in great peril.\n",
    "GALAHAD: I don't think I was.\n",
    "LAUNCELOT: Yes you were.  You were in terrible peril.\n",
    "GALAHAD: Look, let me go back in there and face the peril.\n",
    "LAUNCELOT: No, it's too perilous.\n",
    "GALAHAD: Look, it's my duty as a knight to sample as much peril as I can.\n",
    "LAUNCELOT: No, we've got to find the Holy Grail.  Come on!\n",
    "GALAHAD: Oh, let me have just a little bit of peril?\n",
    "LAUNCELOT: No.  It's unhealthy.\n",
    "GALAHAD: I bet you're gay.\n",
    "LAUNCELOT: No I'm not\n",
    "NARRATOR: Sir Launcelot had saved Sir Galahad from almost certain temptation, but they were still no nearer the Grail.  Meanwhile, King Arthur and Sir Bedevere, not more than a swallow's flight away, had discovered something.  Oh, that's an unladen swallow's flight, obviously.  I mean, they were more than two laden swallows' flights away-- four, really, if they had a coconut on a line between them.  I mean, if the birds were walking and dragging--\n",
    "CROWD: Get on with it!\n",
    "NARRATOR: Oh, anyway.  On to scene twenty-four, which is a smashing scene with some lovely acting, in which Arthur discovers a vital clue, and in which there aren't any swallows, although I think you can hear a starling-- oooh\n",
    "SCENE 12:\n",
    "OLD MAN: Heh, hee ha ha hee hee!  Hee hee hee ha ha ha...\n",
    "ARTHUR: And this enchanter of whom you speak, he has seen the Grail?\n",
    "OLD MAN: ... Ha ha ha ha!  Heh, hee ha ha hee!  Ha hee ha!  Ha ha ha ha...\n",
    "ARTHUR: Where does he live?\n",
    "OLD MAN: ... Heh heh heh heh...\n",
    "ARTHUR: Old man, where does he live?\n",
    "OLD MAN: ... Hee ha ha ha.  He knows of a cave, a cave which no man has entered.\n",
    "ARTHUR: And the Grail.  The Grail is there?\n",
    "OLD MAN: There is much danger, for beyond the cave lies the Gorge of Eternal Peril, which no man has ever crossed.\n",
    "ARTHUR: But the Grail!  Where is the Grail?!\n",
    "OLD MAN: Seek you the Bridge of Death.\n",
    "ARTHUR: The Bridge of Death, which leads to the Grail?\n",
    "OLD MAN: Heh, hee hee hee hee!  Ha ha ha ha ha!  Hee ha ha..\n",
    "SCENE 13: [spooky music] [music stops] \n",
    "HEAD KNIGHT OF NI: Ni!\n",
    "KNIGHTS OF NI: Ni!  Ni!  Ni!  Ni!  Ni!\n",
    "ARTHUR: Who are you?\n",
    "HEAD KNIGHT: We are the Knights Who Say...  'Ni'!\n",
    "RANDOM: Ni!\n",
    "ARTHUR: No!  Not the Knights Who Say 'Ni'!\n",
    "HEAD KNIGHT: The same!\n",
    "BEDEVERE: Who are they?\n",
    "HEAD KNIGHT: We are the keepers of the sacred words: Ni, Peng, and Neee-wom!\n",
    "RANDOM: Neee-wom!\n",
    "ARTHUR: Those who hear them seldom live to tell the tale!\n",
    "HEAD KNIGHT: The Knights Who Say 'Ni' demand a sacrifice!\n",
    "ARTHUR: Knights of Ni, we are but simple travellers who seek the enchanter who lives beyond these woods.\n",
    "HEAD KNIGHT: Ni!\n",
    "KNIGHTS OF NI: Ni!  Ni!  Ni!  Ni!  Ni! ...\n",
    "ARTHUR: Ow!  Ow!  Ow!  Agh!\n",
    "HEAD KNIGHT: We shall say 'ni' again to you if you do not appease us.\n",
    "ARTHUR: Well, what is it you want?\n",
    "HEAD KNIGHT: We want...  a shrubbery! [dramatic chord] \n",
    "ARTHUR: A what?\n",
    "KNIGHTS OF NI: Ni!  Ni!  Ni!  Ni!\n",
    "ARTHUR and PARTY: Ow!  Oh!\n",
    "ARTHUR: Please, please!  No more!  We will find you a shrubbery.\n",
    "HEAD KNIGHT: You must return here with a shrubbery or else you will never pass through this wood alive!\n",
    "ARTHUR: O Knights of Ni, you are just and fair, and we will return with a shrubbery.\n",
    "HEAD KNIGHT: One that looks nice.\n",
    "ARTHUR: Of course.\n",
    "HEAD KNIGHT: And not too expensive.\n",
    "ARTHUR: Yes.\n",
    "HEAD KNIGHT: Now...  go [trumpets] \"\"\"\n",
    "# Split the script into lines: lines\n",
    "lines = holy_grail.split('\\n')     #or here we can simple use sentence tokenizer, we will get same result\n",
    "\n",
    "print(lines)\n",
    "\n",
    "# Replace all script lines for speaker [like removing zoot,old man,arthur etc...]\n",
    "pattern = \"[A-Z]{2,}(\\s)?(#\\d)?([A-Z]{2,})?:\"\n",
    "lines = [re.sub(pattern, '', l) for l in lines]\n",
    "print(\"\\n\\nlines:\\n\",lines)\n",
    "\n",
    "# Tokenize each line: tokenized_lines\n",
    "#WE CANT USE NORMAL WORD TOKENIZER HERE BECAUSE, IT NEEDS A STRING RATHER THAN A LIST OF STRINGS...HENCE THIS OR WE .LOWER()\n",
    "tokenized_lines = [regexp_tokenize(s, \"\\w+\") for s in lines]\n",
    "print(\"\\n\\ntokenized lines:\\n\",tokenized_lines)\n",
    "\n",
    "# Make a frequency list of lengths: line_num_words\n",
    "########################## this contain length of each string in list ####################\n",
    "line_num_words = [len(t_line) for t_line in tokenized_lines]\n",
    "print(\"\\n\\ line_num_words:\\n\",line_num_words)\n",
    "# Plot a histogram of the line lengths\n",
    "plt.hist(line_num_words)\n",
    "\n",
    "# Show the plot\n",
    "plt.show()"
   ]
  },
  {
   "cell_type": "code",
   "execution_count": 51,
   "metadata": {},
   "outputs": [
    {
     "data": {
      "text/plain": [
       "ZOOT: Oh, you must see the doctors immediately!  No, no, please!  Lie down. [clap clap] \n",
       "PIGLET: Well, what seems to be the trouble?\n",
       "GALAHAD: They're doctors?!\n",
       "ZOOT: Uh, they have a basic medical training, yes.\n",
       "GALAHAD: B-- but--\n",
       "ZOOT: Oh, come, come.  You must try to rest.  Doctor Piglet!  Doctor Winston!  Practice your art.\n",
       "WINSTON: Try to relax.\n",
       "GALAHAD: Are you sure that's absolutely necessary?\n",
       "PIGLET: We must examine you.\n",
       "GALAHAD: There's nothing wrong with that!\n",
       "PIGLET: Please.  We are doctors.\n",
       "GALAHAD: Look!  This cannot be.  I am sworn to chastity.\n",
       "PIGLET: Back to your bed!  At once!\n",
       "GALAHAD: Torment me no longer.  I have seen the Grail!\n",
       "PIGLET: There's no grail here.\n",
       "GALAHAD: I have seen it!  I have seen it! [clank] I have seen--\n",
       "GIRLS: Hello.\n",
       "GALAHAD: Oh.\n",
       "GIRLS: Hello.  Hello.  Hello.  Hello.  Hello.  Hello.  Hello.  Hello.  Hello.  Hello.  Hello.  Hello.  Hello.  Hello.  Hello.  Hello.  Hello.  Hello.  Hello.  Hello.  Hello.  Hello.  Hello.\n",
       "GALAHAD: Zoot!\n",
       "DINGO: No, I am Zoot's identical twin sister, Dingo.\n",
       "GALAHAD: Oh, well, excuse me, I--\n",
       "DINGO: Where are you going?\n",
       "GALAHAD: I seek the Grail!  I have seen it, here in this castle!\n",
       "DINGO: Oh no.  Oh, no!  Bad, bad Zoot!\n",
       "GALAHAD: Well, what is it?\n",
       "DINGO: Oh, wicked, bad, naughty Zoot!  She has been setting alight to our beacon, which, I have just remembered, is grail-shaped.  It's not the first time we've had this problem.\n",
       "GALAHAD: It's not the real Grail?\n",
       "DINGO: Oh, wicked, bad, naughty, evil Zoot!  She is a bad person and must pay the penalty.  Do you think this scene should have been cut?  We were so worried when the boys were writing it, but now, we're glad.  It's better than some of the previous scenes, I think.\n",
       "LEFT HEAD: At least ours was better visually.\n",
       "DENNIS: Well, at least ours was committed.  It wasn't just a string of pussy jokes.\n",
       "OLD MAN: Get on with it.\n",
       "TIM THE ENCHANTER: Yes, get on with it!\n",
       "ARMY OF KNIGHTS: Yes, get on with it!\n",
       "DINGO: Oh, I am enjoying this scene.\n",
       "GOD: Get on with it!\n",
       "DINGO: [sigh] Oh, wicked, wicked Zoot.  Oh, she is a naughty person, and she must pay the penalty.  And here in Castle Anthrax, we have but one punishment for setting alight the grail-shaped beacon.  You must tie her down on a bed and spank her.\n",
       "GIRLS: A spanking!  A spanking!\n",
       "DINGO: You must spank her well.  And after you have spanked her, you may deal with her as you like.  And then, spank me.\n",
       "AMAZING: And spank me.\n",
       "STUNNER: And me.\n",
       "LOVELY: And me.\n",
       "DINGO: Yes, yes, you must give us all a good spanking!\n",
       "GIRLS: A spanking!  A spanking!  There is going to be a spanking tonight!\n",
       "DINGO: And after the spanking, the oral sex.\n",
       "GIRLS: The oral sex!  The oral sex!\n",
       "GALAHAD: Well, I could stay a bit longer.\n",
       "LAUNCELOT: Sir Galahad!\n",
       "GALAHAD: Oh, hello.\n",
       "LAUNCELOT: Quick!\n",
       "GALAHAD: What?\n",
       "LAUNCELOT: Quick!\n",
       "GALAHAD: Why?\n",
       "LAUNCELOT: You are in great peril!\n",
       "DINGO: No he isn't.\n",
       "LAUNCELOT: Silence, foul temptress!\n",
       "GALAHAD: You know, she's got a point.\n",
       "LAUNCELOT: Come on!  We will cover your escape!\n",
       "GALAHAD: Look, I'm fine!\n",
       "LAUNCELOT: Come on!\n",
       "GIRLS: Sir Galahad!\n",
       "GALAHAD: No.  Look, I can tackle this lot single-handed!\n",
       "DINGO: Yes!  Let him tackle us single-handed!\n",
       "GIRLS: Yes!  Let him tackle us single-handed!\n",
       "LAUNCELOT: No, Sir Galahad.  Come on!\n",
       "GALAHAD: No!  Really!  Honestly, I can cope.  I can handle this lot easily.\n",
       "DINGO: Oh, yes.  Let him handle us easily.\n",
       "GIRLS: Yes.  Let him handle us easily.\n",
       "LAUNCELOT: No.  Quick!  Quick!\n",
       "GALAHAD: Please!  I can defeat them!  There's only a hundred-and-fifty of them!\n",
       "DINGO: Yes, yes!  He will beat us easily!  We haven't a chance.\n",
       "GIRLS: We haven't a chance.  He will beat us easily... [boom] \n",
       "DINGO: Oh, shit.\n",
       "LAUNCELOT: We were in the nick of time.  You were in great peril.\n",
       "GALAHAD: I don't think I was.\n",
       "LAUNCELOT: Yes you were.  You were in terrible peril.\n",
       "GALAHAD: Look, let me go back in there and face the peril.\n",
       "LAUNCELOT: No, it's too perilous.\n",
       "GALAHAD: Look, it's my duty as a knight to sample as much peril as I can.\n",
       "LAUNCELOT: No, we've got to find the Holy Grail.  Come on!\n",
       "GALAHAD: Oh, let me have just a little bit of peril?\n",
       "LAUNCELOT: No.  It's unhealthy.\n",
       "GALAHAD: I bet you're gay.\n",
       "LAUNCELOT: No I'm not\n",
       "NARRATOR: Sir Launcelot had saved Sir Galahad from almost certain temptation, but they were still no nearer the Grail.  Meanwhile, King Arthur and Sir Bedevere, not more than a swallow's flight away, had discovered something.  Oh, that's an unladen swallow's flight, obviously.  I mean, they were more than two laden swallows' flights away-- four, really, if they had a coconut on a line between them.  I mean, if the birds were walking and dragging--\n",
       "CROWD: Get on with it!\n",
       "NARRATOR: Oh, anyway.  On to scene twenty-four, which is a smashing scene with some lovely acting, in which Arthur discovers a vital clue, and in which there aren't any swallows, although I think you can hear a starling-- oooh\n",
       "SCENE 12:\n",
       "OLD MAN: Heh, hee ha ha hee hee!  Hee hee hee ha ha ha...\n",
       "ARTHUR: And this enchanter of whom you speak, he has seen the Grail?\n",
       "OLD MAN: ... Ha ha ha ha!  Heh, hee ha ha hee!  Ha hee ha!  Ha ha ha ha...\n",
       "ARTHUR: Where does he live?\n",
       "OLD MAN: ... Heh heh heh heh...\n",
       "ARTHUR: Old man, where does he live?\n",
       "OLD MAN: ... Hee ha ha ha.  He knows of a cave, a cave which no man has entered.\n",
       "ARTHUR: And the Grail.  The Grail is there?\n",
       "OLD MAN: There is much danger, for beyond the cave lies the Gorge of Eternal Peril, which no man has ever crossed.\n",
       "ARTHUR: But the Grail!  Where is the Grail?!\n",
       "OLD MAN: Seek you the Bridge of Death.\n",
       "ARTHUR: The Bridge of Death, which leads to the Grail?\n",
       "OLD MAN: Heh, hee hee hee hee!  Ha ha ha ha ha!  Hee ha ha..\n",
       "SCENE 13: [spooky music] [music stops] \n",
       "HEAD KNIGHT OF NI: Ni!\n",
       "KNIGHTS OF NI: Ni!  Ni!  Ni!  Ni!  Ni!\n",
       "ARTHUR: Who are you?\n",
       "HEAD KNIGHT: We are the Knights Who Say...  'Ni'!\n",
       "RANDOM: Ni!\n",
       "ARTHUR: No!  Not the Knights Who Say 'Ni'!\n",
       "HEAD KNIGHT: The same!\n",
       "BEDEVERE: Who are they?\n",
       "HEAD KNIGHT: We are the keepers of the sacred words: Ni, Peng, and Neee-wom!\n",
       "RANDOM: Neee-wom!\n",
       "ARTHUR: Those who hear them seldom live to tell the tale!\n",
       "HEAD KNIGHT: The Knights Who Say 'Ni' demand a sacrifice!\n",
       "ARTHUR: Knights of Ni, we are but simple travellers who seek the enchanter who lives beyond these woods.\n",
       "HEAD KNIGHT: Ni!\n",
       "KNIGHTS OF NI: Ni!  Ni!  Ni!  Ni!  Ni! ...\n",
       "ARTHUR: Ow!  Ow!  Ow!  Agh!\n",
       "HEAD KNIGHT: We shall say 'ni' again to you if you do not appease us.\n",
       "ARTHUR: Well, what is it you want?\n",
       "HEAD KNIGHT: We want...  a shrubbery! [dramatic chord] \n",
       "ARTHUR: A what?\n",
       "KNIGHTS OF NI: Ni!  Ni!  Ni!  Ni!\n",
       "ARTHUR and PARTY: Ow!  Oh!\n",
       "ARTHUR: Please, please!  No more!  We will find you a shrubbery.\n",
       "HEAD KNIGHT: You must return here with a shrubbery or else you will never pass through this wood alive!\n",
       "ARTHUR: O Knights of Ni, you are just and fair, and we will return with a shrubbery.\n",
       "HEAD KNIGHT: One that looks nice.\n",
       "ARTHUR: Of course.\n",
       "HEAD KNIGHT: And not too expensive.\n",
       "ARTHUR: Yes.\n",
       "HEAD KNIGHT: Now...  go [trumpets] "
      ]
     },
     "execution_count": 51,
     "metadata": {},
     "output_type": "execute_result"
    }
   ],
   "source": [
    "nlp(holy_grail)"
   ]
  },
  {
   "cell_type": "markdown",
   "metadata": {},
   "source": [
    "# BAG OF WORDS OR FREQUENCY OF WORDS"
   ]
  },
  {
   "cell_type": "markdown",
   "metadata": {},
   "source": [
    "Bag of words is a very simple and basic method to finding topics in a text. For bag of words, you need to first create tokens using tokenization, and then count up all the tokens you have. The theory is that the more frequent a word or token is, the more central or important it might be to the text. Bag of words can be a great way to determine the significant words in a text based on the number of times they are used\n",
    "\n",
    "\n",
    "\n",
    "What is Python Counter?\n",
    "Python Counter is a container that will hold the count of each of the elements present in the container. The counter is a sub-class available inside the dictionary class."
   ]
  },
  {
   "cell_type": "code",
   "execution_count": 54,
   "metadata": {},
   "outputs": [
    {
     "name": "stdout",
     "output_type": "stream",
     "text": [
      "''''Debugging''' is the process of finding and resolving of defects that prevent correct operation of computer software or a system.  \n",
      "\n",
      "Numerous books have been written about debugging (see below: #Further reading|Further reading), as it involves numerous aspects, including interactive debugging, control flow, integration testing, Logfile|log files, monitoring (Application monitoring|application, System Monitoring|system), memory dumps, Profiling (computer programming)|profiling, Statistical Process Control, and special design tactics to improve detection while simplifying changes.\n",
      "\n",
      "Origin\n",
      "A computer log entry from the Mark&nbsp;II, with a moth taped to the page\n",
      "\n",
      "The terms \"bug\" and \"debugging\" are popularly attributed to Admiral Grace Hopper in the 1940s.[http://foldoc.org/Grace+Hopper Grace Hopper]  from FOLDOC While she was working on a Harvard Mark II|Mark II Computer at Harvard University, her associates discovered a moth stuck in a relay and thereby impeding operation, whereupon she remarked that they were \"debugging\" the system. However the term \"bug\" in the meaning of technical error dates back at least to 1878 and Thomas Edison (see software bug for a full discussion), and \"debugging\" seems to have been used as a term in aeronautics before entering the world of computers\n",
      "\n",
      "\n",
      "bag of words are: [(',', 15), ('the', 9), ('a', 8), (\"''\", 7), ('and', 6), ('of', 5), ('debugging', 5), ('to', 5), ('``', 5), ('computer', 4), ('.', 4), ('(', 4), (')', 4), ('in', 4), ('system', 3), ('bug', 3), (\"'\", 2), ('process', 2), ('that', 2), ('operation', 2)]\n"
     ]
    }
   ],
   "source": [
    "article=\"\"\"'\\'\\'\\'Debugging\\'\\'\\' is the process of finding and resolving of defects that prevent correct operation of computer software or a system.  \\n\\nNumerous books have been written about debugging (see below: #Further reading|Further reading), as it involves numerous aspects, including interactive debugging, control flow, integration testing, Logfile|log files, monitoring (Application monitoring|application, System Monitoring|system), memory dumps, Profiling (computer programming)|profiling, Statistical Process Control, and special design tactics to improve detection while simplifying changes.\\n\\nOrigin\\nA computer log entry from the Mark&nbsp;II, with a moth taped to the page\\n\\nThe terms \"bug\" and \"debugging\" are popularly attributed to Admiral Grace Hopper in the 1940s.[http://foldoc.org/Grace+Hopper Grace Hopper]  from FOLDOC While she was working on a Harvard Mark II|Mark II Computer at Harvard University, her associates discovered a moth stuck in a relay and thereby impeding operation, whereupon she remarked that they were \"debugging\" the system. However the term \"bug\" in the meaning of technical error dates back at least to 1878 and Thomas Edison (see software bug for a full discussion), and \"debugging\" seems to have been used as a term in aeronautics before entering the world of computers\"\"\"\n",
    "print(article)\n",
    "# Import Counter\n",
    "from collections import Counter\n",
    "\n",
    "# Tokenize the article: tokens\n",
    "tokens = word_tokenize(article)\n",
    "\n",
    "# Convert the tokens into lowercase: lower_tokens\n",
    "lower_tokens = [t.lower() for t in tokens]\n",
    "\n",
    "# Create a Counter with the lowercase tokens: bow_simple\n",
    "bow_simple = Counter(lower_tokens)\n",
    "\n",
    "# Print the 10 most common tokens\n",
    "print(\"\\n\\nbag of words are:\",bow_simple.most_common(20))\n"
   ]
  },
  {
   "cell_type": "markdown",
   "metadata": {},
   "source": [
    "# GENSIM"
   ]
  },
  {
   "cell_type": "markdown",
   "metadata": {},
   "source": [
    "**Gensim** is a popular open-source natural language processing library. It uses top academic models to perform complex tasks like building document or word vectors, corpora and performing topic identification and document comparisons."
   ]
  },
  {
   "cell_type": "markdown",
   "metadata": {},
   "source": [
    "Gensim allows you to build corpora and dictionaries using simple classes and functions. A corpus (or if plural, corpora) is a set of texts used to help perform natural language processing tasks.\n",
    "\n",
    "Using the dictionary we built {which is actually a bag of words}, we can then create a Gensim corpus. This is a bit different than a normal corpus -- which is just a collection of documents. Gensim uses a simple bag-of-words model which transforms each document into a bag of words using the token ids and the frequency of each token in the document. {rather than having words:counts, it will be of the model of (token_id,count),where token_id is the numeric id of each word}\n",
    "\n",
    "And unlike our previous Counter-based bag of words, this Gensim model can be easily saved, updated and reused thanks to the extra tools we have available in Gensim. Our dictionary can also be updated with new texts and extract only words that meet particular thresholds. We are building a more advanced and feature-rich bag-of-words model which can then be used for future exercises.\n",
    "\n",
    "input to dictionary should be a list of list and output of the corpus will also be a list of lists"
   ]
  },
  {
   "cell_type": "code",
   "execution_count": 55,
   "metadata": {},
   "outputs": [
    {
     "name": "stdout",
     "output_type": "stream",
     "text": [
      "Sentence tokenizing the text: \n",
      "\n",
      "['Destination Canada, a Nations Online country profile of the second-largest country in the world.', 'Canada occupies most of the northern part of North America.', 'The country is bounded by the North Atlantic Ocean on the east, the North Pacific Ocean on the west, and the Arctic Ocean on the north.', 'It borders Alaska (USA) in the west, and twelve US states of the continental part of the United States in the south.', 'Its border with its southern neighbor runs mainly along the 45th parallel (north).', \"It is the world's longest international border between two countries (8,891 km (5,525 mi)).\"]\n"
     ]
    }
   ],
   "source": [
    "from nltk.tokenize import sent_tokenize\n",
    "plain_text=\"\"\"Destination Canada, a Nations Online country profile of the second-largest country in the world.\n",
    "Canada occupies most of the northern part of North America. The country is bounded by the North Atlantic Ocean on the east, the North Pacific Ocean on the west, and the Arctic Ocean on the north.\n",
    "It borders Alaska (USA) in the west, and twelve US states of the continental part of the United States in the south. Its border with its southern neighbor runs mainly along the 45th parallel (north). It is the world's longest international border between two countries (8,891 km (5,525 mi)).\"\"\"\n",
    "\n",
    "sentence_tokenized = sent_tokenize(plain_text)\n",
    "print(\"Sentence tokenizing the text: \\n\")\n",
    "print(sentence_tokenized)"
   ]
  },
  {
   "cell_type": "markdown",
   "metadata": {},
   "source": [
    "#### we can either below two methods to convert a list of strings into 2d[list of list] list of tokenized words\n",
    "\n",
    "####WE CANT USE NORMAL WORD TOKENIZER HERE BECAUSE, IT NEEDS A STRING RATHER THAN A LIST OF STRINGS...HENCE THIS OR WE .LOWER()\n"
   ]
  },
  {
   "cell_type": "code",
   "execution_count": 56,
   "metadata": {},
   "outputs": [
    {
     "name": "stdout",
     "output_type": "stream",
     "text": [
      "\n",
      "\n",
      "tokenized lines:\n",
      " [['Destination', 'Canada', 'a', 'Nations', 'Online', 'country', 'profile', 'of', 'the', 'second', 'largest', 'country', 'in', 'the', 'world'], ['Canada', 'occupies', 'most', 'of', 'the', 'northern', 'part', 'of', 'North', 'America'], ['The', 'country', 'is', 'bounded', 'by', 'the', 'North', 'Atlantic', 'Ocean', 'on', 'the', 'east', 'the', 'North', 'Pacific', 'Ocean', 'on', 'the', 'west', 'and', 'the', 'Arctic', 'Ocean', 'on', 'the', 'north'], ['It', 'borders', 'Alaska', 'USA', 'in', 'the', 'west', 'and', 'twelve', 'US', 'states', 'of', 'the', 'continental', 'part', 'of', 'the', 'United', 'States', 'in', 'the', 'south'], ['Its', 'border', 'with', 'its', 'southern', 'neighbor', 'runs', 'mainly', 'along', 'the', '45th', 'parallel', 'north'], ['It', 'is', 'the', 'world', 's', 'longest', 'international', 'border', 'between', 'two', 'countries', '8', '891', 'km', '5', '525', 'mi']]\n"
     ]
    }
   ],
   "source": [
    "tokenized_lines = [regexp_tokenize(s, \"\\w+\") for s in sentence_tokenized]\n",
    "print(\"\\n\\ntokenized lines:\\n\",tokenized_lines)"
   ]
  },
  {
   "cell_type": "code",
   "execution_count": 57,
   "metadata": {},
   "outputs": [
    {
     "name": "stdout",
     "output_type": "stream",
     "text": [
      "Word tokenizing the text: \n",
      "\n",
      "[['Destination', 'Canada', ',', 'a', 'Nations', 'Online', 'country', 'profile', 'of', 'the', 'second-largest', 'country', 'in', 'the', 'world', '.'], ['Canada', 'occupies', 'most', 'of', 'the', 'northern', 'part', 'of', 'North', 'America', '.'], ['The', 'country', 'is', 'bounded', 'by', 'the', 'North', 'Atlantic', 'Ocean', 'on', 'the', 'east', ',', 'the', 'North', 'Pacific', 'Ocean', 'on', 'the', 'west', ',', 'and', 'the', 'Arctic', 'Ocean', 'on', 'the', 'north', '.'], ['It', 'borders', 'Alaska', '(', 'USA', ')', 'in', 'the', 'west', ',', 'and', 'twelve', 'US', 'states', 'of', 'the', 'continental', 'part', 'of', 'the', 'United', 'States', 'in', 'the', 'south', '.'], ['Its', 'border', 'with', 'its', 'southern', 'neighbor', 'runs', 'mainly', 'along', 'the', '45th', 'parallel', '(', 'north', ')', '.'], ['It', 'is', 'the', 'world', \"'s\", 'longest', 'international', 'border', 'between', 'two', 'countries', '(', '8,891', 'km', '(', '5,525', 'mi', ')', ')', '.']]\n"
     ]
    }
   ],
   "source": [
    "from nltk.tokenize import word_tokenize\n",
    "tokenized_docs = [word_tokenize(t) for t in sentence_tokenized]    # if we put word_tokenize(t.alpha()) we can remove , ! ' etc \n",
    "print(\"Word tokenizing the text: \\n\")\n",
    "print(tokenized_docs)"
   ]
  },
  {
   "cell_type": "code",
   "execution_count": 58,
   "metadata": {},
   "outputs": [
    {
     "data": {
      "text/plain": [
       "\"\\nfor i in range(len(corpus )):\\n    corpus [i] = corpus [i].lower()\\n    corpus [i] = re.sub(r'\\\\W',' ',corpus [i])\\n    corpus [i] = re.sub(r'\\\\s+',' ',corpus [i]) \""
      ]
     },
     "execution_count": 58,
     "metadata": {},
     "output_type": "execute_result"
    }
   ],
   "source": [
    "#this is an another way to preprocess the string\n",
    "\"\"\"\n",
    "for i in range(len(corpus )):\n",
    "    corpus [i] = corpus [i].lower()\n",
    "    corpus [i] = re.sub(r'\\W',' ',corpus [i])\n",
    "    corpus [i] = re.sub(r'\\s+',' ',corpus [i]) \"\"\""
   ]
  },
  {
   "cell_type": "code",
   "execution_count": 76,
   "metadata": {},
   "outputs": [],
   "source": [
    "for i in range(len(corpus )):\n",
    "    corpus [i] = corpus [i].lower()\n",
    "    corpus [i] = re.sub(r'\\W',' ',corpus [i])\n",
    "    corpus [i] = re.sub(r'\\s+',' ',corpus [i]) \n"
   ]
  },
  {
   "cell_type": "code",
   "execution_count": 77,
   "metadata": {},
   "outputs": [
    {
     "data": {
      "text/plain": [
       "['destination canada a nations online country profile of the second largest country in the world ',\n",
       " 'canada occupies most of the northern part of north america ',\n",
       " 'the country is bounded by the north atlantic ocean on the east the north pacific ocean on the west and the arctic ocean on the north ',\n",
       " 'it borders alaska usa in the west and twelve us states of the continental part of the united states in the south ',\n",
       " 'its border with its southern neighbor runs mainly along the 45th parallel north ',\n",
       " 'it is the world s longest international border between two countries 8 891 km 5 525 mi ']"
      ]
     },
     "execution_count": 77,
     "metadata": {},
     "output_type": "execute_result"
    }
   ],
   "source": [
    "corpus"
   ]
  },
  {
   "cell_type": "markdown",
   "metadata": {},
   "source": [
    "#### INTO THE DICTIONARY WE SHOULD PASS ARGUMENT AS A LIST OF LIST"
   ]
  },
  {
   "cell_type": "code",
   "execution_count": 80,
   "metadata": {},
   "outputs": [
    {
     "data": {
      "text/plain": [
       "<gensim.corpora.dictionary.Dictionary at 0x2588ba0e760>"
      ]
     },
     "execution_count": 80,
     "metadata": {},
     "output_type": "execute_result"
    }
   ],
   "source": [
    "dictionary"
   ]
  },
  {
   "cell_type": "code",
   "execution_count": 79,
   "metadata": {
    "scrolled": true
   },
   "outputs": [
    {
     "name": "stdout",
     "output_type": "stream",
     "text": [
      "Dictionary(66 unique tokens: ['Canada', 'Destination', 'Nations', 'Online', 'a']...)\n"
     ]
    },
    {
     "data": {
      "text/plain": [
       "{'Canada': 0,\n",
       " 'Destination': 1,\n",
       " 'Nations': 2,\n",
       " 'Online': 3,\n",
       " 'a': 4,\n",
       " 'country': 5,\n",
       " 'in': 6,\n",
       " 'largest': 7,\n",
       " 'of': 8,\n",
       " 'profile': 9,\n",
       " 'second': 10,\n",
       " 'the': 11,\n",
       " 'world': 12,\n",
       " 'America': 13,\n",
       " 'North': 14,\n",
       " 'most': 15,\n",
       " 'northern': 16,\n",
       " 'occupies': 17,\n",
       " 'part': 18,\n",
       " 'Arctic': 19,\n",
       " 'Atlantic': 20,\n",
       " 'Ocean': 21,\n",
       " 'Pacific': 22,\n",
       " 'The': 23,\n",
       " 'and': 24,\n",
       " 'bounded': 25,\n",
       " 'by': 26,\n",
       " 'east': 27,\n",
       " 'is': 28,\n",
       " 'north': 29,\n",
       " 'on': 30,\n",
       " 'west': 31,\n",
       " 'Alaska': 32,\n",
       " 'It': 33,\n",
       " 'States': 34,\n",
       " 'US': 35,\n",
       " 'USA': 36,\n",
       " 'United': 37,\n",
       " 'borders': 38,\n",
       " 'continental': 39,\n",
       " 'south': 40,\n",
       " 'states': 41,\n",
       " 'twelve': 42,\n",
       " '45th': 43,\n",
       " 'Its': 44,\n",
       " 'along': 45,\n",
       " 'border': 46,\n",
       " 'its': 47,\n",
       " 'mainly': 48,\n",
       " 'neighbor': 49,\n",
       " 'parallel': 50,\n",
       " 'runs': 51,\n",
       " 'southern': 52,\n",
       " 'with': 53,\n",
       " '5': 54,\n",
       " '525': 55,\n",
       " '8': 56,\n",
       " '891': 57,\n",
       " 'between': 58,\n",
       " 'countries': 59,\n",
       " 'international': 60,\n",
       " 'km': 61,\n",
       " 'longest': 62,\n",
       " 'mi': 63,\n",
       " 's': 64,\n",
       " 'two': 65}"
      ]
     },
     "execution_count": 79,
     "metadata": {},
     "output_type": "execute_result"
    }
   ],
   "source": [
    "# Import Dictionary\n",
    "from gensim.corpora.dictionary import Dictionary\n",
    "\n",
    "# Create a Dictionary from the articles: dictionary----INPUT IS TOKENIZED LIST OF LIST\n",
    "dictionary = Dictionary(tokenized_lines)\n",
    "print(dictionary)\n",
    "dictionary.token2id   #displays the ids of each word"
   ]
  },
  {
   "cell_type": "code",
   "execution_count": 28,
   "metadata": {
    "scrolled": true
   },
   "outputs": [
    {
     "data": {
      "text/plain": [
       "[[(0, 1),\n",
       "  (1, 1),\n",
       "  (2, 1),\n",
       "  (3, 1),\n",
       "  (4, 1),\n",
       "  (5, 2),\n",
       "  (6, 1),\n",
       "  (7, 1),\n",
       "  (8, 1),\n",
       "  (9, 1),\n",
       "  (10, 1),\n",
       "  (11, 2),\n",
       "  (12, 1)],\n",
       " [(0, 1),\n",
       "  (8, 2),\n",
       "  (11, 1),\n",
       "  (13, 1),\n",
       "  (14, 1),\n",
       "  (15, 1),\n",
       "  (16, 1),\n",
       "  (17, 1),\n",
       "  (18, 1)],\n",
       " [(5, 1),\n",
       "  (11, 6),\n",
       "  (14, 2),\n",
       "  (19, 1),\n",
       "  (20, 1),\n",
       "  (21, 3),\n",
       "  (22, 1),\n",
       "  (23, 1),\n",
       "  (24, 1),\n",
       "  (25, 1),\n",
       "  (26, 1),\n",
       "  (27, 1),\n",
       "  (28, 1),\n",
       "  (29, 1),\n",
       "  (30, 3),\n",
       "  (31, 1)],\n",
       " [(6, 2),\n",
       "  (8, 2),\n",
       "  (11, 4),\n",
       "  (18, 1),\n",
       "  (24, 1),\n",
       "  (31, 1),\n",
       "  (32, 1),\n",
       "  (33, 1),\n",
       "  (34, 1),\n",
       "  (35, 1),\n",
       "  (36, 1),\n",
       "  (37, 1),\n",
       "  (38, 1),\n",
       "  (39, 1),\n",
       "  (40, 1),\n",
       "  (41, 1),\n",
       "  (42, 1)],\n",
       " [(11, 1),\n",
       "  (29, 1),\n",
       "  (43, 1),\n",
       "  (44, 1),\n",
       "  (45, 1),\n",
       "  (46, 1),\n",
       "  (47, 1),\n",
       "  (48, 1),\n",
       "  (49, 1),\n",
       "  (50, 1),\n",
       "  (51, 1),\n",
       "  (52, 1),\n",
       "  (53, 1)],\n",
       " [(11, 1),\n",
       "  (12, 1),\n",
       "  (28, 1),\n",
       "  (33, 1),\n",
       "  (46, 1),\n",
       "  (54, 1),\n",
       "  (55, 1),\n",
       "  (56, 1),\n",
       "  (57, 1),\n",
       "  (58, 1),\n",
       "  (59, 1),\n",
       "  (60, 1),\n",
       "  (61, 1),\n",
       "  (62, 1),\n",
       "  (63, 1),\n",
       "  (64, 1),\n",
       "  (65, 1)]]"
      ]
     },
     "execution_count": 28,
     "metadata": {},
     "output_type": "execute_result"
    }
   ],
   "source": [
    "corpus = [dictionary.doc2bow(cor) for cor in tokenized_lines]    #converts the dictionary into a corpus or bag of words\n",
    "corpus                              #corpus is a list of lists..input and output is both a list of lits"
   ]
  },
  {
   "cell_type": "code",
   "execution_count": 29,
   "metadata": {},
   "outputs": [
    {
     "name": "stdout",
     "output_type": "stream",
     "text": [
      "[(11, 1), (29, 1), (43, 1), (44, 1), (45, 1), (46, 1), (47, 1), (48, 1), (49, 1), (50, 1), (51, 1), (52, 1), (53, 1)]\n",
      "[(11, 1), (29, 1), (43, 1), (44, 1), (45, 1), (46, 1), (47, 1), (48, 1), (49, 1), (50, 1)]\n",
      "50\n",
      "parallel\n"
     ]
    }
   ],
   "source": [
    "print(corpus[4])\n",
    "print(corpus[4][:10])\n",
    "parallel_id = dictionary.token2id.get(\"parallel\")\n",
    "print(parallel_id)\n",
    "print(dictionary.get(parallel_id))\n",
    "\n"
   ]
  },
  {
   "cell_type": "code",
   "execution_count": 31,
   "metadata": {},
   "outputs": [
    {
     "name": "stdout",
     "output_type": "stream",
     "text": [
      "28\n"
     ]
    }
   ],
   "source": [
    "parallel_id = dictionary.token2id.get(\"is\")\n",
    "print(parallel_id)\n"
   ]
  },
  {
   "cell_type": "markdown",
   "metadata": {},
   "source": [
    "defaultdict allows us to initialize a dictionary that will assign a default value to non-existent keys. By supplying the argument int, we are able to ensure that any non-existent keys are automatically assigned a default value of 0. This makes it ideal for storing the counts of words in this exercise.\n",
    "\n",
    "itertools.chain.from_iterable() allows us to iterate through a set of sequences as if they were one continuous sequence. Using this function, we can easily iterate through our corpus object (which is a list of lists)."
   ]
  },
  {
   "cell_type": "code",
   "execution_count": 52,
   "metadata": {},
   "outputs": [
    {
     "data": {
      "text/plain": [
       "'\"\\n####\\n# Sort the doc for frequency: bow_doc\\nbow_doc = sorted(doc, key=lambda w: w[1], reverse=True)\\n\\n# Print the top 5 words of the document alongside the count\\nfor word_id, word_count in bow_doc[:5]:\\n    print(dictionary.get(word_id), word_count)\\n    \\n# Create the defaultdict: total_word_count\\ntotal_word_count = defaultdict(int)\\nfor word_id, word_count in itertools.chain.from_iterable(corpus):\\n    total_word_count[word_id] += word_count\\n\\n# Create a sorted list from the defaultdict: sorted_word_count \\nsorted_word_count = sorted(total_word_count.items(), key=lambda w: w[1], reverse=True) \\n\\n# Print the top 5 words across all documents alongside the count\\nfor word_id, word_count in sorted_word_count[:5]:\\n    print(dictionary.get(word_id), word_count)\\n'"
      ]
     },
     "execution_count": 52,
     "metadata": {},
     "output_type": "execute_result"
    }
   ],
   "source": [
    " \n",
    "# Save the fifth document: doc\n",
    "doc = corpus[4]\n",
    "\"\"\"\"\n",
    "####\n",
    "# Sort the doc for frequency: bow_doc\n",
    "bow_doc = sorted(doc, key=lambda w: w[1], reverse=True)\n",
    "\n",
    "# Print the top 5 words of the document alongside the count\n",
    "for word_id, word_count in bow_doc[:5]:\n",
    "    print(dictionary.get(word_id), word_count)\n",
    "    \n",
    "# Create the defaultdict: total_word_count\n",
    "total_word_count = defaultdict(int)\n",
    "for word_id, word_count in itertools.chain.from_iterable(corpus):\n",
    "    total_word_count[word_id] += word_count\n",
    "\n",
    "# Create a sorted list from the defaultdict: sorted_word_count \n",
    "sorted_word_count = sorted(total_word_count.items(), key=lambda w: w[1], reverse=True) \n",
    "\n",
    "# Print the top 5 words across all documents alongside the count\n",
    "for word_id, word_count in sorted_word_count[:5]:\n",
    "    print(dictionary.get(word_id), word_count)\n",
    "\"\"\"\n",
    "###"
   ]
  },
  {
   "cell_type": "code",
   "execution_count": 109,
   "metadata": {},
   "outputs": [],
   "source": [
    "#WORD VECTORS USING GENSIM"
   ]
  },
  {
   "cell_type": "markdown",
   "metadata": {},
   "source": [
    "TFIDF----------------------\n",
    "##FIDF model with Gensim.\n",
    "\n",
    "**Tf-idf** stands for term-frequncy - inverse document frequency. It is a commonly used natural language processing model that helps you determine the most important words in each document in the corpus. The idea behind tf-idf is that each corpus might have more shared words than just stopwords. These common words are like stopwords and should be removed or at least down-weighted in importance. For example, if I am an astronomer, sky might be used often but is not important, so I want to downweight that word. TF-Idf does precisely that. It will take texts that share common language and ensure the most common words across the entire corpus don't show up as keywords. Tf-idf helps keep the document-specific frequent words weighted high and the common words across the entire corpus weighted low.\n",
    "\n",
    "HOW DOES THIS WORK??\n",
    "the weight will be low if the term doesnt appear often in the document because the tf variable will then be low. However, the weight will also be a low if the logarithm is close to zero, meaning the internal equation is low. Here we can see if the total number of documents divded by the number of documents that have the term is close to one, then our logarithm will be close to zero. So words that occur across many or all documents will have a very low tf-idf weight. On the contrary, if the word only occurs in a few documents, that logarithm will return a higher number."
   ]
  },
  {
   "cell_type": "code",
   "execution_count": 47,
   "metadata": {},
   "outputs": [
    {
     "name": "stdout",
     "output_type": "stream",
     "text": [
      "[[(0, 1), (1, 1), (2, 1), (3, 1), (4, 1), (5, 2), (6, 1), (7, 1), (8, 1), (9, 1), (10, 1), (11, 2), (12, 1)], [(0, 1), (8, 2), (11, 1), (13, 1), (14, 1), (15, 1), (16, 1), (17, 1), (18, 1)], [(5, 1), (11, 6), (14, 2), (19, 1), (20, 1), (21, 3), (22, 1), (23, 1), (24, 1), (25, 1), (26, 1), (27, 1), (28, 1), (29, 1), (30, 3), (31, 1)], [(6, 2), (8, 2), (11, 4), (18, 1), (24, 1), (31, 1), (32, 1), (33, 1), (34, 1), (35, 1), (36, 1), (37, 1), (38, 1), (39, 1), (40, 1), (41, 1), (42, 1)], [(11, 1), (29, 1), (43, 1), (44, 1), (45, 1), (46, 1), (47, 1), (48, 1), (49, 1), (50, 1), (51, 1), (52, 1), (53, 1)], [(11, 1), (12, 1), (28, 1), (33, 1), (46, 1), (54, 1), (55, 1), (56, 1), (57, 1), (58, 1), (59, 1), (60, 1), (61, 1), (62, 1), (63, 1), (64, 1), (65, 1)]]\n",
      "[(29, 0.18699162553358545), (43, 0.30497020575141676), (44, 0.30497020575141676), (45, 0.30497020575141676), (46, 0.18699162553358545)]\n",
      "45th 0.30497020575141676\n",
      "Its 0.30497020575141676\n",
      "along 0.30497020575141676\n",
      "its 0.30497020575141676\n",
      "mainly 0.30497020575141676\n"
     ]
    }
   ],
   "source": [
    "from gensim.models import TfidfModel\n",
    "print(corpus)\n",
    "doc = corpus[4]\n",
    "\n",
    "# Create a new TfidfModel using the corpus: tfidf\n",
    "tfidf = TfidfModel(corpus)\n",
    "\n",
    "# Calculate the tfidf weights of doc: tfidf_weights\n",
    "tfidf_weights = tfidf[doc]\n",
    "\n",
    "# Print the first five weights\n",
    "print(tfidf_weights[:5])\n",
    "\n",
    "# Sort the weights from highest to lowest: sorted_tfidf_weights\n",
    "sorted_tfidf_weights = sorted(tfidf_weights, key=lambda w: w[1], reverse=True)\n",
    "\n",
    "# Print the top 5 weighted words\n",
    "for term_id, weight in sorted_tfidf_weights[:5]:\n",
    "    print(dictionary.get(term_id), weight)"
   ]
  },
  {
   "cell_type": "markdown",
   "metadata": {},
   "source": [
    "https://medium.com/analytics-vidhya/tf-idf-term-frequency-technique-easiest-explanation-for-text-classification-in-nlp-with-code-8ca3912e58c3\n",
    "\n",
    "https://www.geeksforgeeks.org/tf-idf-model-for-page-ranking/\n",
    "\n",
    "https://stackoverflow.com/questions/53294482/how-to-get-tf-idf-scores-for-the-words/53294731"
   ]
  },
  {
   "cell_type": "markdown",
   "metadata": {},
   "source": [
    "# NER   [i think its only nltk]"
   ]
  },
  {
   "cell_type": "markdown",
   "metadata": {},
   "source": [
    "Named Entity Recognition?\n",
    "Named Entity Recognition or NER for short is a natural language processing task used to identify important named entities in the text -- such as people, places and organizations -- they can even be dates, states, works of art and other categories depending on the libraries and notation you use. NER can be used alongside topic identification, or on its own to determine important items in a text or answer basic natural language understanding questions such as who? what? when and where?\n",
    "\n",
    "\n",
    "\n",
    "NLTK allows you to interact with named entity recognition via it's own model, but also the aforementioned Stanford library. \n"
   ]
  },
  {
   "cell_type": "code",
   "execution_count": 48,
   "metadata": {},
   "outputs": [
    {
     "name": "stderr",
     "output_type": "stream",
     "text": [
      "[nltk_data] Downloading package maxent_ne_chunker to\n",
      "[nltk_data]     C:\\Users\\ANTHONY\\AppData\\Roaming\\nltk_data...\n",
      "[nltk_data]   Package maxent_ne_chunker is already up-to-date!\n",
      "[nltk_data] Downloading package words to\n",
      "[nltk_data]     C:\\Users\\ANTHONY\\AppData\\Roaming\\nltk_data...\n",
      "[nltk_data]   Package words is already up-to-date!\n"
     ]
    },
    {
     "data": {
      "text/plain": [
       "True"
      ]
     },
     "execution_count": 48,
     "metadata": {},
     "output_type": "execute_result"
    }
   ],
   "source": [
    "import nltk\n",
    "nltk.download('maxent_ne_chunker')\n",
    "nltk.download('words')\n"
   ]
  },
  {
   "cell_type": "code",
   "execution_count": 61,
   "metadata": {},
   "outputs": [
    {
     "name": "stdout",
     "output_type": "stream",
     "text": [
      "[['Trudeau', 'added', 'that', 'there', 'will', 'be', 'exceptions', 'to', 'these', 'new', 'restrictions', ',', 'particularly', 'for', 'truckers', 'and', 'health-care', 'workers', 'travelling', 'into', 'Canada', '.'], ['“', 'We', '’', 're', 'not', 'trying', 'to', 'punish', 'people', ',', 'we', '’', 're', 'trying', 'to', 'keep', 'people', 'safe', ',', '”', 'he', 'said.', '“', 'These', 'border', 'measures', 'will', 'help', 'stop', 'the', 'spread', 'of', 'COVID-19', 'and', 'new', 'variants.', '”', 'In', 'late', 'January', ',', 'Trudeau', 'announced', 'that', 'travellers', 'arriving', 'in', 'the', 'country', 'by', 'air', 'will', 'have', 'to', 'take', 'a', 'mandatory', 'PCR', 'coronavirus', 'test', '.'], ['While', 'they', 'await', 'the', 'results', 'of', 'that', 'test', ',', 'they', 'will', 'be', 'forced', 'to', 'quarantine', 'at', 'a', 'hotel', 'for', 'up', 'to', 'three', 'days', '—', 'on', 'their', 'own', 'dime', '.']]\n"
     ]
    },
    {
     "data": {
      "text/plain": [
       "[[('Trudeau', 'NNP'),\n",
       "  ('added', 'VBD'),\n",
       "  ('that', 'IN'),\n",
       "  ('there', 'EX'),\n",
       "  ('will', 'MD'),\n",
       "  ('be', 'VB'),\n",
       "  ('exceptions', 'NNS'),\n",
       "  ('to', 'TO'),\n",
       "  ('these', 'DT'),\n",
       "  ('new', 'JJ'),\n",
       "  ('restrictions', 'NNS'),\n",
       "  (',', ','),\n",
       "  ('particularly', 'RB'),\n",
       "  ('for', 'IN'),\n",
       "  ('truckers', 'NNS'),\n",
       "  ('and', 'CC'),\n",
       "  ('health-care', 'JJ'),\n",
       "  ('workers', 'NNS'),\n",
       "  ('travelling', 'VBG'),\n",
       "  ('into', 'IN'),\n",
       "  ('Canada', 'NNP'),\n",
       "  ('.', '.')],\n",
       " [('“', 'NN'),\n",
       "  ('We', 'PRP'),\n",
       "  ('’', 'VBP'),\n",
       "  ('re', 'JJ'),\n",
       "  ('not', 'RB'),\n",
       "  ('trying', 'VBG'),\n",
       "  ('to', 'TO'),\n",
       "  ('punish', 'VB'),\n",
       "  ('people', 'NNS'),\n",
       "  (',', ','),\n",
       "  ('we', 'PRP'),\n",
       "  ('’', 'VBP'),\n",
       "  ('re', 'VB'),\n",
       "  ('trying', 'VBG'),\n",
       "  ('to', 'TO'),\n",
       "  ('keep', 'VB'),\n",
       "  ('people', 'NNS'),\n",
       "  ('safe', 'JJ'),\n",
       "  (',', ','),\n",
       "  ('”', 'EX'),\n",
       "  ('he', 'PRP'),\n",
       "  ('said.', 'VBD'),\n",
       "  ('“', 'NNP'),\n",
       "  ('These', 'DT'),\n",
       "  ('border', 'NN'),\n",
       "  ('measures', 'NNS'),\n",
       "  ('will', 'MD'),\n",
       "  ('help', 'VB'),\n",
       "  ('stop', 'VB'),\n",
       "  ('the', 'DT'),\n",
       "  ('spread', 'NN'),\n",
       "  ('of', 'IN'),\n",
       "  ('COVID-19', 'NNP'),\n",
       "  ('and', 'CC'),\n",
       "  ('new', 'JJ'),\n",
       "  ('variants.', 'NN'),\n",
       "  ('”', 'NN'),\n",
       "  ('In', 'IN'),\n",
       "  ('late', 'JJ'),\n",
       "  ('January', 'NNP'),\n",
       "  (',', ','),\n",
       "  ('Trudeau', 'NNP'),\n",
       "  ('announced', 'VBD'),\n",
       "  ('that', 'IN'),\n",
       "  ('travellers', 'NNS'),\n",
       "  ('arriving', 'VBG'),\n",
       "  ('in', 'IN'),\n",
       "  ('the', 'DT'),\n",
       "  ('country', 'NN'),\n",
       "  ('by', 'IN'),\n",
       "  ('air', 'NN'),\n",
       "  ('will', 'MD'),\n",
       "  ('have', 'VB'),\n",
       "  ('to', 'TO'),\n",
       "  ('take', 'VB'),\n",
       "  ('a', 'DT'),\n",
       "  ('mandatory', 'JJ'),\n",
       "  ('PCR', 'NNP'),\n",
       "  ('coronavirus', 'NN'),\n",
       "  ('test', 'NN'),\n",
       "  ('.', '.')],\n",
       " [('While', 'IN'),\n",
       "  ('they', 'PRP'),\n",
       "  ('await', 'VBP'),\n",
       "  ('the', 'DT'),\n",
       "  ('results', 'NNS'),\n",
       "  ('of', 'IN'),\n",
       "  ('that', 'DT'),\n",
       "  ('test', 'NN'),\n",
       "  (',', ','),\n",
       "  ('they', 'PRP'),\n",
       "  ('will', 'MD'),\n",
       "  ('be', 'VB'),\n",
       "  ('forced', 'VBN'),\n",
       "  ('to', 'TO'),\n",
       "  ('quarantine', 'VB'),\n",
       "  ('at', 'IN'),\n",
       "  ('a', 'DT'),\n",
       "  ('hotel', 'NN'),\n",
       "  ('for', 'IN'),\n",
       "  ('up', 'IN'),\n",
       "  ('to', 'TO'),\n",
       "  ('three', 'CD'),\n",
       "  ('days', 'NNS'),\n",
       "  ('—', 'VBP'),\n",
       "  ('on', 'IN'),\n",
       "  ('their', 'PRP$'),\n",
       "  ('own', 'JJ'),\n",
       "  ('dime', 'NN'),\n",
       "  ('.', '.')]]"
      ]
     },
     "execution_count": 61,
     "metadata": {},
     "output_type": "execute_result"
    }
   ],
   "source": [
    "\n",
    "plain_news=\"\"\"Trudeau added that there will be exceptions to these new restrictions, particularly for truckers and health-care workers travelling into Canada.\n",
    "“We’re not trying to punish people, we’re trying to keep people safe,” he said.“These border measures will help stop the spread of COVID-19 and new variants.”\n",
    "In late January, Trudeau announced that travellers arriving in the country by air will have to take a mandatory PCR coronavirus test. While they await the results of that test, they will be forced to quarantine at a hotel for up to three days — on their own dime.\"\"\"\n",
    "\n",
    "# Tokenize the article into sentences: sentences\n",
    "sentences = nltk.sent_tokenize(plain_news)\n",
    "\n",
    "# Tokenize each sentence into words: token_sentences\n",
    "token_sentences = [nltk.word_tokenize(sent) for sent in sentences]\n",
    "print(token_sentences)\n",
    "\n",
    "\n",
    "# Tag each tokenized sentence into parts of speech: pos_sentences\n",
    "pos_sentences = [nltk.pos_tag(sent) for sent in token_sentences] \n",
    "\n",
    "pos_sentences\n"
   ]
  },
  {
   "cell_type": "code",
   "execution_count": 66,
   "metadata": {},
   "outputs": [
    {
     "data": {
      "text/plain": [
       "'VBD'"
      ]
     },
     "execution_count": 66,
     "metadata": {},
     "output_type": "execute_result"
    }
   ],
   "source": [
    "pos_sentences[0][1][1]"
   ]
  },
  {
   "cell_type": "code",
   "execution_count": 165,
   "metadata": {},
   "outputs": [
    {
     "name": "stdout",
     "output_type": "stream",
     "text": [
      "(S\n",
      "  (NE Trudeau/NNP)\n",
      "  added/VBD\n",
      "  that/IN\n",
      "  there/EX\n",
      "  will/MD\n",
      "  be/VB\n",
      "  exceptions/NNS\n",
      "  to/TO\n",
      "  these/DT\n",
      "  new/JJ\n",
      "  restrictions/NNS\n",
      "  ,/,\n",
      "  particularly/RB\n",
      "  for/IN\n",
      "  truckers/NNS\n",
      "  and/CC\n",
      "  health-care/JJ\n",
      "  workers/NNS\n",
      "  travelling/VBG\n",
      "  into/IN\n",
      "  (NE Canada/NNP)\n",
      "  ./.)\n",
      "(S\n",
      "  “/NN\n",
      "  We/PRP\n",
      "  ’/VBP\n",
      "  re/JJ\n",
      "  not/RB\n",
      "  trying/VBG\n",
      "  to/TO\n",
      "  punish/VB\n",
      "  people/NNS\n",
      "  ,/,\n",
      "  we/PRP\n",
      "  ’/VBP\n",
      "  re/VB\n",
      "  trying/VBG\n",
      "  to/TO\n",
      "  keep/VB\n",
      "  people/NNS\n",
      "  safe/JJ\n",
      "  ,/,\n",
      "  ”/EX\n",
      "  he/PRP\n",
      "  said./VBD\n",
      "  “/NNP\n",
      "  These/DT\n",
      "  border/NN\n",
      "  measures/NNS\n",
      "  will/MD\n",
      "  help/VB\n",
      "  stop/VB\n",
      "  the/DT\n",
      "  spread/NN\n",
      "  of/IN\n",
      "  COVID-19/NNP\n",
      "  and/CC\n",
      "  new/JJ\n",
      "  variants./NN\n",
      "  ”/NN\n",
      "  In/IN\n",
      "  late/JJ\n",
      "  January/NNP\n",
      "  ,/,\n",
      "  (NE Trudeau/NNP)\n",
      "  announced/VBD\n",
      "  that/IN\n",
      "  travellers/NNS\n",
      "  arriving/VBG\n",
      "  in/IN\n",
      "  the/DT\n",
      "  country/NN\n",
      "  by/IN\n",
      "  air/NN\n",
      "  will/MD\n",
      "  have/VB\n",
      "  to/TO\n",
      "  take/VB\n",
      "  a/DT\n",
      "  mandatory/JJ\n",
      "  (NE PCR/NNP)\n",
      "  coronavirus/NN\n",
      "  test/NN\n",
      "  ./.)\n",
      "(S\n",
      "  While/IN\n",
      "  they/PRP\n",
      "  await/VBP\n",
      "  the/DT\n",
      "  results/NNS\n",
      "  of/IN\n",
      "  that/DT\n",
      "  test/NN\n",
      "  ,/,\n",
      "  they/PRP\n",
      "  will/MD\n",
      "  be/VB\n",
      "  forced/VBN\n",
      "  to/TO\n",
      "  quarantine/VB\n",
      "  at/IN\n",
      "  a/DT\n",
      "  hotel/NN\n",
      "  for/IN\n",
      "  up/IN\n",
      "  to/TO\n",
      "  three/CD\n",
      "  days/NNS\n",
      "  —/VBP\n",
      "  on/IN\n",
      "  their/PRP$\n",
      "  own/JJ\n",
      "  dime/NN\n",
      "  ./.)\n"
     ]
    }
   ],
   "source": [
    "# Create the named entity chunks: chunked_sentences\n",
    "#we pass this tagged sentence into the ne_chunk function, or named entity chunk, which will return the sentence as a tree.\n",
    "#NLTK Tree's might look a bit different than trees you might use in other libraries, but they do have leaves and subtrees representing more complex grammar.\n",
    "\n",
    "chunked_sentences = nltk.ne_chunk_sents(pos_sentences, binary=True)\n",
    "\n",
    "chunked_sentences    #cant print normally cause its a generator object\n",
    "\n",
    "for i in chunked_sentences: \n",
    "    print(i)"
   ]
  },
  {
   "cell_type": "code",
   "execution_count": 166,
   "metadata": {},
   "outputs": [],
   "source": [
    "# Test for stems of the tree with 'NE' tags\n",
    "for sent in chunked_sentences:\n",
    "    for chunk in sent:\n",
    "        if hasattr(chunk, \"label\") and chunk.label() == \"NNP\":\n",
    "            print(chunk)\n"
   ]
  },
  {
   "cell_type": "code",
   "execution_count": 51,
   "metadata": {},
   "outputs": [
    {
     "name": "stdout",
     "output_type": "stream",
     "text": [
      "'﻿The taxi-hailing company Uber brings into very sharp focus the question of whether corporations can be said to have a moral character. If any human being were to behave with the single-minded and ruthless greed of the company, we would consider them sociopathic. Uber wanted to know as much as possible about the people who use its service, and those who don’t. It has an arrangement with unroll.me, a company which offered a free service for unsubscribing from junk mail, to buy the contacts unroll.me customers had had with rival taxi companies. Even if their email was notionally anonymised, this use of it was not something the users had bargained for. Beyond that, it keeps track of the phones that have been used to summon its services even after the original owner has sold them, attempting this with Apple’s phones even thought it is forbidden by the company.\r\n",
      "\r\n",
      "\r\n",
      "Uber has also tweaked its software so that regulatory agencies that the company regarded as hostile would, when they tried to hire a driver, be given false reports about the location of its cars. Uber management booked and then cancelled rides with a rival taxi-hailing company which took their vehicles out of circulation. Uber deny this was the intention. The punishment for this behaviour was negligible. Uber promised not to use this “greyball” software against law enforcement – one wonders what would happen to someone carrying a knife who promised never to stab a policeman with it. Travis Kalanick of Uber got a personal dressing down from Tim Cook, who runs Apple, but the company did not prohibit the use of the app. Too much money was at stake for that.\r\n",
      "\r\n",
      "\r\n",
      "Millions of people around the world value the cheapness and convenience of Uber’s rides too much to care about the lack of drivers’ rights or pay. Many of the users themselves are not much richer than the drivers. The “sharing economy” encourages the insecure and exploited to exploit others equally insecure to the profit of a tiny clique of billionaires. Silicon Valley’s culture seems hostile to humane and democratic values. The outgoing CEO of Yahoo, Marissa Mayer, who is widely judged to have been a failure, is likely to get a $186m payout. This may not be a cause for panic, any more than the previous hero worship should have been a cause for euphoria. Yet there’s an urgent political task to tame these companies, to ensure they are punished when they break the law, that they pay their taxes fairly and that they behave responsibly.'\n",
      "\n",
      "[[\"'\\ufeffThe\", 'taxi-hailing', 'company', 'Uber', 'brings', 'into', 'very', 'sharp', 'focus', 'the', 'question', 'of', 'whether', 'corporations', 'can', 'be', 'said', 'to', 'have', 'a', 'moral', 'character', '.'], ['If', 'any', 'human', 'being', 'were', 'to', 'behave', 'with', 'the', 'single-minded', 'and', 'ruthless', 'greed', 'of', 'the', 'company', ',', 'we', 'would', 'consider', 'them', 'sociopathic', '.'], ['Uber', 'wanted', 'to', 'know', 'as', 'much', 'as', 'possible', 'about', 'the', 'people', 'who', 'use', 'its', 'service', ',', 'and', 'those', 'who', 'don', '’', 't', '.'], ['It', 'has', 'an', 'arrangement', 'with', 'unroll.me', ',', 'a', 'company', 'which', 'offered', 'a', 'free', 'service', 'for', 'unsubscribing', 'from', 'junk', 'mail', ',', 'to', 'buy', 'the', 'contacts', 'unroll.me', 'customers', 'had', 'had', 'with', 'rival', 'taxi', 'companies', '.'], ['Even', 'if', 'their', 'email', 'was', 'notionally', 'anonymised', ',', 'this', 'use', 'of', 'it', 'was', 'not', 'something', 'the', 'users', 'had', 'bargained', 'for', '.'], ['Beyond', 'that', ',', 'it', 'keeps', 'track', 'of', 'the', 'phones', 'that', 'have', 'been', 'used', 'to', 'summon', 'its', 'services', 'even', 'after', 'the', 'original', 'owner', 'has', 'sold', 'them', ',', 'attempting', 'this', 'with', 'Apple', '’', 's', 'phones', 'even', 'thought', 'it', 'is', 'forbidden', 'by', 'the', 'company', '.'], ['Uber', 'has', 'also', 'tweaked', 'its', 'software', 'so', 'that', 'regulatory', 'agencies', 'that', 'the', 'company', 'regarded', 'as', 'hostile', 'would', ',', 'when', 'they', 'tried', 'to', 'hire', 'a', 'driver', ',', 'be', 'given', 'false', 'reports', 'about', 'the', 'location', 'of', 'its', 'cars', '.'], ['Uber', 'management', 'booked', 'and', 'then', 'cancelled', 'rides', 'with', 'a', 'rival', 'taxi-hailing', 'company', 'which', 'took', 'their', 'vehicles', 'out', 'of', 'circulation', '.'], ['Uber', 'deny', 'this', 'was', 'the', 'intention', '.'], ['The', 'punishment', 'for', 'this', 'behaviour', 'was', 'negligible', '.'], ['Uber', 'promised', 'not', 'to', 'use', 'this', '“', 'greyball', '”', 'software', 'against', 'law', 'enforcement', '–', 'one', 'wonders', 'what', 'would', 'happen', 'to', 'someone', 'carrying', 'a', 'knife', 'who', 'promised', 'never', 'to', 'stab', 'a', 'policeman', 'with', 'it', '.'], ['Travis', 'Kalanick', 'of', 'Uber', 'got', 'a', 'personal', 'dressing', 'down', 'from', 'Tim', 'Cook', ',', 'who', 'runs', 'Apple', ',', 'but', 'the', 'company', 'did', 'not', 'prohibit', 'the', 'use', 'of', 'the', 'app', '.'], ['Too', 'much', 'money', 'was', 'at', 'stake', 'for', 'that', '.'], ['Millions', 'of', 'people', 'around', 'the', 'world', 'value', 'the', 'cheapness', 'and', 'convenience', 'of', 'Uber', '’', 's', 'rides', 'too', 'much', 'to', 'care', 'about', 'the', 'lack', 'of', 'drivers', '’', 'rights', 'or', 'pay', '.'], ['Many', 'of', 'the', 'users', 'themselves', 'are', 'not', 'much', 'richer', 'than', 'the', 'drivers', '.'], ['The', '“', 'sharing', 'economy', '”', 'encourages', 'the', 'insecure', 'and', 'exploited', 'to', 'exploit', 'others', 'equally', 'insecure', 'to', 'the', 'profit', 'of', 'a', 'tiny', 'clique', 'of', 'billionaires', '.'], ['Silicon', 'Valley', '’', 's', 'culture', 'seems', 'hostile', 'to', 'humane', 'and', 'democratic', 'values', '.'], ['The', 'outgoing', 'CEO', 'of', 'Yahoo', ',', 'Marissa', 'Mayer', ',', 'who', 'is', 'widely', 'judged', 'to', 'have', 'been', 'a', 'failure', ',', 'is', 'likely', 'to', 'get', 'a', '$', '186m', 'payout', '.'], ['This', 'may', 'not', 'be', 'a', 'cause', 'for', 'panic', ',', 'any', 'more', 'than', 'the', 'previous', 'hero', 'worship', 'should', 'have', 'been', 'a', 'cause', 'for', 'euphoria', '.'], ['Yet', 'there', '’', 's', 'an', 'urgent', 'political', 'task', 'to', 'tame', 'these', 'companies', ',', 'to', 'ensure', 'they', 'are', 'punished', 'when', 'they', 'break', 'the', 'law', ',', 'that', 'they', 'pay', 'their', 'taxes', 'fairly', 'and', 'that', 'they', 'behave', 'responsibly', '.', \"'\"]]\n",
      "(NE Uber/NNP)\n",
      "(NE Beyond/NN)\n",
      "(NE Apple/NNP)\n",
      "(NE Uber/NNP)\n",
      "(NE Uber/NNP)\n",
      "(NE Travis/NNP Kalanick/NNP)\n",
      "(NE Tim/NNP Cook/NNP)\n",
      "(NE Apple/NNP)\n",
      "(NE Silicon/NNP Valley/NNP)\n",
      "(NE CEO/NNP)\n",
      "(NE Yahoo/NNP)\n",
      "(NE Marissa/NNP Mayer/NNP)\n"
     ]
    }
   ],
   "source": [
    "articl=\"\"\"'\\ufeffThe taxi-hailing company Uber brings into very sharp focus the question of whether corporations can be said to have a moral character. If any human being were to behave with the single-minded and ruthless greed of the company, we would consider them sociopathic. Uber wanted to know as much as possible about the people who use its service, and those who don’t. It has an arrangement with unroll.me, a company which offered a free service for unsubscribing from junk mail, to buy the contacts unroll.me customers had had with rival taxi companies. Even if their email was notionally anonymised, this use of it was not something the users had bargained for. Beyond that, it keeps track of the phones that have been used to summon its services even after the original owner has sold them, attempting this with Apple’s phones even thought it is forbidden by the company.\\r\\n\\r\\n\\r\\nUber has also tweaked its software so that regulatory agencies that the company regarded as hostile would, when they tried to hire a driver, be given false reports about the location of its cars. Uber management booked and then cancelled rides with a rival taxi-hailing company which took their vehicles out of circulation. Uber deny this was the intention. The punishment for this behaviour was negligible. Uber promised not to use this “greyball” software against law enforcement – one wonders what would happen to someone carrying a knife who promised never to stab a policeman with it. Travis Kalanick of Uber got a personal dressing down from Tim Cook, who runs Apple, but the company did not prohibit the use of the app. Too much money was at stake for that.\\r\\n\\r\\n\\r\\nMillions of people around the world value the cheapness and convenience of Uber’s rides too much to care about the lack of drivers’ rights or pay. Many of the users themselves are not much richer than the drivers. The “sharing economy” encourages the insecure and exploited to exploit others equally insecure to the profit of a tiny clique of billionaires. Silicon Valley’s culture seems hostile to humane and democratic values. The outgoing CEO of Yahoo, Marissa Mayer, who is widely judged to have been a failure, is likely to get a $186m payout. This may not be a cause for panic, any more than the previous hero worship should have been a cause for euphoria. Yet there’s an urgent political task to tame these companies, to ensure they are punished when they break the law, that they pay their taxes fairly and that they behave responsibly.'\n",
    "\"\"\"\n",
    "# Tokenize the article into sentences: sentences\n",
    "sentences = nltk.sent_tokenize(articl)\n",
    "print(articl)\n",
    "# Tokenize each sentence into words: token_sentences\n",
    "token_sentences = [nltk.word_tokenize(sent) for sent in sentences]\n",
    "print(token_sentences)\n",
    "\n",
    "# Tag each tokenized sentence into parts of speech: pos_sentences\n",
    "pos_sentences = [nltk.pos_tag(sent) for sent in token_sentences] \n",
    "\n",
    "# Create the named entity chunks: chunked_sentences\n",
    "chunked_sentences = nltk.ne_chunk_sents(pos_sentences, binary=True)\n",
    "\n",
    "# Test for stems of the tree with 'NE' tags\n",
    "for sent in chunked_sentences:\n",
    "    for chunk in sent:\n",
    "        if hasattr(chunk, \"label\") and chunk.label() == \"NE\":\n",
    "            print(chunk)\n"
   ]
  },
  {
   "cell_type": "code",
   "execution_count": null,
   "metadata": {},
   "outputs": [],
   "source": [
    "# below CHARTING IS NOT CORRECT....DO LOOK INTO IT"
   ]
  },
  {
   "cell_type": "code",
   "execution_count": 179,
   "metadata": {},
   "outputs": [
    {
     "data": {
      "image/png": "[encoded data removed]",
      "text/plain": [
       "<Figure size 432x288 with 1 Axes>"
      ]
     },
     "metadata": {},
     "output_type": "display_data"
    }
   ],
   "source": [
    "articl=\"\"\"'\\ufeffThe taxi-hailing company Uber brings into very sharp focus the question of whether corporations can be said to have a moral character. If any human being were to behave with the single-minded and ruthless greed of the company, we would consider them sociopathic. Uber wanted to know as much as possible about the people who use its service, and those who don’t. It has an arrangement with unroll.me, a company which offered a free service for unsubscribing from junk mail, to buy the contacts unroll.me customers had had with rival taxi companies. Even if their email was notionally anonymised, this use of it was not something the users had bargained for. Beyond that, it keeps track of the phones that have been used to summon its services even after the original owner has sold them, attempting this with Apple’s phones even thought it is forbidden by the company.\\r\\n\\r\\n\\r\\nUber has also tweaked its software so that regulatory agencies that the company regarded as hostile would, when they tried to hire a driver, be given false reports about the location of its cars. Uber management booked and then cancelled rides with a rival taxi-hailing company which took their vehicles out of circulation. Uber deny this was the intention. The punishment for this behaviour was negligible. Uber promised not to use this “greyball” software against law enforcement – one wonders what would happen to someone carrying a knife who promised never to stab a policeman with it. Travis Kalanick of Uber got a personal dressing down from Tim Cook, who runs Apple, but the company did not prohibit the use of the app. Too much money was at stake for that.\\r\\n\\r\\n\\r\\nMillions of people around the world value the cheapness and convenience of Uber’s rides too much to care about the lack of drivers’ rights or pay. Many of the users themselves are not much richer than the drivers. The “sharing economy” encourages the insecure and exploited to exploit others equally insecure to the profit of a tiny clique of billionaires. Silicon Valley’s culture seems hostile to humane and democratic values. The outgoing CEO of Yahoo, Marissa Mayer, who is widely judged to have been a failure, is likely to get a $186m payout. This may not be a cause for panic, any more than the previous hero worship should have been a cause for euphoria. Yet there’s an urgent political task to tame these companies, to ensure they are punished when they break the law, that they pay their taxes fairly and that they behave responsibly.'\n",
    "\"\"\"\n",
    "# Tokenize the article into sentences: sentences\n",
    "sentences = nltk.sent_tokenize(articl)\n",
    "\n",
    "# Tokenize each sentence into words: token_sentences\n",
    "token_sentences = [nltk.word_tokenize(sent) for sent in sentences]\n",
    "\n",
    "# Tag each tokenized sentence into parts of speech: pos_sentences\n",
    "pos_sentences = [nltk.pos_tag(sent) for sent in token_sentences] \n",
    "\n",
    "# Create the named entity chunks: chunked_sentences\n",
    "chunked_sentences = nltk.ne_chunk_sents(pos_sentences, binary=True)\n",
    "\n",
    "import collections\n",
    "# Create the defaultdict: ner_categories\n",
    "ner_categories = collections.defaultdict(int)\n",
    "\n",
    "# Test for stems of the tree with 'NE' tags\n",
    "for sent in chunked_sentences:\n",
    "    for chunk in sent:\n",
    "        if hasattr(chunk, 'label'):\n",
    "            ner_categories[chunk.label()] += 1\n",
    "            \n",
    "# Create a list from the dictionary keys for the chart labels: labels\n",
    "labels = list(ner_categories.keys())\n",
    "\n",
    "# Create a list of the values: values\n",
    "values = [ner_categories.get(v) for v in labels]\n",
    "\n",
    "# Create the pie chart\n",
    "plt.pie(values, labels=labels, autopct='%1.1f%%', startangle=140)\n",
    "\n",
    "# Display the chart\n",
    "plt.show()\n"
   ]
  },
  {
   "cell_type": "markdown",
   "metadata": {},
   "source": [
    "## PLOYGLOT"
   ]
  },
  {
   "cell_type": "markdown",
   "metadata": {},
   "source": [
    "polyglot? for ner and many more\n",
    "\n",
    "Polyglot is yet another natural language processing library which uses ................WORD VECTORS.............. to perform simple tasks such as entity recognition. You might be wondering: why do I need to learn another library which uses word vectors? Don't I already have Gensim and Spacy? And you would be correct. The main benefit and difference of using Polyglot, however, is the wide variety of languages it supports. Polyglot has word embeddings for more than 130 languages!"
   ]
  },
  {
   "cell_type": "code",
   "execution_count": 4,
   "metadata": {},
   "outputs": [],
   "source": [
    "import polyglot\n",
    "from polyglot.text import Text, Word"
   ]
  },
  {
   "cell_type": "code",
   "execution_count": 5,
   "metadata": {},
   "outputs": [
    {
     "ename": "IndexError",
     "evalue": "list index out of range",
     "output_type": "error",
     "traceback": [
      "\u001b[1;31m---------------------------------------------------------------------------\u001b[0m",
      "\u001b[1;31mIndexError\u001b[0m                                Traceback (most recent call last)",
      "\u001b[1;32m<ipython-input-5-3795737b065a>\u001b[0m in \u001b[0;36m<module>\u001b[1;34m\u001b[0m\n\u001b[0;32m      1\u001b[0m \u001b[1;32mfrom\u001b[0m \u001b[0mpolyglot\u001b[0m\u001b[1;33m.\u001b[0m\u001b[0mdownloader\u001b[0m \u001b[1;32mimport\u001b[0m \u001b[0mdownloader\u001b[0m\u001b[1;33m\u001b[0m\u001b[1;33m\u001b[0m\u001b[0m\n\u001b[1;32m----> 2\u001b[1;33m \u001b[0mprint\u001b[0m\u001b[1;33m(\u001b[0m\u001b[0mdownloader\u001b[0m\u001b[1;33m.\u001b[0m\u001b[0msupported_languages_table\u001b[0m\u001b[1;33m(\u001b[0m\u001b[1;34m\"ner2\"\u001b[0m\u001b[1;33m,\u001b[0m \u001b[1;36m3\u001b[0m\u001b[1;33m)\u001b[0m\u001b[1;33m)\u001b[0m\u001b[1;33m\u001b[0m\u001b[1;33m\u001b[0m\u001b[0m\n\u001b[0m",
      "\u001b[1;32m~\\anaconda3\\lib\\site-packages\\polyglot\\downloader.py\u001b[0m in \u001b[0;36msupported_languages_table\u001b[1;34m(self, task, cols)\u001b[0m\n\u001b[0;32m    976\u001b[0m \u001b[1;33m\u001b[0m\u001b[0m\n\u001b[0;32m    977\u001b[0m   \u001b[1;32mdef\u001b[0m \u001b[0msupported_languages_table\u001b[0m\u001b[1;33m(\u001b[0m\u001b[0mself\u001b[0m\u001b[1;33m,\u001b[0m \u001b[0mtask\u001b[0m\u001b[1;33m,\u001b[0m \u001b[0mcols\u001b[0m\u001b[1;33m=\u001b[0m\u001b[1;36m3\u001b[0m\u001b[1;33m)\u001b[0m\u001b[1;33m:\u001b[0m\u001b[1;33m\u001b[0m\u001b[1;33m\u001b[0m\u001b[0m\n\u001b[1;32m--> 978\u001b[1;33m     \u001b[0mlanguages\u001b[0m \u001b[1;33m=\u001b[0m \u001b[0mself\u001b[0m\u001b[1;33m.\u001b[0m\u001b[0msupported_languages\u001b[0m\u001b[1;33m(\u001b[0m\u001b[0mtask\u001b[0m\u001b[1;33m)\u001b[0m\u001b[1;33m\u001b[0m\u001b[1;33m\u001b[0m\u001b[0m\n\u001b[0m\u001b[0;32m    979\u001b[0m     \u001b[1;32mreturn\u001b[0m \u001b[0mpretty_list\u001b[0m\u001b[1;33m(\u001b[0m\u001b[0mlanguages\u001b[0m\u001b[1;33m)\u001b[0m\u001b[1;33m\u001b[0m\u001b[1;33m\u001b[0m\u001b[0m\n\u001b[0;32m    980\u001b[0m \u001b[1;33m\u001b[0m\u001b[0m\n",
      "\u001b[1;32m~\\anaconda3\\lib\\site-packages\\polyglot\\downloader.py\u001b[0m in \u001b[0;36msupported_languages\u001b[1;34m(self, task)\u001b[0m\n\u001b[0;32m    968\u001b[0m     \"\"\"\n\u001b[0;32m    969\u001b[0m     \u001b[1;32mif\u001b[0m \u001b[0mtask\u001b[0m\u001b[1;33m:\u001b[0m\u001b[1;33m\u001b[0m\u001b[1;33m\u001b[0m\u001b[0m\n\u001b[1;32m--> 970\u001b[1;33m       \u001b[0mcollection\u001b[0m \u001b[1;33m=\u001b[0m \u001b[0mself\u001b[0m\u001b[1;33m.\u001b[0m\u001b[0mget_collection\u001b[0m\u001b[1;33m(\u001b[0m\u001b[0mtask\u001b[0m\u001b[1;33m=\u001b[0m\u001b[0mtask\u001b[0m\u001b[1;33m)\u001b[0m\u001b[1;33m\u001b[0m\u001b[1;33m\u001b[0m\u001b[0m\n\u001b[0m\u001b[0;32m    971\u001b[0m       return [isoLangs[x.id.split('.')[1]][\"name\"]\n\u001b[0;32m    972\u001b[0m                                          for x in collection.packages]\n",
      "\u001b[1;32m~\\anaconda3\\lib\\site-packages\\polyglot\\downloader.py\u001b[0m in \u001b[0;36mget_collection\u001b[1;34m(self, lang, task)\u001b[0m\n\u001b[0;32m    944\u001b[0m     \u001b[1;32melse\u001b[0m\u001b[1;33m:\u001b[0m \u001b[1;32mraise\u001b[0m \u001b[0mValueError\u001b[0m\u001b[1;33m(\u001b[0m\u001b[1;34m\"You should pass either the task or the lang\"\u001b[0m\u001b[1;33m)\u001b[0m\u001b[1;33m\u001b[0m\u001b[1;33m\u001b[0m\u001b[0m\n\u001b[0;32m    945\u001b[0m     \u001b[1;32mtry\u001b[0m\u001b[1;33m:\u001b[0m\u001b[1;33m\u001b[0m\u001b[1;33m\u001b[0m\u001b[0m\n\u001b[1;32m--> 946\u001b[1;33m       \u001b[1;32mreturn\u001b[0m \u001b[0mself\u001b[0m\u001b[1;33m.\u001b[0m\u001b[0minfo\u001b[0m\u001b[1;33m(\u001b[0m\u001b[0mid\u001b[0m\u001b[1;33m)\u001b[0m\u001b[1;33m\u001b[0m\u001b[1;33m\u001b[0m\u001b[0m\n\u001b[0m\u001b[0;32m    947\u001b[0m     \u001b[1;32mexcept\u001b[0m \u001b[0mValueError\u001b[0m \u001b[1;32mas\u001b[0m \u001b[0me\u001b[0m\u001b[1;33m:\u001b[0m\u001b[1;33m\u001b[0m\u001b[1;33m\u001b[0m\u001b[0m\n\u001b[0;32m    948\u001b[0m       \u001b[1;32mif\u001b[0m \u001b[0mlang\u001b[0m\u001b[1;33m:\u001b[0m \u001b[1;32mraise\u001b[0m \u001b[0mLanguageNotSupported\u001b[0m\u001b[1;33m(\u001b[0m\u001b[1;34m\"Language {} is not supported\"\u001b[0m\u001b[1;33m.\u001b[0m\u001b[0mformat\u001b[0m\u001b[1;33m(\u001b[0m\u001b[0mid\u001b[0m\u001b[1;33m)\u001b[0m\u001b[1;33m)\u001b[0m\u001b[1;33m\u001b[0m\u001b[1;33m\u001b[0m\u001b[0m\n",
      "\u001b[1;32m~\\anaconda3\\lib\\site-packages\\polyglot\\downloader.py\u001b[0m in \u001b[0;36minfo\u001b[1;34m(self, id)\u001b[0m\n\u001b[0;32m    927\u001b[0m     \u001b[1;32mif\u001b[0m \u001b[0mid\u001b[0m \u001b[1;32min\u001b[0m \u001b[0mself\u001b[0m\u001b[1;33m.\u001b[0m\u001b[0m_packages\u001b[0m\u001b[1;33m:\u001b[0m \u001b[1;32mreturn\u001b[0m \u001b[0mself\u001b[0m\u001b[1;33m.\u001b[0m\u001b[0m_packages\u001b[0m\u001b[1;33m[\u001b[0m\u001b[0mid\u001b[0m\u001b[1;33m]\u001b[0m\u001b[1;33m\u001b[0m\u001b[1;33m\u001b[0m\u001b[0m\n\u001b[0;32m    928\u001b[0m     \u001b[1;32mif\u001b[0m \u001b[0mid\u001b[0m \u001b[1;32min\u001b[0m \u001b[0mself\u001b[0m\u001b[1;33m.\u001b[0m\u001b[0m_collections\u001b[0m\u001b[1;33m:\u001b[0m \u001b[1;32mreturn\u001b[0m \u001b[0mself\u001b[0m\u001b[1;33m.\u001b[0m\u001b[0m_collections\u001b[0m\u001b[1;33m[\u001b[0m\u001b[0mid\u001b[0m\u001b[1;33m]\u001b[0m\u001b[1;33m\u001b[0m\u001b[1;33m\u001b[0m\u001b[0m\n\u001b[1;32m--> 929\u001b[1;33m     \u001b[0mself\u001b[0m\u001b[1;33m.\u001b[0m\u001b[0m_update_index\u001b[0m\u001b[1;33m(\u001b[0m\u001b[1;33m)\u001b[0m \u001b[1;31m# If package is not found, most probably we did not\u001b[0m\u001b[1;33m\u001b[0m\u001b[1;33m\u001b[0m\u001b[0m\n\u001b[0m\u001b[0;32m    930\u001b[0m                          \u001b[1;31m# warm up the cache\u001b[0m\u001b[1;33m\u001b[0m\u001b[1;33m\u001b[0m\u001b[1;33m\u001b[0m\u001b[0m\n\u001b[0;32m    931\u001b[0m     \u001b[1;32mif\u001b[0m \u001b[0mid\u001b[0m \u001b[1;32min\u001b[0m \u001b[0mself\u001b[0m\u001b[1;33m.\u001b[0m\u001b[0m_packages\u001b[0m\u001b[1;33m:\u001b[0m \u001b[1;32mreturn\u001b[0m \u001b[0mself\u001b[0m\u001b[1;33m.\u001b[0m\u001b[0m_packages\u001b[0m\u001b[1;33m[\u001b[0m\u001b[0mid\u001b[0m\u001b[1;33m]\u001b[0m\u001b[1;33m\u001b[0m\u001b[1;33m\u001b[0m\u001b[0m\n",
      "\u001b[1;32m~\\anaconda3\\lib\\site-packages\\polyglot\\downloader.py\u001b[0m in \u001b[0;36m_update_index\u001b[1;34m(self, url)\u001b[0m\n\u001b[0;32m    841\u001b[0m     \u001b[0mpackages\u001b[0m \u001b[1;33m=\u001b[0m \u001b[1;33m[\u001b[0m\u001b[1;33m]\u001b[0m\u001b[1;33m\u001b[0m\u001b[1;33m\u001b[0m\u001b[0m\n\u001b[0;32m    842\u001b[0m     \u001b[1;32mfor\u001b[0m \u001b[0mp\u001b[0m \u001b[1;32min\u001b[0m \u001b[0mobjs\u001b[0m\u001b[1;33m:\u001b[0m\u001b[1;33m\u001b[0m\u001b[1;33m\u001b[0m\u001b[0m\n\u001b[1;32m--> 843\u001b[1;33m       \u001b[0mP\u001b[0m \u001b[1;33m=\u001b[0m \u001b[0mPackage\u001b[0m\u001b[1;33m.\u001b[0m\u001b[0mfromcsobj\u001b[0m\u001b[1;33m(\u001b[0m\u001b[0mp\u001b[0m\u001b[1;33m)\u001b[0m\u001b[1;33m\u001b[0m\u001b[1;33m\u001b[0m\u001b[0m\n\u001b[0m\u001b[0;32m    844\u001b[0m       \u001b[0mpackages\u001b[0m\u001b[1;33m.\u001b[0m\u001b[0mappend\u001b[0m\u001b[1;33m(\u001b[0m\u001b[0mP\u001b[0m\u001b[1;33m)\u001b[0m\u001b[1;33m\u001b[0m\u001b[1;33m\u001b[0m\u001b[0m\n\u001b[0;32m    845\u001b[0m     \u001b[0mself\u001b[0m\u001b[1;33m.\u001b[0m\u001b[0m_packages\u001b[0m \u001b[1;33m=\u001b[0m \u001b[0mdict\u001b[0m\u001b[1;33m(\u001b[0m\u001b[1;33m(\u001b[0m\u001b[0mp\u001b[0m\u001b[1;33m.\u001b[0m\u001b[0mid\u001b[0m\u001b[1;33m,\u001b[0m \u001b[0mp\u001b[0m\u001b[1;33m)\u001b[0m \u001b[1;32mfor\u001b[0m \u001b[0mp\u001b[0m \u001b[1;32min\u001b[0m \u001b[0mpackages\u001b[0m\u001b[1;33m)\u001b[0m\u001b[1;33m\u001b[0m\u001b[1;33m\u001b[0m\u001b[0m\n",
      "\u001b[1;32m~\\anaconda3\\lib\\site-packages\\polyglot\\downloader.py\u001b[0m in \u001b[0;36mfromcsobj\u001b[1;34m(csobj)\u001b[0m\n\u001b[0;32m    214\u001b[0m     \u001b[0mfilename\u001b[0m \u001b[1;33m=\u001b[0m \u001b[0mattrs\u001b[0m\u001b[1;33m[\u001b[0m\u001b[1;34m\"name\"\u001b[0m\u001b[1;33m]\u001b[0m\u001b[1;33m\u001b[0m\u001b[1;33m\u001b[0m\u001b[0m\n\u001b[0;32m    215\u001b[0m     \u001b[0mtask\u001b[0m \u001b[1;33m=\u001b[0m \u001b[0msubdir\u001b[0m\u001b[1;33m.\u001b[0m\u001b[0msplit\u001b[0m\u001b[1;33m(\u001b[0m\u001b[0mpath\u001b[0m\u001b[1;33m.\u001b[0m\u001b[0msep\u001b[0m\u001b[1;33m)\u001b[0m\u001b[1;33m[\u001b[0m\u001b[1;36m0\u001b[0m\u001b[1;33m]\u001b[0m\u001b[1;33m\u001b[0m\u001b[1;33m\u001b[0m\u001b[0m\n\u001b[1;32m--> 216\u001b[1;33m     \u001b[0mlanguage\u001b[0m \u001b[1;33m=\u001b[0m \u001b[0msubdir\u001b[0m\u001b[1;33m.\u001b[0m\u001b[0msplit\u001b[0m\u001b[1;33m(\u001b[0m\u001b[0mpath\u001b[0m\u001b[1;33m.\u001b[0m\u001b[0msep\u001b[0m\u001b[1;33m)\u001b[0m\u001b[1;33m[\u001b[0m\u001b[1;36m1\u001b[0m\u001b[1;33m]\u001b[0m\u001b[1;33m\u001b[0m\u001b[1;33m\u001b[0m\u001b[0m\n\u001b[0m\u001b[0;32m    217\u001b[0m     \u001b[0mattrs\u001b[0m \u001b[1;33m=\u001b[0m \u001b[0mattrs\u001b[0m\u001b[1;33m\u001b[0m\u001b[1;33m\u001b[0m\u001b[0m\n\u001b[0;32m    218\u001b[0m     \u001b[1;32mreturn\u001b[0m \u001b[0mPackage\u001b[0m\u001b[1;33m(\u001b[0m\u001b[1;33m**\u001b[0m\u001b[0mlocals\u001b[0m\u001b[1;33m(\u001b[0m\u001b[1;33m)\u001b[0m\u001b[1;33m)\u001b[0m\u001b[1;33m\u001b[0m\u001b[1;33m\u001b[0m\u001b[0m\n",
      "\u001b[1;31mIndexError\u001b[0m: list index out of range"
     ]
    }
   ],
   "source": [
    "from polyglot.downloader import downloader\n",
    "print(downloader.supported_languages_table(\"ner2\", 3))"
   ]
  },
  {
   "cell_type": "code",
   "execution_count": 6,
   "metadata": {},
   "outputs": [
    {
     "ename": "IndexError",
     "evalue": "list index out of range",
     "output_type": "error",
     "traceback": [
      "\u001b[1;31m---------------------------------------------------------------------------\u001b[0m",
      "\u001b[1;31mIndexError\u001b[0m                                Traceback (most recent call last)",
      "\u001b[1;32m<ipython-input-6-e8998db66c26>\u001b[0m in \u001b[0;36m<module>\u001b[1;34m\u001b[0m\n\u001b[0;32m      1\u001b[0m \u001b[0mblob\u001b[0m \u001b[1;33m=\u001b[0m \u001b[1;34m\"\"\"The Israeli Prime Minister Benjamin Netanyahu has warned that Iran poses a \"threat to the entire world\".\"\"\"\u001b[0m\u001b[1;33m\u001b[0m\u001b[1;33m\u001b[0m\u001b[0m\n\u001b[0;32m      2\u001b[0m \u001b[0mtext\u001b[0m \u001b[1;33m=\u001b[0m \u001b[0mText\u001b[0m\u001b[1;33m(\u001b[0m\u001b[0mblob\u001b[0m\u001b[1;33m)\u001b[0m\u001b[1;33m\u001b[0m\u001b[1;33m\u001b[0m\u001b[0m\n\u001b[1;32m----> 3\u001b[1;33m \u001b[0mtext\u001b[0m\u001b[1;33m.\u001b[0m\u001b[0mentities\u001b[0m\u001b[1;33m\u001b[0m\u001b[1;33m\u001b[0m\u001b[0m\n\u001b[0m",
      "\u001b[1;32m~\\anaconda3\\lib\\site-packages\\polyglot\\decorators.py\u001b[0m in \u001b[0;36m__get__\u001b[1;34m(self, obj, cls)\u001b[0m\n\u001b[0;32m     18\u001b[0m     \u001b[1;32mif\u001b[0m \u001b[0mobj\u001b[0m \u001b[1;32mis\u001b[0m \u001b[1;32mNone\u001b[0m\u001b[1;33m:\u001b[0m\u001b[1;33m\u001b[0m\u001b[1;33m\u001b[0m\u001b[0m\n\u001b[0;32m     19\u001b[0m         \u001b[1;32mreturn\u001b[0m \u001b[0mself\u001b[0m\u001b[1;33m\u001b[0m\u001b[1;33m\u001b[0m\u001b[0m\n\u001b[1;32m---> 20\u001b[1;33m     \u001b[0mvalue\u001b[0m \u001b[1;33m=\u001b[0m \u001b[0mobj\u001b[0m\u001b[1;33m.\u001b[0m\u001b[0m__dict__\u001b[0m\u001b[1;33m[\u001b[0m\u001b[0mself\u001b[0m\u001b[1;33m.\u001b[0m\u001b[0mfunc\u001b[0m\u001b[1;33m.\u001b[0m\u001b[0m__name__\u001b[0m\u001b[1;33m]\u001b[0m \u001b[1;33m=\u001b[0m \u001b[0mself\u001b[0m\u001b[1;33m.\u001b[0m\u001b[0mfunc\u001b[0m\u001b[1;33m(\u001b[0m\u001b[0mobj\u001b[0m\u001b[1;33m)\u001b[0m\u001b[1;33m\u001b[0m\u001b[1;33m\u001b[0m\u001b[0m\n\u001b[0m\u001b[0;32m     21\u001b[0m     \u001b[1;32mreturn\u001b[0m \u001b[0mvalue\u001b[0m\u001b[1;33m\u001b[0m\u001b[1;33m\u001b[0m\u001b[0m\n\u001b[0;32m     22\u001b[0m \u001b[1;33m\u001b[0m\u001b[0m\n",
      "\u001b[1;32m~\\anaconda3\\lib\\site-packages\\polyglot\\text.py\u001b[0m in \u001b[0;36mentities\u001b[1;34m(self)\u001b[0m\n\u001b[0;32m    130\u001b[0m     \u001b[0mprev_tag\u001b[0m \u001b[1;33m=\u001b[0m \u001b[1;34mu'O'\u001b[0m\u001b[1;33m\u001b[0m\u001b[1;33m\u001b[0m\u001b[0m\n\u001b[0;32m    131\u001b[0m     \u001b[0mchunks\u001b[0m \u001b[1;33m=\u001b[0m \u001b[1;33m[\u001b[0m\u001b[1;33m]\u001b[0m\u001b[1;33m\u001b[0m\u001b[1;33m\u001b[0m\u001b[0m\n\u001b[1;32m--> 132\u001b[1;33m     \u001b[1;32mfor\u001b[0m \u001b[0mi\u001b[0m\u001b[1;33m,\u001b[0m \u001b[1;33m(\u001b[0m\u001b[0mw\u001b[0m\u001b[1;33m,\u001b[0m \u001b[0mtag\u001b[0m\u001b[1;33m)\u001b[0m \u001b[1;32min\u001b[0m \u001b[0menumerate\u001b[0m\u001b[1;33m(\u001b[0m\u001b[0mself\u001b[0m\u001b[1;33m.\u001b[0m\u001b[0mne_chunker\u001b[0m\u001b[1;33m.\u001b[0m\u001b[0mannotate\u001b[0m\u001b[1;33m(\u001b[0m\u001b[0mself\u001b[0m\u001b[1;33m.\u001b[0m\u001b[0mwords\u001b[0m\u001b[1;33m)\u001b[0m\u001b[1;33m)\u001b[0m\u001b[1;33m:\u001b[0m\u001b[1;33m\u001b[0m\u001b[1;33m\u001b[0m\u001b[0m\n\u001b[0m\u001b[0;32m    133\u001b[0m       \u001b[1;32mif\u001b[0m \u001b[0mtag\u001b[0m \u001b[1;33m!=\u001b[0m \u001b[0mprev_tag\u001b[0m\u001b[1;33m:\u001b[0m\u001b[1;33m\u001b[0m\u001b[1;33m\u001b[0m\u001b[0m\n\u001b[0;32m    134\u001b[0m         \u001b[1;32mif\u001b[0m \u001b[0mprev_tag\u001b[0m \u001b[1;33m==\u001b[0m \u001b[1;34mu'O'\u001b[0m\u001b[1;33m:\u001b[0m\u001b[1;33m\u001b[0m\u001b[1;33m\u001b[0m\u001b[0m\n",
      "\u001b[1;32m~\\anaconda3\\lib\\site-packages\\polyglot\\decorators.py\u001b[0m in \u001b[0;36m__get__\u001b[1;34m(self, obj, cls)\u001b[0m\n\u001b[0;32m     18\u001b[0m     \u001b[1;32mif\u001b[0m \u001b[0mobj\u001b[0m \u001b[1;32mis\u001b[0m \u001b[1;32mNone\u001b[0m\u001b[1;33m:\u001b[0m\u001b[1;33m\u001b[0m\u001b[1;33m\u001b[0m\u001b[0m\n\u001b[0;32m     19\u001b[0m         \u001b[1;32mreturn\u001b[0m \u001b[0mself\u001b[0m\u001b[1;33m\u001b[0m\u001b[1;33m\u001b[0m\u001b[0m\n\u001b[1;32m---> 20\u001b[1;33m     \u001b[0mvalue\u001b[0m \u001b[1;33m=\u001b[0m \u001b[0mobj\u001b[0m\u001b[1;33m.\u001b[0m\u001b[0m__dict__\u001b[0m\u001b[1;33m[\u001b[0m\u001b[0mself\u001b[0m\u001b[1;33m.\u001b[0m\u001b[0mfunc\u001b[0m\u001b[1;33m.\u001b[0m\u001b[0m__name__\u001b[0m\u001b[1;33m]\u001b[0m \u001b[1;33m=\u001b[0m \u001b[0mself\u001b[0m\u001b[1;33m.\u001b[0m\u001b[0mfunc\u001b[0m\u001b[1;33m(\u001b[0m\u001b[0mobj\u001b[0m\u001b[1;33m)\u001b[0m\u001b[1;33m\u001b[0m\u001b[1;33m\u001b[0m\u001b[0m\n\u001b[0m\u001b[0;32m     21\u001b[0m     \u001b[1;32mreturn\u001b[0m \u001b[0mvalue\u001b[0m\u001b[1;33m\u001b[0m\u001b[1;33m\u001b[0m\u001b[0m\n\u001b[0;32m     22\u001b[0m \u001b[1;33m\u001b[0m\u001b[0m\n",
      "\u001b[1;32m~\\anaconda3\\lib\\site-packages\\polyglot\\text.py\u001b[0m in \u001b[0;36mne_chunker\u001b[1;34m(self)\u001b[0m\n\u001b[0;32m     98\u001b[0m   \u001b[1;33m@\u001b[0m\u001b[0mcached_property\u001b[0m\u001b[1;33m\u001b[0m\u001b[1;33m\u001b[0m\u001b[0m\n\u001b[0;32m     99\u001b[0m   \u001b[1;32mdef\u001b[0m \u001b[0mne_chunker\u001b[0m\u001b[1;33m(\u001b[0m\u001b[0mself\u001b[0m\u001b[1;33m)\u001b[0m\u001b[1;33m:\u001b[0m\u001b[1;33m\u001b[0m\u001b[1;33m\u001b[0m\u001b[0m\n\u001b[1;32m--> 100\u001b[1;33m     \u001b[1;32mreturn\u001b[0m \u001b[0mget_ner_tagger\u001b[0m\u001b[1;33m(\u001b[0m\u001b[0mlang\u001b[0m\u001b[1;33m=\u001b[0m\u001b[0mself\u001b[0m\u001b[1;33m.\u001b[0m\u001b[0mlanguage\u001b[0m\u001b[1;33m.\u001b[0m\u001b[0mcode\u001b[0m\u001b[1;33m)\u001b[0m\u001b[1;33m\u001b[0m\u001b[1;33m\u001b[0m\u001b[0m\n\u001b[0m\u001b[0;32m    101\u001b[0m \u001b[1;33m\u001b[0m\u001b[0m\n\u001b[0;32m    102\u001b[0m   \u001b[1;33m@\u001b[0m\u001b[0mcached_property\u001b[0m\u001b[1;33m\u001b[0m\u001b[1;33m\u001b[0m\u001b[0m\n",
      "\u001b[1;32m~\\anaconda3\\lib\\site-packages\\polyglot\\decorators.py\u001b[0m in \u001b[0;36mmemoizer\u001b[1;34m(*args, **kwargs)\u001b[0m\n\u001b[0;32m     28\u001b[0m     \u001b[0mkey\u001b[0m \u001b[1;33m=\u001b[0m \u001b[0mtuple\u001b[0m\u001b[1;33m(\u001b[0m\u001b[0mlist\u001b[0m\u001b[1;33m(\u001b[0m\u001b[0margs\u001b[0m\u001b[1;33m)\u001b[0m \u001b[1;33m+\u001b[0m \u001b[0msorted\u001b[0m\u001b[1;33m(\u001b[0m\u001b[0mkwargs\u001b[0m\u001b[1;33m.\u001b[0m\u001b[0mitems\u001b[0m\u001b[1;33m(\u001b[0m\u001b[1;33m)\u001b[0m\u001b[1;33m)\u001b[0m\u001b[1;33m)\u001b[0m\u001b[1;33m\u001b[0m\u001b[1;33m\u001b[0m\u001b[0m\n\u001b[0;32m     29\u001b[0m     \u001b[1;32mif\u001b[0m \u001b[0mkey\u001b[0m \u001b[1;32mnot\u001b[0m \u001b[1;32min\u001b[0m \u001b[0mcache\u001b[0m\u001b[1;33m:\u001b[0m\u001b[1;33m\u001b[0m\u001b[1;33m\u001b[0m\u001b[0m\n\u001b[1;32m---> 30\u001b[1;33m       \u001b[0mcache\u001b[0m\u001b[1;33m[\u001b[0m\u001b[0mkey\u001b[0m\u001b[1;33m]\u001b[0m \u001b[1;33m=\u001b[0m \u001b[0mobj\u001b[0m\u001b[1;33m(\u001b[0m\u001b[1;33m*\u001b[0m\u001b[0margs\u001b[0m\u001b[1;33m,\u001b[0m \u001b[1;33m**\u001b[0m\u001b[0mkwargs\u001b[0m\u001b[1;33m)\u001b[0m\u001b[1;33m\u001b[0m\u001b[1;33m\u001b[0m\u001b[0m\n\u001b[0m\u001b[0;32m     31\u001b[0m     \u001b[1;32mreturn\u001b[0m \u001b[0mcache\u001b[0m\u001b[1;33m[\u001b[0m\u001b[0mkey\u001b[0m\u001b[1;33m]\u001b[0m\u001b[1;33m\u001b[0m\u001b[1;33m\u001b[0m\u001b[0m\n\u001b[0;32m     32\u001b[0m   \u001b[1;32mreturn\u001b[0m \u001b[0mmemoizer\u001b[0m\u001b[1;33m\u001b[0m\u001b[1;33m\u001b[0m\u001b[0m\n",
      "\u001b[1;32m~\\anaconda3\\lib\\site-packages\\polyglot\\tag\\base.py\u001b[0m in \u001b[0;36mget_ner_tagger\u001b[1;34m(lang)\u001b[0m\n\u001b[0;32m    189\u001b[0m \u001b[1;32mdef\u001b[0m \u001b[0mget_ner_tagger\u001b[0m\u001b[1;33m(\u001b[0m\u001b[0mlang\u001b[0m\u001b[1;33m=\u001b[0m\u001b[1;34m'en'\u001b[0m\u001b[1;33m)\u001b[0m\u001b[1;33m:\u001b[0m\u001b[1;33m\u001b[0m\u001b[1;33m\u001b[0m\u001b[0m\n\u001b[0;32m    190\u001b[0m   \u001b[1;34m\"\"\"Return a NER tagger from the models cache.\"\"\"\u001b[0m\u001b[1;33m\u001b[0m\u001b[1;33m\u001b[0m\u001b[0m\n\u001b[1;32m--> 191\u001b[1;33m   \u001b[1;32mreturn\u001b[0m \u001b[0mNEChunker\u001b[0m\u001b[1;33m(\u001b[0m\u001b[0mlang\u001b[0m\u001b[1;33m=\u001b[0m\u001b[0mlang\u001b[0m\u001b[1;33m)\u001b[0m\u001b[1;33m\u001b[0m\u001b[1;33m\u001b[0m\u001b[0m\n\u001b[0m",
      "\u001b[1;32m~\\anaconda3\\lib\\site-packages\\polyglot\\tag\\base.py\u001b[0m in \u001b[0;36m__init__\u001b[1;34m(self, lang)\u001b[0m\n\u001b[0;32m    102\u001b[0m       \u001b[0mlang\u001b[0m\u001b[1;33m:\u001b[0m \u001b[0mlanguage\u001b[0m \u001b[0mcode\u001b[0m \u001b[0mto\u001b[0m \u001b[0mdecide\u001b[0m \u001b[0mwhich\u001b[0m \u001b[0mchunker\u001b[0m \u001b[0mto\u001b[0m \u001b[0muse\u001b[0m\u001b[1;33m.\u001b[0m\u001b[1;33m\u001b[0m\u001b[1;33m\u001b[0m\u001b[0m\n\u001b[0;32m    103\u001b[0m     \"\"\"\n\u001b[1;32m--> 104\u001b[1;33m     \u001b[0msuper\u001b[0m\u001b[1;33m(\u001b[0m\u001b[0mNEChunker\u001b[0m\u001b[1;33m,\u001b[0m \u001b[0mself\u001b[0m\u001b[1;33m)\u001b[0m\u001b[1;33m.\u001b[0m\u001b[0m__init__\u001b[0m\u001b[1;33m(\u001b[0m\u001b[0mlang\u001b[0m\u001b[1;33m=\u001b[0m\u001b[0mlang\u001b[0m\u001b[1;33m)\u001b[0m\u001b[1;33m\u001b[0m\u001b[1;33m\u001b[0m\u001b[0m\n\u001b[0m\u001b[0;32m    105\u001b[0m     \u001b[0mself\u001b[0m\u001b[1;33m.\u001b[0m\u001b[0mID_TAG\u001b[0m \u001b[1;33m=\u001b[0m \u001b[0mNER_ID_TAG\u001b[0m\u001b[1;33m\u001b[0m\u001b[1;33m\u001b[0m\u001b[0m\n\u001b[0;32m    106\u001b[0m \u001b[1;33m\u001b[0m\u001b[0m\n",
      "\u001b[1;32m~\\anaconda3\\lib\\site-packages\\polyglot\\tag\\base.py\u001b[0m in \u001b[0;36m__init__\u001b[1;34m(self, lang)\u001b[0m\n\u001b[0;32m     38\u001b[0m     \"\"\"\n\u001b[0;32m     39\u001b[0m     \u001b[0mself\u001b[0m\u001b[1;33m.\u001b[0m\u001b[0mlang\u001b[0m \u001b[1;33m=\u001b[0m \u001b[0mlang\u001b[0m\u001b[1;33m\u001b[0m\u001b[1;33m\u001b[0m\u001b[0m\n\u001b[1;32m---> 40\u001b[1;33m     \u001b[0mself\u001b[0m\u001b[1;33m.\u001b[0m\u001b[0mpredictor\u001b[0m \u001b[1;33m=\u001b[0m \u001b[0mself\u001b[0m\u001b[1;33m.\u001b[0m\u001b[0m_load_network\u001b[0m\u001b[1;33m(\u001b[0m\u001b[1;33m)\u001b[0m\u001b[1;33m\u001b[0m\u001b[1;33m\u001b[0m\u001b[0m\n\u001b[0m\u001b[0;32m     41\u001b[0m     \u001b[0mself\u001b[0m\u001b[1;33m.\u001b[0m\u001b[0mID_TAG\u001b[0m \u001b[1;33m=\u001b[0m \u001b[1;33m{\u001b[0m\u001b[1;33m}\u001b[0m\u001b[1;33m\u001b[0m\u001b[1;33m\u001b[0m\u001b[0m\n\u001b[0;32m     42\u001b[0m     \u001b[0mself\u001b[0m\u001b[1;33m.\u001b[0m\u001b[0madd_bias\u001b[0m \u001b[1;33m=\u001b[0m \u001b[1;32mTrue\u001b[0m\u001b[1;33m\u001b[0m\u001b[1;33m\u001b[0m\u001b[0m\n",
      "\u001b[1;32m~\\anaconda3\\lib\\site-packages\\polyglot\\tag\\base.py\u001b[0m in \u001b[0;36m_load_network\u001b[1;34m(self)\u001b[0m\n\u001b[0;32m    107\u001b[0m   \u001b[1;32mdef\u001b[0m \u001b[0m_load_network\u001b[0m\u001b[1;33m(\u001b[0m\u001b[0mself\u001b[0m\u001b[1;33m)\u001b[0m\u001b[1;33m:\u001b[0m\u001b[1;33m\u001b[0m\u001b[1;33m\u001b[0m\u001b[0m\n\u001b[0;32m    108\u001b[0m     \u001b[1;34m\"\"\" Building the predictor out of the model.\"\"\"\u001b[0m\u001b[1;33m\u001b[0m\u001b[1;33m\u001b[0m\u001b[0m\n\u001b[1;32m--> 109\u001b[1;33m     \u001b[0mself\u001b[0m\u001b[1;33m.\u001b[0m\u001b[0membeddings\u001b[0m \u001b[1;33m=\u001b[0m \u001b[0mload_embeddings\u001b[0m\u001b[1;33m(\u001b[0m\u001b[0mself\u001b[0m\u001b[1;33m.\u001b[0m\u001b[0mlang\u001b[0m\u001b[1;33m,\u001b[0m \u001b[0mtype\u001b[0m\u001b[1;33m=\u001b[0m\u001b[1;34m'cw'\u001b[0m\u001b[1;33m,\u001b[0m \u001b[0mnormalize\u001b[0m\u001b[1;33m=\u001b[0m\u001b[1;32mTrue\u001b[0m\u001b[1;33m)\u001b[0m\u001b[1;33m\u001b[0m\u001b[1;33m\u001b[0m\u001b[0m\n\u001b[0m\u001b[0;32m    110\u001b[0m     \u001b[0mself\u001b[0m\u001b[1;33m.\u001b[0m\u001b[0mmodel\u001b[0m \u001b[1;33m=\u001b[0m \u001b[0mload_ner_model\u001b[0m\u001b[1;33m(\u001b[0m\u001b[0mlang\u001b[0m\u001b[1;33m=\u001b[0m\u001b[0mself\u001b[0m\u001b[1;33m.\u001b[0m\u001b[0mlang\u001b[0m\u001b[1;33m,\u001b[0m \u001b[0mversion\u001b[0m\u001b[1;33m=\u001b[0m\u001b[1;36m2\u001b[0m\u001b[1;33m)\u001b[0m\u001b[1;33m\u001b[0m\u001b[1;33m\u001b[0m\u001b[0m\n\u001b[0;32m    111\u001b[0m     \u001b[0mfirst_layer\u001b[0m\u001b[1;33m,\u001b[0m \u001b[0msecond_layer\u001b[0m \u001b[1;33m=\u001b[0m \u001b[0mself\u001b[0m\u001b[1;33m.\u001b[0m\u001b[0mmodel\u001b[0m\u001b[1;33m\u001b[0m\u001b[1;33m\u001b[0m\u001b[0m\n",
      "\u001b[1;32m~\\anaconda3\\lib\\site-packages\\polyglot\\decorators.py\u001b[0m in \u001b[0;36mmemoizer\u001b[1;34m(*args, **kwargs)\u001b[0m\n\u001b[0;32m     28\u001b[0m     \u001b[0mkey\u001b[0m \u001b[1;33m=\u001b[0m \u001b[0mtuple\u001b[0m\u001b[1;33m(\u001b[0m\u001b[0mlist\u001b[0m\u001b[1;33m(\u001b[0m\u001b[0margs\u001b[0m\u001b[1;33m)\u001b[0m \u001b[1;33m+\u001b[0m \u001b[0msorted\u001b[0m\u001b[1;33m(\u001b[0m\u001b[0mkwargs\u001b[0m\u001b[1;33m.\u001b[0m\u001b[0mitems\u001b[0m\u001b[1;33m(\u001b[0m\u001b[1;33m)\u001b[0m\u001b[1;33m)\u001b[0m\u001b[1;33m)\u001b[0m\u001b[1;33m\u001b[0m\u001b[1;33m\u001b[0m\u001b[0m\n\u001b[0;32m     29\u001b[0m     \u001b[1;32mif\u001b[0m \u001b[0mkey\u001b[0m \u001b[1;32mnot\u001b[0m \u001b[1;32min\u001b[0m \u001b[0mcache\u001b[0m\u001b[1;33m:\u001b[0m\u001b[1;33m\u001b[0m\u001b[1;33m\u001b[0m\u001b[0m\n\u001b[1;32m---> 30\u001b[1;33m       \u001b[0mcache\u001b[0m\u001b[1;33m[\u001b[0m\u001b[0mkey\u001b[0m\u001b[1;33m]\u001b[0m \u001b[1;33m=\u001b[0m \u001b[0mobj\u001b[0m\u001b[1;33m(\u001b[0m\u001b[1;33m*\u001b[0m\u001b[0margs\u001b[0m\u001b[1;33m,\u001b[0m \u001b[1;33m**\u001b[0m\u001b[0mkwargs\u001b[0m\u001b[1;33m)\u001b[0m\u001b[1;33m\u001b[0m\u001b[1;33m\u001b[0m\u001b[0m\n\u001b[0m\u001b[0;32m     31\u001b[0m     \u001b[1;32mreturn\u001b[0m \u001b[0mcache\u001b[0m\u001b[1;33m[\u001b[0m\u001b[0mkey\u001b[0m\u001b[1;33m]\u001b[0m\u001b[1;33m\u001b[0m\u001b[1;33m\u001b[0m\u001b[0m\n\u001b[0;32m     32\u001b[0m   \u001b[1;32mreturn\u001b[0m \u001b[0mmemoizer\u001b[0m\u001b[1;33m\u001b[0m\u001b[1;33m\u001b[0m\u001b[0m\n",
      "\u001b[1;32m~\\anaconda3\\lib\\site-packages\\polyglot\\load.py\u001b[0m in \u001b[0;36mload_embeddings\u001b[1;34m(lang, task, type, normalize)\u001b[0m\n\u001b[0;32m     59\u001b[0m   \"\"\"\n\u001b[0;32m     60\u001b[0m   \u001b[0msrc_dir\u001b[0m \u001b[1;33m=\u001b[0m \u001b[1;34m\"_\"\u001b[0m\u001b[1;33m.\u001b[0m\u001b[0mjoin\u001b[0m\u001b[1;33m(\u001b[0m\u001b[1;33m(\u001b[0m\u001b[0mtype\u001b[0m\u001b[1;33m,\u001b[0m \u001b[0mtask\u001b[0m\u001b[1;33m)\u001b[0m\u001b[1;33m)\u001b[0m \u001b[1;32mif\u001b[0m \u001b[0mtype\u001b[0m \u001b[1;32melse\u001b[0m \u001b[0mtask\u001b[0m\u001b[1;33m\u001b[0m\u001b[1;33m\u001b[0m\u001b[0m\n\u001b[1;32m---> 61\u001b[1;33m   \u001b[0mp\u001b[0m \u001b[1;33m=\u001b[0m \u001b[0mlocate_resource\u001b[0m\u001b[1;33m(\u001b[0m\u001b[0msrc_dir\u001b[0m\u001b[1;33m,\u001b[0m \u001b[0mlang\u001b[0m\u001b[1;33m)\u001b[0m\u001b[1;33m\u001b[0m\u001b[1;33m\u001b[0m\u001b[0m\n\u001b[0m\u001b[0;32m     62\u001b[0m   \u001b[0me\u001b[0m \u001b[1;33m=\u001b[0m \u001b[0mEmbedding\u001b[0m\u001b[1;33m.\u001b[0m\u001b[0mload\u001b[0m\u001b[1;33m(\u001b[0m\u001b[0mp\u001b[0m\u001b[1;33m)\u001b[0m\u001b[1;33m\u001b[0m\u001b[1;33m\u001b[0m\u001b[0m\n\u001b[0;32m     63\u001b[0m   \u001b[1;32mif\u001b[0m \u001b[0mtype\u001b[0m \u001b[1;33m==\u001b[0m \u001b[1;34m\"cw\"\u001b[0m\u001b[1;33m:\u001b[0m\u001b[1;33m\u001b[0m\u001b[1;33m\u001b[0m\u001b[0m\n",
      "\u001b[1;32m~\\anaconda3\\lib\\site-packages\\polyglot\\load.py\u001b[0m in \u001b[0;36mlocate_resource\u001b[1;34m(name, lang, filter)\u001b[0m\n\u001b[0;32m     41\u001b[0m   \u001b[0mp\u001b[0m \u001b[1;33m=\u001b[0m \u001b[0mpath\u001b[0m\u001b[1;33m.\u001b[0m\u001b[0mjoin\u001b[0m\u001b[1;33m(\u001b[0m\u001b[0mpolyglot_path\u001b[0m\u001b[1;33m,\u001b[0m \u001b[0mtask_dir\u001b[0m\u001b[1;33m,\u001b[0m \u001b[0mlang\u001b[0m\u001b[1;33m)\u001b[0m\u001b[1;33m\u001b[0m\u001b[1;33m\u001b[0m\u001b[0m\n\u001b[0;32m     42\u001b[0m   \u001b[1;32mif\u001b[0m \u001b[1;32mnot\u001b[0m \u001b[0mpath\u001b[0m\u001b[1;33m.\u001b[0m\u001b[0misdir\u001b[0m\u001b[1;33m(\u001b[0m\u001b[0mp\u001b[0m\u001b[1;33m)\u001b[0m\u001b[1;33m:\u001b[0m\u001b[1;33m\u001b[0m\u001b[1;33m\u001b[0m\u001b[0m\n\u001b[1;32m---> 43\u001b[1;33m     \u001b[1;32mif\u001b[0m \u001b[0mdownloader\u001b[0m\u001b[1;33m.\u001b[0m\u001b[0mstatus\u001b[0m\u001b[1;33m(\u001b[0m\u001b[0mpackage_id\u001b[0m\u001b[1;33m)\u001b[0m \u001b[1;33m!=\u001b[0m \u001b[0mdownloader\u001b[0m\u001b[1;33m.\u001b[0m\u001b[0mINSTALLED\u001b[0m\u001b[1;33m:\u001b[0m\u001b[1;33m\u001b[0m\u001b[1;33m\u001b[0m\u001b[0m\n\u001b[0m\u001b[0;32m     44\u001b[0m       raise ValueError(\"This resource is available in the index \"\n\u001b[0;32m     45\u001b[0m                        \u001b[1;34m\"but not downloaded, yet. Try to run\\n\\n\"\u001b[0m\u001b[1;33m\u001b[0m\u001b[1;33m\u001b[0m\u001b[0m\n",
      "\u001b[1;32m~\\anaconda3\\lib\\site-packages\\polyglot\\downloader.py\u001b[0m in \u001b[0;36mstatus\u001b[1;34m(self, info_or_id, download_dir)\u001b[0m\n\u001b[0;32m    735\u001b[0m     \"\"\"\n\u001b[0;32m    736\u001b[0m     \u001b[1;32mif\u001b[0m \u001b[0mdownload_dir\u001b[0m \u001b[1;32mis\u001b[0m \u001b[1;32mNone\u001b[0m\u001b[1;33m:\u001b[0m \u001b[0mdownload_dir\u001b[0m \u001b[1;33m=\u001b[0m \u001b[0mself\u001b[0m\u001b[1;33m.\u001b[0m\u001b[0m_download_dir\u001b[0m\u001b[1;33m\u001b[0m\u001b[1;33m\u001b[0m\u001b[0m\n\u001b[1;32m--> 737\u001b[1;33m     \u001b[0minfo\u001b[0m \u001b[1;33m=\u001b[0m \u001b[0mself\u001b[0m\u001b[1;33m.\u001b[0m\u001b[0m_info_or_id\u001b[0m\u001b[1;33m(\u001b[0m\u001b[0minfo_or_id\u001b[0m\u001b[1;33m)\u001b[0m\u001b[1;33m\u001b[0m\u001b[1;33m\u001b[0m\u001b[0m\n\u001b[0m\u001b[0;32m    738\u001b[0m \u001b[1;33m\u001b[0m\u001b[0m\n\u001b[0;32m    739\u001b[0m     \u001b[1;31m# Handle collections:\u001b[0m\u001b[1;33m\u001b[0m\u001b[1;33m\u001b[0m\u001b[1;33m\u001b[0m\u001b[0m\n",
      "\u001b[1;32m~\\anaconda3\\lib\\site-packages\\polyglot\\downloader.py\u001b[0m in \u001b[0;36m_info_or_id\u001b[1;34m(self, info_or_id)\u001b[0m\n\u001b[0;32m    505\u001b[0m   \u001b[1;32mdef\u001b[0m \u001b[0m_info_or_id\u001b[0m\u001b[1;33m(\u001b[0m\u001b[0mself\u001b[0m\u001b[1;33m,\u001b[0m \u001b[0minfo_or_id\u001b[0m\u001b[1;33m)\u001b[0m\u001b[1;33m:\u001b[0m\u001b[1;33m\u001b[0m\u001b[1;33m\u001b[0m\u001b[0m\n\u001b[0;32m    506\u001b[0m     \u001b[1;32mif\u001b[0m \u001b[0misinstance\u001b[0m\u001b[1;33m(\u001b[0m\u001b[0minfo_or_id\u001b[0m\u001b[1;33m,\u001b[0m \u001b[0municode\u001b[0m\u001b[1;33m)\u001b[0m\u001b[1;33m:\u001b[0m\u001b[1;33m\u001b[0m\u001b[1;33m\u001b[0m\u001b[0m\n\u001b[1;32m--> 507\u001b[1;33m       \u001b[1;32mreturn\u001b[0m \u001b[0mself\u001b[0m\u001b[1;33m.\u001b[0m\u001b[0minfo\u001b[0m\u001b[1;33m(\u001b[0m\u001b[0minfo_or_id\u001b[0m\u001b[1;33m)\u001b[0m\u001b[1;33m\u001b[0m\u001b[1;33m\u001b[0m\u001b[0m\n\u001b[0m\u001b[0;32m    508\u001b[0m     \u001b[1;32melse\u001b[0m\u001b[1;33m:\u001b[0m\u001b[1;33m\u001b[0m\u001b[1;33m\u001b[0m\u001b[0m\n\u001b[0;32m    509\u001b[0m       \u001b[1;32mreturn\u001b[0m \u001b[0minfo_or_id\u001b[0m\u001b[1;33m\u001b[0m\u001b[1;33m\u001b[0m\u001b[0m\n",
      "\u001b[1;32m~\\anaconda3\\lib\\site-packages\\polyglot\\downloader.py\u001b[0m in \u001b[0;36minfo\u001b[1;34m(self, id)\u001b[0m\n\u001b[0;32m    927\u001b[0m     \u001b[1;32mif\u001b[0m \u001b[0mid\u001b[0m \u001b[1;32min\u001b[0m \u001b[0mself\u001b[0m\u001b[1;33m.\u001b[0m\u001b[0m_packages\u001b[0m\u001b[1;33m:\u001b[0m \u001b[1;32mreturn\u001b[0m \u001b[0mself\u001b[0m\u001b[1;33m.\u001b[0m\u001b[0m_packages\u001b[0m\u001b[1;33m[\u001b[0m\u001b[0mid\u001b[0m\u001b[1;33m]\u001b[0m\u001b[1;33m\u001b[0m\u001b[1;33m\u001b[0m\u001b[0m\n\u001b[0;32m    928\u001b[0m     \u001b[1;32mif\u001b[0m \u001b[0mid\u001b[0m \u001b[1;32min\u001b[0m \u001b[0mself\u001b[0m\u001b[1;33m.\u001b[0m\u001b[0m_collections\u001b[0m\u001b[1;33m:\u001b[0m \u001b[1;32mreturn\u001b[0m \u001b[0mself\u001b[0m\u001b[1;33m.\u001b[0m\u001b[0m_collections\u001b[0m\u001b[1;33m[\u001b[0m\u001b[0mid\u001b[0m\u001b[1;33m]\u001b[0m\u001b[1;33m\u001b[0m\u001b[1;33m\u001b[0m\u001b[0m\n\u001b[1;32m--> 929\u001b[1;33m     \u001b[0mself\u001b[0m\u001b[1;33m.\u001b[0m\u001b[0m_update_index\u001b[0m\u001b[1;33m(\u001b[0m\u001b[1;33m)\u001b[0m \u001b[1;31m# If package is not found, most probably we did not\u001b[0m\u001b[1;33m\u001b[0m\u001b[1;33m\u001b[0m\u001b[0m\n\u001b[0m\u001b[0;32m    930\u001b[0m                          \u001b[1;31m# warm up the cache\u001b[0m\u001b[1;33m\u001b[0m\u001b[1;33m\u001b[0m\u001b[1;33m\u001b[0m\u001b[0m\n\u001b[0;32m    931\u001b[0m     \u001b[1;32mif\u001b[0m \u001b[0mid\u001b[0m \u001b[1;32min\u001b[0m \u001b[0mself\u001b[0m\u001b[1;33m.\u001b[0m\u001b[0m_packages\u001b[0m\u001b[1;33m:\u001b[0m \u001b[1;32mreturn\u001b[0m \u001b[0mself\u001b[0m\u001b[1;33m.\u001b[0m\u001b[0m_packages\u001b[0m\u001b[1;33m[\u001b[0m\u001b[0mid\u001b[0m\u001b[1;33m]\u001b[0m\u001b[1;33m\u001b[0m\u001b[1;33m\u001b[0m\u001b[0m\n",
      "\u001b[1;32m~\\anaconda3\\lib\\site-packages\\polyglot\\downloader.py\u001b[0m in \u001b[0;36m_update_index\u001b[1;34m(self, url)\u001b[0m\n\u001b[0;32m    841\u001b[0m     \u001b[0mpackages\u001b[0m \u001b[1;33m=\u001b[0m \u001b[1;33m[\u001b[0m\u001b[1;33m]\u001b[0m\u001b[1;33m\u001b[0m\u001b[1;33m\u001b[0m\u001b[0m\n\u001b[0;32m    842\u001b[0m     \u001b[1;32mfor\u001b[0m \u001b[0mp\u001b[0m \u001b[1;32min\u001b[0m \u001b[0mobjs\u001b[0m\u001b[1;33m:\u001b[0m\u001b[1;33m\u001b[0m\u001b[1;33m\u001b[0m\u001b[0m\n\u001b[1;32m--> 843\u001b[1;33m       \u001b[0mP\u001b[0m \u001b[1;33m=\u001b[0m \u001b[0mPackage\u001b[0m\u001b[1;33m.\u001b[0m\u001b[0mfromcsobj\u001b[0m\u001b[1;33m(\u001b[0m\u001b[0mp\u001b[0m\u001b[1;33m)\u001b[0m\u001b[1;33m\u001b[0m\u001b[1;33m\u001b[0m\u001b[0m\n\u001b[0m\u001b[0;32m    844\u001b[0m       \u001b[0mpackages\u001b[0m\u001b[1;33m.\u001b[0m\u001b[0mappend\u001b[0m\u001b[1;33m(\u001b[0m\u001b[0mP\u001b[0m\u001b[1;33m)\u001b[0m\u001b[1;33m\u001b[0m\u001b[1;33m\u001b[0m\u001b[0m\n\u001b[0;32m    845\u001b[0m     \u001b[0mself\u001b[0m\u001b[1;33m.\u001b[0m\u001b[0m_packages\u001b[0m \u001b[1;33m=\u001b[0m \u001b[0mdict\u001b[0m\u001b[1;33m(\u001b[0m\u001b[1;33m(\u001b[0m\u001b[0mp\u001b[0m\u001b[1;33m.\u001b[0m\u001b[0mid\u001b[0m\u001b[1;33m,\u001b[0m \u001b[0mp\u001b[0m\u001b[1;33m)\u001b[0m \u001b[1;32mfor\u001b[0m \u001b[0mp\u001b[0m \u001b[1;32min\u001b[0m \u001b[0mpackages\u001b[0m\u001b[1;33m)\u001b[0m\u001b[1;33m\u001b[0m\u001b[1;33m\u001b[0m\u001b[0m\n",
      "\u001b[1;32m~\\anaconda3\\lib\\site-packages\\polyglot\\downloader.py\u001b[0m in \u001b[0;36mfromcsobj\u001b[1;34m(csobj)\u001b[0m\n\u001b[0;32m    214\u001b[0m     \u001b[0mfilename\u001b[0m \u001b[1;33m=\u001b[0m \u001b[0mattrs\u001b[0m\u001b[1;33m[\u001b[0m\u001b[1;34m\"name\"\u001b[0m\u001b[1;33m]\u001b[0m\u001b[1;33m\u001b[0m\u001b[1;33m\u001b[0m\u001b[0m\n\u001b[0;32m    215\u001b[0m     \u001b[0mtask\u001b[0m \u001b[1;33m=\u001b[0m \u001b[0msubdir\u001b[0m\u001b[1;33m.\u001b[0m\u001b[0msplit\u001b[0m\u001b[1;33m(\u001b[0m\u001b[0mpath\u001b[0m\u001b[1;33m.\u001b[0m\u001b[0msep\u001b[0m\u001b[1;33m)\u001b[0m\u001b[1;33m[\u001b[0m\u001b[1;36m0\u001b[0m\u001b[1;33m]\u001b[0m\u001b[1;33m\u001b[0m\u001b[1;33m\u001b[0m\u001b[0m\n\u001b[1;32m--> 216\u001b[1;33m     \u001b[0mlanguage\u001b[0m \u001b[1;33m=\u001b[0m \u001b[0msubdir\u001b[0m\u001b[1;33m.\u001b[0m\u001b[0msplit\u001b[0m\u001b[1;33m(\u001b[0m\u001b[0mpath\u001b[0m\u001b[1;33m.\u001b[0m\u001b[0msep\u001b[0m\u001b[1;33m)\u001b[0m\u001b[1;33m[\u001b[0m\u001b[1;36m1\u001b[0m\u001b[1;33m]\u001b[0m\u001b[1;33m\u001b[0m\u001b[1;33m\u001b[0m\u001b[0m\n\u001b[0m\u001b[0;32m    217\u001b[0m     \u001b[0mattrs\u001b[0m \u001b[1;33m=\u001b[0m \u001b[0mattrs\u001b[0m\u001b[1;33m\u001b[0m\u001b[1;33m\u001b[0m\u001b[0m\n\u001b[0;32m    218\u001b[0m     \u001b[1;32mreturn\u001b[0m \u001b[0mPackage\u001b[0m\u001b[1;33m(\u001b[0m\u001b[1;33m**\u001b[0m\u001b[0mlocals\u001b[0m\u001b[1;33m(\u001b[0m\u001b[1;33m)\u001b[0m\u001b[1;33m)\u001b[0m\u001b[1;33m\u001b[0m\u001b[1;33m\u001b[0m\u001b[0m\n",
      "\u001b[1;31mIndexError\u001b[0m: list index out of range"
     ]
    }
   ],
   "source": [
    "blob = \"\"\"The Israeli Prime Minister Benjamin Netanyahu has warned that Iran poses a \"threat to the entire world\".\"\"\"\n",
    "text = Text(blob)\n",
    "text.entities\n"
   ]
  },
  {
   "cell_type": "code",
   "execution_count": 1,
   "metadata": {},
   "outputs": [],
   "source": [
    "import regex as re\n",
    "import matplotlib.pyplot as plt\n",
    "\n",
    "holy_grail = \"\"\"ZOOT: Oh, you must see the doctors immediately!  No, no, please!  Lie down. [clap clap] \n",
    "PIGLET: Well, what seems to be the trouble?\n",
    "GALAHAD: They're doctors?!\n",
    "ZOOT: Uh, they have a basic medical training, yes.\n",
    "GALAHAD: B-- but--\n",
    "ZOOT: Oh, come, come.  You must try to rest.  Doctor Piglet!  Doctor Winston!  Practice your art.\n",
    "WINSTON: Try to relax.\n",
    "GALAHAD: Are you sure that's absolutely necessary?\n",
    "PIGLET: We must examine you.\n",
    "GALAHAD: There's nothing wrong with that!\n",
    "PIGLET: Please.  We are doctors.\n",
    "GALAHAD: Look!  This cannot be.  I am sworn to chastity.\n",
    "PIGLET: Back to your bed!  At once!\n",
    "GALAHAD: Torment me no longer.  I have seen the Grail!\n",
    "PIGLET: There's no grail here.\n",
    "GALAHAD: I have seen it!  I have seen it! [clank] I have seen--\n",
    "GIRLS: Hello.\n",
    "GALAHAD: Oh.\n",
    "GIRLS: Hello.  Hello.  Hello.  Hello.  Hello.  Hello.  Hello.  Hello.  Hello.  Hello.  Hello.  Hello.  Hello.  Hello.  Hello.  Hello.  Hello.  Hello.  Hello.  Hello.  Hello.  Hello.  Hello.\n",
    "GALAHAD: Zoot!\n",
    "DINGO: No, I am Zoot's identical twin sister, Dingo.\n",
    "GALAHAD: Oh, well, excuse me, I--\n",
    "DINGO: Where are you going?\n",
    "GALAHAD: I seek the Grail!  I have seen it, here in this castle!\n",
    "DINGO: Oh no.  Oh, no!  Bad, bad Zoot!\n",
    "GALAHAD: Well, what is it?\n",
    "DINGO: Oh, wicked, bad, naughty Zoot!  She has been setting alight to our beacon, which, I have just remembered, is grail-shaped.  It's not the first time we've had this problem.\n",
    "GALAHAD: It's not the real Grail?\n",
    "DINGO: Oh, wicked, bad, naughty, evil Zoot!  She is a bad person and must pay the penalty.  Do you think this scene should have been cut?  We were so worried when the boys were writing it, but now, we're glad.  It's better than some of the previous scenes, I think.\n",
    "LEFT HEAD: At least ours was better visually.\n",
    "DENNIS: Well, at least ours was committed.  It wasn't just a string of pussy jokes.\n",
    "OLD MAN: Get on with it.\n",
    "TIM THE ENCHANTER: Yes, get on with it!\n",
    "ARMY OF KNIGHTS: Yes, get on with it!\n",
    "DINGO: Oh, I am enjoying this scene.\n",
    "GOD: Get on with it!\n",
    "DINGO: [sigh] Oh, wicked, wicked Zoot.  Oh, she is a naughty person, and she must pay the penalty.  And here in Castle Anthrax, we have but one punishment for setting alight the grail-shaped beacon.  You must tie her down on a bed and spank her.\n",
    "GIRLS: A spanking!  A spanking!\n",
    "DINGO: You must spank her well.  And after you have spanked her, you may deal with her as you like.  And then, spank me.\n",
    "AMAZING: And spank me.\n",
    "STUNNER: And me.\n",
    "LOVELY: And me.\n",
    "DINGO: Yes, yes, you must give us all a good spanking!\n",
    "GIRLS: A spanking!  A spanking!  There is going to be a spanking tonight!\n",
    "DINGO: And after the spanking, the oral sex.\n",
    "GIRLS: The oral sex!  The oral sex!\n",
    "GALAHAD: Well, I could stay a bit longer.\n",
    "LAUNCELOT: Sir Galahad!\n",
    "GALAHAD: Oh, hello.\n",
    "LAUNCELOT: Quick!\n",
    "GALAHAD: What?\n",
    "LAUNCELOT: Quick!\n",
    "GALAHAD: Why?\n",
    "LAUNCELOT: You are in great peril!\n",
    "DINGO: No he isn't.\n",
    "LAUNCELOT: Silence, foul temptress!\n",
    "GALAHAD: You know, she's got a point.\n",
    "LAUNCELOT: Come on!  We will cover your escape!\n",
    "GALAHAD: Look, I'm fine!\n",
    "LAUNCELOT: Come on!\n",
    "GIRLS: Sir Galahad!\n",
    "GALAHAD: No.  Look, I can tackle this lot single-handed!\n",
    "DINGO: Yes!  Let him tackle us single-handed!\n",
    "GIRLS: Yes!  Let him tackle us single-handed!\n",
    "LAUNCELOT: No, Sir Galahad.  Come on!\n",
    "GALAHAD: No!  Really!  Honestly, I can cope.  I can handle this lot easily.\n",
    "DINGO: Oh, yes.  Let him handle us easily.\n",
    "GIRLS: Yes.  Let him handle us easily.\n",
    "LAUNCELOT: No.  Quick!  Quick!\n",
    "GALAHAD: Please!  I can defeat them!  There's only a hundred-and-fifty of them!\n",
    "DINGO: Yes, yes!  He will beat us easily!  We haven't a chance.\n",
    "GIRLS: We haven't a chance.  He will beat us easily... [boom] \n",
    "DINGO: Oh, shit.\n",
    "LAUNCELOT: We were in the nick of time.  You were in great peril.\n",
    "GALAHAD: I don't think I was.\n",
    "LAUNCELOT: Yes you were.  You were in terrible peril.\n",
    "GALAHAD: Look, let me go back in there and face the peril.\n",
    "LAUNCELOT: No, it's too perilous.\n",
    "GALAHAD: Look, it's my duty as a knight to sample as much peril as I can.\n",
    "LAUNCELOT: No, we've got to find the Holy Grail.  Come on!\n",
    "GALAHAD: Oh, let me have just a little bit of peril?\n",
    "LAUNCELOT: No.  It's unhealthy.\n",
    "GALAHAD: I bet you're gay.\n",
    "LAUNCELOT: No I'm not\n",
    "NARRATOR: Sir Launcelot had saved Sir Galahad from almost certain temptation, but they were still no nearer the Grail.  Meanwhile, King Arthur and Sir Bedevere, not more than a swallow's flight away, had discovered something.  Oh, that's an unladen swallow's flight, obviously.  I mean, they were more than two laden swallows' flights away-- four, really, if they had a coconut on a line between them.  I mean, if the birds were walking and dragging--\n",
    "CROWD: Get on with it!\n",
    "NARRATOR: Oh, anyway.  On to scene twenty-four, which is a smashing scene with some lovely acting, in which Arthur discovers a vital clue, and in which there aren't any swallows, although I think you can hear a starling-- oooh\n",
    "SCENE 12:\n",
    "OLD MAN: Heh, hee ha ha hee hee!  Hee hee hee ha ha ha...\n",
    "ARTHUR: And this enchanter of whom you speak, he has seen the Grail?\n",
    "OLD MAN: ... Ha ha ha ha!  Heh, hee ha ha hee!  Ha hee ha!  Ha ha ha ha...\n",
    "ARTHUR: Where does he live?\n",
    "OLD MAN: ... Heh heh heh heh...\n",
    "ARTHUR: Old man, where does he live?\n",
    "OLD MAN: ... Hee ha ha ha.  He knows of a cave, a cave which no man has entered.\n",
    "ARTHUR: And the Grail.  The Grail is there?\n",
    "OLD MAN: There is much danger, for beyond the cave lies the Gorge of Eternal Peril, which no man has ever crossed.\n",
    "ARTHUR: But the Grail!  Where is the Grail?!\n",
    "OLD MAN: Seek you the Bridge of Death.\n",
    "ARTHUR: The Bridge of Death, which leads to the Grail?\n",
    "OLD MAN: Heh, hee hee hee hee!  Ha ha ha ha ha!  Hee ha ha..\n",
    "SCENE 13: [spooky music] [music stops] \n",
    "HEAD KNIGHT OF NI: Ni!\n",
    "KNIGHTS OF NI: Ni!  Ni!  Ni!  Ni!  Ni!\n",
    "ARTHUR: Who are you?\n",
    "HEAD KNIGHT: We are the Knights Who Say...  'Ni'!\n",
    "RANDOM: Ni!\n",
    "ARTHUR: No!  Not the Knights Who Say 'Ni'!\n",
    "HEAD KNIGHT: The same!\n",
    "BEDEVERE: Who are they?\n",
    "HEAD KNIGHT: We are the keepers of the sacred words: Ni, Peng, and Neee-wom!\n",
    "RANDOM: Neee-wom!\n",
    "ARTHUR: Those who hear them seldom live to tell the tale!\n",
    "HEAD KNIGHT: The Knights Who Say 'Ni' demand a sacrifice!\n",
    "ARTHUR: Knights of Ni, we are but simple travellers who seek the enchanter who lives beyond these woods.\n",
    "HEAD KNIGHT: Ni!\n",
    "KNIGHTS OF NI: Ni!  Ni!  Ni!  Ni!  Ni! ...\n",
    "ARTHUR: Ow!  Ow!  Ow!  Agh!\n",
    "HEAD KNIGHT: We shall say 'ni' again to you if you do not appease us.\n",
    "ARTHUR: Well, what is it you want?\n",
    "HEAD KNIGHT: We want...  a shrubbery! [dramatic chord] \n",
    "ARTHUR: A what?\n",
    "KNIGHTS OF NI: Ni!  Ni!  Ni!  Ni!\n",
    "ARTHUR and PARTY: Ow!  Oh!\n",
    "ARTHUR: Please, please!  No more!  We will find you a shrubbery.\n",
    "HEAD KNIGHT: You must return here with a shrubbery or else you will never pass through this wood alive!\n",
    "ARTHUR: O Knights of Ni, you are just and fair, and we will return with a shrubbery.\n",
    "HEAD KNIGHT: One that looks nice.\n",
    "ARTHUR: Of course.\n",
    "HEAD KNIGHT: And not too expensive.\n",
    "ARTHUR: Yes.\n",
    "HEAD KNIGHT: Now...  go [trumpets] \"\"\"\n"
   ]
  },
  {
   "cell_type": "code",
   "execution_count": 2,
   "metadata": {
    "scrolled": true
   },
   "outputs": [
    {
     "data": {
      "text/plain": [
       "['immediately!',\n",
       " 'please!',\n",
       " '!',\n",
       " 'Piglet!',\n",
       " 'Winston!',\n",
       " 'that!',\n",
       " 'Look!',\n",
       " 'bed!',\n",
       " 'once!',\n",
       " 'Grail!',\n",
       " 'it!',\n",
       " 'it!',\n",
       " 'Zoot!',\n",
       " 'Grail!',\n",
       " 'castle!',\n",
       " 'no!',\n",
       " 'Zoot!',\n",
       " 'Zoot!',\n",
       " 'Zoot!',\n",
       " 'it!',\n",
       " 'it!',\n",
       " 'it!',\n",
       " 'spanking!',\n",
       " 'spanking!',\n",
       " 'spanking!',\n",
       " 'spanking!',\n",
       " 'spanking!',\n",
       " 'tonight!',\n",
       " 'sex!',\n",
       " 'sex!',\n",
       " 'Galahad!',\n",
       " 'Quick!',\n",
       " 'Quick!',\n",
       " 'peril!',\n",
       " 'temptress!',\n",
       " 'on!',\n",
       " 'escape!',\n",
       " 'fine!',\n",
       " 'on!',\n",
       " 'Galahad!',\n",
       " 'handed!',\n",
       " 'Yes!',\n",
       " 'handed!',\n",
       " 'Yes!',\n",
       " 'handed!',\n",
       " 'on!',\n",
       " 'No!',\n",
       " 'Really!',\n",
       " 'Quick!',\n",
       " 'Quick!',\n",
       " 'Please!',\n",
       " 'them!',\n",
       " 'them!',\n",
       " 'yes!',\n",
       " 'easily!',\n",
       " 'on!',\n",
       " 'it!',\n",
       " 'hee!',\n",
       " 'ha!',\n",
       " 'hee!',\n",
       " 'ha!',\n",
       " 'Grail!',\n",
       " '!',\n",
       " 'hee!',\n",
       " 'ha!',\n",
       " 'Ni!',\n",
       " 'Ni!',\n",
       " 'Ni!',\n",
       " 'Ni!',\n",
       " 'Ni!',\n",
       " 'Ni!',\n",
       " '!',\n",
       " 'Ni!',\n",
       " 'No!',\n",
       " '!',\n",
       " 'same!',\n",
       " 'wom!',\n",
       " 'wom!',\n",
       " 'tale!',\n",
       " 'sacrifice!',\n",
       " 'Ni!',\n",
       " 'Ni!',\n",
       " 'Ni!',\n",
       " 'Ni!',\n",
       " 'Ni!',\n",
       " 'Ni!',\n",
       " 'Ow!',\n",
       " 'Ow!',\n",
       " 'Ow!',\n",
       " 'Agh!',\n",
       " 'shrubbery!',\n",
       " 'Ni!',\n",
       " 'Ni!',\n",
       " 'Ni!',\n",
       " 'Ni!',\n",
       " 'Ow!',\n",
       " 'Oh!',\n",
       " 'please!',\n",
       " 'more!',\n",
       " 'alive!']"
      ]
     },
     "execution_count": 2,
     "metadata": {},
     "output_type": "execute_result"
    }
   ],
   "source": [
    "import re\n",
    "\n",
    "res = re.findall(r'\\w*!', holy_grail)\n",
    "res"
   ]
  },
  {
   "cell_type": "code",
   "execution_count": 68,
   "metadata": {},
   "outputs": [
    {
     "data": {
      "text/plain": [
       "['ZOOT:',\n",
       " 'PIGLET:',\n",
       " 'GALAHAD:',\n",
       " 'ZOOT:',\n",
       " 'GALAHAD:',\n",
       " 'ZOOT:',\n",
       " 'WINSTON:',\n",
       " 'GALAHAD:',\n",
       " 'PIGLET:',\n",
       " 'GALAHAD:',\n",
       " 'PIGLET:',\n",
       " 'GALAHAD:',\n",
       " 'PIGLET:',\n",
       " 'GALAHAD:',\n",
       " 'PIGLET:',\n",
       " 'GALAHAD:',\n",
       " 'GIRLS:',\n",
       " 'GALAHAD:',\n",
       " 'GIRLS:',\n",
       " 'GALAHAD:',\n",
       " 'DINGO:',\n",
       " 'GALAHAD:',\n",
       " 'DINGO:',\n",
       " 'GALAHAD:',\n",
       " 'DINGO:',\n",
       " 'GALAHAD:',\n",
       " 'DINGO:',\n",
       " 'GALAHAD:',\n",
       " 'DINGO:',\n",
       " 'HEAD:',\n",
       " 'DENNIS:',\n",
       " 'MAN:',\n",
       " 'ENCHANTER:',\n",
       " 'KNIGHTS:',\n",
       " 'DINGO:',\n",
       " 'GOD:',\n",
       " 'DINGO:',\n",
       " 'GIRLS:',\n",
       " 'DINGO:',\n",
       " 'AMAZING:',\n",
       " 'STUNNER:',\n",
       " 'LOVELY:',\n",
       " 'DINGO:',\n",
       " 'GIRLS:',\n",
       " 'DINGO:',\n",
       " 'GIRLS:',\n",
       " 'GALAHAD:',\n",
       " 'LAUNCELOT:',\n",
       " 'GALAHAD:',\n",
       " 'LAUNCELOT:',\n",
       " 'GALAHAD:',\n",
       " 'LAUNCELOT:',\n",
       " 'GALAHAD:',\n",
       " 'LAUNCELOT:',\n",
       " 'DINGO:',\n",
       " 'LAUNCELOT:',\n",
       " 'GALAHAD:',\n",
       " 'LAUNCELOT:',\n",
       " 'GALAHAD:',\n",
       " 'LAUNCELOT:',\n",
       " 'GIRLS:',\n",
       " 'GALAHAD:',\n",
       " 'DINGO:',\n",
       " 'GIRLS:',\n",
       " 'LAUNCELOT:',\n",
       " 'GALAHAD:',\n",
       " 'DINGO:',\n",
       " 'GIRLS:',\n",
       " 'LAUNCELOT:',\n",
       " 'GALAHAD:',\n",
       " 'DINGO:',\n",
       " 'GIRLS:',\n",
       " 'DINGO:',\n",
       " 'LAUNCELOT:',\n",
       " 'GALAHAD:',\n",
       " 'LAUNCELOT:',\n",
       " 'GALAHAD:',\n",
       " 'LAUNCELOT:',\n",
       " 'GALAHAD:',\n",
       " 'LAUNCELOT:',\n",
       " 'GALAHAD:',\n",
       " 'LAUNCELOT:',\n",
       " 'GALAHAD:',\n",
       " 'LAUNCELOT:',\n",
       " 'NARRATOR:',\n",
       " 'CROWD:',\n",
       " 'NARRATOR:',\n",
       " '12:',\n",
       " 'MAN:',\n",
       " 'ARTHUR:',\n",
       " 'MAN:',\n",
       " 'ARTHUR:',\n",
       " 'MAN:',\n",
       " 'ARTHUR:',\n",
       " 'MAN:',\n",
       " 'ARTHUR:',\n",
       " 'MAN:',\n",
       " 'ARTHUR:',\n",
       " 'MAN:',\n",
       " 'ARTHUR:',\n",
       " 'MAN:',\n",
       " '13:',\n",
       " 'NI:',\n",
       " 'NI:',\n",
       " 'ARTHUR:',\n",
       " 'KNIGHT:',\n",
       " 'RANDOM:',\n",
       " 'ARTHUR:',\n",
       " 'KNIGHT:',\n",
       " 'BEDEVERE:',\n",
       " 'KNIGHT:',\n",
       " 'words:',\n",
       " 'RANDOM:',\n",
       " 'ARTHUR:',\n",
       " 'KNIGHT:',\n",
       " 'ARTHUR:',\n",
       " 'KNIGHT:',\n",
       " 'NI:',\n",
       " 'ARTHUR:',\n",
       " 'KNIGHT:',\n",
       " 'ARTHUR:',\n",
       " 'KNIGHT:',\n",
       " 'ARTHUR:',\n",
       " 'NI:',\n",
       " 'PARTY:',\n",
       " 'ARTHUR:',\n",
       " 'KNIGHT:',\n",
       " 'ARTHUR:',\n",
       " 'KNIGHT:',\n",
       " 'ARTHUR:',\n",
       " 'KNIGHT:',\n",
       " 'ARTHUR:',\n",
       " 'KNIGHT:']"
      ]
     },
     "execution_count": 68,
     "metadata": {},
     "output_type": "execute_result"
    }
   ],
   "source": [
    "\n",
    "      \n",
    "# using regex( findall() )\n",
    "# to extract words from string\n",
    "res = re.findall(r'\\w*:', holy_grail)\n",
    "res"
   ]
  },
  {
   "cell_type": "code",
   "execution_count": 75,
   "metadata": {
    "scrolled": true
   },
   "outputs": [
    {
     "name": "stdout",
     "output_type": "stream",
     "text": [
      "['12:' '13:' 'AMAZING:' 'ARTHUR:' 'BEDEVERE:' 'CROWD:' 'DENNIS:' 'DINGO:'\n",
      " 'ENCHANTER:' 'GALAHAD:' 'GIRLS:' 'GOD:' 'HEAD:' 'KNIGHT:' 'KNIGHTS:'\n",
      " 'LAUNCELOT:' 'LOVELY:' 'MAN:' 'NARRATOR:' 'NI:' 'PARTY:' 'PIGLET:'\n",
      " 'RANDOM:' 'STUNNER:' 'WINSTON:' 'ZOOT:' 'words:']\n"
     ]
    },
    {
     "data": {
      "text/plain": [
       "GALAHAD:      27\n",
       "ARTHUR:       17\n",
       "LAUNCELOT:    15\n",
       "DINGO:        15\n",
       "KNIGHT:       11\n",
       "GIRLS:         9\n",
       "MAN:           8\n",
       "PIGLET:        5\n",
       "NI:            4\n",
       "ZOOT:          3\n",
       "RANDOM:        2\n",
       "NARRATOR:      2\n",
       "CROWD:         1\n",
       "PARTY:         1\n",
       "ENCHANTER:     1\n",
       "12:            1\n",
       "AMAZING:       1\n",
       "words:         1\n",
       "BEDEVERE:      1\n",
       "STUNNER:       1\n",
       "HEAD:          1\n",
       "KNIGHTS:       1\n",
       "WINSTON:       1\n",
       "LOVELY:        1\n",
       "13:            1\n",
       "GOD:           1\n",
       "DENNIS:        1\n",
       "dtype: int64"
      ]
     },
     "execution_count": 75,
     "metadata": {},
     "output_type": "execute_result"
    }
   ],
   "source": [
    "import numpy as np\n",
    "import pandas as pd\n",
    " \n",
    "# function to get unique values\n",
    "\n",
    "x = np.array(res)\n",
    "print(np.unique(x))\n",
    "\n",
    "pd.value_counts(x)"
   ]
  },
  {
   "cell_type": "code",
   "execution_count": null,
   "metadata": {},
   "outputs": [],
   "source": []
  }
 ],
 "metadata": {
  "kernelspec": {
   "display_name": "Python 3",
   "language": "python",
   "name": "python3"
  },
  "language_info": {
   "codemirror_mode": {
    "name": "ipython",
    "version": 3
   },
   "file_extension": ".py",
   "mimetype": "text/x-python",
   "name": "python",
   "nbconvert_exporter": "python",
   "pygments_lexer": "ipython3",
   "version": "3.8.5"
  }
 },
 "nbformat": 4,
 "nbformat_minor": 2
}
